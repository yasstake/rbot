{
 "cells": [
  {
   "cell_type": "code",
   "execution_count": 8,
   "metadata": {},
   "outputs": [],
   "source": [
    "class MyAgent:\n",
    "    def __init__(self):\n",
    "        pass\n",
    "    \n",
    "    def on_clock(self):\n",
    "        pass\n",
    "    \n",
    "    def on_tick(self, session, side, price, size):\n",
    "        print(\"tick: \", session.current_time, side, price, size)\n",
    "        pass\n",
    "    \n",
    "    def on_update(self, session, updated_order):\n",
    "        pass\n",
    "    "
   ]
  },
  {
   "cell_type": "code",
   "execution_count": 5,
   "metadata": {},
   "outputs": [],
   "source": [
    "from rbot import Session\n",
    "from rbot import Runner\n",
    "from rbot import BinanceConfig\n",
    "from rbot import BinanceMarket\n",
    "\n",
    "\n"
   ]
  },
  {
   "cell_type": "code",
   "execution_count": 6,
   "metadata": {},
   "outputs": [],
   "source": [
    "market = BinanceMarket(BinanceConfig.TESTSPOT(\"BTCUSDT\"))"
   ]
  },
  {
   "cell_type": "code",
   "execution_count": 9,
   "metadata": {},
   "outputs": [],
   "source": [
    "agent = MyAgent()"
   ]
  },
  {
   "cell_type": "code",
   "execution_count": 10,
   "metadata": {},
   "outputs": [],
   "source": [
    "runner = Runner()"
   ]
  },
  {
   "cell_type": "code",
   "execution_count": 11,
   "metadata": {},
   "outputs": [
    {
     "name": "stdout",
     "output_type": "stream",
     "text": [
      "tick:  1695282040022146 Buy 1.0 1.0\n",
      "set currenttime to 1695282040022146\n",
      "tick:  1695282041026403 Buy 1.0 1.0\n",
      "set currenttime to 1695282041026403\n",
      "set currenttime to 1695282042029901\n",
      "tick:  1695282042029901 Buy 1.0 1.0\n",
      "set currenttime to 1695282043034389\n",
      "tick:  1695282043034389 Buy 1.0 1.0\n",
      "tick:  1695282044036476 Buy 1.0 1.0\n",
      "set currenttime to 1695282044036476\n",
      "set currenttime to 1695282045037369\n",
      "tick:  1695282045037369 Buy 1.0 1.0\n",
      "tick:  1695282046042333 Buy 1.0 1.0\n",
      "set currenttime to 1695282046042333\n",
      "tick:  1695282047043009 Buy 1.0 1.0\n",
      "set currenttime to 1695282047043009\n",
      "set currenttime to 1695282048046851\n",
      "tick:  1695282048046851 Buy 1.0 1.0\n",
      "tick: set currenttime to 1695282049049108\n",
      " 1695282049049108 Buy 1.0 1.0\n",
      "set currenttime to 1695282050052573\n",
      "tick:  1695282050052573 Buy 1.0 1.0\n",
      "tick:  1695282051057633 Buy 1.0 1.0\n",
      "set currenttime to 1695282051057633\n",
      "set currenttime to 1695282052062364\n",
      "tick:  1695282052062364 Buy 1.0 1.0\n",
      "set currenttime to 1695282053067443\n",
      "tick:  1695282053067443 Buy 1.0 1.0\n",
      "tick: set currenttime to 1695282054072500\n",
      " 1695282054072500 Buy 1.0 1.0\n",
      "set currenttime to 1695282055077564\n",
      "tick:  1695282055077564 Buy 1.0 1.0\n",
      "set currenttime to 1695282056081125\n",
      "tick:  1695282056081125 Buy 1.0 1.0\n",
      "set currenttime to 1695282057086209\n",
      "tick:  1695282057086209 Buy 1.0 1.0\n",
      "tick:  1695282058087392 Buy 1.0 1.0\n",
      "set currenttime to 1695282058087392\n",
      "set currenttime to 1695282059089910\n",
      "tick:  1695282059089910 Buy 1.0 1.0\n",
      "set currenttime to 1695282060094857\n",
      "tick:  1695282060094857 Buy 1.0 1.0\n",
      "set currenttime to 1695282061096273\n",
      "tick:  1695282061096273 Buy 1.0 1.0\n",
      "set currenttime to 1695282062100513\n",
      "tick:  1695282062100513 Buy 1.0 1.0\n",
      "tick:  1695282063105384 Buy 1.0 1.0\n",
      "set currenttime to 1695282063105384\n",
      "set currenttime to 1695282064107195\n",
      "tick:  1695282064107195 Buy 1.0 1.0\n",
      "set currenttime to 1695282065112251\n",
      "tick:  1695282065112251 Buy 1.0 1.0\n",
      "tick:  1695282066117306 Buy 1.0 1.0\n",
      "set currenttime to 1695282066117306\n",
      "set currenttime to 1695282067122359\n"
     ]
    },
    {
     "ename": "KeyboardInterrupt",
     "evalue": "",
     "output_type": "error",
     "traceback": [
      "\u001b[0;31m---------------------------------------------------------------------------\u001b[0m",
      "\u001b[0;31mKeyboardInterrupt\u001b[0m                         Traceback (most recent call last)",
      "\u001b[1;32m/Users/takeoyasukawa/Projects/rbot/src/test/null_agent.ipynb セル 6\u001b[0m line \u001b[0;36m1\n\u001b[0;32m----> <a href='vscode-notebook-cell:/Users/takeoyasukawa/Projects/rbot/src/test/null_agent.ipynb#W6sZmlsZQ%3D%3D?line=0'>1</a>\u001b[0m runner\u001b[39m.\u001b[39;49mrun(market,agent)\n",
      "\u001b[1;32m/Users/takeoyasukawa/Projects/rbot/src/test/null_agent.ipynb セル 6\u001b[0m line \u001b[0;36m8\n\u001b[1;32m      <a href='vscode-notebook-cell:/Users/takeoyasukawa/Projects/rbot/src/test/null_agent.ipynb#W6sZmlsZQ%3D%3D?line=4'>5</a>\u001b[0m \u001b[39mdef\u001b[39;00m \u001b[39mon_clock\u001b[39m(\u001b[39mself\u001b[39m):\n\u001b[1;32m      <a href='vscode-notebook-cell:/Users/takeoyasukawa/Projects/rbot/src/test/null_agent.ipynb#W6sZmlsZQ%3D%3D?line=5'>6</a>\u001b[0m     \u001b[39mpass\u001b[39;00m\n\u001b[0;32m----> <a href='vscode-notebook-cell:/Users/takeoyasukawa/Projects/rbot/src/test/null_agent.ipynb#W6sZmlsZQ%3D%3D?line=7'>8</a>\u001b[0m \u001b[39mdef\u001b[39;00m \u001b[39mon_tick\u001b[39m(\u001b[39mself\u001b[39m, session, side, price, size):\n\u001b[1;32m      <a href='vscode-notebook-cell:/Users/takeoyasukawa/Projects/rbot/src/test/null_agent.ipynb#W6sZmlsZQ%3D%3D?line=8'>9</a>\u001b[0m     \u001b[39mprint\u001b[39m(\u001b[39m\"\u001b[39m\u001b[39mtick: \u001b[39m\u001b[39m\"\u001b[39m, session\u001b[39m.\u001b[39mcurrent_time, side, price, size)\n\u001b[1;32m     <a href='vscode-notebook-cell:/Users/takeoyasukawa/Projects/rbot/src/test/null_agent.ipynb#W6sZmlsZQ%3D%3D?line=9'>10</a>\u001b[0m     \u001b[39mpass\u001b[39;00m\n",
      "\u001b[0;31mKeyboardInterrupt\u001b[0m: "
     ]
    }
   ],
   "source": [
    "runner.run(market,agent)"
   ]
  },
  {
   "cell_type": "code",
   "execution_count": null,
   "metadata": {},
   "outputs": [],
   "source": [
    "market.channel"
   ]
  },
  {
   "cell_type": "code",
   "execution_count": null,
   "metadata": {},
   "outputs": [],
   "source": [
    "config = BinanceConfig.BTCUSD()\n",
    "market = BinanceMarket(config)\n",
    "market.start()\n",
    "\n",
    "agent = Agent()\n",
    "\n",
    "session = LiveSession(market)\n",
    "\n",
    "runner = Runner(market.realtime_stream, session, agent)\n",
    "\n",
    "runner.run()\n",
    "runner.one_tick()\n",
    "\n"
   ]
  }
 ],
 "metadata": {
  "kernelspec": {
   "display_name": "Python 3",
   "language": "python",
   "name": "python3"
  },
  "language_info": {
   "codemirror_mode": {
    "name": "ipython",
    "version": 3
   },
   "file_extension": ".py",
   "mimetype": "text/x-python",
   "name": "python",
   "nbconvert_exporter": "python",
   "pygments_lexer": "ipython3",
   "version": "3.11.4"
  },
  "orig_nbformat": 4
 },
 "nbformat": 4,
 "nbformat_minor": 2
}
