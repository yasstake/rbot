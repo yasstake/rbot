{
 "cells": [
  {
   "cell_type": "markdown",
   "metadata": {},
   "source": [
    "# rusty-bot(rbot)　APIリファレンス\n",
    "\n",
    "\n",
    "* [session](./session.ipynb)\n",
    "* [logger](./logger.ipynb)\n",
    "* [time](./time.ipynb)\n",
    "* [binance_market(市況)](./binance_market.ipynb)\n",
    "* [binance_market(オーダ発行)](./binance_order.ipynb)\n"
   ]
  },
  {
   "cell_type": "code",
   "execution_count": null,
   "metadata": {},
   "outputs": [],
   "source": []
  }
 ],
 "metadata": {
  "language_info": {
   "name": "python"
  }
 },
 "nbformat": 4,
 "nbformat_minor": 2
}
