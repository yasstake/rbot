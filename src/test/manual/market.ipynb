{
 "cells": [
  {
   "cell_type": "markdown",
   "metadata": {
    "id": "0TnK82x56JuJ"
   },
   "source": [
    "<a target=\"_blank\" href=\"https://colab.research.google.com/github/yasstake/rusty-bot/blob/main/manual/market.ipynb\">\n",
    "  <img src=\"https://colab.research.google.com/assets/colab-badge.svg\" alt=\"Open In Colab\"/>\n",
    "</a>"
   ]
  },
  {
   "cell_type": "markdown",
   "metadata": {
    "id": "sbzlC06H6Fo1"
   },
   "source": [
    "# Market クラス解説\n",
    "\n",
    "Marketクラスは、取引所で扱われる通貨ペアーの１組合わせをモデリングしたクラスです。\n",
    "現在はBinanceの USDBUSDのSPOT取引しか扱えませんが、比較的容易に拡張できるようにつくっていますので順次拡張していきます。\n",
    "\n",
    "## Marketクラスメソッド\n",
    "\n",
    "### マーケットオブジェクトの生成(`open`)\n",
    "\n",
    "`open`メソッドでMaketオブジェクトを開きます。内部的にキャッシュされているので２回目からはキャッシュを返します。そのため複数回呼び出してOKです。\n",
    "\n",
    "今後SPOT以外にも対応した場合、パラメータが変更になる可能性があります。\n",
    "```\n",
    "binance = Market.open(\n",
    "    'BN',               # Binanceは 'BN'\n",
    "    'BTCBUSD'\n",
    ")\n",
    "```\n",
    "\n",
    "### データのダウンロード(`download`)\n",
    "\n",
    "指定した日付あらあとのデータをダウンロードしてDBへ保存します。\n",
    "BTCBUSDしか対応していないため効果はありませんが、`open`で開いたマーケットオブジェクト全てに対してダウンロード処理をします。\n",
    "\n",
    "```\n",
    "Market.download(\n",
    "    5   #ダウンロード日数（N日前を指定)\n",
    "    )\n",
    "```\n",
    "\n",
    "\n",
    "## Marketオブジェクトメソッド\n",
    "\n",
    "Marketインスタンスが`binance`オブジェクトに保存されている前提で説明します。\n",
    "\n",
    "###　情報表示　\n",
    "\n",
    "####　`_repr_html_()`\n",
    "\n",
    "jupyuter note上でオブジェクトを入力してリターンすると内部的に`_repr_html_()`がよばれて内容が分かりやすく表示されます。\n",
    "```\n",
    "binance\n",
    "```\n",
    "\n",
    "#### DBのパス表示 `file_path`\n",
    "\n",
    "DBは巨大になりますので、不要になったら`file_path`プロパティで表示される場所を確認して手動で消してください。\n",
    "\n",
    "```\n",
    "binance.file_name\n",
    "```\n",
    "\n",
    "### OHLCV取得（pd.DataFrame形式)\n",
    "\n",
    "時刻はμsで指定する。開始時刻に0を指定するとDBの最初から、終了に0を指定するとDBの最後まで（現在時刻に一番ちかいときまで）を指定したことになる。\n",
    "\n",
    "```\n",
    "binance.ohlcv(\n",
    "    start_timestamp_us,     #開始時刻（μs）\n",
    "    end_timestamp_us,       #終了時刻（μs)\n",
    "    60                      #足の幅（秒）\n",
    "    )\n",
    "```\n",
    "\n",
    "pd.DataFrame 形式でOHLCVデータが取得できます。この機能だけつかっても便利に使えます。\n",
    "なお、Tickデータから任意の足を再生成しているので初回キャッシュされていないときはかなり時間がかかります。\n",
    "\n",
    "\n"
   ]
  },
  {
   "cell_type": "markdown",
   "metadata": {
    "id": "j5DIZ9xF6GUp"
   },
   "source": []
  },
  {
   "cell_type": "markdown",
   "metadata": {
    "id": "t8_RD-ii6Fo3"
   },
   "source": [
    "## 以下動かしながら説明"
   ]
  },
  {
   "cell_type": "markdown",
   "metadata": {
    "id": "l39Rpt2h6am1"
   },
   "source": [
    "### Google Collab向けパッケージインストール"
   ]
  },
  {
   "cell_type": "code",
   "execution_count": null,
   "metadata": {
    "colab": {
     "base_uri": "https://localhost:8080/"
    },
    "id": "5fQpFfl06aEc",
    "outputId": "8d4f7f79-0420-43c1-c7dc-9c833f7c4558"
   },
   "outputs": [],
   "source": [
    "# Google Clab用です。必要に応じてコメントアウトしてください\n",
    "! pip install --upgrade pip\n",
    "! pip install numpy\n",
    "! pip install pandas\n",
    "! pip uninstall -y panel\n",
    "! pip install --upgrade bokeh >= 3\n",
    "\n",
    "# https://github.com/yasstake/rusty-bot/releases/\n",
    "# （環境にあわせて修正お願いします。404エラーが出た場合は新しいリリースになっているので上記URLを確認してください）\n",
    "# Linux/Google Collab用\n",
    "!  pip install https://github.com/yasstake/rusty-bot/releases/download/release-0.2.0a/rbot-0.2.0-cp38-cp38-manylinux_2_17_x86_64.manylinux2014_x86_64.whl\n"
   ]
  },
  {
   "cell_type": "markdown",
   "metadata": {
    "id": "lJJls8q66gDz"
   },
   "source": [
    "### 以後Marketライブラリの動作"
   ]
  },
  {
   "cell_type": "code",
   "execution_count": null,
   "metadata": {
    "id": "6oXmGbPA6Fo3"
   },
   "outputs": [],
   "source": [
    "# 必要ライブラリのimport\n",
    "import rbot\n",
    "from rbot import Market\n",
    "from rbot import DAYS_BEFORE"
   ]
  },
  {
   "cell_type": "code",
   "execution_count": null,
   "metadata": {
    "id": "DoD87dHY6Fo3"
   },
   "outputs": [],
   "source": [
    "# Binance('BN')の'BTCBUSD'ペアーの取引マーケットを生成\n",
    "binance = Market.open('BN', 'BTCBUSD')\n",
    "\n",
    "# 上記でオープンしたマーケットに対し5日より新しいログをダウンロード\n",
    "Market.download(5)\n",
    "\n",
    "# Market.download(5, True)       #ディフォルトではキャッシュされているので、再ダウンロードしたい場合は強制フラグをTrueにする。Collabでは１日あたり1分ぐらいかかります。"
   ]
  },
  {
   "cell_type": "code",
   "execution_count": null,
   "metadata": {
    "colab": {
     "base_uri": "https://localhost:8080/",
     "height": 139
    },
    "id": "XUgtpn8o6Fo4",
    "outputId": "4fac9442-b2af-4727-b930-4ee669991a2d"
   },
   "outputs": [],
   "source": [
    "# Marketオブジェクトが管理するDBに保存されているデータ期間を表示する。\n",
    "binance"
   ]
  },
  {
   "cell_type": "code",
   "execution_count": null,
   "metadata": {
    "colab": {
     "base_uri": "https://localhost:8080/",
     "height": 35
    },
    "id": "S4iW-C1v6Fo4",
    "outputId": "20175888-a47f-4b16-b49a-d7a963ae3a87"
   },
   "outputs": [],
   "source": [
    "# データベースのDisk上の場所を表示する。不要になったら手で消してください。\n",
    "\n",
    "binance.file_name"
   ]
  },
  {
   "cell_type": "markdown",
   "metadata": {
    "id": "JnN9omjp6Fo4"
   },
   "source": [
    "## OHLCVの取得"
   ]
  },
  {
   "cell_type": "code",
   "execution_count": null,
   "metadata": {
    "colab": {
     "base_uri": "https://localhost:8080/",
     "height": 455
    },
    "id": "CzyQj2lN6Fo4",
    "outputId": "70ee8ad1-4ab6-4f6a-fdad-540088ebd37f"
   },
   "outputs": [],
   "source": [
    "# 初回は遅いです。２回目はキャッシュされているので比較的高速です\n",
    "binance.ohlcv(\n",
    "    DAYS_BEFORE(5),     # 5日前から\n",
    "    0,                  # 最新まで\n",
    "    60*60\n",
    ")"
   ]
  },
  {
   "cell_type": "markdown",
   "metadata": {
    "id": "zJ32_Apr6Fo4"
   },
   "source": [
    "短めの足では任意のサイズの足が作れるので、このOHCLVだけを利用して独自の分析を行うにも便利だと思います。\n",
    "週足より長い足も作れますが、性能が出ないのとデータが揃わない点に問題があり実用できではないかもしれません。\n",
    "\n",
    "ご活用ください。"
   ]
  },
  {
   "attachments": {},
   "cell_type": "markdown",
   "metadata": {},
   "source": [
    "# おまけ\n",
    "\n",
    "## pandasで作ったDBを読み込む\n",
    "\n",
    "以下の方法でpythonのプログラムへSQLDBから直接データをロードできる。"
   ]
  },
  {
   "cell_type": "code",
   "execution_count": null,
   "metadata": {},
   "outputs": [],
   "source": [
    "import sqlite3\n",
    "import pandas as pd\n",
    "\n",
    "file = binance.file_name\n",
    "\n",
    "connection = sqlite3.connect(file)\n",
    "\n",
    "df = pd.read_sql_query('select * from trades order by time_stamp limit 10000000', connection)\n",
    "df['timestamp'] = pd.to_datetime(df['time_stamp'], unit='us')\n",
    "df = df.set_index('timestamp', drop=True)\n",
    "\n",
    "df = df.drop(columns='time_stamp')\n",
    "df"
   ]
  },
  {
   "attachments": {},
   "cell_type": "markdown",
   "metadata": {},
   "source": [
    "## ohlcを作る\n",
    "\n",
    "`resample`を使えば任意の足のohlcvが作れる。\n",
    "dfに入っているデータの最後は時間きっちりではなくて、件数指定でたまたま入ってきた切れ目なので未確定足になる。"
   ]
  },
  {
   "cell_type": "code",
   "execution_count": null,
   "metadata": {},
   "outputs": [],
   "source": [
    "ohlcv = df['price'].resample('60S').ohlc()\n",
    "ohlcv['volume'] = df['size'].resample('60S').sum()\n",
    "ohlcv\n"
   ]
  },
  {
   "attachments": {},
   "cell_type": "markdown",
   "metadata": {},
   "source": [
    "## rbot.Market.ohlcvとの比較\n",
    "\n",
    "同じ処理をする`Market.ohlcv`と比較する。"
   ]
  },
  {
   "cell_type": "code",
   "execution_count": null,
   "metadata": {},
   "outputs": [],
   "source": [
    "# 開始時刻\n",
    "start_time = ohlcv.index[0]\n",
    "start_time"
   ]
  },
  {
   "cell_type": "code",
   "execution_count": null,
   "metadata": {},
   "outputs": [],
   "source": [
    "# 終了時刻\n",
    "# ohldvの終了時刻は、最後の足の開始時刻のため１本前の足の終了時刻となる（この時間までで生成したohlcvは１本少なくなる）。\n",
    "end_time = ohlcv.index[-1]\n",
    "end_time"
   ]
  },
  {
   "cell_type": "code",
   "execution_count": null,
   "metadata": {},
   "outputs": [],
   "source": [
    "# pandasの時刻は'ns'なので1000分の１のusへ変換して表示\n",
    "ohlcv2 = binance.ohlcv(int(start_time.value/1000), int(end_time.value/1000), 60*60)\n",
    "ohlcv2"
   ]
  },
  {
   "attachments": {},
   "cell_type": "markdown",
   "metadata": {},
   "source": [
    "想定どおり１本足が少なくなったがデータは一致している"
   ]
  },
  {
   "attachments": {},
   "cell_type": "markdown",
   "metadata": {},
   "source": [
    "## 性能比較\n",
    "\n",
    "timeitを使って性能比較をする。"
   ]
  },
  {
   "cell_type": "code",
   "execution_count": null,
   "metadata": {},
   "outputs": [],
   "source": [
    "def panda_ohlcv():\n",
    "    ohlcv = df['price'].resample('600S').ohlc()\n",
    "    ohlcv['volume'] = df['size'].resample('60S').sum()\n",
    "\n",
    "%timeit panda_ohlcv()"
   ]
  },
  {
   "cell_type": "code",
   "execution_count": null,
   "metadata": {},
   "outputs": [],
   "source": [
    "def rust_ohlcv():\n",
    "    ohlcv2 = binance.ohlcv(int(start_time.value/1000), int(end_time.value/1000), 60) \n",
    "\n",
    "%timeit rust_ohlcv()"
   ]
  },
  {
   "attachments": {},
   "cell_type": "markdown",
   "metadata": {},
   "source": [
    "Rust版は内部にキャッシュデータをもっていることもあって倍ぐらい早い傾向にある。"
   ]
  },
  {
   "cell_type": "markdown",
   "metadata": {},
   "source": []
  }
 ],
 "metadata": {
  "colab": {
   "provenance": []
  },
  "kernelspec": {
   "display_name": "venv",
   "language": "python",
   "name": "python3"
  },
  "language_info": {
   "codemirror_mode": {
    "name": "ipython",
    "version": 3
   },
   "file_extension": ".py",
   "mimetype": "text/x-python",
   "name": "python",
   "nbconvert_exporter": "python",
   "pygments_lexer": "ipython3",
   "version": "3.11.2"
  },
  "vscode": {
   "interpreter": {
    "hash": "e69bbd470bf1393b14609a6bb37f84ea05c8b778927caf2a584647f90d922fc5"
   }
  }
 },
 "nbformat": 4,
 "nbformat_minor": 0
}
