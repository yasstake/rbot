{
  "cells": [
    {
      "cell_type": "markdown",
      "metadata": {
        "id": "0TnK82x56JuJ"
      },
      "source": [
        "<a target=\"_blank\" href=\"https://colab.research.google.com/github/yasstake/rusty-bot/blob/main/manual/market.ipynb\">\n",
        "  <img src=\"https://colab.research.google.com/assets/colab-badge.svg\" alt=\"Open In Colab\"/>\n",
        "</a>"
      ]
    },
    {
      "cell_type": "markdown",
      "metadata": {
        "id": "sbzlC06H6Fo1"
      },
      "source": [
        "# Market クラス解説\n",
        "\n",
        "Marketクラスは、取引所で扱われる通貨ペアーの１組合わせをモデリングしたクラスです。\n",
        "現在はBinanceの USDBUSDのSPOT取引しか扱えませんが、比較的容易に拡張できるようにつくっていますので順次拡張していきます。\n",
        "\n",
        "## Marketクラスメソッド\n",
        "\n",
        "### マーケットオブジェクトの生成(`open`)\n",
        "\n",
        "`open`メソッドでMaketオブジェクトを開きます。内部的にキャッシュされているので２回目からはキャッシュを返します。そのため複数回呼び出してOKです。\n",
        "\n",
        "今後SPOT以外にも対応した場合、パラメータが変更になる可能性があります。\n",
        "```\n",
        "binance = Market.open(\n",
        "    'BN',               # Binanceは 'BN'\n",
        "    'BTCBUSD'\n",
        ")\n",
        "```\n",
        "\n",
        "### データのダウンロード(`download`)\n",
        "\n",
        "指定した日付あらあとのデータをダウンロードしてDBへ保存します。\n",
        "BTCBUSDしか対応していないため効果はありませんが、`open`で開いたマーケットオブジェクト全てに対してダウンロード処理をします。\n",
        "\n",
        "```\n",
        "Market.download(\n",
        "    5   #ダウンロード日数（N日前を指定)\n",
        "    )\n",
        "```\n",
        "\n",
        "\n",
        "## Marketオブジェクトメソッド\n",
        "\n",
        "Marketインスタンスが`binance`オブジェクトに保存されている前提で説明します。\n",
        "\n",
        "###　情報表示　\n",
        "\n",
        "####　`_repr_html_()`\n",
        "\n",
        "jupyuter note上でオブジェクトを入力してリターンすると内部的に`_repr_html_()`がよばれて内容が分かりやすく表示されます。\n",
        "```\n",
        "binance\n",
        "```\n",
        "\n",
        "#### DBのパス表示 `file_path`\n",
        "\n",
        "DBは巨大になりますので、不要になったら`file_path`プロパティで表示される場所を確認して手動で消してください。\n",
        "\n",
        "```\n",
        "binance.file_name\n",
        "```\n",
        "\n",
        "### OHLCV取得（pd.DataFrame形式)\n",
        "\n",
        "時刻はμsで指定する。開始時刻に0を指定するとDBの最初から、終了に0を指定するとDBの最後まで（現在時刻に一番ちかいときまで）を指定したことになる。\n",
        "\n",
        "```\n",
        "binance.ohlcv(\n",
        "    start_timestamp_us,     #開始時刻（μs）\n",
        "    end_timestamp_us,       #終了時刻（μs)\n",
        "    60                      #足の幅（秒）\n",
        "    )\n",
        "```\n",
        "\n",
        "pd.DataFrame 形式でOHLCVデータが取得できます。この機能だけつかっても便利に使えます。\n",
        "なお、Tickデータから任意の足を再生成しているので初回キャッシュされていないときはかなり時間がかかります。\n",
        "\n",
        "\n"
      ]
    },
    {
      "cell_type": "markdown",
      "metadata": {
        "id": "j5DIZ9xF6GUp"
      },
      "source": []
    },
    {
      "cell_type": "markdown",
      "metadata": {
        "id": "t8_RD-ii6Fo3"
      },
      "source": [
        "## 以下動かしながら説明"
      ]
    },
    {
      "cell_type": "markdown",
      "metadata": {
        "id": "l39Rpt2h6am1"
      },
      "source": [
        "### Google Collab向けパッケージインストール"
      ]
    },
    {
      "cell_type": "code",
      "execution_count": null,
      "metadata": {
        "colab": {
          "base_uri": "https://localhost:8080/"
        },
        "id": "5fQpFfl06aEc",
        "outputId": "8d4f7f79-0420-43c1-c7dc-9c833f7c4558"
      },
      "outputs": [],
      "source": [
        "# Google Clab用です。必要に応じてコメントアウトしてください\n",
        "! pip install --upgrade pip\n",
        "! pip install numpy\n",
        "! pip install pandas\n",
        "! pip uninstall -y panel\n",
        "! pip install --upgrade bokeh >= 3\n",
        "\n",
        "# https://github.com/yasstake/rusty-bot/releases/\n",
        "# （環境にあわせて修正お願いします。404エラーが出た場合は新しいリリースになっているので上記URLを確認してください）\n",
        "# Linux/Google Collab用\n",
        "!  pip install https://github.com/yasstake/rusty-bot/releases/download/release-0.2.0a/rbot-0.2.0-cp38-cp38-manylinux_2_17_x86_64.manylinux2014_x86_64.whl\n"
      ]
    },
    {
      "cell_type": "markdown",
      "metadata": {
        "id": "lJJls8q66gDz"
      },
      "source": [
        "### 以後Marketライブラリの動作"
      ]
    },
    {
      "cell_type": "code",
      "execution_count": 1,
      "metadata": {
        "id": "6oXmGbPA6Fo3"
      },
      "outputs": [],
      "source": [
        "# 必要ライブラリのimport\n",
        "import rbot\n",
        "from rbot import Market\n",
        "from rbot import DAYS_BEFORE"
      ]
    },
    {
      "cell_type": "code",
      "execution_count": 2,
      "metadata": {
        "id": "DoD87dHY6Fo3"
      },
      "outputs": [
        {
          "name": "stdout",
          "output_type": "stream",
          "text": [
            "create TradeTable: /Users/takeoyasukawa/Library/Application Support/net.takibi.rbot/DB/BN/SPOT-BTCBUSD.db\n",
            "open database /Users/takeoyasukawa/Library/Application Support/net.takibi.rbot/DB/BN/SPOT-BTCBUSD.db\n",
            "journal_mode = wal\n",
            "wal mode already set\n",
            "set as wal mode\n",
            "Start download from 2023-08-16T10:58:32.747474\n",
            "open database /Users/takeoyasukawa/Library/Application Support/net.takibi.rbot/DB/BN/SPOT-BTCBUSD.db\n",
            "journal_mode = wal\n",
            "wal mode already set\n",
            "set as wal mode\n"
          ]
        }
      ],
      "source": [
        "# Binance('BN')の'BTCBUSD'ペアーの取引マーケットを生成\n",
        "binance = Market.open('BN', 'BTCBUSD')\n",
        "\n",
        "# 上記でオープンしたマーケットに対し5日より新しいログをダウンロード\n",
        "Market.download(5)\n",
        "\n",
        "# Market.download(5, True)       #ディフォルトではキャッシュされているので、再ダウンロードしたい場合は強制フラグをTrueにする。Collabでは１日あたり1分ぐらいかかります。"
      ]
    },
    {
      "cell_type": "code",
      "execution_count": 3,
      "metadata": {
        "colab": {
          "base_uri": "https://localhost:8080/",
          "height": 139
        },
        "id": "XUgtpn8o6Fo4",
        "outputId": "4fac9442-b2af-4727-b930-4ee669991a2d"
      },
      "outputs": [
        {
          "data": {
            "text/html": [
              "<b>Binance DB (BTCBUSD)</b>\n",
              "            <table>\n",
              "            <caption>Trade Database info table</caption>\n",
              "            <tr><th>start</th><th>end</th></tr>\n",
              "            <tr><td>1688256004404000</td><td>1692575999726000</td></tr>\n",
              "            <tr><td>\"2023-07-02T00:00:04.404000\"</td><td>\"2023-08-20T23:59:59.726000\"</td></tr>\n",
              "            <tr><td><b>days=</b></td><td>49</td></tr>                \n",
              "            </table>                \n",
              "            "
            ],
            "text/plain": [
              "<rbot.BinanceMarket at 0x127bb6650>"
            ]
          },
          "execution_count": 3,
          "metadata": {},
          "output_type": "execute_result"
        }
      ],
      "source": [
        "# Marketオブジェクトが管理するDBに保存されているデータ期間を表示する。\n",
        "binance"
      ]
    },
    {
      "cell_type": "code",
      "execution_count": 4,
      "metadata": {
        "colab": {
          "base_uri": "https://localhost:8080/",
          "height": 35
        },
        "id": "S4iW-C1v6Fo4",
        "outputId": "20175888-a47f-4b16-b49a-d7a963ae3a87"
      },
      "outputs": [
        {
          "data": {
            "text/plain": [
              "'/Users/takeoyasukawa/Library/Application Support/net.takibi.rbot/DB/BN/SPOT-BTCBUSD.db'"
            ]
          },
          "execution_count": 4,
          "metadata": {},
          "output_type": "execute_result"
        }
      ],
      "source": [
        "# データベースのDisk上の場所を表示する。不要になったら手で消してください。\n",
        "\n",
        "binance.file_name"
      ]
    },
    {
      "cell_type": "markdown",
      "metadata": {
        "id": "JnN9omjp6Fo4"
      },
      "source": [
        "## OHLCVの取得"
      ]
    },
    {
      "cell_type": "code",
      "execution_count": 6,
      "metadata": {
        "colab": {
          "base_uri": "https://localhost:8080/",
          "height": 455
        },
        "id": "CzyQj2lN6Fo4",
        "outputId": "70ee8ad1-4ab6-4f6a-fdad-540088ebd37f"
      },
      "outputs": [
        {
          "data": {
            "text/html": [
              "<div><style>\n",
              ".dataframe > thead > tr > th,\n",
              ".dataframe > tbody > tr > td {\n",
              "  text-align: right;\n",
              "}\n",
              "</style>\n",
              "<small>shape: (0, 7)</small><table border=\"1\" class=\"dataframe\"><thead><tr><th>time_stamp</th><th>open</th><th>high</th><th>low</th><th>close</th><th>vol</th><th>count</th></tr><tr><td>i64</td><td>f64</td><td>f64</td><td>f64</td><td>f64</td><td>f64</td><td>f64</td></tr></thead><tbody></tbody></table></div>"
            ],
            "text/plain": [
              "shape: (0, 7)\n",
              "┌────────────┬──────┬──────┬─────┬───────┬─────┬───────┐\n",
              "│ time_stamp ┆ open ┆ high ┆ low ┆ close ┆ vol ┆ count │\n",
              "│ ---        ┆ ---  ┆ ---  ┆ --- ┆ ---   ┆ --- ┆ ---   │\n",
              "│ i64        ┆ f64  ┆ f64  ┆ f64 ┆ f64   ┆ f64 ┆ f64   │\n",
              "╞════════════╪══════╪══════╪═════╪═══════╪═════╪═══════╡\n",
              "└────────────┴──────┴──────┴─────┴───────┴─────┴───────┘"
            ]
          },
          "execution_count": 6,
          "metadata": {},
          "output_type": "execute_result"
        }
      ],
      "source": [
        "# 初回は遅いです。２回目はキャッシュされているので比較的高速です\n",
        "binance.ohlcv(\n",
        "    DAYS_BEFORE(5),     # 5日前から\n",
        "    0,                  # 最新まで\n",
        "    60*60\n",
        ")"
      ]
    },
    {
      "cell_type": "markdown",
      "metadata": {
        "id": "zJ32_Apr6Fo4"
      },
      "source": [
        "短めの足では任意のサイズの足が作れるので、このOHCLVだけを利用して独自の分析を行うにも便利だと思います。\n",
        "週足より長い足も作れますが、性能が出ないのとデータが揃わない点に問題があり実用できではないかもしれません。\n",
        "\n",
        "ご活用ください。"
      ]
    },
    {
      "attachments": {},
      "cell_type": "markdown",
      "metadata": {},
      "source": [
        "# おまけ\n",
        "\n",
        "## pandasで作ったDBを読み込む\n",
        "\n",
        "以下の方法でpythonのプログラムへSQLDBから直接データをロードできる。"
      ]
    },
    {
      "cell_type": "code",
      "execution_count": 44,
      "metadata": {},
      "outputs": [
        {
          "data": {
            "text/html": [
              "<div>\n",
              "<style scoped>\n",
              "    .dataframe tbody tr th:only-of-type {\n",
              "        vertical-align: middle;\n",
              "    }\n",
              "\n",
              "    .dataframe tbody tr th {\n",
              "        vertical-align: top;\n",
              "    }\n",
              "\n",
              "    .dataframe thead th {\n",
              "        text-align: right;\n",
              "    }\n",
              "</style>\n",
              "<table border=\"1\" class=\"dataframe\">\n",
              "  <thead>\n",
              "    <tr style=\"text-align: right;\">\n",
              "      <th></th>\n",
              "      <th>action</th>\n",
              "      <th>price</th>\n",
              "      <th>size</th>\n",
              "      <th>id</th>\n",
              "    </tr>\n",
              "    <tr>\n",
              "      <th>timestamp</th>\n",
              "      <th></th>\n",
              "      <th></th>\n",
              "      <th></th>\n",
              "      <th></th>\n",
              "    </tr>\n",
              "  </thead>\n",
              "  <tbody>\n",
              "    <tr>\n",
              "      <th>2023-08-01 00:00:07.985</th>\n",
              "      <td>Buy</td>\n",
              "      <td>29234.02</td>\n",
              "      <td>0.02500</td>\n",
              "      <td>989225825</td>\n",
              "    </tr>\n",
              "    <tr>\n",
              "      <th>2023-08-01 00:00:07.985</th>\n",
              "      <td>Buy</td>\n",
              "      <td>29234.00</td>\n",
              "      <td>0.00340</td>\n",
              "      <td>989225826</td>\n",
              "    </tr>\n",
              "    <tr>\n",
              "      <th>2023-08-01 00:00:07.985</th>\n",
              "      <td>Buy</td>\n",
              "      <td>29233.89</td>\n",
              "      <td>0.01799</td>\n",
              "      <td>989225827</td>\n",
              "    </tr>\n",
              "    <tr>\n",
              "      <th>2023-08-01 00:00:07.985</th>\n",
              "      <td>Buy</td>\n",
              "      <td>29233.29</td>\n",
              "      <td>0.00751</td>\n",
              "      <td>989225828</td>\n",
              "    </tr>\n",
              "    <tr>\n",
              "      <th>2023-08-01 00:00:07.985</th>\n",
              "      <td>Buy</td>\n",
              "      <td>29233.25</td>\n",
              "      <td>0.01938</td>\n",
              "      <td>989225829</td>\n",
              "    </tr>\n",
              "    <tr>\n",
              "      <th>...</th>\n",
              "      <td>...</td>\n",
              "      <td>...</td>\n",
              "      <td>...</td>\n",
              "      <td>...</td>\n",
              "    </tr>\n",
              "    <tr>\n",
              "      <th>2023-08-06 23:59:12.987</th>\n",
              "      <td>Buy</td>\n",
              "      <td>29054.47</td>\n",
              "      <td>0.02797</td>\n",
              "      <td>989589695</td>\n",
              "    </tr>\n",
              "    <tr>\n",
              "      <th>2023-08-06 23:59:12.987</th>\n",
              "      <td>Buy</td>\n",
              "      <td>29054.47</td>\n",
              "      <td>0.00706</td>\n",
              "      <td>989589696</td>\n",
              "    </tr>\n",
              "    <tr>\n",
              "      <th>2023-08-06 23:59:18.461</th>\n",
              "      <td>Buy</td>\n",
              "      <td>29054.47</td>\n",
              "      <td>0.01721</td>\n",
              "      <td>989589697</td>\n",
              "    </tr>\n",
              "    <tr>\n",
              "      <th>2023-08-06 23:59:41.792</th>\n",
              "      <td>Sell</td>\n",
              "      <td>29054.48</td>\n",
              "      <td>0.00111</td>\n",
              "      <td>989589698</td>\n",
              "    </tr>\n",
              "    <tr>\n",
              "      <th>2023-08-06 23:59:51.123</th>\n",
              "      <td>Buy</td>\n",
              "      <td>29054.47</td>\n",
              "      <td>0.00569</td>\n",
              "      <td>989589699</td>\n",
              "    </tr>\n",
              "  </tbody>\n",
              "</table>\n",
              "<p>363870 rows × 4 columns</p>\n",
              "</div>"
            ],
            "text/plain": [
              "                        action     price     size         id\n",
              "timestamp                                                   \n",
              "2023-08-01 00:00:07.985    Buy  29234.02  0.02500  989225825\n",
              "2023-08-01 00:00:07.985    Buy  29234.00  0.00340  989225826\n",
              "2023-08-01 00:00:07.985    Buy  29233.89  0.01799  989225827\n",
              "2023-08-01 00:00:07.985    Buy  29233.29  0.00751  989225828\n",
              "2023-08-01 00:00:07.985    Buy  29233.25  0.01938  989225829\n",
              "...                        ...       ...      ...        ...\n",
              "2023-08-06 23:59:12.987    Buy  29054.47  0.02797  989589695\n",
              "2023-08-06 23:59:12.987    Buy  29054.47  0.00706  989589696\n",
              "2023-08-06 23:59:18.461    Buy  29054.47  0.01721  989589697\n",
              "2023-08-06 23:59:41.792   Sell  29054.48  0.00111  989589698\n",
              "2023-08-06 23:59:51.123    Buy  29054.47  0.00569  989589699\n",
              "\n",
              "[363870 rows x 4 columns]"
            ]
          },
          "execution_count": 44,
          "metadata": {},
          "output_type": "execute_result"
        }
      ],
      "source": [
        "import sqlite3\n",
        "import pandas as pd\n",
        "\n",
        "file = binance.file_name\n",
        "\n",
        "connection = sqlite3.connect(file)\n",
        "\n",
        "df = pd.read_sql_query('select * from trades order by time_stamp limit 10000000', connection)\n",
        "df['timestamp'] = pd.to_datetime(df['time_stamp'], unit='us')\n",
        "df = df.set_index('timestamp', drop=True)\n",
        "\n",
        "df = df.drop(columns='time_stamp')\n",
        "df"
      ]
    },
    {
      "attachments": {},
      "cell_type": "markdown",
      "metadata": {},
      "source": [
        "## ohlcを作る\n",
        "\n",
        "`resample`を使えば任意の足のohlcvが作れる。\n",
        "dfに入っているデータの最後は時間きっちりではなくて、件数指定でたまたま入ってきた切れ目なので未確定足になる。"
      ]
    },
    {
      "cell_type": "code",
      "execution_count": 45,
      "metadata": {},
      "outputs": [
        {
          "data": {
            "text/html": [
              "<div>\n",
              "<style scoped>\n",
              "    .dataframe tbody tr th:only-of-type {\n",
              "        vertical-align: middle;\n",
              "    }\n",
              "\n",
              "    .dataframe tbody tr th {\n",
              "        vertical-align: top;\n",
              "    }\n",
              "\n",
              "    .dataframe thead th {\n",
              "        text-align: right;\n",
              "    }\n",
              "</style>\n",
              "<table border=\"1\" class=\"dataframe\">\n",
              "  <thead>\n",
              "    <tr style=\"text-align: right;\">\n",
              "      <th></th>\n",
              "      <th>open</th>\n",
              "      <th>high</th>\n",
              "      <th>low</th>\n",
              "      <th>close</th>\n",
              "      <th>volume</th>\n",
              "    </tr>\n",
              "    <tr>\n",
              "      <th>timestamp</th>\n",
              "      <th></th>\n",
              "      <th></th>\n",
              "      <th></th>\n",
              "      <th></th>\n",
              "      <th></th>\n",
              "    </tr>\n",
              "  </thead>\n",
              "  <tbody>\n",
              "    <tr>\n",
              "      <th>2023-08-01 00:00:00</th>\n",
              "      <td>29234.02</td>\n",
              "      <td>29234.02</td>\n",
              "      <td>29230.05</td>\n",
              "      <td>29230.05</td>\n",
              "      <td>0.55579</td>\n",
              "    </tr>\n",
              "    <tr>\n",
              "      <th>2023-08-01 00:01:00</th>\n",
              "      <td>29230.01</td>\n",
              "      <td>29230.01</td>\n",
              "      <td>29230.00</td>\n",
              "      <td>29230.01</td>\n",
              "      <td>0.21606</td>\n",
              "    </tr>\n",
              "    <tr>\n",
              "      <th>2023-08-01 00:02:00</th>\n",
              "      <td>29230.00</td>\n",
              "      <td>29230.01</td>\n",
              "      <td>29228.78</td>\n",
              "      <td>29228.78</td>\n",
              "      <td>0.16783</td>\n",
              "    </tr>\n",
              "    <tr>\n",
              "      <th>2023-08-01 00:03:00</th>\n",
              "      <td>29228.77</td>\n",
              "      <td>29230.00</td>\n",
              "      <td>29228.77</td>\n",
              "      <td>29229.99</td>\n",
              "      <td>0.08343</td>\n",
              "    </tr>\n",
              "    <tr>\n",
              "      <th>2023-08-01 00:04:00</th>\n",
              "      <td>29230.00</td>\n",
              "      <td>29232.00</td>\n",
              "      <td>29230.00</td>\n",
              "      <td>29231.99</td>\n",
              "      <td>0.66125</td>\n",
              "    </tr>\n",
              "    <tr>\n",
              "      <th>...</th>\n",
              "      <td>...</td>\n",
              "      <td>...</td>\n",
              "      <td>...</td>\n",
              "      <td>...</td>\n",
              "      <td>...</td>\n",
              "    </tr>\n",
              "    <tr>\n",
              "      <th>2023-08-06 23:55:00</th>\n",
              "      <td>29054.00</td>\n",
              "      <td>29054.00</td>\n",
              "      <td>29053.18</td>\n",
              "      <td>29053.19</td>\n",
              "      <td>0.29156</td>\n",
              "    </tr>\n",
              "    <tr>\n",
              "      <th>2023-08-06 23:56:00</th>\n",
              "      <td>29053.19</td>\n",
              "      <td>29056.00</td>\n",
              "      <td>29053.19</td>\n",
              "      <td>29056.00</td>\n",
              "      <td>0.04858</td>\n",
              "    </tr>\n",
              "    <tr>\n",
              "      <th>2023-08-06 23:57:00</th>\n",
              "      <td>29055.99</td>\n",
              "      <td>29055.99</td>\n",
              "      <td>29055.99</td>\n",
              "      <td>29055.99</td>\n",
              "      <td>0.06977</td>\n",
              "    </tr>\n",
              "    <tr>\n",
              "      <th>2023-08-06 23:58:00</th>\n",
              "      <td>29056.00</td>\n",
              "      <td>29056.00</td>\n",
              "      <td>29054.47</td>\n",
              "      <td>29054.47</td>\n",
              "      <td>0.31199</td>\n",
              "    </tr>\n",
              "    <tr>\n",
              "      <th>2023-08-06 23:59:00</th>\n",
              "      <td>29054.47</td>\n",
              "      <td>29054.48</td>\n",
              "      <td>29054.47</td>\n",
              "      <td>29054.47</td>\n",
              "      <td>0.20360</td>\n",
              "    </tr>\n",
              "  </tbody>\n",
              "</table>\n",
              "<p>8640 rows × 5 columns</p>\n",
              "</div>"
            ],
            "text/plain": [
              "                         open      high       low     close   volume\n",
              "timestamp                                                           \n",
              "2023-08-01 00:00:00  29234.02  29234.02  29230.05  29230.05  0.55579\n",
              "2023-08-01 00:01:00  29230.01  29230.01  29230.00  29230.01  0.21606\n",
              "2023-08-01 00:02:00  29230.00  29230.01  29228.78  29228.78  0.16783\n",
              "2023-08-01 00:03:00  29228.77  29230.00  29228.77  29229.99  0.08343\n",
              "2023-08-01 00:04:00  29230.00  29232.00  29230.00  29231.99  0.66125\n",
              "...                       ...       ...       ...       ...      ...\n",
              "2023-08-06 23:55:00  29054.00  29054.00  29053.18  29053.19  0.29156\n",
              "2023-08-06 23:56:00  29053.19  29056.00  29053.19  29056.00  0.04858\n",
              "2023-08-06 23:57:00  29055.99  29055.99  29055.99  29055.99  0.06977\n",
              "2023-08-06 23:58:00  29056.00  29056.00  29054.47  29054.47  0.31199\n",
              "2023-08-06 23:59:00  29054.47  29054.48  29054.47  29054.47  0.20360\n",
              "\n",
              "[8640 rows x 5 columns]"
            ]
          },
          "execution_count": 45,
          "metadata": {},
          "output_type": "execute_result"
        }
      ],
      "source": [
        "ohlcv = df['price'].resample('60S').ohlc()\n",
        "ohlcv['volume'] = df['size'].resample('60S').sum()\n",
        "ohlcv\n"
      ]
    },
    {
      "attachments": {},
      "cell_type": "markdown",
      "metadata": {},
      "source": [
        "## rbot.Market.ohlcvとの比較\n",
        "\n",
        "同じ処理をする`Market.ohlcv`と比較する。"
      ]
    },
    {
      "cell_type": "code",
      "execution_count": 46,
      "metadata": {},
      "outputs": [
        {
          "data": {
            "text/plain": [
              "Timestamp('2023-08-01 00:00:00')"
            ]
          },
          "execution_count": 46,
          "metadata": {},
          "output_type": "execute_result"
        }
      ],
      "source": [
        "# 開始時刻\n",
        "start_time = ohlcv.index[0]\n",
        "start_time"
      ]
    },
    {
      "cell_type": "code",
      "execution_count": 47,
      "metadata": {},
      "outputs": [
        {
          "data": {
            "text/plain": [
              "Timestamp('2023-08-06 23:59:00')"
            ]
          },
          "execution_count": 47,
          "metadata": {},
          "output_type": "execute_result"
        }
      ],
      "source": [
        "# 終了時刻\n",
        "# ohldvの終了時刻は、最後の足の開始時刻のため１本前の足の終了時刻となる（この時間までで生成したohlcvは１本少なくなる）。\n",
        "end_time = ohlcv.index[-1]\n",
        "end_time"
      ]
    },
    {
      "cell_type": "code",
      "execution_count": 48,
      "metadata": {},
      "outputs": [
        {
          "data": {
            "text/html": [
              "<div><style>\n",
              ".dataframe > thead > tr > th,\n",
              ".dataframe > tbody > tr > td {\n",
              "  text-align: right;\n",
              "}\n",
              "</style>\n",
              "<small>shape: (144, 7)</small><table border=\"1\" class=\"dataframe\"><thead><tr><th>time_stamp</th><th>open</th><th>high</th><th>low</th><th>close</th><th>vol</th><th>count</th></tr><tr><td>i64</td><td>f64</td><td>f64</td><td>f64</td><td>f64</td><td>f64</td><td>u32</td></tr></thead><tbody><tr><td>1690848000000000</td><td>29234.02</td><td>29289.99</td><td>29215.43</td><td>29286.0</td><td>35.80904</td><td>1557</td></tr><tr><td>1690851600000000</td><td>29286.01</td><td>29345.0</td><td>29177.0</td><td>29201.98</td><td>71.67005</td><td>2797</td></tr><tr><td>1690855200000000</td><td>29201.98</td><td>29218.0</td><td>28734.71</td><td>28935.59</td><td>578.81514</td><td>13158</td></tr><tr><td>1690858800000000</td><td>28935.58</td><td>28951.4</td><td>28818.08</td><td>28835.41</td><td>170.83839</td><td>3783</td></tr><tr><td>1690862400000000</td><td>28832.42</td><td>28924.65</td><td>28807.99</td><td>28868.0</td><td>129.98273</td><td>2831</td></tr><tr><td>1690866000000000</td><td>28867.99</td><td>28921.29</td><td>28854.0</td><td>28921.28</td><td>42.50483</td><td>1474</td></tr><tr><td>1690869600000000</td><td>28921.28</td><td>28967.74</td><td>28906.76</td><td>28915.99</td><td>47.04361</td><td>1982</td></tr><tr><td>1690873200000000</td><td>28914.78</td><td>28939.82</td><td>28898.43</td><td>28937.09</td><td>170.45635</td><td>3700</td></tr><tr><td>1690876800000000</td><td>28937.09</td><td>28986.3</td><td>28909.06</td><td>28986.3</td><td>83.1091</td><td>2484</td></tr><tr><td>1690880400000000</td><td>28986.45</td><td>28987.88</td><td>28925.12</td><td>28926.0</td><td>42.49216</td><td>1396</td></tr><tr><td>1690884000000000</td><td>28926.01</td><td>28940.0</td><td>28895.26</td><td>28924.1</td><td>41.38862</td><td>1430</td></tr><tr><td>1690887600000000</td><td>28924.1</td><td>28925.56</td><td>28856.16</td><td>28856.16</td><td>54.67179</td><td>2007</td></tr><tr><td>&hellip;</td><td>&hellip;</td><td>&hellip;</td><td>&hellip;</td><td>&hellip;</td><td>&hellip;</td><td>&hellip;</td></tr><tr><td>1691323200000000</td><td>29050.76</td><td>29050.76</td><td>29002.34</td><td>29007.99</td><td>22.43296</td><td>1819</td></tr><tr><td>1691326800000000</td><td>29007.99</td><td>29012.0</td><td>28988.57</td><td>28988.68</td><td>29.44118</td><td>1994</td></tr><tr><td>1691330400000000</td><td>28988.31</td><td>29031.84</td><td>28965.26</td><td>29009.99</td><td>30.31419</td><td>1871</td></tr><tr><td>1691334000000000</td><td>29010.0</td><td>29023.99</td><td>28972.25</td><td>28982.29</td><td>24.21756</td><td>1614</td></tr><tr><td>1691337600000000</td><td>28982.29</td><td>29059.53</td><td>28968.82</td><td>29057.82</td><td>28.12505</td><td>1508</td></tr><tr><td>1691341200000000</td><td>29057.82</td><td>29069.99</td><td>29024.19</td><td>29060.18</td><td>23.58464</td><td>1154</td></tr><tr><td>1691344800000000</td><td>29060.19</td><td>29074.0</td><td>29048.0</td><td>29058.57</td><td>16.75719</td><td>1044</td></tr><tr><td>1691348400000000</td><td>29058.56</td><td>29070.0</td><td>29048.5</td><td>29059.22</td><td>13.0304</td><td>879</td></tr><tr><td>1691352000000000</td><td>29059.23</td><td>29141.7</td><td>29048.15</td><td>29103.99</td><td>42.32869</td><td>1865</td></tr><tr><td>1691355600000000</td><td>29107.97</td><td>29171.99</td><td>29010.14</td><td>29056.6</td><td>67.41965</td><td>2664</td></tr><tr><td>1691359200000000</td><td>29056.61</td><td>29126.97</td><td>29031.37</td><td>29068.66</td><td>44.1078</td><td>1290</td></tr><tr><td>1691362800000000</td><td>29068.66</td><td>29069.58</td><td>29044.48</td><td>29054.47</td><td>16.50901</td><td>793</td></tr></tbody></table></div>"
            ],
            "text/plain": [
              "shape: (144, 7)\n",
              "┌──────────────────┬──────────┬──────────┬──────────┬──────────┬───────────┬───────┐\n",
              "│ time_stamp       ┆ open     ┆ high     ┆ low      ┆ close    ┆ vol       ┆ count │\n",
              "│ ---              ┆ ---      ┆ ---      ┆ ---      ┆ ---      ┆ ---       ┆ ---   │\n",
              "│ i64              ┆ f64      ┆ f64      ┆ f64      ┆ f64      ┆ f64       ┆ u32   │\n",
              "╞══════════════════╪══════════╪══════════╪══════════╪══════════╪═══════════╪═══════╡\n",
              "│ 1690848000000000 ┆ 29234.02 ┆ 29289.99 ┆ 29215.43 ┆ 29286.0  ┆ 35.80904  ┆ 1557  │\n",
              "│ 1690851600000000 ┆ 29286.01 ┆ 29345.0  ┆ 29177.0  ┆ 29201.98 ┆ 71.67005  ┆ 2797  │\n",
              "│ 1690855200000000 ┆ 29201.98 ┆ 29218.0  ┆ 28734.71 ┆ 28935.59 ┆ 578.81514 ┆ 13158 │\n",
              "│ 1690858800000000 ┆ 28935.58 ┆ 28951.4  ┆ 28818.08 ┆ 28835.41 ┆ 170.83839 ┆ 3783  │\n",
              "│ …                ┆ …        ┆ …        ┆ …        ┆ …        ┆ …         ┆ …     │\n",
              "│ 1691352000000000 ┆ 29059.23 ┆ 29141.7  ┆ 29048.15 ┆ 29103.99 ┆ 42.32869  ┆ 1865  │\n",
              "│ 1691355600000000 ┆ 29107.97 ┆ 29171.99 ┆ 29010.14 ┆ 29056.6  ┆ 67.41965  ┆ 2664  │\n",
              "│ 1691359200000000 ┆ 29056.61 ┆ 29126.97 ┆ 29031.37 ┆ 29068.66 ┆ 44.1078   ┆ 1290  │\n",
              "│ 1691362800000000 ┆ 29068.66 ┆ 29069.58 ┆ 29044.48 ┆ 29054.47 ┆ 16.50901  ┆ 793   │\n",
              "└──────────────────┴──────────┴──────────┴──────────┴──────────┴───────────┴───────┘"
            ]
          },
          "execution_count": 48,
          "metadata": {},
          "output_type": "execute_result"
        }
      ],
      "source": [
        "# pandasの時刻は'ns'なので1000分の１のusへ変換して表示\n",
        "ohlcv2 = binance.ohlcv(int(start_time.value/1000), int(end_time.value/1000), 60*60)\n",
        "ohlcv2"
      ]
    },
    {
      "attachments": {},
      "cell_type": "markdown",
      "metadata": {},
      "source": [
        "想定どおり１本足が少なくなったがデータは一致している"
      ]
    },
    {
      "attachments": {},
      "cell_type": "markdown",
      "metadata": {},
      "source": [
        "## 性能比較\n",
        "\n",
        "timeitを使って性能比較をする。"
      ]
    },
    {
      "cell_type": "code",
      "execution_count": 49,
      "metadata": {},
      "outputs": [
        {
          "name": "stdout",
          "output_type": "stream",
          "text": [
            "10.9 ms ± 656 µs per loop (mean ± std. dev. of 7 runs, 100 loops each)\n"
          ]
        }
      ],
      "source": [
        "def panda_ohlcv():\n",
        "    ohlcv = df['price'].resample('600S').ohlc()\n",
        "    ohlcv['volume'] = df['size'].resample('60S').sum()\n",
        "\n",
        "%timeit panda_ohlcv()"
      ]
    },
    {
      "cell_type": "code",
      "execution_count": 50,
      "metadata": {},
      "outputs": [
        {
          "name": "stdout",
          "output_type": "stream",
          "text": [
            "7.51 ms ± 484 µs per loop (mean ± std. dev. of 7 runs, 100 loops each)\n"
          ]
        }
      ],
      "source": [
        "def rust_ohlcv():\n",
        "    ohlcv2 = binance.ohlcv(int(start_time.value/1000), int(end_time.value/1000), 60) \n",
        "\n",
        "%timeit rust_ohlcv()"
      ]
    },
    {
      "attachments": {},
      "cell_type": "markdown",
      "metadata": {},
      "source": [
        "Rust版は内部にキャッシュデータをもっていることもあって倍ぐらい早い傾向にある。"
      ]
    },
    {
      "cell_type": "markdown",
      "metadata": {},
      "source": []
    }
  ],
  "metadata": {
    "colab": {
      "provenance": []
    },
    "kernelspec": {
      "display_name": "venv",
      "language": "python",
      "name": "python3"
    },
    "language_info": {
      "codemirror_mode": {
        "name": "ipython",
        "version": 3
      },
      "file_extension": ".py",
      "mimetype": "text/x-python",
      "name": "python",
      "nbconvert_exporter": "python",
      "pygments_lexer": "ipython3",
      "version": "3.11.2"
    },
    "orig_nbformat": 4,
    "vscode": {
      "interpreter": {
        "hash": "e69bbd470bf1393b14609a6bb37f84ea05c8b778927caf2a584647f90d922fc5"
      }
    }
  },
  "nbformat": 4,
  "nbformat_minor": 0
}
