{
 "cells": [
  {
   "attachments": {},
   "cell_type": "markdown",
   "metadata": {},
   "source": [
    "# Market クラス解説\n",
    "\n",
    "Marketクラスは、取引所で扱われる通貨ペアーの１組合わせをモデリングしたクラスです。\n",
    "現在はBinanceの USDBUSDのSPOT取引しか扱えませんが、比較的容易に拡張できるようにつくっていますので順次拡張していきます。\n",
    "\n",
    "## Marketクラスメソッド\n",
    "\n",
    "### マーケットオブジェクトの生成(`open`)\n",
    "\n",
    "`open`メソッドでMaketオブジェクトを開きます。内部的にキャッシュされているので２回目からはキャッシュを返します。そのため複数回呼び出してOKです。\n",
    "\n",
    "今後SPOT以外にも対応した場合、パラメータが変更になる可能性があります。\n",
    "```\n",
    "binance = Market.open(\n",
    "    'BN',               # Binanceは 'BN'\n",
    "    'BTCBUSD'\n",
    ")\n",
    "```\n",
    "\n",
    "### データのダウンロード(`download`)\n",
    "\n",
    "指定した日付あらあとのデータをダウンロードしてDBへ保存します。\n",
    "BTCBUSDしか対応していないため効果はありませんが、`open`で開いたマーケットオブジェクト全てに対してダウンロード処理をします。\n",
    "\n",
    "```\n",
    "Market.download(\n",
    "    5   #ダウンロード日数（N日前を指定)\n",
    "    )\n",
    "```\n",
    "\n",
    "\n",
    "## Marketオブジェクトメソッド\n",
    "\n",
    "Marketインスタンスが`binance`オブジェクトに保存されている前提で説明します。\n",
    "\n",
    "###　情報表示　\n",
    "\n",
    "####　`_repr_html_()`\n",
    "\n",
    "jupyuter note上でオブジェクトを入力してリターンすると内部的に`_repr_html_()`がよばれて内容が分かりやすく表示されます。\n",
    "```\n",
    "binance\n",
    "```\n",
    "\n",
    "#### DBのパス表示 `file_path`\n",
    "\n",
    "DBは巨大になりますので、不要になったら`file_path`プロパティで表示される場所を確認して手動で消してください。\n",
    "\n",
    "```\n",
    "binance.file_name\n",
    "```\n",
    "\n",
    "### OHLCV取得（pd.DataFrame形式)\n",
    "\n",
    "時刻はμsで指定する。開始時刻に0を指定するとDBの最初から、終了に0を指定するとDBの最後まで（現在時刻に一番ちかいときまで）を指定したことになる。\n",
    "\n",
    "```\n",
    "binance.ohlcv(\n",
    "    start_timestamp_us,     #開始時刻（μs）\n",
    "    end_timestamp_us,       #終了時刻（μs)\n",
    "    60                      #足の幅（秒）\n",
    "    )\n",
    "```\n",
    "\n",
    "pd.DataFrame 形式でOHLCVデータが取得できます。この機能だけつかっても便利に使えます。\n",
    "なお、Tickデータから任意の足を再生成しているので初回キャッシュされていないときはかなり時間がかかります。\n",
    "\n",
    "\n"
   ]
  },
  {
   "attachments": {},
   "cell_type": "markdown",
   "metadata": {},
   "source": [
    "## 以下うごかしながら説明"
   ]
  },
  {
   "cell_type": "code",
   "execution_count": 2,
   "metadata": {},
   "outputs": [],
   "source": [
    "# 必要ライブラリのimport\n",
    "import rbot\n",
    "from rbot import Market\n",
    "from rbot import DAYS_BEFORE"
   ]
  },
  {
   "cell_type": "code",
   "execution_count": 6,
   "metadata": {},
   "outputs": [
    {
     "name": "stdout",
     "output_type": "stream",
     "text": [
      "Start download from 2022-12-13T08:19:23.323697\n",
      "download 0[rec]\n",
      "Start download from 2022-12-13T08:19:23.323978\n",
      "Downloading ...[https://data.binance.vision/data/spot/daily/trades/BTCBUSD/BTCBUSD-trades-2022-12-13.zip]\n",
      "Downloaded rec = 3577204 \n",
      "Downloading ...[https://data.binance.vision/data/spot/daily/trades/BTCBUSD/BTCBUSD-trades-2022-12-14.zip]\n",
      "Downloading... 2022-12-13T08:07 / rec=   1000500Downloaded rec = 3067544 \n",
      "Downloading ...[https://data.binance.vision/data/spot/daily/trades/BTCBUSD/BTCBUSD-trades-2022-12-15.zip]\n",
      "Downloading... 2022-12-13T13:29 / rec=   2001000Downloaded rec = 2505203 \n",
      "Downloading ...[https://data.binance.vision/data/spot/daily/trades/BTCBUSD/BTCBUSD-trades-2022-12-16.zip]\n",
      "Downloading... 2022-12-13T17:45 / rec=   3001500Downloaded rec = 2830841 \n",
      "Downloading ...[https://data.binance.vision/data/spot/daily/trades/BTCBUSD/BTCBUSD-trades-2022-12-17.zip]\n",
      "Downloading... 2022-12-14T14:40 / rec=   5003917Downloaded rec = 1738925 \n",
      "Downloading... 2022-12-17T12:40 / rec=  13009306download 13719717[rec]\n"
     ]
    }
   ],
   "source": [
    "# Binance('BN')の'BTCBUSD'ペアーの取引マーケットを生成\n",
    "binance = Market.open('BN', 'BTCBUSD')\n",
    "\n",
    "# 上記でオープンしたマーケットに対し5日より新しいログをダウンロード\n",
    "Market.download(5)\n",
    "\n",
    "Market.download(5, True)       #ディフォルトではキャッシュされているので、再ダウンロードしたい場合は強制フラグをTrueにする。"
   ]
  },
  {
   "cell_type": "code",
   "execution_count": 4,
   "metadata": {},
   "outputs": [
    {
     "data": {
      "text/html": [
       "<b>Binance DB (BTCBUSD)</b>\n",
       "            <table>\n",
       "            <caption>Trade Database info table</caption>\n",
       "            <tr><th>start</th><th>end</th></tr>\n",
       "            <tr><td>1670889600100000</td><td>1671407999900000</td></tr>\n",
       "            <tr><td>\"2022-12-13T00:00:00.100000\"</td><td>\"2022-12-18T23:59:59.900000\"</td></tr>\n",
       "            <tr><td><b>days=</b></td><td>5</td></tr>                \n",
       "            </table>                \n",
       "            "
      ],
      "text/plain": [
       "<rbot.BinanceMarket at 0x11c40a0e0>"
      ]
     },
     "execution_count": 4,
     "metadata": {},
     "output_type": "execute_result"
    }
   ],
   "source": [
    "# Marketオブジェクトが管理するDBに保存されているデータ期間を表示する。\n",
    "binance"
   ]
  },
  {
   "cell_type": "code",
   "execution_count": 7,
   "metadata": {},
   "outputs": [
    {
     "data": {
      "text/plain": [
       "'/Users/takeoyasukawa/Library/Application Support/net.takibi.rbot/DB/BN/SPOT-BTCBUSD.db'"
      ]
     },
     "execution_count": 7,
     "metadata": {},
     "output_type": "execute_result"
    }
   ],
   "source": [
    "# データベースのDisk上の場所を表示する。\n",
    "\n",
    "binance.file_name"
   ]
  },
  {
   "attachments": {},
   "cell_type": "markdown",
   "metadata": {},
   "source": [
    "## OHLCVの取得"
   ]
  },
  {
   "cell_type": "code",
   "execution_count": 9,
   "metadata": {},
   "outputs": [
    {
     "data": {
      "text/html": [
       "<div>\n",
       "<style scoped>\n",
       "    .dataframe tbody tr th:only-of-type {\n",
       "        vertical-align: middle;\n",
       "    }\n",
       "\n",
       "    .dataframe tbody tr th {\n",
       "        vertical-align: top;\n",
       "    }\n",
       "\n",
       "    .dataframe thead th {\n",
       "        text-align: right;\n",
       "    }\n",
       "</style>\n",
       "<table border=\"1\" class=\"dataframe\">\n",
       "  <thead>\n",
       "    <tr style=\"text-align: right;\">\n",
       "      <th></th>\n",
       "      <th>open</th>\n",
       "      <th>high</th>\n",
       "      <th>low</th>\n",
       "      <th>close</th>\n",
       "      <th>volume</th>\n",
       "    </tr>\n",
       "    <tr>\n",
       "      <th>timestamp</th>\n",
       "      <th></th>\n",
       "      <th></th>\n",
       "      <th></th>\n",
       "      <th></th>\n",
       "      <th></th>\n",
       "    </tr>\n",
       "  </thead>\n",
       "  <tbody>\n",
       "    <tr>\n",
       "      <th>2022-12-14 08:00:00+00:00</th>\n",
       "      <td>17803.03</td>\n",
       "      <td>17878.00</td>\n",
       "      <td>17797.59</td>\n",
       "      <td>17840.61</td>\n",
       "      <td>3177.04731</td>\n",
       "    </tr>\n",
       "    <tr>\n",
       "      <th>2022-12-14 09:00:00+00:00</th>\n",
       "      <td>17840.28</td>\n",
       "      <td>17847.37</td>\n",
       "      <td>17785.11</td>\n",
       "      <td>17814.51</td>\n",
       "      <td>3196.71892</td>\n",
       "    </tr>\n",
       "    <tr>\n",
       "      <th>2022-12-14 10:00:00+00:00</th>\n",
       "      <td>17815.24</td>\n",
       "      <td>17837.75</td>\n",
       "      <td>17792.93</td>\n",
       "      <td>17828.15</td>\n",
       "      <td>3083.00192</td>\n",
       "    </tr>\n",
       "    <tr>\n",
       "      <th>2022-12-14 11:00:00+00:00</th>\n",
       "      <td>17828.15</td>\n",
       "      <td>17859.00</td>\n",
       "      <td>17807.00</td>\n",
       "      <td>17825.88</td>\n",
       "      <td>3778.80179</td>\n",
       "    </tr>\n",
       "    <tr>\n",
       "      <th>2022-12-14 12:00:00+00:00</th>\n",
       "      <td>17824.90</td>\n",
       "      <td>17930.00</td>\n",
       "      <td>17815.21</td>\n",
       "      <td>17914.61</td>\n",
       "      <td>6847.23861</td>\n",
       "    </tr>\n",
       "    <tr>\n",
       "      <th>...</th>\n",
       "      <td>...</td>\n",
       "      <td>...</td>\n",
       "      <td>...</td>\n",
       "      <td>...</td>\n",
       "      <td>...</td>\n",
       "    </tr>\n",
       "    <tr>\n",
       "      <th>2022-12-18 19:00:00+00:00</th>\n",
       "      <td>16748.27</td>\n",
       "      <td>16771.86</td>\n",
       "      <td>16725.01</td>\n",
       "      <td>16753.31</td>\n",
       "      <td>2477.76072</td>\n",
       "    </tr>\n",
       "    <tr>\n",
       "      <th>2022-12-18 20:00:00+00:00</th>\n",
       "      <td>16753.20</td>\n",
       "      <td>16774.87</td>\n",
       "      <td>16749.09</td>\n",
       "      <td>16759.96</td>\n",
       "      <td>2279.32264</td>\n",
       "    </tr>\n",
       "    <tr>\n",
       "      <th>2022-12-18 21:00:00+00:00</th>\n",
       "      <td>16759.68</td>\n",
       "      <td>16785.00</td>\n",
       "      <td>16738.11</td>\n",
       "      <td>16749.24</td>\n",
       "      <td>2285.04540</td>\n",
       "    </tr>\n",
       "    <tr>\n",
       "      <th>2022-12-18 22:00:00+00:00</th>\n",
       "      <td>16749.32</td>\n",
       "      <td>16866.96</td>\n",
       "      <td>16726.23</td>\n",
       "      <td>16764.56</td>\n",
       "      <td>4980.71945</td>\n",
       "    </tr>\n",
       "    <tr>\n",
       "      <th>2022-12-18 23:00:00+00:00</th>\n",
       "      <td>16764.55</td>\n",
       "      <td>16820.81</td>\n",
       "      <td>16734.23</td>\n",
       "      <td>16742.32</td>\n",
       "      <td>3905.81589</td>\n",
       "    </tr>\n",
       "  </tbody>\n",
       "</table>\n",
       "<p>112 rows × 5 columns</p>\n",
       "</div>"
      ],
      "text/plain": [
       "                               open      high       low     close      volume\n",
       "timestamp                                                                    \n",
       "2022-12-14 08:00:00+00:00  17803.03  17878.00  17797.59  17840.61  3177.04731\n",
       "2022-12-14 09:00:00+00:00  17840.28  17847.37  17785.11  17814.51  3196.71892\n",
       "2022-12-14 10:00:00+00:00  17815.24  17837.75  17792.93  17828.15  3083.00192\n",
       "2022-12-14 11:00:00+00:00  17828.15  17859.00  17807.00  17825.88  3778.80179\n",
       "2022-12-14 12:00:00+00:00  17824.90  17930.00  17815.21  17914.61  6847.23861\n",
       "...                             ...       ...       ...       ...         ...\n",
       "2022-12-18 19:00:00+00:00  16748.27  16771.86  16725.01  16753.31  2477.76072\n",
       "2022-12-18 20:00:00+00:00  16753.20  16774.87  16749.09  16759.96  2279.32264\n",
       "2022-12-18 21:00:00+00:00  16759.68  16785.00  16738.11  16749.24  2285.04540\n",
       "2022-12-18 22:00:00+00:00  16749.32  16866.96  16726.23  16764.56  4980.71945\n",
       "2022-12-18 23:00:00+00:00  16764.55  16820.81  16734.23  16742.32  3905.81589\n",
       "\n",
       "[112 rows x 5 columns]"
      ]
     },
     "execution_count": 9,
     "metadata": {},
     "output_type": "execute_result"
    }
   ],
   "source": [
    "# 初回は遅いです。２回目はキャッシュされているので比較的高速です\n",
    "binance.ohlcv(\n",
    "    DAYS_BEFORE(5),     # 5日前から\n",
    "    0,                  # 最新まで\n",
    "    60*60\n",
    ")"
   ]
  },
  {
   "attachments": {},
   "cell_type": "markdown",
   "metadata": {},
   "source": [
    "このOHCLVだけを利用して独自の分析を行うにも便利だと思います。\n",
    "\n",
    "ご活用ください。"
   ]
  }
 ],
 "metadata": {
  "kernelspec": {
   "display_name": "Python 3.10.6 ('venv': venv)",
   "language": "python",
   "name": "python3"
  },
  "language_info": {
   "codemirror_mode": {
    "name": "ipython",
    "version": 3
   },
   "file_extension": ".py",
   "mimetype": "text/x-python",
   "name": "python",
   "nbconvert_exporter": "python",
   "pygments_lexer": "ipython3",
   "version": "3.10.6"
  },
  "orig_nbformat": 4,
  "vscode": {
   "interpreter": {
    "hash": "561348bbb4e85c6f6e71fe5b82b416ad34192af0efebb264d0a2937e8ad0f6d5"
   }
  }
 },
 "nbformat": 4,
 "nbformat_minor": 2
}
