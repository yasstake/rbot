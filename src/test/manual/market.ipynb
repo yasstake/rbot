{
  "cells": [
    {
      "cell_type": "markdown",
      "source": [
        "<a target=\"_blank\" href=\"https://colab.research.google.com/github/yasstake/rusty-bot/blob/main/manual/market.ipynb\">\n",
        "  <img src=\"https://colab.research.google.com/assets/colab-badge.svg\" alt=\"Open In Colab\"/>\n",
        "</a>"
      ],
      "metadata": {
        "id": "0TnK82x56JuJ"
      }
    },
    {
      "cell_type": "markdown",
      "metadata": {
        "id": "sbzlC06H6Fo1"
      },
      "source": [
        "# Market クラス解説\n",
        "\n",
        "Marketクラスは、取引所で扱われる通貨ペアーの１組合わせをモデリングしたクラスです。\n",
        "現在はBinanceの USDBUSDのSPOT取引しか扱えませんが、比較的容易に拡張できるようにつくっていますので順次拡張していきます。\n",
        "\n",
        "## Marketクラスメソッド\n",
        "\n",
        "### マーケットオブジェクトの生成(`open`)\n",
        "\n",
        "`open`メソッドでMaketオブジェクトを開きます。内部的にキャッシュされているので２回目からはキャッシュを返します。そのため複数回呼び出してOKです。\n",
        "\n",
        "今後SPOT以外にも対応した場合、パラメータが変更になる可能性があります。\n",
        "```\n",
        "binance = Market.open(\n",
        "    'BN',               # Binanceは 'BN'\n",
        "    'BTCBUSD'\n",
        ")\n",
        "```\n",
        "\n",
        "### データのダウンロード(`download`)\n",
        "\n",
        "指定した日付あらあとのデータをダウンロードしてDBへ保存します。\n",
        "BTCBUSDしか対応していないため効果はありませんが、`open`で開いたマーケットオブジェクト全てに対してダウンロード処理をします。\n",
        "\n",
        "```\n",
        "Market.download(\n",
        "    5   #ダウンロード日数（N日前を指定)\n",
        "    )\n",
        "```\n",
        "\n",
        "\n",
        "## Marketオブジェクトメソッド\n",
        "\n",
        "Marketインスタンスが`binance`オブジェクトに保存されている前提で説明します。\n",
        "\n",
        "###　情報表示　\n",
        "\n",
        "####　`_repr_html_()`\n",
        "\n",
        "jupyuter note上でオブジェクトを入力してリターンすると内部的に`_repr_html_()`がよばれて内容が分かりやすく表示されます。\n",
        "```\n",
        "binance\n",
        "```\n",
        "\n",
        "#### DBのパス表示 `file_path`\n",
        "\n",
        "DBは巨大になりますので、不要になったら`file_path`プロパティで表示される場所を確認して手動で消してください。\n",
        "\n",
        "```\n",
        "binance.file_name\n",
        "```\n",
        "\n",
        "### OHLCV取得（pd.DataFrame形式)\n",
        "\n",
        "時刻はμsで指定する。開始時刻に0を指定するとDBの最初から、終了に0を指定するとDBの最後まで（現在時刻に一番ちかいときまで）を指定したことになる。\n",
        "\n",
        "```\n",
        "binance.ohlcv(\n",
        "    start_timestamp_us,     #開始時刻（μs）\n",
        "    end_timestamp_us,       #終了時刻（μs)\n",
        "    60                      #足の幅（秒）\n",
        "    )\n",
        "```\n",
        "\n",
        "pd.DataFrame 形式でOHLCVデータが取得できます。この機能だけつかっても便利に使えます。\n",
        "なお、Tickデータから任意の足を再生成しているので初回キャッシュされていないときはかなり時間がかかります。\n",
        "\n",
        "\n"
      ]
    },
    {
      "cell_type": "markdown",
      "source": [],
      "metadata": {
        "id": "j5DIZ9xF6GUp"
      }
    },
    {
      "cell_type": "markdown",
      "metadata": {
        "id": "t8_RD-ii6Fo3"
      },
      "source": [
        "## 以下動かしながら説明"
      ]
    },
    {
      "cell_type": "markdown",
      "source": [
        "### Google Collab向けパッケージインストール"
      ],
      "metadata": {
        "id": "l39Rpt2h6am1"
      }
    },
    {
      "cell_type": "code",
      "source": [
        "# Google Clab用です。必要に応じてコメントアウトしてください\n",
        "! pip install --upgrade pip\n",
        "! pip install numpy\n",
        "! pip install pandas\n",
        "! pip uninstall -y panel\n",
        "! pip install --upgrade bokeh > 3\n",
        "\n",
        "# https://github.com/yasstake/rusty-bot/releases/tag/release-0.2.0\n",
        "# （環境にあわせて修正お願いします）\n",
        "# Linux/Google Collab用\n",
        "!  pip install https://github.com/yasstake/rusty-bot/releases/download/release-0.2.0/rbot-0.2.0-cp38-cp38-manylinux_2_17_x86_64.manylinux2014_x86_64.whl"
      ],
      "metadata": {
        "id": "5fQpFfl06aEc",
        "outputId": "8d4f7f79-0420-43c1-c7dc-9c833f7c4558",
        "colab": {
          "base_uri": "https://localhost:8080/"
        }
      },
      "execution_count": 1,
      "outputs": [
        {
          "output_type": "stream",
          "name": "stdout",
          "text": [
            "Looking in indexes: https://pypi.org/simple, https://us-python.pkg.dev/colab-wheels/public/simple/\n",
            "Requirement already satisfied: pip in /usr/local/lib/python3.8/dist-packages (21.1.3)\n",
            "Collecting pip\n",
            "  Downloading pip-22.3.1-py3-none-any.whl (2.1 MB)\n",
            "\u001b[K     |████████████████████████████████| 2.1 MB 6.3 MB/s \n",
            "\u001b[?25hInstalling collected packages: pip\n",
            "  Attempting uninstall: pip\n",
            "    Found existing installation: pip 21.1.3\n",
            "    Uninstalling pip-21.1.3:\n",
            "      Successfully uninstalled pip-21.1.3\n",
            "Successfully installed pip-22.3.1\n",
            "Looking in indexes: https://pypi.org/simple, https://us-python.pkg.dev/colab-wheels/public/simple/\n",
            "Requirement already satisfied: numpy in /usr/local/lib/python3.8/dist-packages (1.21.6)\n",
            "\u001b[33mWARNING: Running pip as the 'root' user can result in broken permissions and conflicting behaviour with the system package manager. It is recommended to use a virtual environment instead: https://pip.pypa.io/warnings/venv\u001b[0m\u001b[33m\n",
            "\u001b[0mLooking in indexes: https://pypi.org/simple, https://us-python.pkg.dev/colab-wheels/public/simple/\n",
            "Requirement already satisfied: pandas in /usr/local/lib/python3.8/dist-packages (1.3.5)\n",
            "Requirement already satisfied: pytz>=2017.3 in /usr/local/lib/python3.8/dist-packages (from pandas) (2022.6)\n",
            "Requirement already satisfied: python-dateutil>=2.7.3 in /usr/local/lib/python3.8/dist-packages (from pandas) (2.8.2)\n",
            "Requirement already satisfied: numpy>=1.17.3 in /usr/local/lib/python3.8/dist-packages (from pandas) (1.21.6)\n",
            "Requirement already satisfied: six>=1.5 in /usr/local/lib/python3.8/dist-packages (from python-dateutil>=2.7.3->pandas) (1.15.0)\n",
            "\u001b[33mWARNING: Running pip as the 'root' user can result in broken permissions and conflicting behaviour with the system package manager. It is recommended to use a virtual environment instead: https://pip.pypa.io/warnings/venv\u001b[0m\u001b[33m\n",
            "\u001b[0mFound existing installation: panel 0.12.1\n",
            "Uninstalling panel-0.12.1:\n",
            "  Successfully uninstalled panel-0.12.1\n",
            "\u001b[33mWARNING: Running pip as the 'root' user can result in broken permissions and conflicting behaviour with the system package manager. It is recommended to use a virtual environment instead: https://pip.pypa.io/warnings/venv\u001b[0m\u001b[33m\n",
            "\u001b[0m\u001b[33mWARNING: Running pip as the 'root' user can result in broken permissions and conflicting behaviour with the system package manager. It is recommended to use a virtual environment instead: https://pip.pypa.io/warnings/venv\u001b[0m\u001b[33m\n",
            "\u001b[0mLooking in indexes: https://pypi.org/simple, https://us-python.pkg.dev/colab-wheels/public/simple/\n",
            "Collecting rbot==0.2.0\n",
            "  Downloading https://github.com/yasstake/rusty-bot/releases/download/release-0.2.0/rbot-0.2.0-cp38-cp38-manylinux_2_17_x86_64.manylinux2014_x86_64.whl (11.9 MB)\n",
            "\u001b[2K     \u001b[90m━━━━━━━━━━━━━━━━━━━━━━━━━━━━━━━━━━━━━━━━\u001b[0m \u001b[32m11.9/11.9 MB\u001b[0m \u001b[31m24.6 MB/s\u001b[0m eta \u001b[36m0:00:00\u001b[0m\n",
            "\u001b[?25hInstalling collected packages: rbot\n",
            "Successfully installed rbot-0.2.0\n",
            "\u001b[33mWARNING: Running pip as the 'root' user can result in broken permissions and conflicting behaviour with the system package manager. It is recommended to use a virtual environment instead: https://pip.pypa.io/warnings/venv\u001b[0m\u001b[33m\n",
            "\u001b[0m"
          ]
        }
      ]
    },
    {
      "cell_type": "markdown",
      "source": [
        "### 以後Marktライブラリの動作"
      ],
      "metadata": {
        "id": "lJJls8q66gDz"
      }
    },
    {
      "cell_type": "code",
      "execution_count": 2,
      "metadata": {
        "id": "6oXmGbPA6Fo3"
      },
      "outputs": [],
      "source": [
        "# 必要ライブラリのimport\n",
        "import rbot\n",
        "from rbot import Market\n",
        "from rbot import DAYS_BEFORE"
      ]
    },
    {
      "cell_type": "code",
      "execution_count": 4,
      "metadata": {
        "id": "DoD87dHY6Fo3"
      },
      "outputs": [],
      "source": [
        "# Binance('BN')の'BTCBUSD'ペアーの取引マーケットを生成\n",
        "binance = Market.open('BN', 'BTCBUSD')\n",
        "\n",
        "# 上記でオープンしたマーケットに対し5日より新しいログをダウンロード\n",
        "Market.download(5)\n",
        "\n",
        "# Market.download(5, True)       #ディフォルトではキャッシュされているので、再ダウンロードしたい場合は強制フラグをTrueにする。Collabでは１日あたり1分ぐらいかかります。"
      ]
    },
    {
      "cell_type": "code",
      "execution_count": 5,
      "metadata": {
        "id": "XUgtpn8o6Fo4",
        "outputId": "4fac9442-b2af-4727-b930-4ee669991a2d",
        "colab": {
          "base_uri": "https://localhost:8080/",
          "height": 139
        }
      },
      "outputs": [
        {
          "output_type": "execute_result",
          "data": {
            "text/plain": [
              "<rbot.BinanceMarket at 0x7fb8f0c86af0>"
            ],
            "text/html": [
              "<b>Binance DB (BTCBUSD)</b>\n",
              "            <table>\n",
              "            <caption>Trade Database info table</caption>\n",
              "            <tr><th>start</th><th>end</th></tr>\n",
              "            <tr><td>1670889600100000</td><td>1671407999900000</td></tr>\n",
              "            <tr><td>\"2022-12-13T00:00:00.100000\"</td><td>\"2022-12-18T23:59:59.900000\"</td></tr>\n",
              "            <tr><td><b>days=</b></td><td>5</td></tr>                \n",
              "            </table>                \n",
              "            "
            ]
          },
          "metadata": {},
          "execution_count": 5
        }
      ],
      "source": [
        "# Marketオブジェクトが管理するDBに保存されているデータ期間を表示する。\n",
        "binance"
      ]
    },
    {
      "cell_type": "code",
      "execution_count": 6,
      "metadata": {
        "id": "S4iW-C1v6Fo4",
        "outputId": "20175888-a47f-4b16-b49a-d7a963ae3a87",
        "colab": {
          "base_uri": "https://localhost:8080/",
          "height": 35
        }
      },
      "outputs": [
        {
          "output_type": "execute_result",
          "data": {
            "text/plain": [
              "'/root/.local/share/rbot/DB/BN/SPOT-BTCBUSD.db'"
            ],
            "application/vnd.google.colaboratory.intrinsic+json": {
              "type": "string"
            }
          },
          "metadata": {},
          "execution_count": 6
        }
      ],
      "source": [
        "# データベースのDisk上の場所を表示する。不要になったら手で消してください。\n",
        "\n",
        "binance.file_name"
      ]
    },
    {
      "cell_type": "markdown",
      "metadata": {
        "id": "JnN9omjp6Fo4"
      },
      "source": [
        "## OHLCVの取得"
      ]
    },
    {
      "cell_type": "code",
      "execution_count": 7,
      "metadata": {
        "id": "CzyQj2lN6Fo4",
        "outputId": "70ee8ad1-4ab6-4f6a-fdad-540088ebd37f",
        "colab": {
          "base_uri": "https://localhost:8080/",
          "height": 455
        }
      },
      "outputs": [
        {
          "output_type": "execute_result",
          "data": {
            "text/plain": [
              "                               open      high       low     close       volume\n",
              "timestamp                                                                     \n",
              "2022-12-14 10:00:00+00:00  17827.18  17830.00  17811.82  17828.15    993.65398\n",
              "2022-12-14 11:00:00+00:00  17828.15  17859.00  17807.00  17825.88   3778.80179\n",
              "2022-12-14 12:00:00+00:00  17824.90  17930.00  17815.21  17914.61   6847.23861\n",
              "2022-12-14 13:00:00+00:00  17914.70  17964.82  17862.80  17895.76   6236.92182\n",
              "2022-12-14 14:00:00+00:00  17895.41  18094.00  17894.13  18062.34  12078.83386\n",
              "...                             ...       ...       ...       ...          ...\n",
              "2022-12-18 19:00:00+00:00  16748.27  16771.86  16725.01  16753.31   2477.76072\n",
              "2022-12-18 20:00:00+00:00  16753.20  16774.87  16749.09  16759.96   2279.32264\n",
              "2022-12-18 21:00:00+00:00  16759.68  16785.00  16738.11  16749.24   2285.04540\n",
              "2022-12-18 22:00:00+00:00  16749.32  16866.96  16726.23  16764.56   4980.71945\n",
              "2022-12-18 23:00:00+00:00  16764.55  16820.81  16734.23  16742.32   3905.81589\n",
              "\n",
              "[110 rows x 5 columns]"
            ],
            "text/html": [
              "\n",
              "  <div id=\"df-d12dd17b-6d8d-4dce-a107-c93969cebe6f\">\n",
              "    <div class=\"colab-df-container\">\n",
              "      <div>\n",
              "<style scoped>\n",
              "    .dataframe tbody tr th:only-of-type {\n",
              "        vertical-align: middle;\n",
              "    }\n",
              "\n",
              "    .dataframe tbody tr th {\n",
              "        vertical-align: top;\n",
              "    }\n",
              "\n",
              "    .dataframe thead th {\n",
              "        text-align: right;\n",
              "    }\n",
              "</style>\n",
              "<table border=\"1\" class=\"dataframe\">\n",
              "  <thead>\n",
              "    <tr style=\"text-align: right;\">\n",
              "      <th></th>\n",
              "      <th>open</th>\n",
              "      <th>high</th>\n",
              "      <th>low</th>\n",
              "      <th>close</th>\n",
              "      <th>volume</th>\n",
              "    </tr>\n",
              "    <tr>\n",
              "      <th>timestamp</th>\n",
              "      <th></th>\n",
              "      <th></th>\n",
              "      <th></th>\n",
              "      <th></th>\n",
              "      <th></th>\n",
              "    </tr>\n",
              "  </thead>\n",
              "  <tbody>\n",
              "    <tr>\n",
              "      <th>2022-12-14 10:00:00+00:00</th>\n",
              "      <td>17827.18</td>\n",
              "      <td>17830.00</td>\n",
              "      <td>17811.82</td>\n",
              "      <td>17828.15</td>\n",
              "      <td>993.65398</td>\n",
              "    </tr>\n",
              "    <tr>\n",
              "      <th>2022-12-14 11:00:00+00:00</th>\n",
              "      <td>17828.15</td>\n",
              "      <td>17859.00</td>\n",
              "      <td>17807.00</td>\n",
              "      <td>17825.88</td>\n",
              "      <td>3778.80179</td>\n",
              "    </tr>\n",
              "    <tr>\n",
              "      <th>2022-12-14 12:00:00+00:00</th>\n",
              "      <td>17824.90</td>\n",
              "      <td>17930.00</td>\n",
              "      <td>17815.21</td>\n",
              "      <td>17914.61</td>\n",
              "      <td>6847.23861</td>\n",
              "    </tr>\n",
              "    <tr>\n",
              "      <th>2022-12-14 13:00:00+00:00</th>\n",
              "      <td>17914.70</td>\n",
              "      <td>17964.82</td>\n",
              "      <td>17862.80</td>\n",
              "      <td>17895.76</td>\n",
              "      <td>6236.92182</td>\n",
              "    </tr>\n",
              "    <tr>\n",
              "      <th>2022-12-14 14:00:00+00:00</th>\n",
              "      <td>17895.41</td>\n",
              "      <td>18094.00</td>\n",
              "      <td>17894.13</td>\n",
              "      <td>18062.34</td>\n",
              "      <td>12078.83386</td>\n",
              "    </tr>\n",
              "    <tr>\n",
              "      <th>...</th>\n",
              "      <td>...</td>\n",
              "      <td>...</td>\n",
              "      <td>...</td>\n",
              "      <td>...</td>\n",
              "      <td>...</td>\n",
              "    </tr>\n",
              "    <tr>\n",
              "      <th>2022-12-18 19:00:00+00:00</th>\n",
              "      <td>16748.27</td>\n",
              "      <td>16771.86</td>\n",
              "      <td>16725.01</td>\n",
              "      <td>16753.31</td>\n",
              "      <td>2477.76072</td>\n",
              "    </tr>\n",
              "    <tr>\n",
              "      <th>2022-12-18 20:00:00+00:00</th>\n",
              "      <td>16753.20</td>\n",
              "      <td>16774.87</td>\n",
              "      <td>16749.09</td>\n",
              "      <td>16759.96</td>\n",
              "      <td>2279.32264</td>\n",
              "    </tr>\n",
              "    <tr>\n",
              "      <th>2022-12-18 21:00:00+00:00</th>\n",
              "      <td>16759.68</td>\n",
              "      <td>16785.00</td>\n",
              "      <td>16738.11</td>\n",
              "      <td>16749.24</td>\n",
              "      <td>2285.04540</td>\n",
              "    </tr>\n",
              "    <tr>\n",
              "      <th>2022-12-18 22:00:00+00:00</th>\n",
              "      <td>16749.32</td>\n",
              "      <td>16866.96</td>\n",
              "      <td>16726.23</td>\n",
              "      <td>16764.56</td>\n",
              "      <td>4980.71945</td>\n",
              "    </tr>\n",
              "    <tr>\n",
              "      <th>2022-12-18 23:00:00+00:00</th>\n",
              "      <td>16764.55</td>\n",
              "      <td>16820.81</td>\n",
              "      <td>16734.23</td>\n",
              "      <td>16742.32</td>\n",
              "      <td>3905.81589</td>\n",
              "    </tr>\n",
              "  </tbody>\n",
              "</table>\n",
              "<p>110 rows × 5 columns</p>\n",
              "</div>\n",
              "      <button class=\"colab-df-convert\" onclick=\"convertToInteractive('df-d12dd17b-6d8d-4dce-a107-c93969cebe6f')\"\n",
              "              title=\"Convert this dataframe to an interactive table.\"\n",
              "              style=\"display:none;\">\n",
              "        \n",
              "  <svg xmlns=\"http://www.w3.org/2000/svg\" height=\"24px\"viewBox=\"0 0 24 24\"\n",
              "       width=\"24px\">\n",
              "    <path d=\"M0 0h24v24H0V0z\" fill=\"none\"/>\n",
              "    <path d=\"M18.56 5.44l.94 2.06.94-2.06 2.06-.94-2.06-.94-.94-2.06-.94 2.06-2.06.94zm-11 1L8.5 8.5l.94-2.06 2.06-.94-2.06-.94L8.5 2.5l-.94 2.06-2.06.94zm10 10l.94 2.06.94-2.06 2.06-.94-2.06-.94-.94-2.06-.94 2.06-2.06.94z\"/><path d=\"M17.41 7.96l-1.37-1.37c-.4-.4-.92-.59-1.43-.59-.52 0-1.04.2-1.43.59L10.3 9.45l-7.72 7.72c-.78.78-.78 2.05 0 2.83L4 21.41c.39.39.9.59 1.41.59.51 0 1.02-.2 1.41-.59l7.78-7.78 2.81-2.81c.8-.78.8-2.07 0-2.86zM5.41 20L4 18.59l7.72-7.72 1.47 1.35L5.41 20z\"/>\n",
              "  </svg>\n",
              "      </button>\n",
              "      \n",
              "  <style>\n",
              "    .colab-df-container {\n",
              "      display:flex;\n",
              "      flex-wrap:wrap;\n",
              "      gap: 12px;\n",
              "    }\n",
              "\n",
              "    .colab-df-convert {\n",
              "      background-color: #E8F0FE;\n",
              "      border: none;\n",
              "      border-radius: 50%;\n",
              "      cursor: pointer;\n",
              "      display: none;\n",
              "      fill: #1967D2;\n",
              "      height: 32px;\n",
              "      padding: 0 0 0 0;\n",
              "      width: 32px;\n",
              "    }\n",
              "\n",
              "    .colab-df-convert:hover {\n",
              "      background-color: #E2EBFA;\n",
              "      box-shadow: 0px 1px 2px rgba(60, 64, 67, 0.3), 0px 1px 3px 1px rgba(60, 64, 67, 0.15);\n",
              "      fill: #174EA6;\n",
              "    }\n",
              "\n",
              "    [theme=dark] .colab-df-convert {\n",
              "      background-color: #3B4455;\n",
              "      fill: #D2E3FC;\n",
              "    }\n",
              "\n",
              "    [theme=dark] .colab-df-convert:hover {\n",
              "      background-color: #434B5C;\n",
              "      box-shadow: 0px 1px 3px 1px rgba(0, 0, 0, 0.15);\n",
              "      filter: drop-shadow(0px 1px 2px rgba(0, 0, 0, 0.3));\n",
              "      fill: #FFFFFF;\n",
              "    }\n",
              "  </style>\n",
              "\n",
              "      <script>\n",
              "        const buttonEl =\n",
              "          document.querySelector('#df-d12dd17b-6d8d-4dce-a107-c93969cebe6f button.colab-df-convert');\n",
              "        buttonEl.style.display =\n",
              "          google.colab.kernel.accessAllowed ? 'block' : 'none';\n",
              "\n",
              "        async function convertToInteractive(key) {\n",
              "          const element = document.querySelector('#df-d12dd17b-6d8d-4dce-a107-c93969cebe6f');\n",
              "          const dataTable =\n",
              "            await google.colab.kernel.invokeFunction('convertToInteractive',\n",
              "                                                     [key], {});\n",
              "          if (!dataTable) return;\n",
              "\n",
              "          const docLinkHtml = 'Like what you see? Visit the ' +\n",
              "            '<a target=\"_blank\" href=https://colab.research.google.com/notebooks/data_table.ipynb>data table notebook</a>'\n",
              "            + ' to learn more about interactive tables.';\n",
              "          element.innerHTML = '';\n",
              "          dataTable['output_type'] = 'display_data';\n",
              "          await google.colab.output.renderOutput(dataTable, element);\n",
              "          const docLink = document.createElement('div');\n",
              "          docLink.innerHTML = docLinkHtml;\n",
              "          element.appendChild(docLink);\n",
              "        }\n",
              "      </script>\n",
              "    </div>\n",
              "  </div>\n",
              "  "
            ]
          },
          "metadata": {},
          "execution_count": 7
        }
      ],
      "source": [
        "# 初回は遅いです。２回目はキャッシュされているので比較的高速です\n",
        "binance.ohlcv(\n",
        "    DAYS_BEFORE(5),     # 5日前から\n",
        "    0,                  # 最新まで\n",
        "    60*60\n",
        ")"
      ]
    },
    {
      "cell_type": "markdown",
      "metadata": {
        "id": "zJ32_Apr6Fo4"
      },
      "source": [
        "短めの足では任意のサイズの足が作れるので、このOHCLVだけを利用して独自の分析を行うにも便利だと思います。\n",
        "週足より長い足も作れますが、性能が出ないのとデータが揃わない点に問題があり実用できではないかもしれません。\n",
        "\n",
        "ご活用ください。"
      ]
    }
  ],
  "metadata": {
    "kernelspec": {
      "display_name": "venv",
      "language": "python",
      "name": "python3"
    },
    "language_info": {
      "codemirror_mode": {
        "name": "ipython",
        "version": 3
      },
      "file_extension": ".py",
      "mimetype": "text/x-python",
      "name": "python",
      "nbconvert_exporter": "python",
      "pygments_lexer": "ipython3",
      "version": "3.10.6 (main, Aug 30 2022, 04:58:14) [Clang 13.1.6 (clang-1316.0.21.2.5)]"
    },
    "orig_nbformat": 4,
    "vscode": {
      "interpreter": {
        "hash": "e69bbd470bf1393b14609a6bb37f84ea05c8b778927caf2a584647f90d922fc5"
      }
    },
    "colab": {
      "provenance": []
    }
  },
  "nbformat": 4,
  "nbformat_minor": 0
}