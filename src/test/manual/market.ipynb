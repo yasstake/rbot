{
  "cells": [
    {
      "cell_type": "markdown",
      "metadata": {
        "id": "0TnK82x56JuJ"
      },
      "source": [
        "<a target=\"_blank\" href=\"https://colab.research.google.com/github/yasstake/rusty-bot/blob/main/manual/market.ipynb\">\n",
        "  <img src=\"https://colab.research.google.com/assets/colab-badge.svg\" alt=\"Open In Colab\"/>\n",
        "</a>"
      ]
    },
    {
      "cell_type": "markdown",
      "metadata": {
        "id": "sbzlC06H6Fo1"
      },
      "source": [
        "# Market クラス解説\n",
        "\n",
        "Marketクラスは、取引所で扱われる通貨ペアーの１組合わせをモデリングしたクラスです。\n",
        "現在はBinanceの USDBUSDのSPOT取引しか扱えませんが、比較的容易に拡張できるようにつくっていますので順次拡張していきます。\n",
        "\n",
        "## Marketクラスメソッド\n",
        "\n",
        "### マーケットオブジェクトの生成(`open`)\n",
        "\n",
        "`open`メソッドでMaketオブジェクトを開きます。内部的にキャッシュされているので２回目からはキャッシュを返します。そのため複数回呼び出してOKです。\n",
        "\n",
        "今後SPOT以外にも対応した場合、パラメータが変更になる可能性があります。\n",
        "```\n",
        "binance = Market.open(\n",
        "    'BN',               # Binanceは 'BN'\n",
        "    'BTCBUSD'\n",
        ")\n",
        "```\n",
        "\n",
        "### データのダウンロード(`download`)\n",
        "\n",
        "指定した日付あらあとのデータをダウンロードしてDBへ保存します。\n",
        "BTCBUSDしか対応していないため効果はありませんが、`open`で開いたマーケットオブジェクト全てに対してダウンロード処理をします。\n",
        "\n",
        "```\n",
        "Market.download(\n",
        "    5   #ダウンロード日数（N日前を指定)\n",
        "    )\n",
        "```\n",
        "\n",
        "\n",
        "## Marketオブジェクトメソッド\n",
        "\n",
        "Marketインスタンスが`binance`オブジェクトに保存されている前提で説明します。\n",
        "\n",
        "###　情報表示　\n",
        "\n",
        "####　`_repr_html_()`\n",
        "\n",
        "jupyuter note上でオブジェクトを入力してリターンすると内部的に`_repr_html_()`がよばれて内容が分かりやすく表示されます。\n",
        "```\n",
        "binance\n",
        "```\n",
        "\n",
        "#### DBのパス表示 `file_path`\n",
        "\n",
        "DBは巨大になりますので、不要になったら`file_path`プロパティで表示される場所を確認して手動で消してください。\n",
        "\n",
        "```\n",
        "binance.file_name\n",
        "```\n",
        "\n",
        "### OHLCV取得（pd.DataFrame形式)\n",
        "\n",
        "時刻はμsで指定する。開始時刻に0を指定するとDBの最初から、終了に0を指定するとDBの最後まで（現在時刻に一番ちかいときまで）を指定したことになる。\n",
        "\n",
        "```\n",
        "binance.ohlcv(\n",
        "    start_timestamp_us,     #開始時刻（μs）\n",
        "    end_timestamp_us,       #終了時刻（μs)\n",
        "    60                      #足の幅（秒）\n",
        "    )\n",
        "```\n",
        "\n",
        "pd.DataFrame 形式でOHLCVデータが取得できます。この機能だけつかっても便利に使えます。\n",
        "なお、Tickデータから任意の足を再生成しているので初回キャッシュされていないときはかなり時間がかかります。\n",
        "\n",
        "\n"
      ]
    },
    {
      "cell_type": "markdown",
      "metadata": {
        "id": "j5DIZ9xF6GUp"
      },
      "source": []
    },
    {
      "cell_type": "markdown",
      "metadata": {
        "id": "t8_RD-ii6Fo3"
      },
      "source": [
        "## 以下動かしながら説明"
      ]
    },
    {
      "cell_type": "markdown",
      "metadata": {
        "id": "l39Rpt2h6am1"
      },
      "source": [
        "### Google Collab向けパッケージインストール"
      ]
    },
    {
      "cell_type": "code",
      "execution_count": null,
      "metadata": {
        "colab": {
          "base_uri": "https://localhost:8080/"
        },
        "id": "5fQpFfl06aEc",
        "outputId": "8d4f7f79-0420-43c1-c7dc-9c833f7c4558"
      },
      "outputs": [],
      "source": [
        "# Google Clab用です。必要に応じてコメントアウトしてください\n",
        "! pip install --upgrade pip\n",
        "! pip install numpy\n",
        "! pip install pandas\n",
        "! pip uninstall -y panel\n",
        "! pip install --upgrade bokeh >= 3\n",
        "\n",
        "# https://github.com/yasstake/rusty-bot/releases/\n",
        "# （環境にあわせて修正お願いします。404エラーが出た場合は新しいリリースになっているので上記URLを確認してください）\n",
        "# Linux/Google Collab用\n",
        "!  pip install https://github.com/yasstake/rusty-bot/releases/download/release-0.2.0a/rbot-0.2.0-cp38-cp38-manylinux_2_17_x86_64.manylinux2014_x86_64.whl\n"
      ]
    },
    {
      "cell_type": "markdown",
      "metadata": {
        "id": "lJJls8q66gDz"
      },
      "source": [
        "### 以後Marktライブラリの動作"
      ]
    },
    {
      "cell_type": "code",
      "execution_count": null,
      "metadata": {
        "id": "6oXmGbPA6Fo3"
      },
      "outputs": [],
      "source": [
        "# 必要ライブラリのimport\n",
        "import rbot\n",
        "from rbot import Market\n",
        "from rbot import DAYS_BEFORE"
      ]
    },
    {
      "cell_type": "code",
      "execution_count": null,
      "metadata": {
        "id": "DoD87dHY6Fo3"
      },
      "outputs": [],
      "source": [
        "# Binance('BN')の'BTCBUSD'ペアーの取引マーケットを生成\n",
        "binance = Market.open('BN', 'BTCBUSD')\n",
        "\n",
        "# 上記でオープンしたマーケットに対し5日より新しいログをダウンロード\n",
        "Market.download(5)\n",
        "\n",
        "# Market.download(5, True)       #ディフォルトではキャッシュされているので、再ダウンロードしたい場合は強制フラグをTrueにする。Collabでは１日あたり1分ぐらいかかります。"
      ]
    },
    {
      "cell_type": "code",
      "execution_count": null,
      "metadata": {
        "colab": {
          "base_uri": "https://localhost:8080/",
          "height": 139
        },
        "id": "XUgtpn8o6Fo4",
        "outputId": "4fac9442-b2af-4727-b930-4ee669991a2d"
      },
      "outputs": [],
      "source": [
        "# Marketオブジェクトが管理するDBに保存されているデータ期間を表示する。\n",
        "binance"
      ]
    },
    {
      "cell_type": "code",
      "execution_count": null,
      "metadata": {
        "colab": {
          "base_uri": "https://localhost:8080/",
          "height": 35
        },
        "id": "S4iW-C1v6Fo4",
        "outputId": "20175888-a47f-4b16-b49a-d7a963ae3a87"
      },
      "outputs": [],
      "source": [
        "# データベースのDisk上の場所を表示する。不要になったら手で消してください。\n",
        "\n",
        "binance.file_name"
      ]
    },
    {
      "cell_type": "markdown",
      "metadata": {
        "id": "JnN9omjp6Fo4"
      },
      "source": [
        "## OHLCVの取得"
      ]
    },
    {
      "cell_type": "code",
      "execution_count": null,
      "metadata": {
        "colab": {
          "base_uri": "https://localhost:8080/",
          "height": 455
        },
        "id": "CzyQj2lN6Fo4",
        "outputId": "70ee8ad1-4ab6-4f6a-fdad-540088ebd37f"
      },
      "outputs": [],
      "source": [
        "# 初回は遅いです。２回目はキャッシュされているので比較的高速です\n",
        "binance.ohlcv(\n",
        "    DAYS_BEFORE(5),     # 5日前から\n",
        "    0,                  # 最新まで\n",
        "    60*60\n",
        ")"
      ]
    },
    {
      "cell_type": "markdown",
      "metadata": {
        "id": "zJ32_Apr6Fo4"
      },
      "source": [
        "短めの足では任意のサイズの足が作れるので、このOHCLVだけを利用して独自の分析を行うにも便利だと思います。\n",
        "週足より長い足も作れますが、性能が出ないのとデータが揃わない点に問題があり実用できではないかもしれません。\n",
        "\n",
        "ご活用ください。"
      ]
    },
    {
      "attachments": {},
      "cell_type": "markdown",
      "metadata": {},
      "source": [
        "# おまけ\n",
        "\n",
        "## pandasで作ったDBを読み込む\n",
        "\n",
        "以下の方法でpythonのプログラムへSQLDBから直接データをロードできる。"
      ]
    },
    {
      "cell_type": "code",
      "execution_count": 69,
      "metadata": {},
      "outputs": [
        {
          "data": {
            "text/html": [
              "<div>\n",
              "<style scoped>\n",
              "    .dataframe tbody tr th:only-of-type {\n",
              "        vertical-align: middle;\n",
              "    }\n",
              "\n",
              "    .dataframe tbody tr th {\n",
              "        vertical-align: top;\n",
              "    }\n",
              "\n",
              "    .dataframe thead th {\n",
              "        text-align: right;\n",
              "    }\n",
              "</style>\n",
              "<table border=\"1\" class=\"dataframe\">\n",
              "  <thead>\n",
              "    <tr style=\"text-align: right;\">\n",
              "      <th></th>\n",
              "      <th>action</th>\n",
              "      <th>price</th>\n",
              "      <th>size</th>\n",
              "      <th>id</th>\n",
              "    </tr>\n",
              "    <tr>\n",
              "      <th>timestamp</th>\n",
              "      <th></th>\n",
              "      <th></th>\n",
              "      <th></th>\n",
              "      <th></th>\n",
              "    </tr>\n",
              "  </thead>\n",
              "  <tbody>\n",
              "    <tr>\n",
              "      <th>2022-12-13 00:00:00.100</th>\n",
              "      <td>Sell</td>\n",
              "      <td>17212.12</td>\n",
              "      <td>0.08270</td>\n",
              "      <td>686685000</td>\n",
              "    </tr>\n",
              "    <tr>\n",
              "      <th>2022-12-13 00:00:00.100</th>\n",
              "      <td>Sell</td>\n",
              "      <td>17212.13</td>\n",
              "      <td>0.01260</td>\n",
              "      <td>686685001</td>\n",
              "    </tr>\n",
              "    <tr>\n",
              "      <th>2022-12-13 00:00:00.100</th>\n",
              "      <td>Sell</td>\n",
              "      <td>17212.13</td>\n",
              "      <td>0.30589</td>\n",
              "      <td>686685002</td>\n",
              "    </tr>\n",
              "    <tr>\n",
              "      <th>2022-12-13 00:00:00.100</th>\n",
              "      <td>Sell</td>\n",
              "      <td>17212.25</td>\n",
              "      <td>0.01743</td>\n",
              "      <td>686685003</td>\n",
              "    </tr>\n",
              "    <tr>\n",
              "      <th>2022-12-13 00:00:00.106</th>\n",
              "      <td>Buy</td>\n",
              "      <td>17211.70</td>\n",
              "      <td>0.00400</td>\n",
              "      <td>686685004</td>\n",
              "    </tr>\n",
              "    <tr>\n",
              "      <th>...</th>\n",
              "      <td>...</td>\n",
              "      <td>...</td>\n",
              "      <td>...</td>\n",
              "      <td>...</td>\n",
              "    </tr>\n",
              "    <tr>\n",
              "      <th>2022-12-16 09:17:04.954</th>\n",
              "      <td>Buy</td>\n",
              "      <td>17050.85</td>\n",
              "      <td>0.04407</td>\n",
              "      <td>696684998</td>\n",
              "    </tr>\n",
              "    <tr>\n",
              "      <th>2022-12-16 09:17:04.954</th>\n",
              "      <td>Buy</td>\n",
              "      <td>17050.83</td>\n",
              "      <td>0.34302</td>\n",
              "      <td>696684999</td>\n",
              "    </tr>\n",
              "    <tr>\n",
              "      <th>2022-12-16 09:17:04.954</th>\n",
              "      <td>Buy</td>\n",
              "      <td>17050.82</td>\n",
              "      <td>0.05244</td>\n",
              "      <td>696685000</td>\n",
              "    </tr>\n",
              "    <tr>\n",
              "      <th>2022-12-16 09:17:04.954</th>\n",
              "      <td>Buy</td>\n",
              "      <td>17050.60</td>\n",
              "      <td>0.03110</td>\n",
              "      <td>696685001</td>\n",
              "    </tr>\n",
              "    <tr>\n",
              "      <th>2022-12-16 09:17:04.954</th>\n",
              "      <td>Buy</td>\n",
              "      <td>17050.45</td>\n",
              "      <td>0.01445</td>\n",
              "      <td>696685002</td>\n",
              "    </tr>\n",
              "  </tbody>\n",
              "</table>\n",
              "<p>10000000 rows × 4 columns</p>\n",
              "</div>"
            ],
            "text/plain": [
              "                        action     price     size         id\n",
              "timestamp                                                   \n",
              "2022-12-13 00:00:00.100   Sell  17212.12  0.08270  686685000\n",
              "2022-12-13 00:00:00.100   Sell  17212.13  0.01260  686685001\n",
              "2022-12-13 00:00:00.100   Sell  17212.13  0.30589  686685002\n",
              "2022-12-13 00:00:00.100   Sell  17212.25  0.01743  686685003\n",
              "2022-12-13 00:00:00.106    Buy  17211.70  0.00400  686685004\n",
              "...                        ...       ...      ...        ...\n",
              "2022-12-16 09:17:04.954    Buy  17050.85  0.04407  696684998\n",
              "2022-12-16 09:17:04.954    Buy  17050.83  0.34302  696684999\n",
              "2022-12-16 09:17:04.954    Buy  17050.82  0.05244  696685000\n",
              "2022-12-16 09:17:04.954    Buy  17050.60  0.03110  696685001\n",
              "2022-12-16 09:17:04.954    Buy  17050.45  0.01445  696685002\n",
              "\n",
              "[10000000 rows x 4 columns]"
            ]
          },
          "execution_count": 69,
          "metadata": {},
          "output_type": "execute_result"
        }
      ],
      "source": [
        "import sqlite3\n",
        "import pandas as pd\n",
        "\n",
        "file = binance.file_name\n",
        "\n",
        "connection = sqlite3.connect(file)\n",
        "\n",
        "df = pd.read_sql_query('select * from trades order by time_stamp limit 10000000', connection)\n",
        "df['timestamp'] = pd.to_datetime(df['time_stamp'], unit='us')\n",
        "df = df.set_index('timestamp', drop=True)\n",
        "\n",
        "df = df.drop(columns='time_stamp')\n",
        "df"
      ]
    },
    {
      "attachments": {},
      "cell_type": "markdown",
      "metadata": {},
      "source": [
        "## ohlcを作る\n",
        "\n",
        "`resample`を使えば任意の足のohlcvが作れる。\n",
        "dfに入っているデータの最後は時間きっちりではなくて、件数指定でたまたま入ってきた切れ目なので未確定足になる。"
      ]
    },
    {
      "cell_type": "code",
      "execution_count": 111,
      "metadata": {},
      "outputs": [
        {
          "data": {
            "text/html": [
              "<div>\n",
              "<style scoped>\n",
              "    .dataframe tbody tr th:only-of-type {\n",
              "        vertical-align: middle;\n",
              "    }\n",
              "\n",
              "    .dataframe tbody tr th {\n",
              "        vertical-align: top;\n",
              "    }\n",
              "\n",
              "    .dataframe thead th {\n",
              "        text-align: right;\n",
              "    }\n",
              "</style>\n",
              "<table border=\"1\" class=\"dataframe\">\n",
              "  <thead>\n",
              "    <tr style=\"text-align: right;\">\n",
              "      <th></th>\n",
              "      <th>open</th>\n",
              "      <th>high</th>\n",
              "      <th>low</th>\n",
              "      <th>close</th>\n",
              "      <th>volume</th>\n",
              "    </tr>\n",
              "    <tr>\n",
              "      <th>timestamp</th>\n",
              "      <th></th>\n",
              "      <th></th>\n",
              "      <th></th>\n",
              "      <th></th>\n",
              "      <th></th>\n",
              "    </tr>\n",
              "  </thead>\n",
              "  <tbody>\n",
              "    <tr>\n",
              "      <th>2022-12-13 00:00:00</th>\n",
              "      <td>17212.12</td>\n",
              "      <td>17216.55</td>\n",
              "      <td>17208.88</td>\n",
              "      <td>17208.88</td>\n",
              "      <td>110.53964</td>\n",
              "    </tr>\n",
              "    <tr>\n",
              "      <th>2022-12-13 00:01:00</th>\n",
              "      <td>17209.49</td>\n",
              "      <td>17227.24</td>\n",
              "      <td>17208.84</td>\n",
              "      <td>17226.99</td>\n",
              "      <td>147.61285</td>\n",
              "    </tr>\n",
              "    <tr>\n",
              "      <th>2022-12-13 00:02:00</th>\n",
              "      <td>17227.23</td>\n",
              "      <td>17241.10</td>\n",
              "      <td>17225.42</td>\n",
              "      <td>17225.42</td>\n",
              "      <td>227.11544</td>\n",
              "    </tr>\n",
              "    <tr>\n",
              "      <th>2022-12-13 00:03:00</th>\n",
              "      <td>17226.38</td>\n",
              "      <td>17226.38</td>\n",
              "      <td>17214.26</td>\n",
              "      <td>17214.33</td>\n",
              "      <td>127.27688</td>\n",
              "    </tr>\n",
              "    <tr>\n",
              "      <th>2022-12-13 00:04:00</th>\n",
              "      <td>17215.36</td>\n",
              "      <td>17222.68</td>\n",
              "      <td>17208.25</td>\n",
              "      <td>17209.50</td>\n",
              "      <td>111.88474</td>\n",
              "    </tr>\n",
              "    <tr>\n",
              "      <th>...</th>\n",
              "      <td>...</td>\n",
              "      <td>...</td>\n",
              "      <td>...</td>\n",
              "      <td>...</td>\n",
              "      <td>...</td>\n",
              "    </tr>\n",
              "    <tr>\n",
              "      <th>2022-12-16 09:13:00</th>\n",
              "      <td>17041.85</td>\n",
              "      <td>17048.11</td>\n",
              "      <td>17019.24</td>\n",
              "      <td>17047.01</td>\n",
              "      <td>312.86476</td>\n",
              "    </tr>\n",
              "    <tr>\n",
              "      <th>2022-12-16 09:14:00</th>\n",
              "      <td>17045.76</td>\n",
              "      <td>17048.29</td>\n",
              "      <td>17021.62</td>\n",
              "      <td>17027.27</td>\n",
              "      <td>330.13224</td>\n",
              "    </tr>\n",
              "    <tr>\n",
              "      <th>2022-12-16 09:15:00</th>\n",
              "      <td>17028.36</td>\n",
              "      <td>17041.25</td>\n",
              "      <td>16950.24</td>\n",
              "      <td>17035.88</td>\n",
              "      <td>943.04203</td>\n",
              "    </tr>\n",
              "    <tr>\n",
              "      <th>2022-12-16 09:16:00</th>\n",
              "      <td>17038.34</td>\n",
              "      <td>17067.34</td>\n",
              "      <td>17038.13</td>\n",
              "      <td>17058.94</td>\n",
              "      <td>404.83501</td>\n",
              "    </tr>\n",
              "    <tr>\n",
              "      <th>2022-12-16 09:17:00</th>\n",
              "      <td>17060.18</td>\n",
              "      <td>17061.50</td>\n",
              "      <td>17050.45</td>\n",
              "      <td>17050.45</td>\n",
              "      <td>30.45522</td>\n",
              "    </tr>\n",
              "  </tbody>\n",
              "</table>\n",
              "<p>4878 rows × 5 columns</p>\n",
              "</div>"
            ],
            "text/plain": [
              "                         open      high       low     close     volume\n",
              "timestamp                                                             \n",
              "2022-12-13 00:00:00  17212.12  17216.55  17208.88  17208.88  110.53964\n",
              "2022-12-13 00:01:00  17209.49  17227.24  17208.84  17226.99  147.61285\n",
              "2022-12-13 00:02:00  17227.23  17241.10  17225.42  17225.42  227.11544\n",
              "2022-12-13 00:03:00  17226.38  17226.38  17214.26  17214.33  127.27688\n",
              "2022-12-13 00:04:00  17215.36  17222.68  17208.25  17209.50  111.88474\n",
              "...                       ...       ...       ...       ...        ...\n",
              "2022-12-16 09:13:00  17041.85  17048.11  17019.24  17047.01  312.86476\n",
              "2022-12-16 09:14:00  17045.76  17048.29  17021.62  17027.27  330.13224\n",
              "2022-12-16 09:15:00  17028.36  17041.25  16950.24  17035.88  943.04203\n",
              "2022-12-16 09:16:00  17038.34  17067.34  17038.13  17058.94  404.83501\n",
              "2022-12-16 09:17:00  17060.18  17061.50  17050.45  17050.45   30.45522\n",
              "\n",
              "[4878 rows x 5 columns]"
            ]
          },
          "execution_count": 111,
          "metadata": {},
          "output_type": "execute_result"
        }
      ],
      "source": [
        "ohlcv = df['price'].resample('60S').ohlc()\n",
        "ohlcv['volume'] = df['size'].resample('60S').sum()\n",
        "ohlcv\n"
      ]
    },
    {
      "attachments": {},
      "cell_type": "markdown",
      "metadata": {},
      "source": [
        "## rbot.Market.ohlcvとの比較\n",
        "\n",
        "同じ処理をする`Market.ohlcv`と比較する。"
      ]
    },
    {
      "cell_type": "code",
      "execution_count": 112,
      "metadata": {},
      "outputs": [
        {
          "data": {
            "text/plain": [
              "Timestamp('2022-12-13 00:00:00', freq='60S')"
            ]
          },
          "execution_count": 112,
          "metadata": {},
          "output_type": "execute_result"
        }
      ],
      "source": [
        "# 開始時刻\n",
        "start_time = ohlcv.index[0]\n",
        "start_time"
      ]
    },
    {
      "cell_type": "code",
      "execution_count": 113,
      "metadata": {},
      "outputs": [
        {
          "data": {
            "text/plain": [
              "Timestamp('2022-12-16 09:17:00', freq='60S')"
            ]
          },
          "execution_count": 113,
          "metadata": {},
          "output_type": "execute_result"
        }
      ],
      "source": [
        "# 終了時刻\n",
        "# ohldvの終了時刻は、最後の足の開始時刻のため１本前の足の終了時刻となる（この時間までで生成したohlcvは１本少なくなる）。\n",
        "end_time = ohlcv.index[-1]\n",
        "end_time"
      ]
    },
    {
      "cell_type": "code",
      "execution_count": 131,
      "metadata": {},
      "outputs": [
        {
          "data": {
            "text/html": [
              "<div>\n",
              "<style scoped>\n",
              "    .dataframe tbody tr th:only-of-type {\n",
              "        vertical-align: middle;\n",
              "    }\n",
              "\n",
              "    .dataframe tbody tr th {\n",
              "        vertical-align: top;\n",
              "    }\n",
              "\n",
              "    .dataframe thead th {\n",
              "        text-align: right;\n",
              "    }\n",
              "</style>\n",
              "<table border=\"1\" class=\"dataframe\">\n",
              "  <thead>\n",
              "    <tr style=\"text-align: right;\">\n",
              "      <th></th>\n",
              "      <th>open</th>\n",
              "      <th>high</th>\n",
              "      <th>low</th>\n",
              "      <th>close</th>\n",
              "      <th>volume</th>\n",
              "    </tr>\n",
              "    <tr>\n",
              "      <th>timestamp</th>\n",
              "      <th></th>\n",
              "      <th></th>\n",
              "      <th></th>\n",
              "      <th></th>\n",
              "      <th></th>\n",
              "    </tr>\n",
              "  </thead>\n",
              "  <tbody>\n",
              "    <tr>\n",
              "      <th>2022-12-13 00:00:00+00:00</th>\n",
              "      <td>17212.12</td>\n",
              "      <td>17216.55</td>\n",
              "      <td>17208.88</td>\n",
              "      <td>17208.88</td>\n",
              "      <td>110.53964</td>\n",
              "    </tr>\n",
              "    <tr>\n",
              "      <th>2022-12-13 00:01:00+00:00</th>\n",
              "      <td>17209.49</td>\n",
              "      <td>17227.24</td>\n",
              "      <td>17208.84</td>\n",
              "      <td>17226.99</td>\n",
              "      <td>147.61285</td>\n",
              "    </tr>\n",
              "    <tr>\n",
              "      <th>2022-12-13 00:02:00+00:00</th>\n",
              "      <td>17227.23</td>\n",
              "      <td>17241.10</td>\n",
              "      <td>17225.42</td>\n",
              "      <td>17225.42</td>\n",
              "      <td>227.11544</td>\n",
              "    </tr>\n",
              "    <tr>\n",
              "      <th>2022-12-13 00:03:00+00:00</th>\n",
              "      <td>17226.38</td>\n",
              "      <td>17226.38</td>\n",
              "      <td>17214.26</td>\n",
              "      <td>17214.33</td>\n",
              "      <td>127.27688</td>\n",
              "    </tr>\n",
              "    <tr>\n",
              "      <th>2022-12-13 00:04:00+00:00</th>\n",
              "      <td>17215.36</td>\n",
              "      <td>17222.68</td>\n",
              "      <td>17208.25</td>\n",
              "      <td>17209.50</td>\n",
              "      <td>111.88474</td>\n",
              "    </tr>\n",
              "    <tr>\n",
              "      <th>...</th>\n",
              "      <td>...</td>\n",
              "      <td>...</td>\n",
              "      <td>...</td>\n",
              "      <td>...</td>\n",
              "      <td>...</td>\n",
              "    </tr>\n",
              "    <tr>\n",
              "      <th>2022-12-16 09:12:00+00:00</th>\n",
              "      <td>17056.28</td>\n",
              "      <td>17059.67</td>\n",
              "      <td>17024.41</td>\n",
              "      <td>17042.51</td>\n",
              "      <td>378.03635</td>\n",
              "    </tr>\n",
              "    <tr>\n",
              "      <th>2022-12-16 09:13:00+00:00</th>\n",
              "      <td>17041.85</td>\n",
              "      <td>17048.11</td>\n",
              "      <td>17019.24</td>\n",
              "      <td>17047.01</td>\n",
              "      <td>312.86476</td>\n",
              "    </tr>\n",
              "    <tr>\n",
              "      <th>2022-12-16 09:14:00+00:00</th>\n",
              "      <td>17045.76</td>\n",
              "      <td>17048.29</td>\n",
              "      <td>17021.62</td>\n",
              "      <td>17027.27</td>\n",
              "      <td>330.13224</td>\n",
              "    </tr>\n",
              "    <tr>\n",
              "      <th>2022-12-16 09:15:00+00:00</th>\n",
              "      <td>17028.36</td>\n",
              "      <td>17041.25</td>\n",
              "      <td>16950.24</td>\n",
              "      <td>17035.88</td>\n",
              "      <td>943.04203</td>\n",
              "    </tr>\n",
              "    <tr>\n",
              "      <th>2022-12-16 09:16:00+00:00</th>\n",
              "      <td>17038.34</td>\n",
              "      <td>17067.34</td>\n",
              "      <td>17038.13</td>\n",
              "      <td>17058.94</td>\n",
              "      <td>404.83501</td>\n",
              "    </tr>\n",
              "  </tbody>\n",
              "</table>\n",
              "<p>4877 rows × 5 columns</p>\n",
              "</div>"
            ],
            "text/plain": [
              "                               open      high       low     close     volume\n",
              "timestamp                                                                   \n",
              "2022-12-13 00:00:00+00:00  17212.12  17216.55  17208.88  17208.88  110.53964\n",
              "2022-12-13 00:01:00+00:00  17209.49  17227.24  17208.84  17226.99  147.61285\n",
              "2022-12-13 00:02:00+00:00  17227.23  17241.10  17225.42  17225.42  227.11544\n",
              "2022-12-13 00:03:00+00:00  17226.38  17226.38  17214.26  17214.33  127.27688\n",
              "2022-12-13 00:04:00+00:00  17215.36  17222.68  17208.25  17209.50  111.88474\n",
              "...                             ...       ...       ...       ...        ...\n",
              "2022-12-16 09:12:00+00:00  17056.28  17059.67  17024.41  17042.51  378.03635\n",
              "2022-12-16 09:13:00+00:00  17041.85  17048.11  17019.24  17047.01  312.86476\n",
              "2022-12-16 09:14:00+00:00  17045.76  17048.29  17021.62  17027.27  330.13224\n",
              "2022-12-16 09:15:00+00:00  17028.36  17041.25  16950.24  17035.88  943.04203\n",
              "2022-12-16 09:16:00+00:00  17038.34  17067.34  17038.13  17058.94  404.83501\n",
              "\n",
              "[4877 rows x 5 columns]"
            ]
          },
          "execution_count": 131,
          "metadata": {},
          "output_type": "execute_result"
        }
      ],
      "source": [
        "# pandasの時刻は'ns'なので1000分の１のusへ変換して表示\n",
        "ohlcv2 = binance.ohlcv(int(start_time.value/1000), int(end_time.value/1000), 60)\n",
        "ohlcv2"
      ]
    },
    {
      "attachments": {},
      "cell_type": "markdown",
      "metadata": {},
      "source": [
        "想定どおり１本足が少なくなったがデータは一致している"
      ]
    },
    {
      "attachments": {},
      "cell_type": "markdown",
      "metadata": {},
      "source": [
        "## 性能比較\n",
        "\n",
        "timeitを使って性能比較をする。"
      ]
    },
    {
      "cell_type": "code",
      "execution_count": 129,
      "metadata": {},
      "outputs": [
        {
          "name": "stdout",
          "output_type": "stream",
          "text": [
            "174 ms ± 838 µs per loop (mean ± std. dev. of 7 runs, 10 loops each)\n"
          ]
        }
      ],
      "source": [
        "def panda_ohlcv():\n",
        "    ohlcv = df['price'].resample('600S').ohlc()\n",
        "    ohlcv['volume'] = df['size'].resample('60S').sum()\n",
        "\n",
        "%timeit panda_ohlcv()"
      ]
    },
    {
      "cell_type": "code",
      "execution_count": 130,
      "metadata": {},
      "outputs": [
        {
          "name": "stdout",
          "output_type": "stream",
          "text": [
            "61.8 ms ± 9.23 ms per loop (mean ± std. dev. of 7 runs, 10 loops each)\n"
          ]
        }
      ],
      "source": [
        "def rust_ohlcv():\n",
        "    ohlcv2 = binance.ohlcv(int(start_time.value/1000), int(end_time.value/1000), 60) \n",
        "\n",
        "%timeit rust_ohlcv()"
      ]
    },
    {
      "attachments": {},
      "cell_type": "markdown",
      "metadata": {},
      "source": [
        "Rust版は内部にキャッシュデータをもっていることもあって倍ぐらい早い傾向にある。"
      ]
    },
    {
      "cell_type": "markdown",
      "metadata": {},
      "source": []
    }
  ],
  "metadata": {
    "colab": {
      "provenance": []
    },
    "kernelspec": {
      "display_name": "venv",
      "language": "python",
      "name": "python3"
    },
    "language_info": {
      "codemirror_mode": {
        "name": "ipython",
        "version": 3
      },
      "file_extension": ".py",
      "mimetype": "text/x-python",
      "name": "python",
      "nbconvert_exporter": "python",
      "pygments_lexer": "ipython3",
      "version": "3.10.6 (main, Aug 30 2022, 04:58:14) [Clang 13.1.6 (clang-1316.0.21.2.5)]"
    },
    "orig_nbformat": 4,
    "vscode": {
      "interpreter": {
        "hash": "e69bbd470bf1393b14609a6bb37f84ea05c8b778927caf2a584647f90d922fc5"
      }
    }
  },
  "nbformat": 4,
  "nbformat_minor": 0
}
