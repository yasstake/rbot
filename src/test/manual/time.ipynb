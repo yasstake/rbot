{
  "cells": [
    {
      "cell_type": "markdown",
      "source": [
        "<a target=\"_blank\" href=\"https://colab.research.google.com/github/yasstake/rusty-bot/blob/main/manual/time.ipynb\">\n",
        "  <img src=\"https://colab.research.google.com/assets/colab-badge.svg\" alt=\"Open In Colab\"/>\n",
        "</a>"
      ],
      "metadata": {
        "id": "dQoP2GzF3QHt"
      }
    },
    {
      "cell_type": "markdown",
      "metadata": {
        "id": "UlduhzZp3OIg"
      },
      "source": [
        "# rbotの提供する時刻ユーティリティについて\n",
        "\n",
        "パッケージrbot内では、時刻についてはUTCからの経過時間(μs)で統一されています。\n",
        "\n",
        "（例外は、ohlcvなどに使う「期間」についての秒、ログの`download`で使う日数となります）\n",
        "\n",
        "μsでの表現は、コンピュータ処理には便利ですが人間にはわかりにくいのでヘルパー関数を提供しています。以下動かしながら説明します。\n",
        "\n",
        "### 一覧\n",
        "\n",
        "* `time_string(timestamp)` timestampをわかりやすい文字列へ変換する\n",
        "* `NOW()`\n",
        "* `DAYS_BEFORE(ndays)`　現在のndaysで指定した日付前のタイムスタンプ\n",
        "\n",
        "* `DAYS(ndays)` ndaysで指定したの期間をμsで表現\n",
        "* `HHMM(hh, mm)` hh時、mm分の期間をμsで表現\n",
        "* `MIN(min)` minで指定された分をμsで表現\n",
        "* `SEC(sec)` secで指定された秒をμsで表現"
      ]
    },
    {
      "cell_type": "markdown",
      "source": [
        "## Google Collab 用パッケージインストール"
      ],
      "metadata": {
        "id": "DNET84zk3jU7"
      }
    },
    {
      "cell_type": "code",
      "source": [
        "# Google Clab用です。必要に応じてコメントアウトしてください\n",
        "! pip install --upgrade pip\n",
        "! pip install numpy\n",
        "! pip install pandas\n",
        "! pip uninstall -y panel\n",
        "! pip install --upgrade bokeh > 3\n",
        "\n",
        "# https://github.com/yasstake/rusty-bot/releases/tag/release-0.2.0\n",
        "# （環境にあわせて修正お願いします）\n",
        "# Linux/Google Collab用\n",
        "!  pip install https://github.com/yasstake/rusty-bot/releases/download/release-0.2.0/rbot-0.2.0-cp38-cp38-manylinux_2_17_x86_64.manylinux2014_x86_64.whl"
      ],
      "metadata": {
        "id": "wOPhbLiE3UNL",
        "outputId": "381811de-808b-4dc0-8539-aa5f86957ba2",
        "colab": {
          "base_uri": "https://localhost:8080/"
        }
      },
      "execution_count": 1,
      "outputs": [
        {
          "output_type": "stream",
          "name": "stdout",
          "text": [
            "Looking in indexes: https://pypi.org/simple, https://us-python.pkg.dev/colab-wheels/public/simple/\n",
            "Requirement already satisfied: pip in /usr/local/lib/python3.8/dist-packages (21.1.3)\n",
            "Collecting pip\n",
            "  Downloading pip-22.3.1-py3-none-any.whl (2.1 MB)\n",
            "\u001b[K     |████████████████████████████████| 2.1 MB 6.4 MB/s \n",
            "\u001b[?25hInstalling collected packages: pip\n",
            "  Attempting uninstall: pip\n",
            "    Found existing installation: pip 21.1.3\n",
            "    Uninstalling pip-21.1.3:\n",
            "      Successfully uninstalled pip-21.1.3\n",
            "Successfully installed pip-22.3.1\n",
            "Looking in indexes: https://pypi.org/simple, https://us-python.pkg.dev/colab-wheels/public/simple/\n",
            "Requirement already satisfied: numpy in /usr/local/lib/python3.8/dist-packages (1.21.6)\n",
            "\u001b[33mWARNING: Running pip as the 'root' user can result in broken permissions and conflicting behaviour with the system package manager. It is recommended to use a virtual environment instead: https://pip.pypa.io/warnings/venv\u001b[0m\u001b[33m\n",
            "\u001b[0mLooking in indexes: https://pypi.org/simple, https://us-python.pkg.dev/colab-wheels/public/simple/\n",
            "Requirement already satisfied: pandas in /usr/local/lib/python3.8/dist-packages (1.3.5)\n",
            "Requirement already satisfied: python-dateutil>=2.7.3 in /usr/local/lib/python3.8/dist-packages (from pandas) (2.8.2)\n",
            "Requirement already satisfied: numpy>=1.17.3 in /usr/local/lib/python3.8/dist-packages (from pandas) (1.21.6)\n",
            "Requirement already satisfied: pytz>=2017.3 in /usr/local/lib/python3.8/dist-packages (from pandas) (2022.6)\n",
            "Requirement already satisfied: six>=1.5 in /usr/local/lib/python3.8/dist-packages (from python-dateutil>=2.7.3->pandas) (1.15.0)\n",
            "\u001b[33mWARNING: Running pip as the 'root' user can result in broken permissions and conflicting behaviour with the system package manager. It is recommended to use a virtual environment instead: https://pip.pypa.io/warnings/venv\u001b[0m\u001b[33m\n",
            "\u001b[0mFound existing installation: panel 0.12.1\n",
            "Uninstalling panel-0.12.1:\n",
            "  Successfully uninstalled panel-0.12.1\n",
            "\u001b[33mWARNING: Running pip as the 'root' user can result in broken permissions and conflicting behaviour with the system package manager. It is recommended to use a virtual environment instead: https://pip.pypa.io/warnings/venv\u001b[0m\u001b[33m\n",
            "\u001b[0m\u001b[33mWARNING: Running pip as the 'root' user can result in broken permissions and conflicting behaviour with the system package manager. It is recommended to use a virtual environment instead: https://pip.pypa.io/warnings/venv\u001b[0m\u001b[33m\n",
            "\u001b[0mLooking in indexes: https://pypi.org/simple, https://us-python.pkg.dev/colab-wheels/public/simple/\n",
            "Collecting rbot==0.2.0\n",
            "  Downloading https://github.com/yasstake/rusty-bot/releases/download/release-0.2.0/rbot-0.2.0-cp38-cp38-manylinux_2_17_x86_64.manylinux2014_x86_64.whl (11.9 MB)\n",
            "\u001b[2K     \u001b[90m━━━━━━━━━━━━━━━━━━━━━━━━━━━━━━━━━━━━━━━━\u001b[0m \u001b[32m11.9/11.9 MB\u001b[0m \u001b[31m17.4 MB/s\u001b[0m eta \u001b[36m0:00:00\u001b[0m\n",
            "\u001b[?25hInstalling collected packages: rbot\n",
            "Successfully installed rbot-0.2.0\n",
            "\u001b[33mWARNING: Running pip as the 'root' user can result in broken permissions and conflicting behaviour with the system package manager. It is recommended to use a virtual environment instead: https://pip.pypa.io/warnings/venv\u001b[0m\u001b[33m\n",
            "\u001b[0m"
          ]
        }
      ]
    },
    {
      "cell_type": "markdown",
      "source": [
        "## 動かしながら使い方説明"
      ],
      "metadata": {
        "id": "dyNKk-sr3bMD"
      }
    },
    {
      "cell_type": "code",
      "execution_count": 2,
      "metadata": {
        "id": "ZPSvdmzo3OIj",
        "outputId": "8ad310b9-1a00-49e2-ac97-a2c3c2268714",
        "colab": {
          "base_uri": "https://localhost:8080/"
        }
      },
      "outputs": [
        {
          "output_type": "stream",
          "name": "stdout",
          "text": [
            "1970-01-01T00:00:00.000000\n"
          ]
        }
      ],
      "source": [
        "from rbot import time_string\n",
        "\n",
        "# エポック日が表示される\n",
        "print(time_string(0))"
      ]
    },
    {
      "cell_type": "code",
      "execution_count": 3,
      "metadata": {
        "id": "q0YUZA4j3OIk",
        "outputId": "8f2e42eb-a6b3-45aa-db33-bbcda9c37dd2",
        "colab": {
          "base_uri": "https://localhost:8080/"
        }
      },
      "outputs": [
        {
          "output_type": "stream",
          "name": "stdout",
          "text": [
            "現在時刻:  1671444894084815\n",
            "文字表現:  2022-12-19T10:14:54.084815\n"
          ]
        }
      ],
      "source": [
        "from rbot import NOW\n",
        "\n",
        "time_now = NOW()\n",
        "print('現在時刻: ', time_now)\n",
        "print('文字表現: ', time_string(time_now))"
      ]
    },
    {
      "cell_type": "code",
      "execution_count": 4,
      "metadata": {
        "id": "tgN7jE5L3OIk",
        "outputId": "f3a080ab-5ea9-4856-f5dd-d19256feaa88",
        "colab": {
          "base_uri": "https://localhost:8080/"
        }
      },
      "outputs": [
        {
          "output_type": "stream",
          "name": "stdout",
          "text": [
            "昨日： 1671358495941683  /  2022-12-18T10:14:55.941683\n"
          ]
        }
      ],
      "source": [
        "from rbot import DAYS_BEFORE\n",
        "\n",
        "last_day = DAYS_BEFORE(1)\n",
        "print('昨日：', last_day, ' / ', time_string(last_day))"
      ]
    },
    {
      "cell_type": "code",
      "execution_count": 5,
      "metadata": {
        "id": "egdqmYLz3OIk",
        "outputId": "a4653df5-e6bb-4ade-ccde-5d13a221194e",
        "colab": {
          "base_uri": "https://localhost:8080/"
        }
      },
      "outputs": [
        {
          "output_type": "stream",
          "name": "stdout",
          "text": [
            "24時間は  86400000000 μs\n",
            "9時間と10分間は  33000000000 μs\n",
            "10分間は  600000000 μs\n",
            "1秒間は  1000000 μs\n"
          ]
        }
      ],
      "source": [
        "from rbot import DAYS\n",
        "print('24時間は ', DAYS(1), 'μs')  \n",
        "\n",
        "from rbot import HHMM\n",
        "print('9時間と10分間は ', HHMM(9, 10), 'μs')\n",
        "\n",
        "from rbot import MIN\n",
        "print('10分間は ', MIN(10), 'μs')\n",
        "\n",
        "from rbot import SEC\n",
        "print('1秒間は ', SEC(1), 'μs')"
      ]
    },
    {
      "cell_type": "code",
      "execution_count": null,
      "metadata": {
        "id": "CAThTov53OIl"
      },
      "outputs": [],
      "source": []
    }
  ],
  "metadata": {
    "kernelspec": {
      "display_name": "venv",
      "language": "python",
      "name": "python3"
    },
    "language_info": {
      "codemirror_mode": {
        "name": "ipython",
        "version": 3
      },
      "file_extension": ".py",
      "mimetype": "text/x-python",
      "name": "python",
      "nbconvert_exporter": "python",
      "pygments_lexer": "ipython3",
      "version": "3.10.6 (main, Aug 30 2022, 04:58:14) [Clang 13.1.6 (clang-1316.0.21.2.5)]"
    },
    "orig_nbformat": 4,
    "vscode": {
      "interpreter": {
        "hash": "e69bbd470bf1393b14609a6bb37f84ea05c8b778927caf2a584647f90d922fc5"
      }
    },
    "colab": {
      "provenance": []
    }
  },
  "nbformat": 4,
  "nbformat_minor": 0
}