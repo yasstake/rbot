{
 "cells": [
  {
   "cell_type": "markdown",
   "metadata": {
    "id": "dQoP2GzF3QHt"
   },
   "source": [
    "<a target=\"_blank\" href=\"https://colab.research.google.com/github/yasstake/rusty-bot/blob/main/manual/time.ipynb\">\n",
    "  <img src=\"https://colab.research.google.com/assets/colab-badge.svg\" alt=\"Open In Colab\"/>\n",
    "</a>"
   ]
  },
  {
   "cell_type": "markdown",
   "metadata": {
    "id": "UlduhzZp3OIg"
   },
   "source": [
    "# rbotの提供する時刻ユーティリティについて\n",
    "\n",
    "パッケージrbot内では、時刻についてはUTCからの経過時間(μs)で統一されています。\n",
    "\n",
    "（例外は、ohlcvなどに使う「期間」についての秒、ログの`download`で使う日数となります）\n",
    "\n",
    "μsでの表現は、コンピュータ処理には便利ですが人間にはわかりにくいのでヘルパー関数を提供しています。以下動かしながら説明します。\n",
    "\n",
    "### 一覧\n",
    "\n",
    "* `time_string(timestamp)` timestampをわかりやすい文字列へ変換する\n",
    "* `NOW()`\n",
    "* `DAYS_BEFORE(ndays)`　現在のndaysで指定した日付前のタイムスタンプ\n",
    "\n",
    "* `DAYS(ndays)` ndaysで指定したの期間をμsで表現\n",
    "* `HHMM(hh, mm)` hh時、mm分の期間をμsで表現\n",
    "* `MIN(min)` minで指定された分をμsで表現\n",
    "* `SEC(sec)` secで指定された秒をμsで表現"
   ]
  },
  {
   "cell_type": "markdown",
   "metadata": {
    "id": "DNET84zk3jU7"
   },
   "source": [
    "## Google Collab 用パッケージインストール"
   ]
  },
  {
   "cell_type": "code",
   "execution_count": null,
   "metadata": {
    "colab": {
     "base_uri": "https://localhost:8080/"
    },
    "id": "wOPhbLiE3UNL",
    "outputId": "381811de-808b-4dc0-8539-aa5f86957ba2"
   },
   "outputs": [],
   "source": [
    "# Google Clab用です。必要に応じてコメントアウトしてください\n",
    "! pip install --upgrade pip\n",
    "! pip install numpy\n",
    "! pip install pandas\n",
    "! pip uninstall -y panel\n",
    "! pip install --upgrade bokeh >= 3\n",
    "\n",
    "# https://github.com/yasstake/rusty-bot/releases/\n",
    "# （環境にあわせて修正お願いします。404エラーが出た場合は新しいリリースになっているので上記URLを確認してください）\n",
    "# Linux/Google Collab用\n",
    "!  pip install https://github.com/yasstake/rusty-bot/releases/download/release-0.2.0a/rbot-0.2.0-cp38-cp38-manylinux_2_17_x86_64.manylinux2014_x86_64.whl\n"
   ]
  },
  {
   "cell_type": "markdown",
   "metadata": {
    "id": "dyNKk-sr3bMD"
   },
   "source": [
    "## 動かしながら使い方説明"
   ]
  },
  {
   "cell_type": "code",
   "execution_count": null,
   "metadata": {
    "colab": {
     "base_uri": "https://localhost:8080/"
    },
    "id": "ZPSvdmzo3OIj",
    "outputId": "8ad310b9-1a00-49e2-ac97-a2c3c2268714"
   },
   "outputs": [],
   "source": [
    "from rbot import time_string\n",
    "\n",
    "# エポック日が表示される\n",
    "print(time_string(0))"
   ]
  },
  {
   "cell_type": "code",
   "execution_count": null,
   "metadata": {
    "colab": {
     "base_uri": "https://localhost:8080/"
    },
    "id": "q0YUZA4j3OIk",
    "outputId": "8f2e42eb-a6b3-45aa-db33-bbcda9c37dd2"
   },
   "outputs": [],
   "source": [
    "from rbot import NOW\n",
    "\n",
    "time_now = NOW()\n",
    "print('現在時刻: ', time_now)\n",
    "print('文字表現: ', time_string(time_now))"
   ]
  },
  {
   "cell_type": "code",
   "execution_count": null,
   "metadata": {
    "colab": {
     "base_uri": "https://localhost:8080/"
    },
    "id": "tgN7jE5L3OIk",
    "outputId": "f3a080ab-5ea9-4856-f5dd-d19256feaa88"
   },
   "outputs": [],
   "source": [
    "from rbot import DAYS_BEFORE\n",
    "\n",
    "last_day = DAYS_BEFORE(1)\n",
    "print('昨日：', last_day, ' / ', time_string(last_day))"
   ]
  },
  {
   "cell_type": "code",
   "execution_count": null,
   "metadata": {
    "colab": {
     "base_uri": "https://localhost:8080/"
    },
    "id": "egdqmYLz3OIk",
    "outputId": "a4653df5-e6bb-4ade-ccde-5d13a221194e"
   },
   "outputs": [],
   "source": [
    "from rbot import DAYS\n",
    "print('24時間は ', DAYS(1), 'μs')  \n",
    "\n",
    "from rbot import HHMM\n",
    "print('9時間と10分間は ', HHMM(9, 10), 'μs')\n",
    "\n",
    "from rbot import MIN\n",
    "print('10分間は ', MIN(10), 'μs')\n",
    "\n",
    "from rbot import SEC\n",
    "print('1秒間は ', SEC(1), 'μs')"
   ]
  },
  {
   "cell_type": "code",
   "execution_count": null,
   "metadata": {
    "id": "CAThTov53OIl"
   },
   "outputs": [],
   "source": []
  }
 ],
 "metadata": {
  "colab": {
   "provenance": []
  },
  "kernelspec": {
   "display_name": "venv",
   "language": "python",
   "name": "python3"
  },
  "language_info": {
   "codemirror_mode": {
    "name": "ipython",
    "version": 3
   },
   "file_extension": ".py",
   "mimetype": "text/x-python",
   "name": "python",
   "nbconvert_exporter": "python",
   "pygments_lexer": "ipython3",
   "version": "3.10.6 (main, Aug 30 2022, 04:58:14) [Clang 13.1.6 (clang-1316.0.21.2.5)]"
  },
  "vscode": {
   "interpreter": {
    "hash": "e69bbd470bf1393b14609a6bb37f84ea05c8b778927caf2a584647f90d922fc5"
   }
  }
 },
 "nbformat": 4,
 "nbformat_minor": 0
}
