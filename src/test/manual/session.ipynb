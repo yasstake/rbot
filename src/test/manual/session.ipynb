{
 "cells": [
  {
   "cell_type": "markdown",
   "metadata": {
    "id": "2GXyvxWa4szl"
   },
   "source": [
    "<a target=\"_blank\" href=\"https://colab.research.google.com/github/yasstake/rusty-bot/blob/main/manual/session.ipynb\">\n",
    "  <img src=\"https://colab.research.google.com/assets/colab-badge.svg\" alt=\"Open In Colab\"/>\n",
    "</a>"
   ]
  },
  {
   "cell_type": "markdown",
   "metadata": {
    "id": "BGZB9UiH4gyn"
   },
   "source": [
    "# Sessionクラス解説\n",
    "\n",
    "Session クラスはAgentの各イベント(on_tick, on_clock, on_update)時に引数として送られてきます。\n",
    "\n",
    "内部に現在時刻 `timestamp`を保持することによりバックテスト、フォーワードテスト、本番どれであっても同一処理のAgent(BOT)が動作するようになっています。\n",
    "\n",
    "このSessionのインスタンスを利用してAgent内の取引ロジックを開発してください。\n",
    "使えるプロパティ／メソッドについて説明します。\n",
    "\n",
    "ユーザがSessionオブジェクトを直接自分で生成することはありません。\n",
    "\n",
    "## プロパティ\n",
    "\n",
    "### 実行状況表すプロパティ\n",
    "\n",
    "* `timestamp` 現在時刻をUnixtime(us)で保存取得します。\n",
    "* `execute_mode` 現在の実行モードを返す。`Real`(本番), `Dummy`(バックテスト), `Dry`(フォーワードテスト）のどれかが得られる。\n",
    "\n",
    "### 市況を示すプロパティ\n",
    "* `board` Marketの板情報(`bit`, `ask`)でまとめて取得する\n",
    "* `last_price` 直近の約定履歴から想定される`bit`, `ask`の最良値（`bit`, `ask`)でまとめて取得する。板情報が取れないときに代わりに利用する。\n",
    "\n",
    "### 自分のオーダー表すプロパティ\n",
    "* `buy_orders` 板にある未約定買いオーダー（一覧）\n",
    "* `buy_order_amount` 板にある未約定買いオーダー注文量合計\n",
    "* `sell_orders` 板にある未約定売りオーダー（一覧）\n",
    "* `sell_order_amount` 板にある未約定売りオーダー注文量合計\n",
    "\n",
    "### 仮想ポジション・利益を表すプロパティ\n",
    "セッションがはじまってからのポジション・利益を取得する。\n",
    "* `position` 仮想ポジション\n",
    "\n",
    "### ログクラスを取得するプロパティ\n",
    "実行終了後、ログを分析するためにセッションからログを取り出すプロパティ\n",
    "\n",
    "* `log` 実行結果が入ったLoggerクラスのオブジェクトが取得できる。利用方法は[ログクラスマニュアル 参照](./logger.ipynb)\n",
    "\n",
    "## メソッド\n",
    "\n",
    "### 市況を得るメソッド\n",
    "\n",
    "#### ローソク足\n",
    "使い方\n",
    "```\n",
    "session.ohlcv(\n",
    "    interval=60,    # 足の幅を秒数で指定\n",
    "    count=5         # 足の本数を指定\n",
    ")\n",
    "```\n",
    "\n",
    "戻り値：　OHLCVの値がPolarsのDataFrame形式で得られる。\n",
    "\n",
    "---\n",
    "\n",
    "### オーダーメソッド\n",
    "\n",
    "#### 成り行き注文(market_order)\n",
    "使い方\n",
    "```\n",
    "session.market_order(\n",
    "    side='Buy',     # 売り`Buy`, 買い`Sell`を指定\n",
    "    size=0.01       # オーダーサイズを指定\n",
    ")\n",
    "```\n",
    "戻り値：作成されたオーダーオブジェクト（板の状況にあわせ分割された結果が配列になってきます）\n",
    "\n",
    "\n",
    "#### 指値注文(limit_order)\n",
    "使い方\n",
    "```\n",
    "session.limit_order(\n",
    "    side='Buy',     # 売り`Buy`, 買い`Sell`を指定    \n",
    "    price=40000,    # 指値を指定\n",
    "    size=0.01       # オーダーサイズを指定\n",
    ")\n",
    "```\n",
    "戻り値：作成されたオーダーオブジェクト（１行のみですが、他のオーダメソッドにあわせ配列形式）\n",
    "\n",
    "#### キャンセルオーダー(cancel_order)\n",
    "使い方\n",
    "```\n",
    "session.cancel_order(\n",
    "    order_id='order_id_0001'    #オーダIDを文字列で指定。\n",
    ")\n",
    "```\n",
    "\n",
    "戻り値：キャンセルされたオーダオブジェクト（１行のみですが、他のオーダメソッドにあわせ配列形式）\n",
    "\n",
    "#### 期限切れ(expire_order)\n",
    "使い方\n",
    "```\n",
    "session.expire_order(\n",
    "    ttl_sec=60*10       #期限切れにする期間を秒で指定（この例では10分以上前のオーダをキャンセル）\n",
    ")\n",
    "```\n",
    "\n",
    "戻り値(bool)\n",
    "* `true` 期限切れがオーダーあった場合\n",
    "* `false`　期限切れオーダーがなかった場合\n"
   ]
  },
  {
   "cell_type": "markdown",
   "metadata": {
    "id": "5sCQJO0e4gyx"
   },
   "source": [
    "## 以下テストを兼ねたSessionオブジェクトの内部動作確認\n",
    "\n",
    "通常ユーザはSessionクラスを生成しません。Agentにおくられてきたオブジェクトを利用するだけです。"
   ]
  },
  {
   "cell_type": "markdown",
   "metadata": {
    "id": "fQ_HqmM545vv"
   },
   "source": []
  },
  {
   "cell_type": "code",
   "execution_count": null,
   "metadata": {},
   "outputs": [],
   "source": [
    "import rbot\n",
    "\n",
    "# バージョン確認\n",
    "\n",
    "print(\"version =\", rbot.__version__)"
   ]
  },
  {
   "cell_type": "code",
   "execution_count": null,
   "metadata": {},
   "outputs": [],
   "source": [
    "from rbot import Session\n",
    "from rbot import Runner\n",
    "from rbot import BinanceMarket\n",
    "from rbot import BinanceConfig\n",
    "from rbot import ExecuteMode\n",
    "from rbot import NOW, HHMM, SEC, time_string\n",
    "\n",
    "\n",
    "#from rbot import MarketMessage\n",
    "\n",
    "#from rbot import Trade\n",
    "#from rbot import OrderSide\n",
    "\n",
    "from rbot import init_log"
   ]
  },
  {
   "cell_type": "code",
   "execution_count": null,
   "metadata": {},
   "outputs": [],
   "source": [
    "from IPython.display import HTML\n",
    "from json2html import json2html\n",
    "import json"
   ]
  },
  {
   "cell_type": "code",
   "execution_count": null,
   "metadata": {},
   "outputs": [],
   "source": [
    "\n",
    "config = BinanceConfig.BTCUSDT\n",
    "market = BinanceMarket(config)\n",
    "\n",
    "\n"
   ]
  },
  {
   "cell_type": "code",
   "execution_count": null,
   "metadata": {},
   "outputs": [],
   "source": [
    "class DummyAgent:\n",
    "    def on_init(self, session):\n",
    "        session.clock_interval_sec = 10\n",
    "        \n",
    "    def on_clock(self, session, clock):\n",
    "        print(\"現在時刻\", session.timestamp, time_string(session.timestamp))\n",
    "        print(\"実行モード\", session.execute_mode)\n",
    "        print(\"\")\n",
    "\n",
    "    \n",
    "        if session.execute_mode == \"Dry\":\n",
    "            print(\"Dryモードではいた情報が取れるので表示します\")\n",
    "            bit, ask = session.board\n",
    "            print(\"板情報\", bit, ask)\n",
    "            return        \n",
    "            \n",
    "        bit_edge, ask_edge = session.last_price\n",
    "        print(\"最終約定価格\", bit_edge, ask_edge)\n",
    "        \n",
    "        raise Exception(\"stop agent\")"
   ]
  },
  {
   "cell_type": "code",
   "execution_count": null,
   "metadata": {},
   "outputs": [],
   "source": [
    "runner = Runner()\n",
    "\n",
    "agent = DummyAgent()\n",
    "\n",
    "runner.back_test(agent=agent, market=market)"
   ]
  },
  {
   "cell_type": "code",
   "execution_count": null,
   "metadata": {},
   "outputs": [],
   "source": [
    "class SimpleOrderAgent:\n",
    "    def __init__(self):\n",
    "        self.index = 0\n",
    "        \n",
    "    def on_init(self, session):\n",
    "        session.clock_interval_sec = 60*10      # 10分ごとに呼び出される\n",
    "        print(\"実行モード\", session.execute_mode)\n",
    "        \n",
    "    def on_clock(self, session, clock):\n",
    "        print(\"---------------------------\")\n",
    "        print(\"現在時刻\", session.timestamp, time_string(session.timestamp))\n",
    "        print(\"売り注文\", session.sell_orders)\n",
    "        print(\"買い注文\", session.buy_orders)\n",
    "        print(\"ポジション\", session.position)\n",
    "\n",
    "        self.index += 1\n",
    "        \n",
    "        if self.index == 1:\n",
    "            print(\"成り行き注文テスト(売り)\")\n",
    "            buy_order = session.market_order(\"Buy\", 0.001)\n",
    "            print(\"buy_order\", buy_order)\n",
    "\n",
    "        elif self.index == 2:\n",
    "            print(\"成り行き注文テスト(買い)\")\n",
    "            sell_order= session.market_order(\"Sell\", 0.001)\n",
    "            print(\"sell_order\", sell_order)\n",
    "            \n",
    "            print(\"指値注文テスト\")            \n",
    "            pass    \n",
    "        elif self.index == 3:\n",
    "            print(\"指値注文テスト\")\n",
    "            bit, ask = session.last_price\n",
    "            buy_order = session.limit_order(\"Buy\", bit-100, 0.001)\n",
    "            print(\"buy_order\", buy_order)\n",
    "            \n",
    "            sell_order = session.limit_order(\"Sell\", ask+100, 0.001)\n",
    "            print(\"sell_order\", sell_order)\n",
    "\n",
    "        elif self.index == 4:\n",
    "            print(\"Cancelテスト(SELL)\")\n",
    "            if session.sell_orders:\n",
    "                order = session.sell_orders[0]\n",
    "                cancel_order = session.cancel_order(order.order_id)\n",
    "                print(\"cancel_order=\", cancel_order)\n",
    "\n",
    "        elif self.index == 5:\n",
    "            print(\"Exipreテスト1\")\n",
    "            \n",
    "            if session.expire_order(60*30): # 30分前の注文をキャンセル\n",
    "                print(\"expire_order exist\")\n",
    "            else:\n",
    "                print(\"expire_order not exist\")\n",
    "\n",
    "        elif self.index == 6:\n",
    "            print(\"Exipreテスト2\")\n",
    "            \n",
    "            if session.expire_order(60*10): # 10分前の注文をキャンセル\n",
    "                print(\"expire_order exist\")\n",
    "            else:\n",
    "                print(\"expire_order not exist\")\n",
    "        else:\n",
    "            raise Exception(\"stop agent\")\n",
    "        \n",
    "        print(\"---------------------------\")        \n",
    "    \n",
    "    def on_update(self, session, update):\n",
    "        print(\"更新情報\", update)"
   ]
  },
  {
   "cell_type": "code",
   "execution_count": null,
   "metadata": {},
   "outputs": [],
   "source": [
    "runner = Runner()\n",
    "\n",
    "agent = SimpleOrderAgent()\n",
    "\n",
    "runner.back_test(agent=agent, market=market)"
   ]
  },
  {
   "cell_type": "code",
   "execution_count": null,
   "metadata": {},
   "outputs": [],
   "source": [
    "from rbot import MarketMessage\n",
    "from rbot import Trade\n",
    "from rbot import OrderSide\n",
    "from rbot import LogStatus\n",
    "\n",
    "target = NOW() - HHMM(6,0)\n",
    "order = market.select_trades(target-SEC(10), target)\n",
    "\n",
    "t = int(time.mktime(order['timestamp'][0].timetuple()))*1000\n",
    "price =order['price'][0]\n",
    "size = order['size'][0]\n",
    "\n",
    "session.on_message(MarketMessage.from_trade(Trade(t, OrderSide.Sell, price, size, LogStatus.UnFix, \"OrderId-1\")))\n",
    "\n"
   ]
  },
  {
   "cell_type": "markdown",
   "metadata": {},
   "source": [
    "## さらに細かい内部テスト\n",
    "\n"
   ]
  },
  {
   "cell_type": "code",
   "execution_count": null,
   "metadata": {},
   "outputs": [],
   "source": [
    "HTML(json2html.convert(session.__str__()))"
   ]
  },
  {
   "cell_type": "code",
   "execution_count": null,
   "metadata": {
    "colab": {
     "base_uri": "https://localhost:8080/",
     "height": 438
    },
    "id": "5nbBv4BL4gyy",
    "outputId": "c4b74aa5-2ca1-477e-abe3-2176bdf9e398"
   },
   "outputs": [],
   "source": [
    "# 内部処理、バックテスト用にログを読み取らせると市況がUpdateされる。\n",
    "from rbot import NOW\n",
    "import rbot\n",
    "\n",
    "trade = MarketMessage.from_trade(Trade(NOW(), OrderSide.Buy, 100, 1, \"OrderId-1\"))\n",
    "session.on_message(trade)\n",
    "\n",
    "HTML(json2html.convert(session.__str__()))\n",
    "    "
   ]
  },
  {
   "cell_type": "code",
   "execution_count": null,
   "metadata": {},
   "outputs": [],
   "source": [
    "session.account"
   ]
  },
  {
   "cell_type": "code",
   "execution_count": null,
   "metadata": {},
   "outputs": [],
   "source": [
    "session.on_message(MarketMessage.from_trade(Trade(NOW(), OrderSide.Sell, 99, 1, \"OrderId-2\")))\n",
    "\n",
    "HTML(json2html.convert(session.__str__()))"
   ]
  },
  {
   "cell_type": "code",
   "execution_count": null,
   "metadata": {
    "colab": {
     "base_uri": "https://localhost:8080/",
     "height": 438
    },
    "id": "alZxinzv4gyz",
    "outputId": "98d4596a-81b2-415d-df15-6f5d2c0f0041"
   },
   "outputs": [],
   "source": [
    "# Agent用メソッド：　オーダーを発行すると,処理中オーダーにキュー(dummy_q)される\n",
    "session.limit_order(\"Buy\", \n",
    "                    100,    #価格\n",
    "                    50,     # サイズ\n",
    ")\n",
    "\n",
    "HTML(json2html.convert(session.__str__()))"
   ]
  },
  {
   "cell_type": "code",
   "execution_count": null,
   "metadata": {},
   "outputs": [],
   "source": [
    "session.dummy_q"
   ]
  },
  {
   "cell_type": "code",
   "execution_count": null,
   "metadata": {},
   "outputs": [],
   "source": [
    "session.log_df"
   ]
  },
  {
   "cell_type": "code",
   "execution_count": null,
   "metadata": {
    "colab": {
     "base_uri": "https://localhost:8080/",
     "height": 438
    },
    "id": "UqPU36Md4gyz",
    "outputId": "a8149c29-1640-452e-8236-2155074e2b53"
   },
   "outputs": [],
   "source": [
    "# あたらしいメッセージがやってくるとQにあったオーダーが処理される。\n",
    "# 買オーダー(100)よりも高い売り(101.0)がおこなわれてもオーダーには影響がない。\n",
    "session.on_message(MarketMessage.from_trade(Trade(NOW(), OrderSide.Sell, 101, 50, \"OrderId-2\")))\n",
    "HTML(json2html.convert(session.__str__()))"
   ]
  },
  {
   "cell_type": "code",
   "execution_count": null,
   "metadata": {},
   "outputs": [],
   "source": [
    "session.dummy_q"
   ]
  },
  {
   "cell_type": "code",
   "execution_count": null,
   "metadata": {},
   "outputs": [],
   "source": [
    "session.log_df"
   ]
  },
  {
   "cell_type": "code",
   "execution_count": null,
   "metadata": {
    "colab": {
     "base_uri": "https://localhost:8080/",
     "height": 438
    },
    "id": "hThn668d4gy0",
    "outputId": "9f4b090f-9323-4a03-fd73-400fb86715e6"
   },
   "outputs": [],
   "source": [
    "# 買オーダー（１００）と同じ価格の売りがおこなわれているときも影響がない\n",
    "# 本来は時間が経って板の最後までまわってきたら約定するが、辛めに判定\n",
    "session.on_message(MarketMessage.from_trade(Trade(NOW(), OrderSide.Sell, 100.0, 50, \"OrderId-3\")))\n",
    "HTML(json2html.convert(session.__str__()))"
   ]
  },
  {
   "cell_type": "code",
   "execution_count": null,
   "metadata": {
    "colab": {
     "base_uri": "https://localhost:8080/",
     "height": 438
    },
    "id": "8rMAUchJ4gy0",
    "outputId": "c006e33e-67e3-48f9-ea1c-179d9f0d164b"
   },
   "outputs": [],
   "source": [
    "# 買オーダー(100)よりも低い価格の売りがでてきたら、部分約定する（今回の例では、サイズ１が約定して49が残っている）\n",
    "# ただし約定ログは分割せずremain_sizeをへらして全部約定のときにログを出す（あとで、まとめて約定したことにする）\n",
    "session.on_message(MarketMessage.from_trade(Trade(NOW(), OrderSide.Sell, 99.9, 1, \"OrderId-4\")))\n",
    "HTML(json2html.convert(session.__str__()))\n",
    "\n",
    "# TODO: アカウント情報のUpdate"
   ]
  },
  {
   "cell_type": "code",
   "execution_count": null,
   "metadata": {},
   "outputs": [],
   "source": [
    "session.log_df"
   ]
  },
  {
   "cell_type": "code",
   "execution_count": null,
   "metadata": {
    "colab": {
     "base_uri": "https://localhost:8080/",
     "height": 438
    },
    "id": "w-PyEtbb4gy0",
    "outputId": "bb3dd399-0b87-48db-b328-af09c2ba0aed"
   },
   "outputs": [],
   "source": [
    "# のこり49の売りが発生すると全部約定する（注残リストからはなくなる）\n",
    "session.on_message(MarketMessage.from_trade(Trade(NOW(), OrderSide.Sell, 99.9, 49, \"OrderId-5\")))\n",
    "HTML(json2html.convert(session.__str__()))"
   ]
  },
  {
   "cell_type": "code",
   "execution_count": null,
   "metadata": {},
   "outputs": [],
   "source": [
    "session.log_df"
   ]
  },
  {
   "cell_type": "markdown",
   "metadata": {
    "id": "5MZtR5kh4gy0"
   },
   "source": [
    "# まとめ\n",
    "\n",
    "以上のような動きを約定ログ全部なめてバックテストを行なっています。\n",
    "\n",
    "（ここまで細かくやる必要が果たしてあったのかは、これからのBot開発でわかるようになるはず）"
   ]
  },
  {
   "cell_type": "code",
   "execution_count": null,
   "metadata": {
    "id": "I9X67h8K5ujT"
   },
   "outputs": [],
   "source": []
  }
 ],
 "metadata": {
  "colab": {
   "provenance": []
  },
  "kernelspec": {
   "display_name": "Python 3",
   "language": "python",
   "name": "python3"
  },
  "language_info": {
   "codemirror_mode": {
    "name": "ipython",
    "version": 3
   },
   "file_extension": ".py",
   "mimetype": "text/x-python",
   "name": "python",
   "nbconvert_exporter": "python",
   "pygments_lexer": "ipython3",
   "version": "3.9.6"
  },
  "vscode": {
   "interpreter": {
    "hash": "eda7e54fe21129b67f77862937907ee926f057597a3e2fa1e18ac955e40912b3"
   }
  }
 },
 "nbformat": 4,
 "nbformat_minor": 0
}
