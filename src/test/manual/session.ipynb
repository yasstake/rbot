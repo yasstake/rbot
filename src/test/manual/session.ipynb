{
 "cells": [
  {
   "attachments": {},
   "cell_type": "markdown",
   "metadata": {},
   "source": [
    "# Sessionクラス解説\n",
    "\n",
    "Session クラスはAgentの各イベント(on_tick, on_clock, on_update)時に引数として送られてきます。\n",
    "このSessionのインスタンスを利用してAgent内の取引ロジックを開発してください。\n",
    "使えるプロパティ／メソッドについて説明します。\n",
    "\n",
    "このNoteの中では説明のためにSessionオブジェクトのインスタンス化や内部関数も使いますが、\n",
    "ユーザがはSessionオブジェクトを自分で生成することはありません。\n",
    "\n",
    "資金管理などのメソッドは今後の開発予定になっています。\n",
    "\n",
    "## プロパティ\n",
    "\n",
    "\n",
    "### 市況を示すプロパティ\n",
    "\n",
    "<table>\n",
    "<tr><td >内容</td><td>プロパティ</td></tr>\n",
    "<tr><td>現在時刻</td><td>Session.current_timestamp</td></tr>\n",
    "<tr><td>最終売Take価格 = 最終買Make価格</td><td>Session.best_buy_price</td></tr>\n",
    "<tr><td>最終買Take価格 = 最終売Make価格</td><td>Session.best_sell_price</td></tr>\n",
    "</table>\n",
    "\n",
    "### 自分のオーダー／ポジションを表すプロパティ\n",
    "\n",
    "\n",
    "#### 注残\n",
    "\n",
    "<table>\n",
    "<table>\n",
    "<tr><td></td><td>内容</td><td>関数</td></tr>\n",
    "<tr><td colspan='3'>Long</td></tr>\n",
    "<tr><td></td><td>買注文個数</td><td>Session.long_order_len</td></tr>\n",
    "<tr><td></td><td>買注文一覧</td><td>Session.long_orders</td></tr>\n",
    "<tr><td colspan='3'>Short</td></tr>\n",
    "<tr><td></td><td>売注文個数</td><td>Session.short_order_len</td></tr>\n",
    "<tr><td></td><td>売注文一覧</td><td>Session.short_orders</td></tr>\n",
    "</table>\n",
    "\n",
    "#### ポジション\n",
    "\n",
    "<table>\n",
    "<tr><td></td><td>内容</td><td>関数</td></tr>\n",
    "<tr><td colspan='3'>Long</td></tr>\n",
    "<tr><td></td><td>平均単価</td><td>Session.long_position_price</td></tr>\n",
    "<tr><td></td><td>サイズ</td><td>Session.long_position_size</td></tr>\n",
    "<tr><td colspan='3'>Short</td></tr>\n",
    "<tr><td></td><td>平均単価</td><td>Session.short_position_price</td></tr>\n",
    "<tr><td></td><td>サイズ</td><td>Session.short_position_size</td></tr>\n",
    "</tbody></table>\n",
    "</table>\n",
    "\n",
    "\n",
    "\n",
    "## 関数\n",
    "\n",
    "#### オーダー発行(`place_order`)\n",
    "\n",
    "```\n",
    "Session.place_order(\n",
    "    order_side,     # 'Buy'　または 'Sell'を指定\n",
    "    price,          # 任意の価格が設定できるが相手の板にぶつけるtakeになる価格でもmakeの処理・手数料で処理している。\n",
    "                    # ギリ指しするために　Session.best_buy_price, Session.best_sell_priceが使える。\n",
    "    size,           # オーダーサイズ BTCBUSDの場合BTC建で指定。\n",
    "    duration_sec,   # オーダーの有効期限（秒）。オーダー後、この秒数をこえるとExpireする。\n",
    "    message         # あとでログで識別できるように任意の文字列が設定できる。\n",
    ")\n",
    "```\n",
    "\n",
    "#### 現在時刻のohlcv取得(`ohlcv`)\n",
    "\n",
    "```\n",
    "Session.ohlcv(\n",
    "    time_window,    #   OHLCVの足の幅（秒）\n",
    "    num_of_bars,    #   取得する本数\n",
    ")\n",
    "```\n",
    "\n"
   ]
  },
  {
   "attachments": {},
   "cell_type": "markdown",
   "metadata": {},
   "source": [
    "## 以下テストを兼ねたSessionオブジェクトの内部動作確認"
   ]
  },
  {
   "cell_type": "code",
   "execution_count": 28,
   "metadata": {},
   "outputs": [],
   "source": [
    "# 通常ユーザがSessionオブジェクトを生成する必要はありません。説明のために内部関数をつかって生成します。\n",
    "from rbot import Session, _DummySession\n",
    "\n",
    "session = Session(_DummySession('BN', \"BTCBUSD\", False))"
   ]
  },
  {
   "cell_type": "code",
   "execution_count": 29,
   "metadata": {},
   "outputs": [
    {
     "data": {
      "text/html": [
       "<table><tbody><tr><td colspan='3', align='left'>市況</td></tr><tr><td></td><td width='120'>内容</td><td>関数</td><td>出力</td></tr><tr><td></td><td>現在時刻</td><td>Session.current_timestamp</td><td>1970-01-01T00:00:00.000000(0)</td></tr><tr><td></td><td>最終売Take価格/最終買Make価格</td><td>Session.best_buy_price</td><td>0.0</td></tr><tr><td></td><td>最終買Take価格/最終売Make価格</td><td>Session.best_sell_price</td><td>0.0</td></tr><tr><td colspan='3', align='left'>処理中オーダー</td></tr><tr><td>Long</td><td>買注文数量</td><td>Session.long_order_len</td><td>0</td></tr><tr><td></td><td>買注文一覧</td><td>Session.long_orders</td><td></td></tr><tr><td></td><td colspan='3'>[]</td></tr><tr><td>Short</td><td>売注文数量</td><td>Session.short_order_len</td><td>0</td></tr><tr><td></td><td>売注文一覧</td><td>Session.short_orders</td><td></td></tr><tr><td></td><<td colspan='3'>[]</td></tr><tr><td></td></tr><tr><td colspan='3', align='left'>ポジション</td></tr><tr><td>Long</td><td>平均単価</td><td>session.long_position_price</td><td>0.0</td></tr><tr><td></td><td>サイズ</td><td>session.long_position_size</td><td>0.0</td></tr><tr><td>Short</td><td>平均単価</td><td>session.short_position_price</td><td>0.0</td></tr><tr><td></td><td>サイズ</td><td>session.short_position_size</td><td>0.0</td></tr></tbody></table>"
      ],
      "text/plain": [
       "<rbot.Session at 0x110530bb0>"
      ]
     },
     "execution_count": 29,
     "metadata": {},
     "output_type": "execute_result"
    }
   ],
   "source": [
    "# 初期状態では中身は空っぽ\n",
    "session"
   ]
  },
  {
   "cell_type": "code",
   "execution_count": 30,
   "metadata": {},
   "outputs": [
    {
     "data": {
      "text/html": [
       "<table><tbody><tr><td colspan='3', align='left'>市況</td></tr><tr><td></td><td width='120'>内容</td><td>関数</td><td>出力</td></tr><tr><td></td><td>現在時刻</td><td>Session.current_timestamp</td><td>2022-12-19T07:35:53.262182(1671435353262182)</td></tr><tr><td></td><td>最終売Take価格/最終買Make価格</td><td>Session.best_buy_price</td><td>0.0</td></tr><tr><td></td><td>最終買Take価格/最終売Make価格</td><td>Session.best_sell_price</td><td>100.0</td></tr><tr><td colspan='3', align='left'>処理中オーダー</td></tr><tr><td>Long</td><td>買注文数量</td><td>Session.long_order_len</td><td>0</td></tr><tr><td></td><td>買注文一覧</td><td>Session.long_orders</td><td></td></tr><tr><td></td><td colspan='3'>[]</td></tr><tr><td>Short</td><td>売注文数量</td><td>Session.short_order_len</td><td>0</td></tr><tr><td></td><td>売注文一覧</td><td>Session.short_orders</td><td></td></tr><tr><td></td><<td colspan='3'>[]</td></tr><tr><td></td></tr><tr><td colspan='3', align='left'>ポジション</td></tr><tr><td>Long</td><td>平均単価</td><td>session.long_position_price</td><td>0.0</td></tr><tr><td></td><td>サイズ</td><td>session.long_position_size</td><td>0.0</td></tr><tr><td>Short</td><td>平均単価</td><td>session.short_position_price</td><td>0.0</td></tr><tr><td></td><td>サイズ</td><td>session.short_position_size</td><td>0.0</td></tr></tbody></table>"
      ],
      "text/plain": [
       "<rbot.Session at 0x110530bb0>"
      ]
     },
     "execution_count": 30,
     "metadata": {},
     "output_type": "execute_result"
    }
   ],
   "source": [
    "# 内部処理、バックテスト用にログを読み取らせると市況がUpdateされる。\n",
    "from rbot import NOW\n",
    "import rbot\n",
    "\n",
    "# 最後に買われた価格が 売り板の最良値（best_sell_price)になる。\n",
    "session.trade(NOW(), \"Buy\", 100, 1, \"ORDERID-1\")    # BackTester内部処理\n",
    "session"
   ]
  },
  {
   "cell_type": "code",
   "execution_count": 31,
   "metadata": {},
   "outputs": [
    {
     "data": {
      "text/html": [
       "<table><tbody><tr><td colspan='3', align='left'>市況</td></tr><tr><td></td><td width='120'>内容</td><td>関数</td><td>出力</td></tr><tr><td></td><td>現在時刻</td><td>Session.current_timestamp</td><td>2022-12-19T07:35:55.159943(1671435355159943)</td></tr><tr><td></td><td>最終売Take価格/最終買Make価格</td><td>Session.best_buy_price</td><td>99.9</td></tr><tr><td></td><td>最終買Take価格/最終売Make価格</td><td>Session.best_sell_price</td><td>100.0</td></tr><tr><td colspan='3', align='left'>処理中オーダー</td></tr><tr><td>Long</td><td>買注文数量</td><td>Session.long_order_len</td><td>0</td></tr><tr><td></td><td>買注文一覧</td><td>Session.long_orders</td><td></td></tr><tr><td></td><td colspan='3'>[]</td></tr><tr><td>Short</td><td>売注文数量</td><td>Session.short_order_len</td><td>0</td></tr><tr><td></td><td>売注文一覧</td><td>Session.short_orders</td><td></td></tr><tr><td></td><<td colspan='3'>[]</td></tr><tr><td></td></tr><tr><td colspan='3', align='left'>ポジション</td></tr><tr><td>Long</td><td>平均単価</td><td>session.long_position_price</td><td>0.0</td></tr><tr><td></td><td>サイズ</td><td>session.long_position_size</td><td>0.0</td></tr><tr><td>Short</td><td>平均単価</td><td>session.short_position_price</td><td>0.0</td></tr><tr><td></td><td>サイズ</td><td>session.short_position_size</td><td>0.0</td></tr></tbody></table>"
      ],
      "text/plain": [
       "<rbot.Session at 0x110530bb0>"
      ]
     },
     "execution_count": 31,
     "metadata": {},
     "output_type": "execute_result"
    }
   ],
   "source": [
    "# 最後に売られた価格が買い板の最良値(best_buy_price)になる、\n",
    "session.trade(NOW(), \"Sell\", 99.9, 1, \"ORDERID-2\") # BackTester内部処理\n",
    "session"
   ]
  },
  {
   "cell_type": "code",
   "execution_count": 32,
   "metadata": {},
   "outputs": [
    {
     "data": {
      "text/html": [
       "<table><tbody><tr><td colspan='3', align='left'>市況</td></tr><tr><td></td><td width='120'>内容</td><td>関数</td><td>出力</td></tr><tr><td></td><td>現在時刻</td><td>Session.current_timestamp</td><td>2022-12-19T07:35:55.159943(1671435355159943)</td></tr><tr><td></td><td>最終売Take価格/最終買Make価格</td><td>Session.best_buy_price</td><td>99.9</td></tr><tr><td></td><td>最終買Take価格/最終売Make価格</td><td>Session.best_sell_price</td><td>100.0</td></tr><tr><td colspan='3', align='left'>処理中オーダー</td></tr><tr><td>Long</td><td>買注文数量</td><td>Session.long_order_len</td><td>1</td></tr><tr><td></td><td>買注文一覧</td><td>Session.long_orders</td><td></td></tr><tr><td></td><td colspan='3'>[{order_index:0, create_time:1671435355159943, order_id:0000-0001, order_side:Buy, post_only:true, valid_until:1671435356159943, price:100, size:1, message:test order, remain_size:1, size_in_price_currency: false}]</td></tr><tr><td>Short</td><td>売注文数量</td><td>Session.short_order_len</td><td>0</td></tr><tr><td></td><td>売注文一覧</td><td>Session.short_orders</td><td></td></tr><tr><td></td><<td colspan='3'>[]</td></tr><tr><td></td></tr><tr><td colspan='3', align='left'>ポジション</td></tr><tr><td>Long</td><td>平均単価</td><td>session.long_position_price</td><td>0.0</td></tr><tr><td></td><td>サイズ</td><td>session.long_position_size</td><td>0.0</td></tr><tr><td>Short</td><td>平均単価</td><td>session.short_position_price</td><td>0.0</td></tr><tr><td></td><td>サイズ</td><td>session.short_position_size</td><td>0.0</td></tr></tbody></table>"
      ],
      "text/plain": [
       "<rbot.Session at 0x110530bb0>"
      ]
     },
     "execution_count": 32,
     "metadata": {},
     "output_type": "execute_result"
    }
   ],
   "source": [
    "# Agent用メソッド：　オーダーを発行すると,処理中オーダーにキューされる\n",
    "session.place_order(\"Buy\", \n",
    "                    100,    #価格\n",
    "                    50,     # サイズ\n",
    "                    1,     # 有効期間\n",
    "                    'test order')\n",
    "session"
   ]
  },
  {
   "cell_type": "code",
   "execution_count": 33,
   "metadata": {},
   "outputs": [
    {
     "data": {
      "text/html": [
       "<table><tbody><tr><td colspan='3', align='left'>市況</td></tr><tr><td></td><td width='120'>内容</td><td>関数</td><td>出力</td></tr><tr><td></td><td>現在時刻</td><td>Session.current_timestamp</td><td>2022-12-19T07:36:34.604069(1671435394604069)</td></tr><tr><td></td><td>最終売Take価格/最終買Make価格</td><td>Session.best_buy_price</td><td>99.9</td></tr><tr><td></td><td>最終買Take価格/最終売Make価格</td><td>Session.best_sell_price</td><td>100.0</td></tr><tr><td colspan='3', align='left'>処理中オーダー</td></tr><tr><td>Long</td><td>買注文数量</td><td>Session.long_order_len</td><td>0</td></tr><tr><td></td><td>買注文一覧</td><td>Session.long_orders</td><td></td></tr><tr><td></td><td colspan='3'>[]</td></tr><tr><td>Short</td><td>売注文数量</td><td>Session.short_order_len</td><td>0</td></tr><tr><td></td><td>売注文一覧</td><td>Session.short_orders</td><td></td></tr><tr><td></td><<td colspan='3'>[]</td></tr><tr><td></td></tr><tr><td colspan='3', align='left'>ポジション</td></tr><tr><td>Long</td><td>平均単価</td><td>session.long_position_price</td><td>0.0</td></tr><tr><td></td><td>サイズ</td><td>session.long_position_size</td><td>0.0</td></tr><tr><td>Short</td><td>平均単価</td><td>session.short_position_price</td><td>0.0</td></tr><tr><td></td><td>サイズ</td><td>session.short_position_size</td><td>0.0</td></tr></tbody></table>"
      ],
      "text/plain": [
       "<rbot.Session at 0x110530bb0>"
      ]
     },
     "execution_count": 33,
     "metadata": {},
     "output_type": "execute_result"
    }
   ],
   "source": [
    "# 有効期間が1秒なので、1秒まってバックテスターが次のTradeを処理するとオーダーはExpireしてしまう（オーダーがセッションから消える）。\n",
    "import time\n",
    "time.sleep(1)\n",
    "session.trade(NOW(), \"Buy\", 100, 1, \"ORDERID-1\")    # BackTester内部処理\n",
    "session"
   ]
  },
  {
   "cell_type": "code",
   "execution_count": 34,
   "metadata": {},
   "outputs": [
    {
     "data": {
      "text/html": [
       "<table><tbody><tr><td colspan='3', align='left'>市況</td></tr><tr><td></td><td width='120'>内容</td><td>関数</td><td>出力</td></tr><tr><td></td><td>現在時刻</td><td>Session.current_timestamp</td><td>2022-12-19T07:36:34.604069(1671435394604069)</td></tr><tr><td></td><td>最終売Take価格/最終買Make価格</td><td>Session.best_buy_price</td><td>99.9</td></tr><tr><td></td><td>最終買Take価格/最終売Make価格</td><td>Session.best_sell_price</td><td>100.0</td></tr><tr><td colspan='3', align='left'>処理中オーダー</td></tr><tr><td>Long</td><td>買注文数量</td><td>Session.long_order_len</td><td>1</td></tr><tr><td></td><td>買注文一覧</td><td>Session.long_orders</td><td></td></tr><tr><td></td><td colspan='3'>[{order_index:0, create_time:1671435394604069, order_id:0000-0002, order_side:Buy, post_only:true, valid_until:1671438994604069, price:100, size:50, message:test order, remain_size:50, size_in_price_currency: false}]</td></tr><tr><td>Short</td><td>売注文数量</td><td>Session.short_order_len</td><td>0</td></tr><tr><td></td><td>売注文一覧</td><td>Session.short_orders</td><td></td></tr><tr><td></td><<td colspan='3'>[]</td></tr><tr><td></td></tr><tr><td colspan='3', align='left'>ポジション</td></tr><tr><td>Long</td><td>平均単価</td><td>session.long_position_price</td><td>0.0</td></tr><tr><td></td><td>サイズ</td><td>session.long_position_size</td><td>0.0</td></tr><tr><td>Short</td><td>平均単価</td><td>session.short_position_price</td><td>0.0</td></tr><tr><td></td><td>サイズ</td><td>session.short_position_size</td><td>0.0</td></tr></tbody></table>"
      ],
      "text/plain": [
       "<rbot.Session at 0x110530bb0>"
      ]
     },
     "execution_count": 34,
     "metadata": {},
     "output_type": "execute_result"
    }
   ],
   "source": [
    "# Agent用メソッド：　今度は有効期間のながいオーダーを出す。\n",
    "session.place_order(\"Buy\", \n",
    "                    100,    #価格\n",
    "                    50,      # サイズ\n",
    "                    60*60,     # 有効期間(1時間)\n",
    "                    'test order')\n",
    "session"
   ]
  },
  {
   "cell_type": "code",
   "execution_count": 35,
   "metadata": {},
   "outputs": [
    {
     "data": {
      "text/html": [
       "<table><tbody><tr><td colspan='3', align='left'>市況</td></tr><tr><td></td><td width='120'>内容</td><td>関数</td><td>出力</td></tr><tr><td></td><td>現在時刻</td><td>Session.current_timestamp</td><td>2022-12-19T07:39:27.678318(1671435567678318)</td></tr><tr><td></td><td>最終売Take価格/最終買Make価格</td><td>Session.best_buy_price</td><td>101.0</td></tr><tr><td></td><td>最終買Take価格/最終売Make価格</td><td>Session.best_sell_price</td><td>101.0</td></tr><tr><td colspan='3', align='left'>処理中オーダー</td></tr><tr><td>Long</td><td>買注文数量</td><td>Session.long_order_len</td><td>1</td></tr><tr><td></td><td>買注文一覧</td><td>Session.long_orders</td><td></td></tr><tr><td></td><td colspan='3'>[{order_index:0, create_time:1671435394604069, order_id:0000-0002, order_side:Buy, post_only:true, valid_until:1671438994604069, price:100, size:50, message:test order, remain_size:50, size_in_price_currency: false}]</td></tr><tr><td>Short</td><td>売注文数量</td><td>Session.short_order_len</td><td>0</td></tr><tr><td></td><td>売注文一覧</td><td>Session.short_orders</td><td></td></tr><tr><td></td><<td colspan='3'>[]</td></tr><tr><td></td></tr><tr><td colspan='3', align='left'>ポジション</td></tr><tr><td>Long</td><td>平均単価</td><td>session.long_position_price</td><td>0.0</td></tr><tr><td></td><td>サイズ</td><td>session.long_position_size</td><td>0.0</td></tr><tr><td>Short</td><td>平均単価</td><td>session.short_position_price</td><td>0.0</td></tr><tr><td></td><td>サイズ</td><td>session.short_position_size</td><td>0.0</td></tr></tbody></table>"
      ],
      "text/plain": [
       "<rbot.Session at 0x110530bb0>"
      ]
     },
     "execution_count": 35,
     "metadata": {},
     "output_type": "execute_result"
    }
   ],
   "source": [
    "# 買オーダー(100)よりも高い売り(101.0)がおこなわれてもオーダーには影響がない。\n",
    "session.trade(NOW(), \"Sell\", 101.0, 1, \"ORDERID-2\")  # Back Tester内部処理\n",
    "session"
   ]
  },
  {
   "cell_type": "code",
   "execution_count": 37,
   "metadata": {},
   "outputs": [
    {
     "data": {
      "text/html": [
       "<table><tbody><tr><td colspan='3', align='left'>市況</td></tr><tr><td></td><td width='120'>内容</td><td>関数</td><td>出力</td></tr><tr><td></td><td>現在時刻</td><td>Session.current_timestamp</td><td>2022-12-19T07:40:54.816389(1671435654816389)</td></tr><tr><td></td><td>最終売Take価格/最終買Make価格</td><td>Session.best_buy_price</td><td>100.0</td></tr><tr><td></td><td>最終買Take価格/最終売Make価格</td><td>Session.best_sell_price</td><td>101.0</td></tr><tr><td colspan='3', align='left'>処理中オーダー</td></tr><tr><td>Long</td><td>買注文数量</td><td>Session.long_order_len</td><td>1</td></tr><tr><td></td><td>買注文一覧</td><td>Session.long_orders</td><td></td></tr><tr><td></td><td colspan='3'>[{order_index:0, create_time:1671435394604069, order_id:0000-0002, order_side:Buy, post_only:true, valid_until:1671438994604069, price:100, size:50, message:test order, remain_size:50, size_in_price_currency: false}]</td></tr><tr><td>Short</td><td>売注文数量</td><td>Session.short_order_len</td><td>0</td></tr><tr><td></td><td>売注文一覧</td><td>Session.short_orders</td><td></td></tr><tr><td></td><<td colspan='3'>[]</td></tr><tr><td></td></tr><tr><td colspan='3', align='left'>ポジション</td></tr><tr><td>Long</td><td>平均単価</td><td>session.long_position_price</td><td>0.0</td></tr><tr><td></td><td>サイズ</td><td>session.long_position_size</td><td>0.0</td></tr><tr><td>Short</td><td>平均単価</td><td>session.short_position_price</td><td>0.0</td></tr><tr><td></td><td>サイズ</td><td>session.short_position_size</td><td>0.0</td></tr></tbody></table>"
      ],
      "text/plain": [
       "<rbot.Session at 0x110530bb0>"
      ]
     },
     "execution_count": 37,
     "metadata": {},
     "output_type": "execute_result"
    }
   ],
   "source": [
    "# 買オーダー（１００）と同じ価格の売りがおこなわれているときも影響がない\n",
    "# 本来は時間が経って板の最後までまわってきたら約定するが、辛めに判定\n",
    "session.trade(NOW(), \"Sell\", 100.0, 1, \"ORDERID-2\")  # Back Tester内部処理\n",
    "session"
   ]
  },
  {
   "cell_type": "code",
   "execution_count": 38,
   "metadata": {},
   "outputs": [
    {
     "data": {
      "text/html": [
       "<table><tbody><tr><td colspan='3', align='left'>市況</td></tr><tr><td></td><td width='120'>内容</td><td>関数</td><td>出力</td></tr><tr><td></td><td>現在時刻</td><td>Session.current_timestamp</td><td>2022-12-19T07:41:58.497507(1671435718497507)</td></tr><tr><td></td><td>最終売Take価格/最終買Make価格</td><td>Session.best_buy_price</td><td>99.9</td></tr><tr><td></td><td>最終買Take価格/最終売Make価格</td><td>Session.best_sell_price</td><td>101.0</td></tr><tr><td colspan='3', align='left'>処理中オーダー</td></tr><tr><td>Long</td><td>買注文数量</td><td>Session.long_order_len</td><td>1</td></tr><tr><td></td><td>買注文一覧</td><td>Session.long_orders</td><td></td></tr><tr><td></td><td colspan='3'>[{order_index:0, create_time:1671435394604069, order_id:0000-0002, order_side:Buy, post_only:true, valid_until:1671438994604069, price:100, size:50, message:test order, remain_size:49, size_in_price_currency: false}]</td></tr><tr><td>Short</td><td>売注文数量</td><td>Session.short_order_len</td><td>0</td></tr><tr><td></td><td>売注文一覧</td><td>Session.short_orders</td><td></td></tr><tr><td></td><<td colspan='3'>[]</td></tr><tr><td></td></tr><tr><td colspan='3', align='left'>ポジション</td></tr><tr><td>Long</td><td>平均単価</td><td>session.long_position_price</td><td>0.0</td></tr><tr><td></td><td>サイズ</td><td>session.long_position_size</td><td>0.0</td></tr><tr><td>Short</td><td>平均単価</td><td>session.short_position_price</td><td>0.0</td></tr><tr><td></td><td>サイズ</td><td>session.short_position_size</td><td>0.0</td></tr></tbody></table>"
      ],
      "text/plain": [
       "<rbot.Session at 0x110530bb0>"
      ]
     },
     "execution_count": 38,
     "metadata": {},
     "output_type": "execute_result"
    }
   ],
   "source": [
    "# 買オーダー(100)よりも低い価格の売りがでてきたら、部分約定する（今回の例では、サイズ１が約定して49が残っている）\n",
    "# ただし約定ログは分割せずremain_sizeをへらして全部約定のときにログを出す（あとで、まとめて約定したことにする）\n",
    "session.trade(NOW(), \"Sell\", 99.9, 1, \"ORDERID-2\")  # Back Tester内部処理\n",
    "session"
   ]
  },
  {
   "cell_type": "code",
   "execution_count": 41,
   "metadata": {},
   "outputs": [
    {
     "data": {
      "text/html": [
       "<table><tbody><tr><td colspan='3', align='left'>市況</td></tr><tr><td></td><td width='120'>内容</td><td>関数</td><td>出力</td></tr><tr><td></td><td>現在時刻</td><td>Session.current_timestamp</td><td>2022-12-19T07:47:33.510140(1671436053510140)</td></tr><tr><td></td><td>最終売Take価格/最終買Make価格</td><td>Session.best_buy_price</td><td>99.9</td></tr><tr><td></td><td>最終買Take価格/最終売Make価格</td><td>Session.best_sell_price</td><td>101.0</td></tr><tr><td colspan='3', align='left'>処理中オーダー</td></tr><tr><td>Long</td><td>買注文数量</td><td>Session.long_order_len</td><td>0</td></tr><tr><td></td><td>買注文一覧</td><td>Session.long_orders</td><td></td></tr><tr><td></td><td colspan='3'>[]</td></tr><tr><td>Short</td><td>売注文数量</td><td>Session.short_order_len</td><td>0</td></tr><tr><td></td><td>売注文一覧</td><td>Session.short_orders</td><td></td></tr><tr><td></td><<td colspan='3'>[]</td></tr><tr><td></td></tr><tr><td colspan='3', align='left'>ポジション</td></tr><tr><td>Long</td><td>平均単価</td><td>session.long_position_price</td><td>100.0</td></tr><tr><td></td><td>サイズ</td><td>session.long_position_size</td><td>50.0</td></tr><tr><td>Short</td><td>平均単価</td><td>session.short_position_price</td><td>0.0</td></tr><tr><td></td><td>サイズ</td><td>session.short_position_size</td><td>0.0</td></tr></tbody></table>"
      ],
      "text/plain": [
       "<rbot.Session at 0x110530bb0>"
      ]
     },
     "execution_count": 41,
     "metadata": {},
     "output_type": "execute_result"
    }
   ],
   "source": [
    "# のこり49の売りが発生すると全部約定し、オーダーがlongポジションへ移動する。\n",
    "session.trade(NOW(), \"Sell\", 99.9, 49, \"ORDERID-2\")  # Back Tester内部処理\n",
    "session"
   ]
  },
  {
   "cell_type": "code",
   "execution_count": 42,
   "metadata": {},
   "outputs": [
    {
     "data": {
      "text/html": [
       "<table><tbody><tr><td colspan='3', align='left'>市況</td></tr><tr><td></td><td width='120'>内容</td><td>関数</td><td>出力</td></tr><tr><td></td><td>現在時刻</td><td>Session.current_timestamp</td><td>2022-12-19T07:47:33.510140(1671436053510140)</td></tr><tr><td></td><td>最終売Take価格/最終買Make価格</td><td>Session.best_buy_price</td><td>99.9</td></tr><tr><td></td><td>最終買Take価格/最終売Make価格</td><td>Session.best_sell_price</td><td>101.0</td></tr><tr><td colspan='3', align='left'>処理中オーダー</td></tr><tr><td>Long</td><td>買注文数量</td><td>Session.long_order_len</td><td>0</td></tr><tr><td></td><td>買注文一覧</td><td>Session.long_orders</td><td></td></tr><tr><td></td><td colspan='3'>[]</td></tr><tr><td>Short</td><td>売注文数量</td><td>Session.short_order_len</td><td>1</td></tr><tr><td></td><td>売注文一覧</td><td>Session.short_orders</td><td></td></tr><tr><td></td><<td colspan='3'>[{order_index:0, create_time:1671436053510140, order_id:0000-0003, order_side:Sell, post_only:true, valid_until:1671439653510140, price:100, size:100, message:test order, remain_size:100, size_in_price_currency: false}]</td></tr><tr><td></td></tr><tr><td colspan='3', align='left'>ポジション</td></tr><tr><td>Long</td><td>平均単価</td><td>session.long_position_price</td><td>100.0</td></tr><tr><td></td><td>サイズ</td><td>session.long_position_size</td><td>50.0</td></tr><tr><td>Short</td><td>平均単価</td><td>session.short_position_price</td><td>0.0</td></tr><tr><td></td><td>サイズ</td><td>session.short_position_size</td><td>0.0</td></tr></tbody></table>"
      ],
      "text/plain": [
       "<rbot.Session at 0x110530bb0>"
      ]
     },
     "execution_count": 42,
     "metadata": {},
     "output_type": "execute_result"
    }
   ],
   "source": [
    "# Agent用メソッド：　ここでドテンオーダーを出すと売りのオーダーにキューされる。\n",
    "session.place_order(\"Sell\", \n",
    "                    100,    #価格\n",
    "                    100,      # サイズ\n",
    "                    60*60,     # 有効期間(1時間)\n",
    "                    'test order')\n",
    "session"
   ]
  },
  {
   "cell_type": "code",
   "execution_count": 43,
   "metadata": {},
   "outputs": [
    {
     "data": {
      "text/html": [
       "<table><tbody><tr><td colspan='3', align='left'>市況</td></tr><tr><td></td><td width='120'>内容</td><td>関数</td><td>出力</td></tr><tr><td></td><td>現在時刻</td><td>Session.current_timestamp</td><td>2022-12-19T07:51:06.558139(1671436266558139)</td></tr><tr><td></td><td>最終売Take価格/最終買Make価格</td><td>Session.best_buy_price</td><td>99.9</td></tr><tr><td></td><td>最終買Take価格/最終売Make価格</td><td>Session.best_sell_price</td><td>100.1</td></tr><tr><td colspan='3', align='left'>処理中オーダー</td></tr><tr><td>Long</td><td>買注文数量</td><td>Session.long_order_len</td><td>0</td></tr><tr><td></td><td>買注文一覧</td><td>Session.long_orders</td><td></td></tr><tr><td></td><td colspan='3'>[]</td></tr><tr><td>Short</td><td>売注文数量</td><td>Session.short_order_len</td><td>0</td></tr><tr><td></td><td>売注文一覧</td><td>Session.short_orders</td><td></td></tr><tr><td></td><<td colspan='3'>[]</td></tr><tr><td></td></tr><tr><td colspan='3', align='left'>ポジション</td></tr><tr><td>Long</td><td>平均単価</td><td>session.long_position_price</td><td>0.0</td></tr><tr><td></td><td>サイズ</td><td>session.long_position_size</td><td>0.0</td></tr><tr><td>Short</td><td>平均単価</td><td>session.short_position_price</td><td>100.0</td></tr><tr><td></td><td>サイズ</td><td>session.short_position_size</td><td>50.0</td></tr></tbody></table>"
      ],
      "text/plain": [
       "<rbot.Session at 0x110530bb0>"
      ]
     },
     "execution_count": 43,
     "metadata": {},
     "output_type": "execute_result"
    }
   ],
   "source": [
    "# 全部を約定するようなログがきたら、ロングポジション５０が精算されると同時に分割されてあらたに５０のショートポジションが積まれる。\n",
    "session.trade(NOW(), \"Buy\", 100.1, 100, \"ORDERID-2\")  # Back Tester内部処理\n",
    "session"
   ]
  },
  {
   "attachments": {},
   "cell_type": "markdown",
   "metadata": {},
   "source": [
    "# まとめ\n",
    "\n",
    "以上のような動きを約定ログ全部なめてバックテストを行なっています。\n",
    "（こんな面倒な方法やらなきゃよかった。。。）"
   ]
  }
 ],
 "metadata": {
  "kernelspec": {
   "display_name": "Python 3 (ipykernel)",
   "language": "python",
   "name": "python3"
  },
  "language_info": {
   "codemirror_mode": {
    "name": "ipython",
    "version": 3
   },
   "file_extension": ".py",
   "mimetype": "text/x-python",
   "name": "python",
   "nbconvert_exporter": "python",
   "pygments_lexer": "ipython3",
   "version": "3.10.6"
  },
  "vscode": {
   "interpreter": {
    "hash": "561348bbb4e85c6f6e71fe5b82b416ad34192af0efebb264d0a2937e8ad0f6d5"
   }
  }
 },
 "nbformat": 4,
 "nbformat_minor": 2
}
