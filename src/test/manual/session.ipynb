{
  "cells": [
    {
      "cell_type": "markdown",
      "source": [
        "<a target=\"_blank\" href=\"https://colab.research.google.com/github/yasstake/rusty-bot/blob/main/manual/session.ipynb\">\n",
        "  <img src=\"https://colab.research.google.com/assets/colab-badge.svg\" alt=\"Open In Colab\"/>\n",
        "</a>"
      ],
      "metadata": {
        "id": "2GXyvxWa4szl"
      }
    },
    {
      "cell_type": "markdown",
      "metadata": {
        "id": "BGZB9UiH4gyn"
      },
      "source": [
        "# Sessionクラス解説\n",
        "\n",
        "Session クラスはAgentの各イベント(on_tick, on_clock, on_update)時に引数として送られてきます。\n",
        "このSessionのインスタンスを利用してAgent内の取引ロジックを開発してください。\n",
        "使えるプロパティ／メソッドについて説明します。\n",
        "\n",
        "このNoteの中では説明のためにSessionオブジェクトのインスタンス化や内部関数も使いますが、\n",
        "ユーザがはSessionオブジェクトを自分で生成することはありません。\n",
        "\n",
        "資金管理などのメソッドは今後の開発予定になっています。\n",
        "\n",
        "## プロパティ\n",
        "\n",
        "\n",
        "### 市況を示すプロパティ\n",
        "\n",
        "<table>\n",
        "<tr><td >内容</td><td>プロパティ</td></tr>\n",
        "<tr><td>現在時刻</td><td>Session.current_timestamp</td></tr>\n",
        "<tr><td>最終売Take価格 = 最終買Make価格</td><td>Session.best_buy_price</td></tr>\n",
        "<tr><td>最終買Take価格 = 最終売Make価格</td><td>Session.best_sell_price</td></tr>\n",
        "</table>\n",
        "\n",
        "### 自分のオーダー／ポジションを表すプロパティ\n",
        "\n",
        "\n",
        "#### 注残\n",
        "\n",
        "<table>\n",
        "<table>\n",
        "<tr><td></td><td>内容</td><td>関数</td></tr>\n",
        "<tr><td colspan='3'>Long</td></tr>\n",
        "<tr><td></td><td>買注文個数</td><td>Session.long_order_len</td></tr>\n",
        "<tr><td></td><td>買注文一覧</td><td>Session.long_orders</td></tr>\n",
        "<tr><td colspan='3'>Short</td></tr>\n",
        "<tr><td></td><td>売注文個数</td><td>Session.short_order_len</td></tr>\n",
        "<tr><td></td><td>売注文一覧</td><td>Session.short_orders</td></tr>\n",
        "</table>\n",
        "\n",
        "#### ポジション\n",
        "\n",
        "<table>\n",
        "<tr><td></td><td>内容</td><td>関数</td></tr>\n",
        "<tr><td colspan='3'>Long</td></tr>\n",
        "<tr><td></td><td>平均単価</td><td>Session.long_position_price</td></tr>\n",
        "<tr><td></td><td>サイズ</td><td>Session.long_position_size</td></tr>\n",
        "<tr><td colspan='3'>Short</td></tr>\n",
        "<tr><td></td><td>平均単価</td><td>Session.short_position_price</td></tr>\n",
        "<tr><td></td><td>サイズ</td><td>Session.short_position_size</td></tr>\n",
        "</tbody></table>\n",
        "</table>\n",
        "\n",
        "\n",
        "\n",
        "## 関数\n",
        "\n",
        "#### オーダー発行(`place_order`)\n",
        "\n",
        "```\n",
        "Session.place_order(\n",
        "    order_side,     # 'Buy'　または 'Sell'を指定\n",
        "    price,          # 任意の価格が設定できるが相手の板にぶつけるtakeになる価格でもmakeの処理・手数料で処理している。\n",
        "                    # ギリ指しするために　Session.best_buy_price, Session.best_sell_priceが使える。\n",
        "    size,           # オーダーサイズ BTCBUSDの場合BTC建で指定。\n",
        "    duration_sec,   # オーダーの有効期限（秒）。オーダー後、この秒数をこえるとExpireする。\n",
        "    message         # あとでログで識別できるように任意の文字列が設定できる。\n",
        ")\n",
        "```\n",
        "\n",
        "#### 現在時刻のohlcv取得(`ohlcv`)\n",
        "\n",
        "```\n",
        "Session.ohlcv(\n",
        "    time_window,    #   OHLCVの足の幅（秒）\n",
        "    num_of_bars,    #   取得する本数\n",
        ")\n",
        "```\n",
        "\n"
      ]
    },
    {
      "cell_type": "markdown",
      "metadata": {
        "id": "5sCQJO0e4gyx"
      },
      "source": [
        "## 以下テストを兼ねたSessionオブジェクトの内部動作確認"
      ]
    },
    {
      "cell_type": "markdown",
      "source": [
        "## Google Collab用ライブラリインストール"
      ],
      "metadata": {
        "id": "fQ_HqmM545vv"
      }
    },
    {
      "cell_type": "code",
      "source": [
        "# Google Clab用です。必要に応じてコメントアウトしてください\n",
        "! pip install --upgrade pip\n",
        "! pip install numpy\n",
        "! pip install pandas\n",
        "! pip uninstall -y panel\n",
        "! pip install --upgrade bokeh > 3\n",
        "\n",
        "# https://github.com/yasstake/rusty-bot/releases/tag/release-0.2.0\n",
        "# （環境にあわせて修正お願いします）\n",
        "# Linux/Google Collab用\n",
        "!  pip install https://github.com/yasstake/rusty-bot/releases/download/release-0.2.0/rbot-0.2.0-cp38-cp38-manylinux_2_17_x86_64.manylinux2014_x86_64.whl"
      ],
      "metadata": {
        "id": "sAlI-m0L5Aly",
        "outputId": "42f7d9c4-4f0f-4ecc-c112-abda10bf8d8b",
        "colab": {
          "base_uri": "https://localhost:8080/"
        }
      },
      "execution_count": 1,
      "outputs": [
        {
          "output_type": "stream",
          "name": "stdout",
          "text": [
            "Looking in indexes: https://pypi.org/simple, https://us-python.pkg.dev/colab-wheels/public/simple/\n",
            "Requirement already satisfied: pip in /usr/local/lib/python3.8/dist-packages (21.1.3)\n",
            "Collecting pip\n",
            "  Downloading pip-22.3.1-py3-none-any.whl (2.1 MB)\n",
            "\u001b[K     |████████████████████████████████| 2.1 MB 4.0 MB/s \n",
            "\u001b[?25hInstalling collected packages: pip\n",
            "  Attempting uninstall: pip\n",
            "    Found existing installation: pip 21.1.3\n",
            "    Uninstalling pip-21.1.3:\n",
            "      Successfully uninstalled pip-21.1.3\n",
            "Successfully installed pip-22.3.1\n",
            "Looking in indexes: https://pypi.org/simple, https://us-python.pkg.dev/colab-wheels/public/simple/\n",
            "Requirement already satisfied: numpy in /usr/local/lib/python3.8/dist-packages (1.21.6)\n",
            "\u001b[33mWARNING: Running pip as the 'root' user can result in broken permissions and conflicting behaviour with the system package manager. It is recommended to use a virtual environment instead: https://pip.pypa.io/warnings/venv\u001b[0m\u001b[33m\n",
            "\u001b[0mLooking in indexes: https://pypi.org/simple, https://us-python.pkg.dev/colab-wheels/public/simple/\n",
            "Requirement already satisfied: pandas in /usr/local/lib/python3.8/dist-packages (1.3.5)\n",
            "Requirement already satisfied: numpy>=1.17.3 in /usr/local/lib/python3.8/dist-packages (from pandas) (1.21.6)\n",
            "Requirement already satisfied: python-dateutil>=2.7.3 in /usr/local/lib/python3.8/dist-packages (from pandas) (2.8.2)\n",
            "Requirement already satisfied: pytz>=2017.3 in /usr/local/lib/python3.8/dist-packages (from pandas) (2022.6)\n",
            "Requirement already satisfied: six>=1.5 in /usr/local/lib/python3.8/dist-packages (from python-dateutil>=2.7.3->pandas) (1.15.0)\n",
            "\u001b[33mWARNING: Running pip as the 'root' user can result in broken permissions and conflicting behaviour with the system package manager. It is recommended to use a virtual environment instead: https://pip.pypa.io/warnings/venv\u001b[0m\u001b[33m\n",
            "\u001b[0mFound existing installation: panel 0.12.1\n",
            "Uninstalling panel-0.12.1:\n",
            "  Successfully uninstalled panel-0.12.1\n",
            "\u001b[33mWARNING: Running pip as the 'root' user can result in broken permissions and conflicting behaviour with the system package manager. It is recommended to use a virtual environment instead: https://pip.pypa.io/warnings/venv\u001b[0m\u001b[33m\n",
            "\u001b[0m\u001b[33mWARNING: Running pip as the 'root' user can result in broken permissions and conflicting behaviour with the system package manager. It is recommended to use a virtual environment instead: https://pip.pypa.io/warnings/venv\u001b[0m\u001b[33m\n",
            "\u001b[0mLooking in indexes: https://pypi.org/simple, https://us-python.pkg.dev/colab-wheels/public/simple/\n",
            "Collecting rbot==0.2.0\n",
            "  Downloading https://github.com/yasstake/rusty-bot/releases/download/release-0.2.0/rbot-0.2.0-cp38-cp38-manylinux_2_17_x86_64.manylinux2014_x86_64.whl (11.9 MB)\n",
            "\u001b[2K     \u001b[90m━━━━━━━━━━━━━━━━━━━━━━━━━━━━━━━━━━━━━━━━\u001b[0m \u001b[32m11.9/11.9 MB\u001b[0m \u001b[31m9.6 MB/s\u001b[0m eta \u001b[36m0:00:00\u001b[0m\n",
            "\u001b[?25hInstalling collected packages: rbot\n",
            "Successfully installed rbot-0.2.0\n",
            "\u001b[33mWARNING: Running pip as the 'root' user can result in broken permissions and conflicting behaviour with the system package manager. It is recommended to use a virtual environment instead: https://pip.pypa.io/warnings/venv\u001b[0m\u001b[33m\n",
            "\u001b[0m"
          ]
        }
      ]
    },
    {
      "cell_type": "markdown",
      "source": [
        "## Time ユーティリティ使い方"
      ],
      "metadata": {
        "id": "rTnMS8iY5M1N"
      }
    },
    {
      "cell_type": "code",
      "execution_count": 2,
      "metadata": {
        "id": "PMg-z3qH4gyy"
      },
      "outputs": [],
      "source": [
        "# 通常ユーザがSessionオブジェクトを生成する必要はありません。説明のために内部関数をつかって生成します。\n",
        "from rbot import Session, _DummySession\n",
        "\n",
        "session = Session(_DummySession('BN', \"BTCBUSD\", False))"
      ]
    },
    {
      "cell_type": "code",
      "execution_count": 3,
      "metadata": {
        "id": "tfBvRY7N4gyy",
        "outputId": "822d7376-ff25-40e7-a310-3eab88597af8",
        "colab": {
          "base_uri": "https://localhost:8080/",
          "height": 438
        }
      },
      "outputs": [
        {
          "output_type": "execute_result",
          "data": {
            "text/plain": [
              "<rbot.Session at 0x7f2c21481bb0>"
            ],
            "text/html": [
              "<table><tbody><tr><td colspan='3', align='left'>市況</td></tr><tr><td></td><td width='120'>内容</td><td>関数</td><td>出力</td></tr><tr><td></td><td>現在時刻</td><td>Session.current_timestamp</td><td>1970-01-01T00:00:00.000000(0)</td></tr><tr><td></td><td>最終売Take価格/最終買Make価格</td><td>Session.best_buy_price</td><td>0.0</td></tr><tr><td></td><td>最終買Take価格/最終売Make価格</td><td>Session.best_sell_price</td><td>0.0</td></tr><tr><td colspan='3', align='left'>処理中オーダー</td></tr><tr><td>Long</td><td>買注文数量</td><td>Session.long_order_len</td><td>0</td></tr><tr><td></td><td>買注文一覧</td><td>Session.long_orders</td><td></td></tr><tr><td></td><td colspan='3'>[]</td></tr><tr><td>Short</td><td>売注文数量</td><td>Session.short_order_len</td><td>0</td></tr><tr><td></td><td>売注文一覧</td><td>Session.short_orders</td><td></td></tr><tr><td></td><<td colspan='3'>[]</td></tr><tr><td></td></tr><tr><td colspan='3', align='left'>ポジション</td></tr><tr><td>Long</td><td>平均単価</td><td>session.long_position_price</td><td>0.0</td></tr><tr><td></td><td>サイズ</td><td>session.long_position_size</td><td>0.0</td></tr><tr><td>Short</td><td>平均単価</td><td>session.short_position_price</td><td>0.0</td></tr><tr><td></td><td>サイズ</td><td>session.short_position_size</td><td>0.0</td></tr></tbody></table>"
            ]
          },
          "metadata": {},
          "execution_count": 3
        }
      ],
      "source": [
        "# 初期状態では中身は空っぽ\n",
        "session"
      ]
    },
    {
      "cell_type": "code",
      "execution_count": 4,
      "metadata": {
        "id": "5nbBv4BL4gyy",
        "outputId": "c4b74aa5-2ca1-477e-abe3-2176bdf9e398",
        "colab": {
          "base_uri": "https://localhost:8080/",
          "height": 438
        }
      },
      "outputs": [
        {
          "output_type": "execute_result",
          "data": {
            "text/plain": [
              "<rbot.Session at 0x7f2c21481bb0>"
            ],
            "text/html": [
              "<table><tbody><tr><td colspan='3', align='left'>市況</td></tr><tr><td></td><td width='120'>内容</td><td>関数</td><td>出力</td></tr><tr><td></td><td>現在時刻</td><td>Session.current_timestamp</td><td>2022-12-19T10:20:04.640318(1671445204640318)</td></tr><tr><td></td><td>最終売Take価格/最終買Make価格</td><td>Session.best_buy_price</td><td>0.0</td></tr><tr><td></td><td>最終買Take価格/最終売Make価格</td><td>Session.best_sell_price</td><td>100.0</td></tr><tr><td colspan='3', align='left'>処理中オーダー</td></tr><tr><td>Long</td><td>買注文数量</td><td>Session.long_order_len</td><td>0</td></tr><tr><td></td><td>買注文一覧</td><td>Session.long_orders</td><td></td></tr><tr><td></td><td colspan='3'>[]</td></tr><tr><td>Short</td><td>売注文数量</td><td>Session.short_order_len</td><td>0</td></tr><tr><td></td><td>売注文一覧</td><td>Session.short_orders</td><td></td></tr><tr><td></td><<td colspan='3'>[]</td></tr><tr><td></td></tr><tr><td colspan='3', align='left'>ポジション</td></tr><tr><td>Long</td><td>平均単価</td><td>session.long_position_price</td><td>0.0</td></tr><tr><td></td><td>サイズ</td><td>session.long_position_size</td><td>0.0</td></tr><tr><td>Short</td><td>平均単価</td><td>session.short_position_price</td><td>0.0</td></tr><tr><td></td><td>サイズ</td><td>session.short_position_size</td><td>0.0</td></tr></tbody></table>"
            ]
          },
          "metadata": {},
          "execution_count": 4
        }
      ],
      "source": [
        "# 内部処理、バックテスト用にログを読み取らせると市況がUpdateされる。\n",
        "from rbot import NOW\n",
        "import rbot\n",
        "\n",
        "# 最後に買われた価格が 売り板の最良値（best_sell_price)になる。\n",
        "session.trade(NOW(), \"Buy\", 100, 1, \"ORDERID-1\")    # BackTester内部処理\n",
        "session"
      ]
    },
    {
      "cell_type": "code",
      "execution_count": 5,
      "metadata": {
        "id": "G_L1L7pN4gyz",
        "outputId": "e0d842d1-9319-4674-f79f-2f4c98b0f030",
        "colab": {
          "base_uri": "https://localhost:8080/",
          "height": 438
        }
      },
      "outputs": [
        {
          "output_type": "execute_result",
          "data": {
            "text/plain": [
              "<rbot.Session at 0x7f2c21481bb0>"
            ],
            "text/html": [
              "<table><tbody><tr><td colspan='3', align='left'>市況</td></tr><tr><td></td><td width='120'>内容</td><td>関数</td><td>出力</td></tr><tr><td></td><td>現在時刻</td><td>Session.current_timestamp</td><td>2022-12-19T10:20:11.158995(1671445211158995)</td></tr><tr><td></td><td>最終売Take価格/最終買Make価格</td><td>Session.best_buy_price</td><td>99.9</td></tr><tr><td></td><td>最終買Take価格/最終売Make価格</td><td>Session.best_sell_price</td><td>100.0</td></tr><tr><td colspan='3', align='left'>処理中オーダー</td></tr><tr><td>Long</td><td>買注文数量</td><td>Session.long_order_len</td><td>0</td></tr><tr><td></td><td>買注文一覧</td><td>Session.long_orders</td><td></td></tr><tr><td></td><td colspan='3'>[]</td></tr><tr><td>Short</td><td>売注文数量</td><td>Session.short_order_len</td><td>0</td></tr><tr><td></td><td>売注文一覧</td><td>Session.short_orders</td><td></td></tr><tr><td></td><<td colspan='3'>[]</td></tr><tr><td></td></tr><tr><td colspan='3', align='left'>ポジション</td></tr><tr><td>Long</td><td>平均単価</td><td>session.long_position_price</td><td>0.0</td></tr><tr><td></td><td>サイズ</td><td>session.long_position_size</td><td>0.0</td></tr><tr><td>Short</td><td>平均単価</td><td>session.short_position_price</td><td>0.0</td></tr><tr><td></td><td>サイズ</td><td>session.short_position_size</td><td>0.0</td></tr></tbody></table>"
            ]
          },
          "metadata": {},
          "execution_count": 5
        }
      ],
      "source": [
        "# 最後に売られた価格が買い板の最良値(best_buy_price)になる、\n",
        "session.trade(NOW(), \"Sell\", 99.9, 1, \"ORDERID-2\") # BackTester内部処理\n",
        "session"
      ]
    },
    {
      "cell_type": "code",
      "execution_count": 6,
      "metadata": {
        "id": "alZxinzv4gyz",
        "outputId": "98d4596a-81b2-415d-df15-6f5d2c0f0041",
        "colab": {
          "base_uri": "https://localhost:8080/",
          "height": 438
        }
      },
      "outputs": [
        {
          "output_type": "execute_result",
          "data": {
            "text/plain": [
              "<rbot.Session at 0x7f2c21481bb0>"
            ],
            "text/html": [
              "<table><tbody><tr><td colspan='3', align='left'>市況</td></tr><tr><td></td><td width='120'>内容</td><td>関数</td><td>出力</td></tr><tr><td></td><td>現在時刻</td><td>Session.current_timestamp</td><td>2022-12-19T10:20:11.158995(1671445211158995)</td></tr><tr><td></td><td>最終売Take価格/最終買Make価格</td><td>Session.best_buy_price</td><td>99.9</td></tr><tr><td></td><td>最終買Take価格/最終売Make価格</td><td>Session.best_sell_price</td><td>100.0</td></tr><tr><td colspan='3', align='left'>処理中オーダー</td></tr><tr><td>Long</td><td>買注文数量</td><td>Session.long_order_len</td><td>1</td></tr><tr><td></td><td>買注文一覧</td><td>Session.long_orders</td><td></td></tr><tr><td></td><td colspan='3'>[{order_index:0, create_time:1671445211158995, order_id:0000-0001, order_side:Buy, post_only:true, valid_until:1671445212158995, price:100, size:50, message:test order, remain_size:50, size_in_price_currency: false}]</td></tr><tr><td>Short</td><td>売注文数量</td><td>Session.short_order_len</td><td>0</td></tr><tr><td></td><td>売注文一覧</td><td>Session.short_orders</td><td></td></tr><tr><td></td><<td colspan='3'>[]</td></tr><tr><td></td></tr><tr><td colspan='3', align='left'>ポジション</td></tr><tr><td>Long</td><td>平均単価</td><td>session.long_position_price</td><td>0.0</td></tr><tr><td></td><td>サイズ</td><td>session.long_position_size</td><td>0.0</td></tr><tr><td>Short</td><td>平均単価</td><td>session.short_position_price</td><td>0.0</td></tr><tr><td></td><td>サイズ</td><td>session.short_position_size</td><td>0.0</td></tr></tbody></table>"
            ]
          },
          "metadata": {},
          "execution_count": 6
        }
      ],
      "source": [
        "# Agent用メソッド：　オーダーを発行すると,処理中オーダーにキューされる\n",
        "session.place_order(\"Buy\", \n",
        "                    100,    #価格\n",
        "                    50,     # サイズ\n",
        "                    1,     # 有効期間\n",
        "                    'test order')\n",
        "session"
      ]
    },
    {
      "cell_type": "code",
      "execution_count": 7,
      "metadata": {
        "id": "D9-Tr7Y04gyz",
        "outputId": "6e9ec33d-d7a6-4d9d-a030-e1cdb25d9cf1",
        "colab": {
          "base_uri": "https://localhost:8080/",
          "height": 438
        }
      },
      "outputs": [
        {
          "output_type": "execute_result",
          "data": {
            "text/plain": [
              "<rbot.Session at 0x7f2c21481bb0>"
            ],
            "text/html": [
              "<table><tbody><tr><td colspan='3', align='left'>市況</td></tr><tr><td></td><td width='120'>内容</td><td>関数</td><td>出力</td></tr><tr><td></td><td>現在時刻</td><td>Session.current_timestamp</td><td>2022-12-19T10:20:20.003494(1671445220003494)</td></tr><tr><td></td><td>最終売Take価格/最終買Make価格</td><td>Session.best_buy_price</td><td>99.9</td></tr><tr><td></td><td>最終買Take価格/最終売Make価格</td><td>Session.best_sell_price</td><td>100.0</td></tr><tr><td colspan='3', align='left'>処理中オーダー</td></tr><tr><td>Long</td><td>買注文数量</td><td>Session.long_order_len</td><td>0</td></tr><tr><td></td><td>買注文一覧</td><td>Session.long_orders</td><td></td></tr><tr><td></td><td colspan='3'>[]</td></tr><tr><td>Short</td><td>売注文数量</td><td>Session.short_order_len</td><td>0</td></tr><tr><td></td><td>売注文一覧</td><td>Session.short_orders</td><td></td></tr><tr><td></td><<td colspan='3'>[]</td></tr><tr><td></td></tr><tr><td colspan='3', align='left'>ポジション</td></tr><tr><td>Long</td><td>平均単価</td><td>session.long_position_price</td><td>0.0</td></tr><tr><td></td><td>サイズ</td><td>session.long_position_size</td><td>0.0</td></tr><tr><td>Short</td><td>平均単価</td><td>session.short_position_price</td><td>0.0</td></tr><tr><td></td><td>サイズ</td><td>session.short_position_size</td><td>0.0</td></tr></tbody></table>"
            ]
          },
          "metadata": {},
          "execution_count": 7
        }
      ],
      "source": [
        "# 有効期間が1秒なので、1秒まってバックテスターが次のTradeを処理するとオーダーはExpireしてしまう（オーダーがセッションから消える）。\n",
        "import time\n",
        "time.sleep(1)\n",
        "session.trade(NOW(), \"Buy\", 100, 1, \"ORDERID-1\")    # BackTester内部処理\n",
        "session"
      ]
    },
    {
      "cell_type": "code",
      "execution_count": 8,
      "metadata": {
        "id": "-RUmkoeS4gyz",
        "outputId": "aa04516b-d7d8-4904-abfe-bd9dc0515b2f",
        "colab": {
          "base_uri": "https://localhost:8080/",
          "height": 438
        }
      },
      "outputs": [
        {
          "output_type": "execute_result",
          "data": {
            "text/plain": [
              "<rbot.Session at 0x7f2c21481bb0>"
            ],
            "text/html": [
              "<table><tbody><tr><td colspan='3', align='left'>市況</td></tr><tr><td></td><td width='120'>内容</td><td>関数</td><td>出力</td></tr><tr><td></td><td>現在時刻</td><td>Session.current_timestamp</td><td>2022-12-19T10:20:20.003494(1671445220003494)</td></tr><tr><td></td><td>最終売Take価格/最終買Make価格</td><td>Session.best_buy_price</td><td>99.9</td></tr><tr><td></td><td>最終買Take価格/最終売Make価格</td><td>Session.best_sell_price</td><td>100.0</td></tr><tr><td colspan='3', align='left'>処理中オーダー</td></tr><tr><td>Long</td><td>買注文数量</td><td>Session.long_order_len</td><td>1</td></tr><tr><td></td><td>買注文一覧</td><td>Session.long_orders</td><td></td></tr><tr><td></td><td colspan='3'>[{order_index:0, create_time:1671445220003494, order_id:0000-0002, order_side:Buy, post_only:true, valid_until:1671448820003494, price:100, size:50, message:test order, remain_size:50, size_in_price_currency: false}]</td></tr><tr><td>Short</td><td>売注文数量</td><td>Session.short_order_len</td><td>0</td></tr><tr><td></td><td>売注文一覧</td><td>Session.short_orders</td><td></td></tr><tr><td></td><<td colspan='3'>[]</td></tr><tr><td></td></tr><tr><td colspan='3', align='left'>ポジション</td></tr><tr><td>Long</td><td>平均単価</td><td>session.long_position_price</td><td>0.0</td></tr><tr><td></td><td>サイズ</td><td>session.long_position_size</td><td>0.0</td></tr><tr><td>Short</td><td>平均単価</td><td>session.short_position_price</td><td>0.0</td></tr><tr><td></td><td>サイズ</td><td>session.short_position_size</td><td>0.0</td></tr></tbody></table>"
            ]
          },
          "metadata": {},
          "execution_count": 8
        }
      ],
      "source": [
        "# Agent用メソッド：　今度は有効期間のながいオーダーを出す。\n",
        "session.place_order(\"Buy\", \n",
        "                    100,    #価格\n",
        "                    50,      # サイズ\n",
        "                    60*60,     # 有効期間(1時間)\n",
        "                    'test order')\n",
        "session"
      ]
    },
    {
      "cell_type": "code",
      "execution_count": 9,
      "metadata": {
        "id": "UqPU36Md4gyz",
        "outputId": "a8149c29-1640-452e-8236-2155074e2b53",
        "colab": {
          "base_uri": "https://localhost:8080/",
          "height": 438
        }
      },
      "outputs": [
        {
          "output_type": "execute_result",
          "data": {
            "text/plain": [
              "<rbot.Session at 0x7f2c21481bb0>"
            ],
            "text/html": [
              "<table><tbody><tr><td colspan='3', align='left'>市況</td></tr><tr><td></td><td width='120'>内容</td><td>関数</td><td>出力</td></tr><tr><td></td><td>現在時刻</td><td>Session.current_timestamp</td><td>2022-12-19T10:20:34.694755(1671445234694755)</td></tr><tr><td></td><td>最終売Take価格/最終買Make価格</td><td>Session.best_buy_price</td><td>101.0</td></tr><tr><td></td><td>最終買Take価格/最終売Make価格</td><td>Session.best_sell_price</td><td>101.0</td></tr><tr><td colspan='3', align='left'>処理中オーダー</td></tr><tr><td>Long</td><td>買注文数量</td><td>Session.long_order_len</td><td>1</td></tr><tr><td></td><td>買注文一覧</td><td>Session.long_orders</td><td></td></tr><tr><td></td><td colspan='3'>[{order_index:0, create_time:1671445220003494, order_id:0000-0002, order_side:Buy, post_only:true, valid_until:1671448820003494, price:100, size:50, message:test order, remain_size:50, size_in_price_currency: false}]</td></tr><tr><td>Short</td><td>売注文数量</td><td>Session.short_order_len</td><td>0</td></tr><tr><td></td><td>売注文一覧</td><td>Session.short_orders</td><td></td></tr><tr><td></td><<td colspan='3'>[]</td></tr><tr><td></td></tr><tr><td colspan='3', align='left'>ポジション</td></tr><tr><td>Long</td><td>平均単価</td><td>session.long_position_price</td><td>0.0</td></tr><tr><td></td><td>サイズ</td><td>session.long_position_size</td><td>0.0</td></tr><tr><td>Short</td><td>平均単価</td><td>session.short_position_price</td><td>0.0</td></tr><tr><td></td><td>サイズ</td><td>session.short_position_size</td><td>0.0</td></tr></tbody></table>"
            ]
          },
          "metadata": {},
          "execution_count": 9
        }
      ],
      "source": [
        "# 買オーダー(100)よりも高い売り(101.0)がおこなわれてもオーダーには影響がない。\n",
        "session.trade(NOW(), \"Sell\", 101.0, 1, \"ORDERID-2\")  # Back Tester内部処理\n",
        "session"
      ]
    },
    {
      "cell_type": "code",
      "execution_count": 10,
      "metadata": {
        "id": "hThn668d4gy0",
        "outputId": "9f4b090f-9323-4a03-fd73-400fb86715e6",
        "colab": {
          "base_uri": "https://localhost:8080/",
          "height": 438
        }
      },
      "outputs": [
        {
          "output_type": "execute_result",
          "data": {
            "text/plain": [
              "<rbot.Session at 0x7f2c21481bb0>"
            ],
            "text/html": [
              "<table><tbody><tr><td colspan='3', align='left'>市況</td></tr><tr><td></td><td width='120'>内容</td><td>関数</td><td>出力</td></tr><tr><td></td><td>現在時刻</td><td>Session.current_timestamp</td><td>2022-12-19T10:20:40.081810(1671445240081810)</td></tr><tr><td></td><td>最終売Take価格/最終買Make価格</td><td>Session.best_buy_price</td><td>100.0</td></tr><tr><td></td><td>最終買Take価格/最終売Make価格</td><td>Session.best_sell_price</td><td>101.0</td></tr><tr><td colspan='3', align='left'>処理中オーダー</td></tr><tr><td>Long</td><td>買注文数量</td><td>Session.long_order_len</td><td>1</td></tr><tr><td></td><td>買注文一覧</td><td>Session.long_orders</td><td></td></tr><tr><td></td><td colspan='3'>[{order_index:0, create_time:1671445220003494, order_id:0000-0002, order_side:Buy, post_only:true, valid_until:1671448820003494, price:100, size:50, message:test order, remain_size:50, size_in_price_currency: false}]</td></tr><tr><td>Short</td><td>売注文数量</td><td>Session.short_order_len</td><td>0</td></tr><tr><td></td><td>売注文一覧</td><td>Session.short_orders</td><td></td></tr><tr><td></td><<td colspan='3'>[]</td></tr><tr><td></td></tr><tr><td colspan='3', align='left'>ポジション</td></tr><tr><td>Long</td><td>平均単価</td><td>session.long_position_price</td><td>0.0</td></tr><tr><td></td><td>サイズ</td><td>session.long_position_size</td><td>0.0</td></tr><tr><td>Short</td><td>平均単価</td><td>session.short_position_price</td><td>0.0</td></tr><tr><td></td><td>サイズ</td><td>session.short_position_size</td><td>0.0</td></tr></tbody></table>"
            ]
          },
          "metadata": {},
          "execution_count": 10
        }
      ],
      "source": [
        "# 買オーダー（１００）と同じ価格の売りがおこなわれているときも影響がない\n",
        "# 本来は時間が経って板の最後までまわってきたら約定するが、辛めに判定\n",
        "session.trade(NOW(), \"Sell\", 100.0, 1, \"ORDERID-2\")  # Back Tester内部処理\n",
        "session"
      ]
    },
    {
      "cell_type": "code",
      "execution_count": 11,
      "metadata": {
        "id": "8rMAUchJ4gy0",
        "outputId": "c006e33e-67e3-48f9-ea1c-179d9f0d164b",
        "colab": {
          "base_uri": "https://localhost:8080/",
          "height": 438
        }
      },
      "outputs": [
        {
          "output_type": "execute_result",
          "data": {
            "text/plain": [
              "<rbot.Session at 0x7f2c21481bb0>"
            ],
            "text/html": [
              "<table><tbody><tr><td colspan='3', align='left'>市況</td></tr><tr><td></td><td width='120'>内容</td><td>関数</td><td>出力</td></tr><tr><td></td><td>現在時刻</td><td>Session.current_timestamp</td><td>2022-12-19T10:20:47.239153(1671445247239153)</td></tr><tr><td></td><td>最終売Take価格/最終買Make価格</td><td>Session.best_buy_price</td><td>99.9</td></tr><tr><td></td><td>最終買Take価格/最終売Make価格</td><td>Session.best_sell_price</td><td>101.0</td></tr><tr><td colspan='3', align='left'>処理中オーダー</td></tr><tr><td>Long</td><td>買注文数量</td><td>Session.long_order_len</td><td>1</td></tr><tr><td></td><td>買注文一覧</td><td>Session.long_orders</td><td></td></tr><tr><td></td><td colspan='3'>[{order_index:0, create_time:1671445220003494, order_id:0000-0002, order_side:Buy, post_only:true, valid_until:1671448820003494, price:100, size:50, message:test order, remain_size:49, size_in_price_currency: false}]</td></tr><tr><td>Short</td><td>売注文数量</td><td>Session.short_order_len</td><td>0</td></tr><tr><td></td><td>売注文一覧</td><td>Session.short_orders</td><td></td></tr><tr><td></td><<td colspan='3'>[]</td></tr><tr><td></td></tr><tr><td colspan='3', align='left'>ポジション</td></tr><tr><td>Long</td><td>平均単価</td><td>session.long_position_price</td><td>0.0</td></tr><tr><td></td><td>サイズ</td><td>session.long_position_size</td><td>0.0</td></tr><tr><td>Short</td><td>平均単価</td><td>session.short_position_price</td><td>0.0</td></tr><tr><td></td><td>サイズ</td><td>session.short_position_size</td><td>0.0</td></tr></tbody></table>"
            ]
          },
          "metadata": {},
          "execution_count": 11
        }
      ],
      "source": [
        "# 買オーダー(100)よりも低い価格の売りがでてきたら、部分約定する（今回の例では、サイズ１が約定して49が残っている）\n",
        "# ただし約定ログは分割せずremain_sizeをへらして全部約定のときにログを出す（あとで、まとめて約定したことにする）\n",
        "session.trade(NOW(), \"Sell\", 99.9, 1, \"ORDERID-2\")  # Back Tester内部処理\n",
        "session"
      ]
    },
    {
      "cell_type": "code",
      "execution_count": 12,
      "metadata": {
        "id": "w-PyEtbb4gy0",
        "outputId": "bb3dd399-0b87-48db-b328-af09c2ba0aed",
        "colab": {
          "base_uri": "https://localhost:8080/",
          "height": 438
        }
      },
      "outputs": [
        {
          "output_type": "execute_result",
          "data": {
            "text/plain": [
              "<rbot.Session at 0x7f2c21481bb0>"
            ],
            "text/html": [
              "<table><tbody><tr><td colspan='3', align='left'>市況</td></tr><tr><td></td><td width='120'>内容</td><td>関数</td><td>出力</td></tr><tr><td></td><td>現在時刻</td><td>Session.current_timestamp</td><td>2022-12-19T10:20:58.526492(1671445258526492)</td></tr><tr><td></td><td>最終売Take価格/最終買Make価格</td><td>Session.best_buy_price</td><td>99.9</td></tr><tr><td></td><td>最終買Take価格/最終売Make価格</td><td>Session.best_sell_price</td><td>101.0</td></tr><tr><td colspan='3', align='left'>処理中オーダー</td></tr><tr><td>Long</td><td>買注文数量</td><td>Session.long_order_len</td><td>0</td></tr><tr><td></td><td>買注文一覧</td><td>Session.long_orders</td><td></td></tr><tr><td></td><td colspan='3'>[]</td></tr><tr><td>Short</td><td>売注文数量</td><td>Session.short_order_len</td><td>0</td></tr><tr><td></td><td>売注文一覧</td><td>Session.short_orders</td><td></td></tr><tr><td></td><<td colspan='3'>[]</td></tr><tr><td></td></tr><tr><td colspan='3', align='left'>ポジション</td></tr><tr><td>Long</td><td>平均単価</td><td>session.long_position_price</td><td>100.0</td></tr><tr><td></td><td>サイズ</td><td>session.long_position_size</td><td>50.0</td></tr><tr><td>Short</td><td>平均単価</td><td>session.short_position_price</td><td>0.0</td></tr><tr><td></td><td>サイズ</td><td>session.short_position_size</td><td>0.0</td></tr></tbody></table>"
            ]
          },
          "metadata": {},
          "execution_count": 12
        }
      ],
      "source": [
        "# のこり49の売りが発生すると全部約定し、オーダーがlongポジションへ移動する。\n",
        "session.trade(NOW(), \"Sell\", 99.9, 49, \"ORDERID-2\")  # Back Tester内部処理\n",
        "session"
      ]
    },
    {
      "cell_type": "code",
      "execution_count": 13,
      "metadata": {
        "id": "nzvV4MZp4gy0",
        "outputId": "65daf480-1e7c-4133-daa7-ee85458ca97d",
        "colab": {
          "base_uri": "https://localhost:8080/",
          "height": 438
        }
      },
      "outputs": [
        {
          "output_type": "execute_result",
          "data": {
            "text/plain": [
              "<rbot.Session at 0x7f2c21481bb0>"
            ],
            "text/html": [
              "<table><tbody><tr><td colspan='3', align='left'>市況</td></tr><tr><td></td><td width='120'>内容</td><td>関数</td><td>出力</td></tr><tr><td></td><td>現在時刻</td><td>Session.current_timestamp</td><td>2022-12-19T10:20:58.526492(1671445258526492)</td></tr><tr><td></td><td>最終売Take価格/最終買Make価格</td><td>Session.best_buy_price</td><td>99.9</td></tr><tr><td></td><td>最終買Take価格/最終売Make価格</td><td>Session.best_sell_price</td><td>101.0</td></tr><tr><td colspan='3', align='left'>処理中オーダー</td></tr><tr><td>Long</td><td>買注文数量</td><td>Session.long_order_len</td><td>0</td></tr><tr><td></td><td>買注文一覧</td><td>Session.long_orders</td><td></td></tr><tr><td></td><td colspan='3'>[]</td></tr><tr><td>Short</td><td>売注文数量</td><td>Session.short_order_len</td><td>1</td></tr><tr><td></td><td>売注文一覧</td><td>Session.short_orders</td><td></td></tr><tr><td></td><<td colspan='3'>[{order_index:0, create_time:1671445258526492, order_id:0000-0003, order_side:Sell, post_only:true, valid_until:1671448858526492, price:100, size:100, message:test order, remain_size:100, size_in_price_currency: false}]</td></tr><tr><td></td></tr><tr><td colspan='3', align='left'>ポジション</td></tr><tr><td>Long</td><td>平均単価</td><td>session.long_position_price</td><td>100.0</td></tr><tr><td></td><td>サイズ</td><td>session.long_position_size</td><td>50.0</td></tr><tr><td>Short</td><td>平均単価</td><td>session.short_position_price</td><td>0.0</td></tr><tr><td></td><td>サイズ</td><td>session.short_position_size</td><td>0.0</td></tr></tbody></table>"
            ]
          },
          "metadata": {},
          "execution_count": 13
        }
      ],
      "source": [
        "# Agent用メソッド：　ここでドテンオーダーを出すと売りのオーダーにキューされる。\n",
        "session.place_order(\"Sell\", \n",
        "                    100,    #価格\n",
        "                    100,      # サイズ\n",
        "                    60*60,     # 有効期間(1時間)\n",
        "                    'test order')\n",
        "session"
      ]
    },
    {
      "cell_type": "code",
      "execution_count": 14,
      "metadata": {
        "id": "YMEuNTgC4gy0",
        "outputId": "0b3bcb3e-fbaf-458e-86df-bbdb67de2a13",
        "colab": {
          "base_uri": "https://localhost:8080/",
          "height": 438
        }
      },
      "outputs": [
        {
          "output_type": "execute_result",
          "data": {
            "text/plain": [
              "<rbot.Session at 0x7f2c21481bb0>"
            ],
            "text/html": [
              "<table><tbody><tr><td colspan='3', align='left'>市況</td></tr><tr><td></td><td width='120'>内容</td><td>関数</td><td>出力</td></tr><tr><td></td><td>現在時刻</td><td>Session.current_timestamp</td><td>2022-12-19T10:21:13.580927(1671445273580927)</td></tr><tr><td></td><td>最終売Take価格/最終買Make価格</td><td>Session.best_buy_price</td><td>99.9</td></tr><tr><td></td><td>最終買Take価格/最終売Make価格</td><td>Session.best_sell_price</td><td>100.1</td></tr><tr><td colspan='3', align='left'>処理中オーダー</td></tr><tr><td>Long</td><td>買注文数量</td><td>Session.long_order_len</td><td>0</td></tr><tr><td></td><td>買注文一覧</td><td>Session.long_orders</td><td></td></tr><tr><td></td><td colspan='3'>[]</td></tr><tr><td>Short</td><td>売注文数量</td><td>Session.short_order_len</td><td>0</td></tr><tr><td></td><td>売注文一覧</td><td>Session.short_orders</td><td></td></tr><tr><td></td><<td colspan='3'>[]</td></tr><tr><td></td></tr><tr><td colspan='3', align='left'>ポジション</td></tr><tr><td>Long</td><td>平均単価</td><td>session.long_position_price</td><td>0.0</td></tr><tr><td></td><td>サイズ</td><td>session.long_position_size</td><td>0.0</td></tr><tr><td>Short</td><td>平均単価</td><td>session.short_position_price</td><td>100.0</td></tr><tr><td></td><td>サイズ</td><td>session.short_position_size</td><td>50.0</td></tr></tbody></table>"
            ]
          },
          "metadata": {},
          "execution_count": 14
        }
      ],
      "source": [
        "# 全部を約定するようなログがきたら、ロングポジション５０が精算されると同時に分割されてあらたに５０のショートポジションが積まれる。\n",
        "session.trade(NOW(), \"Buy\", 100.1, 100, \"ORDERID-2\")  # Back Tester内部処理\n",
        "session"
      ]
    },
    {
      "cell_type": "markdown",
      "metadata": {
        "id": "5MZtR5kh4gy0"
      },
      "source": [
        "# まとめ\n",
        "\n",
        "以上のような動きを約定ログ全部なめてバックテストを行なっています。\n",
        "\n",
        "（ここまで細かくやる必要が果たしてあったのかは、これからのBot開発でわかるようになるはず）"
      ]
    },
    {
      "cell_type": "code",
      "source": [],
      "metadata": {
        "id": "I9X67h8K5ujT"
      },
      "execution_count": null,
      "outputs": []
    }
  ],
  "metadata": {
    "kernelspec": {
      "display_name": "Python 3",
      "language": "python",
      "name": "python3"
    },
    "language_info": {
      "codemirror_mode": {
        "name": "ipython",
        "version": 3
      },
      "file_extension": ".py",
      "mimetype": "text/x-python",
      "name": "python",
      "nbconvert_exporter": "python",
      "pygments_lexer": "ipython3",
      "version": "3.10.6 (main, Aug 30 2022, 04:58:14) [Clang 13.1.6 (clang-1316.0.21.2.5)]"
    },
    "vscode": {
      "interpreter": {
        "hash": "eda7e54fe21129b67f77862937907ee926f057597a3e2fa1e18ac955e40912b3"
      }
    },
    "colab": {
      "provenance": []
    }
  },
  "nbformat": 4,
  "nbformat_minor": 0
}