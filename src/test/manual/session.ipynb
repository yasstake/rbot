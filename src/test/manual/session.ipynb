{
 "cells": [
  {
   "cell_type": "markdown",
   "metadata": {
    "id": "2GXyvxWa4szl"
   },
   "source": [
    "<a target=\"_blank\" href=\"https://colab.research.google.com/github/yasstake/rusty-bot/blob/main/manual/session.ipynb\">\n",
    "  <img src=\"https://colab.research.google.com/assets/colab-badge.svg\" alt=\"Open In Colab\"/>\n",
    "</a>"
   ]
  },
  {
   "cell_type": "markdown",
   "metadata": {
    "id": "BGZB9UiH4gyn"
   },
   "source": [
    "# Sessionクラス解説\n",
    "\n",
    "Session クラスはAgentの各イベント(on_tick, on_clock, on_update)時に引数として送られてきます。\n",
    "\n",
    "内部に現在時刻 `current_timestamp`を保持することによりバックテスト、フォーワードテスト、本番どれであっても同一処理のAgent(BOT)が動作するようになっています。\n",
    "\n",
    "このSessionのインスタンスを利用してAgent内の取引ロジックを開発してください。\n",
    "使えるプロパティ／メソッドについて説明します。\n",
    "\n",
    "このNoteの中では説明のためにSessionオブジェクトのインスタンス化や内部関数も使いますが、\n",
    "ユーザがはSessionオブジェクトを自分で生成することはありません。\n",
    "\n",
    "## プロパティ\n",
    "\n",
    "### 現在時刻を表すプロパティ\n",
    "\n",
    "* `Session.current_timestamp` 現在時刻をUnixtime(us)で保存取得します。\n",
    "\n",
    "### 市況を示すプロパティ\n",
    "\n",
    "\n",
    "### オーダーメソッド\n",
    "\n",
    "\n",
    "### 自分のオーダー／ポジションを表すプロパティ\n",
    "\n",
    "\n"
   ]
  },
  {
   "cell_type": "markdown",
   "metadata": {
    "id": "5sCQJO0e4gyx"
   },
   "source": [
    "## 以下テストを兼ねたSessionオブジェクトの内部動作確認"
   ]
  },
  {
   "cell_type": "markdown",
   "metadata": {
    "id": "fQ_HqmM545vv"
   },
   "source": []
  },
  {
   "cell_type": "code",
   "execution_count": null,
   "metadata": {},
   "outputs": [],
   "source": [
    "from rbot import BinanceMarket\n",
    "from rbot import BinanceConfig\n",
    "from rbot import MarketMessage\n",
    "from rbot import Session\n",
    "from rbot import Trade\n",
    "from rbot import OrderSide\n",
    "from rbot import ExecuteMode\n",
    "from rbot import init_log"
   ]
  },
  {
   "cell_type": "code",
   "execution_count": null,
   "metadata": {},
   "outputs": [],
   "source": [
    "from IPython.display import HTML\n",
    "from json2html import json2html\n",
    "import json"
   ]
  },
  {
   "cell_type": "code",
   "execution_count": null,
   "metadata": {},
   "outputs": [],
   "source": [
    "config = BinanceConfig.TEST_BTCUSDT\n",
    "market = BinanceMarket(config)\n",
    "\n",
    "session = Session(market, execute_mode=ExecuteMode.Dummy, session_name=\"test_session\", log_memory=True)"
   ]
  },
  {
   "cell_type": "code",
   "execution_count": null,
   "metadata": {},
   "outputs": [],
   "source": [
    "HTML(json2html.convert(session.__repr__()))"
   ]
  },
  {
   "cell_type": "code",
   "execution_count": null,
   "metadata": {
    "colab": {
     "base_uri": "https://localhost:8080/",
     "height": 438
    },
    "id": "5nbBv4BL4gyy",
    "outputId": "c4b74aa5-2ca1-477e-abe3-2176bdf9e398"
   },
   "outputs": [],
   "source": [
    "# 内部処理、バックテスト用にログを読み取らせると市況がUpdateされる。\n",
    "from rbot import NOW\n",
    "import rbot\n",
    "\n",
    "trade = MarketMessage.from_trade(Trade(NOW(), OrderSide.Buy, 100, 1, \"OrderId-1\"))\n",
    "session.on_message(trade)\n",
    "\n",
    "HTML(json2html.convert(session.__str__()))\n",
    "    "
   ]
  },
  {
   "cell_type": "code",
   "execution_count": null,
   "metadata": {},
   "outputs": [],
   "source": [
    "session.account"
   ]
  },
  {
   "cell_type": "code",
   "execution_count": null,
   "metadata": {},
   "outputs": [],
   "source": [
    "session.on_message(MarketMessage.from_trade(Trade(NOW(), OrderSide.Sell, 99, 1, \"OrderId-2\")))\n",
    "\n",
    "HTML(json2html.convert(session.__str__()))"
   ]
  },
  {
   "cell_type": "code",
   "execution_count": null,
   "metadata": {
    "colab": {
     "base_uri": "https://localhost:8080/",
     "height": 438
    },
    "id": "alZxinzv4gyz",
    "outputId": "98d4596a-81b2-415d-df15-6f5d2c0f0041"
   },
   "outputs": [],
   "source": [
    "# Agent用メソッド：　オーダーを発行すると,処理中オーダーにキュー(dummy_q)される\n",
    "session.limit_order(\"Buy\", \n",
    "                    100,    #価格\n",
    "                    50,     # サイズ\n",
    ")\n",
    "\n",
    "HTML(json2html.convert(session.__str__()))"
   ]
  },
  {
   "cell_type": "code",
   "execution_count": null,
   "metadata": {},
   "outputs": [],
   "source": [
    "session.dummy_q"
   ]
  },
  {
   "cell_type": "code",
   "execution_count": null,
   "metadata": {},
   "outputs": [],
   "source": [
    "session.log_df"
   ]
  },
  {
   "cell_type": "code",
   "execution_count": null,
   "metadata": {
    "colab": {
     "base_uri": "https://localhost:8080/",
     "height": 438
    },
    "id": "UqPU36Md4gyz",
    "outputId": "a8149c29-1640-452e-8236-2155074e2b53"
   },
   "outputs": [],
   "source": [
    "# あたらしいメッセージがやってくるとQにあったオーダーが処理される。\n",
    "# 買オーダー(100)よりも高い売り(101.0)がおこなわれてもオーダーには影響がない。\n",
    "session.on_message(MarketMessage.from_trade(Trade(NOW(), OrderSide.Sell, 101, 50, \"OrderId-2\")))\n",
    "HTML(json2html.convert(session.__str__()))"
   ]
  },
  {
   "cell_type": "code",
   "execution_count": null,
   "metadata": {},
   "outputs": [],
   "source": [
    "session.dummy_q"
   ]
  },
  {
   "cell_type": "code",
   "execution_count": null,
   "metadata": {},
   "outputs": [],
   "source": [
    "session.log_df"
   ]
  },
  {
   "cell_type": "code",
   "execution_count": null,
   "metadata": {
    "colab": {
     "base_uri": "https://localhost:8080/",
     "height": 438
    },
    "id": "hThn668d4gy0",
    "outputId": "9f4b090f-9323-4a03-fd73-400fb86715e6"
   },
   "outputs": [],
   "source": [
    "# 買オーダー（１００）と同じ価格の売りがおこなわれているときも影響がない\n",
    "# 本来は時間が経って板の最後までまわってきたら約定するが、辛めに判定\n",
    "session.on_message(MarketMessage.from_trade(Trade(NOW(), OrderSide.Sell, 100.0, 50, \"OrderId-3\")))\n",
    "HTML(json2html.convert(session.__str__()))"
   ]
  },
  {
   "cell_type": "code",
   "execution_count": null,
   "metadata": {
    "colab": {
     "base_uri": "https://localhost:8080/",
     "height": 438
    },
    "id": "8rMAUchJ4gy0",
    "outputId": "c006e33e-67e3-48f9-ea1c-179d9f0d164b"
   },
   "outputs": [],
   "source": [
    "# 買オーダー(100)よりも低い価格の売りがでてきたら、部分約定する（今回の例では、サイズ１が約定して49が残っている）\n",
    "# ただし約定ログは分割せずremain_sizeをへらして全部約定のときにログを出す（あとで、まとめて約定したことにする）\n",
    "session.on_message(MarketMessage.from_trade(Trade(NOW(), OrderSide.Sell, 99.9, 1, \"OrderId-4\")))\n",
    "HTML(json2html.convert(session.__str__()))\n",
    "\n",
    "# TODO: アカウント情報のUpdate"
   ]
  },
  {
   "cell_type": "code",
   "execution_count": null,
   "metadata": {},
   "outputs": [],
   "source": [
    "session.log_df"
   ]
  },
  {
   "cell_type": "code",
   "execution_count": null,
   "metadata": {
    "colab": {
     "base_uri": "https://localhost:8080/",
     "height": 438
    },
    "id": "w-PyEtbb4gy0",
    "outputId": "bb3dd399-0b87-48db-b328-af09c2ba0aed"
   },
   "outputs": [],
   "source": [
    "# のこり49の売りが発生すると全部約定する（注残リストからはなくなる）\n",
    "session.on_message(MarketMessage.from_trade(Trade(NOW(), OrderSide.Sell, 99.9, 49, \"OrderId-5\")))\n",
    "HTML(json2html.convert(session.__str__()))"
   ]
  },
  {
   "cell_type": "code",
   "execution_count": null,
   "metadata": {},
   "outputs": [],
   "source": [
    "session.log_df"
   ]
  },
  {
   "cell_type": "markdown",
   "metadata": {
    "id": "5MZtR5kh4gy0"
   },
   "source": [
    "# まとめ\n",
    "\n",
    "以上のような動きを約定ログ全部なめてバックテストを行なっています。\n",
    "\n",
    "（ここまで細かくやる必要が果たしてあったのかは、これからのBot開発でわかるようになるはず）"
   ]
  },
  {
   "cell_type": "code",
   "execution_count": null,
   "metadata": {
    "id": "I9X67h8K5ujT"
   },
   "outputs": [],
   "source": []
  }
 ],
 "metadata": {
  "colab": {
   "provenance": []
  },
  "kernelspec": {
   "display_name": "Python 3",
   "language": "python",
   "name": "python3"
  },
  "language_info": {
   "codemirror_mode": {
    "name": "ipython",
    "version": 3
   },
   "file_extension": ".py",
   "mimetype": "text/x-python",
   "name": "python",
   "nbconvert_exporter": "python",
   "pygments_lexer": "ipython3",
   "version": "3.11.6"
  },
  "vscode": {
   "interpreter": {
    "hash": "eda7e54fe21129b67f77862937907ee926f057597a3e2fa1e18ac955e40912b3"
   }
  }
 },
 "nbformat": 4,
 "nbformat_minor": 0
}
