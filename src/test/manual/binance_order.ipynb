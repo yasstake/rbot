{
 "cells": [
  {
   "cell_type": "markdown",
   "metadata": {},
   "source": [
    "# Binance用オーダー発行API\n",
    "\n",
    "`BinanceMarket`は、通過ペアー毎に以下の機能を提供します。\n",
    "\n",
    "* 蓄積用データベースの生成（Sqlite)\n",
    "* 約定データのダウンロードと更新\n",
    "  * 過去データのダウンロード(Binance Webサイト)\n",
    "  * リアルタイム更新(WebSocket)\n",
    "* 約定データのDBからの取得と足の作成\n",
    "  * 任意の期間の足の作成(`ohlcv`メソッド)\n",
    "  * VAP(Value At Price)の計算(`vap`メソッド)\n",
    "* オーダーの発行・キャンセル（REST API)　KEYとSECRETの設定が必要です。\n",
    "\n",
    "また通過ペアーの設定は`BinanceConfig`クラスに定義してあります。パラーメータを修正することで任意の通過ペアーに対応可能ですが、テスト完了して提供しているものは以下になります。\n",
    "* `BinanceConfig.BTCUSDT` 本番用BTCUSDTペアー（現物）\n",
    "* `BinanceConfig.TEST_BTCUSDT`　テストネット用BTCUSDTペアー（現物）\n",
    "\n",
    "## 本サンプルの機能\n",
    "\n",
    "本サンプルでは以下を行います。\n",
    "\n",
    "* オーダーの発行(Limit, Market)\n",
    "* オーダーの検索\n",
    "* オーダーのキャンセル\n",
    "* 資産残高の確認\n",
    "\n",
    "### 利用している関数\n",
    "* オーダー発行\n",
    "  * `limit_order(side, price, size)` リミットオーダーの発行\n",
    "  * `market_order(side, size)`　マーケットオーダーの発行\n",
    "* オーダー状況確認\n",
    "  * `order_status`　オーダーステータスの確認（約定済みも含めた直近のもの）\n",
    "  * `open_orders`　未約定一覧\n",
    "* オーダーキャンセル\n",
    "  * `cancel_order(order_id)`　指定したIDのオーダキャンセル\n",
    "  * `cancel_all_orders()`　未約定のオーダーのキャンセル\n",
    "* アカウント情報\n",
    "  * `account`　アカウント情報（残高など）\n",
    "\n",
    "## API KEYについて（注：まずはテストネットで試してください）\n",
    "動作させるためにはAPI KEYが必要です。\n",
    "ローカル環境では、以下の値を環境変数に指定してください。\n",
    "* BINANCE_API_KEY   APIキー\n",
    "* BINANCE_API_SERECT  シークレット\n",
    "\n",
    "Google Clabでは、userdataに設定してください（Colabのページの左側ツールバーにある🔑マークをクリック）。"
   ]
  },
  {
   "cell_type": "markdown",
   "metadata": {},
   "source": [
    "## 必要ライブラリのインストール\n",
    "\n",
    "`rbot`がBotFrameWorkの本体です。必要なライブラリを合わせてインストールします。２回目は実行不要です。"
   ]
  },
  {
   "cell_type": "code",
   "execution_count": null,
   "metadata": {},
   "outputs": [],
   "source": [
    "# 必要ライブラリのインストール\n",
    "! pip install --upgrade pip\n",
    "\n",
    "# rbotがbot frameworkになります。PyPiに登録されているので、pipでインストールできます。\n",
    "# まだ開発初期段階なので、インターフェースが変わる可能性があります。そのためバージョン指定しています。\n",
    "#! pip install --upgrade rbot==0.2.4\n"
   ]
  },
  {
   "cell_type": "code",
   "execution_count": null,
   "metadata": {},
   "outputs": [],
   "source": [
    "# 必要ライブラリのインストール。環境によっては要・不要があるので適宜修正してください。\n",
    "! pip install json2html"
   ]
  },
  {
   "cell_type": "markdown",
   "metadata": {},
   "source": [
    "## Python コード本体\n",
    "\n",
    "### 必要ライブラリのインポート"
   ]
  },
  {
   "cell_type": "code",
   "execution_count": null,
   "metadata": {},
   "outputs": [],
   "source": [
    "import rbot\n",
    "# BinanceMarketクラスは、BinanceのAPIを利用して、取引所の情報を取得するクラス\n",
    "from rbot import BinanceMarket\n",
    "\n",
    "# BinanceConfigクラスは、BinanceMarketクラスのコンストラクタに渡す設定クラス\n",
    "from rbot import BinanceConfig\n",
    "\n",
    "from rbot import init_log, init_debug_log\n",
    "#init_debug_log()\n",
    "\n",
    "print(\"rbot version =\", rbot.__version__)"
   ]
  },
  {
   "cell_type": "code",
   "execution_count": null,
   "metadata": {},
   "outputs": [],
   "source": [
    "# 必要ライブラリーのインポート\n",
    "from json2html import *\n",
    "from IPython.display import HTML"
   ]
  },
  {
   "cell_type": "markdown",
   "metadata": {},
   "source": [
    "### BinanceMarketオブジェクトの生成\n",
    "\n",
    "引数にBinanceConfigを設定してオブジェクトを生成します。"
   ]
  },
  {
   "cell_type": "code",
   "execution_count": null,
   "metadata": {},
   "outputs": [],
   "source": [
    "# BinanceMarketクラスのインスタンスを生成(テストネットのBTCUSDT現物取引の設定)\n",
    "config = BinanceConfig.TEST_BTCUSDT\n",
    "\n",
    "# Google Colabの場合は、userdataからAPIキーを取得\n",
    "# 通常は、環境変数に設定してください。\n",
    "if 'google.colab' in str(get_ipython()):\n",
    "    from google.colab import userdata\n",
    "    # Google Colabの場合は、APIキーを入力してください。\n",
    "    config.api_key = userdata.get(\"BINANCE_API_KEY\")\n",
    "    config.api_secret = userdata.get(\"BINANCE_API_SECRET\")\n",
    "\n",
    "# json2htmlを利用して、設定情報を表示\n",
    "HTML(json2html.convert(config.__str__()))"
   ]
  },
  {
   "cell_type": "code",
   "execution_count": null,
   "metadata": {},
   "outputs": [],
   "source": [
    "# BinanceMarketクラスのインスタンスを生成(BTCUSDT現物取引の設定)\n",
    "market = BinanceMarket(config)\n",
    "\n",
    "# BinanceMarketのインスタンスを表示すると格納されているデータの情報が表示されます。\n",
    "market"
   ]
  },
  {
   "cell_type": "code",
   "execution_count": null,
   "metadata": {},
   "outputs": [],
   "source": [
    "from time import sleep\n",
    "\n",
    "# WebSocketを利用して、取引所の情報を取得する\n",
    "market.start_market_stream()\n",
    "\n",
    "sleep(1) # データが揃うまで少し待つ"
   ]
  },
  {
   "cell_type": "code",
   "execution_count": null,
   "metadata": {},
   "outputs": [],
   "source": [
    "# 一旦　過去のオーダーを全部キャンセルする\n",
    "market.cancel_all_orders()"
   ]
  },
  {
   "cell_type": "markdown",
   "metadata": {},
   "source": [
    "## オーダー発行テスト\n",
    "\n",
    "### Limit order"
   ]
  },
  {
   "cell_type": "code",
   "execution_count": null,
   "metadata": {},
   "outputs": [],
   "source": [
    "# 現在のアカウント情報を取り出す\n",
    "account = market.account\n",
    "account"
   ]
  },
  {
   "cell_type": "code",
   "execution_count": null,
   "metadata": {},
   "outputs": [],
   "source": [
    "# accountにはすべての通貨の残高が入っているので、BTCとUSDTの残高を表示する\n",
    "print(\"BTC 残高 =\", account['BTC'])\n",
    "print(\"USDT残高 =\", account['USDT'])"
   ]
  },
  {
   "cell_type": "code",
   "execution_count": null,
   "metadata": {},
   "outputs": [],
   "source": [
    "# 現在の板情報を取り出す\n",
    "bids, asks, = market.board\n",
    "\n",
    "bid_edge = bids['price'][0]\n",
    "ask_edge = asks['price'][0]"
   ]
  },
  {
   "cell_type": "code",
   "execution_count": null,
   "metadata": {},
   "outputs": [],
   "source": [
    "# 板より１００ドル安いところへ0.0001BTCの買い注文を出す\n",
    "buy_limit_order = market.limit_order(\"BUY\", bid_edge - 100, 0.001)\n",
    "buy_limit_order"
   ]
  },
  {
   "cell_type": "code",
   "execution_count": null,
   "metadata": {},
   "outputs": [],
   "source": [
    "# 未約定のオーダーを表示する。オーダーが１つ増えているはず。\n",
    "market.open_orders"
   ]
  },
  {
   "cell_type": "code",
   "execution_count": null,
   "metadata": {},
   "outputs": [],
   "source": [
    "# 板より１００ドル高いところへ0.0001BTCの売り注文を出す\n",
    "sell_limit_order = market.limit_order(\"SELL\", ask_edge + 100, 0.001)\n",
    "sell_limit_order"
   ]
  },
  {
   "cell_type": "code",
   "execution_count": null,
   "metadata": {},
   "outputs": [],
   "source": [
    "# 未約定のオーダーを表示する。オーダーが１つ増えているはず（合計２つ）\n",
    "market.open_orders"
   ]
  },
  {
   "cell_type": "code",
   "execution_count": null,
   "metadata": {},
   "outputs": [],
   "source": [
    "# 最新の残高を確認。注文中の資産がLockされているはず。\n",
    "account = market.account\n",
    "print(\"BTC 残高 =\", account['BTC'])\n",
    "print(\"USDT残高 =\", account['USDT'])"
   ]
  },
  {
   "cell_type": "code",
   "execution_count": null,
   "metadata": {},
   "outputs": [],
   "source": [
    "# 売りオーダーをキャンセルする\n",
    "\n",
    "id_to_cancel = buy_limit_order[0].order_id\n",
    "\n",
    "print(\"キャンセルするオーダーID =\", id_to_cancel)\n",
    "\n",
    "market.cancel_order(sell_limit_order[0].order_id)"
   ]
  },
  {
   "cell_type": "code",
   "execution_count": null,
   "metadata": {},
   "outputs": [],
   "source": [
    "# キャンセルしたオーダーがなくなっていることを確認する\n",
    "market.open_orders"
   ]
  },
  {
   "cell_type": "code",
   "execution_count": null,
   "metadata": {},
   "outputs": [],
   "source": [
    "# 最新の残高を確認。キャンセルされた分の資産のLockが解放される。\n",
    "account = market.account\n",
    "print(\"BTC 残高 =\", account['BTC'])\n",
    "print(\"USDT残高 =\", account['USDT'])"
   ]
  },
  {
   "cell_type": "markdown",
   "metadata": {},
   "source": [
    "## Market order"
   ]
  },
  {
   "cell_type": "code",
   "execution_count": null,
   "metadata": {},
   "outputs": [],
   "source": [
    "# market orderを出す\n",
    "\n",
    "market_order = market.market_order(\"BUY\", 0.001)   # 0.001BTCを市場価格で買う\n",
    "market_order"
   ]
  },
  {
   "cell_type": "code",
   "execution_count": null,
   "metadata": {},
   "outputs": [],
   "source": [
    "# 直近のオーダーを表示する。status \"Filled\"のオーダーが１つ追加されているはず。\n",
    "# なお大きなオーダーを出すと複数に分割される場合がある。\n",
    "\n",
    "market.order_status"
   ]
  },
  {
   "cell_type": "code",
   "execution_count": null,
   "metadata": {},
   "outputs": [],
   "source": [
    "# 最新の残高を確認。約定した分だけBTCが増えて、USDTの残高が減っているはず。\n",
    "account = market.account\n",
    "print(\"BTC 残高 =\", account['BTC'])\n",
    "print(\"USDT残高 =\", account['USDT'])"
   ]
  }
 ],
 "metadata": {
  "kernelspec": {
   "display_name": "Python 3",
   "language": "python",
   "name": "python3"
  },
  "language_info": {
   "codemirror_mode": {
    "name": "ipython",
    "version": 3
   },
   "file_extension": ".py",
   "mimetype": "text/x-python",
   "name": "python",
   "nbconvert_exporter": "python",
   "pygments_lexer": "ipython3",
   "version": "3.11.6"
  }
 },
 "nbformat": 4,
 "nbformat_minor": 2
}
