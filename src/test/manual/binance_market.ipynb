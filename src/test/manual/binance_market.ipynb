{
 "cells": [
  {
   "cell_type": "code",
   "execution_count": null,
   "metadata": {},
   "outputs": [],
   "source": [
    "# 必要ライブラリのインストール\n",
    "! pip install --upgrade rbot\n",
    "! pip install json2html\n",
    "! pip install plotly\n",
    "! pip install nbformat"
   ]
  },
  {
   "cell_type": "code",
   "execution_count": null,
   "metadata": {},
   "outputs": [],
   "source": [
    "# 必要ライブラリーのインポート\n",
    "from json2html import *\n",
    "from IPython.display import HTML"
   ]
  },
  {
   "cell_type": "code",
   "execution_count": null,
   "metadata": {},
   "outputs": [],
   "source": [
    "import rbot"
   ]
  },
  {
   "cell_type": "code",
   "execution_count": null,
   "metadata": {},
   "outputs": [],
   "source": [
    "# rbotのBinanceMarketクラスのインポート\n",
    "# BinanceMarketクラスは、BinanceのAPIを利用して、取引所の情報を取得するクラス\n",
    "# BinanceConfigクラスは、BinanceMarketクラスのコンストラクタに渡す設定クラス\n",
    "from rbot import BinanceConfig, BinanceMarket"
   ]
  },
  {
   "cell_type": "code",
   "execution_count": null,
   "metadata": {},
   "outputs": [],
   "source": [
    "# BinanceMarketクラスのインスタンスを生成(BTCUSDT現物取引の設定)\n",
    "config = BinanceConfig.BTCUSDT\n",
    "HTML(json2html.convert(config.__str__()))"
   ]
  },
  {
   "cell_type": "code",
   "execution_count": null,
   "metadata": {},
   "outputs": [],
   "source": [
    "# BinanceMarketクラスのインスタンスを生成(BTCUSDT現物取引の設定)\n",
    "market = BinanceMarket(config)\n",
    "\n",
    "market"
   ]
  },
  {
   "cell_type": "code",
   "execution_count": null,
   "metadata": {},
   "outputs": [],
   "source": [
    "# 過去１日分のデータをダウンロード。ダウンロードしたデータは、marketオブジェクトの属性に格納される。\n",
    "# Trueを指定すると、再ダウンロードを行う。Falseの場合はローカルに保存されている場合は、再ダウンロードを行わない。\n",
    "market.download(1, False)"
   ]
  },
  {
   "cell_type": "code",
   "execution_count": null,
   "metadata": {},
   "outputs": [],
   "source": [
    "# OHLCVを計算する。\n",
    "# start_time: 開始時刻(UNIX時間[us]) 0の場合はDBにある最初のレコードから\n",
    "# end_time: 終了時刻(UNIX時間[us])　 0の場合はDBにある最後のレコードまで\n",
    "# window_sec: OHLCVを計算する時間幅(秒)\n",
    "\n",
    "ohlcv = market.ohlcv(start_time=0, end_time=0, window_sec=60)"
   ]
  },
  {
   "cell_type": "code",
   "execution_count": null,
   "metadata": {},
   "outputs": [],
   "source": [
    "# ohlcvはpolarsのDataFrameオブジェクトとして格納されている。\n",
    "ohlcv"
   ]
  },
  {
   "cell_type": "code",
   "execution_count": null,
   "metadata": {},
   "outputs": [],
   "source": [
    "# OHLCVの表示\n",
    "import plotly.graph_objects as go\n",
    "\n",
    "go.Figure(\n",
    "    data=[\n",
    "        go.Candlestick(\n",
    "            x=ohlcv['time_stamp'],\n",
    "            open=ohlcv['open'],\n",
    "            high=ohlcv['high'],\n",
    "            low=ohlcv['low'],\n",
    "            close=ohlcv['close']\n",
    "        )\n",
    "    ]\n",
    ").show()\n"
   ]
  },
  {
   "cell_type": "code",
   "execution_count": null,
   "metadata": {},
   "outputs": [],
   "source": [
    "# VAP(Volume At Price)を計算する。\n",
    "# from_time: 開始時刻(UNIX時間[us]) 0の場合はDBにある最初のレコードから\n",
    "# 戻り値はprice_unit毎に集計されたVAPのPolars DataFrameオブジェクト\n",
    "vap = market.vap(start_time=0, end_time=0, price_unit=10)\n",
    "\n",
    "vap"
   ]
  },
  {
   "cell_type": "code",
   "execution_count": null,
   "metadata": {},
   "outputs": [],
   "source": [
    "go.Figure(\n",
    "    data=[\n",
    "        go.Scatter(\n",
    "            x=vap['size'],           \n",
    "            y=vap['price']\n",
    "        )\n",
    "    ]\n",
    ").show()"
   ]
  },
  {
   "cell_type": "code",
   "execution_count": null,
   "metadata": {},
   "outputs": [],
   "source": []
  }
 ],
 "metadata": {
  "kernelspec": {
   "display_name": "Python 3",
   "language": "python",
   "name": "python3"
  },
  "language_info": {
   "codemirror_mode": {
    "name": "ipython",
    "version": 3
   },
   "file_extension": ".py",
   "mimetype": "text/x-python",
   "name": "python",
   "nbconvert_exporter": "python",
   "pygments_lexer": "ipython3",
   "version": "3.11.6"
  }
 },
 "nbformat": 4,
 "nbformat_minor": 2
}
