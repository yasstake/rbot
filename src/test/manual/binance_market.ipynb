{
 "cells": [
  {
   "cell_type": "markdown",
   "metadata": {},
   "source": [
    "# Binance用データ蓄積クラスを使ったサンプル\n",
    "\n",
    "`BinanceMarket`は、通過ペアー毎に以下の機能を提供します。\n",
    "\n",
    "* 蓄積用データベースの生成（Sqlite)\n",
    "* 約定データのダウンロードと更新\n",
    "  * 過去データのダウンロード(Binance Webサイト)\n",
    "  * リアルタイム更新(WebSocket)\n",
    "* 約定データのDBからの取得と足の作成\n",
    "  * 任意の期間の足の作成(`ohlcv`メソッド)\n",
    "  * VAP(Value At Price)の計算(`vap`メソッド)\n",
    "* オーダーの発行・キャンセル（REST API)　KEYとSECRETの設定が必要です。\n",
    "\n",
    "また通過ペアーの設定は`BinanceConfig`クラスに定義してあります。パラーメータを修正することで任意の通過ペアーに対応可能ですが、テスト完了して提供しているものは以下になります。\n",
    "* `BinanceConfig.BTCUSDT` 本番用BTCUSDTペアー（現物）\n",
    "* `BinanceConfig.TEST_BTCUSDT`　テストネット用BTCUSDTペアー（現物）\n",
    "\n",
    "## 本サンプルの機能\n",
    "\n",
    "本サンプルでは以下を行います。フレームワークがかなりの部分やってくれるのでシンプルに実行できることがわかると思います。\n",
    "\n",
    "* BTCUSDTペアー現物を扱う\n",
    "* 過去データのダウンロード\n",
    "* OHLCVの作成とPlotlyによる描画\n",
    "* VAP(Value At Price)の作成と描画\n",
    "* WebSocketによるリアルタイムデータの受信（板情報）"
   ]
  },
  {
   "cell_type": "markdown",
   "metadata": {},
   "source": [
    "## 必要ライブラリのインストール\n",
    "\n",
    "`rbot`がBotFrameWorkの本体です。必要なライブラリを合わせてインストールします。２回目は実行不要です。"
   ]
  },
  {
   "cell_type": "code",
   "execution_count": null,
   "metadata": {},
   "outputs": [],
   "source": [
    "# 必要ライブラリのインストール\n",
    "! pip install --upgrade pip\n",
    "\n",
    "# rbotがbot frameworkになります。PyPiに登録されているので、pipでインストールできます。\n",
    "# なお時々Updateするので--upgradeオプションをいれていますが、\n",
    "# まだ初期の段階のため時々インターフェースを修正することがあります。その場合はバージョンを指定してください。\n",
    "#! pip install --upgrade rbot\n"
   ]
  },
  {
   "cell_type": "code",
   "execution_count": null,
   "metadata": {},
   "outputs": [],
   "source": [
    "# 必要ライブラリのインストール。環境によっては要・不要があるので適宜修正してください。\n",
    "! pip install json2html\n",
    "! pip install plotly\n",
    "! pip install nbformat\n",
    "! pip install pandas\n",
    "! pip install polars\n",
    "! pip install pyarrow\n",
    "! pip install jupyterlab-plotly\n",
    "! pip install ipywidgets --upgrade"
   ]
  },
  {
   "cell_type": "markdown",
   "metadata": {},
   "source": [
    "## Python コード本体\n",
    "\n",
    "### 必要ライブラリのインポート"
   ]
  },
  {
   "cell_type": "code",
   "execution_count": null,
   "metadata": {},
   "outputs": [],
   "source": [
    "# BinanceMarketクラスは、BinanceのAPIを利用して、取引所の情報を取得するクラス\n",
    "from rbot import BinanceMarket\n",
    "\n",
    "# BinanceConfigクラスは、BinanceMarketクラスのコンストラクタに渡す設定クラス\n",
    "from rbot import BinanceConfig\n",
    "\n",
    "from rbot import init_log\n",
    "#init_log()\n"
   ]
  },
  {
   "cell_type": "code",
   "execution_count": null,
   "metadata": {},
   "outputs": [],
   "source": [
    "# 必要ライブラリーのインポート\n",
    "from json2html import *\n",
    "from IPython.display import HTML"
   ]
  },
  {
   "cell_type": "markdown",
   "metadata": {},
   "source": [
    "### BinanceMarketオブジェクトの生成\n",
    "\n",
    "引数にBinanceConfigを設定してオブジェクトを生成します。"
   ]
  },
  {
   "cell_type": "code",
   "execution_count": null,
   "metadata": {},
   "outputs": [],
   "source": [
    "# BinanceMarketクラスのインスタンスを生成(BTCUSDT現物取引の設定)\n",
    "config = BinanceConfig.BTCUSDT\n",
    "\n",
    "# json2htmlを利用して、設定情報を表示\n",
    "HTML(json2html.convert(config.__str__()))"
   ]
  },
  {
   "cell_type": "code",
   "execution_count": null,
   "metadata": {},
   "outputs": [],
   "source": [
    "# BinanceMarketクラスのインスタンスを生成(BTCUSDT現物取引の設定)\n",
    "market = BinanceMarket(config)\n",
    "\n",
    "# BinanceMarketのインスタンスを表示すると格納されているデータの情報が表示されます。\n",
    "market"
   ]
  },
  {
   "cell_type": "code",
   "execution_count": null,
   "metadata": {},
   "outputs": [],
   "source": [
    "# 過去１日分のデータをダウンロード。ダウンロードしたデータは、marketオブジェクトの属性に格納される。\n",
    "# Trueを指定すると、再ダウンロードを行う。Falseの場合はローカルに保存されている場合は、再ダウンロードを行わない。\n",
    "# 比較的時間がかかる処理です。終わるまで少々お待ちください。完了する取り込まれたレコード数が表示されます。\n",
    "market.download(1, False)"
   ]
  },
  {
   "cell_type": "markdown",
   "metadata": {},
   "source": [
    "### OHLCVの計算\n",
    "\n",
    "BinanceMarketオブジェクトのohlcvメソッドを使うと任意の時間足でローソク足をつくることができます。戻り値はPolarsのDataFrame型です。\n",
    "\n",
    "#### `ohlcv`メソッド\n",
    "\n",
    "```\n",
    "BinanceMarket#ohlcv(\n",
    "    start_time=0, # 開始時刻(UNIX時間[us]) 0の場合はDBにある最初のレコードから\n",
    "    end_time=0, # 終了時刻(UNIX時間[us])　 0の場合はDBにある最後のレコードまで\n",
    "    window_sec=60 #OHLCV足の時間幅(秒)\n",
    ")\n",
    "```\n"
   ]
  },
  {
   "cell_type": "code",
   "execution_count": null,
   "metadata": {},
   "outputs": [],
   "source": [
    "# データベースすべての期間,１分足でOHLCVを計算する。\n",
    "ohlcv = market.ohlcv(start_time=0, end_time=0, window_sec=60)"
   ]
  },
  {
   "cell_type": "code",
   "execution_count": null,
   "metadata": {},
   "outputs": [],
   "source": [
    "# ohlcvはpolarsのDataFrameオブジェクトとして格納されている。\n",
    "ohlcv.head()"
   ]
  },
  {
   "cell_type": "markdown",
   "metadata": {},
   "source": [
    "### (参考)Pandasへの変換\n",
    "\n",
    "Polarsの情報はまだ不足気味。また他のライブラリとの互換性の問題でPandasを使いたい場合は、Polarsのデータフレームオブジェクトの`to_pandas`メソッドで簡単にPandasへ変換することができます。このとき`use_pyarrow_extension_array`を`True`に指定するとデータのコピーが発生せず高速です。"
   ]
  },
  {
   "cell_type": "code",
   "execution_count": null,
   "metadata": {},
   "outputs": [],
   "source": [
    "# polarsからpandasへ変換する。\n",
    "pd_ohlcv = ohlcv.to_pandas(use_pyarrow_extension_array=True)"
   ]
  },
  {
   "cell_type": "code",
   "execution_count": null,
   "metadata": {},
   "outputs": [],
   "source": [
    "pd_ohlcv.head()"
   ]
  },
  {
   "cell_type": "markdown",
   "metadata": {},
   "source": [
    "## Plotlyでローソク足を表示する。\n",
    "\n",
    "Plotlyを使うと簡単にローソク足を表示できます。polarsのデータそのままで表示可能です。"
   ]
  },
  {
   "cell_type": "code",
   "execution_count": null,
   "metadata": {},
   "outputs": [],
   "source": [
    "# OHLCVの表示\n",
    "import plotly.graph_objects as go\n",
    "from plotly.subplots import make_subplots\n",
    "\n",
    "fig = make_subplots(rows=2, cols=1, shared_xaxes=True, vertical_spacing=0.02, row_width=[0.2, 0.7])\n",
    "\n",
    "fig.add_trace(\n",
    "        go.Candlestick(\n",
    "            x=ohlcv['time_stamp'],\n",
    "            open=ohlcv['open'],\n",
    "            high=ohlcv['high'],\n",
    "            low=ohlcv['low'],\n",
    "            close=ohlcv['close'],\n",
    "            \n",
    "        ), \n",
    "        row=1, col=1\n",
    ")\n",
    "\n",
    "fig.add_trace(\n",
    "        go.Bar(\n",
    "            x=ohlcv['time_stamp'],\n",
    "            y=ohlcv['volume'],\n",
    "        ),\n",
    "        row=2, col=1\n",
    ")\n",
    "\n",
    "#fig.update_layout(layout_xaxis_rangeslider_visible=False)\n",
    "\n",
    "fig\n"
   ]
  },
  {
   "cell_type": "markdown",
   "metadata": {},
   "source": [
    "### VAP(Volume At Price)の計算\n",
    "\n",
    "`BinanceMarket#vap`で指定した期間のVAPを計算します。\n",
    "\n",
    "```\n",
    "BinanceMarket#vap(\n",
    "    start_time = 0, # start_time: 開始時刻(UNIX時間[us]) 0の場合はDBにある最初のレコードから\n",
    "    end_time = 0, # end_time:終了時刻(UNIX時間[us]) 0の場合はDBの最終レコードまで\n",
    "    price_unit = 1 #価格をまとめる単位\n",
    ")\n",
    "```"
   ]
  },
  {
   "cell_type": "code",
   "execution_count": null,
   "metadata": {},
   "outputs": [],
   "source": [
    "vap = market.vap(start_time=0, end_time=0, price_unit=1)"
   ]
  },
  {
   "cell_type": "code",
   "execution_count": null,
   "metadata": {},
   "outputs": [],
   "source": [
    "vap"
   ]
  },
  {
   "cell_type": "code",
   "execution_count": null,
   "metadata": {},
   "outputs": [],
   "source": [
    "fig = go.Figure(\n",
    "    data=[\n",
    "        go.Scatter(\n",
    "            x=vap['sell_volume'],                       \n",
    "            y=vap['price'],\n",
    "            fill='tozerox',            \n",
    "            name='sell'\n",
    "        ),\n",
    "        go.Scatter(\n",
    "            x=vap['sell_volume'] + vap['buy_volume'],                       \n",
    "            y=vap['price'],\n",
    "            fill='tonextx',            \n",
    "            name='buy'\n",
    "        ),\n",
    "    ],\n",
    "    layout=go.Layout(barmode='stack')\n",
    ")\n",
    "\n",
    "fig"
   ]
  },
  {
   "cell_type": "markdown",
   "metadata": {},
   "source": [
    "## WebSocketによるリアルタイム情報取得\n",
    "\n",
    "なお、同時にTick（約定）情報もDBへリアルタイムに更新されていきます。\n",
    "そのため２回目にOHLCV取得すると、リアルタイム分とバッチダウンロード分の間にギャップができます。\n",
    "ここを埋めるAPIもあるのですが、また別途。"
   ]
  },
  {
   "cell_type": "code",
   "execution_count": null,
   "metadata": {},
   "outputs": [],
   "source": [
    "market.start_market_stream()"
   ]
  },
  {
   "cell_type": "code",
   "execution_count": null,
   "metadata": {},
   "outputs": [],
   "source": [
    "\n",
    "from time import sleep\n",
    "import plotly.graph_objects as go\n",
    "\n",
    "def trim(bids, asks):\n",
    "    ask_spred =  asks['price'][-1] - asks['price'][0]\n",
    "    bids_spred = bids['price'][0] - bids['price'][-1]\n",
    "\n",
    "    if ask_spred < bids_spred:\n",
    "        edge = bids['price'][0]\n",
    "        bids = bids.filter(bids['price'] > edge - ask_spred * 3)\n",
    "    else:\n",
    "        edge = asks['price'][0]\n",
    "        asks = asks.filter(asks['price'] < edge + bids_spred * 3)\n",
    "    \n",
    "    return bids, asks\n",
    "\n",
    "fig = go.FigureWidget()\n",
    "\n",
    "bids, asks = market.board\n",
    "bids, asks = trim(bids, asks)\n",
    "\n",
    "fig.add_scatter(\n",
    "    x=bids['price'],\n",
    "    y=bids['cusum'],\n",
    "    name='bids',\n",
    "    marker_color='blue'\n",
    ")\n",
    "\n",
    "fig.add_scatter(\n",
    "    x=asks['price'],\n",
    "    y=asks['cusum'],\n",
    "    name='asks',\n",
    "    marker_color='red'\n",
    ")\n",
    "\n",
    "fig.layout.title = 'Binance BTCUSDT Order Book'\n",
    "fig"
   ]
  },
  {
   "cell_type": "code",
   "execution_count": null,
   "metadata": {},
   "outputs": [],
   "source": [
    "# 0.1秒ごとに板情報を更新する（１００回ループ）\n",
    "\n",
    "for i in range(100):\n",
    "    bids, asks = market.board\n",
    "    bids, asks = trim(bids, asks)\n",
    "    bids_edge = bids['price'][0]\n",
    "    asks_edge = asks['price'][0]\n",
    "    \n",
    "    fig.layout.title = f'Binance BTCUSDT Order Book (bids_edge={bids_edge}, asks_edge={asks_edge})'\n",
    "    \n",
    "    fig.data[0].x = bids['price']\n",
    "    fig.data[0].y = bids['cusum']\n",
    "    fig.data[1].x = asks['price']\n",
    "    fig.data[1].y = asks['cusum']\n",
    "    sleep(0.1)\n",
    "\n",
    "\n",
    "\n",
    "\n"
   ]
  },
  {
   "cell_type": "markdown",
   "metadata": {},
   "source": [
    "# 以後テスト用"
   ]
  },
  {
   "cell_type": "code",
   "execution_count": null,
   "metadata": {},
   "outputs": [],
   "source": [
    "# VAP内の縦横計算の確認\n",
    "\n",
    "vap_sum = vap.sum()\n",
    "\n",
    "print(vap_sum)\n",
    "\n",
    "vap_sell_sum = vap_sum['sell_volume'][0]\n",
    "vap_buy_sum = vap_sum['buy_volume'][0]\n",
    "vap_volume_sum = vap_sum['volume'][0]\n",
    "\n",
    "print('vap_sell_volume: ', vap_sell_sum)\n",
    "print('vap_buy_volume: ', vap_buy_sum)\n",
    "print('vap_volume: ', vap_volume_sum)\n",
    "\n",
    "if vap_sell_sum + vap_buy_sum != vap_volume_sum:\n",
    "    print('error')\n",
    "else:\n",
    "    print('OK')\n"
   ]
  },
  {
   "cell_type": "code",
   "execution_count": null,
   "metadata": {},
   "outputs": [],
   "source": [
    "#　合計値がOHLCVとVAPで一致することを確認する。\n",
    "ohlcvv = market.ohlcvv(start_time=0, end_time=0, window_sec=60)\n",
    "\n",
    "sum = ohlcvv['volume'].sum()\n",
    "\n",
    "sum1 = ohlcv['volume'].sum()\n",
    "sum2 = vap['buy_volume'].sum() + vap['sell_volume'].sum()\n",
    "\n",
    "print(f'OHLCVVの合計値: {sum}')\n",
    "print(f'OHLCVの合計値: {sum1}')\n",
    "print(f'VAPの合計値: {sum2}')\n"
   ]
  },
  {
   "cell_type": "code",
   "execution_count": null,
   "metadata": {},
   "outputs": [],
   "source": []
  }
 ],
 "metadata": {
  "kernelspec": {
   "display_name": "Python 3",
   "language": "python",
   "name": "python3"
  },
  "language_info": {
   "codemirror_mode": {
    "name": "ipython",
    "version": 3
   },
   "file_extension": ".py",
   "mimetype": "text/x-python",
   "name": "python",
   "nbconvert_exporter": "python",
   "pygments_lexer": "ipython3",
   "version": "3.11.6"
  }
 },
 "nbformat": 4,
 "nbformat_minor": 2
}
