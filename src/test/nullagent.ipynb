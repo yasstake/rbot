{
 "cells": [
  {
   "cell_type": "code",
   "execution_count": null,
   "metadata": {},
   "outputs": [],
   "source": [
    "from rbot import Runner\n",
    "from rbot import BinanceConfig\n",
    "from rbot import BinanceMarket\n",
    "from rbot import init_debug_log\n",
    "from rbot import init_log\n",
    "from rbot import time_string\n",
    "from rbot import NOW, DAYS\n",
    "\n",
    "init_log()"
   ]
  },
  {
   "cell_type": "code",
   "execution_count": null,
   "metadata": {},
   "outputs": [],
   "source": [
    "class MyAgent:\n",
    "    def __init__(self):\n",
    "        pass\n",
    "\n",
    "    def on_init(self, session):\n",
    "        session.clock_interval = 60\n",
    "        print(\"init: \", session.timestamp)\n",
    "\n",
    "        pass\n",
    "    \n",
    "    def on_clock(self, session, clock):\n",
    "        bid_edge, ask_edge = session.last_price\n",
    "        print(\"clock: \", time_string(session.timestamp), time_string(clock))\n",
    "        #session.limit_order('Buy', bid_edge, 0.001)\n",
    "        #session.market_order('Buy', 0.001) \n",
    "        if session.psudo_position <= 0:\n",
    "            session.limit_order('Buy', ask_edge, 0.001)       \n",
    "        \n",
    "        pass\n",
    "\n",
    "\n",
    "    def on_tick(self, session, side, price, size):\n",
    "\n",
    "        #print(\"tick: \", time_string(session.current_timestamp), side, price, size)\n",
    "        pass\n",
    "    \n",
    "    def on_update(self, session, updated_order):\n",
    "        print(\"ORDER update: \", updated_order.__str__())\n",
    "        \n",
    "    def on_account_update(self, session, account):\n",
    "        print(\"ACCOUNT update: \", session.timestamp, account, session.psudo_account)\n",
    "        pass"
   ]
  },
  {
   "cell_type": "code",
   "execution_count": null,
   "metadata": {},
   "outputs": [],
   "source": [
    "market = BinanceMarket(BinanceConfig.TEST_BTCUSDT)"
   ]
  },
  {
   "cell_type": "code",
   "execution_count": null,
   "metadata": {},
   "outputs": [],
   "source": [
    "agent = MyAgent()\n",
    "runner = Runner()\n",
    "\n",
    "session = runner.back_test(market, agent, start_time=NOW()-DAYS(1), end_time=0, verbose=True,execute_time=60*100)"
   ]
  },
  {
   "cell_type": "code",
   "execution_count": null,
   "metadata": {},
   "outputs": [],
   "source": [
    "session"
   ]
  },
  {
   "cell_type": "code",
   "execution_count": null,
   "metadata": {},
   "outputs": [],
   "source": [
    "session.log_df"
   ]
  },
  {
   "cell_type": "code",
   "execution_count": null,
   "metadata": {},
   "outputs": [],
   "source": [
    "market.market_order('Buy', 0.001)"
   ]
  },
  {
   "cell_type": "code",
   "execution_count": null,
   "metadata": {},
   "outputs": [],
   "source": [
    "df = session.log_df"
   ]
  },
  {
   "cell_type": "code",
   "execution_count": null,
   "metadata": {},
   "outputs": [],
   "source": [
    "df.sum()"
   ]
  },
  {
   "cell_type": "code",
   "execution_count": null,
   "metadata": {},
   "outputs": [],
   "source": []
  }
 ],
 "metadata": {
  "kernelspec": {
   "display_name": "venv",
   "language": "python",
   "name": "python3"
  },
  "language_info": {
   "codemirror_mode": {
    "name": "ipython",
    "version": 3
   },
   "file_extension": ".py",
   "mimetype": "text/x-python",
   "name": "python",
   "nbconvert_exporter": "python",
   "pygments_lexer": "ipython3",
   "version": "3.11.6"
  }
 },
 "nbformat": 4,
 "nbformat_minor": 2
}
