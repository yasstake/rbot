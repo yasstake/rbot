{
 "cells": [
  {
   "cell_type": "code",
   "execution_count": null,
   "metadata": {},
   "outputs": [],
   "source": []
  },
  {
   "cell_type": "code",
   "execution_count": 1,
   "metadata": {},
   "outputs": [],
   "source": [
    "import numpy as np\n",
    "import pandas\n",
    "import pandas as pd"
   ]
  },
  {
   "cell_type": "code",
   "execution_count": 2,
   "metadata": {},
   "outputs": [],
   "source": [
    "import rbot\n",
    "from rbot import init_log;\n",
    "from rbot import Market\n",
    "from rbot import Session\n",
    "from rbot import BaseAgent\n",
    "from rbot import NOW\n",
    "from rbot import DAYS\n",
    "\n",
    "\n"
   ]
  },
  {
   "cell_type": "code",
   "execution_count": 3,
   "metadata": {},
   "outputs": [
    {
     "name": "stdout",
     "output_type": "stream",
     "text": [
      "2022-11-10T08:55:17.912Z DEBUG [rbot::db::df] Select from 1970-01-01T00:00:00.000000 -> 1970-01-01T00:00:00.000000\n",
      "2022-11-10T08:55:17.912Z DEBUG [rbot::db::df] preserve select df\n",
      "2022-11-10T08:56:15.157Z DEBUG [rbot::db::sqlite] 2022-09-04T09:51:42.211313- gap1662285102211313\n",
      "2022-11-10T08:56:15.157Z DEBUG [rbot::db::sqlite] 2022-10-16T22:12:04.251999- gap135514897\n",
      "2022-11-10T08:56:15.204Z DEBUG [rbot::db::sqlite] after db \"2022-11-10T08:29:36.825686\"-\"2022-11-10T08:55:32.218062\"\n"
     ]
    },
    {
     "data": {
      "text/html": [
       "\n",
       "                <table>\n",
       "                <caption>Trade Database info table</caption>\n",
       "                <tr><th>start</th><th>end</th></tr>\n",
       "                <tr><td>1662285100853933</td><td>1668068976825686</td></tr>\n",
       "                <tr><td>\"2022-09-04T09:51:40.853933\"</td><td>\"2022-11-10T08:29:36.825686\"</td></tr>\n",
       "                <tr><td><b>records=</b></td><td>29766315</td></tr>\n",
       "                <tr><td><b>days=</b></td><td>66</td></tr>                \n",
       "                <tr><td><b>path=</b>/Users/takeoyasukawa/Library/Application Support/net.takibi.rbot/DB/FTX/BTC-PERP.db</td></tr>                \n",
       "                </table>                \n",
       "                <table><caption>Data Gap</caption><tr><th>start</th><th>end</th><th>days ago</th></tr><tr><td>\"2022-10-16T22:12:04.251999\"</td><td>\"2022-10-16T22:14:19.766896\"</td><td>24</td></tr><tr><td>\"2022-11-10T08:29:36.825686\"</td><td>\"2022-11-10T08:55:32.218062\"</td><td>0</td></tr></table>"
      ],
      "text/plain": [
       "<rbot.FtxMarket at 0x11f2473d0>"
      ]
     },
     "execution_count": 3,
     "metadata": {},
     "output_type": "execute_result"
    }
   ],
   "source": [
    "init_log()\n",
    "Market.dummy_mode()\n",
    "Market.open(\"FTX\", \"BTC-PERP\")\n"
   ]
  },
  {
   "cell_type": "code",
   "execution_count": null,
   "metadata": {},
   "outputs": [],
   "source": []
  },
  {
   "cell_type": "code",
   "execution_count": 4,
   "metadata": {},
   "outputs": [],
   "source": [
    "\n",
    "class Agent(BaseAgent):   \n",
    "    def clock_interval(self):\n",
    "        return 60    # Sec\n",
    "    \n",
    "    def on_tick(self, time, price, side, size):\n",
    "        print(\"tick\", time, price, side, size)\n",
    "        print(self.session.current_timestamp)"
   ]
  },
  {
   "cell_type": "code",
   "execution_count": 5,
   "metadata": {},
   "outputs": [],
   "source": [
    "session = Session(market=Market.get(\"FTX\", \"BTC-PERP\"), agent=Agent())"
   ]
  },
  {
   "cell_type": "code",
   "execution_count": null,
   "metadata": {},
   "outputs": [],
   "source": [
    "session.run(NOW()-1_000_000 * 3600, NOW())"
   ]
  },
  {
   "cell_type": "code",
   "execution_count": null,
   "metadata": {},
   "outputs": [],
   "source": [
    "session.center_price"
   ]
  },
  {
   "cell_type": "code",
   "execution_count": null,
   "metadata": {},
   "outputs": [],
   "source": [
    "session.current_timestamp"
   ]
  },
  {
   "cell_type": "code",
   "execution_count": null,
   "metadata": {},
   "outputs": [],
   "source": [
    "session.run()"
   ]
  },
  {
   "cell_type": "code",
   "execution_count": 10,
   "metadata": {},
   "outputs": [
    {
     "data": {
      "text/plain": [
       "3"
      ]
     },
     "execution_count": 10,
     "metadata": {},
     "output_type": "execute_result"
    }
   ],
   "source": [
    "session.current_timestamp"
   ]
  },
  {
   "cell_type": "code",
   "execution_count": 11,
   "metadata": {},
   "outputs": [
    {
     "data": {
      "text/plain": [
       "0.0"
      ]
     },
     "execution_count": 11,
     "metadata": {},
     "output_type": "execute_result"
    }
   ],
   "source": [
    "session.long_order_size"
   ]
  },
  {
   "cell_type": "code",
   "execution_count": 12,
   "metadata": {},
   "outputs": [
    {
     "data": {
      "text/plain": [
       "OrderStatus.InOrder"
      ]
     },
     "execution_count": 12,
     "metadata": {},
     "output_type": "execute_result"
    }
   ],
   "source": [
    "session.make_order(1, rbot.OrderSide.Buy, 10.0, 10.0, 10, \"\")"
   ]
  },
  {
   "cell_type": "code",
   "execution_count": 13,
   "metadata": {},
   "outputs": [
    {
     "data": {
      "text/plain": [
       "[{order_index:0, create_time:1, order_id:0000-0001, order_side:Buy, post_only:true, valid_until:10000003, price:10, size:10, message:, remain_size:10}]"
      ]
     },
     "execution_count": 13,
     "metadata": {},
     "output_type": "execute_result"
    }
   ],
   "source": [
    "session.long_orders"
   ]
  },
  {
   "cell_type": "code",
   "execution_count": 14,
   "metadata": {},
   "outputs": [
    {
     "data": {
      "text/plain": [
       "10.0"
      ]
     },
     "execution_count": 14,
     "metadata": {},
     "output_type": "execute_result"
    }
   ],
   "source": [
    "session.long_order_size"
   ]
  },
  {
   "cell_type": "code",
   "execution_count": 15,
   "metadata": {},
   "outputs": [],
   "source": [
    "class Market:\n",
    "    MARKET = {}\n",
    "    DUMMY_MODE = True\n",
    "\n",
    "    @classmethod\n",
    "    def dummy_mode(cls, dummy=True):\n",
    "        cls.DUMMY_MODE = dummy\n",
    "\n",
    "    @classmethod\n",
    "    def open(cls, exchange: str, market):\n",
    "        exchange = exchange.upper()\n",
    "        if exchange == \"FTX\":\n",
    "            m = rbot.FtxMarket(market, cls.DUMMY_MODE)\n",
    "            cls.MARKET[exchange.upper() + \"/\" + market.upper()] = m\n",
    "            return m\n",
    "        \n",
    "\n",
    "    @classmethod\n",
    "    def download(cls, ndays):\n",
    "        for m in cls.MARKET:\n",
    "            cls.MARKET[m].download(ndays)\n",
    "    \n",
    "    @classmethod\n",
    "    def get(cls, exchange, market):\n",
    "        return cls.MARKET[exchange.upper() + \"/\" + market.upper()]\n",
    "            "
   ]
  },
  {
   "cell_type": "code",
   "execution_count": 23,
   "metadata": {},
   "outputs": [
    {
     "name": "stdout",
     "output_type": "stream",
     "text": [
      "2022-11-09T22:01:51.413Z DEBUG [rbot::db::df] Select from 1970-01-01T00:00:00.000000 -> 1970-01-01T00:00:00.000000\n",
      "2022-11-09T22:01:51.413Z DEBUG [rbot::db::df] preserve select df\n",
      "2022-11-09T22:01:51.414Z DEBUG [rbot::exchange::ftx] Diff donwload for 1 days\n",
      "2022-11-09T22:01:52.002Z DEBUG [rbot::db::sqlite] 2022-11-08T22:01:51.539336- gap1667944911539336\n",
      "2022-11-09T22:01:52.004Z DEBUG [rbot::db::sqlite] after db \"2022-11-09T13:16:58.840133\"-\"2022-11-09T22:01:51.414614\"\n",
      "2022-11-09T22:01:52.004Z DEBUG [rbot::exchange::ftx] [TimeChunk { start: 1667999818840133, end: 1668031311414614 }]\n",
      "2022-11-09T22:01:52.004Z DEBUG [rbot::exchange::ftx::rest] download trade call back start_time 2022-11-09T13:16:58.840133 -> end_time 2022-11-09T22:01:51.414614\n",
      "2022-11-09T22:01:52.004Z DEBUG [rbot::exchange::ftx::rest] download trade to: 2022-11-09T13:16:58.840133-2022-11-09T22:01:51.414614(1668031311414614)\n",
      "2022-11-09T22:01:52.004Z DEBUG [rbot::exchange::ftx::rest] https://ftx.com/api/markets/BTC-PERP/trades?start_time=1667999818&end_time=1668031312 / 2022-11-09T13:16:58.000000 -> 2022-11-09T22:01:52.000000\n",
      "2022-11-09T22:01:52.005Z DEBUG [reqwest::connect] starting new connection: https://ftx.com/\n",
      "2022-11-09T22:01:52.388Z DEBUG [rbot::exchange::ftx::rest] download time from 1668030895128806 2022-11-09T21:54:55.128806 / to 1668031311404038 2022-11-09T22:01:51.404038\n",
      "2022-11-09T22:01:52.388Z DEBUG [rbot::exchange::ftx::rest] 5000 trades / 383913 [us]\n",
      "2022-11-09T22:01:52.389Z DEBUG [rbot::exchange::ftx::rest] download trade to: 2022-11-09T13:16:58.840133-2022-11-09T21:54:55.128806(1668030895128806)\n",
      "2022-11-09T22:01:52.389Z DEBUG [rbot::exchange::ftx::rest] https://ftx.com/api/markets/BTC-PERP/trades?start_time=1667999818&end_time=1668030896 / 2022-11-09T13:16:58.000000 -> 2022-11-09T21:54:56.000000\n",
      "2022-11-09T22:01:52.389Z DEBUG [reqwest::connect] starting new connection: https://ftx.com/\n",
      "2022-11-09T22:01:52.694Z DEBUG [rbot::exchange::ftx::rest] download time from 1668030525378187 2022-11-09T21:48:45.378187 / to 1668030895883275 2022-11-09T21:54:55.883275\n",
      "2022-11-09T22:01:52.694Z DEBUG [rbot::exchange::ftx::rest] 5000 trades / 305257 [us]\n",
      "2022-11-09T22:01:52.696Z DEBUG [rbot::exchange::ftx::rest] download trade to: 2022-11-09T13:16:58.840133-2022-11-09T21:48:45.378187(1668030525378187)\n",
      "2022-11-09T22:01:52.696Z DEBUG [rbot::exchange::ftx::rest] https://ftx.com/api/markets/BTC-PERP/trades?start_time=1667999818&end_time=1668030526 / 2022-11-09T13:16:58.000000 -> 2022-11-09T21:48:46.000000\n",
      "2022-11-09T22:01:52.696Z DEBUG [reqwest::connect] starting new connection: https://ftx.com/\n",
      "2022-11-09T22:01:53.023Z DEBUG [rbot::exchange::ftx::rest] download time from 1668030124612746 2022-11-09T21:42:04.612746 / to 1668030525953388 2022-11-09T21:48:45.953388\n",
      "2022-11-09T22:01:53.024Z DEBUG [rbot::exchange::ftx::rest] 5000 trades / 327916 [us]\n",
      "2022-11-09T22:01:53.025Z DEBUG [rbot::exchange::ftx::rest] download trade to: 2022-11-09T13:16:58.840133-2022-11-09T21:42:04.612746(1668030124612746)\n",
      "2022-11-09T22:01:53.025Z DEBUG [rbot::exchange::ftx::rest] https://ftx.com/api/markets/BTC-PERP/trades?start_time=1667999818&end_time=1668030125 / 2022-11-09T13:16:58.000000 "
     ]
    },
    {
     "data": {
      "text/html": [
       "\n",
       "                <table>\n",
       "                <caption>Trade Database info table</caption>\n",
       "                <tr><th>start</th><th>end</th></tr>\n",
       "                <tr><td>1662285100853933</td><td>1668031311404038</td></tr>\n",
       "                <tr><td>\"2022-09-04T09:51:40.853933\"</td><td>\"2022-11-09T22:01:51.404038\"</td></tr>\n",
       "                <tr><td><b>records=</b></td><td>29564108</td></tr>\n",
       "                <tr><td><b>days=</b></td><td>66</td></tr>                \n",
       "                <tr><td><b>path=</b>/Users/takeoyasukawa/Library/Application Support/net.takibi.rbot/DB/FTX/BTC-PERP.db</td></tr>                \n",
       "                </table>                \n",
       "                <table><caption>Data Gap</caption><tr><th>start</th><th>end</th><th>days ago</th></tr><tr><td>\"2022-10-16T22:12:04.251999\"</td><td>\"2022-10-16T22:14:19.766896\"</td><td>23</td></tr></table>"
      ],
      "text/plain": [
       "<rbot.FtxMarket at 0x10f237dc0>"
      ]
     },
     "execution_count": 23,
     "metadata": {},
     "output_type": "execute_result"
    },
    {
     "name": "stdout",
     "output_type": "stream",
     "text": [
      "-> 2022-11-09T21:42:05.000000\n",
      "2022-11-09T22:01:53.025Z DEBUG [reqwest::connect] starting new connection: https://ftx.com/\n",
      "2022-11-09T22:01:53.339Z DEBUG [rbot::exchange::ftx::rest] download time from 1668029689471893 2022-11-09T21:34:49.471893 / to 1668030124992795 2022-11-09T21:42:04.992795\n",
      "2022-11-09T22:01:53.339Z DEBUG [rbot::exchange::ftx::rest] 5000 trades / 314160 [us]\n",
      "2022-11-09T22:01:53.340Z DEBUG [rbot::exchange::ftx::rest] download trade to: 2022-11-09T13:16:58.840133-2022-11-09T21:34:49.471893(1668029689471893)\n",
      "2022-11-09T22:01:53.340Z DEBUG [rbot::exchange::ftx::rest] https://ftx.com/api/markets/BTC-PERP/trades?start_time=1667999818&end_time=1668029690 / 2022-11-09T13:16:58.000000 -> 2022-11-09T21:34:50.000000\n",
      "2022-11-09T22:01:53.341Z DEBUG [reqwest::connect] starting new connection: https://ftx.com/\n",
      "2022-11-09T22:01:53.672Z DEBUG [rbot::exchange::ftx::rest] download time from 1668029326721098 2022-11-09T21:28:46.721098 / to 1668029689956347 2022-11-09T21:34:49.956347\n",
      "2022-11-09T22:01:53.672Z DEBUG [rbot::exchange::ftx::rest] 5000 trades / 332150 [us]\n",
      "2022-11-09T22:01:53.674Z DEBUG [rbot::exchange::ftx::rest] download trade to: 2022-11-09T13:16:58.840133-2022-11-09T21:28:46.721098(1668029326721098)\n",
      "2022-11-09T22:01:53.674Z DEBUG [rbot::exchange::ftx::rest] https://ftx.com/api/markets/BTC-PERP/trades?start_time=1667999818&end_time=1668029327 / 2022-11-09T13:16:58.000000 -> 2022-11-09T21:28:47.000000\n",
      "2022-11-09T22:01:53.674Z DEBUG [reqwest::connect] starting new connection: https://ftx.com/\n",
      "2022-11-09T22:01:54.031Z DEBUG [rbot::exchange::ftx::rest] download time from 1668028899738162 2022-11-09T21:21:39.738162 / to 1668029326995914 2022-11-09T21:28:46.995914\n",
      "2022-11-09T22:01:54.031Z DEBUG [rbot::exchange::ftx::rest] 5000 trades / 357556 [us]\n",
      "2022-11-09T22:01:54.033Z DEBUG [rbot::exchange::ftx::rest] download trade to: 2022-11-09T13:16:58.840133-2022-11-09T21:21:39.738162(1668028899738162)\n",
      "2022-11-09T22:01:54.033Z DEBUG [rbot::exchange::ftx::rest] https://ftx.com/api/markets/BTC-PERP/trades?start_time=1667999818&end_time=1668028900 / 2022-11-09T13:16:58.000000 -> 2022-11-09T21:21:40.000000\n",
      "2022-11-09T22:01:54.033Z DEBUG [reqwest::connect] starting new connection: https://ftx.com/\n",
      "2022-11-09T22:01:54.332Z DEBUG [rbot::exchange::ftx::rest] download time from 1668028401237243 2022-11-09T21:13:21.237243 / to 1668028899738162 2022-11-09T21:21:39.738162\n",
      "2022-11-09T22:01:54.332Z DEBUG [rbot::exchange::ftx::rest] 5000 trades / 299929 [us]\n",
      "2022-11-09T22:01:54.334Z DEBUG [rbot::exchange::ftx::rest] download trade to: 2022-11-09T13:16:58.840133-2022-11-09T21:13:21.237243(1668028401237243)\n",
      "2022-11-09T22:01:54.334Z DEBUG [rbot::exchange::ftx::rest] https://ftx.com/api/markets/BTC-PERP/trades?start_time=1667999818&end_time=1668028402 / 2022-11-09T13:16:58.000000 -> 2022-11-09T21:13:22.000000\n",
      "2022-11-09T22:01:54.334Z DEBUG [reqwest::connect] starting new connection: https://ftx.com/\n",
      "2022-11-09T22:01:54.681Z DEBUG [rbot::exchange::ftx::rest] download time from 1668027940687941 2022-11-09T21:05:40.687941 / to 1668028401982600 2022-11-09T21:13:21.982600\n",
      "2022-11-09T22:01:54.681Z DEBUG [rbot::exchange::ftx::rest] 5000 trades / 347608 [us]\n",
      "2022-11-09T22:01:54.683Z DEBUG [rbot::exchange::ftx::rest] download trade to: 2022-11-09T13:16:58.840133-2022-11-09T21:05:40.687941(1668027940687941)\n",
      "2022-11-09T22:01:54.683Z DEBUG [rbot::exchange::ftx::rest] https://ftx.com/api/markets/BTC-PERP/trades?start_time=1667999818&end_time=1668027941 / 2022-11-09T13:16:58.000000 -> 2022-11-09T21:05:41.000000\n",
      "2022-11-09T22:01:54.683Z DEBUG [reqwest::connect] starting new connection: https://ftx.com/\n",
      "2022-11-09T22:01:54.979Z DEBUG [rbot::exchange::ftx::rest] download time from 1668027639371625 2022-11-09T21:00:39.371625 / to 1668027940687941 2022-11-09T21:05:40.687941\n",
      "2022-11-09T22:01:54.979Z DEBUG [rbot::exchange::ftx::rest] 5000 trades / 296100 [us]\n",
      "2022-11-09T22:01:54.980Z DEBUG [rbot::exchange::ftx::rest] download trade to: 2022-11-09T13:16:58.840133-2022-11-09T21:00:39.371625(1668027639371625)\n",
      "2022-11-09T22:01:54.980Z DEBUG [rbot::exchange::ftx::rest] https://ftx.com/api/markets/BTC-PERP/trades?start_time=1667999818&end_time=1668027640 / 2022-11-09T13:16:58.000000 -> 2022-11-09T21:00:40.000000\n",
      "2022-11-09T22:01:54.980Z DEBUG [reqwest::connect] starting new connection: https://ftx.com/\n",
      "2022-11-09T22:01:55.286Z DEBUG [rbot::exchange::ftx::rest] download time from 1668027258521194 2022-11-09T20:54:18.521194 / to 1668027639586689 2022-11-09T21:00:39.586689\n",
      "2022-11-09T22:01:55.286Z DEBUG [rbot::exchange::ftx::rest] 5000 trades / 305946 [us]\n",
      "2022-11-09T22:01:55.287Z DEBUG [rbot::exchange::ftx::rest] download trade to: 2022-11-09T13:16:58.840133-2022-11-09T20:54:18.521194(1668027258521194)\n",
      "2022-11-09T22:01:55.287Z DEBUG [rbot::exchange::ftx::rest] https://ftx.com/api/markets/BTC-PERP/trades?start_time=1667999818&end_time=1668027259 / 2022-11-09T13:16:58.000000 -> 2022-11-09T20:54:19.000000\n",
      "2022-11-09T22:01:55.288Z DEBUG [reqwest::connect] starting new connection: https://ftx.com/\n",
      "2022-11-09T22:01:55.599Z DEBUG [rbot::exchange::ftx::rest] download time from 1668027030369341 2022-11-09T20:50:30.369341 / to 1668027258916039 2022-11-09T20:54:18.916039\n",
      "2022-11-09T22:01:55.599Z DEBUG [rbot::exchange::ftx::rest] 5000 trades / 311574 [us]\n",
      "2022-11-09T22:01:55.600Z DEBUG [rbot::exchange::ftx::rest] download trade to: 2022-11-09T13:16:58.840133-2022-11-09T20:50:30.369341(1668027030369341)\n",
      "2022-11-09T22:01:55.600Z DEBUG [rbot::exchange::ftx::rest] https://ftx.com/api/markets/BTC-PERP/trades?start_time=1667999818&end_time=1668027031 / 2022-11-09T13:16:58.000000 -> 2022-11-09T20:50:31.000000\n",
      "2022-11-09T22:01:55.600Z DEBUG [reqwest::connect] starting new connection: https://ftx.com/\n",
      "2022-11-09T22:01:55.928Z DEBUG [rbot::exchange::ftx::rest] download time from 1668026890667744 2022-11-09T20:48:10.667744 / to 1668027030990079 2022-11-09T20:50:30.990079\n",
      "2022-11-09T22:01:55.928Z DEBUG [rbot::exchange::ftx::rest] 5000 trades / 327972 [us]\n",
      "2022-11-09T22:01:55.929Z DEBUG [rbot::exchange::ftx::rest] download trade to: 2022-11-09T13:16:58.840133-2022-11-09T20:48:10.667744(1668026890667744)\n",
      "2022-11-09T22:01:55.929Z DEBUG [rbot::exchange::ftx::rest] https://ftx.com/api/markets/BTC-PERP/trades?start_time=1667999818&end_time=1668026891 / 2022-11-09T13:16:58.000000 -> 2022-11-09T20:48:11.000000\n",
      "2022-11-09T22:01:55.929Z DEBUG [reqwest::connect] starting new connection: https://ftx.com/\n",
      "2022-11-09T22:01:56.254Z DEBUG [rbot::exchange::ftx::rest] download time from 1668026595251951 2022-11-09T20:43:15.251951 / to 1668026890994298 2022-11-09T20:48:10.994298\n",
      "2022-11-09T22:01:56.254Z DEBUG [rbot::exchange::ftx::rest] 5000 trades / 324662 [us]\n",
      "2022-11-09T22:01:56.255Z DEBUG [rbot::exchange::ftx::rest] download trade to: 2022-11-09T13:16:58.840133-2022-11-09T20:43:15.251951(1668026595251951)\n",
      "2022-11-09T22:01:56.255Z DEBUG [rbot::exchange::ftx::rest] https://ftx.com/api/markets/BTC-PERP/trades?start_time=1667999818&end_time=1668026596 / 2022-11-09T13:16:58.000000 -> 2022-11-09T20:43:16.000000\n",
      "2022-11-09T22:01:56.255Z DEBUG [reqwest::connect] starting new connection: https://ftx.com/\n",
      "2022-11-09T22:01:56.605Z DEBUG [rbot::exchange::ftx::rest] download time from 1668025929331738 2022-11-09T20:32:09.331738 / to 1668026595928666 2022-11-09T20:43:15.928666\n",
      "2022-11-09T22:01:56.605Z DEBUG [rbot::exchange::ftx::rest] 5000 trades / 349751 [us]\n",
      "2022-11-09T22:01:56.606Z DEBUG [rbot::exchange::ftx::rest] download trade to: 2022-11-09T13:16:58.840133-2022-11-09T20:32:09.331738(1668025929331738)\n",
      "2022-11-09T22:01:56.606Z DEBUG [rbot::exchange::ftx::rest] https://ftx.com/api/markets/BTC-PERP/trades?start_time=1667999818&end_time=1668025930 / 2022-11-09T13:16:58.000000 -> 2022-11-09T20:32:10.000000\n",
      "2022-11-09T22:01:56.606Z DEBUG [reqwest::connect] starting new connection: https://ftx.com/\n",
      "2022-11-09T22:01:56.902Z DEBUG [rbot::exchange::ftx::rest] download time from 1668024830157161 2022-11-09T20:13:50.157161 / to 1668025929530742 2022-11-09T20:32:09.530742\n",
      "2022-11-09T22:01:56.902Z DEBUG [rbot::exchange::ftx::rest] 5000 trades / 296427 [us]\n",
      "2022-11-09T22:01:56.904Z DEBUG [rbot::exchange::ftx::rest] download trade to: 2022-11-09T13:16:58.840133-2022-11-09T20:13:50.157161(1668024830157161)\n",
      "2022-11-09T22:01:56.904Z DEBUG [rbot::exchange::ftx::rest] https://ftx.com/api/markets/BTC-PERP/trades?start_time=1667999818&end_time=1668024831 / 2022-11-09T13:16:58.000000 -> 2022-11-09T20:13:51.000000\n",
      "2022-11-09T22:01:56.904Z DEBUG [reqwest::connect] starting new connection: https://ftx.com/\n",
      "2022-11-09T22:01:57.219Z DEBUG [rbot::exchange::ftx::rest] download time from 1668024136806693 2022-11-09T20:02:16.806693 / to 1668024830157161 2022-11-09T20:13:50.157161\n",
      "2022-11-09T22:01:57.219Z DEBUG [rbot::exchange::ftx::rest] 5000 trades / 315212 [us]\n",
      "2022-11-09T22:01:57.220Z DEBUG [rbot::exchange::ftx::rest] download trade to: 2022-11-09T13:16:58.840133-2022-11-09T20:02:16.806693(1668024136806693)\n",
      "2022-11-09T22:01:57.220Z DEBUG [rbot::exchange::ftx::rest] https://ftx.com/api/markets/BTC-PERP/trades?start_time=1667999818&end_time=1668024137 / 2022-11-09T13:16:58.000000 -> 2022-11-09T20:02:17.000000\n",
      "2022-11-09T22:01:57.221Z DEBUG [reqwest::connect] starting new connection: https://ftx.com/\n",
      "2022-11-09T22:01:57.540Z DEBUG [rbot::exchange::ftx::rest] download time from 1668023419021598 2022-11-09T19:50:19.021598 / to 1668024136806693 2022-11-09T20:02:16.806693\n",
      "2022-11-09T22:01:57.540Z DEBUG [rbot::exchange::ftx::rest] 5000 trades / 319502 [us]\n",
      "2022-11-09T22:01:57.541Z DEBUG [rbot::exchange::ftx::rest] download trade to: 2022-11-09T13:16:58.840133-2022-11-09T19:50:19.021598(1668023419021598)\n",
      "2022-11-09T22:01:57.541Z DEBUG [rbot::exchange::ftx::rest] https://ftx.com/api/markets/BTC-PERP/trades?start_time=1667999818&end_time=1668023420 / 2022-11-09T13:16:58.000000 -> 2022-11-09T19:50:20.000000\n",
      "2022-11-09T22:01:57.541Z DEBUG [reqwest::connect] starting new connection: https://ftx.com/\n",
      "2022-11-09T22:01:57.896Z DEBUG [rbot::exchange::ftx::rest] download time from 1668022462815587 2022-11-09T19:34:22.815587 / to 1668023419965846 2022-11-09T19:50:19.965846\n",
      "2022-11-09T22:01:57.896Z DEBUG [rbot::exchange::ftx::rest] 5000 trades / 354695 [us]\n",
      "2022-11-09T22:01:57.897Z DEBUG [rbot::exchange::ftx::rest] download trade to: 2022-11-09T13:16:58.840133-2022-11-09T19:34:22.815587(1668022462815587)\n",
      "2022-11-09T22:01:57.897Z DEBUG [rbot::exchange::ftx::rest] https://ftx.com/api/markets/BTC-PERP/trades?start_time=1667999818&end_time=1668022463 / 2022-11-09T13:16:58.000000 -> 2022-11-09T19:34:23.000000\n",
      "2022-11-09T22:01:57.897Z DEBUG [reqwest::connect] starting new connection: https://ftx.com/\n",
      "2022-11-09T22:01:58.229Z DEBUG [rbot::exchange::ftx::rest] download time from 1668021646389699 2022-11-09T19:20:46.389699 / to 1668022462815587 2022-11-09T19:34:22.815587\n",
      "2022-11-09T22:01:58.229Z DEBUG [rbot::exchange::ftx::rest] 5000 trades / 332028 [us]\n",
      "2022-11-09T22:01:58.230Z DEBUG [rbot::exchange::ftx::rest] download trade to: 2022-11-09T13:16:58.840133-2022-11-09T19:20:46.389699(1668021646389699)\n",
      "2022-11-09T22:01:58.230Z DEBUG [rbot::exchange::ftx::rest] https://ftx.com/api/markets/BTC-PERP/trades?start_time=1667999818&end_time=1668021647 / 2022-11-09T13:16:58.000000 -> 2022-11-09T19:20:47.000000\n",
      "2022-11-09T22:01:58.231Z DEBUG [reqwest::connect] starting new connection: https://ftx.com/\n",
      "2022-11-09T22:01:58.529Z DEBUG [rbot::exchange::ftx::rest] download time from 1668021026133513 2022-11-09T19:10:26.133513 / to 1668021646581620 2022-11-09T19:20:46.581620\n",
      "2022-11-09T22:01:58.529Z DEBUG [rbot::exchange::ftx::rest] 5000 trades / 298377 [us]\n",
      "2022-11-09T22:01:58.530Z DEBUG [rbot::exchange::ftx::rest] download trade to: 2022-11-09T13:16:58.840133-2022-11-09T19:10:26.133513(1668021026133513)\n",
      "2022-11-09T22:01:58.530Z DEBUG [rbot::exchange::ftx::rest] https://ftx.com/api/markets/BTC-PERP/trades?start_time=1667999818&end_time=1668021027 / 2022-11-09T13:16:58.000000 -> 2022-11-09T19:10:27.000000\n",
      "2022-11-09T22:01:58.530Z DEBUG [reqwest::connect] starting new connection: https://ftx.com/\n",
      "2022-11-09T22:01:58.870Z DEBUG [rbot::exchange::ftx::rest] download time from 1668020407262025 2022-11-09T19:00:07.262025 / to 1668021026197553 2022-11-09T19:10:26.197553\n",
      "2022-11-09T22:01:58.870Z DEBUG [rbot::exchange::ftx::rest] 5000 trades / 339903 [us]\n",
      "2022-11-09T22:01:58.871Z DEBUG [rbot::exchange::ftx::rest] download trade to: 2022-11-09T13:16:58.840133-2022-11-09T19:00:07.262025(1668020407262025)\n",
      "2022-11-09T22:01:58.871Z DEBUG [rbot::exchange::ftx::rest] https://ftx.com/api/markets/BTC-PERP/trades?start_time=1667999818&end_time=1668020408 / 2022-11-09T13:16:58.000000 -> 2022-11-09T19:00:08.000000\n",
      "2022-11-09T22:01:58.871Z DEBUG [reqwest::connect] starting new connection: https://ftx.com/\n",
      "2022-11-09T22:01:59.187Z DEBUG [rbot::exchange::ftx::rest] download time from 1668019922990095 2022-11-09T18:52:02.990095 / to 1668020407761944 2022-11-09T19:00:07.761944\n",
      "2022-11-09T22:01:59.187Z DEBUG [rbot::exchange::ftx::rest] 5000 trades / 315874 [us]\n",
      "2022-11-09T22:01:59.188Z DEBUG [rbot::exchange::ftx::rest] download trade to: 2022-11-09T13:16:58.840133-2022-11-09T18:52:02.990095(1668019922990095)\n",
      "2022-11-09T22:01:59.188Z DEBUG [rbot::exchange::ftx::rest] https://ftx.com/api/markets/BTC-PERP/trades?start_time=1667999818&end_time=1668019923 / 2022-11-09T13:16:58.000000 -> 2022-11-09T18:52:03.000000\n",
      "2022-11-09T22:01:59.188Z DEBUG [reqwest::connect] starting new connection: https://ftx.com/\n",
      "2022-11-09T22:01:59.513Z DEBUG [rbot::exchange::ftx::rest] download time from 1668019611751803 2022-11-09T18:46:51.751803 / to 1668019922990095 2022-11-09T18:52:02.990095\n",
      "2022-11-09T22:01:59.513Z DEBUG [rbot::exchange::ftx::rest] 5000 trades / 324742 [us]\n",
      "2022-11-09T22:01:59.514Z DEBUG [rbot::exchange::ftx::rest] download trade to: 2022-11-09T13:16:58.840133-2022-11-09T18:46:51.751803(1668019611751803)\n",
      "2022-11-09T22:01:59.514Z DEBUG [rbot::exchange::ftx::rest] https://ftx.com/api/markets/BTC-PERP/trades?start_time=1667999818&end_time=1668019612 / 2022-11-09T13:16:58.000000 -> 2022-11-09T18:46:52.000000\n",
      "2022-11-09T22:01:59.515Z DEBUG [reqwest::connect] starting new connection: https://ftx.com/\n",
      "2022-11-09T22:01:59.879Z DEBUG [rbot::exchange::ftx::rest] download time from 1668019424974025 2022-11-09T18:43:44.974025 / to 1668019611962975 2022-11-09T18:46:51.962975\n",
      "2022-11-09T22:01:59.879Z DEBUG [rbot::exchange::ftx::rest] 5000 trades / 364709 [us]\n",
      "2022-11-09T22:01:59.880Z DEBUG [rbot::exchange::ftx::rest] download trade to: 2022-11-09T13:16:58.840133-2022-11-09T18:43:44.974025(1668019424974025)\n",
      "2022-11-09T22:01:59.880Z DEBUG [rbot::exchange::ftx::rest] https://ftx.com/api/markets/BTC-PERP/trades?start_time=1667999818&end_time=1668019425 / 2022-11-09T13:16:58.000000 -> 2022-11-09T18:43:45.000000\n",
      "2022-11-09T22:01:59.881Z DEBUG [reqwest::connect] starting new connection: https://ftx.com/\n",
      "2022-11-09T22:02:00.304Z DEBUG [rbot::exchange::ftx::rest] download time from 1668019143001484 2022-11-09T18:39:03.001484 / to 1668019424974025 2022-11-09T18:43:44.974025\n",
      "2022-11-09T22:02:00.304Z DEBUG [rbot::exchange::ftx::rest] 5000 trades / 423698 [us]\n",
      "2022-11-09T22:02:00.305Z DEBUG [rbot::exchange::ftx::rest] download trade to: 2022-11-09T13:16:58.840133-2022-11-09T18:39:03.001484(1668019143001484)\n",
      "2022-11-09T22:02:00.305Z DEBUG [rbot::exchange::ftx::rest] https://ftx.com/api/markets/BTC-PERP/trades?start_time=1667999818&end_time=1668019144 / 2022-11-09T13:16:58.000000 -> 2022-11-09T18:39:04.000000\n",
      "2022-11-09T22:02:00.306Z DEBUG [reqwest::connect] starting new connection: https://ftx.com/\n",
      "2022-11-09T22:02:00.663Z DEBUG [rbot::exchange::ftx::rest] download time from 1668018679388641 2022-11-09T18:31:19.388641 / to 1668019143987887 2022-11-09T18:39:03.987887\n",
      "2022-11-09T22:02:00.663Z DEBUG [rbot::exchange::ftx::rest] 5000 trades / 357275 [us]\n",
      "2022-11-09T22:02:00.664Z DEBUG [rbot::exchange::ftx::rest] download trade to: 2022-11-09T13:16:58.840133-2022-11-09T18:31:19.388641(1668018679388641)\n",
      "2022-11-09T22:02:00.664Z DEBUG [rbot::exchange::ftx::rest] https://ftx.com/api/markets/BTC-PERP/trades?start_time=1667999818&end_time=1668018680 / 2022-11-09T13:16:58.000000 -> 2022-11-09T18:31:20.000000\n",
      "2022-11-09T22:02:00.664Z DEBUG [reqwest::connect] starting new connection: https://ftx.com/\n",
      "2022-11-09T22:02:01.000Z DEBUG [rbot::exchange::ftx::rest] download time from 1668018331609585 2022-11-09T18:25:31.609585 / to 1668018679991030 2022-11-09T18:31:19.991030\n",
      "2022-11-09T22:02:01.000Z DEBUG [rbot::exchange::ftx::rest] 5000 trades / 335859 [us]\n",
      "2022-11-09T22:02:01.001Z DEBUG [rbot::exchange::ftx::rest] download trade to: 2022-11-09T13:16:58.840133-2022-11-09T18:25:31.609585(1668018331609585)\n",
      "2022-11-09T22:02:01.001Z DEBUG [rbot::exchange::ftx::rest] https://ftx.com/api/markets/BTC-PERP/trades?start_time=1667999818&end_time=1668018332 / 2022-11-09T13:16:58.000000 -> 2022-11-09T18:25:32.000000\n",
      "2022-11-09T22:02:01.001Z DEBUG [reqwest::connect] starting new connection: https://ftx.com/\n",
      "2022-11-09T22:02:01.326Z DEBUG [rbot::exchange::ftx::rest] download time from 1668017979439933 2022-11-09T18:19:39.439933 / to 1668018331989076 2022-11-09T18:25:31.989076\n",
      "2022-11-09T22:02:01.326Z DEBUG [rbot::exchange::ftx::rest] 5000 trades / 325082 [us]\n",
      "2022-11-09T22:02:01.327Z DEBUG [rbot::exchange::ftx::rest] download trade to: 2022-11-09T13:16:58.840133-2022-11-09T18:19:39.439933(1668017979439933)\n",
      "2022-11-09T22:02:01.327Z DEBUG [rbot::exchange::ftx::rest] https://ftx.com/api/markets/BTC-PERP/trades?start_time=1667999818&end_time=1668017980 / 2022-11-09T13:16:58.000000 -> 2022-11-09T18:19:40.000000\n",
      "2022-11-09T22:02:01.327Z DEBUG [reqwest::connect] starting new connection: https://ftx.com/\n",
      "2022-11-09T22:02:01.649Z DEBUG [rbot::exchange::ftx::rest] download time from 1668017588528133 2022-11-09T18:13:08.528133 / to 1668017979840732 2022-11-09T18:19:39.840732\n",
      "2022-11-09T22:02:01.649Z DEBUG [rbot::exchange::ftx::rest] 5000 trades / 321725 [us]\n",
      "2022-11-09T22:02:01.650Z DEBUG [rbot::exchange::ftx::rest] download trade to: 2022-11-09T13:16:58.840133-2022-11-09T18:13:08.528133(1668017588528133)\n",
      "2022-11-09T22:02:01.650Z DEBUG [rbot::exchange::ftx::rest] https://ftx.com/api/markets/BTC-PERP/trades?start_time=1667999818&end_time=1668017589 / 2022-11-09T13:16:58.000000 -> 2022-11-09T18:13:09.000000\n",
      "2022-11-09T22:02:01.651Z DEBUG [reqwest::connect] starting new connection: https://ftx.com/\n",
      "2022-11-09T22:02:02.087Z DEBUG [rbot::exchange::ftx::rest] download time from 1668017293269649 2022-11-09T18:08:13.269649 / to 1668017588945383 2022-11-09T18:13:08.945383\n",
      "2022-11-09T22:02:02.088Z DEBUG [rbot::exchange::ftx::rest] 5000 trades / 437156 [us]\n",
      "2022-11-09T22:02:02.089Z DEBUG [rbot::exchange::ftx::rest] download trade to: 2022-11-09T13:16:58.840133-2022-11-09T18:08:13.269649(1668017293269649)\n",
      "2022-11-09T22:02:02.089Z DEBUG [rbot::exchange::ftx::rest] https://ftx.com/api/markets/BTC-PERP/trades?start_time=1667999818&end_time=1668017294 / 2022-11-09T13:16:58.000000 -> 2022-11-09T18:08:14.000000\n",
      "2022-11-09T22:02:02.089Z DEBUG [reqwest::connect] starting new connection: https://ftx.com/\n",
      "2022-11-09T22:02:02.391Z DEBUG [rbot::exchange::ftx::rest] download time from 1668016795483369 2022-11-09T17:59:55.483369 / to 1668017293907754 2022-11-09T18:08:13.907754\n",
      "2022-11-09T22:02:02.391Z DEBUG [rbot::exchange::ftx::rest] 5000 trades / 302360 [us]\n",
      "2022-11-09T22:02:02.392Z DEBUG [rbot::exchange::ftx::rest] download trade to: 2022-11-09T13:16:58.840133-2022-11-09T17:59:55.483369(1668016795483369)\n",
      "2022-11-09T22:02:02.392Z DEBUG [rbot::exchange::ftx::rest] https://ftx.com/api/markets/BTC-PERP/trades?start_time=1667999818&end_time=1668016796 / 2022-11-09T13:16:58.000000 -> 2022-11-09T17:59:56.000000\n",
      "2022-11-09T22:02:02.394Z DEBUG [reqwest::connect] starting new connection: https://ftx.com/\n",
      "2022-11-09T22:02:02.917Z DEBUG [rbot::exchange::ftx::rest] download time from 1668016316842005 2022-11-09T17:51:56.842005 / to 1668016795872671 2022-11-09T17:59:55.872671\n",
      "2022-11-09T22:02:02.917Z DEBUG [rbot::exchange::ftx::rest] 5000 trades / 525025 [us]\n",
      "2022-11-09T22:02:02.919Z DEBUG [rbot::exchange::ftx::rest] download trade to: 2022-11-09T13:16:58.840133-2022-11-09T17:51:56.842005(1668016316842005)\n",
      "2022-11-09T22:02:02.919Z DEBUG [rbot::exchange::ftx::rest] https://ftx.com/api/markets/BTC-PERP/trades?start_time=1667999818&end_time=1668016317 / 2022-11-09T13:16:58.000000 -> 2022-11-09T17:51:57.000000\n",
      "2022-11-09T22:02:02.919Z DEBUG [reqwest::connect] starting new connection: https://ftx.com/\n",
      "2022-11-09T22:02:03.261Z DEBUG [rbot::exchange::ftx::rest] download time from 1668015827554035 2022-11-09T17:43:47.554035 / to 1668016316842005 2022-11-09T17:51:56.842005\n",
      "2022-11-09T22:02:03.261Z DEBUG [rbot::exchange::ftx::rest] 5000 trades / 342034 [us]\n",
      "2022-11-09T22:02:03.262Z DEBUG [rbot::exchange::ftx::rest] download trade to: 2022-11-09T13:16:58.840133-2022-11-09T17:43:47.554035(1668015827554035)\n",
      "2022-11-09T22:02:03.262Z DEBUG [rbot::exchange::ftx::rest] https://ftx.com/api/markets/BTC-PERP/trades?start_time=1667999818&end_time=1668015828 / 2022-11-09T13:16:58.000000 -> 2022-11-09T17:43:48.000000\n",
      "2022-11-09T22:02:03.262Z DEBUG [reqwest::connect] starting new connection: https://ftx.com/\n",
      "2022-11-09T22:02:03.573Z DEBUG [rbot::exchange::ftx::rest] download time from 1668015437232182 2022-11-09T17:37:17.232182 / to 1668015827554035 2022-11-09T17:43:47.554035\n",
      "2022-11-09T22:02:03.573Z DEBUG [rbot::exchange::ftx::rest] 5000 trades / 310948 [us]\n",
      "2022-11-09T22:02:03.574Z DEBUG [rbot::exchange::ftx::rest] download trade to: 2022-11-09T13:16:58.840133-2022-11-09T17:37:17.232182(1668015437232182)\n",
      "2022-11-09T22:02:03.574Z DEBUG [rbot::exchange::ftx::rest] https://ftx.com/api/markets/BTC-PERP/trades?start_time=1667999818&end_time=1668015438 / 2022-11-09T13:16:58.000000 -> 2022-11-09T17:37:18.000000\n",
      "2022-11-09T22:02:03.575Z DEBUG [reqwest::connect] starting new connection: https://ftx.com/\n",
      "2022-11-09T22:02:03.910Z DEBUG [rbot::exchange::ftx::rest] download time from 1668014769452773 2022-11-09T17:26:09.452773 / to 1668015437979662 2022-11-09T17:37:17.979662\n",
      "2022-11-09T22:02:03.910Z DEBUG [rbot::exchange::ftx::rest] 5000 trades / 335860 [us]\n",
      "2022-11-09T22:02:03.911Z DEBUG [rbot::exchange::ftx::rest] download trade to: 2022-11-09T13:16:58.840133-2022-11-09T17:26:09.452773(1668014769452773)\n",
      "2022-11-09T22:02:03.911Z DEBUG [rbot::exchange::ftx::rest] https://ftx.com/api/markets/BTC-PERP/trades?start_time=1667999818&end_time=1668014770 / 2022-11-09T13:16:58.000000 -> 2022-11-09T17:26:10.000000\n",
      "2022-11-09T22:02:03.912Z DEBUG [reqwest::connect] starting new connection: https://ftx.com/\n",
      "2022-11-09T22:02:04.236Z DEBUG [rbot::exchange::ftx::rest] download time from 1668014177686081 2022-11-09T17:16:17.686081 / to 1668014769452773 2022-11-09T17:26:09.452773\n",
      "2022-11-09T22:02:04.236Z DEBUG [rbot::exchange::ftx::rest] 5000 trades / 324746 [us]\n",
      "2022-11-09T22:02:04.238Z DEBUG [rbot::exchange::ftx::rest] download trade to: 2022-11-09T13:16:58.840133-2022-11-09T17:16:17.686081(1668014177686081)\n",
      "2022-11-09T22:02:04.238Z DEBUG [rbot::exchange::ftx::rest] https://ftx.com/api/markets/BTC-PERP/trades?start_time=1667999818&end_time=1668014178 / 2022-11-09T13:16:58.000000 -> 2022-11-09T17:16:18.000000\n",
      "2022-11-09T22:02:04.238Z DEBUG [reqwest::connect] starting new connection: https://ftx.com/\n",
      "2022-11-09T22:02:04.768Z DEBUG [rbot::exchange::ftx::rest] download time from 1668013496080718 2022-11-09T17:04:56.080718 / to 1668014177686081 2022-11-09T17:16:17.686081\n",
      "2022-11-09T22:02:04.768Z DEBUG [rbot::exchange::ftx::rest] 5000 trades / 530637 [us]\n",
      "2022-11-09T22:02:04.769Z DEBUG [rbot::exchange::ftx::rest] download trade to: 2022-11-09T13:16:58.840133-2022-11-09T17:04:56.080718(1668013496080718)\n",
      "2022-11-09T22:02:04.769Z DEBUG [rbot::exchange::ftx::rest] https://ftx.com/api/markets/BTC-PERP/trades?start_time=1667999818&end_time=1668013497 / 2022-11-09T13:16:58.000000 -> 2022-11-09T17:04:57.000000\n",
      "2022-11-09T22:02:04.770Z DEBUG [reqwest::connect] starting new connection: https://ftx.com/\n",
      "2022-11-09T22:02:05.092Z DEBUG [rbot::exchange::ftx::rest] download time from 1668012562037305 2022-11-09T16:49:22.037305 / to 1668013496662822 2022-11-09T17:04:56.662822\n",
      "2022-11-09T22:02:05.092Z DEBUG [rbot::exchange::ftx::rest] 5000 trades / 322283 [us]\n",
      "2022-11-09T22:02:05.093Z DEBUG [rbot::exchange::ftx::rest] download trade to: 2022-11-09T13:16:58.840133-2022-11-09T16:49:22.037305(1668012562037305)\n",
      "2022-11-09T22:02:05.093Z DEBUG [rbot::exchange::ftx::rest] https://ftx.com/api/markets/BTC-PERP/trades?start_time=1667999818&end_time=1668012563 / 2022-11-09T13:16:58.000000 -> 2022-11-09T16:49:23.000000\n",
      "2022-11-09T22:02:05.093Z DEBUG [reqwest::connect] starting new connection: https://ftx.com/\n",
      "2022-11-09T22:02:05.574Z DEBUG [rbot::exchange::ftx::rest] download time from 1668012100892641 2022-11-09T16:41:40.892641 / to 1668012562958390 2022-11-09T16:49:22.958390\n",
      "2022-11-09T22:02:05.574Z DEBUG [rbot::exchange::ftx::rest] 5000 trades / 481007 [us]\n",
      "2022-11-09T22:02:05.575Z DEBUG [rbot::exchange::ftx::rest] download trade to: 2022-11-09T13:16:58.840133-2022-11-09T16:41:40.892641(1668012100892641)\n",
      "2022-11-09T22:02:05.575Z DEBUG [rbot::exchange::ftx::rest] https://ftx.com/api/markets/BTC-PERP/trades?start_time=1667999818&end_time=1668012101 / 2022-11-09T13:16:58.000000 -> 2022-11-09T16:41:41.000000\n",
      "2022-11-09T22:02:05.575Z DEBUG [reqwest::connect] starting new connection: https://ftx.com/\n",
      "2022-11-09T22:02:06.097Z DEBUG [rbot::exchange::ftx::rest] download time from 1668011735699738 2022-11-09T16:35:35.699738 / to 1668012100943934 2022-11-09T16:41:40.943934\n",
      "2022-11-09T22:02:06.097Z DEBUG [rbot::exchange::ftx::rest] 5000 trades / 521627 [us]\n",
      "2022-11-09T22:02:06.098Z DEBUG [rbot::exchange::ftx::rest] download trade to: 2022-11-09T13:16:58.840133-2022-11-09T16:35:35.699738(1668011735699738)\n",
      "2022-11-09T22:02:06.098Z DEBUG [rbot::exchange::ftx::rest] https://ftx.com/api/markets/BTC-PERP/trades?start_time=1667999818&end_time=1668011736 / 2022-11-09T13:16:58.000000 -> 2022-11-09T16:35:36.000000\n",
      "2022-11-09T22:02:06.099Z DEBUG [reqwest::connect] starting new connection: https://ftx.com/\n",
      "2022-11-09T22:02:06.404Z DEBUG [rbot::exchange::ftx::rest] download time from 1668011330837658 2022-11-09T16:28:50.837658 / to 1668011735724626 2022-11-09T16:35:35.724626\n",
      "2022-11-09T22:02:06.404Z DEBUG [rbot::exchange::ftx::rest] 5000 trades / 305768 [us]\n",
      "2022-11-09T22:02:06.405Z DEBUG [rbot::exchange::ftx::rest] download trade to: 2022-11-09T13:16:58.840133-2022-11-09T16:28:50.837658(1668011330837658)\n",
      "2022-11-09T22:02:06.405Z DEBUG [rbot::exchange::ftx::rest] https://ftx.com/api/markets/BTC-PERP/trades?start_time=1667999818&end_time=1668011331 / 2022-11-09T13:16:58.000000 -> 2022-11-09T16:28:51.000000\n",
      "2022-11-09T22:02:06.406Z DEBUG [reqwest::connect] starting new connection: https://ftx.com/\n",
      "2022-11-09T22:02:06.731Z DEBUG [rbot::exchange::ftx::rest] download time from 1668010913410939 2022-11-09T16:21:53.410939 / to 1668011330999508 2022-11-09T16:28:50.999508\n",
      "2022-11-09T22:02:06.731Z DEBUG [rbot::exchange::ftx::rest] 5000 trades / 325927 [us]\n",
      "2022-11-09T22:02:06.732Z DEBUG [rbot::exchange::ftx::rest] download trade to: 2022-11-09T13:16:58.840133-2022-11-09T16:21:53.410939(1668010913410939)\n",
      "2022-11-09T22:02:06.732Z DEBUG [rbot::exchange::ftx::rest] https://ftx.com/api/markets/BTC-PERP/trades?start_time=1667999818&end_time=1668010914 / 2022-11-09T13:16:58.000000 -> 2022-11-09T16:21:54.000000\n",
      "2022-11-09T22:02:06.733Z DEBUG [reqwest::connect] starting new connection: https://ftx.com/\n",
      "2022-11-09T22:02:07.038Z DEBUG [rbot::exchange::ftx::rest] download time from 1668010362590635 2022-11-09T16:12:42.590635 / to 1668010913410939 2022-11-09T16:21:53.410939\n",
      "2022-11-09T22:02:07.038Z DEBUG [rbot::exchange::ftx::rest] 5000 trades / 305579 [us]\n",
      "2022-11-09T22:02:07.039Z DEBUG [rbot::exchange::ftx::rest] download trade to: 2022-11-09T13:16:58.840133-2022-11-09T16:12:42.590635(1668010362590635)\n",
      "2022-11-09T22:02:07.039Z DEBUG [rbot::exchange::ftx::rest] https://ftx.com/api/markets/BTC-PERP/trades?start_time=1667999818&end_time=1668010363 / 2022-11-09T13:16:58.000000 -> 2022-11-09T16:12:43.000000\n",
      "2022-11-09T22:02:07.040Z DEBUG [reqwest::connect] starting new connection: https://ftx.com/\n",
      "2022-11-09T22:02:07.528Z DEBUG [rbot::exchange::ftx::rest] download time from 1668009967601134 2022-11-09T16:06:07.601134 / to 1668010362882168 2022-11-09T16:12:42.882168\n",
      "2022-11-09T22:02:07.528Z DEBUG [rbot::exchange::ftx::rest] 5000 trades / 488308 [us]\n",
      "2022-11-09T22:02:07.529Z DEBUG [rbot::exchange::ftx::rest] download trade to: 2022-11-09T13:16:58.840133-2022-11-09T16:06:07.601134(1668009967601134)\n",
      "2022-11-09T22:02:07.529Z DEBUG [rbot::exchange::ftx::rest] https://ftx.com/api/markets/BTC-PERP/trades?start_time=1667999818&end_time=1668009968 / 2022-11-09T13:16:58.000000 -> 2022-11-09T16:06:08.000000\n",
      "2022-11-09T22:02:07.529Z DEBUG [reqwest::connect] starting new connection: https://ftx.com/\n",
      "2022-11-09T22:02:07.832Z DEBUG [rbot::exchange::ftx::rest] download time from 1668009681314524 2022-11-09T16:01:21.314524 / to 1668009967677708 2022-11-09T16:06:07.677708\n",
      "2022-11-09T22:02:07.832Z DEBUG [rbot::exchange::ftx::rest] 5000 trades / 303463 [us]\n",
      "2022-11-09T22:02:07.834Z DEBUG [rbot::exchange::ftx::rest] download trade to: 2022-11-09T13:16:58.840133-2022-11-09T16:01:21.314524(1668009681314524)\n",
      "2022-11-09T22:02:07.834Z DEBUG [rbot::exchange::ftx::rest] https://ftx.com/api/markets/BTC-PERP/trades?start_time=1667999818&end_time=1668009682 / 2022-11-09T13:16:58.000000 -> 2022-11-09T16:01:22.000000\n",
      "2022-11-09T22:02:07.834Z DEBUG [reqwest::connect] starting new connection: https://ftx.com/\n",
      "2022-11-09T22:02:08.348Z DEBUG [rbot::exchange::ftx::rest] download time from 1668009393114269 2022-11-09T15:56:33.114269 / to 1668009681944228 2022-11-09T16:01:21.944228\n",
      "2022-11-09T22:02:08.348Z DEBUG [rbot::exchange::ftx::rest] 5000 trades / 514373 [us]\n",
      "2022-11-09T22:02:08.349Z DEBUG [rbot::exchange::ftx::rest] download trade to: 2022-11-09T13:16:58.840133-2022-11-09T15:56:33.114269(1668009393114269)\n",
      "2022-11-09T22:02:08.349Z DEBUG [rbot::exchange::ftx::rest] https://ftx.com/api/markets/BTC-PERP/trades?start_time=1667999818&end_time=1668009394 / 2022-11-09T13:16:58.000000 -> 2022-11-09T15:56:34.000000\n",
      "2022-11-09T22:02:08.350Z DEBUG [reqwest::connect] starting new connection: https://ftx.com/\n",
      "2022-11-09T22:02:08.643Z DEBUG [rbot::exchange::ftx::rest] download time from 1668009079906443 2022-11-09T15:51:19.906443 / to 1668009393816960 2022-11-09T15:56:33.816960\n",
      "2022-11-09T22:02:08.643Z DEBUG [rbot::exchange::ftx::rest] 5000 trades / 293791 [us]\n",
      "2022-11-09T22:02:08.644Z DEBUG [rbot::exchange::ftx::rest] download trade to: 2022-11-09T13:16:58.840133-2022-11-09T15:51:19.906443(1668009079906443)\n",
      "2022-11-09T22:02:08.644Z DEBUG [rbot::exchange::ftx::rest] https://ftx.com/api/markets/BTC-PERP/trades?start_time=1667999818&end_time=1668009080 / 2022-11-09T13:16:58.000000 -> 2022-11-09T15:51:20.000000\n",
      "2022-11-09T22:02:08.645Z DEBUG [reqwest::connect] starting new connection: https://ftx.com/\n",
      "2022-11-09T22:02:09.291Z DEBUG [rbot::exchange::ftx::rest] download time from 1668008855167852 2022-11-09T15:47:35.167852 / to 1668009079986031 2022-11-09T15:51:19.986031\n",
      "2022-11-09T22:02:09.291Z DEBUG [rbot::exchange::ftx::rest] 5000 trades / 646420 [us]\n",
      "2022-11-09T22:02:09.292Z DEBUG [rbot::exchange::ftx::rest] download trade to: 2022-11-09T13:16:58.840133-2022-11-09T15:47:35.167852(1668008855167852)\n",
      "2022-11-09T22:02:09.292Z DEBUG [rbot::exchange::ftx::rest] https://ftx.com/api/markets/BTC-PERP/trades?start_time=1667999818&end_time=1668008856 / 2022-11-09T13:16:58.000000 -> 2022-11-09T15:47:36.000000\n",
      "2022-11-09T22:02:09.292Z DEBUG [reqwest::connect] starting new connection: https://ftx.com/\n",
      "2022-11-09T22:02:10.389Z DEBUG [rbot::exchange::ftx::rest] download time from 1668008681737082 2022-11-09T15:44:41.737082 / to 1668008855934375 2022-11-09T15:47:35.934375\n",
      "2022-11-09T22:02:10.389Z DEBUG [rbot::exchange::ftx::rest] 5000 trades / 1096774 [us]\n",
      "2022-11-09T22:02:10.390Z DEBUG [rbot::exchange::ftx::rest] download trade to: 2022-11-09T13:16:58.840133-2022-11-09T15:44:41.737082(1668008681737082)\n",
      "2022-11-09T22:02:10.390Z DEBUG [rbot::exchange::ftx::rest] https://ftx.com/api/markets/BTC-PERP/trades?start_time=1667999818&end_time=1668008682 / 2022-11-09T13:16:58.000000 -> 2022-11-09T15:44:42.000000\n",
      "2022-11-09T22:02:10.390Z DEBUG [reqwest::connect] starting new connection: https://ftx.com/\n",
      "2022-11-09T22:02:11.015Z DEBUG [rbot::exchange::ftx::rest] download time from 1668008583999135 2022-11-09T15:43:03.999135 / to 1668008681979869 2022-11-09T15:44:41.979869\n",
      "2022-11-09T22:02:11.015Z DEBUG [rbot::exchange::ftx::rest] 5000 trades / 625020 [us]\n",
      "2022-11-09T22:02:11.016Z DEBUG [rbot::exchange::ftx::rest] download trade to: 2022-11-09T13:16:58.840133-2022-11-09T15:43:03.999135(1668008583999135)\n",
      "2022-11-09T22:02:11.016Z DEBUG [rbot::exchange::ftx::rest] https://ftx.com/api/markets/BTC-PERP/trades?start_time=1667999818&end_time=1668008584 / 2022-11-09T13:16:58.000000 -> 2022-11-09T15:43:04.000000\n",
      "2022-11-09T22:02:11.016Z DEBUG [reqwest::connect] starting new connection: https://ftx.com/\n",
      "2022-11-09T22:02:11.828Z DEBUG [rbot::exchange::ftx::rest] download time from 1668008381013021 2022-11-09T15:39:41.013021 / to 1668008583999135 2022-11-09T15:43:03.999135\n",
      "2022-11-09T22:02:11.828Z DEBUG [rbot::exchange::ftx::rest] 5000 trades / 811291 [us]\n",
      "2022-11-09T22:02:11.829Z DEBUG [rbot::exchange::ftx::rest] download trade to: 2022-11-09T13:16:58.840133-2022-11-09T15:39:41.013021(1668008381013021)\n",
      "2022-11-09T22:02:11.829Z DEBUG [rbot::exchange::ftx::rest] https://ftx.com/api/markets/BTC-PERP/trades?start_time=1667999818&end_time=1668008382 / 2022-11-09T13:16:58.000000 -> 2022-11-09T15:39:42.000000\n",
      "2022-11-09T22:02:11.829Z DEBUG [reqwest::connect] starting new connection: https://ftx.com/\n",
      "2022-11-09T22:02:12.437Z DEBUG [rbot::exchange::ftx::rest] download time from 1668008264533089 2022-11-09T15:37:44.533089 / to 1668008381998596 2022-11-09T15:39:41.998596\n",
      "2022-11-09T22:02:12.437Z DEBUG [rbot::exchange::ftx::rest] 5000 trades / 607606 [us]\n",
      "2022-11-09T22:02:12.438Z DEBUG [rbot::exchange::ftx::rest] download trade to: 2022-11-09T13:16:58.840133-2022-11-09T15:37:44.533089(1668008264533089)\n",
      "2022-11-09T22:02:12.438Z DEBUG [rbot::exchange::ftx::rest] https://ftx.com/api/markets/BTC-PERP/trades?start_time=1667999818&end_time=1668008265 / 2022-11-09T13:16:58.000000 -> 2022-11-09T15:37:45.000000\n",
      "2022-11-09T22:02:12.438Z DEBUG [reqwest::connect] starting new connection: https://ftx.com/\n",
      "2022-11-09T22:02:13.282Z DEBUG [rbot::exchange::ftx::rest] download time from 1668008192053044 2022-11-09T15:36:32.053044 / to 1668008264921218 2022-11-09T15:37:44.921218\n",
      "2022-11-09T22:02:13.282Z DEBUG [rbot::exchange::ftx::rest] 5000 trades / 843959 [us]\n",
      "2022-11-09T22:02:13.283Z DEBUG [rbot::exchange::ftx::rest] download trade to: 2022-11-09T13:16:58.840133-2022-11-09T15:36:32.053044(1668008192053044)\n",
      "2022-11-09T22:02:13.283Z DEBUG [rbot::exchange::ftx::rest] https://ftx.com/api/markets/BTC-PERP/trades?start_time=1667999818&end_time=1668008193 / 2022-11-09T13:16:58.000000 -> 2022-11-09T15:36:33.000000\n",
      "2022-11-09T22:02:13.283Z DEBUG [reqwest::connect] starting new connection: https://ftx.com/\n",
      "2022-11-09T22:02:14.282Z DEBUG [rbot::exchange::ftx::rest] download time from 1668008028704060 2022-11-09T15:33:48.704060 / to 1668008192901606 2022-11-09T15:36:32.901606\n",
      "2022-11-09T22:02:14.282Z DEBUG [rbot::exchange::ftx::rest] 5000 trades / 998797 [us]\n",
      "2022-11-09T22:02:14.283Z DEBUG [rbot::exchange::ftx::rest] download trade to: 2022-11-09T13:16:58.840133-2022-11-09T15:33:48.704060(1668008028704060)\n",
      "2022-11-09T22:02:14.283Z DEBUG [rbot::exchange::ftx::rest] https://ftx.com/api/markets/BTC-PERP/trades?start_time=1667999818&end_time=1668008029 / 2022-11-09T13:16:58.000000 -> 2022-11-09T15:33:49.000000\n",
      "2022-11-09T22:02:14.283Z DEBUG [reqwest::connect] starting new connection: https://ftx.com/\n",
      "2022-11-09T22:02:14.903Z DEBUG [rbot::exchange::ftx::rest] download time from 1668007607323363 2022-11-09T15:26:47.323363 / to 1668008028948141 2022-11-09T15:33:48.948141\n",
      "2022-11-09T22:02:14.903Z DEBUG [rbot::exchange::ftx::rest] 5000 trades / 619587 [us]\n",
      "2022-11-09T22:02:14.904Z DEBUG [rbot::exchange::ftx::rest] download trade to: 2022-11-09T13:16:58.840133-2022-11-09T15:26:47.323363(1668007607323363)\n",
      "2022-11-09T22:02:14.904Z DEBUG [rbot::exchange::ftx::rest] https://ftx.com/api/markets/BTC-PERP/trades?start_time=1667999818&end_time=1668007608 / 2022-11-09T13:16:58.000000 -> 2022-11-09T15:26:48.000000\n",
      "2022-11-09T22:02:14.904Z DEBUG [reqwest::connect] starting new connection: https://ftx.com/\n",
      "2022-11-09T22:02:15.629Z DEBUG [rbot::exchange::ftx::rest] download time from 1668007090429699 2022-11-09T15:18:10.429699 / to 1668007607920603 2022-11-09T15:26:47.920603\n",
      "2022-11-09T22:02:15.629Z DEBUG [rbot::exchange::ftx::rest] 5000 trades / 725031 [us]\n",
      "2022-11-09T22:02:15.630Z DEBUG [rbot::exchange::ftx::rest] download trade to: 2022-11-09T13:16:58.840133-2022-11-09T15:18:10.429699(1668007090429699)\n",
      "2022-11-09T22:02:15.630Z DEBUG [rbot::exchange::ftx::rest] https://ftx.com/api/markets/BTC-PERP/trades?start_time=1667999818&end_time=1668007091 / 2022-11-09T13:16:58.000000 -> 2022-11-09T15:18:11.000000\n",
      "2022-11-09T22:02:15.631Z DEBUG [reqwest::connect] starting new connection: https://ftx.com/\n",
      "2022-11-09T22:02:16.544Z DEBUG [rbot::exchange::ftx::rest] download time from 1668006650940328 2022-11-09T15:10:50.940328 / to 1668007090619208 2022-11-09T15:18:10.619208\n",
      "2022-11-09T22:02:16.544Z DEBUG [rbot::exchange::ftx::rest] 5000 trades / 913383 [us]\n",
      "2022-11-09T22:02:16.545Z DEBUG [rbot::exchange::ftx::rest] download trade to: 2022-11-09T13:16:58.840133-2022-11-09T15:10:50.940328(1668006650940328)\n",
      "2022-11-09T22:02:16.545Z DEBUG [rbot::exchange::ftx::rest] https://ftx.com/api/markets/BTC-PERP/trades?start_time=1667999818&end_time=1668006651 / 2022-11-09T13:16:58.000000 -> 2022-11-09T15:10:51.000000\n",
      "2022-11-09T22:02:16.545Z DEBUG [reqwest::connect] starting new connection: https://ftx.com/\n",
      "2022-11-09T22:02:17.353Z DEBUG [rbot::exchange::ftx::rest] download time from 1668006211788490 2022-11-09T15:03:31.788490 / to 1668006650940328 2022-11-09T15:10:50.940328\n",
      "2022-11-09T22:02:17.353Z DEBUG [rbot::exchange::ftx::rest] 5000 trades / 807749 [us]\n",
      "2022-11-09T22:02:17.354Z DEBUG [rbot::exchange::ftx::rest] download trade to: 2022-11-09T13:16:58.840133-2022-11-09T15:03:31.788490(1668006211788490)\n",
      "2022-11-09T22:02:17.354Z DEBUG [rbot::exchange::ftx::rest] https://ftx.com/api/markets/BTC-PERP/trades?start_time=1667999818&end_time=1668006212 / 2022-11-09T13:16:58.000000 -> 2022-11-09T15:03:32.000000\n",
      "2022-11-09T22:02:17.355Z DEBUG [reqwest::connect] starting new connection: https://ftx.com/\n",
      "2022-11-09T22:02:18.184Z DEBUG [rbot::exchange::ftx::rest] download time from 1668005747675216 2022-11-09T14:55:47.675216 / to 1668006211886853 2022-11-09T15:03:31.886853\n",
      "2022-11-09T22:02:18.184Z DEBUG [rbot::exchange::ftx::rest] 5000 trades / 830115 [us]\n",
      "2022-11-09T22:02:18.185Z DEBUG [rbot::exchange::ftx::rest] download trade to: 2022-11-09T13:16:58.840133-2022-11-09T14:55:47.675216(1668005747675216)\n",
      "2022-11-09T22:02:18.185Z DEBUG [rbot::exchange::ftx::rest] https://ftx.com/api/markets/BTC-PERP/trades?start_time=1667999818&end_time=1668005748 / 2022-11-09T13:16:58.000000 -> 2022-11-09T14:55:48.000000\n",
      "2022-11-09T22:02:18.186Z DEBUG [reqwest::connect] starting new connection: https://ftx.com/\n",
      "2022-11-09T22:02:18.897Z DEBUG [rbot::exchange::ftx::rest] download time from 1668005265121338 2022-11-09T14:47:45.121338 / to 1668005747935627 2022-11-09T14:55:47.935627\n",
      "2022-11-09T22:02:18.897Z DEBUG [rbot::exchange::ftx::rest] 5000 trades / 711935 [us]\n",
      "2022-11-09T22:02:18.899Z DEBUG [rbot::exchange::ftx::rest] download trade to: 2022-11-09T13:16:58.840133-2022-11-09T14:47:45.121338(1668005265121338)\n",
      "2022-11-09T22:02:18.899Z DEBUG [rbot::exchange::ftx::rest] https://ftx.com/api/markets/BTC-PERP/trades?start_time=1667999818&end_time=1668005266 / 2022-11-09T13:16:58.000000 -> 2022-11-09T14:47:46.000000\n",
      "2022-11-09T22:02:18.899Z DEBUG [reqwest::connect] starting new connection: https://ftx.com/\n",
      "2022-11-09T22:02:19.716Z DEBUG [rbot::exchange::ftx::rest] download time from 1668005002220733 2022-11-09T14:43:22.220733 / to 1668005265735654 2022-11-09T14:47:45.735654\n",
      "2022-11-09T22:02:19.716Z DEBUG [rbot::exchange::ftx::rest] 5000 trades / 817874 [us]\n",
      "2022-11-09T22:02:19.718Z DEBUG [rbot::exchange::ftx::rest] download trade to: 2022-11-09T13:16:58.840133-2022-11-09T14:43:22.220733(1668005002220733)\n",
      "2022-11-09T22:02:19.718Z DEBUG [rbot::exchange::ftx::rest] https://ftx.com/api/markets/BTC-PERP/trades?start_time=1667999818&end_time=1668005003 / 2022-11-09T13:16:58.000000 -> 2022-11-09T14:43:23.000000\n",
      "2022-11-09T22:02:19.718Z DEBUG [reqwest::connect] starting new connection: https://ftx.com/\n",
      "2022-11-09T22:02:20.226Z DEBUG [rbot::exchange::ftx::rest] download time from 1668004516210291 2022-11-09T14:35:16.210291 / to 1668005002220733 2022-11-09T14:43:22.220733\n",
      "2022-11-09T22:02:20.226Z DEBUG [rbot::exchange::ftx::rest] 5000 trades / 508467 [us]\n",
      "2022-11-09T22:02:20.227Z DEBUG [rbot::exchange::ftx::rest] download trade to: 2022-11-09T13:16:58.840133-2022-11-09T14:35:16.210291(1668004516210291)\n",
      "2022-11-09T22:02:20.228Z DEBUG [rbot::exchange::ftx::rest] https://ftx.com/api/markets/BTC-PERP/trades?start_time=1667999818&end_time=1668004517 / 2022-11-09T13:16:58.000000 -> 2022-11-09T14:35:17.000000\n",
      "2022-11-09T22:02:20.228Z DEBUG [reqwest::connect] starting new connection: https://ftx.com/\n",
      "2022-11-09T22:02:20.894Z DEBUG [rbot::exchange::ftx::rest] download time from 1668004058401921 2022-11-09T14:27:38.401921 / to 1668004516822715 2022-11-09T14:35:16.822715\n",
      "2022-11-09T22:02:20.894Z DEBUG [rbot::exchange::ftx::rest] 5000 trades / 666174 [us]\n",
      "2022-11-09T22:02:20.895Z DEBUG [rbot::exchange::ftx::rest] download trade to: 2022-11-09T13:16:58.840133-2022-11-09T14:27:38.401921(1668004058401921)\n",
      "2022-11-09T22:02:20.895Z DEBUG [rbot::exchange::ftx::rest] https://ftx.com/api/markets/BTC-PERP/trades?start_time=1667999818&end_time=1668004059 / 2022-11-09T13:16:58.000000 -> 2022-11-09T14:27:39.000000\n",
      "2022-11-09T22:02:20.895Z DEBUG [reqwest::connect] starting new connection: https://ftx.com/\n",
      "2022-11-09T22:02:21.445Z DEBUG [rbot::exchange::ftx::rest] download time from 1668003441688892 2022-11-09T14:17:21.688892 / to 1668004058970712 2022-11-09T14:27:38.970712\n",
      "2022-11-09T22:02:21.445Z DEBUG [rbot::exchange::ftx::rest] 5000 trades / 550217 [us]\n",
      "2022-11-09T22:02:21.446Z DEBUG [rbot::exchange::ftx::rest] download trade to: 2022-11-09T13:16:58.840133-2022-11-09T14:17:21.688892(1668003441688892)\n",
      "2022-11-09T22:02:21.446Z DEBUG [rbot::exchange::ftx::rest] https://ftx.com/api/markets/BTC-PERP/trades?start_time=1667999818&end_time=1668003442 / 2022-11-09T13:16:58.000000 -> 2022-11-09T14:17:22.000000\n",
      "2022-11-09T22:02:21.447Z DEBUG [reqwest::connect] starting new connection: https://ftx.com/\n",
      "2022-11-09T22:02:21.968Z DEBUG [rbot::exchange::ftx::rest] download time from 1668002794314897 2022-11-09T14:06:34.314897 / to 1668003441688892 2022-11-09T14:17:21.688892\n",
      "2022-11-09T22:02:21.968Z DEBUG [rbot::exchange::ftx::rest] 5000 trades / 522108 [us]\n",
      "2022-11-09T22:02:21.970Z DEBUG [rbot::exchange::ftx::rest] download trade to: 2022-11-09T13:16:58.840133-2022-11-09T14:06:34.314897(1668002794314897)\n",
      "2022-11-09T22:02:21.970Z DEBUG [rbot::exchange::ftx::rest] https://ftx.com/api/markets/BTC-PERP/trades?start_time=1667999818&end_time=1668002795 / 2022-11-09T13:16:58.000000 -> 2022-11-09T14:06:35.000000\n",
      "2022-11-09T22:02:21.970Z DEBUG [reqwest::connect] starting new connection: https://ftx.com/\n",
      "2022-11-09T22:02:22.483Z DEBUG [rbot::exchange::ftx::rest] download time from 1668001961145863 2022-11-09T13:52:41.145863 / to 1668002794314897 2022-11-09T14:06:34.314897\n",
      "2022-11-09T22:02:22.483Z DEBUG [rbot::exchange::ftx::rest] 5000 trades / 513367 [us]\n",
      "2022-11-09T22:02:22.484Z DEBUG [rbot::exchange::ftx::rest] download trade to: 2022-11-09T13:16:58.840133-2022-11-09T13:52:41.145863(1668001961145863)\n",
      "2022-11-09T22:02:22.484Z DEBUG [rbot::exchange::ftx::rest] https://ftx.com/api/markets/BTC-PERP/trades?start_time=1667999818&end_time=1668001962 / 2022-11-09T13:16:58.000000 -> 2022-11-09T13:52:42.000000\n",
      "2022-11-09T22:02:22.485Z DEBUG [reqwest::connect] starting new connection: https://ftx.com/\n",
      "2022-11-09T22:02:22.989Z DEBUG [rbot::exchange::ftx::rest] download time from 1668001274620504 2022-11-09T13:41:14.620504 / to 1668001961760397 2022-11-09T13:52:41.760397\n",
      "2022-11-09T22:02:22.989Z DEBUG [rbot::exchange::ftx::rest] 5000 trades / 504932 [us]\n",
      "2022-11-09T22:02:22.990Z DEBUG [rbot::exchange::ftx::rest] download trade to: 2022-11-09T13:16:58.840133-2022-11-09T13:41:14.620504(1668001274620504)\n",
      "2022-11-09T22:02:22.990Z DEBUG [rbot::exchange::ftx::rest] https://ftx.com/api/markets/BTC-PERP/trades?start_time=1667999818&end_time=1668001275 / 2022-11-09T13:16:58.000000 -> 2022-11-09T13:41:15.000000\n",
      "2022-11-09T22:02:22.991Z DEBUG [reqwest::connect] starting new connection: https://ftx.com/\n",
      "2022-11-09T22:02:23.530Z DEBUG [rbot::exchange::ftx::rest] download time from 1668000663419806 2022-11-09T13:31:03.419806 / to 1668001274620504 2022-11-09T13:41:14.620504\n",
      "2022-11-09T22:02:23.530Z DEBUG [rbot::exchange::ftx::rest] 5000 trades / 539722 [us]\n",
      "2022-11-09T22:02:23.531Z DEBUG [rbot::exchange::ftx::rest] download trade to: 2022-11-09T13:16:58.840133-2022-11-09T13:31:03.419806(1668000663419806)\n",
      "2022-11-09T22:02:23.531Z DEBUG [rbot::exchange::ftx::rest] https://ftx.com/api/markets/BTC-PERP/trades?start_time=1667999818&end_time=1668000664 / 2022-11-09T13:16:58.000000 -> 2022-11-09T13:31:04.000000\n",
      "2022-11-09T22:02:23.532Z DEBUG [reqwest::connect] starting new connection: https://ftx.com/\n",
      "2022-11-09T22:02:23.881Z DEBUG [rbot::exchange::ftx::rest] download time from 1668000147138948 2022-11-09T13:22:27.138948 / to 1668000663893696 2022-11-09T13:31:03.893696\n",
      "2022-11-09T22:02:23.881Z DEBUG [rbot::exchange::ftx::rest] 5000 trades / 349466 [us]\n",
      "2022-11-09T22:02:23.882Z DEBUG [rbot::exchange::ftx::rest] download trade to: 2022-11-09T13:16:58.840133-2022-11-09T13:22:27.138948(1668000147138948)\n",
      "2022-11-09T22:02:23.882Z DEBUG [rbot::exchange::ftx::rest] https://ftx.com/api/markets/BTC-PERP/trades?start_time=1667999818&end_time=1668000148 / 2022-11-09T13:16:58.000000 -> 2022-11-09T13:22:28.000000\n",
      "2022-11-09T22:02:23.882Z DEBUG [reqwest::connect] starting new connection: https://ftx.com/\n",
      "2022-11-09T22:02:24.201Z DEBUG [rbot::exchange::ftx::rest] download time from 1667999818104570 2022-11-09T13:16:58.104570 / to 1668000147951644 2022-11-09T13:22:27.951644\n",
      "2022-11-09T22:02:24.201Z DEBUG [rbot::exchange::ftx::rest] 4560 trades / 319013 [us]\n",
      "2022-11-09T22:03:28.212Z DEBUG [rbot::db::sqlite] 2022-09-04T09:51:42.211313- gap1662285102211313\n",
      "2022-11-09T22:03:28.212Z DEBUG [rbot::db::sqlite] 2022-10-16T22:12:04.251999- gap135514897\n"
     ]
    }
   ],
   "source": [
    "rbot.init_log()\n",
    "Market.dummy_mode()\n",
    "Market.open(\"FTX\", \"BTC-PERP\")\n",
    "Market.download(1)\n",
    "Market.get(\"FTX\", \"BTC-PERP\")"
   ]
  },
  {
   "cell_type": "code",
   "execution_count": 15,
   "metadata": {},
   "outputs": [],
   "source": [
    "ftx = Market.get(\"FTX\", \"BTC-PERP\")"
   ]
  },
  {
   "cell_type": "code",
   "execution_count": 16,
   "metadata": {},
   "outputs": [
    {
     "data": {
      "text/plain": [
       "'{\"start\": 2022-09-04T09:51:40.853933, \"end\": 2022-11-09T12:43:36.740105, \"count\": 29173460}'"
      ]
     },
     "execution_count": 16,
     "metadata": {},
     "output_type": "execute_result"
    }
   ],
   "source": [
    "ftx.info()"
   ]
  },
  {
   "cell_type": "code",
   "execution_count": 17,
   "metadata": {
    "pycharm": {
     "name": "#%%\n"
    }
   },
   "outputs": [],
   "source": [
    "class Session:\n",
    "    def __init__(self, market, agent):\n",
    "        self.session = rbot._DummySession()\n",
    "        self.market = market\n",
    "        self.agent = agent\n",
    "\n",
    "        if hasattr(self.agent, 'clock_interval'):\n",
    "            self.clock_interval = self.agent.clock_interval()\n",
    "        else:\n",
    "            print(\"Agent class has no clock_interval() sttings, use default 60[sec]\");            \n",
    "            self.clock_interval = 60\n",
    "\n",
    "        \n",
    "    def __getattr__(self, func):\n",
    "        return getattr(self.session, func)\n",
    "\n",
    "                                       \n",
    "    def want_on_tick(self):\n",
    "        return hasattr(self.agent, 'on_tick')\n",
    "\n",
    "    def want_on_clock(self):\n",
    "        return hasattr(self.agent, 'on_clock')\n",
    "    \n",
    "    def want_on_update(self):\n",
    "        return hasattr(self.agent, 'on_update')\n",
    "    \n",
    "    def make_orders(self, orders):\n",
    "        for order in orders:\n",
    "            self.make_order(order)\n",
    "    \n",
    "    def make_order(self, order):\n",
    "        self.session.make_order(order)\n",
    "    \n",
    "    def on_tick(self, time, price, side, size):\n",
    "        return self.agent.on_tick(self, time, price, side, size)\n",
    "    \n",
    "    def on_clock(self):\n",
    "        return self.agent.on_clock(self, time)\n",
    "        \n",
    "    def on_update(self, time, order_result):\n",
    "        return self.agent.on_update(self, time, order_result)\n",
    "        \n",
    "    def ohlcvv(self, time_window, num_of_bars, exchange_name=None, market_name=None):\n",
    "        if market_name == None:\n",
    "            market = self.market\n",
    "        else:\n",
    "            market = Market.get(exchange_name, market_name)\n",
    "\n",
    "        now = self.session.current_timestamp\n",
    "        return market.ohlcvv(now - time_window * num_of_bars * 1_000_000, now, time_window)\n",
    "\n",
    "        "
   ]
  },
  {
   "cell_type": "code",
   "execution_count": 19,
   "metadata": {},
   "outputs": [],
   "source": [
    "s = Session(ftx, Agent())"
   ]
  },
  {
   "cell_type": "code",
   "execution_count": 20,
   "metadata": {},
   "outputs": [
    {
     "data": {
      "text/plain": [
       "True"
      ]
     },
     "execution_count": 20,
     "metadata": {},
     "output_type": "execute_result"
    }
   ],
   "source": [
    "s.want_on_tick()"
   ]
  },
  {
   "cell_type": "code",
   "execution_count": 21,
   "metadata": {},
   "outputs": [
    {
     "name": "stdout",
     "output_type": "stream",
     "text": [
      "tick 0 1 1 buy 10.0\n"
     ]
    }
   ],
   "source": [
    "s.on_tick(1, 1, \"buy\", 10.0)"
   ]
  },
  {
   "cell_type": "code",
   "execution_count": null,
   "metadata": {},
   "outputs": [],
   "source": []
  },
  {
   "cell_type": "code",
   "execution_count": 22,
   "metadata": {
    "pycharm": {
     "name": "#%%\n"
    }
   },
   "outputs": [
    {
     "name": "stdout",
     "output_type": "stream",
     "text": [
      "2022-11-09T12:44:54.676Z DEBUG [rbot::db::sqlite] cache update all 1969-12-31T23:57:00.000000 -> 1970-01-01T00:00:00.000000\n",
      "2022-11-09T12:44:54.676Z DEBUG [rbot::db::sqlite] create iter 0 microsec\n",
      "2022-11-09T12:45:19.434Z DEBUG [rbot::db::df] Select from 1969-12-31T23:57:00.000000 -> 1970-01-01T00:00:00.000000\n",
      "2022-11-09T12:45:19.819Z DEBUG [rbot::db::df] ohlc \"1969-12-31T23:57:00.000000\" -> \"1970-01-01T00:00:00.000000\"\n",
      "2022-11-09T12:45:19.819Z DEBUG [rbot::db::df] Select from 1969-12-31T23:57:00.000000 -> 1970-01-01T00:00:00.000000\n"
     ]
    }
   ],
   "source": [
    "ohlcv = s.ohlcvv(60, 3)"
   ]
  },
  {
   "cell_type": "code",
   "execution_count": 28,
   "metadata": {
    "pycharm": {
     "name": "#%%\n"
    }
   },
   "outputs": [
    {
     "name": "stdout",
     "output_type": "stream",
     "text": [
      "2022-11-09T12:47:19.954Z DEBUG [rbot::db::sqlite] create iter 1 microsec\n",
      "2022-11-09T12:47:19.955Z DEBUG [rbot::db::sqlite] load data AFTER cache df1=(29173460, 5) df2=(2, 5)\n",
      "2022-11-09T12:47:19.955Z DEBUG [rbot::db::df] Select from 1970-01-01T00:00:00.000000 -> 2022-11-09T12:43:36.740105\n",
      "2022-11-09T12:47:20.107Z DEBUG [rbot::db::sqlite] cache update diff after 2022-11-09T12:37:00.000000 -> 2022-11-09T12:47:00.000000\n",
      "2022-11-09T12:47:20.107Z DEBUG [rbot::db::df] Select from 1970-01-01T00:00:00.000000 -> 2022-11-09T12:37:00.000000\n",
      "2022-11-09T12:47:20.107Z DEBUG [rbot::db::df] Select from 2022-11-09T12:37:00.000000 -> 2022-11-09T12:47:00.000000\n",
      "2022-11-09T12:47:20.203Z DEBUG [rbot::db::df] Select from 1970-01-01T00:00:00.000000 -> 2022-11-09T12:37:00.000000\n",
      "2022-11-09T12:47:20.204Z DEBUG [rbot::db::df] Select from 2022-11-09T12:37:00.000000 -> 2022-11-09T12:47:19.931429\n"
     ]
    }
   ],
   "source": [
    "ohlcv2 = Market.get(\"FTX\", \"BTC-PERP\").ohlcvv(rbot.NOW()- 1_000_000*60*10, rbot.NOW(), 10)"
   ]
  },
  {
   "cell_type": "code",
   "execution_count": 26,
   "metadata": {
    "pycharm": {
     "name": "#%%\n"
    }
   },
   "outputs": [
    {
     "name": "stdout",
     "output_type": "stream",
     "text": [
      "2022-11-09T12:46:54.471Z DEBUG [rbot::db::sqlite] create iter 8 microsec\n",
      "2022-11-09T12:46:54.472Z DEBUG [rbot::db::sqlite] load data before cache df1=(0, 5) df2=(29173460, 5)\n",
      "2022-11-09T12:46:54.479Z DEBUG [rbot::db::df] Select from 1970-01-01T00:00:00.000000 -> 2022-09-04T09:51:40.853933\n",
      "2022-11-09T12:46:54.479Z DEBUG [rbot::db::sqlite] cache update diff before 1969-12-31T23:50:00.000000 -> 2022-09-04T09:51:00.000000\n",
      "2022-11-09T12:46:54.479Z DEBUG [rbot::db::df] Select from 1969-12-31T23:50:00.000000 -> 2022-09-04T09:51:00.000000\n",
      "2022-11-09T12:46:54.620Z DEBUG [rbot::db::df] Select from 2022-09-04T09:51:00.000000 -> 1970-01-01T00:00:00.000000\n",
      "2022-11-09T12:46:54.621Z DEBUG [rbot::db::df] Select from 1970-01-01T00:00:00.000000 -> 2022-09-04T09:51:00.000000\n",
      "2022-11-09T12:46:54.621Z DEBUG [rbot::db::df] Select from 1969-12-31T23:50:00.000000 -> 1970-01-01T00:00:00.000001\n"
     ]
    }
   ],
   "source": [
    "ohlcv2 = Market.get(\"FTX\", \"BTC-PERP\").ohlcvv(- 1_000_000*60*10, 1, 10)\n"
   ]
  },
  {
   "cell_type": "code",
   "execution_count": 29,
   "metadata": {
    "pycharm": {
     "name": "#%%\n"
    }
   },
   "outputs": [
    {
     "data": {
      "text/html": [
       "<div>\n",
       "<style scoped>\n",
       "    .dataframe tbody tr th:only-of-type {\n",
       "        vertical-align: middle;\n",
       "    }\n",
       "\n",
       "    .dataframe tbody tr th {\n",
       "        vertical-align: top;\n",
       "    }\n",
       "\n",
       "    .dataframe thead th {\n",
       "        text-align: right;\n",
       "    }\n",
       "</style>\n",
       "<table border=\"1\" class=\"dataframe\">\n",
       "  <thead>\n",
       "    <tr style=\"text-align: right;\">\n",
       "      <th></th>\n",
       "      <th>order_side</th>\n",
       "      <th>open</th>\n",
       "      <th>high</th>\n",
       "      <th>low</th>\n",
       "      <th>close</th>\n",
       "      <th>vol</th>\n",
       "      <th>count</th>\n",
       "    </tr>\n",
       "    <tr>\n",
       "      <th>timestamp</th>\n",
       "      <th></th>\n",
       "      <th></th>\n",
       "      <th></th>\n",
       "      <th></th>\n",
       "      <th></th>\n",
       "      <th></th>\n",
       "      <th></th>\n",
       "    </tr>\n",
       "  </thead>\n",
       "  <tbody>\n",
       "    <tr>\n",
       "      <th>2022-11-09 12:37:00+00:00</th>\n",
       "      <td>Buy</td>\n",
       "      <td>18130.0</td>\n",
       "      <td>18141.0</td>\n",
       "      <td>18117.0</td>\n",
       "      <td>18121.0</td>\n",
       "      <td>11.0998</td>\n",
       "      <td>51.0</td>\n",
       "    </tr>\n",
       "    <tr>\n",
       "      <th>2022-11-09 12:37:00+00:00</th>\n",
       "      <td>Sell</td>\n",
       "      <td>18136.0</td>\n",
       "      <td>18140.0</td>\n",
       "      <td>18117.0</td>\n",
       "      <td>18117.0</td>\n",
       "      <td>19.5994</td>\n",
       "      <td>60.0</td>\n",
       "    </tr>\n",
       "    <tr>\n",
       "      <th>2022-11-09 12:37:10+00:00</th>\n",
       "      <td>Buy</td>\n",
       "      <td>18125.0</td>\n",
       "      <td>18128.0</td>\n",
       "      <td>18120.0</td>\n",
       "      <td>18128.0</td>\n",
       "      <td>2.2613</td>\n",
       "      <td>32.0</td>\n",
       "    </tr>\n",
       "    <tr>\n",
       "      <th>2022-11-09 12:37:10+00:00</th>\n",
       "      <td>Sell</td>\n",
       "      <td>18126.0</td>\n",
       "      <td>18126.0</td>\n",
       "      <td>18118.0</td>\n",
       "      <td>18126.0</td>\n",
       "      <td>8.2731</td>\n",
       "      <td>31.0</td>\n",
       "    </tr>\n",
       "    <tr>\n",
       "      <th>2022-11-09 12:37:20+00:00</th>\n",
       "      <td>Buy</td>\n",
       "      <td>18132.0</td>\n",
       "      <td>18151.0</td>\n",
       "      <td>18130.0</td>\n",
       "      <td>18149.0</td>\n",
       "      <td>13.4190</td>\n",
       "      <td>33.0</td>\n",
       "    </tr>\n",
       "    <tr>\n",
       "      <th>...</th>\n",
       "      <td>...</td>\n",
       "      <td>...</td>\n",
       "      <td>...</td>\n",
       "      <td>...</td>\n",
       "      <td>...</td>\n",
       "      <td>...</td>\n",
       "      <td>...</td>\n",
       "    </tr>\n",
       "    <tr>\n",
       "      <th>2022-11-09 12:43:10+00:00</th>\n",
       "      <td>Sell</td>\n",
       "      <td>18206.0</td>\n",
       "      <td>18216.0</td>\n",
       "      <td>18192.0</td>\n",
       "      <td>18209.0</td>\n",
       "      <td>15.9797</td>\n",
       "      <td>71.0</td>\n",
       "    </tr>\n",
       "    <tr>\n",
       "      <th>2022-11-09 12:43:20+00:00</th>\n",
       "      <td>Buy</td>\n",
       "      <td>18213.0</td>\n",
       "      <td>18222.0</td>\n",
       "      <td>18213.0</td>\n",
       "      <td>18216.0</td>\n",
       "      <td>10.8137</td>\n",
       "      <td>48.0</td>\n",
       "    </tr>\n",
       "    <tr>\n",
       "      <th>2022-11-09 12:43:20+00:00</th>\n",
       "      <td>Sell</td>\n",
       "      <td>18214.0</td>\n",
       "      <td>18222.0</td>\n",
       "      <td>18214.0</td>\n",
       "      <td>18216.0</td>\n",
       "      <td>5.5584</td>\n",
       "      <td>21.0</td>\n",
       "    </tr>\n",
       "    <tr>\n",
       "      <th>2022-11-09 12:43:30+00:00</th>\n",
       "      <td>Buy</td>\n",
       "      <td>18217.0</td>\n",
       "      <td>18226.0</td>\n",
       "      <td>18217.0</td>\n",
       "      <td>18224.0</td>\n",
       "      <td>4.0441</td>\n",
       "      <td>42.0</td>\n",
       "    </tr>\n",
       "    <tr>\n",
       "      <th>2022-11-09 12:43:30+00:00</th>\n",
       "      <td>Sell</td>\n",
       "      <td>18216.0</td>\n",
       "      <td>18226.0</td>\n",
       "      <td>18216.0</td>\n",
       "      <td>18223.0</td>\n",
       "      <td>9.3071</td>\n",
       "      <td>29.0</td>\n",
       "    </tr>\n",
       "  </tbody>\n",
       "</table>\n",
       "<p>80 rows × 7 columns</p>\n",
       "</div>"
      ],
      "text/plain": [
       "                          order_side     open     high      low    close  \\\n",
       "timestamp                                                                  \n",
       "2022-11-09 12:37:00+00:00        Buy  18130.0  18141.0  18117.0  18121.0   \n",
       "2022-11-09 12:37:00+00:00       Sell  18136.0  18140.0  18117.0  18117.0   \n",
       "2022-11-09 12:37:10+00:00        Buy  18125.0  18128.0  18120.0  18128.0   \n",
       "2022-11-09 12:37:10+00:00       Sell  18126.0  18126.0  18118.0  18126.0   \n",
       "2022-11-09 12:37:20+00:00        Buy  18132.0  18151.0  18130.0  18149.0   \n",
       "...                              ...      ...      ...      ...      ...   \n",
       "2022-11-09 12:43:10+00:00       Sell  18206.0  18216.0  18192.0  18209.0   \n",
       "2022-11-09 12:43:20+00:00        Buy  18213.0  18222.0  18213.0  18216.0   \n",
       "2022-11-09 12:43:20+00:00       Sell  18214.0  18222.0  18214.0  18216.0   \n",
       "2022-11-09 12:43:30+00:00        Buy  18217.0  18226.0  18217.0  18224.0   \n",
       "2022-11-09 12:43:30+00:00       Sell  18216.0  18226.0  18216.0  18223.0   \n",
       "\n",
       "                               vol  count  \n",
       "timestamp                                  \n",
       "2022-11-09 12:37:00+00:00  11.0998   51.0  \n",
       "2022-11-09 12:37:00+00:00  19.5994   60.0  \n",
       "2022-11-09 12:37:10+00:00   2.2613   32.0  \n",
       "2022-11-09 12:37:10+00:00   8.2731   31.0  \n",
       "2022-11-09 12:37:20+00:00  13.4190   33.0  \n",
       "...                            ...    ...  \n",
       "2022-11-09 12:43:10+00:00  15.9797   71.0  \n",
       "2022-11-09 12:43:20+00:00  10.8137   48.0  \n",
       "2022-11-09 12:43:20+00:00   5.5584   21.0  \n",
       "2022-11-09 12:43:30+00:00   4.0441   42.0  \n",
       "2022-11-09 12:43:30+00:00   9.3071   29.0  \n",
       "\n",
       "[80 rows x 7 columns]"
      ]
     },
     "execution_count": 29,
     "metadata": {},
     "output_type": "execute_result"
    }
   ],
   "source": [
    "ohlcv2"
   ]
  },
  {
   "cell_type": "code",
   "execution_count": 14,
   "metadata": {
    "pycharm": {
     "name": "#%%\n"
    }
   },
   "outputs": [],
   "source": [
    "s = rbot.Session()"
   ]
  },
  {
   "cell_type": "code",
   "execution_count": 16,
   "metadata": {
    "pycharm": {
     "name": "#%%\n"
    }
   },
   "outputs": [
    {
     "data": {
      "text/plain": [
       "<rbot.Session at 0x1293be0b0>"
      ]
     },
     "execution_count": 16,
     "metadata": {},
     "output_type": "execute_result"
    }
   ],
   "source": [
    "s"
   ]
  },
  {
   "cell_type": "code",
   "execution_count": 19,
   "metadata": {
    "pycharm": {
     "name": "#%%\n"
    }
   },
   "outputs": [],
   "source": [
    "s2 = rbot._DummySession()"
   ]
  },
  {
   "cell_type": "code",
   "execution_count": 20,
   "metadata": {
    "pycharm": {
     "name": "#%%\n"
    }
   },
   "outputs": [
    {
     "data": {
      "text/plain": [
       "0.0"
      ]
     },
     "execution_count": 20,
     "metadata": {},
     "output_type": "execute_result"
    }
   ],
   "source": [
    "s2.get_center_price()"
   ]
  },
  {
   "cell_type": "code",
   "execution_count": 47,
   "metadata": {
    "pycharm": {
     "name": "#%%\n"
    }
   },
   "outputs": [],
   "source": [
    "df2 = pd.read_csv('ftx.csv', names=(\"timestamp\", 'price', 'order_side', 'liquid', 'id'), i)"
   ]
  },
  {
   "cell_type": "code",
   "execution_count": 48,
   "metadata": {
    "pycharm": {
     "name": "#%%\n"
    }
   },
   "outputs": [
    {
     "data": {
      "text/html": [
       "<div>\n",
       "<style scoped>\n",
       "    .dataframe tbody tr th:only-of-type {\n",
       "        vertical-align: middle;\n",
       "    }\n",
       "\n",
       "    .dataframe tbody tr th {\n",
       "        vertical-align: top;\n",
       "    }\n",
       "\n",
       "    .dataframe thead th {\n",
       "        text-align: right;\n",
       "    }\n",
       "</style>\n",
       "<table border=\"1\" class=\"dataframe\">\n",
       "  <thead>\n",
       "    <tr style=\"text-align: right;\">\n",
       "      <th></th>\n",
       "      <th>timestamp</th>\n",
       "      <th>price</th>\n",
       "      <th>order_side</th>\n",
       "      <th>liquid</th>\n",
       "      <th>id</th>\n",
       "    </tr>\n",
       "  </thead>\n",
       "  <tbody>\n",
       "    <tr>\n",
       "      <th>1667314934485667</th>\n",
       "      <td>20391</td>\n",
       "      <td>0.0001</td>\n",
       "      <td>Sell</td>\n",
       "      <td>false</td>\n",
       "      <td>5283994328</td>\n",
       "    </tr>\n",
       "    <tr>\n",
       "      <th>1667314934380211</th>\n",
       "      <td>20391</td>\n",
       "      <td>0.0001</td>\n",
       "      <td>Sell</td>\n",
       "      <td>false</td>\n",
       "      <td>5283994317</td>\n",
       "    </tr>\n",
       "    <tr>\n",
       "      <th>1667314934341958</th>\n",
       "      <td>20392</td>\n",
       "      <td>0.2453</td>\n",
       "      <td>Buy</td>\n",
       "      <td>false</td>\n",
       "      <td>5283994311</td>\n",
       "    </tr>\n",
       "    <tr>\n",
       "      <th>1667314934286755</th>\n",
       "      <td>20392</td>\n",
       "      <td>0.0260</td>\n",
       "      <td>Buy</td>\n",
       "      <td>false</td>\n",
       "      <td>5283994301</td>\n",
       "    </tr>\n",
       "    <tr>\n",
       "      <th>1667314934271012</th>\n",
       "      <td>20391</td>\n",
       "      <td>0.0001</td>\n",
       "      <td>Sell</td>\n",
       "      <td>false</td>\n",
       "      <td>5283994291</td>\n",
       "    </tr>\n",
       "    <tr>\n",
       "      <th>...</th>\n",
       "      <td>...</td>\n",
       "      <td>...</td>\n",
       "      <td>...</td>\n",
       "      <td>...</td>\n",
       "      <td>...</td>\n",
       "    </tr>\n",
       "    <tr>\n",
       "      <th>1667227934951002</th>\n",
       "      <td>20350</td>\n",
       "      <td>0.0100</td>\n",
       "      <td>Buy</td>\n",
       "      <td>false</td>\n",
       "      <td>5274339831</td>\n",
       "    </tr>\n",
       "    <tr>\n",
       "      <th>1667227934951002</th>\n",
       "      <td>20350</td>\n",
       "      <td>0.0010</td>\n",
       "      <td>Buy</td>\n",
       "      <td>false</td>\n",
       "      <td>5274339830</td>\n",
       "    </tr>\n",
       "    <tr>\n",
       "      <th>1667227934439297</th>\n",
       "      <td>20349</td>\n",
       "      <td>0.0010</td>\n",
       "      <td>Sell</td>\n",
       "      <td>false</td>\n",
       "      <td>5274339780</td>\n",
       "    </tr>\n",
       "    <tr>\n",
       "      <th>1667227934285876</th>\n",
       "      <td>20349</td>\n",
       "      <td>0.0015</td>\n",
       "      <td>Buy</td>\n",
       "      <td>false</td>\n",
       "      <td>5274339748</td>\n",
       "    </tr>\n",
       "    <tr>\n",
       "      <th>1667227934285876</th>\n",
       "      <td>20349</td>\n",
       "      <td>0.0019</td>\n",
       "      <td>Buy</td>\n",
       "      <td>false</td>\n",
       "      <td>5274339747</td>\n",
       "    </tr>\n",
       "  </tbody>\n",
       "</table>\n",
       "<p>293968 rows × 5 columns</p>\n",
       "</div>"
      ],
      "text/plain": [
       "                  timestamp   price order_side  liquid          id\n",
       "1667314934485667      20391  0.0001       Sell   false  5283994328\n",
       "1667314934380211      20391  0.0001       Sell   false  5283994317\n",
       "1667314934341958      20392  0.2453        Buy   false  5283994311\n",
       "1667314934286755      20392  0.0260        Buy   false  5283994301\n",
       "1667314934271012      20391  0.0001       Sell   false  5283994291\n",
       "...                     ...     ...        ...     ...         ...\n",
       "1667227934951002      20350  0.0100        Buy   false  5274339831\n",
       "1667227934951002      20350  0.0010        Buy   false  5274339830\n",
       "1667227934439297      20349  0.0010       Sell   false  5274339780\n",
       "1667227934285876      20349  0.0015        Buy   false  5274339748\n",
       "1667227934285876      20349  0.0019        Buy   false  5274339747\n",
       "\n",
       "[293968 rows x 5 columns]"
      ]
     },
     "execution_count": 48,
     "metadata": {},
     "output_type": "execute_result"
    }
   ],
   "source": [
    "df2"
   ]
  },
  {
   "cell_type": "code",
   "execution_count": 39,
   "metadata": {
    "pycharm": {
     "name": "#%%\n"
    }
   },
   "outputs": [],
   "source": [
    "df2['diff'] = df2['timestamp'].diff()"
   ]
  },
  {
   "cell_type": "code",
   "execution_count": 40,
   "metadata": {
    "pycharm": {
     "name": "#%%\n"
    }
   },
   "outputs": [
    {
     "data": {
      "text/plain": [
       "1667314934485667    NaN\n",
       "1667314934380211    0.0\n",
       "1667314934341958    1.0\n",
       "1667314934286755    0.0\n",
       "1667314934271012   -1.0\n",
       "                   ... \n",
       "1667227934951002    0.0\n",
       "1667227934951002    0.0\n",
       "1667227934439297   -1.0\n",
       "1667227934285876    0.0\n",
       "1667227934285876    0.0\n",
       "Name: diff, Length: 293968, dtype: float64"
      ]
     },
     "execution_count": 40,
     "metadata": {},
     "output_type": "execute_result"
    }
   ],
   "source": [
    "df2['diff']"
   ]
  },
  {
   "cell_type": "code",
   "execution_count": 45,
   "metadata": {
    "pycharm": {
     "name": "#%%\n"
    }
   },
   "outputs": [
    {
     "data": {
      "text/html": [
       "<div>\n",
       "<style scoped>\n",
       "    .dataframe tbody tr th:only-of-type {\n",
       "        vertical-align: middle;\n",
       "    }\n",
       "\n",
       "    .dataframe tbody tr th {\n",
       "        vertical-align: top;\n",
       "    }\n",
       "\n",
       "    .dataframe thead th {\n",
       "        text-align: right;\n",
       "    }\n",
       "</style>\n",
       "<table border=\"1\" class=\"dataframe\">\n",
       "  <thead>\n",
       "    <tr style=\"text-align: right;\">\n",
       "      <th></th>\n",
       "      <th>timestamp</th>\n",
       "      <th>price</th>\n",
       "      <th>order_side</th>\n",
       "      <th>liquid</th>\n",
       "      <th>id</th>\n",
       "      <th>diff</th>\n",
       "    </tr>\n",
       "  </thead>\n",
       "  <tbody>\n",
       "    <tr>\n",
       "      <th>1667314810143806</th>\n",
       "      <td>20405</td>\n",
       "      <td>0.0001</td>\n",
       "      <td>Sell</td>\n",
       "      <td>false</td>\n",
       "      <td>5283979059</td>\n",
       "      <td>-2.0</td>\n",
       "    </tr>\n",
       "    <tr>\n",
       "      <th>1667314729898654</th>\n",
       "      <td>20388</td>\n",
       "      <td>0.0011</td>\n",
       "      <td>Buy</td>\n",
       "      <td>false</td>\n",
       "      <td>5283972144</td>\n",
       "      <td>-2.0</td>\n",
       "    </tr>\n",
       "    <tr>\n",
       "      <th>1667314723949493</th>\n",
       "      <td>20389</td>\n",
       "      <td>0.1000</td>\n",
       "      <td>Buy</td>\n",
       "      <td>false</td>\n",
       "      <td>5283971641</td>\n",
       "      <td>-2.0</td>\n",
       "    </tr>\n",
       "    <tr>\n",
       "      <th>1667314723930986</th>\n",
       "      <td>20388</td>\n",
       "      <td>0.2390</td>\n",
       "      <td>Buy</td>\n",
       "      <td>false</td>\n",
       "      <td>5283971630</td>\n",
       "      <td>-3.0</td>\n",
       "    </tr>\n",
       "    <tr>\n",
       "      <th>1667314721484732</th>\n",
       "      <td>20383</td>\n",
       "      <td>0.0200</td>\n",
       "      <td>Buy</td>\n",
       "      <td>false</td>\n",
       "      <td>5283971168</td>\n",
       "      <td>-2.0</td>\n",
       "    </tr>\n",
       "    <tr>\n",
       "      <th>...</th>\n",
       "      <td>...</td>\n",
       "      <td>...</td>\n",
       "      <td>...</td>\n",
       "      <td>...</td>\n",
       "      <td>...</td>\n",
       "      <td>...</td>\n",
       "    </tr>\n",
       "    <tr>\n",
       "      <th>1667227982525311</th>\n",
       "      <td>20348</td>\n",
       "      <td>1.0762</td>\n",
       "      <td>Buy</td>\n",
       "      <td>false</td>\n",
       "      <td>5274349198</td>\n",
       "      <td>-2.0</td>\n",
       "    </tr>\n",
       "    <tr>\n",
       "      <th>1667227981683112</th>\n",
       "      <td>20345</td>\n",
       "      <td>0.0010</td>\n",
       "      <td>Buy</td>\n",
       "      <td>false</td>\n",
       "      <td>5274349097</td>\n",
       "      <td>-2.0</td>\n",
       "    </tr>\n",
       "    <tr>\n",
       "      <th>1667227961829144</th>\n",
       "      <td>20346</td>\n",
       "      <td>0.0010</td>\n",
       "      <td>Buy</td>\n",
       "      <td>false</td>\n",
       "      <td>5274345177</td>\n",
       "      <td>-2.0</td>\n",
       "    </tr>\n",
       "    <tr>\n",
       "      <th>1667227960847934</th>\n",
       "      <td>20344</td>\n",
       "      <td>1.6144</td>\n",
       "      <td>Buy</td>\n",
       "      <td>false</td>\n",
       "      <td>5274344978</td>\n",
       "      <td>-2.0</td>\n",
       "    </tr>\n",
       "    <tr>\n",
       "      <th>1667227941061546</th>\n",
       "      <td>20349</td>\n",
       "      <td>1.0707</td>\n",
       "      <td>Buy</td>\n",
       "      <td>false</td>\n",
       "      <td>5274341314</td>\n",
       "      <td>-2.0</td>\n",
       "    </tr>\n",
       "  </tbody>\n",
       "</table>\n",
       "<p>1216 rows × 6 columns</p>\n",
       "</div>"
      ],
      "text/plain": [
       "                  timestamp   price order_side  liquid          id  diff\n",
       "1667314810143806      20405  0.0001       Sell   false  5283979059  -2.0\n",
       "1667314729898654      20388  0.0011        Buy   false  5283972144  -2.0\n",
       "1667314723949493      20389  0.1000        Buy   false  5283971641  -2.0\n",
       "1667314723930986      20388  0.2390        Buy   false  5283971630  -3.0\n",
       "1667314721484732      20383  0.0200        Buy   false  5283971168  -2.0\n",
       "...                     ...     ...        ...     ...         ...   ...\n",
       "1667227982525311      20348  1.0762        Buy   false  5274349198  -2.0\n",
       "1667227981683112      20345  0.0010        Buy   false  5274349097  -2.0\n",
       "1667227961829144      20346  0.0010        Buy   false  5274345177  -2.0\n",
       "1667227960847934      20344  1.6144        Buy   false  5274344978  -2.0\n",
       "1667227941061546      20349  1.0707        Buy   false  5274341314  -2.0\n",
       "\n",
       "[1216 rows x 6 columns]"
      ]
     },
     "execution_count": 45,
     "metadata": {},
     "output_type": "execute_result"
    }
   ],
   "source": [
    "df2[df2['diff'] < -1]"
   ]
  },
  {
   "cell_type": "code",
   "execution_count": null,
   "metadata": {
    "pycharm": {
     "name": "#%%\n"
    }
   },
   "outputs": [],
   "source": []
  }
 ],
 "metadata": {
  "kernelspec": {
   "display_name": "Python 3.10.6 ('venv': venv)",
   "language": "python",
   "name": "python3"
  },
  "language_info": {
   "codemirror_mode": {
    "name": "ipython",
    "version": 3
   },
   "file_extension": ".py",
   "mimetype": "text/x-python",
   "name": "python",
   "nbconvert_exporter": "python",
   "pygments_lexer": "ipython3",
   "version": "3.10.6"
  },
  "vscode": {
   "interpreter": {
    "hash": "561348bbb4e85c6f6e71fe5b82b416ad34192af0efebb264d0a2937e8ad0f6d5"
   }
  }
 },
 "nbformat": 4,
 "nbformat_minor": 4
}
