{
 "cells": [
  {
   "cell_type": "code",
   "execution_count": null,
   "metadata": {},
   "outputs": [],
   "source": []
  },
  {
   "cell_type": "code",
   "execution_count": null,
   "metadata": {},
   "outputs": [],
   "source": [
    "import numpy as np\n",
    "import pandas\n",
    "import pandas as pd"
   ]
  },
  {
   "cell_type": "code",
   "execution_count": null,
   "metadata": {},
   "outputs": [],
   "source": [
    "import rbot\n",
    "from rbot import init_log;\n",
    "from rbot import Market\n",
    "from rbot import Session\n",
    "from rbot import BaseAgent\n",
    "from rbot import NOW\n",
    "from rbot import DAYS\n",
    "\n",
    "\n"
   ]
  },
  {
   "cell_type": "code",
   "execution_count": null,
   "metadata": {},
   "outputs": [],
   "source": [
    "init_log()\n",
    "Market.dummy_mode()\n",
    "Market.open(\"FTX\", \"BTC-PERP\")\n"
   ]
  },
  {
   "cell_type": "code",
   "execution_count": null,
   "metadata": {},
   "outputs": [],
   "source": []
  },
  {
   "cell_type": "code",
   "execution_count": null,
   "metadata": {},
   "outputs": [],
   "source": [
    "\n",
    "class Agent(BaseAgent):   \n",
    "    def clock_interval(self):\n",
    "        return 60    # Sec\n",
    "    \n",
    "    def on_tick(self, time, price, side, size):\n",
    "        print(\"tick\", time, price, side, size)\n",
    "        print(self.session.current_timestamp)"
   ]
  },
  {
   "cell_type": "code",
   "execution_count": null,
   "metadata": {},
   "outputs": [],
   "source": [
    "session = Session(market=Market.get(\"FTX\", \"BTC-PERP\"), agent=Agent())"
   ]
  },
  {
   "cell_type": "code",
   "execution_count": null,
   "metadata": {},
   "outputs": [],
   "source": [
    "session.run(NOW()-1_000_000 * 3600, NOW())"
   ]
  },
  {
   "cell_type": "code",
   "execution_count": null,
   "metadata": {},
   "outputs": [],
   "source": [
    "session.center_price"
   ]
  },
  {
   "cell_type": "code",
   "execution_count": null,
   "metadata": {},
   "outputs": [],
   "source": [
    "session.current_timestamp"
   ]
  },
  {
   "cell_type": "code",
   "execution_count": null,
   "metadata": {},
   "outputs": [],
   "source": [
    "session.run()"
   ]
  },
  {
   "cell_type": "code",
   "execution_count": null,
   "metadata": {},
   "outputs": [],
   "source": [
    "session.current_timestamp"
   ]
  },
  {
   "cell_type": "code",
   "execution_count": null,
   "metadata": {},
   "outputs": [],
   "source": [
    "session.long_order_size"
   ]
  },
  {
   "cell_type": "code",
   "execution_count": null,
   "metadata": {},
   "outputs": [],
   "source": [
    "session.make_order(1, rbot.OrderSide.Buy, 10.0, 10.0, 10, \"\")"
   ]
  },
  {
   "cell_type": "code",
   "execution_count": null,
   "metadata": {},
   "outputs": [],
   "source": [
    "session.long_orders"
   ]
  },
  {
   "cell_type": "code",
   "execution_count": null,
   "metadata": {},
   "outputs": [],
   "source": [
    "session.long_order_size"
   ]
  },
  {
   "cell_type": "code",
   "execution_count": null,
   "metadata": {},
   "outputs": [],
   "source": [
    "class Market:\n",
    "    MARKET = {}\n",
    "    DUMMY_MODE = True\n",
    "\n",
    "    @classmethod\n",
    "    def dummy_mode(cls, dummy=True):\n",
    "        cls.DUMMY_MODE = dummy\n",
    "\n",
    "    @classmethod\n",
    "    def open(cls, exchange: str, market):\n",
    "        exchange = exchange.upper()\n",
    "        if exchange == \"FTX\":\n",
    "            m = rbot.FtxMarket(market, cls.DUMMY_MODE)\n",
    "            cls.MARKET[exchange.upper() + \"/\" + market.upper()] = m\n",
    "            return m\n",
    "        \n",
    "\n",
    "    @classmethod\n",
    "    def download(cls, ndays):\n",
    "        for m in cls.MARKET:\n",
    "            cls.MARKET[m].download(ndays)\n",
    "    \n",
    "    @classmethod\n",
    "    def get(cls, exchange, market):\n",
    "        return cls.MARKET[exchange.upper() + \"/\" + market.upper()]\n",
    "            "
   ]
  },
  {
   "cell_type": "code",
   "execution_count": null,
   "metadata": {},
   "outputs": [],
   "source": [
    "rbot.init_log()\n",
    "Market.dummy_mode()\n",
    "Market.open(\"FTX\", \"BTC-PERP\")\n",
    "Market.download(1)\n",
    "Market.get(\"FTX\", \"BTC-PERP\")"
   ]
  },
  {
   "cell_type": "code",
   "execution_count": null,
   "metadata": {},
   "outputs": [],
   "source": [
    "ftx = Market.get(\"FTX\", \"BTC-PERP\")"
   ]
  },
  {
   "cell_type": "code",
   "execution_count": null,
   "metadata": {},
   "outputs": [],
   "source": [
    "ftx.info()"
   ]
  },
  {
   "cell_type": "code",
   "execution_count": null,
   "metadata": {
    "pycharm": {
     "name": "#%%\n"
    }
   },
   "outputs": [],
   "source": [
    "class Session:\n",
    "    def __init__(self, market, agent):\n",
    "        self.session = rbot._DummySession()\n",
    "        self.market = market\n",
    "        self.agent = agent\n",
    "\n",
    "        if hasattr(self.agent, 'clock_interval'):\n",
    "            self.clock_interval = self.agent.clock_interval()\n",
    "        else:\n",
    "            print(\"Agent class has no clock_interval() sttings, use default 60[sec]\");            \n",
    "            self.clock_interval = 60\n",
    "\n",
    "        \n",
    "    def __getattr__(self, func):\n",
    "        return getattr(self.session, func)\n",
    "\n",
    "                                       \n",
    "    def want_on_tick(self):\n",
    "        return hasattr(self.agent, 'on_tick')\n",
    "\n",
    "    def want_on_clock(self):\n",
    "        return hasattr(self.agent, 'on_clock')\n",
    "    \n",
    "    def want_on_update(self):\n",
    "        return hasattr(self.agent, 'on_update')\n",
    "    \n",
    "    def make_orders(self, orders):\n",
    "        for order in orders:\n",
    "            self.make_order(order)\n",
    "    \n",
    "    def make_order(self, order):\n",
    "        self.session.make_order(order)\n",
    "    \n",
    "    def on_tick(self, time, price, side, size):\n",
    "        return self.agent.on_tick(self, time, price, side, size)\n",
    "    \n",
    "    def on_clock(self):\n",
    "        return self.agent.on_clock(self, time)\n",
    "        \n",
    "    def on_update(self, time, order_result):\n",
    "        return self.agent.on_update(self, time, order_result)\n",
    "        \n",
    "    def ohlcvv(self, time_window, num_of_bars, exchange_name=None, market_name=None):\n",
    "        if market_name == None:\n",
    "            market = self.market\n",
    "        else:\n",
    "            market = Market.get(exchange_name, market_name)\n",
    "\n",
    "        now = self.session.current_timestamp\n",
    "        return market.ohlcvv(now - time_window * num_of_bars * 1_000_000, now, time_window)\n",
    "\n",
    "        "
   ]
  },
  {
   "cell_type": "code",
   "execution_count": null,
   "metadata": {},
   "outputs": [],
   "source": [
    "s = Session(ftx, Agent())"
   ]
  },
  {
   "cell_type": "code",
   "execution_count": null,
   "metadata": {},
   "outputs": [],
   "source": [
    "s.want_on_tick()"
   ]
  },
  {
   "cell_type": "code",
   "execution_count": null,
   "metadata": {},
   "outputs": [],
   "source": [
    "s.on_tick(1, 1, \"buy\", 10.0)"
   ]
  },
  {
   "cell_type": "code",
   "execution_count": null,
   "metadata": {},
   "outputs": [],
   "source": []
  },
  {
   "cell_type": "code",
   "execution_count": null,
   "metadata": {
    "pycharm": {
     "name": "#%%\n"
    }
   },
   "outputs": [],
   "source": [
    "ohlcv = s.ohlcvv(60, 3)"
   ]
  },
  {
   "cell_type": "code",
   "execution_count": null,
   "metadata": {
    "pycharm": {
     "name": "#%%\n"
    }
   },
   "outputs": [],
   "source": [
    "ohlcv2 = Market.get(\"FTX\", \"BTC-PERP\").ohlcvv(rbot.NOW()- 1_000_000*60*10, rbot.NOW(), 10)"
   ]
  },
  {
   "cell_type": "code",
   "execution_count": null,
   "metadata": {
    "pycharm": {
     "name": "#%%\n"
    }
   },
   "outputs": [],
   "source": [
    "ohlcv2 = Market.get(\"FTX\", \"BTC-PERP\").ohlcvv(- 1_000_000*60*10, 1, 10)\n"
   ]
  },
  {
   "cell_type": "code",
   "execution_count": null,
   "metadata": {
    "pycharm": {
     "name": "#%%\n"
    }
   },
   "outputs": [],
   "source": [
    "ohlcv2"
   ]
  },
  {
   "cell_type": "code",
   "execution_count": null,
   "metadata": {
    "pycharm": {
     "name": "#%%\n"
    }
   },
   "outputs": [],
   "source": [
    "s = rbot.Session()"
   ]
  },
  {
   "cell_type": "code",
   "execution_count": null,
   "metadata": {
    "pycharm": {
     "name": "#%%\n"
    }
   },
   "outputs": [],
   "source": [
    "s"
   ]
  },
  {
   "cell_type": "code",
   "execution_count": null,
   "metadata": {
    "pycharm": {
     "name": "#%%\n"
    }
   },
   "outputs": [],
   "source": [
    "s2 = rbot._DummySession()"
   ]
  },
  {
   "cell_type": "code",
   "execution_count": null,
   "metadata": {
    "pycharm": {
     "name": "#%%\n"
    }
   },
   "outputs": [],
   "source": [
    "s2.get_center_price()"
   ]
  },
  {
   "cell_type": "code",
   "execution_count": null,
   "metadata": {
    "pycharm": {
     "name": "#%%\n"
    }
   },
   "outputs": [],
   "source": [
    "df2 = pd.read_csv('ftx.csv', names=(\"timestamp\", 'price', 'order_side', 'liquid', 'id'), i)"
   ]
  },
  {
   "cell_type": "code",
   "execution_count": null,
   "metadata": {
    "pycharm": {
     "name": "#%%\n"
    }
   },
   "outputs": [],
   "source": [
    "df2"
   ]
  },
  {
   "cell_type": "code",
   "execution_count": null,
   "metadata": {
    "pycharm": {
     "name": "#%%\n"
    }
   },
   "outputs": [],
   "source": [
    "df2['diff'] = df2['timestamp'].diff()"
   ]
  },
  {
   "cell_type": "code",
   "execution_count": null,
   "metadata": {
    "pycharm": {
     "name": "#%%\n"
    }
   },
   "outputs": [],
   "source": [
    "df2['diff']"
   ]
  },
  {
   "cell_type": "code",
   "execution_count": null,
   "metadata": {
    "pycharm": {
     "name": "#%%\n"
    }
   },
   "outputs": [],
   "source": [
    "df2[df2['diff'] < -1]"
   ]
  },
  {
   "cell_type": "code",
   "execution_count": null,
   "metadata": {
    "pycharm": {
     "name": "#%%\n"
    }
   },
   "outputs": [],
   "source": []
  }
 ],
 "metadata": {
  "kernelspec": {
   "display_name": "Python 3.10.6 ('venv': venv)",
   "language": "python",
   "name": "python3"
  },
  "language_info": {
   "codemirror_mode": {
    "name": "ipython",
    "version": 3
   },
   "file_extension": ".py",
   "mimetype": "text/x-python",
   "name": "python",
   "nbconvert_exporter": "python",
   "pygments_lexer": "ipython3",
   "version": "3.10.6"
  },
  "vscode": {
   "interpreter": {
    "hash": "561348bbb4e85c6f6e71fe5b82b416ad34192af0efebb264d0a2937e8ad0f6d5"
   }
  }
 },
 "nbformat": 4,
 "nbformat_minor": 4
}
