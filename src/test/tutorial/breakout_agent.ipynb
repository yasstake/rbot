{
  "cells": [
    {
      "cell_type": "markdown",
      "metadata": {
        "id": "0YWqMhkrd71R"
      },
      "source": [
        "# BackTestのチュートリアル\n",
        "\n",
        "## 1. 実装するBotのロジック\n",
        "\n",
        "Ukiさんの「オープニングレンジ・ブレイクアウト」をお借りして、バックテストのtutorialを作成しました。\n",
        "\n",
        "Binanceのspot/BTCBUSD用に書いていますが、PublicAPIのみ利用のためアカウントは不要で試すことができます。\n",
        "\n",
        "\n",
        "\n",
        "<blockquote class=\"twitter-tweet\"><p lang=\"ja\" dir=\"ltr\">お待ちかねのロジックを公開。<br>(元祖)ドテン君はブレイクアウトだが通常のHLチャネルブレイクではない。その手法は「オープニングレンジ・ブレイクアウト」と呼ばれるものである。文章での説明は面倒なのでhohetoとの会議資料をそのまま添付する。ストラテジーに関する質問には応対できません。 <a href=\"https://t.co/LB6mdxVZZo\">pic.twitter.com/LB6mdxVZZo</a></p>&mdash; UKI (@blog_uki) <a href=\"https://twitter.com/blog_uki/status/981768546429448192?ref_src=twsrc%5Etfw\">April 5, 2018</a></blockquote> <script async src=\"https://platform.twitter.com/widgets.js\" charset=\"utf-8\"></script>\n",
        "\n",
        "![](https://pbs.twimg.com/media/DZ_xJQFUMAEOrpS?format=jpg&name=900x900)"
      ]
    },
    {
      "cell_type": "markdown",
      "metadata": {
        "id": "IvEz6O97d71S"
      },
      "source": [
        "## 2. BreakOutAgentの実装\n",
        "\n",
        "日本語で読み解くと以下のようになります。\n",
        "「シグナル点灯した次の足の始値」ではなく、シグナル点灯直後の最良値でエントリーすることに変更した以外はほぼ忠実に書き下している（つもり）\n",
        "\n",
        "1. `Agent.on_clock`を10分毎に呼び出すように設定する(`Agent.clock_interval`)\n",
        "\n",
        "2. `Agent.on_clock`内で以下の処理を行う。\n",
        "\n",
        "    1. 前処理\n",
        "       \n",
        "       前回のon_clock中でのオーダーが処理中の場合はなにもしない（リターン）\n",
        "    2. Long/Short判定\n",
        "      1. 現在時刻から2時間足を6本取得する。`session.ohlcv`（6本目の最後の足は未確定足。10分毎に呼ばれるたびにupdateされる）\n",
        "      (ohlcv[0]-ohlcv[5]へ値を格納)\n",
        "      2. 1-5本目の足のレンジ幅（高値ー安値）の平均値を計算する。`(ohlcv['high]-ohlcv['low']).mean()`\n",
        "      3. 最新足（未確定）の始値〜高値を計算する\n",
        "      4. 最新足（未確定）の始値〜安値を計算する\n",
        "      5. (2,3,4)の結果からLong/Short判定\n",
        "    3. オーダー執行\n",
        "       1. Long判定のとき\n",
        "          1. すでにLongポジションがある場合は何もしない。\n",
        "          2. Shortポジションがあった場合はドテン（最良値、倍サイズ）\n",
        "          3. 上記に当てはまらない場合は最良値、通常サイズでLong\n",
        "       2. Short判定のとき\n",
        "           1. すでにShortポジションがある場合は何もしない\n",
        "           2. Shortポジションがあった場合はドテン（最良値、倍サイズ）\n",
        "           3. 上記に当てはまらない場合は最良値、通常サイズでShort"
      ]
    },
    {
      "cell_type": "markdown",
      "metadata": {
        "id": "x8zNuVGdd71T"
      },
      "source": [
        "## 依存ライブラリのインストール\n",
        "\n",
        "### 依存ライブラリ\n",
        "* numpy\n",
        "* pandas\n",
        "* bokeh\n",
        "\n",
        "それぞれpipでインストールしてください。\n",
        "あるいはまとめて\n",
        "```\n",
        "python3 -m pip install -r requirement.txt\n",
        "```\n",
        "でもOK.\n",
        "\n",
        "\n"
      ]
    },
    {
      "cell_type": "markdown",
      "source": [
        "## バックテストライブラリ rbot のインストール\n",
        "\n"
      ],
      "metadata": {
        "id": "uydld_3teG57"
      }
    },
    {
      "cell_type": "code",
      "source": [
        "! pip install https://github.com/yasstake/rbot/releases/download/rbot-release-0.1.0/rbot-0.1.0-cp38-cp38-manylinux_2_17_x86_64.manylinux2014_x86_64.whl"
      ],
      "metadata": {
        "colab": {
          "base_uri": "https://localhost:8080/"
        },
        "id": "bB_nIiT1d_p2",
        "outputId": "824dccbb-0e41-42fb-9a22-5dd5ba262f82"
      },
      "execution_count": 1,
      "outputs": [
        {
          "output_type": "stream",
          "name": "stdout",
          "text": [
            "Looking in indexes: https://pypi.org/simple, https://us-python.pkg.dev/colab-wheels/public/simple/\n",
            "Collecting rbot==0.1.0\n",
            "  Downloading https://github.com/yasstake/rbot/releases/download/rbot-release-0.1.0/rbot-0.1.0-cp38-cp38-manylinux_2_17_x86_64.manylinux2014_x86_64.whl (11.9 MB)\n",
            "\u001b[K     |████████████████████████████████| 11.9 MB 5.1 MB/s \n",
            "\u001b[?25hInstalling collected packages: rbot\n",
            "Successfully installed rbot-0.1.0\n"
          ]
        }
      ]
    },
    {
      "cell_type": "code",
      "execution_count": 2,
      "metadata": {
        "id": "cgQB8PIZd71T"
      },
      "outputs": [],
      "source": [
        "# 必要ライブラリーのimport\n",
        "import pandas as pd\n",
        "\n",
        "# rbotは今回提供するbacktestライブラリ\n",
        "import rbot\n",
        "from rbot import BaseAgent\n",
        "from rbot import BinanceMarket\n",
        "from rbot import BackRunner\n",
        "from rbot import time_string\n",
        "from rbot import Market\n",
        "from rbot import DAYS_BEFORE\n",
        "from rbot.chart import Chart"
      ]
    },
    {
      "cell_type": "markdown",
      "metadata": {
        "id": "mzlV3a9Yd71U"
      },
      "source": [
        "## break out Agent(bot)の実装\n",
        "\n",
        "#### 時間の扱い\n",
        "\n",
        "時刻について、以下の基準で設計しています。\n",
        "* 時刻（ある一点を指す）: UTCでエポックタイムからのマイクロ秒(μs)。時刻０はfromの時は過去全部、toのときは将来全部（≒現在時刻）\n",
        "* 期間：ほとんどで秒(s)。ログのダウンロード`Market.download`だけ日(day)\n",
        "  * 例：ohlcvの足の幅などは秒を利用。\n",
        "\n",
        "#### 実装すべき必須メソッド（BaseAgentクラスをOverride)\n",
        "\n",
        "Botは`BaseAgent`を継承し以下の３つを実装する必要があります。\n",
        "* `__init()__()`    クラスのコンストラクタです。上位クラス`BaseAgent`の初期化`super().__init()__()`をわすれないように気をつけてください。\n",
        "* `clock_interval()` 次の`on_clock()`が呼び出される周期を秒で返します。\n",
        "* `on_clock(self, time_us, session)` 周期的に呼び出される関数です。`time_us`が現在時刻で、`session`クラスを使って`ohlcv`をとったり`place_order`したりします。\n",
        "\n",
        "#### オプション\n",
        "* `on_tick(self, time_us, session, price, side, size)` 全ログイベントを受け取ります。\n",
        "* `on_update(self, time, session, result)`オーダーが約定したり失効した場合に呼ばれます。resultの中にオーダ情報が含まれています。\n",
        "\n"
      ]
    },
    {
      "cell_type": "code",
      "execution_count": 3,
      "metadata": {
        "id": "q4as6Dkmd71V"
      },
      "outputs": [],
      "source": [
        "class BreakOutAgent(BaseAgent):\n",
        "    \"\"\"\n",
        "        Agentのクラス名は任意。\n",
        "        BaseAgentを継承し、clock_interval, on_clockを実装する。\n",
        "    \"\"\"\n",
        "\n",
        "    def __init__(self, param_K=1.6):\n",
        "            \"\"\" super().__init()__ で上位クラスの初期化を必ずすること　\"\"\"\n",
        "            super().__init__()\n",
        "            self.param_K = param_K  # パラメターKを設定する。\n",
        "\n",
        "    def clock_interval(self):\n",
        "        \"\"\" on_clockが呼び出される間隔を秒で返す。今回は10分毎にする\"\"\"\n",
        "        return 60 * 10\n",
        "    \n",
        "    def on_clock(self, time_us, session):\n",
        "        \"\"\" Botのメインロジック。on_clockで設定した秒数毎に呼ばれる \"\"\"\n",
        "        # 前処理/ 前回のon_clock中でのオーダーが処理中の場合はなにもしない（リターン）        \n",
        "        if session.short_order_size or session.long_order_size:\n",
        "            return \n",
        "        \n",
        "        ############   メインロジック  ###################### \n",
        "        ohlcv_df = session.ohlcv(60*60*2, 6)  # 2時間足(60*60*2sec)を６本取得。 最新は６番目。ただし未確定足\n",
        "        if len(ohlcv_df.index) < 6:           # データが過去６本分そろっていない場合はなにもせずリターン\n",
        "            return \n",
        "\n",
        "        ohlcv5 = ohlcv_df[:-2]       # 過去５本足（確定）\n",
        "        range_width = (ohlcv5['high'] - ohlcv5['low']).mean() * self.param_K  # 価格変動レンジの平均を計算 * K\n",
        "\n",
        "        # Long/Short判定\n",
        "        ohlcv_latest = ohlcv_df[-2:-1]     # 最新足１本(未確定)        \n",
        "        diff_low   =   (ohlcv_latest['open'][0] - ohlcv_latest['low'][0])\n",
        "        detect_short  = range_width < diff_low\n",
        "\n",
        "        diff_high  = - (ohlcv_latest['open'][0] - ohlcv_latest['high'][0])  \n",
        "        detect_long = range_width  < diff_high\n",
        "        \n",
        "        ##########  メインロジック中に利用したindicatorのロギング（あとでグラフ化するため保存）    ##############\n",
        "        self.log_indicator('diff_low', time_us, diff_low)\n",
        "        self.log_indicator('diff_high', time_us, diff_high)\n",
        "        self.log_indicator('range_width', time_us, range_width)\n",
        "\n",
        "        ##########　執行戦略（順方向のポジションがあったら保留。逆方向のポジションがのこっていたらドテン）#########\n",
        "        ORDER_SIZE = 0.01     # 標準オーダーサイズ(ドテンの場合はx2)\n",
        "        ORDER_LIFE = 60*10    # オーダーの有効期間（60x10秒=10分)\n",
        "        \n",
        "        if detect_long and (not session.long_position_size): \n",
        "            if session.short_position_size: # Shortポジションがあった場合はドテン\n",
        "                session.place_order( #オーダーを発行する\n",
        "                            'Buy',                      # 'Buy', 'Sell'を選択\n",
        "                            session.best_buy_price,     # 最後にbuyがtakeされた価格。sell側にはbest_sell_priceを提供。\n",
        "                                                        # 任意の価格が設定できるがtakeになる価格でもmakeの処理・手数料で処理している。\n",
        "                            ORDER_SIZE * 2,             # オーダーサイズ BTCBUSDの場合BTC建で指定。ドテンなので倍サイズでオーダー\n",
        "                            ORDER_LIFE,                 # オーダーの有効期限（秒）。この秒数をこえるとExpireする。\n",
        "                            'doten Long'                # あとでログで識別できるように任意の文字列が設定できる。\n",
        "                )\n",
        "            else:\n",
        "                session.place_order('Buy', session.best_buy_price, ORDER_SIZE, ORDER_LIFE, 'Open Long')    \n",
        "\n",
        "        if detect_short and (not session.short_position_size): # short判定のとき\n",
        "            if session.long_position_size:  # Longポジションがあった場合はドテン\n",
        "                session.place_order('Sell', session.best_sell_price, ORDER_SIZE * 2, ORDER_LIFE, 'Doten Short')\n",
        "            else:\n",
        "                session.place_order('Sell', session.best_sell_price, ORDER_SIZE, ORDER_LIFE, 'Open Short') \n",
        "\n",
        "\n",
        "    # 全Tick受け取りたい時は on_tick を実装する。\n",
        "    #def on_tick(self, time, session, side, price, size):\n",
        "    #    pass\n",
        "\n",
        "    ## 約定イベントを受け取りたい時は on_updateを実装する。\n",
        "    #def on_update(self, time, session, result):\n",
        "    #    print(str(result))\n",
        "    #    pass\n"
      ]
    },
    {
      "cell_type": "markdown",
      "metadata": {
        "id": "tXAc9XH7d71W"
      },
      "source": [
        "## 3. バックテスト用データのロード\n",
        "\n",
        "現在はBianceのSpot取引のみ対応。\n",
        "\n",
        "`Market.open`でバイナンス（`BN`)の通貨ペアー(`BTCBUSD`)を開く。\n",
        "その後、`Market.download`で過去n日分のデータをダウンロードする。\n",
        "\n",
        "2回目以降はディフォルトではダウンロードしない。\n",
        "再ダウンロードしたい場合は、`Market.download(10, True)`のように再ダウンロードフラグをTrueにする。"
      ]
    },
    {
      "cell_type": "code",
      "execution_count": 4,
      "metadata": {
        "colab": {
          "base_uri": "https://localhost:8080/",
          "height": 358
        },
        "id": "Q6D_VvTqd71W",
        "outputId": "79a7d8f5-3ff4-4f9e-9f6e-9d28c4873968"
      },
      "outputs": [
        {
          "output_type": "error",
          "ename": "PanicException",
          "evalue": "ignored",
          "traceback": [
            "\u001b[0;31m---------------------------------------------------------------------------\u001b[0m",
            "\u001b[0;31mPanicException\u001b[0m                            Traceback (most recent call last)",
            "\u001b[0;32m<ipython-input-4-16f46fe5e1d3>\u001b[0m in \u001b[0;36m<module>\u001b[0;34m\u001b[0m\n\u001b[1;32m      1\u001b[0m \u001b[0mbinance\u001b[0m \u001b[0;34m=\u001b[0m \u001b[0mMarket\u001b[0m\u001b[0;34m.\u001b[0m\u001b[0mopen\u001b[0m\u001b[0;34m(\u001b[0m\u001b[0;34m'BN'\u001b[0m\u001b[0;34m,\u001b[0m \u001b[0;34m'BTCBUSD'\u001b[0m\u001b[0;34m)\u001b[0m  \u001b[0;31m# binance marketはあとで利用するので保存しておく\u001b[0m\u001b[0;34m\u001b[0m\u001b[0;34m\u001b[0m\u001b[0m\n\u001b[1;32m      2\u001b[0m \u001b[0;34m\u001b[0m\u001b[0m\n\u001b[0;32m----> 3\u001b[0;31m \u001b[0mMarket\u001b[0m\u001b[0;34m.\u001b[0m\u001b[0mdownload\u001b[0m\u001b[0;34m(\u001b[0m\u001b[0;36m10\u001b[0m\u001b[0;34m)\u001b[0m             \u001b[0;31m# １０日前より最新のログデータをダウンロード（差分）\u001b[0m\u001b[0;34m\u001b[0m\u001b[0;34m\u001b[0m\u001b[0m\n\u001b[0m\u001b[1;32m      4\u001b[0m \u001b[0;31m#Market.download(10, True)       # 再ダウンロード (１日あたり１０秒＋アルファかかります。)\u001b[0m\u001b[0;34m\u001b[0m\u001b[0;34m\u001b[0m\u001b[0;34m\u001b[0m\u001b[0m\n",
            "\u001b[0;32m/usr/local/lib/python3.8/dist-packages/rbot/__init__.py\u001b[0m in \u001b[0;36mdownload\u001b[0;34m(cls, ndays, force)\u001b[0m\n\u001b[1;32m    236\u001b[0m     \u001b[0;32mdef\u001b[0m \u001b[0mdownload\u001b[0m\u001b[0;34m(\u001b[0m\u001b[0mcls\u001b[0m\u001b[0;34m,\u001b[0m \u001b[0mndays\u001b[0m\u001b[0;34m,\u001b[0m \u001b[0mforce\u001b[0m\u001b[0;34m=\u001b[0m\u001b[0;32mFalse\u001b[0m\u001b[0;34m)\u001b[0m\u001b[0;34m:\u001b[0m\u001b[0;34m\u001b[0m\u001b[0;34m\u001b[0m\u001b[0m\n\u001b[1;32m    237\u001b[0m         \u001b[0;32mfor\u001b[0m \u001b[0mm\u001b[0m \u001b[0;32min\u001b[0m \u001b[0mcls\u001b[0m\u001b[0;34m.\u001b[0m\u001b[0mMARKET\u001b[0m\u001b[0;34m:\u001b[0m\u001b[0;34m\u001b[0m\u001b[0;34m\u001b[0m\u001b[0m\n\u001b[0;32m--> 238\u001b[0;31m             \u001b[0mcls\u001b[0m\u001b[0;34m.\u001b[0m\u001b[0mMARKET\u001b[0m\u001b[0;34m[\u001b[0m\u001b[0mm\u001b[0m\u001b[0;34m]\u001b[0m\u001b[0;34m.\u001b[0m\u001b[0mdownload\u001b[0m\u001b[0;34m(\u001b[0m\u001b[0mndays\u001b[0m\u001b[0;34m,\u001b[0m \u001b[0mforce\u001b[0m\u001b[0;34m)\u001b[0m\u001b[0;34m\u001b[0m\u001b[0;34m\u001b[0m\u001b[0m\n\u001b[0m\u001b[1;32m    239\u001b[0m             \u001b[0mcls\u001b[0m\u001b[0;34m.\u001b[0m\u001b[0mMARKET\u001b[0m\u001b[0;34m[\u001b[0m\u001b[0mm\u001b[0m\u001b[0;34m]\u001b[0m\u001b[0;34m.\u001b[0m\u001b[0mvaccum\u001b[0m\u001b[0;34m(\u001b[0m\u001b[0;34m)\u001b[0m\u001b[0;34m\u001b[0m\u001b[0;34m\u001b[0m\u001b[0m\n\u001b[1;32m    240\u001b[0m \u001b[0;34m\u001b[0m\u001b[0m\n",
            "\u001b[0;32m/usr/local/lib/python3.8/dist-packages/rbot/__init__.py\u001b[0m in \u001b[0;36mdownload\u001b[0;34m(self, ndays, force)\u001b[0m\n\u001b[1;32m    357\u001b[0m \u001b[0;34m\u001b[0m\u001b[0m\n\u001b[1;32m    358\u001b[0m     \u001b[0;32mdef\u001b[0m \u001b[0mdownload\u001b[0m\u001b[0;34m(\u001b[0m\u001b[0mself\u001b[0m\u001b[0;34m,\u001b[0m \u001b[0mndays\u001b[0m\u001b[0;34m,\u001b[0m \u001b[0mforce\u001b[0m\u001b[0;34m=\u001b[0m\u001b[0;32mFalse\u001b[0m\u001b[0;34m)\u001b[0m\u001b[0;34m:\u001b[0m\u001b[0;34m\u001b[0m\u001b[0;34m\u001b[0m\u001b[0m\n\u001b[0;32m--> 359\u001b[0;31m         \u001b[0;32mreturn\u001b[0m \u001b[0mself\u001b[0m\u001b[0;34m.\u001b[0m\u001b[0mmarket\u001b[0m\u001b[0;34m.\u001b[0m\u001b[0mdownload\u001b[0m\u001b[0;34m(\u001b[0m\u001b[0mndays\u001b[0m\u001b[0;34m,\u001b[0m \u001b[0mforce\u001b[0m\u001b[0;34m)\u001b[0m\u001b[0;34m\u001b[0m\u001b[0;34m\u001b[0m\u001b[0m\n\u001b[0m\u001b[1;32m    360\u001b[0m \u001b[0;34m\u001b[0m\u001b[0m\n\u001b[1;32m    361\u001b[0m     \u001b[0;32mdef\u001b[0m \u001b[0m__getattr__\u001b[0m\u001b[0;34m(\u001b[0m\u001b[0mself\u001b[0m\u001b[0;34m,\u001b[0m \u001b[0mfunc\u001b[0m\u001b[0;34m)\u001b[0m\u001b[0;34m:\u001b[0m\u001b[0;34m\u001b[0m\u001b[0;34m\u001b[0m\u001b[0m\n",
            "\u001b[0;31mPanicException\u001b[0m: called `Result::unwrap()` on an `Err` value: QueryReturnedNoRows"
          ]
        }
      ],
      "source": [
        "binance = Market.open('BN', 'BTCBUSD')  # binance marketはあとで利用するので保存しておく\n",
        "\n",
        "Market.download(10)             # １０日前より最新のログデータをダウンロード（差分）\n",
        "#Market.download(10, True)       # 再ダウンロード (１日あたり１０秒＋アルファかかります。)\n"
      ]
    },
    {
      "cell_type": "code",
      "execution_count": 6,
      "metadata": {
        "colab": {
          "base_uri": "https://localhost:8080/",
          "height": 137
        },
        "id": "So_PM4hId71W",
        "outputId": "df63e20b-d384-4c38-a9ec-f57d3c804f45"
      },
      "outputs": [
        {
          "output_type": "execute_result",
          "data": {
            "text/plain": [
              "<rbot.BinanceMarket at 0x7f0bd11ab430>"
            ],
            "text/html": [
              "<b>Binance DB (BTCBUSD)</b>\n",
              "            <table>\n",
              "            <caption>Trade Database info table</caption>\n",
              "            <tr><th>start</th><th>end</th></tr>\n",
              "            <tr><td>0</td><td>0</td></tr>\n",
              "            <tr><td>\"1970-01-01T00:00:00.000000\"</td><td>\"1970-01-01T00:00:00.000000\"</td></tr>\n",
              "            <tr><td><b>days=</b></td><td>0</td></tr>                \n",
              "            </table>                \n",
              "            "
            ]
          },
          "metadata": {},
          "execution_count": 6
        }
      ],
      "source": [
        "# Marketオブジェクトを表示するとデータの保持期間、保存場所がわかる\n",
        "# かなり巨大なデータベースになるので、不要になったら場所を確認して手で削除してください。\n",
        "# 手元の計測では、70日分で15Gありました（１日あたり200Mb)\n",
        "binance"
      ]
    },
    {
      "cell_type": "code",
      "execution_count": 5,
      "metadata": {
        "colab": {
          "base_uri": "https://localhost:8080/",
          "height": 37
        },
        "id": "wRFAgPknd71X",
        "outputId": "99a7234a-6271-4b91-91fd-52ddd98737e5"
      },
      "outputs": [
        {
          "output_type": "execute_result",
          "data": {
            "text/plain": [
              "'/root/.local/share/rbot/DB/BN/BTCBUSD.db'"
            ],
            "application/vnd.google.colaboratory.intrinsic+json": {
              "type": "string"
            }
          },
          "metadata": {},
          "execution_count": 5
        }
      ],
      "source": [
        "# DBのある場所を表示します。かなり大きなファイルになりますので不要になった場合手動で消してください。\n",
        "binance.file_name"
      ]
    },
    {
      "cell_type": "markdown",
      "metadata": {
        "id": "hAmNF3U2d71X"
      },
      "source": [
        "## 4. バックテスト実行\n",
        "\n",
        "注：いまのところ、Spot取引のBinance(BN)、BTCBUSDのペアーしか対応していません。通貨ペアーは切り換えれば動いちゃうかもしれません。"
      ]
    },
    {
      "cell_type": "code",
      "execution_count": null,
      "metadata": {
        "id": "0CINomJwd71Y"
      },
      "outputs": [],
      "source": [
        " \n",
        "back_runner = BackRunner(\n",
        "        'BN',           # Binance は BNと省略します。\n",
        "        'BTCBUSD',      # 通貨ペアーを選択します。\n",
        "        False           # 注文時に指定するサイズが通貨ペアーの右側通貨の場合True。BinanceのBTCBUSDはBTCでサイズを指定するのでFalse\n",
        ")\n",
        "\n",
        "back_runner.maker_fee_rate = 0.1 * 0.01  # maker_feeを指定（0.1%）. takerは未実装。現在は相手板にぶつける注文をしてもmaker_feeが適用される。"
      ]
    },
    {
      "cell_type": "code",
      "execution_count": null,
      "metadata": {
        "id": "iaDAEXxOd71Y"
      },
      "outputs": [],
      "source": [
        "agent = BreakOutAgent()         # Agentのインスタンスを作ります（あとで利用するので変数に保存しておきます）。\n",
        "\n",
        "# 10日前から最新までバックテストする例（最新データは２日ぐらい前のため８日間のバックテスト）。手元のM1 MacMiniで１日あたり数秒かかります。\n",
        "# まれにまだエラーがでることがあります（再現条件が突き止められていない）。その場合はPythonカーネルから再起動してみてください。\n",
        "back_runner.run(\n",
        "    agent,                      # backtest するagentインスタンスを指定します。\n",
        "    rbot.DAYS_BEFORE(10),       # 開始時刻を指定します(us)。0だとDBにある最初のデータから処理。DAYS_BEFOREはN日まえのtimestampを返すユーティリティ関数です。\n",
        "    0                           # 終了時刻を指定します(us). 0だとDBにある最後のデータまで処理。\n",
        ")     \n",
        "\n",
        "back_runner                     # back testの結果概要が表示されます"
      ]
    },
    {
      "cell_type": "markdown",
      "metadata": {
        "id": "1MM0nJJbd71Y"
      },
      "source": [
        "実行結果の分析\n",
        "\n",
        "実行結果は BackRunner.resultに保存されています。pd.DataFrame形式になっていますのでpandasの機能をつかって分析します。\n",
        "\n",
        "なお、`size`とはオーダー発行したときの単位での大きさ、`volume`は反対側の通貨での大きさという意味で使い分けています。\n",
        "またドテンの場合、一つのオーダーがポジションのクローズと新規のポジション作成の２つに分けられ、`sub_id`が一つインクリメントされます。\n",
        "\n",
        "各カラムの意味は以下のとおり\n",
        "\n",
        "* index(`create_time`)        オーダーが作られた時刻\n",
        "* `update_time`\t            更新時刻（ステータスが変化したときに更新）\n",
        "* `1order_id`\t                オーダーID（自動付与）\n",
        "* `sub_id`\t                オーダーSubID（ドテンの場合、オーダーCloseとOpenに分割されそれぞれIDが付与される）\n",
        "* `order_side`\t            'Buy'または'Sell'\n",
        "* `status`\t                'Open', 'Close', 'Expire'(期限切れでオーダー無効)のどれかの状態をとる\n",
        "* `open_price`\t            ポジションをオープンしたときの価格\n",
        "* `open_size`\t                                        サイズ\n",
        "* `open_volume`\t                                    ボリューム\n",
        "* `close_price`\t            ポジションをクローズしたときの価格\n",
        "* `close_size`                                        サイズ\n",
        "* `close_volume`                                      ボリューム\n",
        "* `order_price`\t            オーダで指定した価格\n",
        "* `order_size`\t                                    サイズ\n",
        "* `order_volume`\t                                    ボリューム\n",
        "* `profit`\t                取引による損益\n",
        "* `fee`\t                    取引手数料\n",
        "* `total_profit`            手数料込みの損益\n",
        "* `position_change`\t        ポジションの変化\n",
        "* `message`\t                オーダー時に指定したメッセージ文字列\n",
        "* `sum_profit`\t            累積損益\n",
        "* `position`                  現在のポジション\n",
        "\n",
        "\n",
        "\n",
        "\n"
      ]
    },
    {
      "cell_type": "code",
      "execution_count": null,
      "metadata": {
        "id": "Fv1VFjzsd71Z"
      },
      "outputs": [],
      "source": [
        "pd.options.display.max_rows=30\n",
        "\n",
        "df = back_runner.result\n",
        "df"
      ]
    },
    {
      "cell_type": "markdown",
      "metadata": {
        "id": "-Uu92DuMd71Z"
      },
      "source": [
        "### いろいろ分析\n",
        "\n",
        "損益などの単位は、オーダー時に指定したサイズの単位の逆側になります。\n",
        "\n",
        "例：今回はBTCBUSDの組み合わせに対し、BTCのサイズでオーダ発行しているので、BUSDでの損益。\n"
      ]
    },
    {
      "cell_type": "code",
      "execution_count": null,
      "metadata": {
        "id": "rDiOw-a-d71a"
      },
      "outputs": [],
      "source": [
        "# 損益結果　 \n",
        "df['sum_profit'][-1]"
      ]
    },
    {
      "cell_type": "code",
      "execution_count": null,
      "metadata": {
        "id": "ydx87spFd71a"
      },
      "outputs": [],
      "source": [
        "# 利益のピーク\n",
        "df[\"sum_profit\"].max()"
      ]
    },
    {
      "cell_type": "code",
      "execution_count": null,
      "metadata": {
        "id": "vdxOfSvod71a"
      },
      "outputs": [],
      "source": [
        "# 1回の取引の最大利益\n",
        "df[\"total_profit\"].max()"
      ]
    },
    {
      "cell_type": "code",
      "execution_count": null,
      "metadata": {
        "id": "kn3ur4L8d71b"
      },
      "outputs": [],
      "source": [
        "# １回の取引の最大損失\n",
        "df[\"total_profit\"].min()"
      ]
    },
    {
      "cell_type": "code",
      "execution_count": null,
      "metadata": {
        "id": "k9ayHUe1d71b"
      },
      "outputs": [],
      "source": [
        "# 手数料なしの場合の損益\n",
        "df['profit'].sum()"
      ]
    },
    {
      "cell_type": "code",
      "execution_count": null,
      "metadata": {
        "id": "EyEuPFWxd71b"
      },
      "outputs": [],
      "source": [
        "# 手数料合計\n",
        "df['fee'].sum()"
      ]
    },
    {
      "cell_type": "code",
      "execution_count": null,
      "metadata": {
        "id": "xwtNLnpud71b"
      },
      "outputs": [],
      "source": [
        "# オーダー回数・Expire数の分析\n",
        "df.groupby([\"order_side\", \"status\"])[\"status\"].count()"
      ]
    },
    {
      "cell_type": "code",
      "execution_count": null,
      "metadata": {
        "id": "sE5fEVXyd71c"
      },
      "outputs": [],
      "source": [
        "# 勝率分析\n",
        "win_trade_df  = df[ (df[\"status\"] == \"Close\") &  (0 < df[\"total_profit\"])]\n",
        "loss_trade_df = df[ (df[\"status\"] == \"Close\") &  (df[\"total_profit\"] < 0)]\n",
        "\n",
        "win_trade = len(win_trade_df)\n",
        "loss_trade = len(loss_trade_df)\n",
        "\n",
        "print(\"買った数:\", win_trade)\n",
        "print(\"負けた数:\", loss_trade)\n",
        "print(\"勝率:\", win_trade/(loss_trade+win_trade))"
      ]
    },
    {
      "cell_type": "code",
      "execution_count": null,
      "metadata": {
        "id": "SQCWC0iJd71c"
      },
      "outputs": [],
      "source": [
        "# 約定時間分析\n",
        "\n",
        "df['exec_time'] = df['update_time'] - df.index\n",
        "df[(df['status'] != 'Expire')]['exec_time'].mean()"
      ]
    },
    {
      "cell_type": "markdown",
      "metadata": {
        "id": "MH29uMtXd71c"
      },
      "source": [
        "## 6. グラフで確認"
      ]
    },
    {
      "cell_type": "markdown",
      "metadata": {
        "id": "RHSiAtBpd71c"
      },
      "source": [
        "### まずは該当期間のOHLCV（ローソク足）チャートを書く\n",
        "\n",
        "#### OHLCVデータの取得\n",
        "\n",
        "まず「３.バックテスト用データのダウンロード」でデータをダウンロードしておきます。\n",
        "\n",
        "`Market.ohlcv(開始timestamp[us], 終了timestamp[us], 足の幅[sec])`\n",
        "で取得できる。以下の例では10日前のタイムスタンプを返す`rbot.DAYS_BEFORE`を利用しています。\n",
        "\n",
        "毎回Tickデータから任意幅のOHLCVを作っているのでかなり重い処理になってしまっていますが、任意の幅のOHLCVがつくれるのでこれだけ利用しても便利だと思う。\n",
        "\n",
        "出力はpandas.DataFrameで帰ってきます。"
      ]
    },
    {
      "cell_type": "code",
      "execution_count": null,
      "metadata": {
        "id": "YW0VoT5Xd71d"
      },
      "outputs": [],
      "source": [
        "# すでに notebookの最初でbinanceインスタンスは以下のコードで作成済み。ここからohlcvを取り出す。\n",
        "#binance = Market.open(\"BN\", \"BTCBUSD\")\n",
        "#Market.download(10)\n",
        "\n",
        "rbot.init_debug_log()\n",
        "\n",
        "ohlcv = binance.ohlcv(DAYS_BEFORE(10), 0, 60*10)"
      ]
    },
    {
      "cell_type": "code",
      "execution_count": null,
      "metadata": {
        "id": "ONBHzited71d"
      },
      "outputs": [],
      "source": [
        "ohlcv"
      ]
    },
    {
      "cell_type": "markdown",
      "metadata": {
        "id": "CTUvckjYd71d"
      },
      "source": [
        "#### OHLCVチャートの描画\n",
        "\n",
        "`Chart`クラスを利用してチャートを描く。\n",
        "引数は、`Chart(横幅、縦幅、olhcvデータ(DataFrame型))`となっています。\n",
        "\n",
        "`Chart`インスタンスを作成し、`show()`メソッドを呼び出すことで描画されます。\n",
        "\n",
        "描画にはbokehライブラリ`https://bokeh.org`を使っています。また`Chart`クラスはPythonの`site-package`にインストールされているはずですので、それをみながらサブクラスを作ると自由に描画がカスタマイズできると思います。（インストール先の場所の例:`lib/python3.10/site-packages/rbot/chart/`)"
      ]
    },
    {
      "cell_type": "code",
      "execution_count": null,
      "metadata": {
        "id": "YPnuvfTGd71d"
      },
      "outputs": [],
      "source": [
        "chart = Chart(900, 400, ohlcv)\n",
        "chart.show()"
      ]
    },
    {
      "cell_type": "markdown",
      "metadata": {
        "id": "PydxKAR9d71d"
      },
      "source": [
        "#### OHLCVにBackTestの結果を追加する。\n",
        "\n",
        "`Chart.draw_result`でバックテストの結果を追加表示できます。"
      ]
    },
    {
      "cell_type": "code",
      "execution_count": null,
      "metadata": {
        "id": "3Ns8S4shd71d"
      },
      "outputs": [],
      "source": [
        "chart = Chart(900, 400, ohlcv)\n",
        "\n",
        "chart.draw_result(back_runner.result)\n",
        "\n",
        "chart.show()"
      ]
    },
    {
      "cell_type": "markdown",
      "metadata": {
        "id": "Il_LfKu_d71e"
      },
      "source": [
        "### indicatorの表示\n",
        "\n",
        "Agentの`on_clock`内で`Agent.log_indicator`を使って保存していたindicatorを`Agent.indicator()`を使って取り出すことができます。`DataFrame`形式になっているので表示します。"
      ]
    },
    {
      "cell_type": "code",
      "execution_count": null,
      "metadata": {
        "id": "bylQBi7ud71e"
      },
      "outputs": [],
      "source": [
        "diff_low = agent.indicator('diff_low')\n",
        "diff_high = agent.indicator('diff_high')\n",
        "range_width = agent.indicator('range_width')\n",
        "range_width"
      ]
    },
    {
      "cell_type": "markdown",
      "metadata": {
        "id": "xuWKP8rWd71e"
      },
      "source": [
        "`Chart.new_figure(新しいパネル名, height=パネルの高さ, title=タイトル)`で新しい描画画面を作ります。\n",
        "\n",
        "作成したパネル名を指定して、`Chart.line`でデータを表示します。\n",
        "\n",
        "`Chart.line(描画パネル名, DataFrame, x_key=データフレーム中のx軸名, y_key=データフレーム中のy軸名, color=線の色, legend_label=凡例として表示する名前)`"
      ]
    },
    {
      "cell_type": "code",
      "execution_count": null,
      "metadata": {
        "id": "bZ0Lap-td71e"
      },
      "outputs": [],
      "source": [
        "chart = Chart(900, 400, ohlcv)\n",
        "\n",
        "chart.draw_result(back_runner.result)\n",
        "\n",
        "# indicatorの表示\n",
        "## 新しい描画パネルを作成\n",
        "chart.new_figure('indicator_panel', height=150, title='indicator')\n",
        "\n",
        "## indicatorパネルにDataFrameを指定して折線グラフを表示\n",
        "chart.line('indicator_panel', diff_low, x_key='timestamp', y_key='value', color='#ff0000', legend_label='diff_low')\n",
        "chart.line('indicator_panel', diff_high, x_key='timestamp', y_key='value', color='#00ff00', legend_label='diff_high')\n",
        "chart.line('indicator_panel', range_width, x_key='timestamp', y_key='value', color='#0030ff', legend_label='range_width')\n",
        "\n",
        "chart.show()"
      ]
    },
    {
      "cell_type": "markdown",
      "metadata": {
        "id": "UM5WqsQGd71e"
      },
      "source": [
        "## 7. まとめ\n",
        "\n",
        "自分で書くのは百行ぐらいで簡単にバックテストができることが確認できたと思う。\n",
        "\n",
        "現在はBiannceのspot/BTCBUSDしか対応していませんが、使ってみてご意見お聞かせください。\n",
        "Twitter(@yasstake)でもgithubでissueあげてもOK.\n",
        "\n",
        "人気になったらDiscord立ち上げてみたいなー。\n",
        "\n"
      ]
    },
    {
      "cell_type": "markdown",
      "metadata": {
        "id": "ej-ni8TAd71e"
      },
      "source": [
        "## 8. Next Step\n",
        "\n",
        "いろいろバックテストしてみよう\n",
        "\n",
        "#### BreakOutAgentのパラメータ変更\n",
        "以下のパラメータを変えたらどうなるか確認してみよう\n",
        "1) パラメータK (現在は1.6きめうち)\n",
        "2) 指値（現在はbestプライス。\n",
        "   1) buyのときに低い価格で指すと利益は上がるがExpire率が上がる。\n",
        "   2) 高い価格で指すとExpire率が下がるが利益が下がる。（この場合、本来はTakerFeeが取られるが現在はMakerFeeで計算）\n",
        "3) ロット（現在は0.01 BTC)の変更\n",
        "4) 2時間足から他の足を試してみる。\n",
        "5) Clockのタイミングを増やす・へらす（現在は10分）\n",
        "6) バックテスト期間の延長（現在は１０日）\n",
        "\n",
        "さらに独自のIndicatorをつくり、独自ロジックをつくってバックテストしてみよう（OHLCVをベースに判断するロジックならば問題なく作れるはず）"
      ]
    },
    {
      "cell_type": "markdown",
      "metadata": {
        "id": "z--0xVWGd71e"
      },
      "source": []
    }
  ],
  "metadata": {
    "kernelspec": {
      "display_name": "Python 3.10.6 ('venv': venv)",
      "language": "python",
      "name": "python3"
    },
    "language_info": {
      "codemirror_mode": {
        "name": "ipython",
        "version": 3
      },
      "file_extension": ".py",
      "mimetype": "text/x-python",
      "name": "python",
      "nbconvert_exporter": "python",
      "pygments_lexer": "ipython3",
      "version": "3.10.6"
    },
    "orig_nbformat": 4,
    "vscode": {
      "interpreter": {
        "hash": "561348bbb4e85c6f6e71fe5b82b416ad34192af0efebb264d0a2937e8ad0f6d5"
      }
    },
    "colab": {
      "provenance": []
    }
  },
  "nbformat": 4,
  "nbformat_minor": 0
}