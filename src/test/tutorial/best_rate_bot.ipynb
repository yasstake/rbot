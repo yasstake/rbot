{
 "cells": [
  {
   "cell_type": "markdown",
   "metadata": {},
   "source": [
    "# 片道切符まんさんの「取引大会で優勝したときのロジック」を実素してみる。\n",
    "https://note.com/_and_go/n/na62475340756\n",
    "\n",
    "## ロジック概要\n",
    "\n",
    "いくつかパターンがあるみたいですが、今回は以下のパターンを実装します。\n",
    "\n",
    "1. Best rate付近の大きめの板の手前に指値を出す。\n",
    "2. Buy, Sell両方に指値を出す。\n",
    "\n",
    "### 考慮事項\n",
    "\n",
    "#### 「大きめの板」の定義はどうするか？\n",
    "\n",
    "1. 板を順番にみていって、最大値の板を探す（次の板が最大値の板より小さければ、最大値の板とする）\n",
    "2. \n"
   ]
  },
  {
   "cell_type": "code",
   "execution_count": null,
   "metadata": {},
   "outputs": [],
   "source": []
  },
  {
   "cell_type": "code",
   "execution_count": null,
   "metadata": {},
   "outputs": [],
   "source": [
    "from rbot import BinanceConfig, BinanceMarket"
   ]
  },
  {
   "cell_type": "code",
   "execution_count": null,
   "metadata": {},
   "outputs": [],
   "source": [
    "config = BinanceConfig.BTCUSDT\n",
    "market = BinanceMarket(config)\n"
   ]
  },
  {
   "cell_type": "code",
   "execution_count": null,
   "metadata": {},
   "outputs": [],
   "source": []
  }
 ],
 "metadata": {
  "kernelspec": {
   "display_name": "venv",
   "language": "python",
   "name": "python3"
  },
  "language_info": {
   "codemirror_mode": {
    "name": "ipython",
    "version": 3
   },
   "file_extension": ".py",
   "mimetype": "text/x-python",
   "name": "python",
   "nbconvert_exporter": "python",
   "pygments_lexer": "ipython3",
   "version": "3.11.6"
  }
 },
 "nbformat": 4,
 "nbformat_minor": 2
}
