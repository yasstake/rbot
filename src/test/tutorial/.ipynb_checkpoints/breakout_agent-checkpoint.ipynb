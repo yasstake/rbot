{
 "cells": [
  {
   "cell_type": "markdown",
   "metadata": {
    "id": "0YWqMhkrd71R"
   },
   "source": [
    "# BackTestのチュートリアル\n",
    "\n",
    "<a target=\"_blank\" href=\"https://colab.research.google.com/github/yasstake/rusty-bot/blob/main/tutorial/breakout_agent.ipynb\">\n",
    "  <img src=\"https://colab.research.google.com/assets/colab-badge.svg\" alt=\"Open In Colab\"/>\n",
    "</a>\n",
    "\n",
    "　\n",
    "## 1. 実装するBotのロジック\n",
    "\n",
    "Ukiさんの「オープニングレンジ・ブレイクアウト」をお借りして、バックテストのtutorialを作成しました（公開くさだって感謝）。\n",
    "\n",
    "Binanceのspot/BTCBUSD用に書いていますが、PublicAPIのみ利用のためアカウントは不要で試すことができます。\n",
    "\n",
    "\n",
    "\n",
    "<blockquote class=\"twitter-tweet\"><p lang=\"ja\" dir=\"ltr\">お待ちかねのロジックを公開。<br>(元祖)ドテン君はブレイクアウトだが通常のHLチャネルブレイクではない。その手法は「オープニングレンジ・ブレイクアウト」と呼ばれるものである。文章での説明は面倒なのでhohetoとの会議資料をそのまま添付する。ストラテジーに関する質問には応対できません。 <a href=\"https://t.co/LB6mdxVZZo\">pic.twitter.com/LB6mdxVZZo</a></p>&mdash; UKI (@blog_uki) <a href=\"https://twitter.com/blog_uki/status/981768546429448192?ref_src=twsrc%5Etfw\">April 5, 2018</a></blockquote> <script async src=\"https://platform.twitter.com/widgets.js\" charset=\"utf-8\"></script>\n",
    "\n",
    "![](https://pbs.twimg.com/media/DZ_xJQFUMAEOrpS?format=jpg&name=900x900)"
   ]
  },
  {
   "cell_type": "markdown",
   "metadata": {
    "id": "IvEz6O97d71S"
   },
   "source": [
    "## 2. BreakOutAgentの実装\n",
    "\n",
    "日本語で読み解くと以下のようになります。\n",
    "\n",
    "「シグナル点灯した次の足の始値」ではなく、シグナル点灯直後の最良値でエントリーすることに変更した以外はほぼ忠実に書き下しています。\n",
    "\n",
    "1. `Agent.on_clock`を10分毎に呼び出すように設定する(`Agent.clock_interval`)\n",
    "\n",
    "2. `Agent.on_clock`内で以下の処理を行う。\n",
    "\n",
    "    1. 前処理\n",
    "       \n",
    "       前回のon_clock中でのオーダーが処理中の場合はなにもしない（リターン）\n",
    "    2. Long/Short判定\n",
    "      * 現在時刻から2時間足を6本取得する。`session.ohlcv`（6本目の最後の足は未確定足。10分毎に呼ばれるたびにupdateされる）\n",
    "      (ohlcv[0]-ohlcv[5]へ値を格納)\n",
    "      * 0-4本目の足のレンジ幅（高値ー安値）の平均値を計算`(ohlcv['high]-ohlcv['low']).mean() * K`し、Kをかけたものを'range_width'へ保存する。\n",
    "      * 最新足（未確定）の始値〜高値を計算する('diff_high')\n",
    "      * 最新足（未確定）の始値〜安値を計算する('diff_low')\n",
    "      * 'range_width', 'diff_high', 'diff_low'の結果からLong/Short判定\n",
    "    3. オーダー執行\n",
    "       1. Long判定のとき\n",
    "          * すでにLongポジションがある場合は何もしない。\n",
    "          * Shortポジションがあった場合はドテン（最良値、倍サイズ）\n",
    "          * 上記に当てはまらない場合は最良値、通常サイズでLong\n",
    "       2. Short判定のとき\n",
    "           * すでにShortポジションがある場合は何もしない\n",
    "           * Shortポジションがあった場合はドテン（最良値、倍サイズ）\n",
    "           * 上記に当てはまらない場合は最良値、通常サイズでShort"
   ]
  },
  {
   "cell_type": "markdown",
   "metadata": {
    "id": "x8zNuVGdd71T"
   },
   "source": [
    "## 2. 依存ライブラリのインストール\n",
    "\n",
    "### 依存ライブラリ\n",
    "* numpy\n",
    "* pandas\n",
    "* bokeh > version 3以上\n",
    "\n",
    "それぞれpipでインストールしてください。\n",
    "\n",
    "Collabの場合、bokehはversion2がはいっていて、またbokeh v2に依存するpanelというライブラリ入っている状態です。panelをアンインストールしてbokehをv3へアップデートします。\n",
    "\n",
    "\n",
    "\n"
   ]
  },
  {
   "cell_type": "code",
   "execution_count": null,
   "metadata": {
    "colab": {
     "base_uri": "https://localhost:8080/"
    },
    "id": "bB_nIiT1d_p2",
    "outputId": "21de787c-8efb-4625-f9b7-c141e8d8390c"
   },
   "outputs": [],
   "source": [
    "# Google Clab用です。必要に応じてコメントアウトしてください\n",
    "! pip install --upgrade pip\n",
    "! pip install numpy\n",
    "! pip install pandas\n",
    "! pip uninstall -y panel\n",
    "! pip install --upgrade bokeh >= 3\n",
    "\n",
    "# https://github.com/yasstake/rusty-bot/releases/\n",
    "# （環境にあわせて修正お願いします。404エラーが出た場合は新しいリリースになっているので上記URLを確認してください）\n",
    "# Linux/Google Collab用\n",
    "!  pip install https://github.com/yasstake/rusty-bot/releases/download/release-0.2.0a/rbot-0.2.0-cp38-cp38-manylinux_2_17_x86_64.manylinux2014_x86_64.whl\n"
   ]
  },
  {
   "cell_type": "code",
   "execution_count": null,
   "metadata": {
    "colab": {
     "base_uri": "https://localhost:8080/"
    },
    "id": "MJrQ0m9J1ohE",
    "outputId": "e18b44a1-49a3-4a37-bfc6-e92ddce7433e"
   },
   "outputs": [],
   "source": [
    "# 念の為パッケージのバージョンを確認 bokehが３　になっているかが重要。\n",
    "! pip list"
   ]
  },
  {
   "cell_type": "code",
   "execution_count": null,
   "metadata": {
    "id": "cgQB8PIZd71T"
   },
   "outputs": [],
   "source": [
    "# 必要ライブラリーのimport\n",
    "import pandas as pd\n",
    "\n",
    "# rbotは今回提供するbacktestライブラリ\n",
    "import rbot\n",
    "from rbot import BaseAgent\n",
    "from rbot import BinanceMarket\n",
    "from rbot import BackRunner\n",
    "from rbot import time_string\n",
    "from rbot import Market\n",
    "from rbot import DAYS_BEFORE\n",
    "from rbot.chart import Chart"
   ]
  },
  {
   "cell_type": "markdown",
   "metadata": {
    "id": "mzlV3a9Yd71U"
   },
   "source": [
    "## 3. break out Agent(bot)の実装\n",
    "\n",
    "#### 時間の扱い\n",
    "\n",
    "時刻について、以下の基準で設計しています。\n",
    "* 時刻（ある一点を指す）: UTCでエポックタイムからのマイクロ秒(μs)。時刻０はfromの時は過去全部、toのときは将来全部（≒現在時刻）\n",
    "* 期間：ほとんどで秒(s)。ログのダウンロード`Market.download`だけ日(day)\n",
    "  * 例：ohlcvの足の幅などは秒を利用。\n",
    "\n",
    "#### 実装すべき必須メソッド（BaseAgentクラスをOverride)\n",
    "\n",
    "Botは`BaseAgent`を継承し以下の３つを実装する必要があります。\n",
    "* `__init()__()`    クラスのコンストラクタです。上位クラス`BaseAgent`の初期化`super().__init()__()`をわすれないように気をつけてください。\n",
    "* `clock_interval()` 次の`on_clock()`が呼び出される周期を秒で返します。\n",
    "* `on_clock(self, time_us, session)` 周期的に呼び出される関数です。`time_us`が現在時刻で、`session`クラスを使って`ohlcv`をとったり`place_order`したりします。\n",
    "\n",
    "#### オプション\n",
    "* `on_tick(self, time_us, session, price, side, size)` 全ログイベントを受け取ります。\n",
    "* `on_update(self, time, session, result)`オーダーが約定したり失効した場合に呼ばれます。resultの中にオーダ情報が含まれています。\n",
    "\n"
   ]
  },
  {
   "cell_type": "code",
   "execution_count": null,
   "metadata": {
    "id": "q4as6Dkmd71V"
   },
   "outputs": [],
   "source": [
    "class BreakOutAgent(BaseAgent):\n",
    "    \"\"\"\n",
    "        Agentのクラス名は任意。\n",
    "        BaseAgentを継承し、clock_interval, on_clockを実装する。\n",
    "    \"\"\"\n",
    "\n",
    "    def __init__(self, param_K=1.6):\n",
    "            \"\"\" super().__init()__ で上位クラスの初期化を必ずすること　\"\"\"\n",
    "            super().__init__()\n",
    "            self.param_K = param_K  # パラメターKを設定する。\n",
    "\n",
    "    def clock_interval(self):\n",
    "        \"\"\" on_clockが呼び出される間隔を秒で返す。今回は10分毎にする\"\"\"\n",
    "        return 60 * 10\n",
    "    \n",
    "    def on_clock(self, time_us, session):\n",
    "        \"\"\" Botのメインロジック。on_clockで設定した秒数毎に呼ばれる \"\"\"\n",
    "        # 前処理/ 前回のon_clock中でのオーダーが処理中の場合はなにもしない（リターン）        \n",
    "        if session.short_order_len or session.long_order_len:\n",
    "            return \n",
    "        \n",
    "        ############   メインロジック  ###################### \n",
    "        ohlcv_df = session.ohlcv(60*60*2, 6)  # 2時間足(60*60*2sec)を６本取得。 最新は６番目。ただし未確定足\n",
    "        if len(ohlcv_df.index) < 6:           # データが過去６本分そろっていない場合はなにもせずリターン\n",
    "            return \n",
    "\n",
    "        ohlcv5 = ohlcv_df[:-2]       # 過去５本足（確定）\n",
    "        range_width = (ohlcv5['high'] - ohlcv5['low']).mean() * self.param_K  # 価格変動レンジの平均を計算 * K\n",
    "\n",
    "        # Long/Short判定\n",
    "        ohlcv_latest = ohlcv_df[-2:-1]     # 最新足１本(未確定)        \n",
    "        diff_low   =   (ohlcv_latest['open'][0] - ohlcv_latest['low'][0])\n",
    "        detect_short  = range_width < diff_low\n",
    "\n",
    "        diff_high  = - (ohlcv_latest['open'][0] - ohlcv_latest['high'][0])  \n",
    "        detect_long = range_width  < diff_high\n",
    "        \n",
    "        ##########  メインロジック中に利用したindicatorのロギング（あとでグラフ化するため保存）    ##############\n",
    "        self.log_indicator('diff_low', time_us, diff_low)\n",
    "        self.log_indicator('diff_high', time_us, diff_high)\n",
    "        self.log_indicator('range_width', time_us, range_width)\n",
    "\n",
    "        ##########　執行戦略（順方向のポジションがあったら保留。逆方向のポジションがのこっていたらドテン）#########\n",
    "        ORDER_SIZE = 0.01     # 標準オーダーサイズ(ドテンの場合はx2)\n",
    "        ORDER_LIFE = 60*10    # オーダーの有効期間（60x10秒=10分)\n",
    "        \n",
    "        if detect_long and (not session.long_position_size): \n",
    "            if session.short_position_size: # Shortポジションがあった場合はドテン\n",
    "                session.place_order( #オーダーを発行する\n",
    "                            'Buy',                      # 'Buy', 'Sell'を選択\n",
    "                            session.best_buy_price,     # 最後にbuyがtakeされた価格。sell側にはbest_sell_priceを提供。\n",
    "                                                        # 任意の価格が設定できるがtakeになる価格でもmakeの処理・手数料で処理している。\n",
    "                            ORDER_SIZE * 2,             # オーダーサイズ BTCBUSDの場合BTC建で指定。ドテンなので倍サイズでオーダー\n",
    "                            ORDER_LIFE,                 # オーダーの有効期限（秒）。この秒数をこえるとExpireする。\n",
    "                            'doten Long'                # あとでログで識別できるように任意の文字列が設定できる。\n",
    "                )\n",
    "            else:\n",
    "                session.place_order('Buy', session.best_buy_price, ORDER_SIZE, ORDER_LIFE, 'Open Long')    \n",
    "\n",
    "        if detect_short and (not session.short_position_size): # short判定のとき\n",
    "            if session.long_position_size:  # Longポジションがあった場合はドテン\n",
    "                session.place_order('Sell', session.best_sell_price, ORDER_SIZE * 2, ORDER_LIFE, 'Doten Short')\n",
    "            else:\n",
    "                session.place_order('Sell', session.best_sell_price, ORDER_SIZE, ORDER_LIFE, 'Open Short') \n",
    "\n",
    "\n",
    "    # 全Tick受け取りたい時は on_tick を実装する。\n",
    "    #def on_tick(self, time, session, side, price, size):\n",
    "    #    pass\n",
    "\n",
    "    ## 約定イベントを受け取りたい時は on_updateを実装する。\n",
    "    #def on_update(self, time, session, result):\n",
    "    #    print(str(result))\n",
    "    #    pass\n"
   ]
  },
  {
   "cell_type": "markdown",
   "metadata": {
    "id": "tXAc9XH7d71W"
   },
   "source": [
    "## 4. バックテスト用データのロード\n",
    "\n",
    "現在はBianceのSpot取引のみ対応。\n",
    "\n",
    "`Market.open`でバイナンス（`BN`)の通貨ペアー(`BTCBUSD`)を開く。\n",
    "その後、`Market.download`で過去n日分のデータをダウンロードする。\n",
    "\n",
    "2回目以降はディフォルトではダウンロードしない。\n",
    "再ダウンロードしたい場合は、`Market.download(5, True)`のように再ダウンロードフラグをTrueにする。\n",
    "\n",
    "ColabだとダウンロードかDiskに制限があるのか１日あたり１分ぐらいかかることがあります。"
   ]
  },
  {
   "cell_type": "code",
   "execution_count": null,
   "metadata": {
    "id": "Q6D_VvTqd71W"
   },
   "outputs": [],
   "source": [
    "BACKTEST_PERIOD = 5             # ダウンロード＆バックテストには時間がかかるのでテスト用に少なめに設定\n",
    "\n",
    "binance = Market.open('BN', 'BTCBUSD')  # binance marketはあとで利用するので保存しておく\n",
    "\n",
    "Market.download(BACKTEST_PERIOD)             # BACKTEST_PERIODより最新のログデータを差分ダウンロード\n",
    "#Market.download(BACKTEST_PERIOD, True)      # 再ダウンロード (１日あたり１０秒＋アルファかかります。)\n"
   ]
  },
  {
   "cell_type": "code",
   "execution_count": null,
   "metadata": {
    "colab": {
     "base_uri": "https://localhost:8080/",
     "height": 139
    },
    "id": "So_PM4hId71W",
    "outputId": "bf043bff-c6c5-46b0-8d42-327595c3eb0d"
   },
   "outputs": [],
   "source": [
    "# Marketオブジェクトを表示するとデータの保持期間、保存場所がわかる\n",
    "# かなり巨大なデータベースになるので、不要になったら場所を確認して手で削除してください。\n",
    "# 手元の計測では、70日分で15Gありました（１日あたり200Mb)\n",
    "binance"
   ]
  },
  {
   "cell_type": "code",
   "execution_count": null,
   "metadata": {
    "colab": {
     "base_uri": "https://localhost:8080/",
     "height": 35
    },
    "id": "wRFAgPknd71X",
    "outputId": "b10c2549-306d-4727-9e95-9dccc9ececd2"
   },
   "outputs": [],
   "source": [
    "# DBのある場所を表示します。かなり大きなファイルになりますので不要になった場合手動で消してください。\n",
    "binance.file_name"
   ]
  },
  {
   "cell_type": "markdown",
   "metadata": {
    "id": "hAmNF3U2d71X"
   },
   "source": [
    "## 5. バックテスト実行\n",
    "\n",
    "### 5.1 BackRunner(バックテスター準備)\n",
    "注：いまのところ、Spot取引のBinance(BN)、BTCBUSDのペアーしか対応していません。"
   ]
  },
  {
   "cell_type": "code",
   "execution_count": null,
   "metadata": {
    "id": "0CINomJwd71Y"
   },
   "outputs": [],
   "source": [
    "back_runner = BackRunner(\n",
    "        'BN',           # Binance は BNと省略します。\n",
    "        'BTCBUSD',      # 通貨ペアーを選択します。\n",
    "        False           # 注文時に指定するサイズが通貨ペアーの右側通貨の場合True。BinanceのBTCBUSDはBTCでサイズを指定するのでFalse\n",
    ")\n",
    "\n",
    "back_runner.maker_fee_rate = 0.1 * 0.01  # maker_feeを指定（0.1%）. takerは未実装。現在は相手板にぶつける注文をしてもmaker_feeが適用される。"
   ]
  },
  {
   "cell_type": "markdown",
   "metadata": {
    "id": "pWDDv-tY2Sd2"
   },
   "source": [
    "### 5.2 バックテスト実行"
   ]
  },
  {
   "cell_type": "code",
   "execution_count": null,
   "metadata": {
    "colab": {
     "base_uri": "https://localhost:8080/",
     "height": 357
    },
    "id": "iaDAEXxOd71Y",
    "outputId": "23efb19e-6c8b-48f5-8172-351ec11af446"
   },
   "outputs": [],
   "source": [
    "agent = BreakOutAgent()         # Agentのインスタンスを作ります（あとで利用するので変数に保存しておきます）。\n",
    "\n",
    "# 5日前から最新までバックテストする例（最新データは２日ぐらい前のため８日間のバックテスト）。\n",
    "# Collabの無料版では１日あたり5-6秒かかりました。またM1 MacMiniで１日あたり数秒でした。\n",
    "\n",
    "back_runner.run(\n",
    "    agent,                      # backtest するagentインスタンスを指定します。\n",
    "    rbot.DAYS_BEFORE(BACKTEST_PERIOD),       # 開始時刻を指定します(us)。0だとDBにある最初のデータから処理。DAYS_BEFOREはN日まえのtimestampを返すユーティリティ関数です。\n",
    "    0                           # 終了時刻を指定します(us). 0だとDBにある最後のデータまで処理。\n",
    ")     \n",
    "\n",
    "back_runner                     # back testの結果概要が表示されます"
   ]
  },
  {
   "cell_type": "markdown",
   "metadata": {
    "id": "1MM0nJJbd71Y"
   },
   "source": [
    "実行結果の分析\n",
    "\n",
    "実行結果は BackRunner.resultに保存されています。pd.DataFrame形式になっていますのでpandasの機能をつかって分析します。\n",
    "\n",
    "なお、`size`とはオーダー発行したときの単位での大きさ、`volume`は反対側の通貨での大きさという意味で使い分けています。\n",
    "またドテンの場合、一つのオーダーがポジションのクローズと新規のポジション作成の２つに分けられ、`sub_id`が一つインクリメントされます。\n",
    "\n",
    "各カラムの意味は以下のとおり\n",
    "\n",
    "* index(`create_time`)        オーダーが作られた時刻\n",
    "* `update_time`\t            更新時刻（ステータスが変化したときに更新）\n",
    "* `1order_id`\t                オーダーID（自動付与）\n",
    "* `sub_id`\t                オーダーSubID（ドテンの場合、オーダーCloseとOpenに分割されそれぞれIDが付与される）\n",
    "* `order_side`\t            'Buy'または'Sell'\n",
    "* `status`\t                'Open', 'Close', 'Expire'(期限切れでオーダー無効)のどれかの状態をとる\n",
    "* `open_price`\t            ポジションをオープンしたときの価格\n",
    "* `open_size`\t                                        サイズ\n",
    "* `open_volume`\t                                    ボリューム\n",
    "* `close_price`\t            ポジションをクローズしたときの価格\n",
    "* `close_size`                                        サイズ\n",
    "* `close_volume`                                      ボリューム\n",
    "* `order_price`\t            オーダで指定した価格\n",
    "* `order_size`\t                                    サイズ\n",
    "* `order_volume`\t                                    ボリューム\n",
    "* `profit`\t                取引による損益\n",
    "* `fee`\t                    取引手数料\n",
    "* `total_profit`            手数料込みの損益\n",
    "* `position_change`\t        ポジションの変化\n",
    "* `message`\t                オーダー時に指定したメッセージ文字列\n",
    "* `sum_profit`\t            累積損益\n",
    "* `position`                  現在のポジション\n",
    "\n",
    "\n",
    "\n",
    "\n"
   ]
  },
  {
   "cell_type": "code",
   "execution_count": null,
   "metadata": {
    "colab": {
     "base_uri": "https://localhost:8080/",
     "height": 564
    },
    "id": "Fv1VFjzsd71Z",
    "outputId": "9b5d0624-9a88-4b08-ab77-1ff23347f900"
   },
   "outputs": [],
   "source": [
    "pd.options.display.max_rows=30\n",
    "\n",
    "df = back_runner.result\n",
    "df"
   ]
  },
  {
   "cell_type": "markdown",
   "metadata": {
    "id": "-Uu92DuMd71Z"
   },
   "source": [
    "### いろいろ分析\n",
    "\n",
    "損益などの単位は、オーダー時に指定したサイズの単位の逆側になります。\n",
    "\n",
    "例：今回はBTCBUSDの組み合わせに対し、BTCのサイズでオーダ発行しているので、BUSDでの損益。\n"
   ]
  },
  {
   "cell_type": "code",
   "execution_count": null,
   "metadata": {
    "colab": {
     "base_uri": "https://localhost:8080/"
    },
    "id": "rDiOw-a-d71a",
    "outputId": "582e589d-b995-4352-d473-d50da3f97d0b"
   },
   "outputs": [],
   "source": [
    "# 損益結果　 \n",
    "df['sum_profit'][-1]"
   ]
  },
  {
   "cell_type": "code",
   "execution_count": null,
   "metadata": {
    "colab": {
     "base_uri": "https://localhost:8080/"
    },
    "id": "ydx87spFd71a",
    "outputId": "9b6d1ecb-3bde-41f4-9e98-4a7f0886f6d3"
   },
   "outputs": [],
   "source": [
    "# 利益のピーク\n",
    "df[\"sum_profit\"].max()"
   ]
  },
  {
   "cell_type": "code",
   "execution_count": null,
   "metadata": {
    "colab": {
     "base_uri": "https://localhost:8080/"
    },
    "id": "vdxOfSvod71a",
    "outputId": "f1c7cdea-7e3f-4ec0-f972-29ca136992e5"
   },
   "outputs": [],
   "source": [
    "# 1回の取引の最大利益\n",
    "df[\"total_profit\"].max()"
   ]
  },
  {
   "cell_type": "code",
   "execution_count": null,
   "metadata": {
    "colab": {
     "base_uri": "https://localhost:8080/"
    },
    "id": "kn3ur4L8d71b",
    "outputId": "c696355e-8795-4c54-dce9-f4aa50471859"
   },
   "outputs": [],
   "source": [
    "# １回の取引の最大損失\n",
    "df[\"total_profit\"].min()"
   ]
  },
  {
   "cell_type": "code",
   "execution_count": null,
   "metadata": {
    "colab": {
     "base_uri": "https://localhost:8080/"
    },
    "id": "k9ayHUe1d71b",
    "outputId": "82e92fde-ecc2-494e-cad2-0070353ca2d1"
   },
   "outputs": [],
   "source": [
    "# 手数料なしの場合の損益\n",
    "df['profit'].sum()"
   ]
  },
  {
   "cell_type": "code",
   "execution_count": null,
   "metadata": {
    "colab": {
     "base_uri": "https://localhost:8080/"
    },
    "id": "EyEuPFWxd71b",
    "outputId": "7c5beacc-d4ab-439c-d5f2-b272bedb391b"
   },
   "outputs": [],
   "source": [
    "# 手数料合計\n",
    "df['fee'].sum()"
   ]
  },
  {
   "cell_type": "code",
   "execution_count": null,
   "metadata": {
    "colab": {
     "base_uri": "https://localhost:8080/"
    },
    "id": "xwtNLnpud71b",
    "outputId": "4e834b43-9396-4e95-c592-afbee95205c6"
   },
   "outputs": [],
   "source": [
    "# オーダー回数・Expire数の分析\n",
    "df.groupby([\"order_side\", \"status\"])[\"status\"].count()"
   ]
  },
  {
   "cell_type": "code",
   "execution_count": null,
   "metadata": {
    "colab": {
     "base_uri": "https://localhost:8080/"
    },
    "id": "sE5fEVXyd71c",
    "outputId": "ea57f19e-b792-4e8a-97ef-67ffc8022e31"
   },
   "outputs": [],
   "source": [
    "# 勝率分析\n",
    "win_trade_df  = df[ (df[\"status\"] == \"Close\") &  (0 < df[\"total_profit\"])]\n",
    "loss_trade_df = df[ (df[\"status\"] == \"Close\") &  (df[\"total_profit\"] < 0)]\n",
    "\n",
    "win_trade = len(win_trade_df)\n",
    "loss_trade = len(loss_trade_df)\n",
    "\n",
    "print(\"買った数:\", win_trade)\n",
    "print(\"負けた数:\", loss_trade)\n",
    "print(\"勝率:\", win_trade/(loss_trade+win_trade))"
   ]
  },
  {
   "cell_type": "code",
   "execution_count": null,
   "metadata": {
    "colab": {
     "base_uri": "https://localhost:8080/"
    },
    "id": "SQCWC0iJd71c",
    "outputId": "12a4a04c-8be0-4446-df13-b587b74ec28c"
   },
   "outputs": [],
   "source": [
    "# 約定時間分析\n",
    "\n",
    "df['exec_time'] = df['update_time'] - df.index\n",
    "df[(df['status'] != 'Expire')]['exec_time'].mean()"
   ]
  },
  {
   "cell_type": "markdown",
   "metadata": {
    "id": "MH29uMtXd71c"
   },
   "source": [
    "## 6. グラフで確認"
   ]
  },
  {
   "cell_type": "markdown",
   "metadata": {
    "id": "RHSiAtBpd71c"
   },
   "source": [
    "### まずは該当期間のOHLCV（ローソク足）チャートを書く\n",
    "\n",
    "#### OHLCVデータの取得\n",
    "\n",
    "まず「３.バックテスト用データのダウンロード」でデータをダウンロードしておきます。\n",
    "\n",
    "`Market.ohlcv(開始timestamp[us], 終了timestamp[us], 足の幅[sec])`\n",
    "で取得できる。以下の例ではn日前のタイムスタンプを返す`rbot.DAYS_BEFORE`を利用しています。\n",
    "\n",
    "毎回Tickデータから任意幅のOHLCVを作っているのでかなり重い処理になってしまっていますが、任意の幅のOHLCVがつくれるのでこれだけ利用しても便利だと思う。\n",
    "\n",
    "出力はpandas.DataFrameで帰ってきます。"
   ]
  },
  {
   "cell_type": "code",
   "execution_count": null,
   "metadata": {
    "id": "YW0VoT5Xd71d"
   },
   "outputs": [],
   "source": [
    "# すでに notebookの最初でbinanceインスタンスは以下のコードで作成済み。ここからohlcvを取り出す。\n",
    "#binance = Market.open(\"BN\", \"BTCBUSD\")\n",
    "#Market.download(BACKTEST_PERIOD)\n",
    "\n",
    "ohlcv = binance.ohlcv(DAYS_BEFORE(BACKTEST_PERIOD), 0, 60*10)"
   ]
  },
  {
   "cell_type": "code",
   "execution_count": null,
   "metadata": {
    "colab": {
     "base_uri": "https://localhost:8080/",
     "height": 455
    },
    "id": "ONBHzited71d",
    "outputId": "a4f62431-e84a-40df-d1c9-a0c0660abbb5"
   },
   "outputs": [],
   "source": [
    "ohlcv"
   ]
  },
  {
   "cell_type": "markdown",
   "metadata": {
    "id": "CTUvckjYd71d"
   },
   "source": [
    "#### OHLCVチャートの描画\n",
    "\n",
    "`Chart`クラスを利用してチャートを描く。\n",
    "引数は、`Chart(横幅、縦幅、olhcvデータ(DataFrame型))`となっています。\n",
    "\n",
    "`Chart`インスタンスを作成し、`show()`メソッドを呼び出すことで描画されます。\n",
    "\n",
    "描画にはbokehライブラリ`https://bokeh.org`を使っています。また`Chart`クラスはPythonの`site-package`にインストールされているはずですので、それをみながらサブクラスを作ると自由に描画がカスタマイズできると思います。（インストール先の場所の例:`lib/python3.10/site-packages/rbot/chart/`)\n",
    "\n",
    "Colabの場合、ここで、\n",
    "```\n",
    "AttributeError: unexpected attribute 'overlay' to CrosshairTool, possible attributes are description, dimensions, js_event_callbacks, js_property_callbacks, line_alpha, line_color, line_width, name, subscribed_events, syncable, tags or toggleable\n",
    "```\n",
    "というエラーがでたらbokehのバージョンが2で一旦Pythonにロードされてしまった可能性があります。カーネルを再起動してはじめからやり直してください。"
   ]
  },
  {
   "cell_type": "code",
   "execution_count": null,
   "metadata": {
    "colab": {
     "base_uri": "https://localhost:8080/",
     "height": 617
    },
    "id": "YPnuvfTGd71d",
    "outputId": "a7fef64d-d55e-4d60-99f1-99b5187fbc09"
   },
   "outputs": [],
   "source": [
    "chart = Chart(900, 400, ohlcv)\n",
    "chart.show()"
   ]
  },
  {
   "cell_type": "markdown",
   "metadata": {
    "id": "PydxKAR9d71d"
   },
   "source": [
    "#### OHLCVにBackTestの結果を追加する。\n",
    "\n",
    "`Chart.draw_result`でバックテストの結果を追加表示できます。"
   ]
  },
  {
   "cell_type": "code",
   "execution_count": null,
   "metadata": {
    "colab": {
     "base_uri": "https://localhost:8080/",
     "height": 867
    },
    "id": "3Ns8S4shd71d",
    "outputId": "d4de4d22-03b9-4c7e-d6bb-6f863b0f6370"
   },
   "outputs": [],
   "source": [
    "chart = Chart(900, 400, ohlcv)\n",
    "\n",
    "chart.draw_result(back_runner.result)\n",
    "\n",
    "chart.show()"
   ]
  },
  {
   "cell_type": "markdown",
   "metadata": {
    "id": "Il_LfKu_d71e"
   },
   "source": [
    "### indicatorの表示\n",
    "\n",
    "Agentの`on_clock`内で`Agent.log_indicator`を使って保存していたindicatorを`Agent.indicator()`を使って取り出すことができます。`DataFrame`形式になっているので表示します。"
   ]
  },
  {
   "cell_type": "code",
   "execution_count": null,
   "metadata": {
    "colab": {
     "base_uri": "https://localhost:8080/",
     "height": 455
    },
    "id": "bylQBi7ud71e",
    "outputId": "22152fb3-6321-4471-86d3-a00d3818fff0"
   },
   "outputs": [],
   "source": [
    "diff_low = agent.indicator('diff_low')\n",
    "diff_high = agent.indicator('diff_high')\n",
    "range_width = agent.indicator('range_width')\n",
    "range_width"
   ]
  },
  {
   "cell_type": "markdown",
   "metadata": {
    "id": "xuWKP8rWd71e"
   },
   "source": [
    "`Chart.new_figure(新しいパネル名, height=パネルの高さ, title=タイトル)`で新しい描画画面を作ります。\n",
    "\n",
    "作成したパネル名を指定して、`Chart.line`でデータを表示します。\n",
    "\n",
    "`Chart.line(描画パネル名, DataFrame, x_key=データフレーム中のx軸名, y_key=データフレーム中のy軸名, color=線の色, legend_label=凡例として表示する名前)`"
   ]
  },
  {
   "cell_type": "code",
   "execution_count": null,
   "metadata": {
    "colab": {
     "base_uri": "https://localhost:8080/",
     "height": 1000
    },
    "id": "bZ0Lap-td71e",
    "outputId": "bed0f720-43ec-478d-b00a-4ffdd320b0b5"
   },
   "outputs": [],
   "source": [
    "chart = Chart(900, 400, ohlcv)\n",
    "\n",
    "chart.draw_result(back_runner.result)\n",
    "\n",
    "# indicatorの表示\n",
    "## 新しい描画パネルを作成\n",
    "chart.new_figure('indicator_panel', height=150, title='indicator')\n",
    "\n",
    "## indicatorパネルにDataFrameを指定して折線グラフを表示\n",
    "chart.line('indicator_panel', diff_low, color='#ff0000', legend_label='diff_low')\n",
    "chart.line('indicator_panel', diff_high, color='#00ff00', legend_label='diff_high')\n",
    "chart.line('indicator_panel', range_width, color='#0030ff', legend_label='range_width')\n",
    "\n",
    "chart.show()"
   ]
  },
  {
   "cell_type": "markdown",
   "metadata": {
    "id": "UM5WqsQGd71e"
   },
   "source": [
    "## 7. まとめ\n",
    "\n",
    "自分で書くのは百行ぐらいで簡単にバックテストができることが確認できました。\n",
    "\n",
    "現在はBiannceのspot/BTCBUSDしか対応していませんが、使ってみてご意見お聞かせください。\n",
    "Twitter(@yasstake)でもgithubでissueあげてもOK.\n",
    "\n",
    "人気になったらDiscord立ち上げてみたいなー。\n",
    "\n"
   ]
  },
  {
   "cell_type": "markdown",
   "metadata": {
    "id": "ej-ni8TAd71e"
   },
   "source": [
    "## 8. Next Step\n",
    "\n",
    "いろいろバックテストしてみよう\n",
    "\n",
    "#### BreakOutAgentのパラメータ変更\n",
    "以下のパラメータを変えたらどうなるか確認してみよう\n",
    "1. パラメータK (現在は1.6きめうち)\n",
    "2. 指値（現在はbestプライス。\n",
    "   * buyのときに低い価格で指すと利益は上がるがExpire率が上がる。\n",
    "   * 高い価格で指すとExpire率が下がるが利益が下がる。（この場合、本来はTakerFeeが取られるが現在はMakerFeeで計算）\n",
    "3. ロット（現在は0.01 BTC)の変更\n",
    "4. 2時間足から他の足を試してみる。\n",
    "5. Clockのタイミングを増やす・へらす（現在は10分）\n",
    "6. バックテスト期間の延長（現在はBACKTEST_PERIODは5日で設定）\n",
    "\n",
    "さらに独自のIndicatorをつくり、独自ロジックをつくってバックテストしてみよう（OHLCVをベースに判断するロジックならば問題なく作れるはず）"
   ]
  },
  {
   "cell_type": "markdown",
   "metadata": {
    "id": "z--0xVWGd71e"
   },
   "source": []
  }
 ],
 "metadata": {
  "colab": {
   "history_visible": true,
   "provenance": []
  },
  "kernelspec": {
   "display_name": "Python 3 (ipykernel)",
   "language": "python",
   "name": "python3"
  },
  "language_info": {
   "codemirror_mode": {
    "name": "ipython",
    "version": 3
   },
   "file_extension": ".py",
   "mimetype": "text/x-python",
   "name": "python",
   "nbconvert_exporter": "python",
   "pygments_lexer": "ipython3",
   "version": "3.11.4"
  },
  "vscode": {
   "interpreter": {
    "hash": "e69bbd470bf1393b14609a6bb37f84ea05c8b778927caf2a584647f90d922fc5"
   }
  }
 },
 "nbformat": 4,
 "nbformat_minor": 1
}
