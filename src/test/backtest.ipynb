{
 "cells": [
  {
   "cell_type": "code",
   "execution_count": null,
   "metadata": {},
   "outputs": [],
   "source": [
    "import rbot\n",
    "from rbot import _BackTester\n",
    "from rbot import BackRunner\n",
    "from rbot import Session\n",
    "from rbot import _DummySession\n",
    "from rbot import BaseAgent"
   ]
  },
  {
   "cell_type": "code",
   "execution_count": null,
   "metadata": {},
   "outputs": [],
   "source": [
    "s = _DummySession('BN', 'BTCBUSD', False)"
   ]
  },
  {
   "cell_type": "markdown",
   "metadata": {},
   "source": []
  },
  {
   "cell_type": "code",
   "execution_count": null,
   "metadata": {},
   "outputs": [],
   "source": [
    "#backtester = _BackTester('BN', 'BTCUSD', False)\n",
    "backtester = BackRunner('BN', 'BTCBUSD', False)"
   ]
  },
  {
   "cell_type": "code",
   "execution_count": null,
   "metadata": {},
   "outputs": [],
   "source": [
    "class Agent(BaseAgent):\n",
    "    def __init__(self):\n",
    "        super().__init__()\n",
    "    \n",
    "    def on_tick(self, time, session, side, price, size):\n",
    "        print(self, time, session, session.current_timestamp, side, price, size)\n",
    "        pass\n",
    "\n",
    "agent = Agent()\n",
    "\n",
    "backtester.run_session(agent, s)"
   ]
  },
  {
   "cell_type": "code",
   "execution_count": null,
   "metadata": {},
   "outputs": [],
   "source": []
  },
  {
   "cell_type": "code",
   "execution_count": null,
   "metadata": {},
   "outputs": [],
   "source": []
  }
 ],
 "metadata": {
  "kernelspec": {
   "display_name": "Python 3.10.6 ('venv': venv)",
   "language": "python",
   "name": "python3"
  },
  "language_info": {
   "codemirror_mode": {
    "name": "ipython",
    "version": 3
   },
   "file_extension": ".py",
   "mimetype": "text/x-python",
   "name": "python",
   "nbconvert_exporter": "python",
   "pygments_lexer": "ipython3",
   "version": "3.10.6 (main, Aug 30 2022, 04:58:14) [Clang 13.1.6 (clang-1316.0.21.2.5)]"
  },
  "vscode": {
   "interpreter": {
    "hash": "561348bbb4e85c6f6e71fe5b82b416ad34192af0efebb264d0a2937e8ad0f6d5"
   }
  }
 },
 "nbformat": 4,
 "nbformat_minor": 2
}
