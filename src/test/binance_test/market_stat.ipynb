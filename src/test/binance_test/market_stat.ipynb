{
 "cells": [
  {
   "cell_type": "code",
   "execution_count": 1,
   "metadata": {},
   "outputs": [],
   "source": [
    "import json\n",
    "from json2html import json2html\n",
    "from IPython.display import HTML\n",
    "\n",
    "from rbot import *\n",
    "config = BinanceConfig.SPOT(\"BTC\", \"USDT\")\n"
   ]
  },
  {
   "cell_type": "code",
   "execution_count": 2,
   "metadata": {},
   "outputs": [],
   "source": [
    "from rbot import BinanceMarket\n",
    "\n",
    "binance = BinanceMarket(config)"
   ]
  },
  {
   "cell_type": "code",
   "execution_count": 3,
   "metadata": {},
   "outputs": [
    {
     "data": {
      "text/html": [
       "<b>Binance DB (BTCUSDT)</b>\n",
       "            <table>\n",
       "            <caption>Trade Database info table</caption>\n",
       "            <tr><th>start</th><th>end</th></tr>\n",
       "            <tr><td>1697241600001000</td><td>1697803168292000</td></tr>\n",
       "            <tr><td>\"2023-10-14T00:00:00.001000\"</td><td>\"2023-10-20T11:59:28.292000\"</td></tr>\n",
       "            <tr><td><b>days=</b></td><td>6</td></tr>                \n",
       "            </table>                \n",
       "            "
      ],
      "text/plain": [
       "<BinanceMarket at 0x129b98f10>"
      ]
     },
     "execution_count": 3,
     "metadata": {},
     "output_type": "execute_result"
    }
   ],
   "source": [
    "binance"
   ]
  },
  {
   "cell_type": "code",
   "execution_count": 4,
   "metadata": {},
   "outputs": [
    {
     "data": {
      "text/html": [
       "<div><style>\n",
       ".dataframe > thead > tr > th,\n",
       ".dataframe > tbody > tr > td {\n",
       "  text-align: right;\n",
       "  white-space: pre-wrap;\n",
       "}\n",
       "</style>\n",
       "<small>shape: (6_700, 3)</small><table border=\"1\" class=\"dataframe\"><thead><tr><th>order_side</th><th>price</th><th>size</th></tr><tr><td>bool</td><td>f64</td><td>f64</td></tr></thead><tbody><tr><td>true</td><td>26866.0</td><td>123.3916</td></tr><tr><td>false</td><td>26855.0</td><td>74.32233</td></tr><tr><td>false</td><td>26861.0</td><td>48.93014</td></tr><tr><td>true</td><td>26873.0</td><td>113.3566</td></tr><tr><td>false</td><td>26875.0</td><td>148.72894</td></tr><tr><td>true</td><td>26876.0</td><td>89.37352</td></tr><tr><td>false</td><td>26884.0</td><td>62.77234</td></tr><tr><td>true</td><td>26880.0</td><td>148.9064</td></tr><tr><td>true</td><td>26887.0</td><td>106.99055</td></tr><tr><td>false</td><td>26898.0</td><td>103.24368</td></tr><tr><td>true</td><td>26897.0</td><td>174.89479</td></tr><tr><td>true</td><td>26890.0</td><td>223.24658</td></tr><tr><td>&hellip;</td><td>&hellip;</td><td>&hellip;</td></tr><tr><td>false</td><td>30179.0</td><td>1.40091</td></tr><tr><td>true</td><td>30178.0</td><td>1.24644</td></tr><tr><td>true</td><td>30185.0</td><td>0.48902</td></tr><tr><td>true</td><td>30188.0</td><td>4.45477</td></tr><tr><td>false</td><td>30193.0</td><td>0.3028</td></tr><tr><td>false</td><td>30204.0</td><td>0.12771</td></tr><tr><td>true</td><td>30206.0</td><td>0.19667</td></tr><tr><td>true</td><td>30203.0</td><td>0.2</td></tr><tr><td>true</td><td>30036.0</td><td>1.17855</td></tr><tr><td>true</td><td>30033.0</td><td>7.28044</td></tr><tr><td>true</td><td>30013.0</td><td>12.27038</td></tr><tr><td>true</td><td>30006.0</td><td>1.87234</td></tr></tbody></table></div>"
      ],
      "text/plain": [
       "shape: (6_700, 3)\n",
       "┌────────────┬─────────┬──────────┐\n",
       "│ order_side ┆ price   ┆ size     │\n",
       "│ ---        ┆ ---     ┆ ---      │\n",
       "│ bool       ┆ f64     ┆ f64      │\n",
       "╞════════════╪═════════╪══════════╡\n",
       "│ true       ┆ 26866.0 ┆ 123.3916 │\n",
       "│ false      ┆ 26855.0 ┆ 74.32233 │\n",
       "│ false      ┆ 26861.0 ┆ 48.93014 │\n",
       "│ true       ┆ 26873.0 ┆ 113.3566 │\n",
       "│ …          ┆ …       ┆ …        │\n",
       "│ true       ┆ 30036.0 ┆ 1.17855  │\n",
       "│ true       ┆ 30033.0 ┆ 7.28044  │\n",
       "│ true       ┆ 30013.0 ┆ 12.27038 │\n",
       "│ true       ┆ 30006.0 ┆ 1.87234  │\n",
       "└────────────┴─────────┴──────────┘"
      ]
     },
     "execution_count": 4,
     "metadata": {},
     "output_type": "execute_result"
    }
   ],
   "source": [
    "binance.vap(0, 0, 0)"
   ]
  },
  {
   "cell_type": "code",
   "execution_count": 6,
   "metadata": {},
   "outputs": [
    {
     "data": {
      "text/html": [
       "<div><style>\n",
       ".dataframe > thead > tr > th,\n",
       ".dataframe > tbody > tr > td {\n",
       "  text-align: right;\n",
       "  white-space: pre-wrap;\n",
       "}\n",
       "</style>\n",
       "<small>shape: (72, 3)</small><table border=\"1\" class=\"dataframe\"><thead><tr><th>order_side</th><th>price</th><th>size</th></tr><tr><td>bool</td><td>f64</td><td>f64</td></tr></thead><tbody><tr><td>true</td><td>26700.0</td><td>6.80123</td></tr><tr><td>false</td><td>26700.0</td><td>8.35858</td></tr><tr><td>true</td><td>26800.0</td><td>7021.33176</td></tr><tr><td>false</td><td>26800.0</td><td>5229.97107</td></tr><tr><td>true</td><td>26900.0</td><td>2873.61111</td></tr><tr><td>false</td><td>26900.0</td><td>2867.00432</td></tr><tr><td>true</td><td>27000.0</td><td>1324.08558</td></tr><tr><td>false</td><td>27000.0</td><td>1561.98592</td></tr><tr><td>true</td><td>27100.0</td><td>2240.75319</td></tr><tr><td>false</td><td>27100.0</td><td>2789.19721</td></tr><tr><td>true</td><td>27200.0</td><td>2413.18426</td></tr><tr><td>false</td><td>27200.0</td><td>2899.7405</td></tr><tr><td>&hellip;</td><td>&hellip;</td><td>&hellip;</td></tr><tr><td>false</td><td>29700.0</td><td>2014.82621</td></tr><tr><td>true</td><td>29700.0</td><td>2072.12277</td></tr><tr><td>false</td><td>29800.0</td><td>2179.06074</td></tr><tr><td>true</td><td>29800.0</td><td>2463.25642</td></tr><tr><td>true</td><td>29900.0</td><td>2511.80922</td></tr><tr><td>false</td><td>29900.0</td><td>3008.19679</td></tr><tr><td>true</td><td>30000.0</td><td>463.59872</td></tr><tr><td>false</td><td>30000.0</td><td>1512.11567</td></tr><tr><td>false</td><td>30100.0</td><td>276.84769</td></tr><tr><td>true</td><td>30100.0</td><td>349.11731</td></tr><tr><td>false</td><td>30200.0</td><td>62.66949</td></tr><tr><td>true</td><td>30200.0</td><td>20.41</td></tr></tbody></table></div>"
      ],
      "text/plain": [
       "shape: (72, 3)\n",
       "┌────────────┬─────────┬────────────┐\n",
       "│ order_side ┆ price   ┆ size       │\n",
       "│ ---        ┆ ---     ┆ ---        │\n",
       "│ bool       ┆ f64     ┆ f64        │\n",
       "╞════════════╪═════════╪════════════╡\n",
       "│ true       ┆ 26700.0 ┆ 6.80123    │\n",
       "│ false      ┆ 26700.0 ┆ 8.35858    │\n",
       "│ true       ┆ 26800.0 ┆ 7021.33176 │\n",
       "│ false      ┆ 26800.0 ┆ 5229.97107 │\n",
       "│ …          ┆ …       ┆ …          │\n",
       "│ false      ┆ 30100.0 ┆ 276.84769  │\n",
       "│ true       ┆ 30100.0 ┆ 349.11731  │\n",
       "│ false      ┆ 30200.0 ┆ 62.66949   │\n",
       "│ true       ┆ 30200.0 ┆ 20.41      │\n",
       "└────────────┴─────────┴────────────┘"
      ]
     },
     "execution_count": 6,
     "metadata": {},
     "output_type": "execute_result"
    }
   ],
   "source": [
    "binance.vap(time_from=0, time_to=0, price_unit=100)   "
   ]
  },
  {
   "cell_type": "code",
   "execution_count": null,
   "metadata": {},
   "outputs": [],
   "source": []
  }
 ],
 "metadata": {
  "kernelspec": {
   "display_name": "Python 3",
   "language": "python",
   "name": "python3"
  },
  "language_info": {
   "codemirror_mode": {
    "name": "ipython",
    "version": 3
   },
   "file_extension": ".py",
   "mimetype": "text/x-python",
   "name": "python",
   "nbconvert_exporter": "python",
   "pygments_lexer": "ipython3",
   "version": "3.11.6"
  }
 },
 "nbformat": 4,
 "nbformat_minor": 2
}
