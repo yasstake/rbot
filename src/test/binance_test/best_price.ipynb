{
 "cells": [
  {
   "cell_type": "code",
   "execution_count": 2,
   "metadata": {},
   "outputs": [],
   "source": [
    "from rbot import Session\n",
    "from rbot import Runner\n",
    "from rbot import BinanceConfig\n",
    "from rbot import BinanceMarket\n",
    "from rbot import init_debug_log\n",
    "from rbot import init_log\n",
    "from rbot import OrderSide\n",
    "from rbot import time_string\n",
    "from rbot import HHMM\n",
    "from rbot import SEC\n",
    "from rbot import OrderStatus\n",
    "from rbot import NOW\n",
    "from rbot import DAYS"
   ]
  },
  {
   "cell_type": "code",
   "execution_count": 5,
   "metadata": {},
   "outputs": [],
   "source": [
    "class MyAgent:\n",
    "    def on_tick(self, session, side, price, size):\n",
    "        print(\"on_tick\", session, side, price, size)"
   ]
  },
  {
   "cell_type": "code",
   "execution_count": 6,
   "metadata": {},
   "outputs": [],
   "source": [
    "market = BinanceMarket(BinanceConfig.BTCUSDT)"
   ]
  },
  {
   "cell_type": "code",
   "execution_count": 9,
   "metadata": {},
   "outputs": [],
   "source": [
    "agent = MyAgent()\n",
    "runner = Runner()"
   ]
  },
  {
   "cell_type": "code",
   "execution_count": 1,
   "metadata": {},
   "outputs": [
    {
     "ename": "NameError",
     "evalue": "name 'runner' is not defined",
     "output_type": "error",
     "traceback": [
      "\u001b[0;31m---------------------------------------------------------------------------\u001b[0m",
      "\u001b[0;31mNameError\u001b[0m                                 Traceback (most recent call last)",
      "\u001b[1;32m/Users/takeoyasukawa/Projects/rbot/src/test/binance_test/best_price.ipynb セル 5\u001b[0m line \u001b[0;36m1\n\u001b[0;32m----> <a href='vscode-notebook-cell:/Users/takeoyasukawa/Projects/rbot/src/test/binance_test/best_price.ipynb#W4sZmlsZQ%3D%3D?line=0'>1</a>\u001b[0m runner\u001b[39m.\u001b[39mback_test(market, agent, NOW()\u001b[39m-\u001b[39mDAYS(\u001b[39m3\u001b[39m), \u001b[39m0\u001b[39m, \u001b[39m0\u001b[39m)\n",
      "\u001b[0;31mNameError\u001b[0m: name 'runner' is not defined"
     ]
    }
   ],
   "source": [
    "runner.back_test(market, agent, NOW()-DAYS(3), 0, 0)"
   ]
  },
  {
   "cell_type": "code",
   "execution_count": null,
   "metadata": {},
   "outputs": [],
   "source": []
  }
 ],
 "metadata": {
  "kernelspec": {
   "display_name": "Python 3",
   "language": "python",
   "name": "python3"
  },
  "language_info": {
   "codemirror_mode": {
    "name": "ipython",
    "version": 3
   },
   "file_extension": ".py",
   "mimetype": "text/x-python",
   "name": "python",
   "nbconvert_exporter": "python",
   "pygments_lexer": "ipython3",
   "version": "3.11.6"
  }
 },
 "nbformat": 4,
 "nbformat_minor": 2
}
