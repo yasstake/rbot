{
 "cells": [
  {
   "cell_type": "code",
   "execution_count": 1,
   "metadata": {},
   "outputs": [],
   "source": [
    "import rbot"
   ]
  },
  {
   "cell_type": "code",
   "execution_count": 2,
   "metadata": {},
   "outputs": [],
   "source": [
    "from rbot import *"
   ]
  },
  {
   "cell_type": "code",
   "execution_count": 3,
   "metadata": {},
   "outputs": [
    {
     "name": "stdout",
     "output_type": "stream",
     "text": [
      "BinanceConfig { exchange_name: \"BN\", trade_category: \"TESTSPOT\", trade_symbol: \"BTCUSDT\", trade_in_fiat: false, testnet: true, rest_endpoint: \"https://testnet.binance.vision\", public_ws_endpoint: \"wss://testnet.binance.vision/ws\", private_ws_endpoint: \"wss://testnet.binance.vision/ws\", history_web_base: \"https://data.binance.vision/data/spot/daily/trades\", new_order_path: \"/api/v3/order\", cancel_order_path: \"/api/v3/order\", public_subscribe_message: \"{\\\"id\\\":1,\\\"method\\\":\\\"SUBSCRIBE\\\",\\\"params\\\":[\\\"btcusdt@trade\\\",\\\"btcusdt@depth@100ms\\\"]}\", api_key: \"********\", api_secret: \"********\" }\n"
     ]
    }
   ],
   "source": [
    "config = BinanceConfig.TESTSPOT(\"BTCUSDT\")\n",
    "print(config)"
   ]
  },
  {
   "cell_type": "code",
   "execution_count": 4,
   "metadata": {},
   "outputs": [
    {
     "name": "stdout",
     "output_type": "stream",
     "text": [
      "create TradeTable: /Users/takeoyasukawa/Library/Application Support/net.takibi.rbot/DB/BN-TESTNET/TESTSPOT-BTCUSDT.db\n",
      "open database /Users/takeoyasukawa/Library/Application Support/net.takibi.rbot/DB/BN-TESTNET/TESTSPOT-BTCUSDT.db\n",
      "journal_mode = wal\n",
      "wal mode already set\n",
      "set as wal mode\n"
     ]
    }
   ],
   "source": [
    "import rbot\n",
    "from rbot import BinanceMarket\n",
    "\n",
    "          #BinanceMarket\n",
    "binance = BinanceMarket(config)"
   ]
  },
  {
   "cell_type": "code",
   "execution_count": 5,
   "metadata": {},
   "outputs": [
    {
     "name": "stdout",
     "output_type": "stream",
     "text": [
      "path/api/v3/allOrders / body: symbol=BTCUSDT&limit=1000 / Ok(\"[{\\\"symbol\\\":\\\"BTCUSDT\\\",\\\"orderId\\\":2782215,\\\"orderListId\\\":-1,\\\"clientOrderId\\\":\\\"LnvxKDYYXdtn7m8oweHqyh\\\",\\\"price\\\":\\\"25000.00000000\\\",\\\"origQty\\\":\\\"0.01000000\\\",\\\"executedQty\\\":\\\"0.01000000\\\",\\\"cummulativeQuoteQty\\\":\\\"250.00000000\\\",\\\"status\\\":\\\"FILLED\\\",\\\"timeInForce\\\":\\\"GTC\\\",\\\"type\\\":\\\"LIMIT\\\",\\\"side\\\":\\\"BUY\\\",\\\"stopPrice\\\":\\\"0.00000000\\\",\\\"icebergQty\\\":\\\"0.00000000\\\",\\\"time\\\":1694396686024,\\\"updateTime\\\":1694398622469,\\\"isWorking\\\":true,\\\"workingTime\\\":1694396686024,\\\"origQuoteOrderQty\\\":\\\"0.00000000\\\",\\\"selfTradePreventionMode\\\":\\\"NONE\\\"},{\\\"symbol\\\":\\\"BTCUSDT\\\",\\\"orderId\\\":2782217,\\\"orderListId\\\":-1,\\\"clientOrderId\\\":\\\"tpELVj8sifYLV0RKUA8Ojx\\\",\\\"price\\\":\\\"25000.00000000\\\",\\\"origQty\\\":\\\"0.01000000\\\",\\\"executedQty\\\":\\\"0.01000000\\\",\\\"cummulativeQuoteQty\\\":\\\"250.00000000\\\",\\\"status\\\":\\\"FILLED\\\",\\\"timeInForce\\\":\\\"GTC\\\",\\\"type\\\":\\\"LIMIT\\\",\\\"side\\\":\\\"BUY\\\",\\\"stopPrice\\\":\\\"0.00000000\\\",\\\"icebergQty\\\":\\\"0.00000000\\\",\\\"time\\"
     ]
    },
    {
     "data": {
      "text/plain": [
       "[BinanceOrderStatus { symbol: \"BTCUSDT\", orderId: 2782215, orderListId: -1, clientOrderId: \"LnvxKDYYXdtn7m8oweHqyh\", price: 25000.00000000, origQty: 0.01000000, executedQty: 0.01000000, cummulativeQuoteQty: 250.00000000, status: \"FILLED\", timeInForce: \"GTC\", order_type: \"LIMIT\", side: \"BUY\", stopPrice: 0.00000000, icebergQty: 0.00000000, time: 1694396686024, updateTime: 1694398622469, isWorking: true, workingTime: 1694396686024, origQuoteOrderQty: 0.00000000, selfTradePreventionMode: \"NONE\" },\n",
       " BinanceOrderStatus { symbol: \"BTCUSDT\", orderId: 2782217, orderListId: -1, clientOrderId: \"tpELVj8sifYLV0RKUA8Ojx\", price: 25000.00000000, origQty: 0.01000000, executedQty: 0.01000000, cummulativeQuoteQty: 250.00000000, status: \"FILLED\", timeInForce: \"GTC\", order_type: \"LIMIT\", side: \"BUY\", stopPrice: 0.00000000, icebergQty: 0.00000000, time: 1694396695637, updateTime: 1694398622469, isWorking: true, workingTime: 1694396695637, origQuoteOrderQty: 0.00000000, selfTradePreventionMode: \"NONE\" },\n",
       " BinanceOrderStatus { symbol: \"BTCUSDT\", orderId: 2791003, orderListId: -1, clientOrderId: \"S6w1uJxeduZFYx1uqrcOiT\", price: 25000.00000000, origQty: 0.01000000, executedQty: 0.01000000, cummulativeQuoteQty: 250.00000000, status: \"FILLED\", timeInForce: \"GTC\", order_type: \"LIMIT\", side: \"BUY\", stopPrice: 0.00000000, icebergQty: 0.00000000, time: 1694399419359, updateTime: 1694399524466, isWorking: true, workingTime: 1694399419359, origQuoteOrderQty: 0.00000000, selfTradePreventionMode: \"NONE\" },\n",
       " BinanceOrderStatus { symbol: \"BTCUSDT\", orderId: 2791018, orderListId: -1, clientOrderId: \"6W0YJa0TCNlTFf0pwrhD1Z\", price: 25000.00000000, origQty: 0.01000000, executedQty: 0.01000000, cummulativeQuoteQty: 250.00000000, status: \"FILLED\", timeInForce: \"GTC\", order_type: \"LIMIT\", side: \"BUY\", stopPrice: 0.00000000, icebergQty: 0.00000000, time: 1694399444417, updateTime: 1694399524466, isWorking: true, workingTime: 1694399444417, origQuoteOrderQty: 0.00000000, selfTradePreventionMode: \"NONE\" },\n",
       " BinanceOrderStatus { symbol: \"BTCUSDT\", orderId: 2801804, orderListId: -1, clientOrderId: \"kY1xyiqYt86D6fReZuXnhL\", price: 25000.00000000, origQty: 0.01000000, executedQty: 0.01000000, cummulativeQuoteQty: 250.00000000, status: \"FILLED\", timeInForce: \"GTC\", order_type: \"LIMIT\", side: \"BUY\", stopPrice: 0.00000000, icebergQty: 0.00000000, time: 1694401913205, updateTime: 1694402069229, isWorking: true, workingTime: 1694401913205, origQuoteOrderQty: 0.00000000, selfTradePreventionMode: \"NONE\" },\n",
       " BinanceOrderStatus { symbol: \"BTCUSDT\", orderId: 2903188, orderListId: -1, clientOrderId: \"eF5KnQaFLKVdFe0G9E9FB1\", price: 25000.00000000, origQty: 0.01000000, executedQty: 0.01000000, cummulativeQuoteQty: 250.00000000, status: \"FILLED\", timeInForce: \"GTC\", order_type: \"LIMIT\", side: \"BUY\", stopPrice: 0.00000000, icebergQty: 0.00000000, time: 1694415392326, updateTime: 1694424339455, isWorking: true, workingTime: 1694415392326, origQuoteOrderQty: 0.00000000, selfTradePreventionMode: \"NONE\" },\n",
       " BinanceOrderStatus { symbol: \"BTCUSDT\", orderId: 2932980, orderListId: -1, clientOrderId: \"yakXzbi39gkBW3t5nbgequ\", price: 25000.00000000, origQty: 0.01000000, executedQty: 0.01000000, cummulativeQuoteQty: 250.00000000, status: \"FILLED\", timeInForce: \"GTC\", order_type: \"LIMIT\", side: \"BUY\", stopPrice: 0.00000000, icebergQty: 0.00000000, time: 1694418590092, updateTime: 1694424339455, isWorking: true, workingTime: 1694418590092, origQuoteOrderQty: 0.00000000, selfTradePreventionMode: \"NONE\" },\n",
       " BinanceOrderStatus { symbol: \"BTCUSDT\", orderId: 2955184, orderListId: -1, clientOrderId: \"HRmgmPQ0wFx1wrejsLv3tb\", price: 25000.00000000, origQty: 0.01000000, executedQty: 0.01000000, cummulativeQuoteQty: 250.00000000, status: \"FILLED\", timeInForce: \"GTC\", order_type: \"LIMIT\", side: \"BUY\", stopPrice: 0.00000000, icebergQty: 0.00000000, time: 1694420421757, updateTime: 1694424339455, isWorking: true, workingTime: 1694420421757, origQuoteOrderQty: 0.00000000, selfTradePreventionMode: \"NONE\" },\n",
       " BinanceOrderStatus { symbol: \"BTCUSDT\", orderId: 2976756, orderListId: -1, clientOrderId: \"Us5MPoO7kNuOecL9m50Y34\", price: 25000.00000000, origQty: 0.01000000, executedQty: 0.01000000, cummulativeQuoteQty: 250.00000000, status: \"FILLED\", timeInForce: \"GTC\", order_type: \"LIMIT\", side: \"BUY\", stopPrice: 0.00000000, icebergQty: 0.00000000, time: 1694422305606, updateTime: 1694424339455, isWorking: true, workingTime: 1694422305606, origQuoteOrderQty: 0.00000000, selfTradePreventionMode: \"NONE\" },\n",
       " BinanceOrderStatus { symbol: \"BTCUSDT\", orderId: 2981859, orderListId: -1, clientOrderId: \"ntOz2JLw0SUWNyTvKDTbXR\", price: 25000.00000000, origQty: 0.01000000, executedQty: 0.01000000, cummulativeQuoteQty: 250.00000000, status: \"FILLED\", timeInForce: \"GTC\", order_type: \"LIMIT\", side: \"BUY\", stopPrice: 0.00000000, icebergQty: 0.00000000, time: 1694422819445, updateTime: 1694424350201, isWorking: true, workingTime: 1694422819445, origQuoteOrderQty: 0.00000000, selfTradePreventionMode: \"NONE\" },\n",
       " BinanceOrderStatus { symbol: \"BTCUSDT\", orderId: 2986909, orderListId: -1, clientOrderId: \"IKvdB2bVuwgOVwJ3RbPuqh\", price: 25000.00000000, origQty: 0.01000000, executedQty: 0.01000000, cummulativeQuoteQty: 250.00000000, status: \"FILLED\", timeInForce: \"GTC\", order_type: \"LIMIT\", side: \"BUY\", stopPrice: 0.00000000, icebergQty: 0.00000000, time: 1694423406519, updateTime: 1694424350201, isWorking: true, workingTime: 1694423406519, origQuoteOrderQty: 0.00000000, selfTradePreventionMode: \"NONE\" },\n",
       " BinanceOrderStatus { symbol: \"BTCUSDT\", orderId: 2987883, orderListId: -1, clientOrderId: \"AXHzxHapJXHYMHSJLjZjOD\", price: 25000.00000000, origQty: 0.01000000, executedQty: 0.01000000, cummulativeQuoteQty: 250.00000000, status: \"FILLED\", timeInForce: \"GTC\", order_type: \"LIMIT\", side: \"BUY\", stopPrice: 0.00000000, icebergQty: 0.00000000, time: 1694423523567, updateTime: 1694424350201, isWorking: true, workingTime: 1694423523567, origQuoteOrderQty: 0.00000000, selfTradePreventionMode: \"NONE\" },\n",
       " BinanceOrderStatus { symbol: \"BTCUSDT\", orderId: 2989648, orderListId: -1, clientOrderId: \"b5RVFMbNIxERdFpqb6G91T\", price: 25000.00000000, origQty: 0.01000000, executedQty: 0.01000000, cummulativeQuoteQty: 250.00000000, status: \"FILLED\", timeInForce: \"GTC\", order_type: \"LIMIT\", side: \"BUY\", stopPrice: 0.00000000, icebergQty: 0.00000000, time: 1694423722855, updateTime: 1694424350201, isWorking: true, workingTime: 1694423722855, origQuoteOrderQty: 0.00000000, selfTradePreventionMode: \"NONE\" },\n",
       " BinanceOrderStatus { symbol: \"BTCUSDT\", orderId: 2990370, orderListId: -1, clientOrderId: \"1Nmzyg5WGz1mXIFjQMy3R3\", price: 25000.00000000, origQty: 0.01000000, executedQty: 0.01000000, cummulativeQuoteQty: 250.00000000, status: \"FILLED\", timeInForce: \"GTC\", order_type: \"LIMIT\", side: \"BUY\", stopPrice: 0.00000000, icebergQty: 0.00000000, time: 1694423803618, updateTime: 1694424350201, isWorking: true, workingTime: 1694423803618, origQuoteOrderQty: 0.00000000, selfTradePreventionMode: \"NONE\" }]"
      ]
     },
     "execution_count": 5,
     "metadata": {},
     "output_type": "execute_result"
    },
    {
     "name": "stdout",
     "output_type": "stream",
     "text": [
      "\":1694396695637,\\\"updateTime\\\":1694398622469,\\\"isWorking\\\":true,\\\"workingTime\\\":1694396695637,\\\"origQuoteOrderQty\\\":\\\"0.00000000\\\",\\\"selfTradePreventionMode\\\":\\\"NONE\\\"},{\\\"symbol\\\":\\\"BTCUSDT\\\",\\\"orderId\\\":2791003,\\\"orderListId\\\":-1,\\\"clientOrderId\\\":\\\"S6w1uJxeduZFYx1uqrcOiT\\\",\\\"price\\\":\\\"25000.00000000\\\",\\\"origQty\\\":\\\"0.01000000\\\",\\\"executedQty\\\":\\\"0.01000000\\\",\\\"cummulativeQuoteQty\\\":\\\"250.00000000\\\",\\\"status\\\":\\\"FILLED\\\",\\\"timeInForce\\\":\\\"GTC\\\",\\\"type\\\":\\\"LIMIT\\\",\\\"side\\\":\\\"BUY\\\",\\\"stopPrice\\\":\\\"0.00000000\\\",\\\"icebergQty\\\":\\\"0.00000000\\\",\\\"time\\\":1694399419359,\\\"updateTime\\\":1694399524466,\\\"isWorking\\\":true,\\\"workingTime\\\":1694399419359,\\\"origQuoteOrderQty\\\":\\\"0.00000000\\\",\\\"selfTradePreventionMode\\\":\\\"NONE\\\"},{\\\"symbol\\\":\\\"BTCUSDT\\\",\\\"orderId\\\":2791018,\\\"orderListId\\\":-1,\\\"clientOrderId\\\":\\\"6W0YJa0TCNlTFf0pwrhD1Z\\\",\\\"price\\\":\\\"25000.00000000\\\",\\\"origQty\\\":\\\"0.01000000\\\",\\\"executedQty\\\":\\\"0.01000000\\\",\\\"cummulativeQuoteQty\\\":\\\"250.00000000\\\",\\\"status\\\":\\\"FILLED\\\",\\\"timeInForce\\\":\\\"GTC\\\",\\\"type\\\":\\\"LIMIT\\\",\\\"side\\\":\\\"BUY\\\",\\\"stopPrice\\\":\\\"0.00000000\\\",\\\"icebergQty\\\":\\\"0.00000000\\\",\\\"time\\\":1694399444417,\\\"updateTime\\\":1694399524466,\\\"isWorking\\\":true,\\\"workingTime\\\":1694399444417,\\\"origQuoteOrderQty\\\":\\\"0.00000000\\\",\\\"selfTradePreventionMode\\\":\\\"NONE\\\"},{\\\"symbol\\\":\\\"BTCUSDT\\\",\\\"orderId\\\":2801804,\\\"orderListId\\\":-1,\\\"clientOrderId\\\":\\\"kY1xyiqYt86D6fReZuXnhL\\\",\\\"price\\\":\\\"25000.00000000\\\",\\\"origQty\\\":\\\"0.01000000\\\",\\\"executedQty\\\":\\\"0.01000000\\\",\\\"cummulativeQuoteQty\\\":\\\"250.00000000\\\",\\\"status\\\":\\\"FILLED\\\",\\\"timeInForce\\\":\\\"GTC\\\",\\\"type\\\":\\\"LIMIT\\\",\\\"side\\\":\\\"BUY\\\",\\\"stopPrice\\\":\\\"0.00000000\\\",\\\"icebergQty\\\":\\\"0.00000000\\\",\\\"time\\\":1694401913205,\\\"updateTime\\\":1694402069229,\\\"isWorking\\\":true,\\\"workingTime\\\":1694401913205,\\\"origQuoteOrderQty\\\":\\\"0.00000000\\\",\\\"selfTradePreventionMode\\\":\\\"NONE\\\"},{\\\"symbol\\\":\\\"BTCUSDT\\\",\\\"orderId\\\":2903188,\\\"orderListId\\\":-1,\\\"clientOrderId\\\":\\\"eF5KnQaFLKVdFe0G9E9FB1\\\",\\\"price\\\":\\\"25000.00000000\\\",\\\"origQty\\\":\\\"0.01000000\\\",\\\"executedQty\\\":\\\"0.01000000\\\",\\\"cummulativeQuoteQty\\\":\\\"250.00000000\\\",\\\"status\\\":\\\"FILLED\\\",\\\"timeInForce\\\":\\\"GTC\\\",\\\"type\\\":\\\"LIMIT\\\",\\\"side\\\":\\\"BUY\\\",\\\"stopPrice\\\":\\\"0.00000000\\\",\\\"icebergQty\\\":\\\"0.00000000\\\",\\\"time\\\":1694415392326,\\\"updateTime\\\":1694424339455,\\\"isWorking\\\":true,\\\"workingTime\\\":1694415392326,\\\"origQuoteOrderQty\\\":\\\"0.00000000\\\",\\\"selfTradePreventionMode\\\":\\\"NONE\\\"},{\\\"symbol\\\":\\\"BTCUSDT\\\",\\\"orderId\\\":2932980,\\\"orderListId\\\":-1,\\\"clientOrderId\\\":\\\"yakXzbi39gkBW3t5nbgequ\\\",\\\"price\\\":\\\"25000.00000000\\\",\\\"origQty\\\":\\\"0.01000000\\\",\\\"executedQty\\\":\\\"0.01000000\\\",\\\"cummulativeQuoteQty\\\":\\\"250.00000000\\\",\\\"status\\\":\\\"FILLED\\\",\\\"timeInForce\\\":\\\"GTC\\\",\\\"type\\\":\\\"LIMIT\\\",\\\"side\\\":\\\"BUY\\\",\\\"stopPrice\\\":\\\"0.00000000\\\",\\\"icebergQty\\\":\\\"0.00000000\\\",\\\"time\\\":1694418590092,\\\"updateTime\\\":1694424339455,\\\"isWorking\\\":true,\\\"workingTime\\\":1694418590092,\\\"origQuoteOrderQty\\\":\\\"0.00000000\\\",\\\"selfTradePreventionMode\\\":\\\"NONE\\\"},{\\\"symbol\\\":\\\"BTCUSDT\\\",\\\"orderId\\\":2955184,\\\"orderListId\\\":-1,\\\"clientOrderId\\\":\\\"HRmgmPQ0wFx1wrejsLv3tb\\\",\\\"price\\\":\\\"25000.00000000\\\",\\\"origQty\\\":\\\"0.01000000\\\",\\\"executedQty\\\":\\\"0.01000000\\\",\\\"cummulativeQuoteQty\\\":\\\"250.00000000\\\",\\\"status\\\":\\\"FILLED\\\",\\\"timeInForce\\\":\\\"GTC\\\",\\\"type\\\":\\\"LIMIT\\\",\\\"side\\\":\\\"BUY\\\",\\\"stopPrice\\\":\\\"0.00000000\\\",\\\"icebergQty\\\":\\\"0.00000000\\\",\\\"time\\\":1694420421757,\\\"updateTime\\\":1694424339455,\\\"isWorking\\\":true,\\\"workingTime\\\":1694420421757,\\\"origQuoteOrderQty\\\":\\\"0.00000000\\\",\\\"selfTradePreventionMode\\\":\\\"NONE\\\"},{\\\"symbol\\\":\\\"BTCUSDT\\\",\\\"orderId\\\":2976756,\\\"orderListId\\\":-1,\\\"clientOrderId\\\":\\\"Us5MPoO7kNuOecL9m50Y34\\\",\\\"price\\\":\\\"25000.00000000\\\",\\\"origQty\\\":\\\"0.01000000\\\",\\\"executedQty\\\":\\\"0.01000000\\\",\\\"cummulativeQuoteQty\\\":\\\"250.00000000\\\",\\\"status\\\":\\\"FILLED\\\",\\\"timeInForce\\\":\\\"GTC\\\",\\\"type\\\":\\\"LIMIT\\\",\\\"side\\\":\\\"BUY\\\",\\\"stopPrice\\\":\\\"0.00000000\\\",\\\"icebergQty\\\":\\\"0.00000000\\\",\\\"time\\\":1694422305606,\\\"updateTime\\\":1694424339455,\\\"isWorking\\\":true,\\\"workingTime\\\":1694422305606,\\\"origQuoteOrderQty\\\":\\\"0.00000000\\\",\\\"selfTradePreventionMode\\\":\\\"NONE\\\"},{\\\"symbol\\\":\\\"BTCUSDT\\\",\\\"orderId\\\":2981859,\\\"orderListId\\\":-1,\\\"clientOrderId\\\":\\\"ntOz2JLw0SUWNyTvKDTbXR\\\",\\\"price\\\":\\\"25000.00000000\\\",\\\"origQty\\\":\\\"0.01000000\\\",\\\"executedQty\\\":\\\"0.01000000\\\",\\\"cummulativeQuoteQty\\\":\\\"250.00000000\\\",\\\"status\\\":\\\"FILLED\\\",\\\"timeInForce\\\":\\\"GTC\\\",\\\"type\\\":\\\"LIMIT\\\",\\\"side\\\":\\\"BUY\\\",\\\"stopPrice\\\":\\\"0.00000000\\\",\\\"icebergQty\\\":\\\"0.00000000\\\",\\\"time\\\":1694422819445,\\\"updateTime\\\":1694424350201,\\\"isWorking\\\":true,\\\"workingTime\\\":1694422819445,\\\"origQuoteOrderQty\\\":\\\"0.00000000\\\",\\\"selfTradePreventionMode\\\":\\\"NONE\\\"},{\\\"symbol\\\":\\\"BTCUSDT\\\",\\\"orderId\\\":2986909,\\\"orderListId\\\":-1,\\\"clientOrderId\\\":\\\"IKvdB2bVuwgOVwJ3RbPuqh\\\",\\\"price\\\":\\\"25000.00000000\\\",\\\"origQty\\\":\\\"0.01000000\\\",\\\"executedQty\\\":\\\"0.01000000\\\",\\\"cummulativeQuoteQty\\\":\\\"250.00000000\\\",\\\"status\\\":\\\"FILLED\\\",\\\"timeInForce\\\":\\\"GTC\\\",\\\"type\\\":\\\"LIMIT\\\",\\\"side\\\":\\\"BUY\\\",\\\"stopPrice\\\":\\\"0.00000000\\\",\\\"icebergQty\\\":\\\"0.00000000\\\",\\\"time\\\":1694423406519,\\\"updateTime\\\":1694424350201,\\\"isWorking\\\":true,\\\"workingTime\\\":1694423406519,\\\"origQuoteOrderQty\\\":\\\"0.00000000\\\",\\\"selfTradePreventionMode\\\":\\\"NONE\\\"},{\\\"symbol\\\":\\\"BTCUSDT\\\",\\\"orderId\\\":2987883,\\\"orderListId\\\":-1,\\\"clientOrderId\\\":\\\"AXHzxHapJXHYMHSJLjZjOD\\\",\\\"price\\\":\\\"25000.00000000\\\",\\\"origQty\\\":\\\"0.01000000\\\",\\\"executedQty\\\":\\\"0.01000000\\\",\\\"cummulativeQuoteQty\\\":\\\"250.00000000\\\",\\\"status\\\":\\\"FILLED\\\",\\\"timeInForce\\\":\\\"GTC\\\",\\\"type\\\":\\\"LIMIT\\\",\\\"side\\\":\\\"BUY\\\",\\\"stopPrice\\\":\\\"0.00000000\\\",\\\"icebergQty\\\":\\\"0.00000000\\\",\\\"time\\\":1694423523567,\\\"updateTime\\\":1694424350201,\\\"isWorking\\\":true,\\\"workingTime\\\":1694423523567,\\\"origQuoteOrderQty\\\":\\\"0.00000000\\\",\\\"selfTradePreventionMode\\\":\\\"NONE\\\"},{\\\"symbol\\\":\\\"BTCUSDT\\\",\\\"orderId\\\":2989648,\\\"orderListId\\\":-1,\\\"clientOrderId\\\":\\\"b5RVFMbNIxERdFpqb6G91T\\\",\\\"price\\\":\\\"25000.00000000\\\",\\\"origQty\\\":\\\"0.01000000\\\",\\\"executedQty\\\":\\\"0.01000000\\\",\\\"cummulativeQuoteQty\\\":\\\"250.00000000\\\",\\\"status\\\":\\\"FILLED\\\",\\\"timeInForce\\\":\\\"GTC\\\",\\\"type\\\":\\\"LIMIT\\\",\\\"side\\\":\\\"BUY\\\",\\\"stopPrice\\\":\\\"0.00000000\\\",\\\"icebergQty\\\":\\\"0.00000000\\\",\\\"time\\\":1694423722855,\\\"updateTime\\\":1694424350201,\\\"isWorking\\\":true,\\\"workingTime\\\":1694423722855,\\\"origQuoteOrderQty\\\":\\\"0.00000000\\\",\\\"selfTradePreventionMode\\\":\\\"NONE\\\"},{\\\"symbol\\\":\\\"BTCUSDT\\\",\\\"orderId\\\":2990370,\\\"orderListId\\\":-1,\\\"clientOrderId\\\":\\\"1Nmzyg5WGz1mXIFjQMy3R3\\\",\\\"price\\\":\\\"25000.00000000\\\",\\\"origQty\\\":\\\"0.01000000\\\",\\\"executedQty\\\":\\\"0.01000000\\\",\\\"cummulativeQuoteQty\\\":\\\"250.00000000\\\",\\\"status\\\":\\\"FILLED\\\",\\\"timeInForce\\\":\\\"GTC\\\",\\\"type\\\":\\\"LIMIT\\\",\\\"side\\\":\\\"BUY\\\",\\\"stopPrice\\\":\\\"0.00000000\\\",\\\"icebergQty\\\":\\\"0.00000000\\\",\\\"time\\\":1694423803618,\\\"updateTime\\\":1694424350201,\\\"isWorking\\\":true,\\\"workingTime\\\":1694423803618,\\\"origQuoteOrderQty\\\":\\\"0.00000000\\\",\\\"selfTradePreventionMode\\\":\\\"NONE\\\"}]\")\n"
     ]
    }
   ],
   "source": [
    "binance.order_status"
   ]
  },
  {
   "cell_type": "code",
   "execution_count": 6,
   "metadata": {},
   "outputs": [
    {
     "name": "stdout",
     "output_type": "stream",
     "text": [
      "path/api/v3/order / body: symbol=BTCUSDT&side=BUY&type=LIMIT&timeInForce=GTC&quantity=0.01&price=25000&recvWindow=6000&timestamp=1694424631848&signature=3d0cb0cb9483292c65f6d382cdfe87a6e78c392e76828f15d4ca6154982316bf\n"
     ]
    }
   ],
   "source": [
    "resp = binance.new_limit_order(OrderSide.Buy, 25000, 0.01)"
   ]
  },
  {
   "cell_type": "code",
   "execution_count": 7,
   "metadata": {},
   "outputs": [
    {
     "name": "stdout",
     "output_type": "stream",
     "text": [
      "BinanceOrderResponse { symbol: \"BTCUSDT\", orderId: 2997547, orderListId: -1, clientOrderId: \"DCCyEwDOKe4fYjf24WbbhM\", transactTime: 1694424632060, price: Some(25000.00000000), origQty: Some(0.01000000), executedQty: Some(0.00000000), cummulativeQuoteQty: Some(0.00000000), status: Some(\"NEW\"), timeInForce: Some(\"GTC\"), order_type: Some(\"LIMIT\"), side: Some(\"BUY\"), workingTime: Some(1694424632060), selfTradePreventionMode: Some(\"NONE\"), fills: Some([]) }\n"
     ]
    }
   ],
   "source": [
    "print(resp)"
   ]
  },
  {
   "cell_type": "code",
   "execution_count": 8,
   "metadata": {},
   "outputs": [
    {
     "name": "stdout",
     "output_type": "stream",
     "text": [
      "path/api/v3/allOrders / body: symbol=BTCUSDT&limit=1000 / Ok(\"[{\\\"symbol\\\":\\\"BTCUSDT\\\",\\\"orderId\\\":2782215,\\\"orderListId\\\":-1,\\\"clientOrderId\\\":\\\"LnvxKDYYXdtn7m8oweHqyh\\\",\\\"price\\\":\\\"25000.00000000\\\",\\\"origQty\\\":\\\"0.01000000\\\",\\\"executedQty\\\":\\\"0.01000000\\\",\\\"cummulativeQuoteQty\\\":\\\"250.00000000\\\",\\\"status\\\":\\\"FILLED\\\",\\\"timeInForce\\\":\\\"GTC\\\",\\\"type\\\":\\\"LIMIT\\\",\\\"side\\\":\\\"BUY\\\",\\\"stopPrice\\\":\\\"0.00000000\\\",\\\"icebergQty\\\":\\\"0.00000000\\\",\\\"time\\\":1694396686024,\\\"updateTime\\\":1694398622469,\\\"isWorking\\\":true,\\\"workingTime\\\":1694396686024,\\\"origQuoteOrderQty\\\":\\\"0.00000000\\\",\\\"selfTradePreventionMode\\\":\\\"NONE\\\"},{\\\"symbol\\\":\\\"BTCUSDT\\\",\\\"orderId\\\":2782217,\\\"orderListId\\\":-1,\\\"clientOrderId\\\":\\\"tpELVj8sifYLV0RKUA8Ojx\\\",\\\"price\\\":\\\"25000.00000000\\\",\\\"origQty\\\":\\\"0.01000000\\\",\\\"executedQty\\\":\\\"0.01000000\\\",\\\"cummulativeQuoteQty\\\":\\\"250.00000000\\\",\\\"status\\\":\\\"FILLED\\\",\\\"timeInForce\\\":\\\"GTC\\\",\\\"type\\\":\\\"LIMIT\\\",\\\"side\\\":\\\"BUY\\\",\\\"stopPrice\\\":\\\"0.00000000\\\",\\\"icebergQty\\\":\\\"0.00000000\\\",\\\"time\\\":1694396695637,\\\"updateTime\\\":1694398622469,\\\"isWorking\\\":true,\\\"workingTime\\\":1694396695637,\\\"origQuoteOrderQty\\\":\\\"0.00000000\\\",\\\"selfTradePreventionMode\\\":\\\"NONE\\\"},{\\\"symbol\\\":\\\"BTCUSDT\\\",\\\"orderId\\\":2791003,\\\"orderListId\\\":-1,\\\"clientOrderId\\\":\\\"S6w1uJxeduZFYx1uqrcOiT\\\",\\\"price\\\":\\\"25000.00000000\\\",\\\"origQty\\\":\\\"0.01000000\\\",\\\"executedQty\\\":\\\"0.01000000\\\",\\\"cummulativeQuoteQty\\\":\\\"250.00000000\\\",\\\"status\\\":\\\"FILLED\\\",\\\"timeInForce\\\":\\\"GTC\\\",\\\"type\\\":\\\"LIMIT\\\",\\\"side\\\":\\\"BUY\\\",\\\"stopPrice\\\":\\\"0.00000000\\\",\\\"icebergQty\\\":\\\"0.00000000\\\",\\\"time\\\":1694399419359,\\\"updateTime\\\":1694399524466,\\\"isWorking\\\":true,\\\"workingTime\\\":1694399419359,\\\"origQuoteOrderQty\\\":\\\"0.00000000\\\",\\\"selfTradePreventionMode\\\":\\\"NONE\\\"},{\\\"symbol\\\":\\\"BTCUSDT\\\",\\\"orderId\\\":2791018,\\\"orderListId\\\":-1,\\\"clientOrderId\\\":\\\"6W0YJa0TCNlTFf0pwrhD1Z\\\",\\\"price\\\":\\\"25000.00000000\\\",\\\"origQty\\\":\\\"0.01000000\\\",\\\"executedQty\\\":\\\"0.01000000\\\",\\\"cummulativeQuoteQty\\\":\\\"250.00000000\\\",\\\"status\\\":\\\"FILLED\\\",\\\"timeInForce\\\":\\\"GTC\\\",\\\"type\\\":\\\"LIMIT\\\",\\\"side\\\":\\\"BUY\\\",\\\"stopPrice\\\":\\\"0.00000000\\\",\\\"icebergQty\\\":\\\"0.00000000\\\",\\\"time\\\":1694399444417,\\\"updateTime\\\":1694399524466,\\\"isWorking\\\":true,\\\"workingTime\\\":1694399444417,\\\"origQuoteOrderQty\\\":\\\"0.00000000\\\",\\\"selfTradePreventionMode\\\":\\\"NONE\\\"},{\\\"symbol\\\":\\\"BTCUSDT\\\",\\\"orderId\\\":2801804,\\\"orderListId\\\":-1,\\\"clientOrderId\\\":\\\"kY1xyiqYt86D6fReZuXnhL\\\",\\\"price\\\":\\\"25000.00000000\\\",\\\"origQty\\\":\\\"0.01000000\\\",\\\"executedQty\\\":\\\"0.01000000\\\",\\\"cummulativeQuoteQty\\\":\\\"250.00000000\\\",\\\"status\\\":\\\"FILLED\\\",\\\"timeInForce\\\":\\\"GTC\\\",\\\"type\\\":\\\"LIMIT\\\",\\\"side\\\":\\\"BUY\\\",\\\"stopPrice\\\":\\\"0.00000000\\\",\\\"icebergQty\\\":\\\"0.00000000\\\",\\\"time\\\":1694401913205,\\\"updateTime\\\":1694402069229,\\\"isWorking\\\":true,\\\"workingTime\\\":1694401913205,\\\"origQuoteOrderQty\\\":\\\"0.00000000\\\",\\\"selfTradePreventionMode\\\":\\\"NONE\\\"},{\\\"symbol\\\":\\\"BTCUSDT\\\",\\\"orderId\\\":2903188,\\\"orderListId\\\":-1,\\\"clientOrderId\\\":\\\"eF5KnQaFLKVdFe0G9E9FB1\\\",\\\"price\\\":\\\"25000.00000000\\\",\\\"origQty\\\":\\\"0.01000000\\\",\\\"executedQty\\\":\\\"0.01000000\\\",\\\"cummulativeQuoteQty\\\":\\\"250.00000000\\\",\\\"status\\\":\\\"FILLED\\\",\\\"timeInForce\\\":\\\"GTC\\\",\\\"type\\\":\\\"LIMIT\\\",\\\"side\\\":\\\"BUY\\\",\\\"stopPrice\\\":\\\"0.00000000\\\",\\\"icebergQty\\\":\\\"0.00000000\\\",\\\"time\\\":1694415392326,\\\"updateTime\\\":1694424339455,\\\"isWorking\\\":true,\\\"workingTime\\\":1694415392326,\\\"origQuoteOrderQty\\\":\\\"0.00000000\\\",\\\"selfTradePreventionMode\\\":\\\"NONE\\\"},{\\\"symbol\\\":\\\"BTCUSDT\\\",\\\"orderId\\\":2932980,\\\"orderListId\\\":-1,\\\"clientOrderId\\\":\\\"yakXzbi39gkBW3t5nbgequ\\\",\\\"price\\\":\\\"25000.00000000\\\",\\\"origQty\\\":\\\"0.01000000\\\",\\\"executedQty\\\":\\\"0.01000000\\\",\\\"cummulativeQuoteQty\\\":\\\"250.00000000\\\",\\\"status\\\":\\\"FILLED\\\",\\\"timeInForce\\\":\\\"GTC\\\",\\\"type\\\":\\\"LIMIT\\\",\\\"side\\\":\\\"BUY\\\",\\\"stopPrice\\\":\\\"0.00000000\\\",\\\"icebergQty\\\":\\\"0.00000000\\\",\\\"time\\\":1694418590092,\\\"updateTime\\\":1694424339455,\\\"isWorking\\\":true,\\\"workingTime\\\":1694418590092,\\\"origQuoteOrderQty\\\":\\\"0.00000000\\\",\\\"selfTradePreventionMode\\\":\\\"NONE\\\"},{\\\"symbol\\\":\\\"BTCUSDT\\\",\\\"orderId\\\":2955184,\\\"orderListId\\\":-1,\\\"clientOrderId\\\":\\\"HRmgmPQ0wFx1wrejsLv3tb\\\",\\\"price\\\":\\\"25000.00000000\\\",\\\"origQty\\\":\\\"0.01000000\\\",\\\"executedQty\\\":\\\"0.01000000\\\",\\\"cummulativeQuoteQty\\\":\\\"250.00000000\\\",\\\"status\\\":\\\"FILLED\\\",\\\"timeInForce\\\":\\\"GTC\\\",\\\"type\\\":\\\"LIMIT\\\",\\\"side\\\":\\\"BUY\\\",\\\"stopPrice\\\":\\\"0.00000000\\\",\\\"icebergQty\\\":\\\"0.00000000\\\",\\\"time\\\":1694420421757,\\\"updateTime\\\":1694424339455,\\\"isWorking\\\":true,\\\"workingTime\\\":1694420421757,\\\"origQuoteOrderQty\\\":\\\"0.00000000\\\",\\\"selfTradePreventionMode\\\":\\\"NONE\\\"},{\\\"symbol\\\":\\\"BTCUSDT\\\",\\\"orderId\\\":2976756,\\\"orderListId\\\":-1,\\\"clientOrderId\\\":\\\"Us5MPoO7kNuOecL9m50Y34\\\",\\\"price\\\":\\\"25000.00000000\\\",\\\"origQty\\\":\\\"0.01000000\\\",\\\"executedQty\\\":\\\"0.01000000\\\",\\\"cummulativeQuoteQty\\\":\\\"250.00000000\\\",\\\"status\\\":\\\"FILLED\\\",\\\"timeInForce\\\":\\\"GTC\\\",\\\"type\\\":\\\"LIMIT\\\",\\\"side\\\":\\\"BUY\\\",\\\"stopPrice\\\":\\\"0.00000000\\\",\\\"icebergQty\\\":\\\"0.00000000\\\",\\\"time\\\":1694422305606,\\\"updateTime\\\":1694424339455,\\\"isWorking\\\":true,\\\"workingTime\\\":1694422305606,\\\"origQuoteOrderQty\\\":\\\"0.00000000\\\",\\\"selfTradePreventionMode\\\":\\\"NONE\\\"},{\\\"symbol\\\":\\\"BTCUSDT\\\",\\\"orderId\\\":2981859,\\\"orderListId\\\":-1,\\\"clientOrderId\\\":\\\"ntOz2JLw0SUWNyTvKDTbXR\\\",\\\"price\\\":\\\"25000.00000000\\\",\\\"origQty\\\":\\\"0.01000000\\\",\\\"executedQty\\\":\\\"0.01000000\\\",\\\"cummulativeQuoteQty\\\":\\\"250.00000000\\\",\\\"status\\\":\\\"FILLED\\\",\\\"timeInForce\\\":\\\"GTC\\\",\\\"type\\\":\\\"LIMIT\\\",\\\"side\\\":\\\"BUY\\\",\\\"stopPrice\\\":\\\"0.00000000\\\",\\\"icebergQty\\\":\\\"0.00000000\\\",\\\"time\\\":1694422819445,\\\"updateTime\\\":1694424350201,\\\"isWorking\\\":true,\\\"workingTime\\\":1694422819445,\\\"origQuoteOrderQty\\\":\\\"0.00000000\\\",\\\"selfTradePreventionMode\\\":\\\"NONE\\\"},{\\\"symbol\\\":\\\"BTCUSDT\\\",\\\"orderId\\\":2986909,\\\"orderListId\\\":-1,\\\"clientOrderId\\\":\\\"IKvdB2bVuwgOVwJ3RbPuqh\\\",\\\"price\\\":\\\"25000.00000000\\\",\\\"origQty\\\":\\\"0.01000000\\\",\\\"executedQty\\\":\\\"0.01000000\\\",\\\"cummulativeQuoteQty\\\":\\\"250.00000000\\\",\\\"status\\\":\\\"FILLED\\\",\\\"timeInForce\\\":\\\"GTC\\\",\\\"type\\\":\\\"LIMIT\\\",\\\"side\\\":\\\"BUY\\\",\\\"stopPrice\\\":\\\"0.00000000\\\",\\\"icebergQty\\\":\\\"0.00000000\\\",\\\"time\\\":1694423406519,\\\"updateTime\\\":1694424350201,\\\"isWorking\\\":true,\\\"workingTime\\\":1694423406519,\\\"origQuoteOrderQty\\\":\\\"0.00000000\\\",\\\"selfTradePreventionMode\\\":\\\"NONE\\\"},{\\\"symbol\\\":\\\"BTCUSDT\\\",\\\"orderId\\\":2987883,\\\"orderListId\\\":-1,\\\"clientOrderId\\\":\\\"AXHzxHapJXHYMHSJLjZjOD\\\",\\\"price\\\":\\\"25000.00000000\\\",\\\"origQty\\\":\\\"0.01000000\\\",\\\"executedQty\\\":\\\"0.01000000\\\",\\\"cummulativeQuoteQty\\\":\\\"250.00000000\\\",\\\"status\\\":\\\"FILLED\\\",\\\"timeInForce\\\":\\\"GTC\\\",\\\"type\\\":\\\"LIMIT\\\",\\\"side\\\":\\\"BUY\\\",\\\"stopPrice\\\":\\\"0.00000000\\\",\\\"icebergQty\\\":\\\"0.00000000\\\",\\\"time\\\":1694423523567,\\\"updateTime\\\":1694424350201,\\\"isWorking\\\":true,\\\"workingTime\\\":1694423523567,\\\"origQuoteOrderQty\\\":\\\"0.00000000\\\",\\\"selfTradePreventionMode\\\":\\\"NONE\\\"},{\\\"symbol\\\":\\\"BTCUSDT\\\",\\\"orderId\\\":2989648,\\\"orderListId\\\":-1,\\\"clientOrderId\\\":\\\"b5RVFMbNIxERdFpqb6G91T\\\",\\\"price\\\":\\\"25000.00000000\\\",\\\"origQty\\\":\\\"0.01000000\\\",\\\"executedQty\\\":\\\"0.01000000\\\",\\\"cummulativeQuoteQty\\\":\\\"250.00000000\\\",\\\"status\\\":\\\"FILLED\\\",\\\"timeInForce\\\":\\\"GTC\\\",\\\"type\\\":\\\"LIMIT\\\",\\\"side\\\":\\\"BUY\\\",\\\"stopPrice\\\":\\\"0.00000000\\\",\\\"icebergQty\\\":\\\"0.00000000\\\",\\\"time\\\":1694423722855,\\\"updateTime\\\":1694424350201,\\\"isWorking\\\":true,\\\"workingTime\\\":1694423722855,\\\"origQuoteOrderQty\\\":\\\"0.00000000\\\",\\\"selfTradePreventionMode\\\":\\\"NONE\\\"},{\\\"symbol\\\":\\\"BTCUSDT\\\",\\\"orderId\\\":2990370,\\\"orderListId\\\":-1,\\\"clientOrderId\\\":\\\"1Nmzyg5WGz1mXIFjQMy3R3\\\",\\\"price\\\":\\\"25000.00000000\\\",\\\"origQty\\\":\\\"0.01000000\\\",\\\"executedQty\\\":\\\"0.01000000\\\",\\\"cummulativeQuoteQty\\\":\\\"250.00000000\\\",\\\"status\\\":\\\"FILLED\\\",\\\"timeInForce\\\":\\\"GTC\\\",\\\"type\\\":\\\"LIMIT\\\",\\\"side\\\":\\\"BUY\\\",\\\"stopPrice\\\":\\\"0.00000000\\\",\\\"icebergQty\\\":\\\"0.00000000\\\",\\\"time\\\":1694423803618,\\\"updateTime\\\":1694424350201,\\\"isWorking\\\":true,\\\"workingTime\\\":1694423803618,\\\"origQuoteOrderQty\\\":\\\"0.00000000\\\",\\\"selfTradePreventionMode\\\":\\\"NONE\\\"},{\\\"symbol\\\":\\\"BTCUSDT\\\",\\\"orderId\\\":2997547,\\\"orderListId\\\":-1,\\\"clientOrderId\\\":\\\"DCCyEwDOKe4fYjf24WbbhM\\\",\\\"price\\\":\\\"25000.00000000\\\",\\\"origQty\\\":\\\"0.01000000\\\",\\\"executedQty\\\":\\\"0.00000000\\\",\\\"cummulativeQuoteQty\\\":\\\"0.00000000\\\",\\\"status\\\":\\\"NEW\\\",\\\"timeInForce\\\":\\\"GTC\\\",\\\"type\\\":\\\"LIMIT\\\",\\\"side\\\":\\\"BUY\\\",\\\"stopPrice\\\":\\\"0.00000000\\\",\\\"icebergQty\\\":\\\"0.00000000\\\",\\\"time\\\":1694424632060,\\\"updateTime\\\":1694424632060,\\\"isWorking\\\":true,\\\"workingTime\\\":1694424632060,\\\"origQuoteOrderQty\\\":\\\"0.00000000\\\",\\\"selfTradePreventionMode\\\":\\\"NONE\\\"}]\")\n"
     ]
    }
   ],
   "source": [
    "s = binance.order_status"
   ]
  },
  {
   "cell_type": "code",
   "execution_count": 9,
   "metadata": {},
   "outputs": [
    {
     "data": {
      "text/plain": [
       "[BinanceOrderStatus { symbol: \"BTCUSDT\", orderId: 2782215, orderListId: -1, clientOrderId: \"LnvxKDYYXdtn7m8oweHqyh\", price: 25000.00000000, origQty: 0.01000000, executedQty: 0.01000000, cummulativeQuoteQty: 250.00000000, status: \"FILLED\", timeInForce: \"GTC\", order_type: \"LIMIT\", side: \"BUY\", stopPrice: 0.00000000, icebergQty: 0.00000000, time: 1694396686024, updateTime: 1694398622469, isWorking: true, workingTime: 1694396686024, origQuoteOrderQty: 0.00000000, selfTradePreventionMode: \"NONE\" },\n",
       " BinanceOrderStatus { symbol: \"BTCUSDT\", orderId: 2782217, orderListId: -1, clientOrderId: \"tpELVj8sifYLV0RKUA8Ojx\", price: 25000.00000000, origQty: 0.01000000, executedQty: 0.01000000, cummulativeQuoteQty: 250.00000000, status: \"FILLED\", timeInForce: \"GTC\", order_type: \"LIMIT\", side: \"BUY\", stopPrice: 0.00000000, icebergQty: 0.00000000, time: 1694396695637, updateTime: 1694398622469, isWorking: true, workingTime: 1694396695637, origQuoteOrderQty: 0.00000000, selfTradePreventionMode: \"NONE\" },\n",
       " BinanceOrderStatus { symbol: \"BTCUSDT\", orderId: 2791003, orderListId: -1, clientOrderId: \"S6w1uJxeduZFYx1uqrcOiT\", price: 25000.00000000, origQty: 0.01000000, executedQty: 0.01000000, cummulativeQuoteQty: 250.00000000, status: \"FILLED\", timeInForce: \"GTC\", order_type: \"LIMIT\", side: \"BUY\", stopPrice: 0.00000000, icebergQty: 0.00000000, time: 1694399419359, updateTime: 1694399524466, isWorking: true, workingTime: 1694399419359, origQuoteOrderQty: 0.00000000, selfTradePreventionMode: \"NONE\" },\n",
       " BinanceOrderStatus { symbol: \"BTCUSDT\", orderId: 2791018, orderListId: -1, clientOrderId: \"6W0YJa0TCNlTFf0pwrhD1Z\", price: 25000.00000000, origQty: 0.01000000, executedQty: 0.01000000, cummulativeQuoteQty: 250.00000000, status: \"FILLED\", timeInForce: \"GTC\", order_type: \"LIMIT\", side: \"BUY\", stopPrice: 0.00000000, icebergQty: 0.00000000, time: 1694399444417, updateTime: 1694399524466, isWorking: true, workingTime: 1694399444417, origQuoteOrderQty: 0.00000000, selfTradePreventionMode: \"NONE\" },\n",
       " BinanceOrderStatus { symbol: \"BTCUSDT\", orderId: 2801804, orderListId: -1, clientOrderId: \"kY1xyiqYt86D6fReZuXnhL\", price: 25000.00000000, origQty: 0.01000000, executedQty: 0.01000000, cummulativeQuoteQty: 250.00000000, status: \"FILLED\", timeInForce: \"GTC\", order_type: \"LIMIT\", side: \"BUY\", stopPrice: 0.00000000, icebergQty: 0.00000000, time: 1694401913205, updateTime: 1694402069229, isWorking: true, workingTime: 1694401913205, origQuoteOrderQty: 0.00000000, selfTradePreventionMode: \"NONE\" },\n",
       " BinanceOrderStatus { symbol: \"BTCUSDT\", orderId: 2903188, orderListId: -1, clientOrderId: \"eF5KnQaFLKVdFe0G9E9FB1\", price: 25000.00000000, origQty: 0.01000000, executedQty: 0.01000000, cummulativeQuoteQty: 250.00000000, status: \"FILLED\", timeInForce: \"GTC\", order_type: \"LIMIT\", side: \"BUY\", stopPrice: 0.00000000, icebergQty: 0.00000000, time: 1694415392326, updateTime: 1694424339455, isWorking: true, workingTime: 1694415392326, origQuoteOrderQty: 0.00000000, selfTradePreventionMode: \"NONE\" },\n",
       " BinanceOrderStatus { symbol: \"BTCUSDT\", orderId: 2932980, orderListId: -1, clientOrderId: \"yakXzbi39gkBW3t5nbgequ\", price: 25000.00000000, origQty: 0.01000000, executedQty: 0.01000000, cummulativeQuoteQty: 250.00000000, status: \"FILLED\", timeInForce: \"GTC\", order_type: \"LIMIT\", side: \"BUY\", stopPrice: 0.00000000, icebergQty: 0.00000000, time: 1694418590092, updateTime: 1694424339455, isWorking: true, workingTime: 1694418590092, origQuoteOrderQty: 0.00000000, selfTradePreventionMode: \"NONE\" },\n",
       " BinanceOrderStatus { symbol: \"BTCUSDT\", orderId: 2955184, orderListId: -1, clientOrderId: \"HRmgmPQ0wFx1wrejsLv3tb\", price: 25000.00000000, origQty: 0.01000000, executedQty: 0.01000000, cummulativeQuoteQty: 250.00000000, status: \"FILLED\", timeInForce: \"GTC\", order_type: \"LIMIT\", side: \"BUY\", stopPrice: 0.00000000, icebergQty: 0.00000000, time: 1694420421757, updateTime: 1694424339455, isWorking: true, workingTime: 1694420421757, origQuoteOrderQty: 0.00000000, selfTradePreventionMode: \"NONE\" },\n",
       " BinanceOrderStatus { symbol: \"BTCUSDT\", orderId: 2976756, orderListId: -1, clientOrderId: \"Us5MPoO7kNuOecL9m50Y34\", price: 25000.00000000, origQty: 0.01000000, executedQty: 0.01000000, cummulativeQuoteQty: 250.00000000, status: \"FILLED\", timeInForce: \"GTC\", order_type: \"LIMIT\", side: \"BUY\", stopPrice: 0.00000000, icebergQty: 0.00000000, time: 1694422305606, updateTime: 1694424339455, isWorking: true, workingTime: 1694422305606, origQuoteOrderQty: 0.00000000, selfTradePreventionMode: \"NONE\" },\n",
       " BinanceOrderStatus { symbol: \"BTCUSDT\", orderId: 2981859, orderListId: -1, clientOrderId: \"ntOz2JLw0SUWNyTvKDTbXR\", price: 25000.00000000, origQty: 0.01000000, executedQty: 0.01000000, cummulativeQuoteQty: 250.00000000, status: \"FILLED\", timeInForce: \"GTC\", order_type: \"LIMIT\", side: \"BUY\", stopPrice: 0.00000000, icebergQty: 0.00000000, time: 1694422819445, updateTime: 1694424350201, isWorking: true, workingTime: 1694422819445, origQuoteOrderQty: 0.00000000, selfTradePreventionMode: \"NONE\" },\n",
       " BinanceOrderStatus { symbol: \"BTCUSDT\", orderId: 2986909, orderListId: -1, clientOrderId: \"IKvdB2bVuwgOVwJ3RbPuqh\", price: 25000.00000000, origQty: 0.01000000, executedQty: 0.01000000, cummulativeQuoteQty: 250.00000000, status: \"FILLED\", timeInForce: \"GTC\", order_type: \"LIMIT\", side: \"BUY\", stopPrice: 0.00000000, icebergQty: 0.00000000, time: 1694423406519, updateTime: 1694424350201, isWorking: true, workingTime: 1694423406519, origQuoteOrderQty: 0.00000000, selfTradePreventionMode: \"NONE\" },\n",
       " BinanceOrderStatus { symbol: \"BTCUSDT\", orderId: 2987883, orderListId: -1, clientOrderId: \"AXHzxHapJXHYMHSJLjZjOD\", price: 25000.00000000, origQty: 0.01000000, executedQty: 0.01000000, cummulativeQuoteQty: 250.00000000, status: \"FILLED\", timeInForce: \"GTC\", order_type: \"LIMIT\", side: \"BUY\", stopPrice: 0.00000000, icebergQty: 0.00000000, time: 1694423523567, updateTime: 1694424350201, isWorking: true, workingTime: 1694423523567, origQuoteOrderQty: 0.00000000, selfTradePreventionMode: \"NONE\" },\n",
       " BinanceOrderStatus { symbol: \"BTCUSDT\", orderId: 2989648, orderListId: -1, clientOrderId: \"b5RVFMbNIxERdFpqb6G91T\", price: 25000.00000000, origQty: 0.01000000, executedQty: 0.01000000, cummulativeQuoteQty: 250.00000000, status: \"FILLED\", timeInForce: \"GTC\", order_type: \"LIMIT\", side: \"BUY\", stopPrice: 0.00000000, icebergQty: 0.00000000, time: 1694423722855, updateTime: 1694424350201, isWorking: true, workingTime: 1694423722855, origQuoteOrderQty: 0.00000000, selfTradePreventionMode: \"NONE\" },\n",
       " BinanceOrderStatus { symbol: \"BTCUSDT\", orderId: 2990370, orderListId: -1, clientOrderId: \"1Nmzyg5WGz1mXIFjQMy3R3\", price: 25000.00000000, origQty: 0.01000000, executedQty: 0.01000000, cummulativeQuoteQty: 250.00000000, status: \"FILLED\", timeInForce: \"GTC\", order_type: \"LIMIT\", side: \"BUY\", stopPrice: 0.00000000, icebergQty: 0.00000000, time: 1694423803618, updateTime: 1694424350201, isWorking: true, workingTime: 1694423803618, origQuoteOrderQty: 0.00000000, selfTradePreventionMode: \"NONE\" },\n",
       " BinanceOrderStatus { symbol: \"BTCUSDT\", orderId: 2997547, orderListId: -1, clientOrderId: \"DCCyEwDOKe4fYjf24WbbhM\", price: 25000.00000000, origQty: 0.01000000, executedQty: 0.00000000, cummulativeQuoteQty: 0.00000000, status: \"NEW\", timeInForce: \"GTC\", order_type: \"LIMIT\", side: \"BUY\", stopPrice: 0.00000000, icebergQty: 0.00000000, time: 1694424632060, updateTime: 1694424632060, isWorking: true, workingTime: 1694424632060, origQuoteOrderQty: 0.00000000, selfTradePreventionMode: \"NONE\" }]"
      ]
     },
     "execution_count": 9,
     "metadata": {},
     "output_type": "execute_result"
    }
   ],
   "source": [
    "s"
   ]
  },
  {
   "cell_type": "code",
   "execution_count": 10,
   "metadata": {},
   "outputs": [
    {
     "data": {
      "text/plain": [
       "BinanceConfig { exchange_name: \"BN\", trade_category: \"TESTSPOT\", trade_symbol: \"BTCUSDT\", trade_in_fiat: false, testnet: true, rest_endpoint: \"https://testnet.binance.vision\", public_ws_endpoint: \"wss://testnet.binance.vision/ws\", private_ws_endpoint: \"wss://testnet.binance.vision/ws\", history_web_base: \"https://data.binance.vision/data/spot/daily/trades\", new_order_path: \"/api/v3/order\", cancel_order_path: \"/api/v3/order\", public_subscribe_message: \"{\\\"id\\\":1,\\\"method\\\":\\\"SUBSCRIBE\\\",\\\"params\\\":[\\\"btcusdt@trade\\\",\\\"btcusdt@depth@100ms\\\"]}\", api_key: \"********\", api_secret: \"********\" }"
      ]
     },
     "execution_count": 10,
     "metadata": {},
     "output_type": "execute_result"
    }
   ],
   "source": [
    "config\n"
   ]
  },
  {
   "cell_type": "code",
   "execution_count": 11,
   "metadata": {},
   "outputs": [
    {
     "data": {
      "text/plain": [
       "BinanceOrderStatus { symbol: \"BTCUSDT\", orderId: 2782217, orderListId: -1, clientOrderId: \"tpELVj8sifYLV0RKUA8Ojx\", price: 25000.00000000, origQty: 0.01000000, executedQty: 0.01000000, cummulativeQuoteQty: 250.00000000, status: \"FILLED\", timeInForce: \"GTC\", order_type: \"LIMIT\", side: \"BUY\", stopPrice: 0.00000000, icebergQty: 0.00000000, time: 1694396695637, updateTime: 1694398622469, isWorking: true, workingTime: 1694396695637, origQuoteOrderQty: 0.00000000, selfTradePreventionMode: \"NONE\" }"
      ]
     },
     "execution_count": 11,
     "metadata": {},
     "output_type": "execute_result"
    }
   ],
   "source": [
    "s[1]"
   ]
  },
  {
   "cell_type": "code",
   "execution_count": 12,
   "metadata": {},
   "outputs": [
    {
     "name": "stdout",
     "output_type": "stream",
     "text": [
      "BinanceOrderStatus { symbol: \"BTCUSDT\", orderId: 2782215, orderListId: -1, clientOrderId: \"LnvxKDYYXdtn7m8oweHqyh\", price: 25000.00000000, origQty: 0.01000000, executedQty: 0.01000000, cummulativeQuoteQty: 250.00000000, status: \"FILLED\", timeInForce: \"GTC\", order_type: \"LIMIT\", side: \"BUY\", stopPrice: 0.00000000, icebergQty: 0.00000000, time: 1694396686024, updateTime: 1694398622469, isWorking: true, workingTime: 1694396686024, origQuoteOrderQty: 0.00000000, selfTradePreventionMode: \"NONE\" }\n"
     ]
    }
   ],
   "source": [
    "print(s[0])"
   ]
  },
  {
   "cell_type": "code",
   "execution_count": 13,
   "metadata": {},
   "outputs": [
    {
     "name": "stdout",
     "output_type": "stream",
     "text": [
      "* connection\n",
      "* date\n",
      "* upgrade\n",
      "* sec-websocket-accept\n",
      "* x-cache\n",
      "* via\n",
      "* x-amz-cf-pop\n",
      "* x-amz-cf-id\n",
      "open database /Users/takeoyasukawa/Library/Application Support/net.takibi.rbot/DB/BN-TESTNET/TESTSPOT-BTCUSDT.db\n",
      "journal_mode = wal\n",
      "wal mode already set\n",
      "set as wal mode\n"
     ]
    }
   ],
   "source": [
    "binance.start_market_stream()"
   ]
  },
  {
   "cell_type": "code",
   "execution_count": 14,
   "metadata": {},
   "outputs": [
    {
     "name": "stdout",
     "output_type": "stream",
     "text": [
      "* connection\n",
      "* date\n",
      "* upgrade\n",
      "* sec-websocket-accept\n",
      "* x-cache\n",
      "* via\n",
      "* x-amz-cf-pop\n",
      "* x-amz-cf-id\n",
      "thread is already started\n"
     ]
    }
   ],
   "source": [
    "binance.start_market_stream()"
   ]
  },
  {
   "cell_type": "code",
   "execution_count": 16,
   "metadata": {},
   "outputs": [
    {
     "name": "stdout",
     "output_type": "stream",
     "text": [
      "      price      size\n",
      "4  25686.50  0.038542\n",
      "3  25686.43  0.013146\n",
      "2  25686.42  0.000440\n",
      "1  25686.37  0.020245\n",
      "0  25686.36  0.003713\n",
      "   -- ↑ Asks / Bids ↓ --\n",
      "      price      size\n",
      "0  25683.93  0.071433\n",
      "1  25683.92  0.031148\n",
      "2  25683.91  0.025140\n",
      "3  25683.90  0.028322\n",
      "4  25683.64  0.036989\n"
     ]
    }
   ],
   "source": [
    "import time\n",
    "from IPython.display import clear_output\n",
    "count = 100\n",
    "while True:\n",
    "    print(binance.asks.head().iloc[::-1])\n",
    "    print(\"   -- ↑ Asks / Bids ↓ --\")\n",
    "    print(binance.bids.head())\n",
    "    time.sleep(0.5)\n",
    "    clear_output(wait=True)\n",
    "\n",
    "    if count < 0:\n",
    "        break\n",
    "    count -= 1"
   ]
  },
  {
   "cell_type": "code",
   "execution_count": null,
   "metadata": {},
   "outputs": [],
   "source": [
    "binance.stop_market_stream()"
   ]
  },
  {
   "cell_type": "code",
   "execution_count": null,
   "metadata": {},
   "outputs": [],
   "source": []
  }
 ],
 "metadata": {
  "kernelspec": {
   "display_name": "Python 3",
   "language": "python",
   "name": "python3"
  },
  "language_info": {
   "codemirror_mode": {
    "name": "ipython",
    "version": 3
   },
   "file_extension": ".py",
   "mimetype": "text/x-python",
   "name": "python",
   "nbconvert_exporter": "python",
   "pygments_lexer": "ipython3",
   "version": "3.11.4"
  },
  "orig_nbformat": 4
 },
 "nbformat": 4,
 "nbformat_minor": 2
}
