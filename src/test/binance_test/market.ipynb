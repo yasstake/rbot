{
 "cells": [
  {
   "cell_type": "code",
   "execution_count": 1,
   "metadata": {},
   "outputs": [],
   "source": [
    "import json\n",
    "from json2html import json2html\n",
    "from IPython.display import HTML\n",
    "\n",
    "from rbot import *\n",
    "config = BinanceConfig.TESTSPOT(\"BTCUSDT\")\n"
   ]
  },
  {
   "cell_type": "markdown",
   "metadata": {},
   "source": []
  },
  {
   "cell_type": "code",
   "execution_count": null,
   "metadata": {},
   "outputs": [],
   "source": []
  },
  {
   "cell_type": "code",
   "execution_count": 2,
   "metadata": {},
   "outputs": [
    {
     "data": {
      "text/html": [
       "<table border=\"1\"><tr><th>exchange_name</th><td>BN</td></tr><tr><th>trade_category</th><td>TESTSPOT</td></tr><tr><th>trade_symbol</th><td>BTCUSDT</td></tr><tr><th>size_in_foreign</th><td>False</td></tr><tr><th>testnet</th><td>True</td></tr><tr><th>rest_endpoint</th><td>https://testnet.binance.vision</td></tr><tr><th>public_ws_endpoint</th><td>wss://testnet.binance.vision/ws</td></tr><tr><th>private_ws_endpoint</th><td>wss://testnet.binance.vision/ws</td></tr><tr><th>history_web_base</th><td>https://data.binance.vision/data/spot/daily/trades</td></tr><tr><th>new_order_path</th><td>/api/v3/order</td></tr><tr><th>cancel_order_path</th><td>/api/v3/order</td></tr><tr><th>public_subscribe_message</th><td>{&quot;id&quot;:1,&quot;method&quot;:&quot;SUBSCRIBE&quot;,&quot;params&quot;:[&quot;btcusdt@trade&quot;,&quot;btcusdt@depth@100ms&quot;]}</td></tr><tr><th>api_key</th><td>NOhZ*******************</td></tr><tr><th>api_secret</th><td>yPrx*******************</td></tr></table>"
      ],
      "text/plain": [
       "<IPython.core.display.HTML object>"
      ]
     },
     "execution_count": 2,
     "metadata": {},
     "output_type": "execute_result"
    }
   ],
   "source": [
    "HTML(json2html.convert(config.__str__()))"
   ]
  },
  {
   "cell_type": "code",
   "execution_count": 3,
   "metadata": {},
   "outputs": [],
   "source": [
    "import rbot\n",
    "from rbot import BinanceMarket\n",
    "\n",
    "          #BinanceMarket\n",
    "binance = BinanceMarket(config)"
   ]
  },
  {
   "cell_type": "code",
   "execution_count": 4,
   "metadata": {},
   "outputs": [],
   "source": [
    "market_order =binance.new_market_order(OrderSide.Sell, 0.01)\n",
    "\n",
    "\n",
    "\n"
   ]
  },
  {
   "cell_type": "code",
   "execution_count": 5,
   "metadata": {},
   "outputs": [
    {
     "data": {
      "text/html": [
       "<table border=\"1\"><tr><th>symbol</th><td>BTCUSDT</td></tr><tr><th>create_time</th><td>1694672903764000</td></tr><tr><th>order_id</th><td>4624977</td></tr><tr><th>order_list_index</th><td>-1</td></tr><tr><th>client_order_id</th><td>YUfmnlf6OF2q1vgrVcNQtb</td></tr><tr><th>order_side</th><td>Sell</td></tr><tr><th>order_type</th><td>MARKET</td></tr><tr><th>price</th><td>0.00000000</td></tr><tr><th>size</th><td>0.01000000</td></tr><tr><th>status</th><td>Filled</td></tr><tr><th>fills</th><td>None</td></tr></table>"
      ],
      "text/plain": [
       "<IPython.core.display.HTML object>"
      ]
     },
     "execution_count": 5,
     "metadata": {},
     "output_type": "execute_result"
    }
   ],
   "source": [
    "HTML(json2html.convert(json=market_order.__str__()))"
   ]
  },
  {
   "cell_type": "code",
   "execution_count": 6,
   "metadata": {},
   "outputs": [
    {
     "data": {
      "text/html": [
       "<table border=\"1\"><thead><tr><th>symbol</th><th>orderId</th><th>orderListId</th><th>clientOrderId</th><th>price</th><th>origQty</th><th>executedQty</th><th>cummulativeQuoteQty</th><th>status</th><th>timeInForce</th><th>type</th><th>side</th><th>stopPrice</th><th>icebergQty</th><th>time</th><th>updateTime</th><th>isWorking</th><th>workingTime</th><th>origQuoteOrderQty</th><th>selfTradePreventionMode</th></tr></thead><tbody><tr><td>BTCUSDT</td><td>2782215</td><td>-1</td><td>LnvxKDYYXdtn7m8oweHqyh</td><td>25000.00000000</td><td>0.01000000</td><td>0.01000000</td><td>250.00000000</td><td>FILLED</td><td>GTC</td><td>LIMIT</td><td>BUY</td><td>0.00000000</td><td>0.00000000</td><td>1694396686024</td><td>1694398622469</td><td>True</td><td>1694396686024</td><td>0.00000000</td><td>NONE</td></tr><tr><td>BTCUSDT</td><td>2782217</td><td>-1</td><td>tpELVj8sifYLV0RKUA8Ojx</td><td>25000.00000000</td><td>0.01000000</td><td>0.01000000</td><td>250.00000000</td><td>FILLED</td><td>GTC</td><td>LIMIT</td><td>BUY</td><td>0.00000000</td><td>0.00000000</td><td>1694396695637</td><td>1694398622469</td><td>True</td><td>1694396695637</td><td>0.00000000</td><td>NONE</td></tr><tr><td>BTCUSDT</td><td>2791003</td><td>-1</td><td>S6w1uJxeduZFYx1uqrcOiT</td><td>25000.00000000</td><td>0.01000000</td><td>0.01000000</td><td>250.00000000</td><td>FILLED</td><td>GTC</td><td>LIMIT</td><td>BUY</td><td>0.00000000</td><td>0.00000000</td><td>1694399419359</td><td>1694399524466</td><td>True</td><td>1694399419359</td><td>0.00000000</td><td>NONE</td></tr><tr><td>BTCUSDT</td><td>2791018</td><td>-1</td><td>6W0YJa0TCNlTFf0pwrhD1Z</td><td>25000.00000000</td><td>0.01000000</td><td>0.01000000</td><td>250.00000000</td><td>FILLED</td><td>GTC</td><td>LIMIT</td><td>BUY</td><td>0.00000000</td><td>0.00000000</td><td>1694399444417</td><td>1694399524466</td><td>True</td><td>1694399444417</td><td>0.00000000</td><td>NONE</td></tr><tr><td>BTCUSDT</td><td>2801804</td><td>-1</td><td>kY1xyiqYt86D6fReZuXnhL</td><td>25000.00000000</td><td>0.01000000</td><td>0.01000000</td><td>250.00000000</td><td>FILLED</td><td>GTC</td><td>LIMIT</td><td>BUY</td><td>0.00000000</td><td>0.00000000</td><td>1694401913205</td><td>1694402069229</td><td>True</td><td>1694401913205</td><td>0.00000000</td><td>NONE</td></tr><tr><td>BTCUSDT</td><td>2903188</td><td>-1</td><td>eF5KnQaFLKVdFe0G9E9FB1</td><td>25000.00000000</td><td>0.01000000</td><td>0.01000000</td><td>250.00000000</td><td>FILLED</td><td>GTC</td><td>LIMIT</td><td>BUY</td><td>0.00000000</td><td>0.00000000</td><td>1694415392326</td><td>1694424339455</td><td>True</td><td>1694415392326</td><td>0.00000000</td><td>NONE</td></tr><tr><td>BTCUSDT</td><td>2932980</td><td>-1</td><td>yakXzbi39gkBW3t5nbgequ</td><td>25000.00000000</td><td>0.01000000</td><td>0.01000000</td><td>250.00000000</td><td>FILLED</td><td>GTC</td><td>LIMIT</td><td>BUY</td><td>0.00000000</td><td>0.00000000</td><td>1694418590092</td><td>1694424339455</td><td>True</td><td>1694418590092</td><td>0.00000000</td><td>NONE</td></tr><tr><td>BTCUSDT</td><td>2955184</td><td>-1</td><td>HRmgmPQ0wFx1wrejsLv3tb</td><td>25000.00000000</td><td>0.01000000</td><td>0.01000000</td><td>250.00000000</td><td>FILLED</td><td>GTC</td><td>LIMIT</td><td>BUY</td><td>0.00000000</td><td>0.00000000</td><td>1694420421757</td><td>1694424339455</td><td>True</td><td>1694420421757</td><td>0.00000000</td><td>NONE</td></tr><tr><td>BTCUSDT</td><td>2976756</td><td>-1</td><td>Us5MPoO7kNuOecL9m50Y34</td><td>25000.00000000</td><td>0.01000000</td><td>0.01000000</td><td>250.00000000</td><td>FILLED</td><td>GTC</td><td>LIMIT</td><td>BUY</td><td>0.00000000</td><td>0.00000000</td><td>1694422305606</td><td>1694424339455</td><td>True</td><td>1694422305606</td><td>0.00000000</td><td>NONE</td></tr><tr><td>BTCUSDT</td><td>2981859</td><td>-1</td><td>ntOz2JLw0SUWNyTvKDTbXR</td><td>25000.00000000</td><td>0.01000000</td><td>0.01000000</td><td>250.00000000</td><td>FILLED</td><td>GTC</td><td>LIMIT</td><td>BUY</td><td>0.00000000</td><td>0.00000000</td><td>1694422819445</td><td>1694424350201</td><td>True</td><td>1694422819445</td><td>0.00000000</td><td>NONE</td></tr><tr><td>BTCUSDT</td><td>2986909</td><td>-1</td><td>IKvdB2bVuwgOVwJ3RbPuqh</td><td>25000.00000000</td><td>0.01000000</td><td>0.01000000</td><td>250.00000000</td><td>FILLED</td><td>GTC</td><td>LIMIT</td><td>BUY</td><td>0.00000000</td><td>0.00000000</td><td>1694423406519</td><td>1694424350201</td><td>True</td><td>1694423406519</td><td>0.00000000</td><td>NONE</td></tr><tr><td>BTCUSDT</td><td>2987883</td><td>-1</td><td>AXHzxHapJXHYMHSJLjZjOD</td><td>25000.00000000</td><td>0.01000000</td><td>0.01000000</td><td>250.00000000</td><td>FILLED</td><td>GTC</td><td>LIMIT</td><td>BUY</td><td>0.00000000</td><td>0.00000000</td><td>1694423523567</td><td>1694424350201</td><td>True</td><td>1694423523567</td><td>0.00000000</td><td>NONE</td></tr><tr><td>BTCUSDT</td><td>2989648</td><td>-1</td><td>b5RVFMbNIxERdFpqb6G91T</td><td>25000.00000000</td><td>0.01000000</td><td>0.01000000</td><td>250.00000000</td><td>FILLED</td><td>GTC</td><td>LIMIT</td><td>BUY</td><td>0.00000000</td><td>0.00000000</td><td>1694423722855</td><td>1694424350201</td><td>True</td><td>1694423722855</td><td>0.00000000</td><td>NONE</td></tr><tr><td>BTCUSDT</td><td>2990370</td><td>-1</td><td>1Nmzyg5WGz1mXIFjQMy3R3</td><td>25000.00000000</td><td>0.01000000</td><td>0.01000000</td><td>250.00000000</td><td>FILLED</td><td>GTC</td><td>LIMIT</td><td>BUY</td><td>0.00000000</td><td>0.00000000</td><td>1694423803618</td><td>1694424350201</td><td>True</td><td>1694423803618</td><td>0.00000000</td><td>NONE</td></tr><tr><td>BTCUSDT</td><td>2997547</td><td>-1</td><td>DCCyEwDOKe4fYjf24WbbhM</td><td>25000.00000000</td><td>0.01000000</td><td>0.01000000</td><td>250.00000000</td><td>FILLED</td><td>GTC</td><td>LIMIT</td><td>BUY</td><td>0.00000000</td><td>0.00000000</td><td>1694424632060</td><td>1694424717487</td><td>True</td><td>1694424632060</td><td>0.00000000</td><td>NONE</td></tr><tr><td>BTCUSDT</td><td>4006938</td><td>-1</td><td>OZVRWLLHm2MbiOswhv3Bze</td><td>25000.00000000</td><td>0.01000000</td><td>0.00000000</td><td>0.00000000</td><td>NEW</td><td>GTC</td><td>LIMIT</td><td>BUY</td><td>0.00000000</td><td>0.00000000</td><td>1694571134437</td><td>1694571134437</td><td>True</td><td>1694571134437</td><td>0.00000000</td><td>NONE</td></tr><tr><td>BTCUSDT</td><td>4009739</td><td>-1</td><td>rUPYeNuPjiyHOOvF17SY3J</td><td>25000.00000000</td><td>0.01000000</td><td>0.00000000</td><td>0.00000000</td><td>NEW</td><td>GTC</td><td>LIMIT</td><td>BUY</td><td>0.00000000</td><td>0.00000000</td><td>1694571725449</td><td>1694571725449</td><td>True</td><td>1694571725449</td><td>0.00000000</td><td>NONE</td></tr><tr><td>BTCUSDT</td><td>4009942</td><td>-1</td><td>Xz6Y4oHhAHfHS7PII10cFy</td><td>25000.00000000</td><td>0.01000000</td><td>0.00000000</td><td>0.00000000</td><td>NEW</td><td>GTC</td><td>LIMIT</td><td>BUY</td><td>0.00000000</td><td>0.00000000</td><td>1694571773319</td><td>1694571773319</td><td>True</td><td>1694571773319</td><td>0.00000000</td><td>NONE</td></tr><tr><td>BTCUSDT</td><td>4009984</td><td>-1</td><td>5HDLlhSL0jIoiBIUfoReHg</td><td>0.00000000</td><td>0.01000000</td><td>0.01000000</td><td>259.31190000</td><td>FILLED</td><td>GTC</td><td>MARKET</td><td>BUY</td><td>0.00000000</td><td>0.00000000</td><td>1694571783866</td><td>1694571783866</td><td>True</td><td>1694571783866</td><td>0.00000000</td><td>NONE</td></tr><tr><td>BTCUSDT</td><td>4021739</td><td>-1</td><td>ghWo56QbQFIqhHHbUF0G1i</td><td>25000.00000000</td><td>0.01000000</td><td>0.00000000</td><td>0.00000000</td><td>NEW</td><td>GTC</td><td>LIMIT</td><td>BUY</td><td>0.00000000</td><td>0.00000000</td><td>1694574145237</td><td>1694574145237</td><td>True</td><td>1694574145237</td><td>0.00000000</td><td>NONE</td></tr><tr><td>BTCUSDT</td><td>4021747</td><td>-1</td><td>YRQw6ZNE3zyIFjA5STUPhh</td><td>0.00000000</td><td>0.01000000</td><td>0.01000000</td><td>258.86380946</td><td>FILLED</td><td>GTC</td><td>MARKET</td><td>BUY</td><td>0.00000000</td><td>0.00000000</td><td>1694574146769</td><td>1694574146769</td><td>True</td><td>1694574146769</td><td>0.00000000</td><td>NONE</td></tr><tr><td>BTCUSDT</td><td>4022698</td><td>-1</td><td>gwo3RsAEfUb3I7jbPLSNt9</td><td>25000.00000000</td><td>0.01000000</td><td>0.00000000</td><td>0.00000000</td><td>NEW</td><td>GTC</td><td>LIMIT</td><td>BUY</td><td>0.00000000</td><td>0.00000000</td><td>1694574330277</td><td>1694574330277</td><td>True</td><td>1694574330277</td><td>0.00000000</td><td>NONE</td></tr><tr><td>BTCUSDT</td><td>4022699</td><td>-1</td><td>iIxhmpdS2cP6HN3eJVjTgn</td><td>0.00000000</td><td>0.01000000</td><td>0.01000000</td><td>261.74870000</td><td>FILLED</td><td>GTC</td><td>MARKET</td><td>BUY</td><td>0.00000000</td><td>0.00000000</td><td>1694574331063</td><td>1694574331063</td><td>True</td><td>1694574331063</td><td>0.00000000</td><td>NONE</td></tr><tr><td>BTCUSDT</td><td>4035134</td><td>-1</td><td>YiHjakwpsNBFu3YxnpSqmq</td><td>25000.00000000</td><td>0.01000000</td><td>0.00000000</td><td>0.00000000</td><td>NEW</td><td>GTC</td><td>LIMIT</td><td>BUY</td><td>0.00000000</td><td>0.00000000</td><td>1694576785475</td><td>1694576785475</td><td>True</td><td>1694576785475</td><td>0.00000000</td><td>NONE</td></tr><tr><td>BTCUSDT</td><td>4035147</td><td>-1</td><td>RV3AtH8VrHDK1M6NFTm9SV</td><td>0.00000000</td><td>0.01000000</td><td>0.01000000</td><td>258.69500000</td><td>FILLED</td><td>GTC</td><td>MARKET</td><td>BUY</td><td>0.00000000</td><td>0.00000000</td><td>1694576788744</td><td>1694576788744</td><td>True</td><td>1694576788744</td><td>0.00000000</td><td>NONE</td></tr><tr><td>BTCUSDT</td><td>4035750</td><td>-1</td><td>h7FeYtdXqEVFudQsemWvpT</td><td>0.00000000</td><td>0.01000000</td><td>0.01000000</td><td>258.55660000</td><td>FILLED</td><td>GTC</td><td>MARKET</td><td>BUY</td><td>0.00000000</td><td>0.00000000</td><td>1694576924784</td><td>1694576924784</td><td>True</td><td>1694576924784</td><td>0.00000000</td><td>NONE</td></tr><tr><td>BTCUSDT</td><td>4039293</td><td>-1</td><td>e6i4yTla1IScaVdEVmqvIY</td><td>25000.00000000</td><td>0.01000000</td><td>0.00000000</td><td>0.00000000</td><td>NEW</td><td>GTC</td><td>LIMIT</td><td>BUY</td><td>0.00000000</td><td>0.00000000</td><td>1694577724149</td><td>1694577724149</td><td>True</td><td>1694577724149</td><td>0.00000000</td><td>NONE</td></tr><tr><td>BTCUSDT</td><td>4039298</td><td>-1</td><td>P2jVrkM223N9FZBOSmqTFn</td><td>0.00000000</td><td>0.01000000</td><td>0.01000000</td><td>258.79745844</td><td>FILLED</td><td>GTC</td><td>MARKET</td><td>BUY</td><td>0.00000000</td><td>0.00000000</td><td>1694577724924</td><td>1694577724924</td><td>True</td><td>1694577724924</td><td>0.00000000</td><td>NONE</td></tr><tr><td>BTCUSDT</td><td>4166312</td><td>-1</td><td>11rN0e6ClFNL9UwxMzsJkl</td><td>0.00000000</td><td>0.01000000</td><td>0.01000000</td><td>261.84010000</td><td>FILLED</td><td>GTC</td><td>MARKET</td><td>BUY</td><td>0.00000000</td><td>0.00000000</td><td>1694604582075</td><td>1694604582075</td><td>True</td><td>1694604582075</td><td>0.00000000</td><td>NONE</td></tr><tr><td>BTCUSDT</td><td>4166599</td><td>-1</td><td>FybTGSfgzDQT50IFl0BP70</td><td>0.00000000</td><td>0.10000000</td><td>0.10000000</td><td>2619.38858547</td><td>FILLED</td><td>GTC</td><td>MARKET</td><td>BUY</td><td>0.00000000</td><td>0.00000000</td><td>1694604644002</td><td>1694604644002</td><td>True</td><td>1694604644002</td><td>0.00000000</td><td>NONE</td></tr><tr><td>BTCUSDT</td><td>4254671</td><td>-1</td><td>JXbc55M5zgKU85Ud5LQ2xw</td><td>25000.00000000</td><td>0.00100000</td><td>0.00000000</td><td>0.00000000</td><td>NEW</td><td>GTC</td><td>LIMIT</td><td>BUY</td><td>0.00000000</td><td>0.00000000</td><td>1694614746769</td><td>1694614746769</td><td>True</td><td>1694614746769</td><td>0.00000000</td><td>NONE</td></tr><tr><td>BTCUSDT</td><td>4270653</td><td>-1</td><td>PUapn0FcOD4Mhv00t8y0qs</td><td>0.00000000</td><td>0.01000000</td><td>0.01000000</td><td>262.72980000</td><td>FILLED</td><td>GTC</td><td>MARKET</td><td>SELL</td><td>0.00000000</td><td>0.00000000</td><td>1694616407109</td><td>1694616407109</td><td>True</td><td>1694616407109</td><td>0.00000000</td><td>NONE</td></tr><tr><td>BTCUSDT</td><td>4279517</td><td>-1</td><td>uSXvEuEU171l2odp2ck27t</td><td>0.00000000</td><td>0.01000000</td><td>0.01000000</td><td>262.20470000</td><td>FILLED</td><td>GTC</td><td>MARKET</td><td>SELL</td><td>0.00000000</td><td>0.00000000</td><td>1694617456732</td><td>1694617456732</td><td>True</td><td>1694617456732</td><td>0.00000000</td><td>NONE</td></tr><tr><td>BTCUSDT</td><td>4432426</td><td>-1</td><td>a6BaKrH7g1W6dRTAutOcob</td><td>0.00000000</td><td>0.01000000</td><td>0.01000000</td><td>262.31556341</td><td>FILLED</td><td>GTC</td><td>MARKET</td><td>SELL</td><td>0.00000000</td><td>0.00000000</td><td>1694641389457</td><td>1694641389457</td><td>True</td><td>1694641389457</td><td>0.00000000</td><td>NONE</td></tr><tr><td>BTCUSDT</td><td>4599887</td><td>-1</td><td>OK5cdwPMpB8w107d6HLAJ6</td><td>0.00000000</td><td>0.01000000</td><td>0.01000000</td><td>262.33970000</td><td>FILLED</td><td>GTC</td><td>MARKET</td><td>SELL</td><td>0.00000000</td><td>0.00000000</td><td>1694668447081</td><td>1694668447081</td><td>True</td><td>1694668447081</td><td>0.00000000</td><td>NONE</td></tr><tr><td>BTCUSDT</td><td>4600283</td><td>-1</td><td>jWIPPPtCks4ZcWZWOaBYNK</td><td>0.00000000</td><td>0.01000000</td><td>0.01000000</td><td>262.26050000</td><td>FILLED</td><td>GTC</td><td>MARKET</td><td>SELL</td><td>0.00000000</td><td>0.00000000</td><td>1694668504574</td><td>1694668504574</td><td>True</td><td>1694668504574</td><td>0.00000000</td><td>NONE</td></tr><tr><td>BTCUSDT</td><td>4612118</td><td>-1</td><td>eJf4HgOmVyzEmpjrWIzpUo</td><td>0.00000000</td><td>0.01000000</td><td>0.01000000</td><td>261.83840000</td><td>FILLED</td><td>GTC</td><td>MARKET</td><td>SELL</td><td>0.00000000</td><td>0.00000000</td><td>1694670558570</td><td>1694670558570</td><td>True</td><td>1694670558570</td><td>0.00000000</td><td>NONE</td></tr><tr><td>BTCUSDT</td><td>4623540</td><td>-1</td><td>JdkO11R7FECODqYkLY5fX3</td><td>0.00000000</td><td>0.01000000</td><td>0.01000000</td><td>262.52570000</td><td>FILLED</td><td>GTC</td><td>MARKET</td><td>SELL</td><td>0.00000000</td><td>0.00000000</td><td>1694672655910</td><td>1694672655910</td><td>True</td><td>1694672655910</td><td>0.00000000</td><td>NONE</td></tr><tr><td>BTCUSDT</td><td>4624977</td><td>-1</td><td>YUfmnlf6OF2q1vgrVcNQtb</td><td>0.00000000</td><td>0.01000000</td><td>0.01000000</td><td>262.66600000</td><td>FILLED</td><td>GTC</td><td>MARKET</td><td>SELL</td><td>0.00000000</td><td>0.00000000</td><td>1694672903764</td><td>1694672903764</td><td>True</td><td>1694672903764</td><td>0.00000000</td><td>NONE</td></tr></tbody></table>"
      ],
      "text/plain": [
       "<IPython.core.display.HTML object>"
      ]
     },
     "execution_count": 6,
     "metadata": {},
     "output_type": "execute_result"
    }
   ],
   "source": [
    "HTML(json2html.convert(binance.order_status.__str__()))"
   ]
  },
  {
   "cell_type": "code",
   "execution_count": 8,
   "metadata": {},
   "outputs": [
    {
     "data": {
      "text/html": [
       "<table border=\"1\"><thead><tr><th>symbol</th><th>id</th><th>orderId</th><th>orderListId</th><th>price</th><th>qty</th><th>quoteQty</th><th>commission</th><th>commissionAsset</th><th>time</th><th>isBuyer</th><th>isMaker</th><th>isBestMatch</th></tr></thead><tbody><tr><td>BTCUSDT</td><td>339197</td><td>2782215</td><td>-1</td><td>25000.00000000</td><td>0.01000000</td><td>250.00000000</td><td>0.00000000</td><td>BTC</td><td>1694398622469</td><td>True</td><td>True</td><td>True</td></tr><tr><td>BTCUSDT</td><td>339198</td><td>2782217</td><td>-1</td><td>25000.00000000</td><td>0.01000000</td><td>250.00000000</td><td>0.00000000</td><td>BTC</td><td>1694398622469</td><td>True</td><td>True</td><td>True</td></tr><tr><td>BTCUSDT</td><td>340006</td><td>2791003</td><td>-1</td><td>25000.00000000</td><td>0.01000000</td><td>250.00000000</td><td>0.00000000</td><td>BTC</td><td>1694399524466</td><td>True</td><td>True</td><td>True</td></tr><tr><td>BTCUSDT</td><td>340007</td><td>2791018</td><td>-1</td><td>25000.00000000</td><td>0.01000000</td><td>250.00000000</td><td>0.00000000</td><td>BTC</td><td>1694399524466</td><td>True</td><td>True</td><td>True</td></tr><tr><td>BTCUSDT</td><td>342545</td><td>2801804</td><td>-1</td><td>25000.00000000</td><td>0.01000000</td><td>250.00000000</td><td>0.00000000</td><td>BTC</td><td>1694402069229</td><td>True</td><td>True</td><td>True</td></tr><tr><td>BTCUSDT</td><td>367190</td><td>2903188</td><td>-1</td><td>25000.00000000</td><td>0.01000000</td><td>250.00000000</td><td>0.00000000</td><td>BTC</td><td>1694424339455</td><td>True</td><td>True</td><td>True</td></tr><tr><td>BTCUSDT</td><td>367191</td><td>2932980</td><td>-1</td><td>25000.00000000</td><td>0.01000000</td><td>250.00000000</td><td>0.00000000</td><td>BTC</td><td>1694424339455</td><td>True</td><td>True</td><td>True</td></tr><tr><td>BTCUSDT</td><td>367192</td><td>2955184</td><td>-1</td><td>25000.00000000</td><td>0.01000000</td><td>250.00000000</td><td>0.00000000</td><td>BTC</td><td>1694424339455</td><td>True</td><td>True</td><td>True</td></tr><tr><td>BTCUSDT</td><td>367193</td><td>2976756</td><td>-1</td><td>25000.00000000</td><td>0.01000000</td><td>250.00000000</td><td>0.00000000</td><td>BTC</td><td>1694424339455</td><td>True</td><td>True</td><td>True</td></tr><tr><td>BTCUSDT</td><td>367194</td><td>2981859</td><td>-1</td><td>25000.00000000</td><td>0.00209600</td><td>52.40000000</td><td>0.00000000</td><td>BTC</td><td>1694424339455</td><td>True</td><td>True</td><td>True</td></tr><tr><td>BTCUSDT</td><td>367232</td><td>2981859</td><td>-1</td><td>25000.00000000</td><td>0.00790400</td><td>197.60000000</td><td>0.00000000</td><td>BTC</td><td>1694424350201</td><td>True</td><td>True</td><td>True</td></tr><tr><td>BTCUSDT</td><td>367233</td><td>2986909</td><td>-1</td><td>25000.00000000</td><td>0.01000000</td><td>250.00000000</td><td>0.00000000</td><td>BTC</td><td>1694424350201</td><td>True</td><td>True</td><td>True</td></tr><tr><td>BTCUSDT</td><td>367235</td><td>2987883</td><td>-1</td><td>25000.00000000</td><td>0.01000000</td><td>250.00000000</td><td>0.00000000</td><td>BTC</td><td>1694424350201</td><td>True</td><td>True</td><td>True</td></tr><tr><td>BTCUSDT</td><td>367236</td><td>2989648</td><td>-1</td><td>25000.00000000</td><td>0.01000000</td><td>250.00000000</td><td>0.00000000</td><td>BTC</td><td>1694424350201</td><td>True</td><td>True</td><td>True</td></tr><tr><td>BTCUSDT</td><td>367237</td><td>2990370</td><td>-1</td><td>25000.00000000</td><td>0.01000000</td><td>250.00000000</td><td>0.00000000</td><td>BTC</td><td>1694424350201</td><td>True</td><td>True</td><td>True</td></tr><tr><td>BTCUSDT</td><td>368275</td><td>2997547</td><td>-1</td><td>25000.00000000</td><td>0.01000000</td><td>250.00000000</td><td>0.00000000</td><td>BTC</td><td>1694424717487</td><td>True</td><td>True</td><td>True</td></tr><tr><td>BTCUSDT</td><td>659953</td><td>4009984</td><td>-1</td><td>25931.19000000</td><td>0.01000000</td><td>259.31190000</td><td>0.00000000</td><td>BTC</td><td>1694571783866</td><td>True</td><td>False</td><td>True</td></tr><tr><td>BTCUSDT</td><td>662078</td><td>4021747</td><td>-1</td><td>25886.36000000</td><td>0.00301800</td><td>78.12503448</td><td>0.00000000</td><td>BTC</td><td>1694574146769</td><td>True</td><td>False</td><td>True</td></tr><tr><td>BTCUSDT</td><td>662079</td><td>4021747</td><td>-1</td><td>25886.39000000</td><td>0.00698200</td><td>180.73877498</td><td>0.00000000</td><td>BTC</td><td>1694574146769</td><td>True</td><td>False</td><td>True</td></tr><tr><td>BTCUSDT</td><td>662369</td><td>4022699</td><td>-1</td><td>26174.87000000</td><td>0.01000000</td><td>261.74870000</td><td>0.00000000</td><td>BTC</td><td>1694574331063</td><td>True</td><td>False</td><td>True</td></tr><tr><td>BTCUSDT</td><td>664953</td><td>4035147</td><td>-1</td><td>25869.50000000</td><td>0.01000000</td><td>258.69500000</td><td>0.00000000</td><td>BTC</td><td>1694576788744</td><td>True</td><td>False</td><td>True</td></tr><tr><td>BTCUSDT</td><td>665046</td><td>4035750</td><td>-1</td><td>25855.66000000</td><td>0.01000000</td><td>258.55660000</td><td>0.00000000</td><td>BTC</td><td>1694576924784</td><td>True</td><td>False</td><td>True</td></tr><tr><td>BTCUSDT</td><td>665967</td><td>4039298</td><td>-1</td><td>25879.74000000</td><td>0.00415600</td><td>107.55619944</td><td>0.00000000</td><td>BTC</td><td>1694577724924</td><td>True</td><td>False</td><td>True</td></tr><tr><td>BTCUSDT</td><td>665968</td><td>4039298</td><td>-1</td><td>25879.75000000</td><td>0.00584400</td><td>151.24125900</td><td>0.00000000</td><td>BTC</td><td>1694577724924</td><td>True</td><td>False</td><td>True</td></tr><tr><td>BTCUSDT</td><td>695632</td><td>4166312</td><td>-1</td><td>26184.01000000</td><td>0.01000000</td><td>261.84010000</td><td>0.00000000</td><td>BTC</td><td>1694604582075</td><td>True</td><td>False</td><td>True</td></tr><tr><td>BTCUSDT</td><td>695777</td><td>4166599</td><td>-1</td><td>26193.85000000</td><td>0.03016000</td><td>790.00651600</td><td>0.00000000</td><td>BTC</td><td>1694604644002</td><td>True</td><td>False</td><td>True</td></tr><tr><td>BTCUSDT</td><td>695778</td><td>4166599</td><td>-1</td><td>26193.88000000</td><td>0.03703200</td><td>970.01176416</td><td>0.00000000</td><td>BTC</td><td>1694604644002</td><td>True</td><td>False</td><td>True</td></tr><tr><td>BTCUSDT</td><td>695779</td><td>4166599</td><td>-1</td><td>26193.91000000</td><td>0.02557900</td><td>670.01402389</td><td>0.00000000</td><td>BTC</td><td>1694604644002</td><td>True</td><td>False</td><td>True</td></tr><tr><td>BTCUSDT</td><td>695780</td><td>4166599</td><td>-1</td><td>26193.98000000</td><td>0.00722900</td><td>189.35628142</td><td>0.00000000</td><td>BTC</td><td>1694604644002</td><td>True</td><td>False</td><td>True</td></tr><tr><td>BTCUSDT</td><td>721763</td><td>4270653</td><td>-1</td><td>26272.98000000</td><td>0.01000000</td><td>262.72980000</td><td>0.00000000</td><td>USDT</td><td>1694616407109</td><td>False</td><td>False</td><td>True</td></tr><tr><td>BTCUSDT</td><td>723955</td><td>4279517</td><td>-1</td><td>26220.47000000</td><td>0.01000000</td><td>262.20470000</td><td>0.00000000</td><td>USDT</td><td>1694617456732</td><td>False</td><td>False</td><td>True</td></tr><tr><td>BTCUSDT</td><td>761265</td><td>4432426</td><td>-1</td><td>26231.56000000</td><td>0.00634100</td><td>166.33432196</td><td>0.00000000</td><td>USDT</td><td>1694641389457</td><td>False</td><td>False</td><td>True</td></tr><tr><td>BTCUSDT</td><td>761266</td><td>4432426</td><td>-1</td><td>26231.55000000</td><td>0.00365900</td><td>95.98124145</td><td>0.00000000</td><td>USDT</td><td>1694641389457</td><td>False</td><td>False</td><td>True</td></tr><tr><td>BTCUSDT</td><td>787635</td><td>4599887</td><td>-1</td><td>26233.97000000</td><td>0.01000000</td><td>262.33970000</td><td>0.00000000</td><td>USDT</td><td>1694668447081</td><td>False</td><td>False</td><td>True</td></tr><tr><td>BTCUSDT</td><td>787691</td><td>4600283</td><td>-1</td><td>26226.05000000</td><td>0.01000000</td><td>262.26050000</td><td>0.00000000</td><td>USDT</td><td>1694668504574</td><td>False</td><td>False</td><td>True</td></tr><tr><td>BTCUSDT</td><td>789782</td><td>4612118</td><td>-1</td><td>26183.84000000</td><td>0.01000000</td><td>261.83840000</td><td>0.00000000</td><td>USDT</td><td>1694670558570</td><td>False</td><td>False</td><td>True</td></tr><tr><td>BTCUSDT</td><td>792115</td><td>4623540</td><td>-1</td><td>26252.57000000</td><td>0.01000000</td><td>262.52570000</td><td>0.00000000</td><td>USDT</td><td>1694672655910</td><td>False</td><td>False</td><td>True</td></tr><tr><td>BTCUSDT</td><td>792290</td><td>4624977</td><td>-1</td><td>26266.60000000</td><td>0.01000000</td><td>262.66600000</td><td>0.00000000</td><td>USDT</td><td>1694672903764</td><td>False</td><td>False</td><td>True</td></tr></tbody></table>"
      ],
      "text/plain": [
       "<IPython.core.display.HTML object>"
      ]
     },
     "execution_count": 8,
     "metadata": {},
     "output_type": "execute_result"
    }
   ],
   "source": [
    "HTML(json2html.convert(binance.trade_list.__str__()))"
   ]
  },
  {
   "cell_type": "code",
   "execution_count": null,
   "metadata": {},
   "outputs": [],
   "source": [
    "binance.start_market_stream()"
   ]
  },
  {
   "cell_type": "code",
   "execution_count": null,
   "metadata": {},
   "outputs": [],
   "source": [
    "import time\n",
    "from IPython.display import clear_output\n",
    "count = 100\n",
    "while True:\n",
    "    print(binance.asks.head().iloc[::-1])\n",
    "    print(\"   -- ↑ Asks / Bids ↓ --\")\n",
    "    print(binance.bids.head())\n",
    "    time.sleep(0.5)\n",
    "    clear_output(wait=True)\n",
    "\n",
    "    if count < 0:\n",
    "        break\n",
    "    count -= 1"
   ]
  },
  {
   "cell_type": "code",
   "execution_count": null,
   "metadata": {},
   "outputs": [],
   "source": [
    "binance.stop_market_stream()"
   ]
  },
  {
   "cell_type": "code",
   "execution_count": null,
   "metadata": {},
   "outputs": [],
   "source": [
    "j = \"\"\"[{\"symbol\":\"BTCUSDT\",\"orderId\":2782215,\"orderListId\":-1,\"clientOrderId\":\"LnvxKDYYXdtn7m8oweHqyh\",\"price\":\"25000.00000000\",\"origQty\":\"0.01000000\",\"executedQty\":\"0.01000000\",\"cummulativeQuoteQty\":\"250.00000000\",\"status\":\"FILLED\",\"timeInForce\":\"GTC\",\"type\":\"LIMIT\",\"side\":\"BUY\",\"stopPrice\":\"0.00000000\",\"icebergQty\":\"0.00000000\",\"time\":1694396686024,\"updateTime\":1694398622469,\"isWorking\":true,\"workingTime\":1694396686024,\"origQuoteOrderQty\":\"0.00000000\",\"selfTradePreventionMode\":\"NONE\"},\n",
    " {\"symbol\":\"BTCUSDT\",\"orderId\":2782217,\"orderListId\":-1,\"clientOrderId\":\"tpELVj8sifYLV0RKUA8Ojx\",\"price\":\"25000.00000000\",\"origQty\":\"0.01000000\",\"executedQty\":\"0.01000000\",\"cummulativeQuoteQty\":\"250.00000000\",\"status\":\"FILLED\",\"timeInForce\":\"GTC\",\"type\":\"LIMIT\",\"side\":\"BUY\",\"stopPrice\":\"0.00000000\",\"icebergQty\":\"0.00000000\",\"time\":1694396695637,\"updateTime\":1694398622469,\"isWorking\":true,\"workingTime\":1694396695637,\"origQuoteOrderQty\":\"0.00000000\",\"selfTradePreventionMode\":\"NONE\"},\n",
    "]\"\"\""
   ]
  },
  {
   "cell_type": "code",
   "execution_count": null,
   "metadata": {},
   "outputs": [],
   "source": [
    "j"
   ]
  },
  {
   "cell_type": "code",
   "execution_count": null,
   "metadata": {},
   "outputs": [],
   "source": [
    "json2html.convert(json=j)"
   ]
  },
  {
   "cell_type": "code",
   "execution_count": null,
   "metadata": {},
   "outputs": [],
   "source": []
  }
 ],
 "metadata": {
  "kernelspec": {
   "display_name": "Python 3",
   "language": "python",
   "name": "python3"
  },
  "language_info": {
   "codemirror_mode": {
    "name": "ipython",
    "version": 3
   },
   "file_extension": ".py",
   "mimetype": "text/x-python",
   "name": "python",
   "nbconvert_exporter": "python",
   "pygments_lexer": "ipython3",
   "version": "3.11.4"
  },
  "orig_nbformat": 4
 },
 "nbformat": 4,
 "nbformat_minor": 2
}
