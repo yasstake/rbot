{
 "cells": [
  {
   "cell_type": "code",
   "execution_count": 4,
   "metadata": {},
   "outputs": [
    {
     "data": {
      "text/html": [
       "<table border=\"1\"><tr><th>exchange_name</th><td>BN</td></tr><tr><th>trade_category</th><td>TESTSPOT</td></tr><tr><th>trade_symbol</th><td>BTCUSDT</td></tr><tr><th>size_in_foreign</th><td>False</td></tr><tr><th>home_currency</th><td>USDT</td></tr><tr><th>foreign_currency</th><td>BTC</td></tr><tr><th>testnet</th><td>True</td></tr><tr><th>rest_endpoint</th><td>https://testnet.binance.vision</td></tr><tr><th>public_ws_endpoint</th><td>wss://testnet.binance.vision/ws</td></tr><tr><th>private_ws_endpoint</th><td>wss://testnet.binance.vision/ws</td></tr><tr><th>history_web_base</th><td>https://data.binance.vision/data/spot/daily/trades</td></tr><tr><th>new_order_path</th><td>/api/v3/order</td></tr><tr><th>cancel_order_path</th><td>/api/v3/order</td></tr><tr><th>public_subscribe_message</th><td>{&quot;id&quot;:1,&quot;method&quot;:&quot;SUBSCRIBE&quot;,&quot;params&quot;:[&quot;btcusdt@trade&quot;,&quot;btcusdt@depth@100ms&quot;]}</td></tr><tr><th>api_key</th><td>NOhZ*******************</td></tr><tr><th>api_secret</th><td>yPrx*******************</td></tr></table>"
      ],
      "text/plain": [
       "<IPython.core.display.HTML object>"
      ]
     },
     "execution_count": 4,
     "metadata": {},
     "output_type": "execute_result"
    }
   ],
   "source": [
    "import json\n",
    "from json2html import json2html\n",
    "from IPython.display import HTML\n",
    "\n",
    "from rbot import *\n",
    "config = BinanceConfig.TESTSPOT(\"BTC\", \"USDT\")\n",
    "\n",
    "HTML(json2html.convert(config.__str__()))"
   ]
  },
  {
   "cell_type": "code",
   "execution_count": 5,
   "metadata": {},
   "outputs": [
    {
     "name": "stdout",
     "output_type": "stream",
     "text": [
      "2023-09-27T02:20:19.732Z \u001b[35mDEBUG\u001b[0m [rbot::exchange::binance::market] create TradeTable: /Users/takeoyasukawa/Library/Application Support/net.takibi.rbot/DB/BN-TESTNET/TESTSPOT-BTCUSDT.db\n",
      "2023-09-27T02:20:19.732Z \u001b[35mDEBUG\u001b[0m [rbot::db::sqlite] open database /Users/takeoyasukawa/Library/Application Support/net.takibi.rbot/DB/BN-TESTNET/TESTSPOT-BTCUSDT.db\n",
      "2023-09-27T02:20:19.733Z \u001b[35mDEBUG\u001b[0m [rbot::db::sqlite] journal_mode = wal\n",
      "2023-09-27T02:20:19.733Z \u001b[35mDEBUG\u001b[0m [rbot::db::sqlite] wal mode already set\n",
      "2023-09-27T02:20:19.733Z \u001b[35mDEBUG\u001b[0m [rbot::db::sqlite] Database open path = /Users/takeoyasukawa/Library/Application Support/net.takibi.rbot/DB/BN-TESTNET/TESTSPOT-BTCUSDT.db\n",
      "2023-09-27T02:20:19.733Z \u001b[35mDEBUG\u001b[0m [rbot::db::sqlite] Database open path = /Users/takeoyasukawa/Library/Application Support/net.takibi.rbot/DB/BN-TESTNET/TESTSPOT-BTCUSDT.db\n"
     ]
    }
   ],
   "source": [
    "import rbot\n",
    "from rbot import BinanceMarket\n",
    "\n",
    "          #BinanceMarket\n",
    "binance = BinanceMarket(config)\n",
    "init_debug_log()"
   ]
  },
  {
   "cell_type": "code",
   "execution_count": 8,
   "metadata": {},
   "outputs": [
    {
     "name": "stdout",
     "output_type": "stream",
     "text": [
      "2023-09-27T02:25:07.696Z \u001b[35mDEBUG\u001b[0m [rbot::exchange::binance::rest] path/api/v3/order / body: symbol=BTCUSDT&side=BUY&type=MARKET&quantity=0.05&newClientOrderId=BTCUSDT&recvWindow=6000&timestamp=1695781507696&signature=775f03ce9480fdac539f29e3e305b9daa87bee59375b3dc27127dfea6575115b\n",
      "2023-09-27T02:25:07.696Z \u001b[35mDEBUG\u001b[0m [reqwest::connect] starting new connection: https://testnet.binance.vision/\n",
      "2023-09-27T02:25:07.774Z \u001b[35mDEBUG\u001b[0m [rbot::exchange] Response code = 200 / download size None / method(POST) / URL = https://testnet.binance.vision/api/v3/order / pathsymbol=BTCUSDT&side=BUY&type=MARKET&quantity=0.05&newClientOrderId=BTCUSDT&recvWindow=6000&timestamp=1695781507696&signature=775f03ce9480fdac539f29e3e305b9daa87bee59375b3dc27127dfea6575115b\n"
     ]
    },
    {
     "data": {
      "text/plain": [
       "[{\"symbol\":\"BTCUSDT\",\"create_time\":1695781507827000,\"order_id\":\"10068857\",\"client_order_id\":\"BTCUSDT\",\"order_side\":\"Buy\",\"order_type\":\"Market\",\"order_price\":\"0.00000000\",\"order_size\":\"0.05000000\",\"remain_size\":\"0.02273200\",\"status\":\"PartiallyFilled\",\"transaction_id\":\"1738935\",\"update_time\":0,\"execute_price\":\"26264.94000000\",\"execute_size\":\"0.02726800\",\"quote_vol\":\"716.1923839200000000\",\"commission\":\"0.00000000\",\"commission_asset\":\"BTC\",\"is_maker\":false,\"message\":\"\"},\n",
       " {\"symbol\":\"BTCUSDT\",\"create_time\":1695781507827000,\"order_id\":\"10068857\",\"client_order_id\":\"BTCUSDT\",\"order_side\":\"Buy\",\"order_type\":\"Market\",\"order_price\":\"0.00000000\",\"order_size\":\"0.05000000\",\"remain_size\":\"0.00000000\",\"status\":\"Filled\",\"transaction_id\":\"1738936\",\"update_time\":0,\"execute_price\":\"26264.98000000\",\"execute_size\":\"0.02273200\",\"quote_vol\":\"597.0555253600000000\",\"commission\":\"0.00000000\",\"commission_asset\":\"BTC\",\"is_maker\":false,\"message\":\"\"}]"
      ]
     },
     "execution_count": 8,
     "metadata": {},
     "output_type": "execute_result"
    }
   ],
   "source": [
    "binance.market_order(OrderSide.Buy, 0.05, \"BTCUSDT\")"
   ]
  },
  {
   "cell_type": "code",
   "execution_count": 9,
   "metadata": {},
   "outputs": [
    {
     "name": "stdout",
     "output_type": "stream",
     "text": [
      "2023-09-27T02:26:10.674Z \u001b[35mDEBUG\u001b[0m [rbot::exchange::binance::rest] path/api/v3/order / body: symbol=BTCUSDT&side=BUY&type=LIMIT&timeInForce=GTC&quantity=0.001&price=24000.1&recvWindow=6000&timestamp=1695781570674&signature=18ea3dbfe52bdd9174a3fb0f4f7bfc8192458c7b1bf0a095ba2a55c7d2a87997\n",
      "2023-09-27T02:26:10.675Z \u001b[35mDEBUG\u001b[0m [reqwest::connect] starting new connection: https://testnet.binance.vision/\n",
      "2023-09-27T02:26:10.826Z \u001b[35mDEBUG\u001b[0m [rbot::exchange] Response code = 200 / download size None / method(POST) / URL = https://testnet.binance.vision/api/v3/order / pathsymbol=BTCUSDT&side=BUY&type=LIMIT&timeInForce=GTC&quantity=0.001&price=24000.1&recvWindow=6000&timestamp=1695781570674&signature=18ea3dbfe52bdd9174a3fb0f4f7bfc8192458c7b1bf0a095ba2a55c7d2a87997\n"
     ]
    },
    {
     "data": {
      "text/html": [
       "<table border=\"1\"><thead><tr><th>symbol</th><th>create_time</th><th>order_id</th><th>client_order_id</th><th>order_side</th><th>order_type</th><th>order_price</th><th>order_size</th><th>remain_size</th><th>status</th><th>transaction_id</th><th>update_time</th><th>execute_price</th><th>execute_size</th><th>quote_vol</th><th>commission</th><th>commission_asset</th><th>is_maker</th><th>message</th></tr></thead><tbody><tr><td>BTCUSDT</td><td>1695781570877000</td><td>10069268</td><td>sWKr61NkT2f7Dszs6WHJWg</td><td>Buy</td><td>Limit</td><td>24000.10000000</td><td>0.00100000</td><td>0.00100000</td><td>New</td><td></td><td>0</td><td>0.0</td><td>0.0</td><td>0.0</td><td>0.0</td><td></td><td>False</td><td></td></tr></tbody></table>"
      ],
      "text/plain": [
       "<IPython.core.display.HTML object>"
      ]
     },
     "execution_count": 9,
     "metadata": {},
     "output_type": "execute_result"
    }
   ],
   "source": [
    "o = binance.limit_order(OrderSide.Buy, 24000.1, 0.001)\n",
    "HTML(json2html.convert(json=o.__str__()))"
   ]
  },
  {
   "cell_type": "code",
   "execution_count": 5,
   "metadata": {},
   "outputs": [
    {
     "name": "stdout",
     "output_type": "stream",
     "text": [
      "2023-09-27T01:08:55.879Z \u001b[35mDEBUG\u001b[0m [rbot::exchange::binance::rest] path/api/v3/order / body: symbol=BTCUSDT&side=BUY&type=LIMIT&timeInForce=GTC&quantity=0.001&price=24000.1&recvWindow=6000&timestamp=1695776935879&signature=d1be10de137fa8c02fd09bfc7c3e6c533560ad08dcea21b90068467976ebf803\n",
      "2023-09-27T01:08:55.879Z \u001b[35mDEBUG\u001b[0m [reqwest::connect] starting new connection: https://testnet.binance.vision/\n",
      "2023-09-27T01:08:56.083Z \u001b[35mDEBUG\u001b[0m [rbot::exchange] Response code = 200 / download size None / method(POST) / URL = https://testnet.binance.vision/api/v3/order / pathsymbol=BTCUSDT&side=BUY&type=LIMIT&timeInForce=GTC&quantity=0.001&price=24000.1&recvWindow=6000&timestamp=1695776935879&signature=d1be10de137fa8c02fd09bfc7c3e6c533560ad08dcea21b90068467976ebf803\n"
     ]
    },
    {
     "data": {
      "text/plain": [
       "{\"symbol\":\"BTCUSDT\",\"orderId\":10038687,\"orderListId\":-1,\"clientOrderId\":\"IQyRfP0j7PUaBwaMcgkjWZ\",\"transactTime\":1695776936074,\"price\":\"24000.10000000\",\"origQty\":\"0.00100000\",\"executedQty\":\"0.00000000\",\"cummulativeQuoteQty\":\"0.00000000\",\"status\":\"NEW\",\"timeInForce\":\"GTC\",\"type\":\"LIMIT\",\"side\":\"BUY\",\"workingTime\":1695776936074,\"selfTradePreventionMode\":\"NONE\",\"fills\":[]}"
      ]
     },
     "execution_count": 5,
     "metadata": {},
     "output_type": "execute_result"
    }
   ],
   "source": [
    "binance.new_limit_order_raw(OrderSide.Buy, 24000.1, 0.001)"
   ]
  },
  {
   "cell_type": "code",
   "execution_count": null,
   "metadata": {},
   "outputs": [],
   "source": [
    "HTML(json2html.convert(binance.open_orders.__str__()))\n"
   ]
  },
  {
   "cell_type": "code",
   "execution_count": null,
   "metadata": {},
   "outputs": [],
   "source": [
    "binance.cancel_all_orders()"
   ]
  },
  {
   "cell_type": "code",
   "execution_count": null,
   "metadata": {},
   "outputs": [],
   "source": [
    "HTML(json2html.convert(binance.trade_list.__str__()))"
   ]
  },
  {
   "cell_type": "code",
   "execution_count": null,
   "metadata": {},
   "outputs": [],
   "source": [
    "binance.start_market_stream()"
   ]
  },
  {
   "cell_type": "code",
   "execution_count": null,
   "metadata": {},
   "outputs": [],
   "source": [
    "binance.bids"
   ]
  },
  {
   "cell_type": "code",
   "execution_count": null,
   "metadata": {},
   "outputs": [],
   "source": [
    "import time\n",
    "from IPython.display import clear_output\n",
    "count = 100\n",
    "while True:\n",
    "    print(binance.asks.head().iloc[::-1])\n",
    "    print(\"   -- ↑ Asks / Bids ↓ --\")\n",
    "    print(binance.bids.head())\n",
    "    time.sleep(0.5)\n",
    "    clear_output(wait=True)\n",
    "\n",
    "    if count < 0:\n",
    "        break\n",
    "    count -= 1"
   ]
  },
  {
   "cell_type": "code",
   "execution_count": null,
   "metadata": {},
   "outputs": [],
   "source": [
    "binance.stop_market_stream()"
   ]
  },
  {
   "cell_type": "code",
   "execution_count": null,
   "metadata": {},
   "outputs": [],
   "source": [
    "j = \"\"\"[{\"symbol\":\"BTCUSDT\",\"orderId\":2782215,\"orderListId\":-1,\"clientOrderId\":\"LnvxKDYYXdtn7m8oweHqyh\",\"price\":\"25000.00000000\",\"origQty\":\"0.01000000\",\"executedQty\":\"0.01000000\",\"cummulativeQuoteQty\":\"250.00000000\",\"status\":\"FILLED\",\"timeInForce\":\"GTC\",\"type\":\"LIMIT\",\"side\":\"BUY\",\"stopPrice\":\"0.00000000\",\"icebergQty\":\"0.00000000\",\"time\":1694396686024,\"updateTime\":1694398622469,\"isWorking\":true,\"workingTime\":1694396686024,\"origQuoteOrderQty\":\"0.00000000\",\"selfTradePreventionMode\":\"NONE\"},\n",
    " {\"symbol\":\"BTCUSDT\",\"orderId\":2782217,\"orderListId\":-1,\"clientOrderId\":\"tpELVj8sifYLV0RKUA8Ojx\",\"price\":\"25000.00000000\",\"origQty\":\"0.01000000\",\"executedQty\":\"0.01000000\",\"cummulativeQuoteQty\":\"250.00000000\",\"status\":\"FILLED\",\"timeInForce\":\"GTC\",\"type\":\"LIMIT\",\"side\":\"BUY\",\"stopPrice\":\"0.00000000\",\"icebergQty\":\"0.00000000\",\"time\":1694396695637,\"updateTime\":1694398622469,\"isWorking\":true,\"workingTime\":1694396695637,\"origQuoteOrderQty\":\"0.00000000\",\"selfTradePreventionMode\":\"NONE\"},\n",
    "]\"\"\""
   ]
  },
  {
   "cell_type": "code",
   "execution_count": null,
   "metadata": {},
   "outputs": [],
   "source": []
  },
  {
   "cell_type": "code",
   "execution_count": null,
   "metadata": {},
   "outputs": [],
   "source": [
    "json2html.convert(json=j)"
   ]
  },
  {
   "cell_type": "code",
   "execution_count": null,
   "metadata": {},
   "outputs": [],
   "source": [
    "init_debug_log()\n",
    "binance.start_market_stream()"
   ]
  },
  {
   "cell_type": "markdown",
   "metadata": {},
   "source": []
  },
  {
   "cell_type": "code",
   "execution_count": null,
   "metadata": {},
   "outputs": [],
   "source": [
    "binance.stop_market_stream()"
   ]
  },
  {
   "cell_type": "code",
   "execution_count": null,
   "metadata": {},
   "outputs": [],
   "source": [
    "init_debug_log()\n",
    "binance.start_user_stream()\n",
    "#binance.stop_user_stream()"
   ]
  },
  {
   "cell_type": "code",
   "execution_count": 5,
   "metadata": {},
   "outputs": [
    {
     "name": "stdout",
     "output_type": "stream",
     "text": [
      "2023-09-27T02:02:29.289Z \u001b[35mDEBUG\u001b[0m [rbot::exchange::binance::rest] path/api/v3/order / body: symbol=BTCUSDT&side=SELL&type=MARKET&quantity=0.05&recvWindow=6000&timestamp=1695780149289&signature=bd60f50b99b5f38ae98d97099f5116fea5598307097def56e02abd9487c8a89d\n"
     ]
    },
    {
     "data": {
      "text/plain": [
       "[{\"symbol\":\"BTCUSDT\",\"create_time\":1695780149391000,\"order_id\":\"10059914\",\"client_order_id\":\"hLNObACznj4k78wRTh6aUP\",\"order_side\":\"Sell\",\"order_type\":\"Market\",\"price\":\"0.00000000\",\"size\":\"0.05000000\",\"remain_size\":\"0.04067000\",\"status\":\"PartiallyFilled\",\"transaction_id\":\"1738635\",\"update_time\":0,\"execute_price\":\"26260.91000000\",\"execute_size\":\"0.00933000\",\"quote_vol\":\"245.0142903000000000\",\"commission\":\"0.00000000\",\"commission_asset\":\"USDT\",\"is_maker\":false,\"message\":\"\"},\n",
       " {\"symbol\":\"BTCUSDT\",\"create_time\":1695780149391000,\"order_id\":\"10059914\",\"client_order_id\":\"hLNObACznj4k78wRTh6aUP\",\"order_side\":\"Sell\",\"order_type\":\"Market\",\"price\":\"0.00000000\",\"size\":\"0.05000000\",\"remain_size\":\"0.00906400\",\"status\":\"PartiallyFilled\",\"transaction_id\":\"1738636\",\"update_time\":0,\"execute_price\":\"26260.89000000\",\"execute_size\":\"0.03160600\",\"quote_vol\":\"830.0016893400000000\",\"commission\":\"0.00000000\",\"commission_asset\":\"USDT\",\"is_maker\":false,\"message\":\"\"},\n",
       " {\"symbol\":\"BTCUSDT\",\"create_time\":1695780149391000,\"order_id\":\"10059914\",\"client_order_id\":\"hLNObACznj4k78wRTh6aUP\",\"order_side\":\"Sell\",\"order_type\":\"Market\",\"price\":\"0.00000000\",\"size\":\"0.05000000\",\"remain_size\":\"0.00000000\",\"status\":\"Filled\",\"transaction_id\":\"1738637\",\"update_time\":0,\"execute_price\":\"26260.87000000\",\"execute_size\":\"0.00906400\",\"quote_vol\":\"238.0285256800000000\",\"commission\":\"0.00000000\",\"commission_asset\":\"USDT\",\"is_maker\":false,\"message\":\"\"}]"
      ]
     },
     "execution_count": 5,
     "metadata": {},
     "output_type": "execute_result"
    },
    {
     "name": "stdout",
     "output_type": "stream",
     "text": [
      "2023-09-27T02:02:29.290Z \u001b[35mDEBUG\u001b[0m [reqwest::connect] starting new connection: https://testnet.binance.vision/\n",
      "2023-09-27T02:02:29.378Z \u001b[35mDEBUG\u001b[0m [rbot::exchange] Response code = 200 / download size None / method(POST) / URL = https://testnet.binance.vision/api/v3/order / pathsymbol=BTCUSDT&side=SELL&type=MARKET&quantity=0.05&recvWindow=6000&timestamp=1695780149289&signature=bd60f50b99b5f38ae98d97099f5116fea5598307097def56e02abd9487c8a89d\n"
     ]
    }
   ],
   "source": [
    "binance.market_order(OrderSide.Sell, 0.05)"
   ]
  },
  {
   "cell_type": "code",
   "execution_count": null,
   "metadata": {},
   "outputs": [],
   "source": [
    "stream = binance.channel"
   ]
  },
  {
   "cell_type": "code",
   "execution_count": null,
   "metadata": {},
   "outputs": [],
   "source": [
    "stream"
   ]
  },
  {
   "cell_type": "code",
   "execution_count": null,
   "metadata": {},
   "outputs": [],
   "source": [
    "session = _LiveSession()"
   ]
  },
  {
   "cell_type": "code",
   "execution_count": null,
   "metadata": {},
   "outputs": [],
   "source": [
    "session.connect(stream)"
   ]
  },
  {
   "cell_type": "code",
   "execution_count": null,
   "metadata": {},
   "outputs": [],
   "source": []
  }
 ],
 "metadata": {
  "kernelspec": {
   "display_name": "Python 3",
   "language": "python",
   "name": "python3"
  },
  "language_info": {
   "codemirror_mode": {
    "name": "ipython",
    "version": 3
   },
   "file_extension": ".py",
   "mimetype": "text/x-python",
   "name": "python",
   "nbconvert_exporter": "python",
   "pygments_lexer": "ipython3",
   "version": "3.11.4"
  },
  "orig_nbformat": 4
 },
 "nbformat": 4,
 "nbformat_minor": 2
}
