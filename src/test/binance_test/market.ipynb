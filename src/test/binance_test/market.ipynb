{
 "cells": [
  {
   "cell_type": "code",
   "execution_count": 1,
   "metadata": {},
   "outputs": [],
   "source": [
    "import json\n",
    "from json2html import json2html\n",
    "from IPython.display import HTML\n",
    "\n",
    "from rbot import *\n",
    "config = BinanceConfig.TESTSPOT(\"BTCUSDT\")\n"
   ]
  },
  {
   "cell_type": "markdown",
   "metadata": {},
   "source": []
  },
  {
   "cell_type": "code",
   "execution_count": 2,
   "metadata": {},
   "outputs": [
    {
     "data": {
      "text/html": [
       "<table border=\"1\"><tr><th>exchange_name</th><td>BN</td></tr><tr><th>trade_category</th><td>TESTSPOT</td></tr><tr><th>trade_symbol</th><td>BTCUSDT</td></tr><tr><th>size_in_foreign</th><td>False</td></tr><tr><th>testnet</th><td>True</td></tr><tr><th>rest_endpoint</th><td>https://testnet.binance.vision</td></tr><tr><th>public_ws_endpoint</th><td>wss://testnet.binance.vision/ws</td></tr><tr><th>private_ws_endpoint</th><td>wss://testnet.binance.vision/ws</td></tr><tr><th>history_web_base</th><td>https://data.binance.vision/data/spot/daily/trades</td></tr><tr><th>new_order_path</th><td>/api/v3/order</td></tr><tr><th>cancel_order_path</th><td>/api/v3/order</td></tr><tr><th>public_subscribe_message</th><td>{&quot;id&quot;:1,&quot;method&quot;:&quot;SUBSCRIBE&quot;,&quot;params&quot;:[&quot;btcusdt@trade&quot;,&quot;btcusdt@depth@100ms&quot;]}</td></tr><tr><th>api_key</th><td>NOhZ*******************</td></tr><tr><th>api_secret</th><td>yPrx*******************</td></tr></table>"
      ],
      "text/plain": [
       "<IPython.core.display.HTML object>"
      ]
     },
     "execution_count": 2,
     "metadata": {},
     "output_type": "execute_result"
    }
   ],
   "source": [
    "HTML(json2html.convert(config.__str__()))"
   ]
  },
  {
   "cell_type": "code",
   "execution_count": 3,
   "metadata": {},
   "outputs": [],
   "source": [
    "import rbot\n",
    "from rbot import BinanceMarket\n",
    "\n",
    "          #BinanceMarket\n",
    "binance = BinanceMarket(config)"
   ]
  },
  {
   "cell_type": "code",
   "execution_count": 4,
   "metadata": {},
   "outputs": [],
   "source": [
    "market_order =binance.new_market_order(OrderSide.Sell, 0.01)\n",
    "\n",
    "\n",
    "\n"
   ]
  },
  {
   "cell_type": "code",
   "execution_count": null,
   "metadata": {},
   "outputs": [],
   "source": [
    "HTML(json2html.convert(json=market_order.__str__()))"
   ]
  },
  {
   "cell_type": "code",
   "execution_count": null,
   "metadata": {},
   "outputs": [],
   "source": [
    "HTML(json2html.convert(binance.order_status.__str__()))"
   ]
  },
  {
   "cell_type": "code",
   "execution_count": null,
   "metadata": {},
   "outputs": [],
   "source": [
    "HTML(json2html.convert(binance.trade_list.__str__()))"
   ]
  },
  {
   "cell_type": "code",
   "execution_count": null,
   "metadata": {},
   "outputs": [],
   "source": [
    "binance.start_market_stream()"
   ]
  },
  {
   "cell_type": "code",
   "execution_count": null,
   "metadata": {},
   "outputs": [],
   "source": [
    "import time\n",
    "from IPython.display import clear_output\n",
    "count = 100\n",
    "while True:\n",
    "    print(binance.asks.head().iloc[::-1])\n",
    "    print(\"   -- ↑ Asks / Bids ↓ --\")\n",
    "    print(binance.bids.head())\n",
    "    time.sleep(0.5)\n",
    "    clear_output(wait=True)\n",
    "\n",
    "    if count < 0:\n",
    "        break\n",
    "    count -= 1"
   ]
  },
  {
   "cell_type": "code",
   "execution_count": null,
   "metadata": {},
   "outputs": [],
   "source": [
    "binance.stop_market_stream()"
   ]
  },
  {
   "cell_type": "code",
   "execution_count": null,
   "metadata": {},
   "outputs": [],
   "source": [
    "j = \"\"\"[{\"symbol\":\"BTCUSDT\",\"orderId\":2782215,\"orderListId\":-1,\"clientOrderId\":\"LnvxKDYYXdtn7m8oweHqyh\",\"price\":\"25000.00000000\",\"origQty\":\"0.01000000\",\"executedQty\":\"0.01000000\",\"cummulativeQuoteQty\":\"250.00000000\",\"status\":\"FILLED\",\"timeInForce\":\"GTC\",\"type\":\"LIMIT\",\"side\":\"BUY\",\"stopPrice\":\"0.00000000\",\"icebergQty\":\"0.00000000\",\"time\":1694396686024,\"updateTime\":1694398622469,\"isWorking\":true,\"workingTime\":1694396686024,\"origQuoteOrderQty\":\"0.00000000\",\"selfTradePreventionMode\":\"NONE\"},\n",
    " {\"symbol\":\"BTCUSDT\",\"orderId\":2782217,\"orderListId\":-1,\"clientOrderId\":\"tpELVj8sifYLV0RKUA8Ojx\",\"price\":\"25000.00000000\",\"origQty\":\"0.01000000\",\"executedQty\":\"0.01000000\",\"cummulativeQuoteQty\":\"250.00000000\",\"status\":\"FILLED\",\"timeInForce\":\"GTC\",\"type\":\"LIMIT\",\"side\":\"BUY\",\"stopPrice\":\"0.00000000\",\"icebergQty\":\"0.00000000\",\"time\":1694396695637,\"updateTime\":1694398622469,\"isWorking\":true,\"workingTime\":1694396695637,\"origQuoteOrderQty\":\"0.00000000\",\"selfTradePreventionMode\":\"NONE\"},\n",
    "]\"\"\""
   ]
  },
  {
   "cell_type": "code",
   "execution_count": null,
   "metadata": {},
   "outputs": [],
   "source": [
    "j"
   ]
  },
  {
   "cell_type": "code",
   "execution_count": null,
   "metadata": {},
   "outputs": [],
   "source": [
    "json2html.convert(json=j)"
   ]
  },
  {
   "cell_type": "code",
   "execution_count": null,
   "metadata": {},
   "outputs": [],
   "source": [
    "init_debug_log()\n",
    "binance.start_market_stream()"
   ]
  },
  {
   "cell_type": "markdown",
   "metadata": {},
   "source": []
  },
  {
   "cell_type": "code",
   "execution_count": null,
   "metadata": {},
   "outputs": [],
   "source": [
    "binance.stop_market_stream()"
   ]
  },
  {
   "cell_type": "code",
   "execution_count": 4,
   "metadata": {},
   "outputs": [
    {
     "name": "stdout",
     "output_type": "stream",
     "text": [
      "2023-09-14T10:40:03.585Z \u001b[35mDEBUG\u001b[0m [reqwest::connect] starting new connection: https://testnet.binance.vision/\n",
      "2023-09-14T10:40:03.678Z \u001b[35mDEBUG\u001b[0m [rbot::exchange] Response code = 200 / download size Some(76) / method(POST) / URL = https://testnet.binance.vision/api/v3/userDataStream / path\n",
      "2023-09-14T10:40:03.679Z \u001b[35mDEBUG\u001b[0m [tungstenite::client] Trying to contact wss://testnet.binance.vision/ws/tI4cBtg8qtQ4rRO8JY8BWIDNHXwKXvYxZvukEyDcA62KXk0vvGzeaZlB72ZP at 143.204.126.122:443...\n",
      "2023-09-14T10:40:04.032Z \u001b[35mDEBUG\u001b[0m [tungstenite::handshake::client] Client handshake done.\n",
      "2023-09-14T10:40:04.032Z \u001b[35mDEBUG\u001b[0m [rbot::exchange] Connected to the server\n",
      "2023-09-14T10:40:04.032Z \u001b[35mDEBUG\u001b[0m [rbot::exchange] Response HTTP code: 101 Switching Protocols\n",
      "2023-09-14T10:40:04.032Z \u001b[35mDEBUG\u001b[0m [rbot::exchange] Response contains the following headers:\n",
      "2023-09-14T10:40:04.032Z \u001b[35mDEBUG\u001b[0m [rbot::exchange] * connection\n",
      "2023-09-14T10:40:04.032Z \u001b[35mDEBUG\u001b[0m [rbot::exchange] * date\n",
      "2023-09-14T10:40:04.032Z \u001b[35mDEBUG\u001b[0m [rbot::exchange] * upgrade\n",
      "2023-09-14T10:40:04.032Z \u001b[35mDEBUG\u001b[0m [rbot::exchange] * sec-websocket-accept\n",
      "2023-09-14T10:40:04.032Z \u001b[35mDEBUG\u001b[0m [rbot::exchange] * x-cache\n",
      "2023-09-14T10:40:04.032Z \u001b[35mDEBUG\u001b[0m [rbot::exchange] * via\n",
      "2023-09-14T10:40:04.032Z \u001b[35mDEBUG\u001b[0m [rbot::exchange] * x-amz-cf-pop\n",
      "2023-09-14T10:40:04.032Z \u001b[35mDEBUG\u001b[0m [rbot::exchange] * x-amz-cf-id\n"
     ]
    }
   ],
   "source": [
    "init_debug_log()\n",
    "binance.start_user_stream()\n",
    "#binance.stop_user_stream()"
   ]
  },
  {
   "cell_type": "code",
   "execution_count": 6,
   "metadata": {},
   "outputs": [
    {
     "name": "stdout",
     "output_type": "stream",
     "text": [
      "2023-09-14T10:40:55.255Z \u001b[35mDEBUG\u001b[0m [rbot::exchange::binance::rest] path/api/v3/order / body: symbol=BTCUSDT&side=BUY&type=MARKET&quantity=0.01&recvWindow=6000&timestamp=1694688055254&signature=cbf9684235e249fcb01ba6d87d352d59337db68edea1c846a2ec447976a01abe\n",
      "2023-09-14T10:40:55.255Z \u001b[35mDEBUG\u001b[0m [reqwest::connect] starting new connection: https://testnet.binance.vision/\n",
      "2023-09-14T10:40:55.351Z \u001b[35mDEBUG\u001b[0m [rbot::exchange] Response code = 200 / download size None / method(POST) / URL = https://testnet.binance.vision/api/v3/order / pathsymbol=BTCUSDT&side=BUY&type=MARKET&quantity=0.01&recvWindow=6000&timestamp=1694688055254&signature=cbf9684235e249fcb01ba6d87d352d59337db68edea1c846a2ec447976a01abe\n"
     ]
    },
    {
     "data": {
      "text/plain": [
       "{\"symbol\":\"BTCUSDT\",\"create_time\":1694688059529000,\"order_id\":\"4715241\",\"order_list_index\":-1,\"client_order_id\":\"IISCnZOzIaE42YmWBDue1v\",\"order_side\":\"Buy\",\"order_type\":\"MARKET\",\"price\":\"0.00000000\",\"size\":\"0.01000000\",\"status\":\"Filled\",\"fills\":null}"
      ]
     },
     "execution_count": 6,
     "metadata": {},
     "output_type": "execute_result"
    },
    {
     "name": "stdout",
     "output_type": "stream",
     "text": [
      "raw msg: {\"e\":\"executionReport\",\"E\":1694688059529,\"s\":\"BTCUSDT\",\"c\":\"IISCnZOzIaE42YmWBDue1v\",\"S\":\"BUY\",\"o\":\"MARKET\",\"f\":\"GTC\",\"q\":\"0.01000000\",\"p\":\"0.00000000\",\"P\":\"0.00000000\",\"F\":\"0.00000000\",\"g\":-1,\"C\":\"\",\"x\":\"NEW\",\"X\":\"NEW\",\"r\":\"NONE\",\"i\":4715241,\"l\":\"0.00000000\",\"z\":\"0.00000000\",\"L\":\"0.00000000\",\"n\":\"0\",\"N\":null,\"T\":1694688059529,\"t\":-1,\"I\":10227481,\"w\":true,\"m\":false,\"M\":false,\"O\":1694688059529,\"Z\":\"0.00000000\",\"Y\":\"0.00000000\",\"Q\":\"0.00000000\",\"W\":1694688059529,\"V\":\"NONE\"}\n"
     ]
    },
    {
     "name": "stdout",
     "output_type": "stream",
     "text": [
      "cooked : executionReport(BinanceExecutionReport { E: 1694688059529, s: \"BTCUSDT\", c: \"IISCnZOzIaE42YmWBDue1v\", S: \"BUY\", o: \"MARKET\", f: \"GTC\", q: 0.01000000, p: 0.00000000, P: 0.00000000, F: 0.00000000, g: -1, C: \"\", x: \"NEW\", X: \"NEW\", r: \"NONE\", i: 4715241, l: 0.00000000, z: 0.00000000, L: 0.00000000, n: 0, N: None, T: 1694688059529, t: -1, I: 10227481, w: true, m: false, M: false, O: 1694688059529, Z: 0.00000000, Y: 0.00000000, Q: 0.00000000, W: 1694688059529, V: \"NONE\" })\n",
      "raw msg: {\"e\":\"executionReport\",\"E\":1694688059529,\"s\":\"BTCUSDT\",\"c\":\"IISCnZOzIaE42YmWBDue1v\",\"S\":\"BUY\",\"o\":\"MARKET\",\"f\":\"GTC\",\"q\":\"0.01000000\",\"p\":\"0.00000000\",\"P\":\"0.00000000\",\"F\":\"0.00000000\",\"g\":-1,\"C\":\"\",\"x\":\"TRADE\",\"X\":\"PARTIALLY_FILLED\",\"r\":\"NONE\",\"i\":4715241,\"l\":\"0.00100000\",\"z\":\"0.00100000\",\"L\":\"26291.90000000\",\"n\":\"0.00000000\",\"N\":\"BTC\",\"T\":1694688059529,\"t\":807168,\"I\":10227482,\"w\":false,\"m\":false,\"M\":true,\"O\":1694688059529,\"Z\":\"26.29190000\",\"Y\":\"26.29190000\",\"Q\":\"0.00000000\",\"W\":1694688059529,\"V\":\"NONE\"}\n",
      "cooked : executionReport(BinanceExecutionReport { E: 1694688059529, s: \"BTCUSDT\", c: \"IISCnZOzIaE42YmWBDue1v\", S: \"BUY\", o: \"MARKET\", f: \"GTC\", q: 0.01000000, p: 0.00000000, P: 0.00000000, F: 0.00000000, g: -1, C: \"\", x: \"TRADE\", X: \"PARTIALLY_FILLED\", r: \"NONE\", i: 4715241, l: 0.00100000, z: 0.00100000, L: 26291.90000000, n: 0.00000000, N: Some(\"BTC\"), T: 1694688059529, t: 807168, I: 10227482, w: false, m: false, M: true, O: 1694688059529, Z: 26.29190000, Y: 26.29190000, Q: 0.00000000, W: 1694688059529, V: \"NONE\" })\n",
      "raw msg: {\"e\":\"executionReport\",\"E\":1694688059529,\"s\":\"BTCUSDT\",\"c\":\"IISCnZOzIaE42YmWBDue1v\",\"S\":\"BUY\",\"o\":\"MARKET\",\"f\":\"GTC\",\"q\":\"0.01000000\",\"p\":\"0.00000000\",\"P\":\"0.00000000\",\"F\":\"0.00000000\",\"g\":-1,\"C\":\"\",\"x\":\"TRADE\",\"X\":\"FILLED\",\"r\":\"NONE\",\"i\":4715241,\"l\":\"0.00900000\",\"z\":\"0.01000000\",\"L\":\"26291.90000000\",\"n\":\"0.00000000\",\"N\":\"BTC\",\"T\":1694688059529,\"t\":807169,\"I\":10227484,\"w\":false,\"m\":false,\"M\":true,\"O\":1694688059529,\"Z\":\"262.91900000\",\"Y\":\"236.62710000\",\"Q\":\"0.00000000\",\"W\":1694688059529,\"V\":\"NONE\"}\n",
      "cooked : executionReport(BinanceExecutionReport { E: 1694688059529, s: \"BTCUSDT\", c: \"IISCnZOzIaE42YmWBDue1v\", S: \"BUY\", o: \"MARKET\", f: \"GTC\", q: 0.01000000, p: 0.00000000, P: 0.00000000, F: 0.00000000, g: -1, C: \"\", x: \"TRADE\", X: \"FILLED\", r: \"NONE\", i: 4715241, l: 0.00900000, z: 0.01000000, L: 26291.90000000, n: 0.00000000, N: Some(\"BTC\"), T: 1694688059529, t: 807169, I: 10227484, w: false, m: false, M: true, O: 1694688059529, Z: 262.91900000, Y: 236.62710000, Q: 0.00000000, W: 1694688059529, V: \"NONE\" })\n",
      "raw msg: {\"e\":\"outboundAccountPosition\",\"E\":1694688059529,\"u\":1694688059529,\"B\":[{\"a\":\"BTC\",\"f\":\"1.27000000\",\"l\":\"0.00000000\"},{\"a\":\"USDT\",\"f\":\"2137.05926994\",\"l\":\"1775.00000000\"}]}\n",
      "cooked : outboundAccountPosition(BinanceAccountUpdate { E: 1694688059529, u: 1694688059529, B: [BinanceBalance { a: \"BTC\", f: 1.27000000, l: 0.00000000 }, BinanceBalance { a: \"USDT\", f: 2137.05926994, l: 1775.00000000 }] })\n",
      "2023-09-14T10:41:24.292Z \u001b[35mDEBUG\u001b[0m [rbot::exchange] <PING<: [49, 54, 57, 52, 54, 56, 56, 48, 56, 56, 52, 48, 52]\n",
      "2023-09-14T10:41:24.292Z \u001b[35mDEBUG\u001b[0m [rbot::exchange] *>PONG*>: [49, 54, 57, 52, 54, 56, 56, 48, 56, 56, 52, 48, 52]\n",
      "2023-09-14T10:44:23.834Z \u001b[35mDEBUG\u001b[0m [rbot::exchange] <PING<: [49, 54, 57, 52, 54, 56, 56, 50, 54, 56, 48, 49, 48]\n",
      "2023-09-14T10:44:23.834Z \u001b[35mDEBUG\u001b[0m [rbot::exchange] *>PONG*>: [49, 54, 57, 52, 54, 56, 56, 50, 54, 56, 48, 49, 48]\n",
      "2023-09-14T10:47:23.931Z \u001b[35mDEBUG\u001b[0m [rbot::exchange] <PING<: [49, 54, 57, 52, 54, 56, 56, 52, 52, 56, 48, 50, 48]\n",
      "2023-09-14T10:47:23.931Z \u001b[35mDEBUG\u001b[0m [rbot::exchange] *>PONG*>: [49, 54, 57, 52, 54, 56, 56, 52, 52, 56, 48, 50, 48]\n",
      "2023-09-14T10:50:23.955Z \u001b[35mDEBUG\u001b[0m [rbot::exchange] <PING<: [49, 54, 57, 52, 54, 56, 56, 54, 50, 56, 49, 49, 53]\n",
      "2023-09-14T10:50:23.955Z \u001b[35mDEBUG\u001b[0m [rbot::exchange] *>PONG*>: [49, 54, 57, 52, 54, 56, 56, 54, 50, 56, 49, 49, 53]\n",
      "2023-09-14T10:53:24.593Z \u001b[35mDEBUG\u001b[0m [rbot::exchange] <PING<: [49, 54, 57, 52, 54, 56, 56, 56, 48, 56, 55, 50, 48]\n",
      "2023-09-14T10:53:24.593Z \u001b[35mDEBUG\u001b[0m [rbot::exchange] *>PONG*>: [49, 54, 57, 52, 54, 56, 56, 56, 48, 56, 55, 50, 48]\n",
      "2023-09-14T10:56:24.552Z \u001b[35mDEBUG\u001b[0m [rbot::exchange] <PING<: [49, 54, 57, 52, 54, 56, 56, 57, 56, 56, 55, 50, 52]\n",
      "2023-09-14T10:56:24.552Z \u001b[35mDEBUG\u001b[0m [rbot::exchange] *>PONG*>: [49, 54, 57, 52, 54, 56, 56, 57, 56, 56, 55, 50, 52]\n",
      "2023-09-14T10:59:24.358Z \u001b[35mDEBUG\u001b[0m [rbot::exchange] <PING<: [49, 54, 57, 52, 54, 56, 57, 49, 54, 56, 53, 50, 55]\n",
      "2023-09-14T10:59:24.358Z \u001b[35mDEBUG\u001b[0m [rbot::exchange] *>PONG*>: [49, 54, 57, 52, 54, 56, 57, 49, 54, 56, 53, 50, 55]\n",
      "2023-09-14T11:02:24.047Z \u001b[35mDEBUG\u001b[0m [rbot::exchange] <PING<: [49, 54, 57, 52, 54, 56, 57, 51, 52, 56, 49, 51, 48]\n",
      "2023-09-14T11:02:24.047Z \u001b[35mDEBUG\u001b[0m [rbot::exchange] *>PONG*>: [49, 54, 57, 52, 54, 56, 57, 51, 52, 56, 49, 51, 48]\n",
      "2023-09-14T11:05:23.963Z \u001b[35mDEBUG\u001b[0m [rbot::exchange] <PING<: [49, 54, 57, 52, 54, 56, 57, 53, 50, 56, 49, 51, 49]\n",
      "2023-09-14T11:05:23.963Z \u001b[35mDEBUG\u001b[0m [rbot::exchange] *>PONG*>: [49, 54, 57, 52, 54, 56, 57, 53, 50, 56, 49, 51, 49]\n",
      "2023-09-14T11:08:23.891Z \u001b[35mDEBUG\u001b[0m [rbot::exchange] <PING<: [49, 54, 57, 52, 54, 56, 57, 55, 48, 56, 48, 50, 56]\n",
      "2023-09-14T11:08:23.891Z \u001b[35mDEBUG\u001b[0m [rbot::exchange] *>PONG*>: [49, 54, 57, 52, 54, 56, 57, 55, 48, 56, 48, 50, 56]\n",
      "2023-09-14T11:11:23.965Z \u001b[35mDEBUG\u001b[0m [rbot::exchange] <PING<: [49, 54, 57, 52, 54, 56, 57, 56, 56, 56, 49, 50, 50]\n",
      "2023-09-14T11:11:23.965Z \u001b[35mDEBUG\u001b[0m [rbot::exchange] *>PONG*>: [49, 54, 57, 52, 54, 56, 57, 56, 56, 56, 49, 50, 50]\n",
      "2023-09-14T11:14:24.057Z \u001b[35mDEBUG\u001b[0m [rbot::exchange] <PING<: [49, 54, 57, 52, 54, 57, 48, 48, 54, 56, 50, 49, 55]\n",
      "2023-09-14T11:14:24.057Z \u001b[35mDEBUG\u001b[0m [rbot::exchange] *>PONG*>: [49, 54, 57, 52, 54, 57, 48, 48, 54, 56, 50, 49, 55]\n",
      "2023-09-14T11:17:24.053Z \u001b[35mDEBUG\u001b[0m [rbot::exchange] <PING<: [49, 54, 57, 52, 54, 57, 48, 50, 52, 56, 50, 49, 49]\n",
      "2023-09-14T11:17:24.053Z \u001b[35mDEBUG\u001b[0m [rbot::exchange] *>PONG*>: [49, 54, 57, 52, 54, 57, 48, 50, 52, 56, 50, 49, 49]\n",
      "2023-09-14T11:20:23.970Z \u001b[35mDEBUG\u001b[0m [rbot::exchange] <PING<: [49, 54, 57, 52, 54, 57, 48, 52, 50, 56, 49, 49, 49]\n",
      "2023-09-14T11:20:23.970Z \u001b[35mDEBUG\u001b[0m [rbot::exchange] *>PONG*>: [49, 54, 57, 52, 54, 57, 48, 52, 50, 56, 49, 49, 49]\n",
      "2023-09-14T11:23:24.455Z \u001b[35mDEBUG\u001b[0m [rbot::exchange] <PING<: [49, 54, 57, 52, 54, 57, 48, 54, 48, 56, 54, 48, 55]\n",
      "2023-09-14T11:23:24.455Z \u001b[35mDEBUG\u001b[0m [rbot::exchange] *>PONG*>: [49, 54, 57, 52, 54, 57, 48, 54, 48, 56, 54, 48, 55]\n",
      "2023-09-14T11:26:24.654Z \u001b[35mDEBUG\u001b[0m [rbot::exchange] <PING<: [49, 54, 57, 52, 54, 57, 48, 55, 56, 56, 56, 48, 56]\n",
      "2023-09-14T11:26:24.654Z \u001b[35mDEBUG\u001b[0m [rbot::exchange] *>PONG*>: [49, 54, 57, 52, 54, 57, 48, 55, 56, 56, 56, 48, 56]\n",
      "2023-09-14T11:29:24.570Z \u001b[35mDEBUG\u001b[0m [rbot::exchange] <PING<: [49, 54, 57, 52, 54, 57, 48, 57, 54, 56, 55, 48, 57]\n",
      "2023-09-14T11:29:24.570Z \u001b[35mDEBUG\u001b[0m [rbot::exchange] *>PONG*>: [49, 54, 57, 52, 54, 57, 48, 57, 54, 56, 55, 48, 57]\n",
      "2023-09-14T11:32:24.361Z \u001b[35mDEBUG\u001b[0m [rbot::exchange] <PING<: [49, 54, 57, 52, 54, 57, 49, 49, 52, 56, 53, 49, 48]\n",
      "2023-09-14T11:32:24.361Z \u001b[35mDEBUG\u001b[0m [rbot::exchange] *>PONG*>: [49, 54, 57, 52, 54, 57, 49, 49, 52, 56, 53, 49, 48]\n",
      "2023-09-14T11:35:24.459Z \u001b[35mDEBUG\u001b[0m [rbot::exchange] <PING<: [49, 54, 57, 52, 54, 57, 49, 51, 50, 56, 54, 48, 54]\n",
      "2023-09-14T11:35:24.459Z \u001b[35mDEBUG\u001b[0m [rbot::exchange] *>PONG*>: [49, 54, 57, 52, 54, 57, 49, 51, 50, 56, 54, 48, 54]\n",
      "2023-09-14T11:38:24.567Z \u001b[35mDEBUG\u001b[0m [rbot::exchange] <PING<: [49, 54, 57, 52, 54, 57, 49, 53, 48, 56, 55, 49, 49]\n",
      "2023-09-14T11:38:24.567Z \u001b[35mDEBUG\u001b[0m [rbot::exchange] *>PONG*>: [49, 54, 57, 52, 54, 57, 49, 53, 48, 56, 55, 49, 49]\n",
      "2023-09-14T11:41:24.683Z \u001b[35mDEBUG\u001b[0m [rbot::exchange] <PING<: [49, 54, 57, 52, 54, 57, 49, 54, 56, 56, 56, 50, 53]\n",
      "2023-09-14T11:41:24.684Z \u001b[35mDEBUG\u001b[0m [rbot::exchange] *>PONG*>: [49, 54, 57, 52, 54, 57, 49, 54, 56, 56, 56, 50, 53]\n",
      "2023-09-14T11:44:24.492Z \u001b[35mDEBUG\u001b[0m [rbot::exchange] <PING<: [49, 54, 57, 52, 54, 57, 49, 56, 54, 56, 53, 51, 51]\n",
      "2023-09-14T11:44:24.492Z \u001b[35mDEBUG\u001b[0m [rbot::exchange] *>PONG*>: [49, 54, 57, 52, 54, 57, 49, 56, 54, 56, 53, 51, 51]\n",
      "2023-09-14T11:47:24.620Z \u001b[35mDEBUG\u001b[0m [rbot::exchange] <PING<: [49, 54, 57, 52, 54, 57, 50, 48, 52, 56, 55, 51, 51]\n",
      "2023-09-14T11:47:24.620Z \u001b[35mDEBUG\u001b[0m [rbot::exchange] *>PONG*>: [49, 54, 57, 52, 54, 57, 50, 48, 52, 56, 55, 51, 51]\n",
      "2023-09-14T11:50:24.647Z \u001b[35mDEBUG\u001b[0m [rbot::exchange] <PING<: [49, 54, 57, 52, 54, 57, 50, 50, 50, 56, 55, 51, 50]\n",
      "2023-09-14T11:50:24.647Z \u001b[35mDEBUG\u001b[0m [rbot::exchange] *>PONG*>: [49, 54, 57, 52, 54, 57, 50, 50, 50, 56, 55, 51, 50]\n",
      "2023-09-14T11:53:24.715Z \u001b[35mDEBUG\u001b[0m [rbot::exchange] <PING<: [49, 54, 57, 52, 54, 57, 50, 52, 48, 56, 56, 51, 57]\n",
      "2023-09-14T11:53:24.715Z \u001b[35mDEBUG\u001b[0m [rbot::exchange] *>PONG*>: [49, 54, 57, 52, 54, 57, 50, 52, 48, 56, 56, 51, 57]\n",
      "2023-09-14T11:56:24.903Z \u001b[35mDEBUG\u001b[0m [rbot::exchange] <PING<: [49, 54, 57, 52, 54, 57, 50, 53, 56, 56, 57, 51, 53]\n",
      "2023-09-14T11:56:24.903Z \u001b[35mDEBUG\u001b[0m [rbot::exchange] *>PONG*>: [49, 54, 57, 52, 54, 57, 50, 53, 56, 56, 57, 51, 53]\n",
      "2023-09-14T11:59:25.133Z \u001b[35mDEBUG\u001b[0m [rbot::exchange] <PING<: [49, 54, 57, 52, 54, 57, 50, 55, 54, 57, 50, 51, 53]\n",
      "2023-09-14T11:59:25.133Z \u001b[35mDEBUG\u001b[0m [rbot::exchange] *>PONG*>: [49, 54, 57, 52, 54, 57, 50, 55, 54, 57, 50, 51, 53]\n",
      "2023-09-14T12:02:25.261Z \u001b[35mDEBUG\u001b[0m [rbot::exchange] <PING<: [49, 54, 57, 52, 54, 57, 50, 57, 52, 57, 51, 51, 53]\n",
      "2023-09-14T12:02:25.261Z \u001b[35mDEBUG\u001b[0m [rbot::exchange] *>PONG*>: [49, 54, 57, 52, 54, 57, 50, 57, 52, 57, 51, 51, 53]\n",
      "2023-09-14T12:05:25.390Z \u001b[35mDEBUG\u001b[0m [rbot::exchange] <PING<: [49, 54, 57, 52, 54, 57, 51, 49, 50, 57, 52, 51, 54]\n",
      "2023-09-14T12:05:25.390Z \u001b[35mDEBUG\u001b[0m [rbot::exchange] *>PONG*>: [49, 54, 57, 52, 54, 57, 51, 49, 50, 57, 52, 51, 54]\n",
      "2023-09-14T12:08:25.416Z \u001b[35mDEBUG\u001b[0m [rbot::exchange] <PING<: [49, 54, 57, 52, 54, 57, 51, 51, 48, 57, 52, 51, 52]\n",
      "2023-09-14T12:08:25.416Z \u001b[35mDEBUG\u001b[0m [rbot::exchange] *>PONG*>: [49, 54, 57, 52, 54, 57, 51, 51, 48, 57, 52, 51, 52]\n",
      "2023-09-14T12:11:25.441Z \u001b[35mDEBUG\u001b[0m [rbot::exchange] <PING<: [49, 54, 57, 52, 54, 57, 51, 52, 56, 57, 53, 51, 54]\n",
      "2023-09-14T12:11:25.441Z \u001b[35mDEBUG\u001b[0m [rbot::exchange] *>PONG*>: [49, 54, 57, 52, 54, 57, 51, 52, 56, 57, 53, 51, 54]\n",
      "2023-09-14T12:14:25.538Z \u001b[35mDEBUG\u001b[0m [rbot::exchange] <PING<: [49, 54, 57, 52, 54, 57, 51, 54, 54, 57, 54, 51, 52]\n",
      "2023-09-14T12:14:25.538Z \u001b[35mDEBUG\u001b[0m [rbot::exchange] *>PONG*>: [49, 54, 57, 52, 54, 57, 51, 54, 54, 57, 54, 51, 52]\n",
      "2023-09-14T12:17:25.545Z \u001b[35mDEBUG\u001b[0m [rbot::exchange] <PING<: [49, 54, 57, 52, 54, 57, 51, 56, 52, 57, 54, 51, 54]\n",
      "2023-09-14T12:17:25.545Z \u001b[35mDEBUG\u001b[0m [rbot::exchange] *>PONG*>: [49, 54, 57, 52, 54, 57, 51, 56, 52, 57, 54, 51, 54]\n",
      "2023-09-14T12:20:25.637Z \u001b[35mDEBUG\u001b[0m [rbot::exchange] <PING<: [49, 54, 57, 52, 54, 57, 52, 48, 50, 57, 55, 51, 49]\n",
      "2023-09-14T12:20:25.638Z \u001b[35mDEBUG\u001b[0m [rbot::exchange] *>PONG*>: [49, 54, 57, 52, 54, 57, 52, 48, 50, 57, 55, 51, 49]\n",
      "2023-09-14T12:23:27.757Z \u001b[35mDEBUG\u001b[0m [rbot::exchange] <PING<: [49, 54, 57, 52, 54, 57, 52, 50, 48, 57, 56, 50, 54]\n",
      "2023-09-14T12:23:27.758Z \u001b[35mDEBUG\u001b[0m [rbot::exchange] *>PONG*>: [49, 54, 57, 52, 54, 57, 52, 50, 48, 57, 56, 50, 54]\n",
      "2023-09-14T12:26:27.851Z \u001b[35mDEBUG\u001b[0m [rbot::exchange] <PING<: [49, 54, 57, 52, 54, 57, 52, 51, 56, 57, 57, 51, 48]\n",
      "2023-09-14T12:26:27.851Z \u001b[35mDEBUG\u001b[0m [rbot::exchange] *>PONG*>: [49, 54, 57, 52, 54, 57, 52, 51, 56, 57, 57, 51, 48]\n",
      "2023-09-14T12:29:27.805Z \u001b[35mDEBUG\u001b[0m [rbot::exchange] <PING<: [49, 54, 57, 52, 54, 57, 52, 53, 54, 57, 56, 51, 50]\n",
      "2023-09-14T12:29:27.805Z \u001b[35mDEBUG\u001b[0m [rbot::exchange] *>PONG*>: [49, 54, 57, 52, 54, 57, 52, 53, 54, 57, 56, 51, 50]\n",
      "2023-09-14T12:32:27.829Z \u001b[35mDEBUG\u001b[0m [rbot::exchange] <PING<: [49, 54, 57, 52, 54, 57, 52, 55, 52, 57, 56, 51, 49]\n",
      "2023-09-14T12:32:27.829Z \u001b[35mDEBUG\u001b[0m [rbot::exchange] *>PONG*>: [49, 54, 57, 52, 54, 57, 52, 55, 52, 57, 56, 51, 49]\n",
      "2023-09-14T12:35:27.847Z \u001b[35mDEBUG\u001b[0m [rbot::exchange] <PING<: [49, 54, 57, 52, 54, 57, 52, 57, 50, 57, 57, 50, 54]\n",
      "2023-09-14T12:35:27.847Z \u001b[35mDEBUG\u001b[0m [rbot::exchange] *>PONG*>: [49, 54, 57, 52, 54, 57, 52, 57, 50, 57, 57, 50, 54]\n",
      "2023-09-14T12:38:28.047Z \u001b[35mDEBUG\u001b[0m [rbot::exchange] <PING<: [49, 54, 57, 52, 54, 57, 53, 49, 49, 48, 49, 50, 51]\n",
      "2023-09-14T12:38:28.047Z \u001b[35mDEBUG\u001b[0m [rbot::exchange] *>PONG*>: [49, 54, 57, 52, 54, 57, 53, 49, 49, 48, 49, 50, 51]\n",
      "2023-09-14T12:41:28.154Z \u001b[35mDEBUG\u001b[0m [rbot::exchange] <PING<: [49, 54, 57, 52, 54, 57, 53, 50, 57, 48, 50, 49, 50]\n",
      "2023-09-14T12:41:28.154Z \u001b[35mDEBUG\u001b[0m [rbot::exchange] *>PONG*>: [49, 54, 57, 52, 54, 57, 53, 50, 57, 48, 50, 49, 50]\n",
      "2023-09-14T12:44:28.128Z \u001b[35mDEBUG\u001b[0m [rbot::exchange] <PING<: [49, 54, 57, 52, 54, 57, 53, 52, 55, 48, 50, 48, 55]\n",
      "2023-09-14T12:44:28.128Z \u001b[35mDEBUG\u001b[0m [rbot::exchange] *>PONG*>: [49, 54, 57, 52, 54, 57, 53, 52, 55, 48, 50, 48, 55]\n",
      "2023-09-14T12:47:28.355Z \u001b[35mDEBUG\u001b[0m [rbot::exchange] <PING<: [49, 54, 57, 52, 54, 57, 53, 54, 53, 48, 52, 48, 53]\n",
      "2023-09-14T12:47:28.355Z \u001b[35mDEBUG\u001b[0m [rbot::exchange] *>PONG*>: [49, 54, 57, 52, 54, 57, 53, 54, 53, 48, 52, 48, 53]\n",
      "2023-09-14T12:50:28.317Z \u001b[35mDEBUG\u001b[0m [rbot::exchange] <PING<: [49, 54, 57, 52, 54, 57, 53, 56, 51, 48, 51, 57, 56]\n",
      "2023-09-14T12:50:28.317Z \u001b[35mDEBUG\u001b[0m [rbot::exchange] *>PONG*>: [49, 54, 57, 52, 54, 57, 53, 56, 51, 48, 51, 57, 56]\n",
      "2023-09-14T12:53:28.519Z \u001b[35mDEBUG\u001b[0m [rbot::exchange] <PING<: [49, 54, 57, 52, 54, 57, 54, 48, 49, 48, 53, 56, 57]\n",
      "2023-09-14T12:53:28.519Z \u001b[35mDEBUG\u001b[0m [rbot::exchange] *>PONG*>: [49, 54, 57, 52, 54, 57, 54, 48, 49, 48, 53, 56, 57]\n",
      "2023-09-14T12:56:28.493Z \u001b[35mDEBUG\u001b[0m [rbot::exchange] <PING<: [49, 54, 57, 52, 54, 57, 54, 49, 57, 48, 53, 55, 53]\n",
      "2023-09-14T12:56:28.493Z \u001b[35mDEBUG\u001b[0m [rbot::exchange] *>PONG*>: [49, 54, 57, 52, 54, 57, 54, 49, 57, 48, 53, 55, 53]\n",
      "2023-09-14T12:59:28.619Z \u001b[35mDEBUG\u001b[0m [rbot::exchange] <PING<: [49, 54, 57, 52, 54, 57, 54, 51, 55, 48, 54, 55, 51]\n",
      "2023-09-14T12:59:28.619Z \u001b[35mDEBUG\u001b[0m [rbot::exchange] *>PONG*>: [49, 54, 57, 52, 54, 57, 54, 51, 55, 48, 54, 55, 51]\n",
      "2023-09-14T13:02:28.790Z \u001b[35mDEBUG\u001b[0m [rbot::exchange] <PING<: [49, 54, 57, 52, 54, 57, 54, 53, 53, 48, 56, 54, 56]\n",
      "2023-09-14T13:02:28.790Z \u001b[35mDEBUG\u001b[0m [rbot::exchange] *>PONG*>: [49, 54, 57, 52, 54, 57, 54, 53, 53, 48, 56, 54, 56]\n",
      "2023-09-14T13:05:28.777Z \u001b[35mDEBUG\u001b[0m [rbot::exchange] <PING<: [49, 54, 57, 52, 54, 57, 54, 55, 51, 48, 56, 54, 50]\n",
      "2023-09-14T13:05:28.777Z \u001b[35mDEBUG\u001b[0m [rbot::exchange] *>PONG*>: [49, 54, 57, 52, 54, 57, 54, 55, 51, 48, 56, 54, 50]\n",
      "2023-09-14T13:08:28.873Z \u001b[35mDEBUG\u001b[0m [rbot::exchange] <PING<: [49, 54, 57, 52, 54, 57, 54, 57, 49, 48, 57, 53, 54]\n",
      "2023-09-14T13:08:28.873Z \u001b[35mDEBUG\u001b[0m [rbot::exchange] *>PONG*>: [49, 54, 57, 52, 54, 57, 54, 57, 49, 48, 57, 53, 54]\n",
      "2023-09-14T13:11:29.062Z \u001b[35mDEBUG\u001b[0m [rbot::exchange] <PING<: [49, 54, 57, 52, 54, 57, 55, 48, 57, 49, 49, 52, 56]\n",
      "2023-09-14T13:11:29.062Z \u001b[35mDEBUG\u001b[0m [rbot::exchange] *>PONG*>: [49, 54, 57, 52, 54, 57, 55, 48, 57, 49, 49, 52, 56]\n",
      "2023-09-14T13:14:29.060Z \u001b[35mDEBUG\u001b[0m [rbot::exchange] <PING<: [49, 54, 57, 52, 54, 57, 55, 50, 55, 49, 49, 52, 51]\n",
      "2023-09-14T13:14:29.060Z \u001b[35mDEBUG\u001b[0m [rbot::exchange] *>PONG*>: [49, 54, 57, 52, 54, 57, 55, 50, 55, 49, 49, 52, 51]\n",
      "2023-09-14T13:17:29.254Z \u001b[35mDEBUG\u001b[0m [rbot::exchange] <PING<: [49, 54, 57, 52, 54, 57, 55, 52, 53, 49, 51, 51, 56]\n",
      "2023-09-14T13:17:29.254Z \u001b[35mDEBUG\u001b[0m [rbot::exchange] *>PONG*>: [49, 54, 57, 52, 54, 57, 55, 52, 53, 49, 51, 51, 56]\n",
      "2023-09-14T13:20:29.246Z \u001b[35mDEBUG\u001b[0m [rbot::exchange] <PING<: [49, 54, 57, 52, 54, 57, 55, 54, 51, 49, 51, 51, 50]\n",
      "2023-09-14T13:20:29.246Z \u001b[35mDEBUG\u001b[0m [rbot::exchange] *>PONG*>: [49, 54, 57, 52, 54, 57, 55, 54, 51, 49, 51, 51, 50]\n",
      "2023-09-14T13:23:29.248Z \u001b[35mDEBUG\u001b[0m [rbot::exchange] <PING<: [49, 54, 57, 52, 54, 57, 55, 56, 49, 49, 51, 51, 51]\n",
      "2023-09-14T13:23:29.248Z \u001b[35mDEBUG\u001b[0m [rbot::exchange] *>PONG*>: [49, 54, 57, 52, 54, 57, 55, 56, 49, 49, 51, 51, 51]\n",
      "2023-09-14T13:26:29.353Z \u001b[35mDEBUG\u001b[0m [rbot::exchange] <PING<: [49, 54, 57, 52, 54, 57, 55, 57, 57, 49, 52, 51, 57]\n",
      "2023-09-14T13:26:29.353Z \u001b[35mDEBUG\u001b[0m [rbot::exchange] *>PONG*>: [49, 54, 57, 52, 54, 57, 55, 57, 57, 49, 52, 51, 57]\n",
      "2023-09-14T13:29:29.349Z \u001b[35mDEBUG\u001b[0m [rbot::exchange] <PING<: [49, 54, 57, 52, 54, 57, 56, 49, 55, 49, 52, 51, 53]\n",
      "2023-09-14T13:29:29.349Z \u001b[35mDEBUG\u001b[0m [rbot::exchange] *>PONG*>: [49, 54, 57, 52, 54, 57, 56, 49, 55, 49, 52, 51, 53]\n",
      "2023-09-14T13:32:29.349Z \u001b[35mDEBUG\u001b[0m [rbot::exchange] <PING<: [49, 54, 57, 52, 54, 57, 56, 51, 53, 49, 52, 50, 55]\n",
      "2023-09-14T13:32:29.349Z \u001b[35mDEBUG\u001b[0m [rbot::exchange] *>PONG*>: [49, 54, 57, 52, 54, 57, 56, 51, 53, 49, 52, 50, 55]\n",
      "2023-09-14T13:35:29.436Z \u001b[35mDEBUG\u001b[0m [rbot::exchange] <PING<: [49, 54, 57, 52, 54, 57, 56, 53, 51, 49, 53, 50, 50]\n",
      "2023-09-14T13:35:29.436Z \u001b[35mDEBUG\u001b[0m [rbot::exchange] *>PONG*>: [49, 54, 57, 52, 54, 57, 56, 53, 51, 49, 53, 50, 50]\n",
      "2023-09-14T13:38:29.538Z \u001b[35mDEBUG\u001b[0m [rbot::exchange] <PING<: [49, 54, 57, 52, 54, 57, 56, 55, 49, 49, 54, 49, 57]\n",
      "2023-09-14T13:38:29.538Z \u001b[35mDEBUG\u001b[0m [rbot::exchange] *>PONG*>: [49, 54, 57, 52, 54, 57, 56, 55, 49, 49, 54, 49, 57]\n",
      "2023-09-14T13:41:29.633Z \u001b[35mDEBUG\u001b[0m [rbot::exchange] <PING<: [49, 54, 57, 52, 54, 57, 56, 56, 57, 49, 55, 49, 55]\n",
      "2023-09-14T13:41:29.633Z \u001b[35mDEBUG\u001b[0m [rbot::exchange] *>PONG*>: [49, 54, 57, 52, 54, 57, 56, 56, 57, 49, 55, 49, 55]\n",
      "2023-09-14T13:44:29.822Z \u001b[35mDEBUG\u001b[0m [rbot::exchange] <PING<: [49, 54, 57, 52, 54, 57, 57, 48, 55, 49, 57, 48, 55]\n",
      "2023-09-14T13:44:29.822Z \u001b[35mDEBUG\u001b[0m [rbot::exchange] *>PONG*>: [49, 54, 57, 52, 54, 57, 57, 48, 55, 49, 57, 48, 55]\n",
      "2023-09-14T13:47:30.021Z \u001b[35mDEBUG\u001b[0m [rbot::exchange] <PING<: [49, 54, 57, 52, 54, 57, 57, 50, 53, 50, 48, 48, 49]\n",
      "2023-09-14T13:47:30.021Z \u001b[35mDEBUG\u001b[0m [rbot::exchange] *>PONG*>: [49, 54, 57, 52, 54, 57, 57, 50, 53, 50, 48, 48, 49]\n",
      "2023-09-14T13:50:29.941Z \u001b[35mDEBUG\u001b[0m [rbot::exchange] <PING<: [49, 54, 57, 52, 54, 57, 57, 52, 51, 49, 57, 57, 55]\n",
      "2023-09-14T13:50:29.941Z \u001b[35mDEBUG\u001b[0m [rbot::exchange] *>PONG*>: [49, 54, 57, 52, 54, 57, 57, 52, 51, 49, 57, 57, 55]\n",
      "2023-09-14T13:53:32.135Z \u001b[35mDEBUG\u001b[0m [rbot::exchange] <PING<: [49, 54, 57, 52, 54, 57, 57, 54, 49, 50, 48, 57, 55]\n",
      "2023-09-14T13:53:32.135Z \u001b[35mDEBUG\u001b[0m [rbot::exchange] *>PONG*>: [49, 54, 57, 52, 54, 57, 57, 54, 49, 50, 48, 57, 55]\n",
      "2023-09-14T13:56:32.156Z \u001b[35mDEBUG\u001b[0m [rbot::exchange] <PING<: [49, 54, 57, 52, 54, 57, 57, 55, 57, 50, 48, 57, 54]\n",
      "2023-09-14T13:56:32.156Z \u001b[35mDEBUG\u001b[0m [rbot::exchange] *>PONG*>: [49, 54, 57, 52, 54, 57, 57, 55, 57, 50, 48, 57, 54]\n",
      "2023-09-14T13:59:32.284Z \u001b[35mDEBUG\u001b[0m [rbot::exchange] <PING<: [49, 54, 57, 52, 54, 57, 57, 57, 55, 50, 50, 57, 49]\n",
      "2023-09-14T13:59:32.285Z \u001b[35mDEBUG\u001b[0m [rbot::exchange] *>PONG*>: [49, 54, 57, 52, 54, 57, 57, 57, 55, 50, 50, 57, 49]\n",
      "2023-09-14T14:02:32.077Z \u001b[35mDEBUG\u001b[0m [rbot::exchange] <PING<: [49, 54, 57, 52, 55, 48, 48, 49, 53, 50, 48, 56, 53]\n",
      "2023-09-14T14:02:32.077Z \u001b[35mDEBUG\u001b[0m [rbot::exchange] *>PONG*>: [49, 54, 57, 52, 55, 48, 48, 49, 53, 50, 48, 56, 53]\n",
      "2023-09-14T14:05:32.174Z \u001b[35mDEBUG\u001b[0m [rbot::exchange] <PING<: [49, 54, 57, 52, 55, 48, 48, 51, 51, 50, 49, 55, 54]\n",
      "2023-09-14T14:05:32.174Z \u001b[35mDEBUG\u001b[0m [rbot::exchange] *>PONG*>: [49, 54, 57, 52, 55, 48, 48, 51, 51, 50, 49, 55, 54]\n",
      "2023-09-14T14:08:32.270Z \u001b[35mDEBUG\u001b[0m [rbot::exchange] <PING<: [49, 54, 57, 52, 55, 48, 48, 53, 49, 50, 50, 55, 51]\n",
      "2023-09-14T14:08:32.270Z \u001b[35mDEBUG\u001b[0m [rbot::exchange] *>PONG*>: [49, 54, 57, 52, 55, 48, 48, 53, 49, 50, 50, 55, 51]\n",
      "2023-09-14T14:11:32.352Z \u001b[35mDEBUG\u001b[0m [rbot::exchange] <PING<: [49, 54, 57, 52, 55, 48, 48, 54, 57, 50, 50, 55, 48]\n",
      "2023-09-14T14:11:32.353Z \u001b[35mDEBUG\u001b[0m [rbot::exchange] *>PONG*>: [49, 54, 57, 52, 55, 48, 48, 54, 57, 50, 50, 55, 48]\n",
      "2023-09-14T14:14:32.301Z \u001b[35mDEBUG\u001b[0m [rbot::exchange] <PING<: [49, 54, 57, 52, 55, 48, 48, 56, 55, 50, 50, 55, 51]\n",
      "2023-09-14T14:14:32.301Z \u001b[35mDEBUG\u001b[0m [rbot::exchange] *>PONG*>: [49, 54, 57, 52, 55, 48, 48, 56, 55, 50, 50, 55, 51]\n",
      "2023-09-14T14:17:32.468Z \u001b[35mDEBUG\u001b[0m [rbot::exchange] <PING<: [49, 54, 57, 52, 55, 48, 49, 48, 53, 50, 52, 54, 56]\n",
      "2023-09-14T14:17:32.468Z \u001b[35mDEBUG\u001b[0m [rbot::exchange] *>PONG*>: [49, 54, 57, 52, 55, 48, 49, 48, 53, 50, 52, 54, 56]\n",
      "2023-09-14T14:20:32.562Z \u001b[35mDEBUG\u001b[0m [rbot::exchange] <PING<: [49, 54, 57, 52, 55, 48, 49, 50, 51, 50, 53, 54, 52]\n",
      "2023-09-14T14:20:32.562Z \u001b[35mDEBUG\u001b[0m [rbot::exchange] *>PONG*>: [49, 54, 57, 52, 55, 48, 49, 50, 51, 50, 53, 54, 52]\n",
      "2023-09-14T14:23:32.678Z \u001b[35mDEBUG\u001b[0m [rbot::exchange] <PING<: [49, 54, 57, 52, 55, 48, 49, 52, 49, 50, 54, 53, 57]\n",
      "2023-09-14T14:23:32.678Z \u001b[35mDEBUG\u001b[0m [rbot::exchange] *>PONG*>: [49, 54, 57, 52, 55, 48, 49, 52, 49, 50, 54, 53, 57]\n",
      "2023-09-14T14:26:32.740Z \u001b[35mDEBUG\u001b[0m [rbot::exchange] <PING<: [49, 54, 57, 52, 55, 48, 49, 53, 57, 50, 55, 53, 51]\n",
      "2023-09-14T14:26:32.740Z \u001b[35mDEBUG\u001b[0m [rbot::exchange] *>PONG*>: [49, 54, 57, 52, 55, 48, 49, 53, 57, 50, 55, 53, 51]\n",
      "2023-09-14T14:29:32.908Z \u001b[35mDEBUG\u001b[0m [rbot::exchange] <PING<: [49, 54, 57, 52, 55, 48, 49, 55, 55, 50, 56, 52, 56]\n",
      "2023-09-14T14:29:32.908Z \u001b[35mDEBUG\u001b[0m [rbot::exchange] *>PONG*>: [49, 54, 57, 52, 55, 48, 49, 55, 55, 50, 56, 52, 56]\n",
      "2023-09-14T14:32:32.921Z \u001b[35mDEBUG\u001b[0m [rbot::exchange] <PING<: [49, 54, 57, 52, 55, 48, 49, 57, 53, 50, 57, 52, 50]\n",
      "2023-09-14T14:32:32.921Z \u001b[35mDEBUG\u001b[0m [rbot::exchange] *>PONG*>: [49, 54, 57, 52, 55, 48, 49, 57, 53, 50, 57, 52, 50]\n",
      "2023-09-14T14:35:33.007Z \u001b[35mDEBUG\u001b[0m [rbot::exchange] <PING<: [49, 54, 57, 52, 55, 48, 50, 49, 51, 51, 48, 51, 50]\n",
      "2023-09-14T14:35:33.007Z \u001b[35mDEBUG\u001b[0m [rbot::exchange] *>PONG*>: [49, 54, 57, 52, 55, 48, 50, 49, 51, 51, 48, 51, 50]\n",
      "2023-09-14T14:38:33.069Z \u001b[35mDEBUG\u001b[0m [rbot::exchange] <PING<: [49, 54, 57, 52, 55, 48, 50, 51, 49, 51, 48, 50, 57]\n",
      "2023-09-14T14:38:33.086Z \u001b[35mDEBUG\u001b[0m [rbot::exchange] *>PONG*>: [49, 54, 57, 52, 55, 48, 50, 51, 49, 51, 48, 50, 57]\n",
      "2023-09-14T14:41:33.096Z \u001b[35mDEBUG\u001b[0m [rbot::exchange] <PING<: [49, 54, 57, 52, 55, 48, 50, 52, 57, 51, 49, 50, 55]\n",
      "2023-09-14T14:41:33.096Z \u001b[35mDEBUG\u001b[0m [rbot::exchange] *>PONG*>: [49, 54, 57, 52, 55, 48, 50, 52, 57, 51, 49, 50, 55]\n"
     ]
    }
   ],
   "source": [
    "binance.new_market_order(OrderSide.Buy, 0.01)"
   ]
  },
  {
   "cell_type": "code",
   "execution_count": null,
   "metadata": {},
   "outputs": [],
   "source": []
  }
 ],
 "metadata": {
  "kernelspec": {
   "display_name": "Python 3",
   "language": "python",
   "name": "python3"
  },
  "language_info": {
   "codemirror_mode": {
    "name": "ipython",
    "version": 3
   },
   "file_extension": ".py",
   "mimetype": "text/x-python",
   "name": "python",
   "nbconvert_exporter": "python",
   "pygments_lexer": "ipython3",
   "version": "3.11.4"
  },
  "orig_nbformat": 4
 },
 "nbformat": 4,
 "nbformat_minor": 2
}
