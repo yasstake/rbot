{
 "cells": [
  {
   "cell_type": "code",
   "execution_count": 1,
   "metadata": {},
   "outputs": [
    {
     "data": {
      "text/html": [
       "<table border=\"1\"><tr><th>exchange_name</th><td>BN</td></tr><tr><th>trade_category</th><td>TESTSPOT</td></tr><tr><th>trade_symbol</th><td>BTCUSDT</td></tr><tr><th>size_in_foreign</th><td>False</td></tr><tr><th>home_currency</th><td>USDT</td></tr><tr><th>foreign_currency</th><td>BTC</td></tr><tr><th>testnet</th><td>True</td></tr><tr><th>rest_endpoint</th><td>https://testnet.binance.vision</td></tr><tr><th>public_ws_endpoint</th><td>wss://testnet.binance.vision/ws</td></tr><tr><th>private_ws_endpoint</th><td>wss://testnet.binance.vision/ws</td></tr><tr><th>history_web_base</th><td>https://data.binance.vision/data/spot/daily/trades</td></tr><tr><th>new_order_path</th><td>/api/v3/order</td></tr><tr><th>cancel_order_path</th><td>/api/v3/order</td></tr><tr><th>public_subscribe_message</th><td>{&quot;id&quot;:1,&quot;method&quot;:&quot;SUBSCRIBE&quot;,&quot;params&quot;:[&quot;btcusdt@trade&quot;,&quot;btcusdt@depth@100ms&quot;]}</td></tr><tr><th>api_key</th><td>NOhZ*******************</td></tr><tr><th>api_secret</th><td>yPrx*******************</td></tr></table>"
      ],
      "text/plain": [
       "<IPython.core.display.HTML object>"
      ]
     },
     "execution_count": 1,
     "metadata": {},
     "output_type": "execute_result"
    }
   ],
   "source": [
    "import json\n",
    "from json2html import json2html\n",
    "from IPython.display import HTML\n",
    "\n",
    "from rbot import *\n",
    "config = BinanceConfig.TESTSPOT(\"BTC\", \"USDT\")\n",
    "\n",
    "HTML(json2html.convert(config.__str__()))"
   ]
  },
  {
   "cell_type": "code",
   "execution_count": 2,
   "metadata": {},
   "outputs": [],
   "source": [
    "import rbot\n",
    "from rbot import BinanceMarket\n",
    "\n",
    "          #BinanceMarket\n",
    "binance = BinanceMarket(config)\n",
    "init_debug_log()"
   ]
  },
  {
   "cell_type": "code",
   "execution_count": 3,
   "metadata": {},
   "outputs": [
    {
     "name": "stdout",
     "output_type": "stream",
     "text": [
      "2023-09-26T06:22:57.207Z \u001b[35mDEBUG\u001b[0m [rbot::exchange::binance::rest] path/api/v3/order / body: symbol=BTCUSDT&side=BUY&type=LIMIT&timeInForce=GTC&quantity=0.001&price=24000.1&recvWindow=6000&timestamp=1695709377206&signature=2f7d15578e37db5d3c0ef859d63b5aba68ea6bb87a270ed7295f7f48f6681a67\n",
      "2023-09-26T06:22:57.208Z \u001b[35mDEBUG\u001b[0m [reqwest::connect] starting new connection: https://testnet.binance.vision/\n",
      "2023-09-26T06:22:57.495Z \u001b[35mDEBUG\u001b[0m [rbot::exchange] Response code = 200 / download size None / method(POST) / URL = https://testnet.binance.vision/api/v3/order / pathsymbol=BTCUSDT&side=BUY&type=LIMIT&timeInForce=GTC&quantity=0.001&price=24000.1&recvWindow=6000&timestamp=1695709377206&signature=2f7d15578e37db5d3c0ef859d63b5aba68ea6bb87a270ed7295f7f48f6681a67\n"
     ]
    },
    {
     "data": {
      "text/html": [
       "<table border=\"1\"><tr><th>symbol</th><td>BTCUSDT</td></tr><tr><th>create_time</th><td>1695709377538000</td></tr><tr><th>order_id</th><td>9570212</td></tr><tr><th>order_list_index</th><td>-1</td></tr><tr><th>client_order_id</th><td>jXTXzgWHYXSAQ5daZQa8Eb</td></tr><tr><th>order_side</th><td>Buy</td></tr><tr><th>order_type</th><td>Limit</td></tr><tr><th>price</th><td>24000.10000000</td></tr><tr><th>size</th><td>0.00100000</td></tr><tr><th>remain_size</th><td>0.00100000</td></tr><tr><th>status</th><td>New</td></tr><tr><th>account_change</th><td><table border=\"1\"><tr><th>commission_home</th><td>0</td></tr><tr><th>commission_foreign</th><td>0</td></tr><tr><th>home_change</th><td>0</td></tr><tr><th>foreign_change</th><td>0</td></tr><tr><th>free_home_change</th><td>0</td></tr><tr><th>free_foreign_change</th><td>0</td></tr><tr><th>lock_home_change</th><td>0</td></tr><tr><th>lock_foreign_change</th><td>0</td></tr></table></td></tr><tr><th>message</th><td></td></tr><tr><th>fills</th><td><table border=\"1\"><tr><th>transaction_id</th><td></td></tr><tr><th>update_time</th><td>0</td></tr><tr><th>price</th><td>0.0</td></tr><tr><th>filled_size</th><td>0.0</td></tr><tr><th>quote_vol</th><td>0.0</td></tr><tr><th>commission</th><td>0.0</td></tr><tr><th>commission_asset</th><td></td></tr><tr><th>maker</th><td>False</td></tr></table></td></tr><tr><th>profit</th><td>None</td></tr></table>"
      ],
      "text/plain": [
       "<IPython.core.display.HTML object>"
      ]
     },
     "execution_count": 3,
     "metadata": {},
     "output_type": "execute_result"
    }
   ],
   "source": [
    "o = binance.limit_order(OrderSide.Buy, 24000.1, 0.001)\n",
    "HTML(json2html.convert(json=o.__str__()))"
   ]
  },
  {
   "cell_type": "code",
   "execution_count": 12,
   "metadata": {},
   "outputs": [
    {
     "name": "stdout",
     "output_type": "stream",
     "text": [
      "2023-09-26T06:25:56.427Z \u001b[35mDEBUG\u001b[0m [reqwest::connect] starting new connection: https://testnet.binance.vision/\n",
      "2023-09-26T06:25:56.863Z \u001b[35mDEBUG\u001b[0m [rbot::exchange] Response code = 200 / download size Some(2) / method(GET) / URL = https://testnet.binance.vision/api/v3/openOrders?symbol=BTCUSDT&recvWindow=6000&timestamp=1695709556426&signature=ea3ee699a15b829343f4a7b8a7cdb870248ed84b895f96f4b2cdd871bfbe795c / path\n",
      "2023-09-26T06:25:56.863Z \u001b[35mDEBUG\u001b[0m [rbot::exchange::binance::rest] AUTH GET: path/api/v3/openOrders / body: symbol=BTCUSDT / Ok(\"[]\")\n"
     ]
    },
    {
     "data": {
      "text/html": [],
      "text/plain": [
       "<IPython.core.display.HTML object>"
      ]
     },
     "execution_count": 12,
     "metadata": {},
     "output_type": "execute_result"
    }
   ],
   "source": [
    "HTML(json2html.convert(binance.open_orders.__str__()))\n"
   ]
  },
  {
   "cell_type": "code",
   "execution_count": 11,
   "metadata": {},
   "outputs": [
    {
     "name": "stdout",
     "output_type": "stream",
     "text": [
      "2023-09-26T06:25:45.034Z \u001b[35mDEBUG\u001b[0m [rbot::exchange::binance::rest] path/api/v3/openOrders / body: symbol=BTCUSDT&recvWindow=6000&timestamp=1695709545034&signature=9ec341af3e1063bc33b21e5e197e559ba704dbcac895335e57da213570189d21\n",
      "2023-09-26T06:25:45.035Z \u001b[35mDEBUG\u001b[0m [reqwest::connect] starting new connection: https://testnet.binance.vision/\n",
      "2023-09-26T06:25:45.146Z \u001b[35mDEBUG\u001b[0m [rbot::exchange] Response code = 200 / download size None / method(DELETE) / URL = https://testnet.binance.vision/api/v3/openOrders / pathsymbol=BTCUSDT&recvWindow=6000&timestamp=1695709545034&signature=9ec341af3e1063bc33b21e5e197e559ba704dbcac895335e57da213570189d21\n"
     ]
    },
    {
     "data": {
      "text/plain": [
       "[{\"symbol\":\"BTCUSDT\",\"create_time\":1695709545190000,\"order_id\":\"9570212\",\"order_list_index\":-1,\"client_order_id\":\"jXTXzgWHYXSAQ5daZQa8Eb\",\"order_side\":\"Buy\",\"order_type\":\"Limit\",\"price\":\"24000.10000000\",\"size\":\"0.00100000\",\"remain_size\":\"0.00100000\",\"status\":\"Canceled\",\"account_change\":{\"commission_home\":\"0\",\"commission_foreign\":\"0\",\"home_change\":\"0\",\"foreign_change\":\"0\",\"free_home_change\":\"0\",\"free_foreign_change\":\"0\",\"lock_home_change\":\"0\",\"lock_foreign_change\":\"0\"},\"message\":\"\",\"fills\":{\"transaction_id\":\"\",\"update_time\":0,\"price\":\"0.0\",\"filled_size\":\"0.0\",\"quote_vol\":\"0.0\",\"commission\":\"0.0\",\"commission_asset\":\"\",\"maker\":false},\"profit\":null}]"
      ]
     },
     "execution_count": 11,
     "metadata": {},
     "output_type": "execute_result"
    }
   ],
   "source": [
    "binance.cancel_all_order()"
   ]
  },
  {
   "cell_type": "code",
   "execution_count": null,
   "metadata": {},
   "outputs": [],
   "source": [
    "HTML(json2html.convert(binance.trade_list.__str__()))"
   ]
  },
  {
   "cell_type": "code",
   "execution_count": null,
   "metadata": {},
   "outputs": [],
   "source": [
    "binance.start_market_stream()"
   ]
  },
  {
   "cell_type": "code",
   "execution_count": null,
   "metadata": {},
   "outputs": [],
   "source": [
    "binance.bids"
   ]
  },
  {
   "cell_type": "code",
   "execution_count": null,
   "metadata": {},
   "outputs": [],
   "source": [
    "import time\n",
    "from IPython.display import clear_output\n",
    "count = 100\n",
    "while True:\n",
    "    print(binance.asks.head().iloc[::-1])\n",
    "    print(\"   -- ↑ Asks / Bids ↓ --\")\n",
    "    print(binance.bids.head())\n",
    "    time.sleep(0.5)\n",
    "    clear_output(wait=True)\n",
    "\n",
    "    if count < 0:\n",
    "        break\n",
    "    count -= 1"
   ]
  },
  {
   "cell_type": "code",
   "execution_count": null,
   "metadata": {},
   "outputs": [],
   "source": [
    "binance.stop_market_stream()"
   ]
  },
  {
   "cell_type": "code",
   "execution_count": null,
   "metadata": {},
   "outputs": [],
   "source": [
    "j = \"\"\"[{\"symbol\":\"BTCUSDT\",\"orderId\":2782215,\"orderListId\":-1,\"clientOrderId\":\"LnvxKDYYXdtn7m8oweHqyh\",\"price\":\"25000.00000000\",\"origQty\":\"0.01000000\",\"executedQty\":\"0.01000000\",\"cummulativeQuoteQty\":\"250.00000000\",\"status\":\"FILLED\",\"timeInForce\":\"GTC\",\"type\":\"LIMIT\",\"side\":\"BUY\",\"stopPrice\":\"0.00000000\",\"icebergQty\":\"0.00000000\",\"time\":1694396686024,\"updateTime\":1694398622469,\"isWorking\":true,\"workingTime\":1694396686024,\"origQuoteOrderQty\":\"0.00000000\",\"selfTradePreventionMode\":\"NONE\"},\n",
    " {\"symbol\":\"BTCUSDT\",\"orderId\":2782217,\"orderListId\":-1,\"clientOrderId\":\"tpELVj8sifYLV0RKUA8Ojx\",\"price\":\"25000.00000000\",\"origQty\":\"0.01000000\",\"executedQty\":\"0.01000000\",\"cummulativeQuoteQty\":\"250.00000000\",\"status\":\"FILLED\",\"timeInForce\":\"GTC\",\"type\":\"LIMIT\",\"side\":\"BUY\",\"stopPrice\":\"0.00000000\",\"icebergQty\":\"0.00000000\",\"time\":1694396695637,\"updateTime\":1694398622469,\"isWorking\":true,\"workingTime\":1694396695637,\"origQuoteOrderQty\":\"0.00000000\",\"selfTradePreventionMode\":\"NONE\"},\n",
    "]\"\"\""
   ]
  },
  {
   "cell_type": "code",
   "execution_count": null,
   "metadata": {},
   "outputs": [],
   "source": []
  },
  {
   "cell_type": "code",
   "execution_count": null,
   "metadata": {},
   "outputs": [],
   "source": [
    "json2html.convert(json=j)"
   ]
  },
  {
   "cell_type": "code",
   "execution_count": null,
   "metadata": {},
   "outputs": [],
   "source": [
    "init_debug_log()\n",
    "binance.start_market_stream()"
   ]
  },
  {
   "cell_type": "markdown",
   "metadata": {},
   "source": []
  },
  {
   "cell_type": "code",
   "execution_count": null,
   "metadata": {},
   "outputs": [],
   "source": [
    "binance.stop_market_stream()"
   ]
  },
  {
   "cell_type": "code",
   "execution_count": null,
   "metadata": {},
   "outputs": [],
   "source": [
    "init_debug_log()\n",
    "binance.start_user_stream()\n",
    "#binance.stop_user_stream()"
   ]
  },
  {
   "cell_type": "code",
   "execution_count": null,
   "metadata": {},
   "outputs": [],
   "source": [
    "binance.new_market_order(OrderSide.Buy, 0.01)"
   ]
  },
  {
   "cell_type": "code",
   "execution_count": null,
   "metadata": {},
   "outputs": [],
   "source": [
    "stream = binance.channel"
   ]
  },
  {
   "cell_type": "code",
   "execution_count": null,
   "metadata": {},
   "outputs": [],
   "source": [
    "stream"
   ]
  },
  {
   "cell_type": "code",
   "execution_count": null,
   "metadata": {},
   "outputs": [],
   "source": [
    "session = _LiveSession()"
   ]
  },
  {
   "cell_type": "code",
   "execution_count": null,
   "metadata": {},
   "outputs": [],
   "source": [
    "session.connect(stream)"
   ]
  },
  {
   "cell_type": "code",
   "execution_count": null,
   "metadata": {},
   "outputs": [],
   "source": []
  }
 ],
 "metadata": {
  "kernelspec": {
   "display_name": "Python 3",
   "language": "python",
   "name": "python3"
  },
  "language_info": {
   "codemirror_mode": {
    "name": "ipython",
    "version": 3
   },
   "file_extension": ".py",
   "mimetype": "text/x-python",
   "name": "python",
   "nbconvert_exporter": "python",
   "pygments_lexer": "ipython3",
   "version": "3.11.4"
  },
  "orig_nbformat": 4
 },
 "nbformat": 4,
 "nbformat_minor": 2
}
