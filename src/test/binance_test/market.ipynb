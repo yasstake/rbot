{
 "cells": [
  {
   "cell_type": "code",
   "execution_count": 1,
   "metadata": {},
   "outputs": [
    {
     "data": {
      "text/html": [
       "<table border=\"1\"><tr><th>exchange_name</th><td>BN</td></tr><tr><th>trade_category</th><td>TESTSPOT</td></tr><tr><th>trade_symbol</th><td>BTCUSDT</td></tr><tr><th>size_in_foreign</th><td>False</td></tr><tr><th>home_currency</th><td>USDT</td></tr><tr><th>foreign_currency</th><td>BTC</td></tr><tr><th>testnet</th><td>True</td></tr><tr><th>rest_endpoint</th><td>https://testnet.binance.vision</td></tr><tr><th>public_ws_endpoint</th><td>wss://testnet.binance.vision/ws</td></tr><tr><th>private_ws_endpoint</th><td>wss://testnet.binance.vision/ws</td></tr><tr><th>history_web_base</th><td>https://data.binance.vision/data/spot/daily/trades</td></tr><tr><th>new_order_path</th><td>/api/v3/order</td></tr><tr><th>cancel_order_path</th><td>/api/v3/order</td></tr><tr><th>public_subscribe_message</th><td>{&quot;id&quot;:1,&quot;method&quot;:&quot;SUBSCRIBE&quot;,&quot;params&quot;:[&quot;btcusdt@trade&quot;,&quot;btcusdt@depth@100ms&quot;]}</td></tr><tr><th>api_key</th><td>NOhZ*******************</td></tr><tr><th>api_secret</th><td>yPrx*******************</td></tr></table>"
      ],
      "text/plain": [
       "<IPython.core.display.HTML object>"
      ]
     },
     "execution_count": 1,
     "metadata": {},
     "output_type": "execute_result"
    }
   ],
   "source": [
    "import json\n",
    "from json2html import json2html\n",
    "from IPython.display import HTML\n",
    "\n",
    "from rbot import *\n",
    "config = BinanceConfig.TESTSPOT(\"BTC\", \"USDT\")\n",
    "\n",
    "HTML(json2html.convert(config.__str__()))\n"
   ]
  },
  {
   "cell_type": "code",
   "execution_count": 2,
   "metadata": {},
   "outputs": [],
   "source": [
    "import rbot\n",
    "from rbot import BinanceMarket\n",
    "\n",
    "          #BinanceMarket\n",
    "binance = BinanceMarket(config)"
   ]
  },
  {
   "cell_type": "code",
   "execution_count": 3,
   "metadata": {},
   "outputs": [
    {
     "name": "stdout",
     "output_type": "stream",
     "text": [
      "2023-09-25T16:15:00.407Z \u001b[35mDEBUG\u001b[0m [rbot::exchange::binance::rest] path/api/v3/order / body: symbol=BTCUSDT&side=BUY&type=LIMIT&timeInForce=GTC&quantity=0.001&price=24000.1&recvWindow=6000&timestamp=1695658500407&signature=82679220e3b6029a447371700d05719e0a51889cd40518cba4c06a07602e53ef\n"
     ]
    },
    {
     "data": {
      "text/html": [
       "<table border=\"1\"><tr><th>symbol</th><td>BTCUSDT</td></tr><tr><th>create_time</th><td>1695658500579000</td></tr><tr><th>order_id</th><td>9327506</td></tr><tr><th>order_list_index</th><td>-1</td></tr><tr><th>client_order_id</th><td>GfuG66mSX6H60p8yCNADTX</td></tr><tr><th>order_side</th><td>Buy</td></tr><tr><th>order_type</th><td>Limit</td></tr><tr><th>price</th><td>24000.10000000</td></tr><tr><th>size</th><td>0.00100000</td></tr><tr><th>remain_size</th><td>0.00100000</td></tr><tr><th>status</th><td>New</td></tr><tr><th>account_change</th><td><table border=\"1\"><tr><th>commission_home</th><td>0</td></tr><tr><th>commission_foreign</th><td>0</td></tr><tr><th>home_change</th><td>0</td></tr><tr><th>foreign_change</th><td>0</td></tr><tr><th>free_home_change</th><td>0</td></tr><tr><th>free_foreign_change</th><td>0</td></tr><tr><th>lock_home_change</th><td>0</td></tr><tr><th>lock_foreign_change</th><td>0</td></tr></table></td></tr><tr><th>message</th><td></td></tr><tr><th>fills</th><td><table border=\"1\"><tr><th>transaction_id</th><td></td></tr><tr><th>update_time</th><td>0</td></tr><tr><th>price</th><td>0.0</td></tr><tr><th>filled_size</th><td>0.0</td></tr><tr><th>quote_vol</th><td>0.0</td></tr><tr><th>commission</th><td>0.0</td></tr><tr><th>commission_asset</th><td></td></tr><tr><th>maker</th><td>False</td></tr></table></td></tr><tr><th>profit</th><td>None</td></tr></table>"
      ],
      "text/plain": [
       "<IPython.core.display.HTML object>"
      ]
     },
     "execution_count": 3,
     "metadata": {},
     "output_type": "execute_result"
    },
    {
     "name": "stdout",
     "output_type": "stream",
     "text": [
      "2023-09-25T16:15:00.407Z \u001b[35mDEBUG\u001b[0m [reqwest::connect] starting new connection: https://testnet.binance.vision/\n",
      "2023-09-25T16:15:00.515Z \u001b[35mDEBUG\u001b[0m [rbot::exchange] Response code = 200 / download size None / method(POST) / URL = https://testnet.binance.vision/api/v3/order / pathsymbol=BTCUSDT&side=BUY&type=LIMIT&timeInForce=GTC&quantity=0.001&price=24000.1&recvWindow=6000&timestamp=1695658500407&signature=82679220e3b6029a447371700d05719e0a51889cd40518cba4c06a07602e53ef\n"
     ]
    }
   ],
   "source": [
    "init_debug_log()\n",
    "o = binance.limit_order(OrderSide.Buy, 24000.1, 0.001)\n",
    "HTML(json2html.convert(json=o.__str__()))"
   ]
  },
  {
   "cell_type": "code",
   "execution_count": 9,
   "metadata": {},
   "outputs": [
    {
     "name": "stdout",
     "output_type": "stream",
     "text": [
      "2023-09-25T16:21:34.560Z \u001b[35mDEBUG\u001b[0m [rbot::exchange::binance::rest] path/api/v3/order / body: symbol=BTCUSDT&side=BUY&type=MARKET&quantity=0.101&recvWindow=6000&timestamp=1695658894560&signature=da12eb2a86f276afb172f3cda4c04ec7c4ebb527d6a58edc90c56fbcefb49759\n",
      "2023-09-25T16:21:34.560Z \u001b[35mDEBUG\u001b[0m [reqwest::connect] starting new connection: https://testnet.binance.vision/\n",
      "2023-09-25T16:21:34.632Z \u001b[35mDEBUG\u001b[0m [rbot::exchange] Response code = 200 / download size None / method(POST) / URL = https://testnet.binance.vision/api/v3/order / pathsymbol=BTCUSDT&side=BUY&type=MARKET&quantity=0.101&recvWindow=6000&timestamp=1695658894560&signature=da12eb2a86f276afb172f3cda4c04ec7c4ebb527d6a58edc90c56fbcefb49759\n"
     ]
    },
    {
     "data": {
      "text/plain": [
       "{\"symbol\":\"BTCUSDT\",\"create_time\":1695658894656000,\"order_id\":\"9329527\",\"order_list_index\":-1,\"client_order_id\":\"Sjump7Ea7VNqxwImZfm8Vg\",\"order_side\":\"Buy\",\"order_type\":\"Market\",\"price\":\"0.00000000\",\"size\":\"0.10100000\",\"remain_size\":\"0.10100000\",\"status\":\"Filled\",\"account_change\":{\"commission_home\":\"0\",\"commission_foreign\":\"0\",\"home_change\":\"0\",\"foreign_change\":\"0\",\"free_home_change\":\"0\",\"free_foreign_change\":\"0\",\"lock_home_change\":\"0\",\"lock_foreign_change\":\"0\"},\"message\":\"\",\"fills\":{\"transaction_id\":\"\",\"update_time\":0,\"price\":\"0.0\",\"filled_size\":\"0.0\",\"quote_vol\":\"0.0\",\"commission\":\"0.0\",\"commission_asset\":\"\",\"maker\":false},\"profit\":null}"
      ]
     },
     "execution_count": 9,
     "metadata": {},
     "output_type": "execute_result"
    }
   ],
   "source": [
    "binance.market_order(OrderSide.Buy, 0.101)"
   ]
  },
  {
   "cell_type": "code",
   "execution_count": 6,
   "metadata": {},
   "outputs": [
    {
     "name": "stdout",
     "output_type": "stream",
     "text": [
      "2023-09-25T15:40:57.600Z \u001b[35mDEBUG\u001b[0m [reqwest::connect] starting new connection: https://testnet.binance.vision/\n"
     ]
    },
    {
     "data": {
      "text/html": [
       "<table border=\"1\"><thead><tr><th>symbol</th><th>orderId</th><th>orderListId</th><th>clientOrderId</th><th>price</th><th>origQty</th><th>executedQty</th><th>cummulativeQuoteQty</th><th>status</th><th>timeInForce</th><th>type</th><th>side</th><th>stopPrice</th><th>icebergQty</th><th>time</th><th>updateTime</th><th>isWorking</th><th>workingTime</th><th>origQuoteOrderQty</th><th>selfTradePreventionMode</th></tr></thead><tbody><tr><td>BTCUSDT</td><td>9216147</td><td>-1</td><td>uGbCunqtcvvv4uMGhjyq4r</td><td>24000.00000000</td><td>0.00100000</td><td>0.00000000</td><td>0.00000000</td><td>NEW</td><td>GTC</td><td>LIMIT</td><td>BUY</td><td>0.00000000</td><td>0.00000000</td><td>1695637687525</td><td>1695637687525</td><td>True</td><td>1695637687525</td><td>0.00000000</td><td>NONE</td></tr><tr><td>BTCUSDT</td><td>9258664</td><td>-1</td><td>L8qn0gpQm7dXOTxSpYeAtB</td><td>24000.00000000</td><td>0.00100000</td><td>0.00000000</td><td>0.00000000</td><td>NEW</td><td>GTC</td><td>LIMIT</td><td>BUY</td><td>0.00000000</td><td>0.00000000</td><td>1695645527715</td><td>1695645527715</td><td>True</td><td>1695645527715</td><td>0.00000000</td><td>NONE</td></tr><tr><td>BTCUSDT</td><td>9258934</td><td>-1</td><td>PeWuWeOcJoPRjbDUEcUi5p</td><td>24000.00000000</td><td>0.00100000</td><td>0.00000000</td><td>0.00000000</td><td>NEW</td><td>GTC</td><td>LIMIT</td><td>BUY</td><td>0.00000000</td><td>0.00000000</td><td>1695645576735</td><td>1695645576735</td><td>True</td><td>1695645576735</td><td>0.00000000</td><td>NONE</td></tr><tr><td>BTCUSDT</td><td>9259036</td><td>-1</td><td>AucgjkLiltWaIuTxvOz8lY</td><td>24000.10000000</td><td>0.00100000</td><td>0.00000000</td><td>0.00000000</td><td>NEW</td><td>GTC</td><td>LIMIT</td><td>BUY</td><td>0.00000000</td><td>0.00000000</td><td>1695645598864</td><td>1695645598864</td><td>True</td><td>1695645598864</td><td>0.00000000</td><td>NONE</td></tr><tr><td>BTCUSDT</td><td>9259438</td><td>-1</td><td>NzcmCR959XcRl3cVcoAJ7h</td><td>24000.10000000</td><td>0.00100000</td><td>0.00000000</td><td>0.00000000</td><td>NEW</td><td>GTC</td><td>LIMIT</td><td>BUY</td><td>0.00000000</td><td>0.00000000</td><td>1695645661928</td><td>1695645661928</td><td>True</td><td>1695645661928</td><td>0.00000000</td><td>NONE</td></tr><tr><td>BTCUSDT</td><td>9260043</td><td>-1</td><td>ETLbStkYqtGLxGLl09EhyQ</td><td>24000.00000000</td><td>0.00100000</td><td>0.00000000</td><td>0.00000000</td><td>NEW</td><td>GTC</td><td>LIMIT</td><td>BUY</td><td>0.00000000</td><td>0.00000000</td><td>1695645792722</td><td>1695645792722</td><td>True</td><td>1695645792722</td><td>0.00000000</td><td>NONE</td></tr><tr><td>BTCUSDT</td><td>9277007</td><td>-1</td><td>new_limit_order</td><td>24000.10000000</td><td>0.00100000</td><td>0.00000000</td><td>0.00000000</td><td>NEW</td><td>GTC</td><td>LIMIT</td><td>BUY</td><td>0.00000000</td><td>0.00000000</td><td>1695648922271</td><td>1695648922271</td><td>True</td><td>1695648922271</td><td>0.00000000</td><td>NONE</td></tr><tr><td>BTCUSDT</td><td>9277348</td><td>-1</td><td>new_limit_order01</td><td>24000.10000000</td><td>0.00100000</td><td>0.00000000</td><td>0.00000000</td><td>NEW</td><td>GTC</td><td>LIMIT</td><td>BUY</td><td>0.00000000</td><td>0.00000000</td><td>1695648975134</td><td>1695648975134</td><td>True</td><td>1695648975134</td><td>0.00000000</td><td>NONE</td></tr><tr><td>BTCUSDT</td><td>9309748</td><td>-1</td><td>202309251522-0001</td><td>25000.00000000</td><td>0.00100000</td><td>0.00000000</td><td>0.00000000</td><td>NEW</td><td>GTC</td><td>LIMIT</td><td>BUY</td><td>0.00000000</td><td>0.00000000</td><td>1695655378521</td><td>1695655378521</td><td>True</td><td>1695655378521</td><td>0.00000000</td><td>NONE</td></tr><tr><td>BTCUSDT</td><td>9310187</td><td>-1</td><td>2023092515T24-0001</td><td>25000.00000000</td><td>0.00100000</td><td>0.00000000</td><td>0.00000000</td><td>NEW</td><td>GTC</td><td>LIMIT</td><td>BUY</td><td>0.00000000</td><td>0.00000000</td><td>1695655462013</td><td>1695655462013</td><td>True</td><td>1695655462013</td><td>0.00000000</td><td>NONE</td></tr><tr><td>BTCUSDT</td><td>9310744</td><td>-1</td><td>20230925T1526-0001</td><td>25000.00000000</td><td>0.00100000</td><td>0.00000000</td><td>0.00000000</td><td>NEW</td><td>GTC</td><td>LIMIT</td><td>BUY</td><td>0.00000000</td><td>0.00000000</td><td>1695655591320</td><td>1695655591320</td><td>True</td><td>1695655591320</td><td>0.00000000</td><td>NONE</td></tr><tr><td>BTCUSDT</td><td>9310802</td><td>-1</td><td>20230925T1526-0002</td><td>25000.00000000</td><td>0.00100000</td><td>0.00000000</td><td>0.00000000</td><td>NEW</td><td>GTC</td><td>LIMIT</td><td>BUY</td><td>0.00000000</td><td>0.00000000</td><td>1695655603672</td><td>1695655603672</td><td>True</td><td>1695655603672</td><td>0.00000000</td><td>NONE</td></tr><tr><td>BTCUSDT</td><td>9314997</td><td>-1</td><td>20230925T1539-0001</td><td>25000.00000000</td><td>0.00100000</td><td>0.00000000</td><td>0.00000000</td><td>NEW</td><td>GTC</td><td>LIMIT</td><td>BUY</td><td>0.00000000</td><td>0.00000000</td><td>1695656350535</td><td>1695656350535</td><td>True</td><td>1695656350535</td><td>0.00000000</td><td>NONE</td></tr><tr><td>BTCUSDT</td><td>9315645</td><td>-1</td><td>f8YyT8JfRO7stT7fm6RJab</td><td>24000.10000000</td><td>0.00100000</td><td>0.00000000</td><td>0.00000000</td><td>NEW</td><td>GTC</td><td>LIMIT</td><td>BUY</td><td>0.00000000</td><td>0.00000000</td><td>1695656437148</td><td>1695656437148</td><td>True</td><td>1695656437148</td><td>0.00000000</td><td>NONE</td></tr></tbody></table>"
      ],
      "text/plain": [
       "<IPython.core.display.HTML object>"
      ]
     },
     "execution_count": 6,
     "metadata": {},
     "output_type": "execute_result"
    },
    {
     "name": "stdout",
     "output_type": "stream",
     "text": [
      "2023-09-25T15:40:57.676Z \u001b[35mDEBUG\u001b[0m [rbot::exchange] Response code = 200 / download size None / method(GET) / URL = https://testnet.binance.vision/api/v3/openOrders?symbol=BTCUSDT&recvWindow=6000&timestamp=1695656457600&signature=584d6ccaa231c160fa7509ca9453fb45f10243e9232a8a03ae2478c9d28d3317 / path\n",
      "2023-09-25T15:40:57.676Z \u001b[35mDEBUG\u001b[0m [rbot::exchange::binance::rest] AUTH GET: path/api/v3/openOrders / body: symbol=BTCUSDT / Ok(\"[{\\\"symbol\\\":\\\"BTCUSDT\\\",\\\"orderId\\\":9216147,\\\"orderListId\\\":-1,\\\"clientOrderId\\\":\\\"uGbCunqtcvvv4uMGhjyq4r\\\",\\\"price\\\":\\\"24000.00000000\\\",\\\"origQty\\\":\\\"0.00100000\\\",\\\"executedQty\\\":\\\"0.00000000\\\",\\\"cummulativeQuoteQty\\\":\\\"0.00000000\\\",\\\"status\\\":\\\"NEW\\\",\\\"timeInForce\\\":\\\"GTC\\\",\\\"type\\\":\\\"LIMIT\\\",\\\"side\\\":\\\"BUY\\\",\\\"stopPrice\\\":\\\"0.00000000\\\",\\\"icebergQty\\\":\\\"0.00000000\\\",\\\"time\\\":1695637687525,\\\"updateTime\\\":1695637687525,\\\"isWorking\\\":true,\\\"workingTime\\\":1695637687525,\\\"origQuoteOrderQty\\\":\\\"0.00000000\\\",\\\"selfTradePreventionMode\\\":\\\"NONE\\\"},{\\\"symbol\\\":\\\"BTCUSDT\\\",\\\"orderId\\\":9258664,\\\"orderListId\\\":-1,\\\"clientOrderId\\\":\\\"L8qn0gpQm7dXOTxSpYeAtB\\\",\\\"price\\\":\\\"24000.00000000\\\",\\\"origQty\\\":\\\"0.00100000\\\",\\\"executedQty\\\":\\\"0.00000000\\\",\\\"cummulativeQuoteQty\\\":\\\"0.00000000\\\",\\\"status\\\":\\\"NEW\\\",\\\"timeInForce\\\":\\\"GTC\\\",\\\"type\\\":\\\"LIMIT\\\",\\\"side\\\":\\\"BUY\\\",\\\"stopPrice\\\":\\\"0.00000000\\\",\\\"icebergQty\\\":\\\"0.00000000\\\",\\\"time\\\":1695645527715,\\\"updateTime\\\":1695645527715,\\\"isWorking\\\":true,\\\"workingTime\\\":1695645527715,\\\"origQuoteOrderQty\\\":\\\"0.00000000\\\",\\\"selfTradePreventionMode\\\":\\\"NONE\\\"},{\\\"symbol\\\":\\\"BTCUSDT\\\",\\\"orderId\\\":9258934,\\\"orderListId\\\":-1,\\\"clientOrderId\\\":\\\"PeWuWeOcJoPRjbDUEcUi5p\\\",\\\"price\\\":\\\"24000.00000000\\\",\\\"origQty\\\":\\\"0.00100000\\\",\\\"executedQty\\\":\\\"0.00000000\\\",\\\"cummulativeQuoteQty\\\":\\\"0.00000000\\\",\\\"status\\\":\\\"NEW\\\",\\\"timeInForce\\\":\\\"GTC\\\",\\\"type\\\":\\\"LIMIT\\\",\\\"side\\\":\\\"BUY\\\",\\\"stopPrice\\\":\\\"0.00000000\\\",\\\"icebergQty\\\":\\\"0.00000000\\\",\\\"time\\\":1695645576735,\\\"updateTime\\\":1695645576735,\\\"isWorking\\\":true,\\\"workingTime\\\":1695645576735,\\\"origQuoteOrderQty\\\":\\\"0.00000000\\\",\\\"selfTradePreventionMode\\\":\\\"NONE\\\"},{\\\"symbol\\\":\\\"BTCUSDT\\\",\\\"orderId\\\":9259036,\\\"orderListId\\\":-1,\\\"clientOrderId\\\":\\\"AucgjkLiltWaIuTxvOz8lY\\\",\\\"price\\\":\\\"24000.10000000\\\",\\\"origQty\\\":\\\"0.00100000\\\",\\\"executedQty\\\":\\\"0.00000000\\\",\\\"cummulativeQuoteQty\\\":\\\"0.00000000\\\",\\\"status\\\":\\\"NEW\\\",\\\"timeInForce\\\":\\\"GTC\\\",\\\"type\\\":\\\"LIMIT\\\",\\\"side\\\":\\\"BUY\\\",\\\"stopPrice\\\":\\\"0.00000000\\\",\\\"icebergQty\\\":\\\"0.00000000\\\",\\\"time\\\":1695645598864,\\\"updateTime\\\":1695645598864,\\\"isWorking\\\":true,\\\"workingTime\\\":1695645598864,\\\"origQuoteOrderQty\\\":\\\"0.00000000\\\",\\\"selfTradePreventionMode\\\":\\\"NONE\\\"},{\\\"symbol\\\":\\\"BTCUSDT\\\",\\\"orderId\\\":9259438,\\\"orderListId\\\":-1,\\\"clientOrderId\\\":\\\"NzcmCR959XcRl3cVcoAJ7h\\\",\\\"price\\\":\\\"24000.10000000\\\",\\\"origQty\\\":\\\"0.00100000\\\",\\\"executedQty\\\":\\\"0.00000000\\\",\\\"cummulativeQuoteQty\\\":\\\"0.00000000\\\",\\\"status\\\":\\\"NEW\\\",\\\"timeInForce\\\":\\\"GTC\\\",\\\"type\\\":\\\"LIMIT\\\",\\\"side\\\":\\\"BUY\\\",\\\"stopPrice\\\":\\\"0.00000000\\\",\\\"icebergQty\\\":\\\"0.00000000\\\",\\\"time\\\":1695645661928,\\\"updateTime\\\":1695645661928,\\\"isWorking\\\":true,\\\"workingTime\\\":1695645661928,\\\"origQuoteOrderQty\\\":\\\"0.00000000\\\",\\\"selfTradePreventionMode\\\":\\\"NONE\\\"},{\\\"symbol\\\":\\\"BTCUSDT\\\",\\\"orderId\\\":9260043,\\\"orderListId\\\":-1,\\\"clientOrderId\\\":\\\"ETLbStkYqtGLxGLl09EhyQ\\\",\\\"price\\\":\\\"24000.00000000\\\",\\\"origQty\\\":\\\"0.00100000\\\",\\\"executedQty\\\":\\\"0.00000000\\\",\\\"cummulativeQuoteQty\\\":\\\"0.00000000\\\",\\\"status\\\":\\\"NEW\\\",\\\"timeInForce\\\":\\\"GTC\\\",\\\"type\\\":\\\"LIMIT\\\",\\\"side\\\":\\\"BUY\\\",\\\"stopPrice\\\":\\\"0.00000000\\\",\\\"icebergQty\\\":\\\"0.00000000\\\",\\\"time\\\":1695645792722,\\\"updateTime\\\":1695645792722,\\\"isWorking\\\":true,\\\"workingTime\\\":1695645792722,\\\"origQuoteOrderQty\\\":\\\"0.00000000\\\",\\\"selfTradePreventionMode\\\":\\\"NONE\\\"},{\\\"symbol\\\":\\\"BTCUSDT\\\",\\\"orderId\\\":9277007,\\\"orderListId\\\":-1,\\\"clientOrderId\\\":\\\"new_limit_order\\\",\\\"price\\\":\\\"24000.10000000\\\",\\\"origQty\\\":\\\"0.00100000\\\",\\\"executedQty\\\":\\\"0.00000000\\\",\\\"cummulativeQuoteQty\\\":\\\"0.00000000\\\",\\\"status\\\":\\\"NEW\\\",\\\"timeInForce\\\":\\\"GTC\\\",\\\"type\\\":\\\"LIMIT\\\",\\\"side\\\":\\\"BUY\\\",\\\"stopPrice\\\":\\\"0.00000000\\\",\\\"icebergQty\\\":\\\"0.00000000\\\",\\\"time\\\":1695648922271,\\\"updateTime\\\":1695648922271,\\\"isWorking\\\":true,\\\"workingTime\\\":1695648922271,\\\"origQuoteOrderQty\\\":\\\"0.00000000\\\",\\\"selfTradePreventionMode\\\":\\\"NONE\\\"},{\\\"symbol\\\":\\\"BTCUSDT\\\",\\\"orderId\\\":9277348,\\\"orderListId\\\":-1,\\\"clientOrderId\\\":\\\"new_limit_order01\\\",\\\"price\\\":\\\"24000.10000000\\\",\\\"origQty\\\":\\\"0.00100000\\\",\\\"executedQty\\\":\\\"0.00000000\\\",\\\"cummulativeQuoteQty\\\":\\\"0.00000000\\\",\\\"status\\\":\\\"NEW\\\",\\\"timeInForce\\\":\\\"GTC\\\",\\\"type\\\":\\\"LIMIT\\\",\\\"side\\\":\\\"BUY\\\",\\\"stopPrice\\\":\\\"0.00000000\\\",\\\"icebergQty\\\":\\\"0.00000000\\\",\\\"time\\\":1695648975134,\\\"updateTime\\\":1695648975134,\\\"isWorking\\\":true,\\\"workingTime\\\":1695648975134,\\\"origQuoteOrderQty\\\":\\\"0.00000000\\\",\\\"selfTradePreventionMode\\\":\\\"NONE\\\"},{\\\"symbol\\\":\\\"BTCUSDT\\\",\\\"orderId\\\":9309748,\\\"orderListId\\\":-1,\\\"clientOrderId\\\":\\\"202309251522-0001\\\",\\\"price\\\":\\\"25000.00000000\\\",\\\"origQty\\\":\\\"0.00100000\\\",\\\"executedQty\\\":\\\"0.00000000\\\",\\\"cummulativeQuoteQty\\\":\\\"0.00000000\\\",\\\"status\\\":\\\"NEW\\\",\\\"timeInForce\\\":\\\"GTC\\\",\\\"type\\\":\\\"LIMIT\\\",\\\"side\\\":\\\"BUY\\\",\\\"stopPrice\\\":\\\"0.00000000\\\",\\\"icebergQty\\\":\\\"0.00000000\\\",\\\"time\\\":1695655378521,\\\"updateTime\\\":1695655378521,\\\"isWorking\\\":true,\\\"workingTime\\\":1695655378521,\\\"origQuoteOrderQty\\\":\\\"0.00000000\\\",\\\"selfTradePreventionMode\\\":\\\"NONE\\\"},{\\\"symbol\\\":\\\"BTCUSDT\\\",\\\"orderId\\\":9310187,\\\"orderListId\\\":-1,\\\"clientOrderId\\\":\\\"2023092515T24-0001\\\",\\\"price\\\":\\\"25000.00000000\\\",\\\"origQty\\\":\\\"0.00100000\\\",\\\"executedQty\\\":\\\"0.00000000\\\",\\\"cummulativeQuoteQty\\\":\\\"0.00000000\\\",\\\"status\\\":\\\"NEW\\\",\\\"timeInForce\\\":\\\"GTC\\\",\\\"type\\\":\\\"LIMIT\\\",\\\"side\\\":\\\"BUY\\\",\\\"stopPrice\\\":\\\"0.00000000\\\",\\\"icebergQty\\\":\\\"0.00000000\\\",\\\"time\\\":1695655462013,\\\"updateTime\\\":1695655462013,\\\"isWorking\\\":true,\\\"workingTime\\\":1695655462013,\\\"origQuoteOrderQty\\\":\\\"0.00000000\\\",\\\"selfTradePreventionMode\\\":\\\"NONE\\\"},{\\\"symbol\\\":\\\"BTCUSDT\\\",\\\"orderId\\\":9310744,\\\"orderListId\\\":-1,\\\"clientOrderId\\\":\\\"20230925T1526-0001\\\",\\\"price\\\":\\\"25000.00000000\\\",\\\"origQty\\\":\\\"0.00100000\\\",\\\"executedQty\\\":\\\"0.00000000\\\",\\\"cummulativeQuoteQty\\\":\\\"0.00000000\\\",\\\"status\\\":\\\"NEW\\\",\\\"timeInForce\\\":\\\"GTC\\\",\\\"type\\\":\\\"LIMIT\\\",\\\"side\\\":\\\"BUY\\\",\\\"stopPrice\\\":\\\"0.00000000\\\",\\\"icebergQty\\\":\\\"0.00000000\\\",\\\"time\\\":1695655591320,\\\"updateTime\\\":1695655591320,\\\"isWorking\\\":true,\\\"workingTime\\\":1695655591320,\\\"origQuoteOrderQty\\\":\\\"0.00000000\\\",\\\"selfTradePreventionMode\\\":\\\"NONE\\\"},{\\\"symbol\\\":\\\"BTCUSDT\\\",\\\"orderId\\\":9310802,\\\"orderListId\\\":-1,\\\"clientOrderId\\\":\\\"20230925T1526-0002\\\",\\\"price\\\":\\\"25000.00000000\\\",\\\"origQty\\\":\\\"0.00100000\\\",\\\"executedQty\\\":\\\"0.00000000\\\",\\\"cummulativeQuoteQty\\\":\\\"0.00000000\\\",\\\"status\\\":\\\"NEW\\\",\\\"timeInForce\\\":\\\"GTC\\\",\\\"type\\\":\\\"LIMIT\\\",\\\"side\\\":\\\"BUY\\\",\\\"stopPrice\\\":\\\"0.00000000\\\",\\\"icebergQty\\\":\\\"0.00000000\\\",\\\"time\\\":1695655603672,\\\"updateTime\\\":1695655603672,\\\"isWorking\\\":true,\\\"workingTime\\\":1695655603672,\\\"origQuoteOrderQty\\\":\\\"0.00000000\\\",\\\"selfTradePreventionMode\\\":\\\"NONE\\\"},{\\\"symbol\\\":\\\"BTCUSDT\\\",\\\"orderId\\\":9314997,\\\"orderListId\\\":-1,\\\"clientOrderId\\\":\\\"20230925T1539-0001\\\",\\\"price\\\":\\\"25000.00000000\\\",\\\"origQty\\\":\\\"0.00100000\\\",\\\"executedQty\\\":\\\"0.00000000\\\",\\\"cummulativeQuoteQty\\\":\\\"0.00000000\\\",\\\"status\\\":\\\"NEW\\\",\\\"timeInForce\\\":\\\"GTC\\\",\\\"type\\\":\\\"LIMIT\\\",\\\"side\\\":\\\"BUY\\\",\\\"stopPrice\\\":\\\"0.00000000\\\",\\\"icebergQty\\\":\\\"0.00000000\\\",\\\"time\\\":1695656350535,\\\"updateTime\\\":1695656350535,\\\"isWorking\\\":true,\\\"workingTime\\\":1695656350535,\\\"origQuoteOrderQty\\\":\\\"0.00000000\\\",\\\"selfTradePreventionMode\\\":\\\"NONE\\\"},{\\\"symbol\\\":\\\"BTCUSDT\\\",\\\"orderId\\\":9315645,\\\"orderListId\\\":-1,\\\"clientOrderId\\\":\\\"f8YyT8JfRO7stT7fm6RJab\\\",\\\"price\\\":\\\"24000.10000000\\\",\\\"origQty\\\":\\\"0.00100000\\\",\\\"executedQty\\\":\\\"0.00000000\\\",\\\"cummulativeQuoteQty\\\":\\\"0.00000000\\\",\\\"status\\\":\\\"NEW\\\",\\\"timeInForce\\\":\\\"GTC\\\",\\\"type\\\":\\\"LIMIT\\\",\\\"side\\\":\\\"BUY\\\",\\\"stopPrice\\\":\\\"0.00000000\\\",\\\"icebergQty\\\":\\\"0.00000000\\\",\\\"time\\\":1695656437148,\\\"updateTime\\\":1695656437148,\\\"isWorking\\\":true,\\\"workingTime\\\":1695656437148,\\\"origQuoteOrderQty\\\":\\\"0.00000000\\\",\\\"selfTradePreventionMode\\\":\\\"NONE\\\"}]\")\n"
     ]
    }
   ],
   "source": [
    "HTML(json2html.convert(binance.open_orders.__str__()))"
   ]
  },
  {
   "cell_type": "code",
   "execution_count": null,
   "metadata": {},
   "outputs": [],
   "source": [
    "HTML(json2html.convert(binance.trade_list.__str__()))"
   ]
  },
  {
   "cell_type": "code",
   "execution_count": null,
   "metadata": {},
   "outputs": [],
   "source": [
    "binance.start_market_stream()"
   ]
  },
  {
   "cell_type": "code",
   "execution_count": null,
   "metadata": {},
   "outputs": [],
   "source": [
    "binance.bids"
   ]
  },
  {
   "cell_type": "code",
   "execution_count": null,
   "metadata": {},
   "outputs": [],
   "source": [
    "import time\n",
    "from IPython.display import clear_output\n",
    "count = 100\n",
    "while True:\n",
    "    print(binance.asks.head().iloc[::-1])\n",
    "    print(\"   -- ↑ Asks / Bids ↓ --\")\n",
    "    print(binance.bids.head())\n",
    "    time.sleep(0.5)\n",
    "    clear_output(wait=True)\n",
    "\n",
    "    if count < 0:\n",
    "        break\n",
    "    count -= 1"
   ]
  },
  {
   "cell_type": "code",
   "execution_count": null,
   "metadata": {},
   "outputs": [],
   "source": [
    "binance.stop_market_stream()"
   ]
  },
  {
   "cell_type": "code",
   "execution_count": null,
   "metadata": {},
   "outputs": [],
   "source": [
    "j = \"\"\"[{\"symbol\":\"BTCUSDT\",\"orderId\":2782215,\"orderListId\":-1,\"clientOrderId\":\"LnvxKDYYXdtn7m8oweHqyh\",\"price\":\"25000.00000000\",\"origQty\":\"0.01000000\",\"executedQty\":\"0.01000000\",\"cummulativeQuoteQty\":\"250.00000000\",\"status\":\"FILLED\",\"timeInForce\":\"GTC\",\"type\":\"LIMIT\",\"side\":\"BUY\",\"stopPrice\":\"0.00000000\",\"icebergQty\":\"0.00000000\",\"time\":1694396686024,\"updateTime\":1694398622469,\"isWorking\":true,\"workingTime\":1694396686024,\"origQuoteOrderQty\":\"0.00000000\",\"selfTradePreventionMode\":\"NONE\"},\n",
    " {\"symbol\":\"BTCUSDT\",\"orderId\":2782217,\"orderListId\":-1,\"clientOrderId\":\"tpELVj8sifYLV0RKUA8Ojx\",\"price\":\"25000.00000000\",\"origQty\":\"0.01000000\",\"executedQty\":\"0.01000000\",\"cummulativeQuoteQty\":\"250.00000000\",\"status\":\"FILLED\",\"timeInForce\":\"GTC\",\"type\":\"LIMIT\",\"side\":\"BUY\",\"stopPrice\":\"0.00000000\",\"icebergQty\":\"0.00000000\",\"time\":1694396695637,\"updateTime\":1694398622469,\"isWorking\":true,\"workingTime\":1694396695637,\"origQuoteOrderQty\":\"0.00000000\",\"selfTradePreventionMode\":\"NONE\"},\n",
    "]\"\"\""
   ]
  },
  {
   "cell_type": "code",
   "execution_count": null,
   "metadata": {},
   "outputs": [],
   "source": []
  },
  {
   "cell_type": "code",
   "execution_count": null,
   "metadata": {},
   "outputs": [],
   "source": [
    "json2html.convert(json=j)"
   ]
  },
  {
   "cell_type": "code",
   "execution_count": null,
   "metadata": {},
   "outputs": [],
   "source": [
    "init_debug_log()\n",
    "binance.start_market_stream()"
   ]
  },
  {
   "cell_type": "markdown",
   "metadata": {},
   "source": []
  },
  {
   "cell_type": "code",
   "execution_count": null,
   "metadata": {},
   "outputs": [],
   "source": [
    "binance.stop_market_stream()"
   ]
  },
  {
   "cell_type": "code",
   "execution_count": null,
   "metadata": {},
   "outputs": [],
   "source": [
    "init_debug_log()\n",
    "binance.start_user_stream()\n",
    "#binance.stop_user_stream()"
   ]
  },
  {
   "cell_type": "code",
   "execution_count": null,
   "metadata": {},
   "outputs": [],
   "source": [
    "binance.new_market_order(OrderSide.Buy, 0.01)"
   ]
  },
  {
   "cell_type": "code",
   "execution_count": 7,
   "metadata": {},
   "outputs": [],
   "source": [
    "stream = binance.channel"
   ]
  },
  {
   "cell_type": "code",
   "execution_count": null,
   "metadata": {},
   "outputs": [],
   "source": [
    "stream"
   ]
  },
  {
   "cell_type": "code",
   "execution_count": null,
   "metadata": {},
   "outputs": [],
   "source": [
    "session = _LiveSession()"
   ]
  },
  {
   "cell_type": "code",
   "execution_count": 8,
   "metadata": {},
   "outputs": [
    {
     "ename": "NameError",
     "evalue": "name 'session' is not defined",
     "output_type": "error",
     "traceback": [
      "\u001b[0;31m---------------------------------------------------------------------------\u001b[0m",
      "\u001b[0;31mNameError\u001b[0m                                 Traceback (most recent call last)",
      "\u001b[1;32m/Users/takeoyasukawa/Projects/rbot/src/test/binance_test/market.ipynb セル 21\u001b[0m line \u001b[0;36m1\n\u001b[0;32m----> <a href='vscode-notebook-cell:/Users/takeoyasukawa/Projects/rbot/src/test/binance_test/market.ipynb#X32sZmlsZQ%3D%3D?line=0'>1</a>\u001b[0m session\u001b[39m.\u001b[39mconnect(stream)\n",
      "\u001b[0;31mNameError\u001b[0m: name 'session' is not defined"
     ]
    }
   ],
   "source": [
    "session.connect(stream)"
   ]
  },
  {
   "cell_type": "code",
   "execution_count": null,
   "metadata": {},
   "outputs": [],
   "source": []
  }
 ],
 "metadata": {
  "kernelspec": {
   "display_name": "Python 3",
   "language": "python",
   "name": "python3"
  },
  "language_info": {
   "codemirror_mode": {
    "name": "ipython",
    "version": 3
   },
   "file_extension": ".py",
   "mimetype": "text/x-python",
   "name": "python",
   "nbconvert_exporter": "python",
   "pygments_lexer": "ipython3",
   "version": "3.11.4"
  },
  "orig_nbformat": 4
 },
 "nbformat": 4,
 "nbformat_minor": 2
}
