{
 "cells": [
  {
   "cell_type": "code",
   "execution_count": 1,
   "metadata": {},
   "outputs": [],
   "source": [
    "import json\n",
    "from json2html import json2html\n",
    "from IPython.display import HTML\n",
    "\n",
    "from rbot import *\n",
    "config = BinanceConfig.TESTSPOT(\"BTCUSDT\")\n"
   ]
  },
  {
   "cell_type": "code",
   "execution_count": 2,
   "metadata": {},
   "outputs": [
    {
     "data": {
      "text/plain": [
       "{\"exchange_name\":\"BN\",\"trade_category\":\"TESTSPOT\",\"trade_symbol\":\"BTCUSDT\",\"size_in_foreign\":false,\"testnet\":true,\"rest_endpoint\":\"https://testnet.binance.vision\",\"public_ws_endpoint\":\"wss://testnet.binance.vision/ws\",\"private_ws_endpoint\":\"wss://testnet.binance.vision/ws\",\"history_web_base\":\"https://data.binance.vision/data/spot/daily/trades\",\"new_order_path\":\"/api/v3/order\",\"cancel_order_path\":\"/api/v3/order\",\"public_subscribe_message\":\"{\\\"id\\\":1,\\\"method\\\":\\\"SUBSCRIBE\\\",\\\"params\\\":[\\\"btcusdt@trade\\\",\\\"btcusdt@depth@100ms\\\"]}\",\"api_key\":\"NOhZ*******************\",\"api_secret\":\"yPrx*******************\"}"
      ]
     },
     "execution_count": 2,
     "metadata": {},
     "output_type": "execute_result"
    }
   ],
   "source": [
    "config"
   ]
  },
  {
   "cell_type": "code",
   "execution_count": 3,
   "metadata": {},
   "outputs": [],
   "source": [
    "import rbot\n",
    "from rbot import BinanceMarket\n",
    "\n",
    "          #BinanceMarket\n",
    "binance = BinanceMarket(config)"
   ]
  },
  {
   "cell_type": "code",
   "execution_count": 4,
   "metadata": {},
   "outputs": [],
   "source": [
    "market_order =binance.new_market_order(OrderSide.Sell, 0.01)\n",
    "\n",
    "\n",
    "\n"
   ]
  },
  {
   "cell_type": "code",
   "execution_count": 5,
   "metadata": {},
   "outputs": [],
   "source": [
    "order = market_order.to_order(config)"
   ]
  },
  {
   "cell_type": "code",
   "execution_count": 6,
   "metadata": {},
   "outputs": [
    {
     "data": {
      "text/html": [
       "<table border=\"1\"><tr><th>symbol</th><td>BTCUSDT</td></tr><tr><th>orderId</th><td>4279517</td></tr><tr><th>orderListId</th><td>-1</td></tr><tr><th>clientOrderId</th><td>uSXvEuEU171l2odp2ck27t</td></tr><tr><th>transactTime</th><td>1694617456732</td></tr><tr><th>price</th><td>0.00000000</td></tr><tr><th>origQty</th><td>0.01000000</td></tr><tr><th>executedQty</th><td>0.01000000</td></tr><tr><th>cummulativeQuoteQty</th><td>262.20470000</td></tr><tr><th>status</th><td>FILLED</td></tr><tr><th>timeInForce</th><td>GTC</td></tr><tr><th>type</th><td>MARKET</td></tr><tr><th>side</th><td>SELL</td></tr><tr><th>workingTime</th><td>1694617456732</td></tr><tr><th>selfTradePreventionMode</th><td>NONE</td></tr><tr><th>fills</th><td><table border=\"1\"><thead><tr><th>price</th><th>qty</th><th>commission</th><th>commissionAsset</th><th>tradeId</th></tr></thead><tbody><tr><td>26220.47000000</td><td>0.01000000</td><td>0.00000000</td><td>USDT</td><td>723955</td></tr></tbody></table></td></tr></table>"
      ],
      "text/plain": [
       "<IPython.core.display.HTML object>"
      ]
     },
     "execution_count": 6,
     "metadata": {},
     "output_type": "execute_result"
    }
   ],
   "source": [
    "HTML(json2html.convert(market_order.__str__()))"
   ]
  },
  {
   "cell_type": "code",
   "execution_count": 7,
   "metadata": {},
   "outputs": [
    {
     "data": {
      "text/plain": [
       "[{\"symbol\":\"BTCUSDT\",\"size_in_foreign\":false,\"create_time\":1694617456732000,\"order_id\":\"4279517\",\"order_list_index\":-1,\"client_order_id\":\"uSXvEuEU171l2odp2ck27t\",\"order_side\":\"Sell\",\"order_type\":\"MARKET\",\"price\":\"0.00000000\",\"size\":\"0.01000000\",\"fills\":null}]"
      ]
     },
     "execution_count": 7,
     "metadata": {},
     "output_type": "execute_result"
    }
   ],
   "source": [
    "order\n"
   ]
  },
  {
   "cell_type": "code",
   "execution_count": 8,
   "metadata": {},
   "outputs": [
    {
     "data": {
      "text/html": [
       "<table border=\"1\"><thead><tr><th>symbol</th><th>size_in_foreign</th><th>create_time</th><th>order_id</th><th>order_list_index</th><th>client_order_id</th><th>order_side</th><th>order_type</th><th>price</th><th>size</th><th>fills</th></tr></thead><tbody><tr><td>BTCUSDT</td><td>False</td><td>1694617456732000</td><td>4279517</td><td>-1</td><td>uSXvEuEU171l2odp2ck27t</td><td>Sell</td><td>MARKET</td><td>0.00000000</td><td>0.01000000</td><td>None</td></tr></tbody></table>"
      ],
      "text/plain": [
       "<IPython.core.display.HTML object>"
      ]
     },
     "execution_count": 8,
     "metadata": {},
     "output_type": "execute_result"
    }
   ],
   "source": [
    "HTML(json2html.convert(order.__str__()))"
   ]
  },
  {
   "cell_type": "code",
   "execution_count": null,
   "metadata": {},
   "outputs": [],
   "source": [
    "print(s[0])"
   ]
  },
  {
   "cell_type": "code",
   "execution_count": null,
   "metadata": {},
   "outputs": [],
   "source": [
    "binance.start_market_stream()"
   ]
  },
  {
   "cell_type": "code",
   "execution_count": null,
   "metadata": {},
   "outputs": [],
   "source": [
    "binance.start_market_stream()"
   ]
  },
  {
   "cell_type": "code",
   "execution_count": null,
   "metadata": {},
   "outputs": [],
   "source": [
    "import time\n",
    "from IPython.display import clear_output\n",
    "count = 100\n",
    "while True:\n",
    "    print(binance.asks.head().iloc[::-1])\n",
    "    print(\"   -- ↑ Asks / Bids ↓ --\")\n",
    "    print(binance.bids.head())\n",
    "    time.sleep(0.5)\n",
    "    clear_output(wait=True)\n",
    "\n",
    "    if count < 0:\n",
    "        break\n",
    "    count -= 1"
   ]
  },
  {
   "cell_type": "code",
   "execution_count": null,
   "metadata": {},
   "outputs": [],
   "source": [
    "binance.stop_market_stream()"
   ]
  },
  {
   "cell_type": "code",
   "execution_count": null,
   "metadata": {},
   "outputs": [],
   "source": [
    "j = \"\"\"[{\"symbol\":\"BTCUSDT\",\"orderId\":2782215,\"orderListId\":-1,\"clientOrderId\":\"LnvxKDYYXdtn7m8oweHqyh\",\"price\":\"25000.00000000\",\"origQty\":\"0.01000000\",\"executedQty\":\"0.01000000\",\"cummulativeQuoteQty\":\"250.00000000\",\"status\":\"FILLED\",\"timeInForce\":\"GTC\",\"type\":\"LIMIT\",\"side\":\"BUY\",\"stopPrice\":\"0.00000000\",\"icebergQty\":\"0.00000000\",\"time\":1694396686024,\"updateTime\":1694398622469,\"isWorking\":true,\"workingTime\":1694396686024,\"origQuoteOrderQty\":\"0.00000000\",\"selfTradePreventionMode\":\"NONE\"},\n",
    " {\"symbol\":\"BTCUSDT\",\"orderId\":2782217,\"orderListId\":-1,\"clientOrderId\":\"tpELVj8sifYLV0RKUA8Ojx\",\"price\":\"25000.00000000\",\"origQty\":\"0.01000000\",\"executedQty\":\"0.01000000\",\"cummulativeQuoteQty\":\"250.00000000\",\"status\":\"FILLED\",\"timeInForce\":\"GTC\",\"type\":\"LIMIT\",\"side\":\"BUY\",\"stopPrice\":\"0.00000000\",\"icebergQty\":\"0.00000000\",\"time\":1694396695637,\"updateTime\":1694398622469,\"isWorking\":true,\"workingTime\":1694396695637,\"origQuoteOrderQty\":\"0.00000000\",\"selfTradePreventionMode\":\"NONE\"},\n",
    "]\"\"\""
   ]
  },
  {
   "cell_type": "code",
   "execution_count": null,
   "metadata": {},
   "outputs": [],
   "source": [
    "j"
   ]
  },
  {
   "cell_type": "code",
   "execution_count": null,
   "metadata": {},
   "outputs": [],
   "source": [
    "json2html.convert(json=j)"
   ]
  },
  {
   "cell_type": "code",
   "execution_count": null,
   "metadata": {},
   "outputs": [],
   "source": [
    "import pandas as pd\n",
    "import json\n",
    "\n",
    "js = json.loads(j)\n",
    "\n",
    "df = pd.DataFrame(js)"
   ]
  },
  {
   "cell_type": "code",
   "execution_count": null,
   "metadata": {},
   "outputs": [],
   "source": []
  }
 ],
 "metadata": {
  "kernelspec": {
   "display_name": "Python 3",
   "language": "python",
   "name": "python3"
  },
  "language_info": {
   "codemirror_mode": {
    "name": "ipython",
    "version": 3
   },
   "file_extension": ".py",
   "mimetype": "text/x-python",
   "name": "python",
   "nbconvert_exporter": "python",
   "pygments_lexer": "ipython3",
   "version": "3.11.4"
  },
  "orig_nbformat": 4
 },
 "nbformat": 4,
 "nbformat_minor": 2
}
