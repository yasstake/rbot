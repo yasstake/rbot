{
 "cells": [
  {
   "cell_type": "code",
   "execution_count": 1,
   "metadata": {},
   "outputs": [
    {
     "data": {
      "text/html": [
       "<table border=\"1\"><tr><th>exchange_name</th><td>BN</td></tr><tr><th>trade_category</th><td>TESTSPOT</td></tr><tr><th>trade_symbol</th><td>BTCUSDT</td></tr><tr><th>size_in_foreign</th><td>False</td></tr><tr><th>home_currency</th><td>USDT</td></tr><tr><th>foreign_currency</th><td>BTC</td></tr><tr><th>testnet</th><td>True</td></tr><tr><th>rest_endpoint</th><td>https://testnet.binance.vision</td></tr><tr><th>public_ws_endpoint</th><td>wss://testnet.binance.vision/ws</td></tr><tr><th>private_ws_endpoint</th><td>wss://testnet.binance.vision/ws</td></tr><tr><th>history_web_base</th><td>https://data.binance.vision/data/spot/daily/trades</td></tr><tr><th>new_order_path</th><td>/api/v3/order</td></tr><tr><th>cancel_order_path</th><td>/api/v3/order</td></tr><tr><th>public_subscribe_message</th><td>{&quot;id&quot;:1,&quot;method&quot;:&quot;SUBSCRIBE&quot;,&quot;params&quot;:[&quot;btcusdt@trade&quot;,&quot;btcusdt@depth@100ms&quot;]}</td></tr><tr><th>api_key</th><td>NOhZ*******************</td></tr><tr><th>api_secret</th><td>yPrx*******************</td></tr></table>"
      ],
      "text/plain": [
       "<IPython.core.display.HTML object>"
      ]
     },
     "execution_count": 1,
     "metadata": {},
     "output_type": "execute_result"
    }
   ],
   "source": [
    "import json\n",
    "from json2html import json2html\n",
    "from IPython.display import HTML\n",
    "\n",
    "from rbot import *\n",
    "config = BinanceConfig.TESTSPOT(\"BTC\", \"USDT\")\n",
    "\n",
    "HTML(json2html.convert(config.__str__()))"
   ]
  },
  {
   "cell_type": "code",
   "execution_count": 2,
   "metadata": {},
   "outputs": [],
   "source": [
    "import rbot\n",
    "from rbot import BinanceMarket\n",
    "\n",
    "          #BinanceMarket\n",
    "binance = BinanceMarket(config)\n",
    "init_debug_log()"
   ]
  },
  {
   "cell_type": "code",
   "execution_count": 3,
   "metadata": {},
   "outputs": [
    {
     "name": "stdout",
     "output_type": "stream",
     "text": [
      "2023-09-27T12:47:45.439Z \u001b[35mDEBUG\u001b[0m [rbot::exchange::binance::rest] path/api/v3/order / body: symbol=BTCUSDT&side=BUY&type=MARKET&quantity=0.05&newClientOrderId=BTCUSDT&recvWindow=6000&timestamp=1695818865438&signature=7ffb3d2e17eb73ebb70300cd5ea103e051e04ad4ff4a405bec2697700910fa85\n",
      "2023-09-27T12:47:45.439Z \u001b[35mDEBUG\u001b[0m [reqwest::connect] starting new connection: https://testnet.binance.vision/\n",
      "2023-09-27T12:47:45.598Z \u001b[35mDEBUG\u001b[0m [rbot::exchange] Response code = 200 / download size None / method(POST) / URL = https://testnet.binance.vision/api/v3/order / pathsymbol=BTCUSDT&side=BUY&type=MARKET&quantity=0.05&newClientOrderId=BTCUSDT&recvWindow=6000&timestamp=1695818865438&signature=7ffb3d2e17eb73ebb70300cd5ea103e051e04ad4ff4a405bec2697700910fa85\n"
     ]
    },
    {
     "data": {
      "text/plain": [
       "[{\"symbol\":\"BTCUSDT\",\"create_time\":1695818865607000,\"order_id\":\"10336589\",\"client_order_id\":\"BTCUSDT\",\"order_side\":\"Buy\",\"order_type\":\"Market\",\"order_price\":\"0.00000000\",\"order_size\":\"0.05000000\",\"remain_size\":\"0.04900000\",\"status\":\"PartiallyFilled\",\"transaction_id\":\"1772917\",\"update_time\":0,\"execute_price\":\"26695.69000000\",\"execute_size\":\"0.00100000\",\"quote_vol\":\"26.6956900000000000\",\"commission\":\"0.00000000\",\"commission_asset\":\"BTC\",\"is_maker\":false,\"message\":\"\"},\n",
       " {\"symbol\":\"BTCUSDT\",\"create_time\":1695818865607000,\"order_id\":\"10336589\",\"client_order_id\":\"BTCUSDT\",\"order_side\":\"Buy\",\"order_type\":\"Market\",\"order_price\":\"0.00000000\",\"order_size\":\"0.05000000\",\"remain_size\":\"0.01214000\",\"status\":\"PartiallyFilled\",\"transaction_id\":\"1772918\",\"update_time\":0,\"execute_price\":\"26695.70000000\",\"execute_size\":\"0.03686000\",\"quote_vol\":\"984.0035020000000000\",\"commission\":\"0.00000000\",\"commission_asset\":\"BTC\",\"is_maker\":false,\"message\":\"\"},\n",
       " {\"symbol\":\"BTCUSDT\",\"create_time\":1695818865607000,\"order_id\":\"10336589\",\"client_order_id\":\"BTCUSDT\",\"order_side\":\"Buy\",\"order_type\":\"Market\",\"order_price\":\"0.00000000\",\"order_size\":\"0.05000000\",\"remain_size\":\"0.00000000\",\"status\":\"Filled\",\"transaction_id\":\"1772919\",\"update_time\":0,\"execute_price\":\"26695.73000000\",\"execute_size\":\"0.01214000\",\"quote_vol\":\"324.0861622000000000\",\"commission\":\"0.00000000\",\"commission_asset\":\"BTC\",\"is_maker\":false,\"message\":\"\"}]"
      ]
     },
     "execution_count": 3,
     "metadata": {},
     "output_type": "execute_result"
    }
   ],
   "source": [
    "binance.market_order(OrderSide.Buy, 0.05, \"BTCUSDT\")"
   ]
  },
  {
   "cell_type": "code",
   "execution_count": null,
   "metadata": {},
   "outputs": [],
   "source": [
    "o = binance.limit_order(OrderSide.Sell, 28000.1, 0.001)\n",
    "HTML(json2html.convert(json=o.__str__()))"
   ]
  },
  {
   "cell_type": "code",
   "execution_count": null,
   "metadata": {},
   "outputs": [],
   "source": [
    "binance.new_limit_order_raw(OrderSide.Buy, 24000.1, 0.001)"
   ]
  },
  {
   "cell_type": "code",
   "execution_count": null,
   "metadata": {},
   "outputs": [],
   "source": [
    "HTML(json2html.convert(binance.open_orders.__str__()))\n"
   ]
  },
  {
   "cell_type": "code",
   "execution_count": null,
   "metadata": {},
   "outputs": [],
   "source": [
    "binance.cancel_all_orders()"
   ]
  },
  {
   "cell_type": "code",
   "execution_count": null,
   "metadata": {},
   "outputs": [],
   "source": [
    "HTML(json2html.convert(binance.trade_list.__str__()))"
   ]
  },
  {
   "cell_type": "code",
   "execution_count": null,
   "metadata": {},
   "outputs": [],
   "source": [
    "binance.start_market_stream()"
   ]
  },
  {
   "cell_type": "code",
   "execution_count": null,
   "metadata": {},
   "outputs": [],
   "source": [
    "binance.bids"
   ]
  },
  {
   "cell_type": "code",
   "execution_count": null,
   "metadata": {},
   "outputs": [],
   "source": [
    "import time\n",
    "from IPython.display import clear_output\n",
    "count = 100\n",
    "while True:\n",
    "    print(binance.asks.head().iloc[::-1])\n",
    "    print(\"   -- ↑ Asks / Bids ↓ --\")\n",
    "    print(binance.bids.head())\n",
    "    time.sleep(0.5)\n",
    "    clear_output(wait=True)\n",
    "\n",
    "    if count < 0:\n",
    "        break\n",
    "    count -= 1"
   ]
  },
  {
   "cell_type": "code",
   "execution_count": null,
   "metadata": {},
   "outputs": [],
   "source": [
    "binance.stop_market_stream()"
   ]
  },
  {
   "cell_type": "code",
   "execution_count": null,
   "metadata": {},
   "outputs": [],
   "source": [
    "j = \"\"\"[{\"symbol\":\"BTCUSDT\",\"orderId\":2782215,\"orderListId\":-1,\"clientOrderId\":\"LnvxKDYYXdtn7m8oweHqyh\",\"price\":\"25000.00000000\",\"origQty\":\"0.01000000\",\"executedQty\":\"0.01000000\",\"cummulativeQuoteQty\":\"250.00000000\",\"status\":\"FILLED\",\"timeInForce\":\"GTC\",\"type\":\"LIMIT\",\"side\":\"BUY\",\"stopPrice\":\"0.00000000\",\"icebergQty\":\"0.00000000\",\"time\":1694396686024,\"updateTime\":1694398622469,\"isWorking\":true,\"workingTime\":1694396686024,\"origQuoteOrderQty\":\"0.00000000\",\"selfTradePreventionMode\":\"NONE\"},\n",
    " {\"symbol\":\"BTCUSDT\",\"orderId\":2782217,\"orderListId\":-1,\"clientOrderId\":\"tpELVj8sifYLV0RKUA8Ojx\",\"price\":\"25000.00000000\",\"origQty\":\"0.01000000\",\"executedQty\":\"0.01000000\",\"cummulativeQuoteQty\":\"250.00000000\",\"status\":\"FILLED\",\"timeInForce\":\"GTC\",\"type\":\"LIMIT\",\"side\":\"BUY\",\"stopPrice\":\"0.00000000\",\"icebergQty\":\"0.00000000\",\"time\":1694396695637,\"updateTime\":1694398622469,\"isWorking\":true,\"workingTime\":1694396695637,\"origQuoteOrderQty\":\"0.00000000\",\"selfTradePreventionMode\":\"NONE\"},\n",
    "]\"\"\""
   ]
  },
  {
   "cell_type": "code",
   "execution_count": null,
   "metadata": {},
   "outputs": [],
   "source": []
  },
  {
   "cell_type": "code",
   "execution_count": null,
   "metadata": {},
   "outputs": [],
   "source": [
    "json2html.convert(json=j)"
   ]
  },
  {
   "cell_type": "code",
   "execution_count": null,
   "metadata": {},
   "outputs": [],
   "source": [
    "init_debug_log()\n",
    "binance.start_market_stream()"
   ]
  },
  {
   "cell_type": "markdown",
   "metadata": {},
   "source": []
  },
  {
   "cell_type": "code",
   "execution_count": null,
   "metadata": {},
   "outputs": [],
   "source": [
    "binance.stop_market_stream()"
   ]
  },
  {
   "cell_type": "code",
   "execution_count": null,
   "metadata": {},
   "outputs": [],
   "source": [
    "init_debug_log()\n",
    "binance.start_user_stream()\n",
    "#binance.stop_user_stream()"
   ]
  },
  {
   "cell_type": "code",
   "execution_count": null,
   "metadata": {},
   "outputs": [],
   "source": [
    "binance.market_order(OrderSide.Sell, 0.05)"
   ]
  },
  {
   "cell_type": "code",
   "execution_count": null,
   "metadata": {},
   "outputs": [],
   "source": [
    "stream = binance.channel"
   ]
  },
  {
   "cell_type": "code",
   "execution_count": null,
   "metadata": {},
   "outputs": [],
   "source": [
    "stream"
   ]
  },
  {
   "cell_type": "code",
   "execution_count": null,
   "metadata": {},
   "outputs": [],
   "source": [
    "session = _LiveSession()"
   ]
  },
  {
   "cell_type": "code",
   "execution_count": null,
   "metadata": {},
   "outputs": [],
   "source": [
    "session.connect(stream)"
   ]
  },
  {
   "cell_type": "code",
   "execution_count": 4,
   "metadata": {},
   "outputs": [
    {
     "name": "stdout",
     "output_type": "stream",
     "text": [
      "2023-09-27T13:06:03.551Z \u001b[35mDEBUG\u001b[0m [rbot::exchange::binance::rest] path/api/v3/openOrders / body: symbol=BTCUSDT&recvWindow=6000&timestamp=1695819963551&signature=2c526cccc09040c5eaf15fc5627a6d75be8e860317e410150b45246326dbc784\n",
      "2023-09-27T13:06:03.551Z \u001b[35mDEBUG\u001b[0m [reqwest::connect] starting new connection: https://testnet.binance.vision/\n",
      "2023-09-27T13:06:03.764Z \u001b[35mDEBUG\u001b[0m [rbot::exchange] Response code = 200 / download size None / method(DELETE) / URL = https://testnet.binance.vision/api/v3/openOrders / pathsymbol=BTCUSDT&recvWindow=6000&timestamp=1695819963551&signature=2c526cccc09040c5eaf15fc5627a6d75be8e860317e410150b45246326dbc784\n"
     ]
    },
    {
     "data": {
      "text/plain": [
       "[{\"symbol\":\"BTCUSDT\",\"create_time\":1695819963761000,\"order_id\":\"10035273\",\"client_order_id\":\"bHj87mBywSbyzXgRImcprB\",\"order_side\":\"Buy\",\"order_type\":\"Limit\",\"order_price\":\"24000.10000000\",\"order_size\":\"0.00100000\",\"remain_size\":\"0.00100000\",\"status\":\"Canceled\",\"transaction_id\":\"\",\"update_time\":0,\"execute_price\":\"0.0\",\"execute_size\":\"0.0\",\"quote_vol\":\"0.0\",\"commission\":\"0.0\",\"commission_asset\":\"\",\"is_maker\":false,\"message\":\"\"},\n",
       " {\"symbol\":\"BTCUSDT\",\"create_time\":1695819963761000,\"order_id\":\"10037887\",\"client_order_id\":\"bHj87mBywSbyzXgRImcprB\",\"order_side\":\"Buy\",\"order_type\":\"Limit\",\"order_price\":\"24000.10000000\",\"order_size\":\"0.00100000\",\"remain_size\":\"0.00100000\",\"status\":\"Canceled\",\"transaction_id\":\"\",\"update_time\":0,\"execute_price\":\"0.0\",\"execute_size\":\"0.0\",\"quote_vol\":\"0.0\",\"commission\":\"0.0\",\"commission_asset\":\"\",\"is_maker\":false,\"message\":\"\"},\n",
       " {\"symbol\":\"BTCUSDT\",\"create_time\":1695819963761000,\"order_id\":\"10038044\",\"client_order_id\":\"bHj87mBywSbyzXgRImcprB\",\"order_side\":\"Buy\",\"order_type\":\"Limit\",\"order_price\":\"24000.10000000\",\"order_size\":\"0.00100000\",\"remain_size\":\"0.00100000\",\"status\":\"Canceled\",\"transaction_id\":\"\",\"update_time\":0,\"execute_price\":\"0.0\",\"execute_size\":\"0.0\",\"quote_vol\":\"0.0\",\"commission\":\"0.0\",\"commission_asset\":\"\",\"is_maker\":false,\"message\":\"\"},\n",
       " {\"symbol\":\"BTCUSDT\",\"create_time\":1695819963761000,\"order_id\":\"10038687\",\"client_order_id\":\"bHj87mBywSbyzXgRImcprB\",\"order_side\":\"Buy\",\"order_type\":\"Limit\",\"order_price\":\"24000.10000000\",\"order_size\":\"0.00100000\",\"remain_size\":\"0.00100000\",\"status\":\"Canceled\",\"transaction_id\":\"\",\"update_time\":0,\"execute_price\":\"0.0\",\"execute_size\":\"0.0\",\"quote_vol\":\"0.0\",\"commission\":\"0.0\",\"commission_asset\":\"\",\"is_maker\":false,\"message\":\"\"},\n",
       " {\"symbol\":\"BTCUSDT\",\"create_time\":1695819963761000,\"order_id\":\"10039707\",\"client_order_id\":\"bHj87mBywSbyzXgRImcprB\",\"order_side\":\"Buy\",\"order_type\":\"Limit\",\"order_price\":\"24000.10000000\",\"order_size\":\"0.00100000\",\"remain_size\":\"0.00100000\",\"status\":\"Canceled\",\"transaction_id\":\"\",\"update_time\":0,\"execute_price\":\"0.0\",\"execute_size\":\"0.0\",\"quote_vol\":\"0.0\",\"commission\":\"0.0\",\"commission_asset\":\"\",\"is_maker\":false,\"message\":\"\"},\n",
       " {\"symbol\":\"BTCUSDT\",\"create_time\":1695819963761000,\"order_id\":\"10049799\",\"client_order_id\":\"bHj87mBywSbyzXgRImcprB\",\"order_side\":\"Buy\",\"order_type\":\"Limit\",\"order_price\":\"24000.10000000\",\"order_size\":\"0.00100000\",\"remain_size\":\"0.00100000\",\"status\":\"Canceled\",\"transaction_id\":\"\",\"update_time\":0,\"execute_price\":\"0.0\",\"execute_size\":\"0.0\",\"quote_vol\":\"0.0\",\"commission\":\"0.0\",\"commission_asset\":\"\",\"is_maker\":false,\"message\":\"\"},\n",
       " {\"symbol\":\"BTCUSDT\",\"create_time\":1695819963761000,\"order_id\":\"10053014\",\"client_order_id\":\"bHj87mBywSbyzXgRImcprB\",\"order_side\":\"Buy\",\"order_type\":\"Limit\",\"order_price\":\"24000.10000000\",\"order_size\":\"0.00100000\",\"remain_size\":\"0.00100000\",\"status\":\"Canceled\",\"transaction_id\":\"\",\"update_time\":0,\"execute_price\":\"0.0\",\"execute_size\":\"0.0\",\"quote_vol\":\"0.0\",\"commission\":\"0.0\",\"commission_asset\":\"\",\"is_maker\":false,\"message\":\"\"},\n",
       " {\"symbol\":\"BTCUSDT\",\"create_time\":1695819963761000,\"order_id\":\"10057696\",\"client_order_id\":\"bHj87mBywSbyzXgRImcprB\",\"order_side\":\"Buy\",\"order_type\":\"Limit\",\"order_price\":\"24000.10000000\",\"order_size\":\"0.00100000\",\"remain_size\":\"0.00100000\",\"status\":\"Canceled\",\"transaction_id\":\"\",\"update_time\":0,\"execute_price\":\"0.0\",\"execute_size\":\"0.0\",\"quote_vol\":\"0.0\",\"commission\":\"0.0\",\"commission_asset\":\"\",\"is_maker\":false,\"message\":\"\"},\n",
       " {\"symbol\":\"BTCUSDT\",\"create_time\":1695819963761000,\"order_id\":\"10069268\",\"client_order_id\":\"bHj87mBywSbyzXgRImcprB\",\"order_side\":\"Buy\",\"order_type\":\"Limit\",\"order_price\":\"24000.10000000\",\"order_size\":\"0.00100000\",\"remain_size\":\"0.00100000\",\"status\":\"Canceled\",\"transaction_id\":\"\",\"update_time\":0,\"execute_price\":\"0.0\",\"execute_size\":\"0.0\",\"quote_vol\":\"0.0\",\"commission\":\"0.0\",\"commission_asset\":\"\",\"is_maker\":false,\"message\":\"\"},\n",
       " {\"symbol\":\"BTCUSDT\",\"create_time\":1695819963761000,\"order_id\":\"10333473\",\"client_order_id\":\"bHj87mBywSbyzXgRImcprB\",\"order_side\":\"Buy\",\"order_type\":\"Limit\",\"order_price\":\"24000.10000000\",\"order_size\":\"0.00100000\",\"remain_size\":\"0.00100000\",\"status\":\"Canceled\",\"transaction_id\":\"\",\"update_time\":0,\"execute_price\":\"0.0\",\"execute_size\":\"0.0\",\"quote_vol\":\"0.0\",\"commission\":\"0.0\",\"commission_asset\":\"\",\"is_maker\":false,\"message\":\"\"},\n",
       " {\"symbol\":\"BTCUSDT\",\"create_time\":1695819963761000,\"order_id\":\"10334304\",\"client_order_id\":\"bHj87mBywSbyzXgRImcprB\",\"order_side\":\"Sell\",\"order_type\":\"Limit\",\"order_price\":\"28000.10000000\",\"order_size\":\"0.00100000\",\"remain_size\":\"0.00100000\",\"status\":\"Canceled\",\"transaction_id\":\"\",\"update_time\":0,\"execute_price\":\"0.0\",\"execute_size\":\"0.0\",\"quote_vol\":\"0.0\",\"commission\":\"0.0\",\"commission_asset\":\"\",\"is_maker\":false,\"message\":\"\"}]"
      ]
     },
     "execution_count": 4,
     "metadata": {},
     "output_type": "execute_result"
    }
   ],
   "source": [
    "binance.cancel_all_orders()"
   ]
  },
  {
   "cell_type": "code",
   "execution_count": null,
   "metadata": {},
   "outputs": [],
   "source": []
  }
 ],
 "metadata": {
  "kernelspec": {
   "display_name": "Python 3",
   "language": "python",
   "name": "python3"
  },
  "language_info": {
   "codemirror_mode": {
    "name": "ipython",
    "version": 3
   },
   "file_extension": ".py",
   "mimetype": "text/x-python",
   "name": "python",
   "nbconvert_exporter": "python",
   "pygments_lexer": "ipython3",
   "version": "3.11.4"
  },
  "orig_nbformat": 4
 },
 "nbformat": 4,
 "nbformat_minor": 2
}
