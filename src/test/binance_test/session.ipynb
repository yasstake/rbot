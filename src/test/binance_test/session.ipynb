{
 "cells": [
  {
   "cell_type": "code",
   "execution_count": null,
   "metadata": {},
   "outputs": [],
   "source": []
  },
  {
   "cell_type": "code",
   "execution_count": 1,
   "metadata": {},
   "outputs": [],
   "source": [
    "\n",
    "from rbot import Session\n",
    "from rbot import Runner\n",
    "from rbot import BinanceConfig\n",
    "from rbot import BinanceMarket\n",
    "from rbot import init_debug_log\n",
    "from rbot import init_log\n",
    "from rbot import OrderSide\n"
   ]
  },
  {
   "cell_type": "code",
   "execution_count": 2,
   "metadata": {},
   "outputs": [],
   "source": [
    "class MyAgent:\n",
    "    def __init__(self):\n",
    "        pass\n",
    "    \n",
    "    def on_clock(self):\n",
    "        pass\n",
    "    \n",
    "    def on_tick(self, session, side, price, size):\n",
    "        print(\"tick: \", session.current_time, side, price, size)\n",
    "        \n",
    "        market.limit_order(OrderSide.Sell, price + 100, 0.001)        \n",
    "        pass\n",
    "    \n",
    "    def on_update(self, session, updated_order):\n",
    "        print(\"buy order\", session.buy_orders)\n",
    "        print(\"sell order\", session.sell_orders)\n",
    "        print(\"account\", session.account)\n",
    "        print(\"update: \", session.current_time, updated_order)\n",
    "        pass"
   ]
  },
  {
   "cell_type": "code",
   "execution_count": 3,
   "metadata": {},
   "outputs": [],
   "source": [
    "config = BinanceConfig.TEST_BTCUSDT\n",
    "market = BinanceMarket(config)"
   ]
  },
  {
   "cell_type": "code",
   "execution_count": 4,
   "metadata": {},
   "outputs": [],
   "source": [
    "session = Session(market, False)"
   ]
  },
  {
   "cell_type": "code",
   "execution_count": 5,
   "metadata": {},
   "outputs": [
    {
     "name": "stdout",
     "output_type": "stream",
     "text": [
      "2023-09-27T09:48:22.546Z \u001b[35mDEBUG\u001b[0m [reqwest::connect] starting new connection: https://testnet.binance.vision/\n",
      "2023-09-27T09:48:22.805Z \u001b[35mDEBUG\u001b[0m [rbot::exchange] Response code = 200 / download size None / method(GET) / URL = https://testnet.binance.vision/api/v3/openOrders?symbol=BTCUSDT&recvWindow=6000&timestamp=1695808102545&signature=fb87e5482a0abfaec81edaa0f6159ef4ab355488209e3728aa75b70e89f13d33 / path\n",
      "2023-09-27T09:48:22.805Z \u001b[35mDEBUG\u001b[0m [rbot::exchange::binance::rest] AUTH GET: path/api/v3/openOrders / body: symbol=BTCUSDT / Ok(\"[{\\\"symbol\\\":\\\"BTCUSDT\\\",\\\"orderId\\\":10035273,\\\"orderListId\\\":-1,\\\"clientOrderId\\\":\\\"RIiiNEJRpQ9aC5JQjupSnp\\\",\\\"price\\\":\\\"24000.10000000\\\",\\\"origQty\\\":\\\"0.00100000\\\",\\\"executedQty\\\":\\\"0.00000000\\\",\\\"cummulativeQuoteQty\\\":\\\"0.00000000\\\",\\\"status\\\":\\\"NEW\\\",\\\"timeInForce\\\":\\\"GTC\\\",\\\"type\\\":\\\"LIMIT\\\",\\\"side\\\":\\\"BUY\\\",\\\"stopPrice\\\":\\\"0.00000000\\\",\\\"icebergQty\\\":\\\"0.00000000\\\",\\\"time\\\":1695776421103,\\\"updateTime\\\":1695776421103,\\\"isWorking\\\":true,\\\"workingTime\\\":1695776421103,\\\"origQuoteOrderQty\\\":\\\"0.00000000\\\",\\\"selfTradePreventionMode\\\":\\\"NONE\\\"},{\\\"symbol\\\":\\\"BTCUSDT\\\",\\\"orderId\\\":10037887,\\\"orderListId\\\":-1,\\\"clientOrderId\\\":\\\"tDs1o1YjpM72EUGYQwIwRr\\\",\\\"price\\\":\\\"24000.10000000\\\",\\\"origQty\\\":\\\"0.00100000\\\",\\\"executedQty\\\":\\\"0.00000000\\\",\\\"cummulativeQuoteQty\\\":\\\"0.00000000\\\",\\\"status\\\":\\\"NEW\\\",\\\"timeInForce\\\":\\\"GTC\\\",\\\"type\\\":\\\"LIMIT\\\",\\\"side\\\":\\\"BUY\\\",\\\"stopPrice\\\":\\\"0.00000000\\\",\\\"icebergQty\\\":\\\"0.00000000\\\",\\\"time\\\":1695776815205,\\\"updateTime\\\":1695776815205,\\\"isWorking\\\":true,\\\"workingTime\\\":1695776815205,\\\"origQuoteOrderQty\\\":\\\"0.00000000\\\",\\\"selfTradePreventionMode\\\":\\\"NONE\\\"},{\\\"symbol\\\":\\\"BTCUSDT\\\",\\\"orderId\\\":10038044,\\\"orderListId\\\":-1,\\\"clientOrderId\\\":\\\"8heeGyWa5GB9lPdZQ20cSt\\\",\\\"price\\\":\\\"24000.10000000\\\",\\\"origQty\\\":\\\"0.00100000\\\",\\\"executedQty\\\":\\\"0.00000000\\\",\\\"cummulativeQuoteQty\\\":\\\"0.00000000\\\",\\\"status\\\":\\\"NEW\\\",\\\"timeInForce\\\":\\\"GTC\\\",\\\"type\\\":\\\"LIMIT\\\",\\\"side\\\":\\\"BUY\\\",\\\"stopPrice\\\":\\\"0.00000000\\\",\\\"icebergQty\\\":\\\"0.00000000\\\",\\\"time\\\":1695776839487,\\\"updateTime\\\":1695776839487,\\\"isWorking\\\":true,\\\"workingTime\\\":1695776839487,\\\"origQuoteOrderQty\\\":\\\"0.00000000\\\",\\\"selfTradePreventionMode\\\":\\\"NONE\\\"},{\\\"symbol\\\":\\\"BTCUSDT\\\",\\\"orderId\\\":10038687,\\\"orderListId\\\":-1,\\\"clientOrderId\\\":\\\"IQyRfP0j7PUaBwaMcgkjWZ\\\",\\\"price\\\":\\\"24000.10000000\\\",\\\"origQty\\\":\\\"0.00100000\\\",\\\"executedQty\\\":\\\"0.00000000\\\",\\\"cummulativeQuoteQty\\\":\\\"0.00000000\\\",\\\"status\\\":\\\"NEW\\\",\\\"timeInForce\\\":\\\"GTC\\\",\\\"type\\\":\\\"LIMIT\\\",\\\"side\\\":\\\"BUY\\\",\\\"stopPrice\\\":\\\"0.00000000\\\",\\\"icebergQty\\\":\\\"0.00000000\\\",\\\"time\\\":1695776936074,\\\"updateTime\\\":1695776936074,\\\"isWorking\\\":true,\\\"workingTime\\\":1695776936074,\\\"origQuoteOrderQty\\\":\\\"0.00000000\\\",\\\"selfTradePreventionMode\\\":\\\"NONE\\\"},{\\\"symbol\\\":\\\"BTCUSDT\\\",\\\"orderId\\\":10039707,\\\"orderListId\\\":-1,\\\"clientOrderId\\\":\\\"Yrw15wl2GtmiNz5f9jyyNU\\\",\\\"price\\\":\\\"24000.10000000\\\",\\\"origQty\\\":\\\"0.00100000\\\",\\\"executedQty\\\":\\\"0.00000000\\\",\\\"cummulativeQuoteQty\\\":\\\"0.00000000\\\",\\\"status\\\":\\\"NEW\\\",\\\"timeInForce\\\":\\\"GTC\\\",\\\"type\\\":\\\"LIMIT\\\",\\\"side\\\":\\\"BUY\\\",\\\"stopPrice\\\":\\\"0.00000000\\\",\\\"icebergQty\\\":\\\"0.00000000\\\",\\\"time\\\":1695777091521,\\\"updateTime\\\":1695777091521,\\\"isWorking\\\":true,\\\"workingTime\\\":1695777091521,\\\"origQuoteOrderQty\\\":\\\"0.00000000\\\",\\\"selfTradePreventionMode\\\":\\\"NONE\\\"},{\\\"symbol\\\":\\\"BTCUSDT\\\",\\\"orderId\\\":10049799,\\\"orderListId\\\":-1,\\\"clientOrderId\\\":\\\"fwiOx31NdJqYnB2lgzQi0z\\\",\\\"price\\\":\\\"24000.10000000\\\",\\\"origQty\\\":\\\"0.00100000\\\",\\\"executedQty\\\":\\\"0.00000000\\\",\\\"cummulativeQuoteQty\\\":\\\"0.00000000\\\",\\\"status\\\":\\\"NEW\\\",\\\"timeInForce\\\":\\\"GTC\\\",\\\"type\\\":\\\"LIMIT\\\",\\\"side\\\":\\\"BUY\\\",\\\"stopPrice\\\":\\\"0.00000000\\\",\\\"icebergQty\\\":\\\"0.00000000\\\",\\\"time\\\":1695778614950,\\\"updateTime\\\":1695778614950,\\\"isWorking\\\":true,\\\"workingTime\\\":1695778614950,\\\"origQuoteOrderQty\\\":\\\"0.00000000\\\",\\\"selfTradePreventionMode\\\":\\\"NONE\\\"},{\\\"symbol\\\":\\\"BTCUSDT\\\",\\\"orderId\\\":10053014,\\\"orderListId\\\":-1,\\\"clientOrderId\\\":\\\"ygmzzqbqqYOsX2Q3k5Ig2M\\\",\\\"price\\\":\\\"24000.10000000\\\",\\\"origQty\\\":\\\"0.00100000\\\",\\\"executedQty\\\":\\\"0.00000000\\\",\\\"cummulativeQuoteQty\\\":\\\"0.00000000\\\",\\\"status\\\":\\\"NEW\\\",\\\"timeInForce\\\":\\\"GTC\\\",\\\"type\\\":\\\"LIMIT\\\",\\\"side\\\":\\\"BUY\\\",\\\"stopPrice\\\":\\\"0.00000000\\\",\\\"icebergQty\\\":\\\"0.00000000\\\",\\\"time\\\":1695779102436,\\\"updateTime\\\":1695779102436,\\\"isWorking\\\":true,\\\"workingTime\\\":1695779102436,\\\"origQuoteOrderQty\\\":\\\"0.00000000\\\",\\\"selfTradePreventionMode\\\":\\\"NONE\\\"},{\\\"symbol\\\":\\\"BTCUSDT\\\",\\\"orderId\\\":10057696,\\\"orderListId\\\":-1,\\\"clientOrderId\\\":\\\"DtMMzFEeiBUMv5iogbAqpp\\\",\\\"price\\\":\\\"24000.10000000\\\",\\\"origQty\\\":\\\"0.00100000\\\",\\\"executedQty\\\":\\\"0.00000000\\\",\\\"cummulativeQuoteQty\\\":\\\"0.00000000\\\",\\\"status\\\":\\\"NEW\\\",\\\"timeInForce\\\":\\\"GTC\\\",\\\"type\\\":\\\"LIMIT\\\",\\\"side\\\":\\\"BUY\\\",\\\"stopPrice\\\":\\\"0.00000000\\\",\\\"icebergQty\\\":\\\"0.00000000\\\",\\\"time\\\":1695779814332,\\\"updateTime\\\":1695779814332,\\\"isWorking\\\":true,\\\"workingTime\\\":1695779814332,\\\"origQuoteOrderQty\\\":\\\"0.00000000\\\",\\\"selfTradePreventionMode\\\":\\\"NONE\\\"},{\\\"symbol\\\":\\\"BTCUSDT\\\",\\\"orderId\\\":10069268,\\\"orderListId\\\":-1,\\\"clientOrderId\\\":\\\"sWKr61NkT2f7Dszs6WHJWg\\\",\\\"price\\\":\\\"24000.10000000\\\",\\\"origQty\\\":\\\"0.00100000\\\",\\\"executedQty\\\":\\\"0.00000000\\\",\\\"cummulativeQuoteQty\\\":\\\"0.00000000\\\",\\\"status\\\":\\\"NEW\\\",\\\"timeInForce\\\":\\\"GTC\\\",\\\"type\\\":\\\"LIMIT\\\",\\\"side\\\":\\\"BUY\\\",\\\"stopPrice\\\":\\\"0.00000000\\\",\\\"icebergQty\\\":\\\"0.00000000\\\",\\\"time\\\":1695781570877,\\\"updateTime\\\":1695781570877,\\\"isWorking\\\":true,\\\"workingTime\\\":1695781570877,\\\"origQuoteOrderQty\\\":\\\"0.00000000\\\",\\\"selfTradePreventionMode\\\":\\\"NONE\\\"}]\")\n",
      "2023-09-27T09:48:22.805Z \u001b[35mDEBUG\u001b[0m [rbot::exchange::binance::market] OpenOrder: Ok([BinanceOrderStatus { symbol: \"BTCUSDT\", orderId: 10035273, orderListId: -1, clientOrderId: \"RIiiNEJRpQ9aC5JQjupSnp\", price: 24000.10000000, origQty: 0.00100000, executedQty: 0.00000000, cummulativeQuoteQty: 0.00000000, status: New, timeInForce: \"GTC\", order_type: \"LIMIT\", side: \"BUY\", stopPrice: 0.00000000, icebergQty: 0.00000000, time: 1695776421103, updateTime: 1695776421103, isWorking: true, workingTime: 1695776421103, origQuoteOrderQty: 0.00000000, selfTradePreventionMode: \"NONE\" }, BinanceOrderStatus { symbol: \"BTCUSDT\", orderId: 10037887, orderListId: -1, clientOrderId: \"tDs1o1YjpM72EUGYQwIwRr\", price: 24000.10000000, origQty: 0.00100000, executedQty: 0.00000000, cummulativeQuoteQty: 0.00000000, status: New, timeInForce: \"GTC\", order_type: \"LIMIT\", side: \"BUY\", stopPrice: 0.00000000, icebergQty: 0.00000000, time: 1695776815205, updateTime: 1695776815205, isWorking: true, workingTime: 1695776815205, origQuoteOrderQty: 0.00000000, selfTradePreventionMode: \"NONE\" }, BinanceOrderStatus { symbol: \"BTCUSDT\", orderId: 10038044, orderListId: -1, clientOrderId: \"8heeGyWa5GB9lPdZQ20cSt\", price: 24000.10000000, origQty: 0.00100000, executedQty: 0.00000000, cummulativeQuoteQty: 0.00000000, status: New, timeInForce: \"GTC\", order_type: \"LIMIT\", side: \"BUY\", stopPrice: 0.00000000, icebergQty: 0.00000000, time: 1695776839487, updateTime: 1695776839487, isWorking: true, workingTime: 1695776839487, origQuoteOrderQty: 0.00000000, selfTradePreventionMode: \"NONE\" }, BinanceOrderStatus { symbol: \"BTCUSDT\", orderId: 10038687, orderListId: -1, clientOrderId: \"IQyRfP0j7PUaBwaMcgkjWZ\", price: 24000.10000000, origQty: 0.00100000, executedQty: 0.00000000, cummulativeQuoteQty: 0.00000000, status: New, timeInForce: \"GTC\", order_type: \"LIMIT\", side: \"BUY\", stopPrice: 0.00000000, icebergQty: 0.00000000, time: 1695776936074, updateTime: 1695776936074, isWorking: true, workingTime: 1695776936074, origQuoteOrderQty: 0.00000000, selfTradePreventionMode: \"NONE\" }, BinanceOrderStatus { symbol: \"BTCUSDT\", orderId: 10039707, orderListId: -1, clientOrderId: \"Yrw15wl2GtmiNz5f9jyyNU\", price: 24000.10000000, origQty: 0.00100000, executedQty: 0.00000000, cummulativeQuoteQty: 0.00000000, status: New, timeInForce: \"GTC\", order_type: \"LIMIT\", side: \"BUY\", stopPrice: 0.00000000, icebergQty: 0.00000000, time: 1695777091521, updateTime: 1695777091521, isWorking: true, workingTime: 1695777091521, origQuoteOrderQty: 0.00000000, selfTradePreventionMode: \"NONE\" }, BinanceOrderStatus { symbol: \"BTCUSDT\", orderId: 10049799, orderListId: -1, clientOrderId: \"fwiOx31NdJqYnB2lgzQi0z\", price: 24000.10000000, origQty: 0.00100000, executedQty: 0.00000000, cummulativeQuoteQty: 0.00000000, status: New, timeInForce: \"GTC\", order_type: \"LIMIT\", side: \"BUY\", stopPrice: 0.00000000, icebergQty: 0.00000000, time: 1695778614950, updateTime: 1695778614950, isWorking: true, workingTime: 1695778614950, origQuoteOrderQty: 0.00000000, selfTradePreventionMode: \"NONE\" }, BinanceOrderStatus { symbol: \"BTCUSDT\", orderId: 10053014, orderListId: -1, clientOrderId: \"ygmzzqbqqYOsX2Q3k5Ig2M\", price: 24000.10000000, origQty: 0.00100000, executedQty: 0.00000000, cummulativeQuoteQty: 0.00000000, status: New, timeInForce: \"GTC\", order_type: \"LIMIT\", side: \"BUY\", stopPrice: 0.00000000, icebergQty: 0.00000000, time: 1695779102436, updateTime: 1695779102436, isWorking: true, workingTime: 1695779102436, origQuoteOrderQty: 0.00000000, selfTradePreventionMode: \"NONE\" }, BinanceOrderStatus { symbol: \"BTCUSDT\", orderId: 10057696, orderListId: -1, clientOrderId: \"DtMMzFEeiBUMv5iogbAqpp\", price: 24000.10000000, origQty: 0.00100000, executedQty: 0.00000000, cummulativeQuoteQty: 0.00000000, status: New, timeInForce: \"GTC\", order_type: \"LIMIT\", side: \"BUY\", stopPrice: 0.00000000, icebergQty: 0.00000000, time: 1695779814332, updateTime: 1695779814332, isWorking: true, workingTime: 1695779814332, origQuoteOrderQty: 0.00000000, selfTradePreventionMode: \"NONE\" }, BinanceOrderStatus { symbol: \"BTCUSDT\", orderId: 10069268, orderListId: -1, clientOrderId: \"sWKr61NkT2f7Dszs6WHJWg\", price: 24000.10000000, origQty: 0.00100000, executedQty: 0.00000000, cummulativeQuoteQty: 0.00000000, status: New, timeInForce: \"GTC\", order_type: \"LIMIT\", side: \"BUY\", stopPrice: 0.00000000, icebergQty: 0.00000000, time: 1695781570877, updateTime: 1695781570877, isWorking: true, workingTime: 1695781570877, origQuoteOrderQty: 0.00000000, selfTradePreventionMode: \"NONE\" }])\n",
      "2023-09-27T09:48:22.805Z \u001b[35mDEBUG\u001b[0m [rbot::session::session] OpenOrders Py(0x113efe340)\n",
      "2023-09-27T09:48:22.805Z \u001b[35mDEBUG\u001b[0m [rbot::session::session] OpenOrder Order { symbol: \"BTCUSDT\", create_time: 1695776421103000, order_id: \"10035273\", client_order_id: \"RIiiNEJRpQ9aC5JQjupSnp\", order_side: Buy, order_type: Limit, order_price: 24000.10000000, order_size: 0.00100000, remain_size: 0.00100000, status: New, transaction_id: \"\", update_time: 1695776421103000, execute_price: 0.0, execute_size: 0.00000000, quote_vol: 0.0, commission: 0.0, commission_asset: \"\", is_maker: true, message: \"\" }\n",
      "2023-09-27T09:48:22.805Z \u001b[35mDEBUG\u001b[0m [rbot::session::session] OpenOrder Order { symbol: \"BTCUSDT\", create_time: 1695776815205000, order_id: \"10037887\", client_order_id: \"tDs1o1YjpM72EUGYQwIwRr\", order_side: Buy, order_type: Limit, order_price: 24000.10000000, order_size: 0.00100000, remain_size: 0.00100000, status: New, transaction_id: \"\", update_time: 1695776815205000, execute_price: 0.0, execute_size: 0.00000000, quote_vol: 0.0, commission: 0.0, commission_asset: \"\", is_maker: true, message: \"\" }\n",
      "2023-09-27T09:48:22.805Z \u001b[35mDEBUG\u001b[0m [rbot::session::session] OpenOrder Order { symbol: \"BTCUSDT\", create_time: 1695776839487000, order_id: \"10038044\", client_order_id: \"8heeGyWa5GB9lPdZQ20cSt\", order_side: Buy, order_type: Limit, order_price: 24000.10000000, order_size: 0.00100000, remain_size: 0.00100000, status: New, transaction_id: \"\", update_time: 1695776839487000, execute_price: 0.0, execute_size: 0.00000000, quote_vol: 0.0, commission: 0.0, commission_asset: \"\", is_maker: true, message: \"\" }\n",
      "2023-09-27T09:48:22.805Z \u001b[35mDEBUG\u001b[0m [rbot::session::session] OpenOrder Order { symbol: \"BTCUSDT\", create_time: 1695776936074000, order_id: \"10038687\", client_order_id: \"IQyRfP0j7PUaBwaMcgkjWZ\", order_side: Buy, order_type: Limit, order_price: 24000.10000000, order_size: 0.00100000, remain_size: 0.00100000, status: New, transaction_id: \"\", update_time: 1695776936074000, execute_price: 0.0, execute_size: 0.00000000, quote_vol: 0.0, commission: 0.0, commission_asset: \"\", is_maker: true, message: \"\" }\n",
      "2023-09-27T09:48:22.805Z \u001b[35mDEBUG\u001b[0m [rbot::session::session] OpenOrder Order { symbol: \"BTCUSDT\", create_time: 1695777091521000, order_id: \"10039707\", client_order_id: \"Yrw15wl2GtmiNz5f9jyyNU\", order_side: Buy, order_type: Limit, order_price: 24000.10000000, order_size: 0.00100000, remain_size: 0.00100000, status: New, transaction_id: \"\", update_time: 1695777091521000, execute_price: 0.0, execute_size: 0.00000000, quote_vol: 0.0, commission: 0.0, commission_asset: \"\", is_maker: true, message: \"\" }\n",
      "2023-09-27T09:48:22.805Z \u001b[35mDEBUG\u001b[0m [rbot::session::session] OpenOrder Order { symbol: \"BTCUSDT\", create_time: 1695778614950000, order_id: \"10049799\", client_order_id: \"fwiOx31NdJqYnB2lgzQi0z\", order_side: Buy, order_type: Limit, order_price: 24000.10000000, order_size: 0.00100000, remain_size: 0.00100000, status: New, transaction_id: \"\", update_time: 1695778614950000, execute_price: 0.0, execute_size: 0.00000000, quote_vol: 0.0, commission: 0.0, commission_asset: \"\", is_maker: true, message: \"\" }\n",
      "2023-09-27T09:48:22.805Z \u001b[35mDEBUG\u001b[0m [rbot::session::session] OpenOrder Order { symbol: \"BTCUSDT\", create_time: 1695779102436000, order_id: \"10053014\", client_order_id: \"ygmzzqbqqYOsX2Q3k5Ig2M\", order_side: Buy, order_type: Limit, order_price: 24000.10000000, order_size: 0.00100000, remain_size: 0.00100000, status: New, transaction_id: \"\", update_time: 1695779102436000, execute_price: 0.0, execute_size: 0.00000000, quote_vol: 0.0, commission: 0.0, commission_asset: \"\", is_maker: true, message: \"\" }\n",
      "2023-09-27T09:48:22.805Z \u001b[35mDEBUG\u001b[0m [rbot::session::session] OpenOrder Order { symbol: \"BTCUSDT\", create_time: 1695779814332000, order_id: \"10057696\", client_order_id: \"DtMMzFEeiBUMv5iogbAqpp\", order_side: Buy, order_type: Limit, order_price: 24000.10000000, order_size: 0.00100000, remain_size: 0.00100000, status: New, transaction_id: \"\", update_time: 1695779814332000, execute_price: 0.0, execute_size: 0.00000000, quote_vol: 0.0, commission: 0.0, commission_asset: \"\", is_maker: true, message: \"\" }\n",
      "2023-09-27T09:48:22.805Z \u001b[35mDEBUG\u001b[0m [rbot::session::session] OpenOrder Order { symbol: \"BTCUSDT\", create_time: 1695781570877000, order_id: \"10069268\", client_order_id: \"sWKr61NkT2f7Dszs6WHJWg\", order_side: Buy, order_type: Limit, order_price: 24000.10000000, order_size: 0.00100000, remain_size: 0.00100000, status: New, transaction_id: \"\", update_time: 1695781570877000, execute_price: 0.0, execute_size: 0.00000000, quote_vol: 0.0, commission: 0.0, commission_asset: \"\", is_maker: true, message: \"\" }\n"
     ]
    }
   ],
   "source": [
    "init_debug_log()\n",
    "session.load_order_list()"
   ]
  },
  {
   "cell_type": "code",
   "execution_count": 6,
   "metadata": {},
   "outputs": [
    {
     "name": "stdout",
     "output_type": "stream",
     "text": [
      "2023-09-27T09:48:27.394Z \u001b[35mDEBUG\u001b[0m [reqwest::connect] starting new connection: https://testnet.binance.vision/\n",
      "2023-09-27T09:48:27.478Z \u001b[35mDEBUG\u001b[0m [rbot::exchange] Response code = 200 / download size None / method(GET) / URL = https://testnet.binance.vision/api/v3/openOrders?symbol=BTCUSDT&recvWindow=6000&timestamp=1695808107394&signature=95b7ef434b2bc013d21cb82cffcb30b05e309cbdf2dabbc7e1b2e194da82c716 / path\n",
      "2023-09-27T09:48:27.478Z \u001b[35mDEBUG\u001b[0m [rbot::exchange::binance::rest] AUTH GET: path/api/v3/openOrders / body: symbol=BTCUSDT / Ok(\"[{\\\"symbol\\\":\\\"BTCUSDT\\\",\\\"orderId\\\":10035273,\\\"orderListId\\\":-1,\\\"clientOrderId\\\":\\\"RIiiNEJRpQ9aC5JQjupSnp\\\",\\\"price\\\":\\\"24000.10000000\\\",\\\"origQty\\\":\\\"0.00100000\\\",\\\"executedQty\\\":\\\"0.00000000\\\",\\\"cummulativeQuoteQty\\\":\\\"0.00000000\\\",\\\"status\\\":\\\"NEW\\\",\\\"timeInForce\\\":\\\"GTC\\\",\\\"type\\\":\\\"LIMIT\\\",\\\"side\\\":\\\"BUY\\\",\\\"stopPrice\\\":\\\"0.00000000\\\",\\\"icebergQty\\\":\\\"0.00000000\\\",\\\"time\\\":1695776421103,\\\"updateTime\\\":1695776421103,\\\"isWorking\\\":true,\\\"workingTime\\\":1695776421103,\\\"origQuoteOrderQty\\\":\\\"0.00000000\\\",\\\"selfTradePreventionMode\\\":\\\"NONE\\\"},{\\\"symbol\\\":\\\"BTCUSDT\\\",\\\"orderId\\\":10037887,\\\"orderListId\\\":-1,\\\"clientOrderId\\\":\\\"tDs1o1YjpM72EUGYQwIwRr\\\",\\\"price\\\":\\\"24000.10000000\\\",\\\"origQty\\\":\\\"0.00100000\\\",\\\"executedQty\\\":\\\"0.00000000\\\",\\\"cummulativeQuoteQty\\\":\\\"0.00000000\\\",\\\"status\\\":\\\"NEW\\\",\\\"timeInForce\\\":\\\"GTC\\\",\\\"type\\\":\\\"LIMIT\\\",\\\"side\\\":\\\"BUY\\\",\\\"stopPrice\\\":\\\"0.00000000\\\",\\\"icebergQty\\\":\\\"0.00000000\\\",\\\"time\\\":1695776815205,\\\"updateTime\\\":1695776815205,\\\"isWorking\\\":true,\\\"workingTime\\\":1695776815205,\\\"origQuoteOrderQty\\\":\\\"0.00000000\\\",\\\"selfTradePreventionMode\\\":\\\"NONE\\\"},{\\\"symbol\\\":\\\"BTCUSDT\\\",\\\"orderId\\\":10038044,\\\"orderListId\\\":-1,\\\"clientOrderId\\\":\\\"8heeGyWa5GB9lPdZQ20cSt\\\",\\\"price\\\":\\\"24000.10000000\\\",\\\"origQty\\\":\\\"0.00100000\\\",\\\"executedQty\\\":\\\"0.00000000\\\",\\\"cummulativeQuoteQty\\\":\\\"0.00000000\\\",\\\"status\\\":\\\"NEW\\\",\\\"timeInForce\\\":\\\"GTC\\\",\\\"type\\\":\\\"LIMIT\\\",\\\"side\\\":\\\"BUY\\\",\\\"stopPrice\\\":\\\"0.00000000\\\",\\\"icebergQty\\\":\\\"0.00000000\\\",\\\"time\\\":1695776839487,\\\"updateTime\\\":1695776839487,\\\"isWorking\\\":true,\\\"workingTime\\\":1695776839487,\\\"origQuoteOrderQty\\\":\\\"0.00000000\\\",\\\"selfTradePreventionMode\\\":\\\"NONE\\\"},{\\\"symbol\\\":\\\"BTCUSDT\\\",\\\"orderId\\\":10038687,\\\"orderListId\\\":-1,\\\"clientOrderId\\\":\\\"IQyRfP0j7PUaBwaMcgkjWZ\\\",\\\"price\\\":\\\"24000.10000000\\\",\\\"origQty\\\":\\\"0.00100000\\\",\\\"executedQty\\\":\\\"0.00000000\\\",\\\"cummulativeQuoteQty\\\":\\\"0.00000000\\\",\\\"status\\\":\\\"NEW\\\",\\\"timeInForce\\\":\\\"GTC\\\",\\\"type\\\":\\\"LIMIT\\\",\\\"side\\\":\\\"BUY\\\",\\\"stopPrice\\\":\\\"0.00000000\\\",\\\"icebergQty\\\":\\\"0.00000000\\\",\\\"time\\\":1695776936074,\\\"updateTime\\\":1695776936074,\\\"isWorking\\\":true,\\\"workingTime\\\":1695776936074,\\\"origQuoteOrderQty\\\":\\\"0.00000000\\\",\\\"selfTradePreventionMode\\\":\\\"NONE\\\"},{\\\"symbol\\\":\\\"BTCUSDT\\\",\\\"orderId\\\":10039707,\\\"orderListId\\\":-1,\\\"clientOrderId\\\":\\\"Yrw15wl2GtmiNz5f9jyyNU\\\",\\\"price\\\":\\\"24000.10000000\\\",\\\"origQty\\\":\\\"0.00100000\\\",\\\"executedQty\\\":\\\"0.00000000\\\",\\\"cummulativeQuoteQty\\\":\\\"0.00000000\\\",\\\"status\\\":\\\"NEW\\\",\\\"timeInForce\\\":\\\"GTC\\\",\\\"type\\\":\\\"LIMIT\\\",\\\"side\\\":\\\"BUY\\\",\\\"stopPrice\\\":\\\"0.00000000\\\",\\\"icebergQty\\\":\\\"0.0"
     ]
    },
    {
     "data": {
      "text/plain": [
       "[{\"symbol\":\"BTCUSDT\",\"create_time\":1695776421103000,\"order_id\":\"10035273\",\"client_order_id\":\"RIiiNEJRpQ9aC5JQjupSnp\",\"order_side\":\"Buy\",\"order_type\":\"Limit\",\"order_price\":\"24000.10000000\",\"order_size\":\"0.00100000\",\"remain_size\":\"0.00100000\",\"status\":\"New\",\"transaction_id\":\"\",\"update_time\":1695776421103000,\"execute_price\":\"0.0\",\"execute_size\":\"0.00000000\",\"quote_vol\":\"0.0\",\"commission\":\"0.0\",\"commission_asset\":\"\",\"is_maker\":true,\"message\":\"\"},\n",
       " {\"symbol\":\"BTCUSDT\",\"create_time\":1695776815205000,\"order_id\":\"10037887\",\"client_order_id\":\"tDs1o1YjpM72EUGYQwIwRr\",\"order_side\":\"Buy\",\"order_type\":\"Limit\",\"order_price\":\"24000.10000000\",\"order_size\":\"0.00100000\",\"remain_size\":\"0.00100000\",\"status\":\"New\",\"transaction_id\":\"\",\"update_time\":1695776815205000,\"execute_price\":\"0.0\",\"execute_size\":\"0.00000000\",\"quote_vol\":\"0.0\",\"commission\":\"0.0\",\"commission_asset\":\"\",\"is_maker\":true,\"message\":\"\"},\n",
       " {\"symbol\":\"BTCUSDT\",\"create_time\":1695776839487000,\"order_id\":\"10038044\",\"client_order_id\":\"8heeGyWa5GB9lPdZQ20cSt\",\"order_side\":\"Buy\",\"order_type\":\"Limit\",\"order_price\":\"24000.10000000\",\"order_size\":\"0.00100000\",\"remain_size\":\"0.00100000\",\"status\":\"New\",\"transaction_id\":\"\",\"update_time\":1695776839487000,\"execute_price\":\"0.0\",\"execute_size\":\"0.00000000\",\"quote_vol\":\"0.0\",\"commission\":\"0.0\",\"commission_asset\":\"\",\"is_maker\":true,\"message\":\"\"},\n",
       " {\"symbol\":\"BTCUSDT\",\"create_time\":1695776936074000,\"order_id\":\"10038687\",\"client_order_id\":\"IQyRfP0j7PUaBwaMcgkjWZ\",\"order_side\":\"Buy\",\"order_type\":\"Limit\",\"order_price\":\"24000.10000000\",\"order_size\":\"0.00100000\",\"remain_size\":\"0.00100000\",\"status\":\"New\",\"transaction_id\":\"\",\"update_time\":1695776936074000,\"execute_price\":\"0.0\",\"execute_size\":\"0.00000000\",\"quote_vol\":\"0.0\",\"commission\":\"0.0\",\"commission_asset\":\"\",\"is_maker\":true,\"message\":\"\"},\n",
       " {\"symbol\":\"BTCUSDT\",\"create_time\":1695777091521000,\"order_id\":\"10039707\",\"client_order_id\":\"Yrw15wl2GtmiNz5f9jyyNU\",\"order_side\":\"Buy\",\"order_type\":\"Limit\",\"order_price\":\"24000.10000000\",\"order_size\":\"0.00100000\",\"remain_size\":\"0.00100000\",\"status\":\"New\",\"transaction_id\":\"\",\"update_time\":1695777091521000,\"execute_price\":\"0.0\",\"execute_size\":\"0.00000000\",\"quote_vol\":\"0.0\",\"commission\":\"0.0\",\"commission_asset\":\"\",\"is_maker\":true,\"message\":\"\"},\n",
       " {\"symbol\":\"BTCUSDT\",\"create_time\":1695778614950000,\"order_id\":\"10049799\",\"client_order_id\":\"fwiOx31NdJqYnB2lgzQi0z\",\"order_side\":\"Buy\",\"order_type\":\"Limit\",\"order_price\":\"24000.10000000\",\"order_size\":\"0.00100000\",\"remain_size\":\"0.00100000\",\"status\":\"New\",\"transaction_id\":\"\",\"update_time\":1695778614950000,\"execute_price\":\"0.0\",\"execute_size\":\"0.00000000\",\"quote_vol\":\"0.0\",\"commission\":\"0.0\",\"commission_asset\":\"\",\"is_maker\":true,\"message\":\"\"},\n",
       " {\"symbol\":\"BTCUSDT\",\"create_time\":1695779102436000,\"order_id\":\"10053014\",\"client_order_id\":\"ygmzzqbqqYOsX2Q3k5Ig2M\",\"order_side\":\"Buy\",\"order_type\":\"Limit\",\"order_price\":\"24000.10000000\",\"order_size\":\"0.00100000\",\"remain_size\":\"0.00100000\",\"status\":\"New\",\"transaction_id\":\"\",\"update_time\":1695779102436000,\"execute_price\":\"0.0\",\"execute_size\":\"0.00000000\",\"quote_vol\":\"0.0\",\"commission\":\"0.0\",\"commission_asset\":\"\",\"is_maker\":true,\"message\":\"\"},\n",
       " {\"symbol\":\"BTCUSDT\",\"create_time\":1695779814332000,\"order_id\":\"10057696\",\"client_order_id\":\"DtMMzFEeiBUMv5iogbAqpp\",\"order_side\":\"Buy\",\"order_type\":\"Limit\",\"order_price\":\"24000.10000000\",\"order_size\":\"0.00100000\",\"remain_size\":\"0.00100000\",\"status\":\"New\",\"transaction_id\":\"\",\"update_time\":1695779814332000,\"execute_price\":\"0.0\",\"execute_size\":\"0.00000000\",\"quote_vol\":\"0.0\",\"commission\":\"0.0\",\"commission_asset\":\"\",\"is_maker\":true,\"message\":\"\"},\n",
       " {\"symbol\":\"BTCUSDT\",\"create_time\":1695781570877000,\"order_id\":\"10069268\",\"client_order_id\":\"sWKr61NkT2f7Dszs6WHJWg\",\"order_side\":\"Buy\",\"order_type\":\"Limit\",\"order_price\":\"24000.10000000\",\"order_size\":\"0.00100000\",\"remain_size\":\"0.00100000\",\"status\":\"New\",\"transaction_id\":\"\",\"update_time\":1695781570877000,\"execute_price\":\"0.0\",\"execute_size\":\"0.00000000\",\"quote_vol\":\"0.0\",\"commission\":\"0.0\",\"commission_asset\":\"\",\"is_maker\":true,\"message\":\"\"}]"
      ]
     },
     "execution_count": 6,
     "metadata": {},
     "output_type": "execute_result"
    },
    {
     "name": "stdout",
     "output_type": "stream",
     "text": [
      "0000000\\\",\\\"time\\\":1695777091521,\\\"updateTime\\\":1695777091521,\\\"isWorking\\\":true,\\\"workingTime\\\":1695777091521,\\\"origQuoteOrderQty\\\":\\\"0.00000000\\\",\\\"selfTradePreventionMode\\\":\\\"NONE\\\"},{\\\"symbol\\\":\\\"BTCUSDT\\\",\\\"orderId\\\":10049799,\\\"orderListId\\\":-1,\\\"clientOrderId\\\":\\\"fwiOx31NdJqYnB2lgzQi0z\\\",\\\"price\\\":\\\"24000.10000000\\\",\\\"origQty\\\":\\\"0.00100000\\\",\\\"executedQty\\\":\\\"0.00000000\\\",\\\"cummulativeQuoteQty\\\":\\\"0.00000000\\\",\\\"status\\\":\\\"NEW\\\",\\\"timeInForce\\\":\\\"GTC\\\",\\\"type\\\":\\\"LIMIT\\\",\\\"side\\\":\\\"BUY\\\",\\\"stopPrice\\\":\\\"0.00000000\\\",\\\"icebergQty\\\":\\\"0.00000000\\\",\\\"time\\\":1695778614950,\\\"updateTime\\\":1695778614950,\\\"isWorking\\\":true,\\\"workingTime\\\":1695778614950,\\\"origQuoteOrderQty\\\":\\\"0.00000000\\\",\\\"selfTradePreventionMode\\\":\\\"NONE\\\"},{\\\"symbol\\\":\\\"BTCUSDT\\\",\\\"orderId\\\":10053014,\\\"orderListId\\\":-1,\\\"clientOrderId\\\":\\\"ygmzzqbqqYOsX2Q3k5Ig2M\\\",\\\"price\\\":\\\"24000.10000000\\\",\\\"origQty\\\":\\\"0.00100000\\\",\\\"executedQty\\\":\\\"0.00000000\\\",\\\"cummulativeQuoteQty\\\":\\\"0.00000000\\\",\\\"status\\\":\\\"NEW\\\",\\\"timeInForce\\\":\\\"GTC\\\",\\\"type\\\":\\\"LIMIT\\\",\\\"side\\\":\\\"BUY\\\",\\\"stopPrice\\\":\\\"0.00000000\\\",\\\"icebergQty\\\":\\\"0.00000000\\\",\\\"time\\\":1695779102436,\\\"updateTime\\\":1695779102436,\\\"isWorking\\\":true,\\\"workingTime\\\":1695779102436,\\\"origQuoteOrderQty\\\":\\\"0.00000000\\\",\\\"selfTradePreventionMode\\\":\\\"NONE\\\"},{\\\"symbol\\\":\\\"BTCUSDT\\\",\\\"orderId\\\":10057696,\\\"orderListId\\\":-1,\\\"clientOrderId\\\":\\\"DtMMzFEeiBUMv5iogbAqpp\\\",\\\"price\\\":\\\"24000.10000000\\\",\\\"origQty\\\":\\\"0.00100000\\\",\\\"executedQty\\\":\\\"0.00000000\\\",\\\"cummulativeQuoteQty\\\":\\\"0.00000000\\\",\\\"status\\\":\\\"NEW\\\",\\\"timeInForce\\\":\\\"GTC\\\",\\\"type\\\":\\\"LIMIT\\\",\\\"side\\\":\\\"BUY\\\",\\\"stopPrice\\\":\\\"0.00000000\\\",\\\"icebergQty\\\":\\\"0.00000000\\\",\\\"time\\\":1695779814332,\\\"updateTime\\\":1695779814332,\\\"isWorking\\\":true,\\\"workingTime\\\":1695779814332,\\\"origQuoteOrderQty\\\":\\\"0.00000000\\\",\\\"selfTradePreventionMode\\\":\\\"NONE\\\"},{\\\"symbol\\\":\\\"BTCUSDT\\\",\\\"orderId\\\":10069268,\\\"orderListId\\\":-1,\\\"clientOrderId\\\":\\\"sWKr61NkT2f7Dszs6WHJWg\\\",\\\"price\\\":\\\"24000.10000000\\\",\\\"origQty\\\":\\\"0.00100000\\\",\\\"executedQty\\\":\\\"0.00000000\\\",\\\"cummulativeQuoteQty\\\":\\\"0.00000000\\\",\\\"status\\\":\\\"NEW\\\",\\\"timeInForce\\\":\\\"GTC\\\",\\\"type\\\":\\\"LIMIT\\\",\\\"side\\\":\\\"BUY\\\",\\\"stopPrice\\\":\\\"0.00000000\\\",\\\"icebergQty\\\":\\\"0.00000000\\\",\\\"time\\\":1695781570877,\\\"updateTime\\\":1695781570877,\\\"isWorking\\\":true,\\\"workingTime\\\":1695781570877,\\\"origQuoteOrderQty\\\":\\\"0.00000000\\\",\\\"selfTradePreventionMode\\\":\\\"NONE\\\"}]\")\n",
      "2023-09-27T09:48:27.478Z \u001b[35mDEBUG\u001b[0m [rbot::exchange::binance::market] OpenOrder: Ok([BinanceOrderStatus { symbol: \"BTCUSDT\", orderId: 10035273, orderListId: -1, clientOrderId: \"RIiiNEJRpQ9aC5JQjupSnp\", price: 24000.10000000, origQty: 0.00100000, executedQty: 0.00000000, cummulativeQuoteQty: 0.00000000, status: New, timeInForce: \"GTC\", order_type: \"LIMIT\", side: \"BUY\", stopPrice: 0.00000000, icebergQty: 0.00000000, time: 1695776421103, updateTime: 1695776421103, isWorking: true, workingTime: 1695776421103, origQuoteOrderQty: 0.00000000, selfTradePreventionMode: \"NONE\" }, BinanceOrderStatus { symbol: \"BTCUSDT\", orderId: 10037887, orderListId: -1, clientOrderId: \"tDs1o1YjpM72EUGYQwIwRr\", price: 24000.10000000, origQty: 0.00100000, executedQty: 0.00000000, cummulativeQuoteQty: 0.00000000, status: New, timeInForce: \"GTC\", order_type: \"LIMIT\", side: \"BUY\", stopPrice: 0.00000000, icebergQty: 0.00000000, time: 1695776815205, updateTime: 1695776815205, isWorking: true, workingTime: 1695776815205, origQuoteOrderQty: 0.00000000, selfTradePreventionMode: \"NONE\" }, BinanceOrderStatus { symbol: \"BTCUSDT\", orderId: 10038044, orderListId: -1, clientOrderId: \"8heeGyWa5GB9lPdZQ20cSt\", price: 24000.10000000, origQty: 0.00100000, executedQty: 0.00000000, cummulativeQuoteQty: 0.00000000, status: New, timeInForce: \"GTC\", order_type: \"LIMIT\", side: \"BUY\", stopPrice: 0.00000000, icebergQty: 0.00000000, time: 1695776839487, updateTime: 1695776839487, isWorking: true, workingTime: 1695776839487, origQuoteOrderQty: 0.00000000, selfTradePreventionMode: \"NONE\" }, BinanceOrderStatus { symbol: \"BTCUSDT\", orderId: 10038687, orderListId: -1, clientOrderId: \"IQyRfP0j7PUaBwaMcgkjWZ\", price: 24000.10000000, origQty: 0.00100000, executedQty: 0.00000000, cummulativeQuoteQty: 0.00000000, status: New, timeInForce: \"GTC\", order_type: \"LIMIT\", side: \"BUY\", stopPrice: 0.00000000, icebergQty: 0.00000000, time: 1695776936074, updateTime: 1695776936074, isWorking: true, workingTime: 1695776936074, origQuoteOrderQty: 0.00000000, selfTradePreventionMode: \"NONE\" }, BinanceOrderStatus { symbol: \"BTCUSDT\", orderId: 10039707, orderListId: -1, clientOrderId: \"Yrw15wl2GtmiNz5f9jyyNU\", price: 24000.10000000, origQty: 0.00100000, executedQty: 0.00000000, cummulativeQuoteQty: 0.00000000, status: New, timeInForce: \"GTC\", order_type: \"LIMIT\", side: \"BUY\", stopPrice: 0.00000000, icebergQty: 0.00000000, time: 1695777091521, updateTime: 1695777091521, isWorking: true, workingTime: 1695777091521, origQuoteOrderQty: 0.00000000, selfTradePreventionMode: \"NONE\" }, BinanceOrderStatus { symbol: \"BTCUSDT\", orderId: 10049799, orderListId: -1, clientOrderId: \"fwiOx31NdJqYnB2lgzQi0z\", price: 24000.10000000, origQty: 0.00100000, executedQty: 0.00000000, cummulativeQuoteQty: 0.00000000, status: New, timeInForce: \"GTC\", order_type: \"LIMIT\", side: \"BUY\", stopPrice: 0.00000000, icebergQty: 0.00000000, time: 1695778614950, updateTime: 1695778614950, isWorking: true, workingTime: 1695778614950, origQuoteOrderQty: 0.00000000, selfTradePreventionMode: \"NONE\" }, BinanceOrderStatus { symbol: \"BTCUSDT\", orderId: 10053014, orderListId: -1, clientOrderId: \"ygmzzqbqqYOsX2Q3k5Ig2M\", price: 24000.10000000, origQty: 0.00100000, executedQty: 0.00000000, cummulativeQuoteQty: 0.00000000, status: New, timeInForce: \"GTC\", order_type: \"LIMIT\", side: \"BUY\", stopPrice: 0.00000000, icebergQty: 0.00000000, time: 1695779102436, updateTime: 1695779102436, isWorking: true, workingTime: 1695779102436, origQuoteOrderQty: 0.00000000, selfTradePreventionMode: \"NONE\" }, BinanceOrderStatus { symbol: \"BTCUSDT\", orderId: 10057696, orderListId: -1, clientOrderId: \"DtMMzFEeiBUMv5iogbAqpp\", price: 24000.10000000, origQty: 0.00100000, executedQty: 0.00000000, cummulativeQuoteQty: 0.00000000, status: New, timeInForce: \"GTC\", order_type: \"LIMIT\", side: \"BUY\", stopPrice: 0.00000000, icebergQty: 0.00000000, time: 1695779814332, updateTime: 1695779814332, isWorking: true, workingTime: 1695779814332, origQuoteOrderQty: 0.00000000, selfTradePreventionMode: \"NONE\" }, BinanceOrderStatus { symbol: \"BTCUSDT\", orderId: 10069268, orderListId: -1, clientOrderId: \"sWKr61NkT2f7Dszs6WHJWg\", price: 24000.10000000, origQty: 0.00100000, executedQty: 0.00000000, cummulativeQuoteQty: 0.00000000, status: New, timeInForce: \"GTC\", order_type: \"LIMIT\", side: \"BUY\", stopPrice: 0.00000000, icebergQty: 0.00000000, time: 1695781570877, updateTime: 1695781570877, isWorking: true, workingTime: 1695781570877, origQuoteOrderQty: 0.00000000, selfTradePreventionMode: \"NONE\" }])\n"
     ]
    }
   ],
   "source": [
    "market.open_orders"
   ]
  },
  {
   "cell_type": "code",
   "execution_count": 7,
   "metadata": {},
   "outputs": [
    {
     "data": {
      "text/plain": [
       "[{\"symbol\":\"BTCUSDT\",\"create_time\":1695776421103000,\"order_id\":\"10035273\",\"client_order_id\":\"RIiiNEJRpQ9aC5JQjupSnp\",\"order_side\":\"Buy\",\"order_type\":\"Limit\",\"order_price\":\"24000.10000000\",\"order_size\":\"0.00100000\",\"remain_size\":\"0.00100000\",\"status\":\"New\",\"transaction_id\":\"\",\"update_time\":1695776421103000,\"execute_price\":\"0.0\",\"execute_size\":\"0.00000000\",\"quote_vol\":\"0.0\",\"commission\":\"0.0\",\"commission_asset\":\"\",\"is_maker\":true,\"message\":\"\"},\n",
       " {\"symbol\":\"BTCUSDT\",\"create_time\":1695776815205000,\"order_id\":\"10037887\",\"client_order_id\":\"tDs1o1YjpM72EUGYQwIwRr\",\"order_side\":\"Buy\",\"order_type\":\"Limit\",\"order_price\":\"24000.10000000\",\"order_size\":\"0.00100000\",\"remain_size\":\"0.00100000\",\"status\":\"New\",\"transaction_id\":\"\",\"update_time\":1695776815205000,\"execute_price\":\"0.0\",\"execute_size\":\"0.00000000\",\"quote_vol\":\"0.0\",\"commission\":\"0.0\",\"commission_asset\":\"\",\"is_maker\":true,\"message\":\"\"},\n",
       " {\"symbol\":\"BTCUSDT\",\"create_time\":1695776839487000,\"order_id\":\"10038044\",\"client_order_id\":\"8heeGyWa5GB9lPdZQ20cSt\",\"order_side\":\"Buy\",\"order_type\":\"Limit\",\"order_price\":\"24000.10000000\",\"order_size\":\"0.00100000\",\"remain_size\":\"0.00100000\",\"status\":\"New\",\"transaction_id\":\"\",\"update_time\":1695776839487000,\"execute_price\":\"0.0\",\"execute_size\":\"0.00000000\",\"quote_vol\":\"0.0\",\"commission\":\"0.0\",\"commission_asset\":\"\",\"is_maker\":true,\"message\":\"\"},\n",
       " {\"symbol\":\"BTCUSDT\",\"create_time\":1695776936074000,\"order_id\":\"10038687\",\"client_order_id\":\"IQyRfP0j7PUaBwaMcgkjWZ\",\"order_side\":\"Buy\",\"order_type\":\"Limit\",\"order_price\":\"24000.10000000\",\"order_size\":\"0.00100000\",\"remain_size\":\"0.00100000\",\"status\":\"New\",\"transaction_id\":\"\",\"update_time\":1695776936074000,\"execute_price\":\"0.0\",\"execute_size\":\"0.00000000\",\"quote_vol\":\"0.0\",\"commission\":\"0.0\",\"commission_asset\":\"\",\"is_maker\":true,\"message\":\"\"},\n",
       " {\"symbol\":\"BTCUSDT\",\"create_time\":1695777091521000,\"order_id\":\"10039707\",\"client_order_id\":\"Yrw15wl2GtmiNz5f9jyyNU\",\"order_side\":\"Buy\",\"order_type\":\"Limit\",\"order_price\":\"24000.10000000\",\"order_size\":\"0.00100000\",\"remain_size\":\"0.00100000\",\"status\":\"New\",\"transaction_id\":\"\",\"update_time\":1695777091521000,\"execute_price\":\"0.0\",\"execute_size\":\"0.00000000\",\"quote_vol\":\"0.0\",\"commission\":\"0.0\",\"commission_asset\":\"\",\"is_maker\":true,\"message\":\"\"},\n",
       " {\"symbol\":\"BTCUSDT\",\"create_time\":1695778614950000,\"order_id\":\"10049799\",\"client_order_id\":\"fwiOx31NdJqYnB2lgzQi0z\",\"order_side\":\"Buy\",\"order_type\":\"Limit\",\"order_price\":\"24000.10000000\",\"order_size\":\"0.00100000\",\"remain_size\":\"0.00100000\",\"status\":\"New\",\"transaction_id\":\"\",\"update_time\":1695778614950000,\"execute_price\":\"0.0\",\"execute_size\":\"0.00000000\",\"quote_vol\":\"0.0\",\"commission\":\"0.0\",\"commission_asset\":\"\",\"is_maker\":true,\"message\":\"\"},\n",
       " {\"symbol\":\"BTCUSDT\",\"create_time\":1695779102436000,\"order_id\":\"10053014\",\"client_order_id\":\"ygmzzqbqqYOsX2Q3k5Ig2M\",\"order_side\":\"Buy\",\"order_type\":\"Limit\",\"order_price\":\"24000.10000000\",\"order_size\":\"0.00100000\",\"remain_size\":\"0.00100000\",\"status\":\"New\",\"transaction_id\":\"\",\"update_time\":1695779102436000,\"execute_price\":\"0.0\",\"execute_size\":\"0.00000000\",\"quote_vol\":\"0.0\",\"commission\":\"0.0\",\"commission_asset\":\"\",\"is_maker\":true,\"message\":\"\"},\n",
       " {\"symbol\":\"BTCUSDT\",\"create_time\":1695779814332000,\"order_id\":\"10057696\",\"client_order_id\":\"DtMMzFEeiBUMv5iogbAqpp\",\"order_side\":\"Buy\",\"order_type\":\"Limit\",\"order_price\":\"24000.10000000\",\"order_size\":\"0.00100000\",\"remain_size\":\"0.00100000\",\"status\":\"New\",\"transaction_id\":\"\",\"update_time\":1695779814332000,\"execute_price\":\"0.0\",\"execute_size\":\"0.00000000\",\"quote_vol\":\"0.0\",\"commission\":\"0.0\",\"commission_asset\":\"\",\"is_maker\":true,\"message\":\"\"},\n",
       " {\"symbol\":\"BTCUSDT\",\"create_time\":1695781570877000,\"order_id\":\"10069268\",\"client_order_id\":\"sWKr61NkT2f7Dszs6WHJWg\",\"order_side\":\"Buy\",\"order_type\":\"Limit\",\"order_price\":\"24000.10000000\",\"order_size\":\"0.00100000\",\"remain_size\":\"0.00100000\",\"status\":\"New\",\"transaction_id\":\"\",\"update_time\":1695781570877000,\"execute_price\":\"0.0\",\"execute_size\":\"0.00000000\",\"quote_vol\":\"0.0\",\"commission\":\"0.0\",\"commission_asset\":\"\",\"is_maker\":true,\"message\":\"\"}]"
      ]
     },
     "execution_count": 7,
     "metadata": {},
     "output_type": "execute_result"
    }
   ],
   "source": [
    "session.buy_orders"
   ]
  },
  {
   "cell_type": "code",
   "execution_count": 8,
   "metadata": {},
   "outputs": [
    {
     "data": {
      "text/plain": [
       "[]"
      ]
     },
     "execution_count": 8,
     "metadata": {},
     "output_type": "execute_result"
    }
   ],
   "source": [
    "session.sell_orders\n"
   ]
  },
  {
   "cell_type": "code",
   "execution_count": 10,
   "metadata": {},
   "outputs": [
    {
     "data": {
      "text/plain": [
       "Decimal('0.00900000')"
      ]
     },
     "execution_count": 10,
     "metadata": {},
     "output_type": "execute_result"
    }
   ],
   "source": [
    "session.buy_order_amount"
   ]
  },
  {
   "cell_type": "code",
   "execution_count": null,
   "metadata": {},
   "outputs": [],
   "source": []
  }
 ],
 "metadata": {
  "kernelspec": {
   "display_name": "Python 3",
   "language": "python",
   "name": "python3"
  },
  "language_info": {
   "codemirror_mode": {
    "name": "ipython",
    "version": 3
   },
   "file_extension": ".py",
   "mimetype": "text/x-python",
   "name": "python",
   "nbconvert_exporter": "python",
   "pygments_lexer": "ipython3",
   "version": "3.11.2"
  },
  "orig_nbformat": 4
 },
 "nbformat": 4,
 "nbformat_minor": 2
}
