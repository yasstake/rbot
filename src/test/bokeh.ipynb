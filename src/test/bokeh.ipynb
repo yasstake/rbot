{
 "cells": [
  {
   "cell_type": "code",
   "execution_count": null,
   "metadata": {},
   "outputs": [],
   "source": [
    "#! python3 -m pip install --upgrade bokeh\n",
    "#! python3 -m pip install --upgrade jupyter_bokeh\n"
   ]
  },
  {
   "cell_type": "code",
   "execution_count": null,
   "metadata": {},
   "outputs": [],
   "source": [
    "from bokeh.io import output_notebook, show\n",
    "output_notebook()"
   ]
  },
  {
   "cell_type": "code",
   "execution_count": null,
   "metadata": {},
   "outputs": [],
   "source": [
    "# Plot a complex chart with interactive hover in a few lines of code\n",
    "\n",
    "from bokeh.models import ColumnDataSource, HoverTool\n",
    "from bokeh.plotting import figure\n",
    "from bokeh.sampledata.autompg import autompg_clean as df\n",
    "from bokeh.transform import factor_cmap\n",
    "\n",
    "df.cyl = df.cyl.astype(str)\n",
    "df.yr = df.yr.astype(str)\n",
    "\n",
    "group = df.groupby(by=['cyl', 'mfr'])\n",
    "source = ColumnDataSource(group)\n",
    "\n",
    "p = figure(width=800, height=300, title=\"Mean MPG by # Cylinders and Manufacturer\",\n",
    "           x_range=group, toolbar_location=None, tools=\"\")\n",
    "\n",
    "p.xgrid.grid_line_color = None\n",
    "p.xaxis.axis_label = \"Manufacturer grouped by # Cylinders\"\n",
    "p.xaxis.major_label_orientation = 1.2\n",
    "\n",
    "index_cmap = factor_cmap('cyl_mfr', palette=['#2b83ba', '#abdda4', '#ffffbf', '#fdae61', '#d7191c'], \n",
    "                         factors=sorted(df.cyl.unique()), end=1)\n",
    "\n",
    "p.vbar(x='cyl_mfr', top='mpg_mean', width=1, source=source,\n",
    "       line_color=\"white\", fill_color=index_cmap, \n",
    "       hover_line_color=\"darkgrey\", hover_fill_color=index_cmap)\n",
    "\n",
    "p.add_tools(HoverTool(tooltips=[(\"MPG\", \"@mpg_mean\"), (\"Cyl, Mfr\", \"@cyl_mfr\")]))\n",
    "\n",
    "show(p)"
   ]
  },
  {
   "cell_type": "code",
   "execution_count": null,
   "metadata": {},
   "outputs": [],
   "source": [
    "import rbot"
   ]
  },
  {
   "cell_type": "code",
   "execution_count": null,
   "metadata": {},
   "outputs": [],
   "source": [
    "bn = rbot.Market.open(\"BN\", \"BTCBUSD\")"
   ]
  },
  {
   "cell_type": "code",
   "execution_count": null,
   "metadata": {},
   "outputs": [],
   "source": [
    "ohlcv = bn.ohlcv(rbot.NOW()-rbot.DAYS(10), 0, 60*60)"
   ]
  },
  {
   "cell_type": "code",
   "execution_count": null,
   "metadata": {},
   "outputs": [],
   "source": [
    "ohlcv"
   ]
  },
  {
   "cell_type": "code",
   "execution_count": null,
   "metadata": {},
   "outputs": [],
   "source": [
    "output_notebook()"
   ]
  },
  {
   "cell_type": "code",
   "execution_count": null,
   "metadata": {},
   "outputs": [],
   "source": [
    "inc = ohlcv.open < ohlcv.close\n",
    "dec = ohlcv.close < ohlcv.open "
   ]
  },
  {
   "cell_type": "code",
   "execution_count": null,
   "metadata": {},
   "outputs": [],
   "source": [
    "delta = (ohlcv[1:2].index - ohlcv[0:1].index)[0]"
   ]
  },
  {
   "cell_type": "code",
   "execution_count": null,
   "metadata": {},
   "outputs": [],
   "source": [
    "w = delta.total_seconds() * 1_000"
   ]
  },
  {
   "cell_type": "code",
   "execution_count": null,
   "metadata": {},
   "outputs": [],
   "source": [
    "df"
   ]
  },
  {
   "cell_type": "code",
   "execution_count": null,
   "metadata": {},
   "outputs": [],
   "source": [
    "df_inc = df[(df['open'] <= df['close'])]\n",
    "df_dec = df[(df['close'] < df['open'])] "
   ]
  },
  {
   "cell_type": "code",
   "execution_count": null,
   "metadata": {},
   "outputs": [],
   "source": [
    "df_inc"
   ]
  },
  {
   "cell_type": "code",
   "execution_count": null,
   "metadata": {},
   "outputs": [],
   "source": [
    "df_dec"
   ]
  },
  {
   "cell_type": "code",
   "execution_count": null,
   "metadata": {},
   "outputs": [],
   "source": [
    "ds = ColumnDataSource(ohlcv)\n",
    "\n",
    "df_inc = ColumnDataSource(ohlcv[(ohlcv['open'] <= ohlcv['close'])])\n",
    "df_dec = ColumnDataSource(ohlcv[(ohlcv['close'] < ohlcv['open'])])\n",
    "\n",
    "delta = (ohlcv[1:2].index - ohlcv[0:1].index)[0]\n",
    "w = delta.total_seconds() * 1_000 * 0.8\n",
    "\n",
    "TOOLS = \"pan,wheel_zoom,box_zoom,reset,save\"\n",
    "\n",
    "\n",
    "p = figure(x_axis_type=\"datetime\", tools=TOOLS, width=900, height=400,\n",
    "           title=\"BTC chart\", background_fill_color=\"#efefef\")\n",
    "   \n",
    "\n",
    "p.xaxis.major_label_orientation = 0.8 # radians\n",
    "\n",
    "#p.segment('index', 'high', 'index', 'low', source=ds, color=\"black\")\n",
    "\n",
    "p.segment('timestamp', 'high', 'timestamp', 'low', source=ds)\n",
    "\n",
    "vbar_inc = p.vbar('timestamp', w, 'open', 'close', source=df_inc)\n",
    "vbar_dec = p.vbar('timestamp', w, 'close', 'open', source=df_dec)\n",
    "\n",
    "#bar_dec = p.vbar(df.index[dec], w, df.open[dec], df.close[dec], color=\"#eb3c40\")\n",
    "#bar_inc = p.vbar(df.index[inc], w, df.open[inc], df.close[inc], fill_color=\"white\",\n",
    "#       line_color=\"#49a3a3\", line_width=2)\n",
    "\n",
    "\n",
    "\n",
    "hover_inc = HoverTool(\n",
    "    renderers=[vbar_inc],\n",
    "    tooltips = [\n",
    "           (\"timestamp\", \"@timestamp{%F %R.%S}\"),\n",
    "           (\"open\", \"@open{0.0}\"),\n",
    "           (\"high\", \"@high{0.0}\"),\n",
    "           (\"low\", \"@low{0.0}\"),\n",
    "           (\"close\", \"@close{0.0}\")\n",
    "    ],\n",
    "    formatters= {\n",
    "        \"@timestamp\": \"datetime\",\n",
    "    },\n",
    "    mode=\"vline\",\n",
    "    show_arrow=False,\n",
    ")       \n",
    "hover_dec = HoverTool(\n",
    "    renderers=[vbar_dec],\n",
    "    tooltips = [\n",
    "           (\"timestamp\", \"@timestamp{%F %R.%S}\"),\n",
    "           (\"open\", \"@open{0.0}\"),\n",
    "           (\"high\", \"@high{0.0}\"),\n",
    "           (\"low\", \"@low{0.0}\"),\n",
    "           (\"close\", \"@close{0.0}\")\n",
    "    ],\n",
    "    formatters= {\n",
    "        \"@timestamp\": \"datetime\"\n",
    "    },\n",
    "    mode=\"vline\",\n",
    "    show_arrow=False,\n",
    ")      \n",
    "\n",
    "p.add_tools(hover_inc)\n",
    "p.add_tools(hover_dec)\n",
    "\n",
    "show(p)"
   ]
  },
  {
   "cell_type": "code",
   "execution_count": null,
   "metadata": {},
   "outputs": [],
   "source": [
    "\n",
    "\n",
    "def draw_ohlcv(p, ohlcv):\n",
    "    ds = ColumnDataSource(ohlcv)\n",
    "\n",
    "    df_inc = ColumnDataSource(ohlcv[(ohlcv['open'] <= ohlcv['close'])])\n",
    "    df_dec = ColumnDataSource(ohlcv[(ohlcv['close'] < ohlcv['open'])])\n",
    "\n",
    "    delta = (ohlcv[1:2].index - ohlcv[0:1].index)[0]\n",
    "    w = delta.total_seconds() * 1_000 * 0.8\n",
    "\n",
    "\n",
    "\n",
    "    p.segment('timestamp', 'high', 'timestamp', 'low', source=ds, color=\"#eb3c40\")\n",
    "    vbar_inc = p.vbar('timestamp', w, 'open', 'close', source=df_inc, fill_color=\"white\", line_color=\"#49a3a3\", line_width=2)\n",
    "    vbar_dec = p.vbar('timestamp', w, 'close', 'open', source=df_dec)\n",
    "\n",
    "\n",
    "    hover_inc = HoverTool(\n",
    "        renderers=[vbar_inc],\n",
    "        tooltips = [\n",
    "           (\"timestamp\", \"@timestamp{%F %R.%S}\"),\n",
    "           (\"open\", \"@open{0.0}\"),\n",
    "           (\"high\", \"@high{0.0}\"),\n",
    "           (\"low\", \"@low{0.0}\"),\n",
    "           (\"close\", \"@close{0.0}\")\n",
    "        ],\n",
    "        formatters= {\n",
    "            \"@timestamp\": \"datetime\",\n",
    "        },\n",
    "        mode=\"vline\",\n",
    "        show_arrow=False,\n",
    "    )       \n",
    "\n",
    "    hover_dec = HoverTool(\n",
    "        renderers=[vbar_dec],\n",
    "        tooltips = [\n",
    "           (\"timestamp\", \"@timestamp{%F %R.%S}\"),\n",
    "           (\"open\", \"@open{0.0}\"),\n",
    "           (\"high\", \"@high{0.0}\"),\n",
    "           (\"low\", \"@low{0.0}\"),\n",
    "           (\"close\", \"@close{0.0}\")\n",
    "        ],\n",
    "        formatters= {\n",
    "            \"@timestamp\": \"datetime\"\n",
    "        },\n",
    "        mode=\"vline\",\n",
    "        show_arrow=False,\n",
    "    )      \n",
    "\n",
    "    p.add_tools(hover_inc)\n",
    "    p.add_tools(hover_dec)\n",
    "    \n",
    "    \n",
    "    \n",
    "    "
   ]
  },
  {
   "cell_type": "code",
   "execution_count": null,
   "metadata": {},
   "outputs": [],
   "source": [
    "def draw_price_line(p, ohlcv):\n",
    "    p.line(x=ohlcv.index, y=ohlcv['close'])"
   ]
  },
  {
   "cell_type": "code",
   "execution_count": null,
   "metadata": {},
   "outputs": [],
   "source": [
    "from bokeh.layouts import column \n",
    "from bokeh.models import ColumnDataSource, RangeTool\n",
    "from bokeh.plotting import figure, show\n",
    "from bokeh.core.properties import Instance\n",
    "\n",
    "\n",
    "TOOLS = \"pan,wheel_zoom,box_zoom,reset,save\"\n",
    "\n",
    "WIDTH=900\n",
    "\n",
    "dates = np.array(ohlcv.index, dtype=np.datetime64)\n",
    "\n",
    "p.xaxis.major_label_orientation = 0.8 # radians\n",
    "p = figure(x_axis_type=\"datetime\", tools=TOOLS, width=WIDTH, height=400,\n",
    "           title=\"BTC chart\", background_fill_color=\"#efefef\", x_range=(dates[0], dates[-1]))\n",
    "\n",
    "draw_ohlcv(p, ohlcv)\n",
    "\n",
    "volume = figure(x_axis_type=\"datetime\", tools=TOOLS, width=WIDTH, height=100,\n",
    "        title=\"BTC vol\", background_fill_color=\"#efefef\", x_range=p.x_range)\n",
    "\n",
    "volume.line(x=ohlcv.index, y=ohlcv['volume'])\n",
    "\n",
    "select = figure(title=\"Drag the middle and edges of the selection box to change the range above\",\n",
    "                height=130, width=WIDTH, y_range=p.y_range,\n",
    "                x_axis_type=\"datetime\", y_axis_type=None,\n",
    "                tools=\"\", toolbar_location=None, background_fill_color=\"#efefef\")\n",
    "\n",
    "range_tool = RangeTool(x_range=p.x_range)\n",
    "range_tool.overlay.fill_color = \"navy\"\n",
    "range_tool.overlay.fill_alpha = 0.2\n",
    "\n",
    "draw_price_line(select, ohlcv)\n",
    "\n",
    "select.ygrid.grid_line_color = None\n",
    "select.add_tools(range_tool)\n",
    "select.toolbar.active_multi = range_tool\n",
    "\n",
    "show(column(p, volume, select))\n",
    "\n"
   ]
  },
  {
   "cell_type": "code",
   "execution_count": null,
   "metadata": {},
   "outputs": [],
   "source": [
    "fig = new_"
   ]
  },
  {
   "cell_type": "code",
   "execution_count": null,
   "metadata": {},
   "outputs": [],
   "source": [
    "p.x_range\n"
   ]
  },
  {
   "cell_type": "code",
   "execution_count": null,
   "metadata": {},
   "outputs": [],
   "source": [
    "p.x_range"
   ]
  },
  {
   "cell_type": "code",
   "execution_count": null,
   "metadata": {},
   "outputs": [],
   "source": [
    "from collections import OrderedDict\n",
    "\n",
    "class Chart:\n",
    "    def __init__(self, width, height, ohlc):\n",
    "        self.figure = OrderedDict()\n",
    "        self.width = width\n",
    "        self.height = height\n",
    "        self.x_range = None\n",
    "        self.select = None\n",
    "\n",
    "\n",
    "        # setup main figure\n",
    "        dates = np.array(ohlcv.index, dtype=np.datetime64)        \n",
    "        main = figure(x_axis_type=\"datetime\", tools=TOOLS, width=WIDTH, height=height,\n",
    "           title=\"BTC chart\", background_fill_color=\"#efefef\", x_range=(dates[0], dates[-1]))\n",
    "        \n",
    "        self.x_range = main.x_range\n",
    "        self.figure['main'] = main\n",
    "        \n",
    "        self.draw_ohlcv(main, ohlcv)\n",
    "\n",
    "        # setup select figure\n",
    "        select = figure(title=\"Drag the middle and edges of the selection box to change the range above\",\n",
    "                height= int(height/4), width=WIDTH, y_range=main.y_range,\n",
    "                x_axis_type=\"datetime\", y_axis_type=None,\n",
    "                tools=\"\", toolbar_location=None, background_fill_color=\"#efefef\")            \n",
    "\n",
    "        self.select = select\n",
    "\n",
    "        self.draw_price_line(select, ohlcv)\n",
    "        \n",
    "        range_tool = RangeTool(x_range=self.x_range)\n",
    "        range_tool.overlay.fill_color = \"navy\"\n",
    "        range_tool.overlay.fill_alpha = 0.2\n",
    "\n",
    "        select.ygrid.grid_line_color = None\n",
    "        select.add_tools(range_tool)\n",
    "        select.toolbar.active_multi = range_tool\n",
    "        \n",
    "\n",
    "    \n",
    "    def new_figure(self, name, height, title):\n",
    "        p = figure(x_axis_type=\"datetime\", width=WIDTH, height=height, tools=\"\", toolbar_location=None,\n",
    "            title=title, background_fill_color=\"#efefef\", x_range=self.x_range)\n",
    "        self.figure[name] = p \n",
    "        \n",
    "    def get_figure(self, name):\n",
    "        return self.figure[name]\n",
    "\n",
    "    def show(self):\n",
    "        figure = []\n",
    "        for key in self.figure:\n",
    "            print(key)\n",
    "            figure.append(self.figure[key])\n",
    "\n",
    "        figure.append(self.select)\n",
    "            \n",
    "        show(column(figure))\n",
    "\n",
    "    def draw_ohlcv(self, p, ohlcv):\n",
    "        ds = ColumnDataSource(ohlcv)\n",
    "\n",
    "        df_inc = ColumnDataSource(ohlcv[(ohlcv['open'] <= ohlcv['close'])])\n",
    "        df_dec = ColumnDataSource(ohlcv[(ohlcv['close'] < ohlcv['open'])])\n",
    "\n",
    "        delta = (ohlcv[1:2].index - ohlcv[0:1].index)[0]\n",
    "        w = delta.total_seconds() * 1_000 * 0.8\n",
    "\n",
    "        p.segment('timestamp', 'high', 'timestamp', 'low', source=ds, color=\"#eb3c40\")\n",
    "        vbar_inc = p.vbar('timestamp', w, 'open', 'close', source=df_inc, fill_color=\"white\", line_color=\"#49a3a3\", line_width=2)\n",
    "        vbar_dec = p.vbar('timestamp', w, 'close', 'open', source=df_dec)\n",
    "\n",
    "        hover_inc = HoverTool(\n",
    "            renderers=[vbar_inc],\n",
    "            tooltips = [\n",
    "                (\"timestamp\", \"@timestamp{%F %R.%S}\"),\n",
    "                (\"open\", \"@open{0.0}\"),\n",
    "                (\"high\", \"@high{0.0}\"),\n",
    "                (\"low\", \"@low{0.0}\"),\n",
    "                (\"close\", \"@close{0.0}\")\n",
    "            ],\n",
    "            formatters= {\n",
    "                \"@timestamp\": \"datetime\",\n",
    "            },\n",
    "            mode=\"vline\",\n",
    "            show_arrow=False,\n",
    "        )       \n",
    "\n",
    "        hover_dec = HoverTool(\n",
    "            renderers=[vbar_dec],\n",
    "            tooltips = [\n",
    "                (\"timestamp\", \"@timestamp{%F %R.%S}\"),\n",
    "                (\"open\", \"@open{0.0}\"),\n",
    "                (\"high\", \"@high{0.0}\"),\n",
    "                (\"low\", \"@low{0.0}\"),\n",
    "                (\"close\", \"@close{0.0}\")\n",
    "            ],\n",
    "            formatters= {\n",
    "                \"@timestamp\": \"datetime\"\n",
    "            },\n",
    "            mode=\"vline\",\n",
    "            show_arrow=False,\n",
    "        )      \n",
    "\n",
    "        p.add_tools(hover_inc)\n",
    "        p.add_tools(hover_dec)\n",
    "\n",
    "    def draw_price_line(self, p, ohlc):\n",
    "        p.line(x=ohlcv.index, y=ohlcv['close'])\n",
    "        \n",
    "    def draw_volume_line(self, name, ohlcv):\n",
    "        p = self.figure[name]\n",
    "        p.line(x=ohlcv.index, y=ohlcv['volume'])        \n"
   ]
  },
  {
   "cell_type": "code",
   "execution_count": null,
   "metadata": {},
   "outputs": [],
   "source": [
    "chart = Chart(800, 400, ohlcv)\n",
    "\n",
    "chart.new_figure('volume', 100, 'trading volume in btc')\n",
    "chart.draw_volume_line('volume', ohlcv)\n",
    "\n"
   ]
  },
  {
   "cell_type": "code",
   "execution_count": null,
   "metadata": {},
   "outputs": [],
   "source": [
    "chart.show()"
   ]
  },
  {
   "cell_type": "code",
   "execution_count": null,
   "metadata": {},
   "outputs": [],
   "source": [
    "#https://docs.bokeh.org/en/latest/docs/user_guide/interaction/linking.html\n",
    "\n",
    "\n",
    "from random import random\n",
    "\n",
    "from bokeh.layouts import row\n",
    "from bokeh.models import CrosshairTool, Span\n",
    "from bokeh.plotting import figure, show\n",
    "\n",
    "x = [random() * 10 for _ in range(200)]\n",
    "y = [random() * 10 for _ in range(200)]\n",
    "\n",
    "width = Span(dimension=\"width\", line_dash=\"dashed\", line_width=2)\n",
    "height = Span(dimension=\"height\", line_dash=\"dotted\", line_width=2)\n",
    "\n",
    "p1 = figure(height=400, width=400, x_range=(0, 10), y_range=(0, 10),\n",
    "            tools=\"hover\", toolbar_location=None)\n",
    "p1.add_tools(CrosshairTool(overlay=[width, height]))\n",
    "p1.circle(x, y, radius=0.2, alpha=0.3, hover_alpha=1.0)\n",
    "\n",
    "p2 = figure(height=400, width=250, x_range=(0, 10), y_range=(0, 10),\n",
    "            tools=\"hover\", toolbar_location=None)\n",
    "p2.add_tools(CrosshairTool(overlay=[width, height]))\n",
    "p2.circle(x, y, radius=0.2, alpha=0.3, hover_alpha=1.0)\n",
    "\n",
    "show(row(p1, p2))"
   ]
  },
  {
   "cell_type": "code",
   "execution_count": null,
   "metadata": {},
   "outputs": [],
   "source": []
  }
 ],
 "metadata": {
  "kernelspec": {
   "display_name": "Python 3 (ipykernel)",
   "language": "python",
   "name": "python3"
  },
  "language_info": {
   "codemirror_mode": {
    "name": "ipython",
    "version": 3
   },
   "file_extension": ".py",
   "mimetype": "text/x-python",
   "name": "python",
   "nbconvert_exporter": "python",
   "pygments_lexer": "ipython3",
   "version": "3.10.6"
  },
  "vscode": {
   "interpreter": {
    "hash": "561348bbb4e85c6f6e71fe5b82b416ad34192af0efebb264d0a2937e8ad0f6d5"
   }
  }
 },
 "nbformat": 4,
 "nbformat_minor": 2
}
