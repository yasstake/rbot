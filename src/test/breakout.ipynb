{
 "cells": [
  {
   "cell_type": "markdown",
   "id": "cb5d057a",
   "metadata": {},
   "source": []
  },
  {
   "cell_type": "code",
   "execution_count": 1,
   "id": "189953f5-3166-4869-a689-c142f8e37a10",
   "metadata": {},
   "outputs": [],
   "source": [
    "import pandas as pd"
   ]
  },
  {
   "cell_type": "code",
   "execution_count": null,
   "id": "e21001b0",
   "metadata": {},
   "outputs": [],
   "source": []
  },
  {
   "cell_type": "code",
   "execution_count": 2,
   "id": "32f9243f-973a-4b62-8e64-3ec35179960a",
   "metadata": {},
   "outputs": [],
   "source": [
    "import rbot\n",
    "from rbot import BaseAgent\n",
    "from rbot import BinanceMarket\n",
    "from rbot import BackTester\n",
    "from rbot import time_string\n",
    "from rbot import Market\n",
    "from rbot import DAYS_BEFORE\n",
    "from rbot.chart import Chart"
   ]
  },
  {
   "cell_type": "code",
   "execution_count": 6,
   "id": "8a1f1723",
   "metadata": {},
   "outputs": [],
   "source": [
    "class Agent(BaseAgent):\n",
    "    def __init__(self, param_K=1.6):\n",
    "            self.K = param_K                           # パラメターKを設定する。\n",
    "\n",
    "    def clock_interval(self):\n",
    "        #//return 60*60*2\n",
    "        interval = 60*60*2\n",
    "        return interval\n",
    "    \n",
    "    #def on_tick(self, time_us, session, price, side, size):\n",
    "    #    print(time_us, price, side, size)\n",
    "\n",
    "    def on_clock(self, time_us, session):\n",
    "        ohlcv_df = session.ohlcv(60*60*2, 6)       # ６本の足を取得。 最新は６番目。\n",
    "\n",
    "        if len(ohlcv_df.index) < 6:                 # データが過去６本分そろっていない場合はなにもせずリターン\n",
    "            return \n",
    "\n",
    "        ohlcv_df[\"range\"] = ohlcv_df[\"high\"] - ohlcv_df[\"low\"]      # レンジを計算\n",
    "\n",
    "        ohlcv_latest = ohlcv_df[-2:-1]     # 最新足１本\n",
    "        ohlcv_last_5 = ohlcv_df[:-2]       # 過去５本足\n",
    "\n",
    "        range_width = ohlcv_last_5[\"range\"].mean()      #　過去５本足のレンジの平均値\n",
    "\n",
    "        # Long/Short判定\n",
    "        detect_short = range_width * self.K < ohlcv_latest[\"high\"][0] - ohlcv_latest[\"open\"][0]\n",
    "        detect_long  = range_width * self.K < ohlcv_latest[\"open\"][0] - ohlcv_latest[\"low\"][0]\n",
    "\n",
    "        #　執行方法（順報告のポジションがあったら保留。逆方向のポジションがのこっていたらドテン）\n",
    "        if detect_long:\n",
    "            #    print(\"position\", session.long_pos_size, session.short_pos_size)            \n",
    "            #        print(\"make long\")\n",
    "            if not session.long_position_size:\n",
    "            #    print(\"makeorder\")                                    \n",
    "                if not session.short_position_size:\n",
    "\n",
    "                    session.place_order(\"Buy\", session.best_buy_price, 0.01, 600, \"Open Long\")    \n",
    "                else:\n",
    "\n",
    "                    session.place_order(\"Buy\", session.best_buy_price, 0.02, 600, \"doten Long\")    \n",
    "            else:\n",
    "                pass\n",
    "\n",
    "        if detect_short:\n",
    "            #print(\"make short\")            \n",
    "            if not session.short_position_size:\n",
    "                #print(\"makeorder\")                                                      \n",
    "                if not session.long_position_size:\n",
    "                    session.place_order(\"Sell\", session.best_sell_price, 0.01, 600, \"Open Short\") \n",
    "                else:\n",
    "                    session.place_order(\"Sell\", session.best_sell_price, 0.02, 600, \"Doten Short\") \n",
    "            else:\n",
    "                pass\n",
    "\n",
    "    def on_update(self, time, session, result):\n",
    "        #print(result)\n",
    "        pass\n"
   ]
  },
  {
   "cell_type": "code",
   "execution_count": 7,
   "id": "620cc5e4",
   "metadata": {},
   "outputs": [
    {
     "data": {
      "text/plain": [
       "0.001"
      ]
     },
     "execution_count": 7,
     "metadata": {},
     "output_type": "execute_result"
    }
   ],
   "source": [
    "back_tester = BackTester(\"BN\", \"BTCBUSD\", False)\n",
    "back_tester.maker_fee_rate = 0.1 * 0.01  # 0.1%\n",
    "back_tester.maker_fee_rate"
   ]
  },
  {
   "cell_type": "code",
   "execution_count": 8,
   "id": "540b1ee0",
   "metadata": {},
   "outputs": [
    {
     "name": "stdout",
     "output_type": "stream",
     "text": [
      "start\n",
      "end\n"
     ]
    }
   ],
   "source": [
    "\n",
    "\n",
    "print(\"start\")\n",
    "r = back_tester.run(Agent(), rbot.DAYS_BEFORE(10), 0)\n",
    "#r = back_tester.run(Agent(), 0, 0)\n",
    "print(\"end\")\n",
    "\n",
    "\n"
   ]
  },
  {
   "cell_type": "code",
   "execution_count": 9,
   "id": "1e9938c8",
   "metadata": {},
   "outputs": [],
   "source": [
    "import rbot\n",
    "df = rbot.result_to_df(r)"
   ]
  },
  {
   "cell_type": "code",
   "execution_count": 10,
   "id": "0fc767c9",
   "metadata": {},
   "outputs": [
    {
     "data": {
      "text/html": [
       "<div>\n",
       "<style scoped>\n",
       "    .dataframe tbody tr th:only-of-type {\n",
       "        vertical-align: middle;\n",
       "    }\n",
       "\n",
       "    .dataframe tbody tr th {\n",
       "        vertical-align: top;\n",
       "    }\n",
       "\n",
       "    .dataframe thead th {\n",
       "        text-align: right;\n",
       "    }\n",
       "</style>\n",
       "<table border=\"1\" class=\"dataframe\">\n",
       "  <thead>\n",
       "    <tr style=\"text-align: right;\">\n",
       "      <th></th>\n",
       "      <th>update_time</th>\n",
       "      <th>order_id</th>\n",
       "      <th>sub_id</th>\n",
       "      <th>order_side</th>\n",
       "      <th>post_only</th>\n",
       "      <th>status</th>\n",
       "      <th>open_price</th>\n",
       "      <th>open_size</th>\n",
       "      <th>open_volume</th>\n",
       "      <th>close_price</th>\n",
       "      <th>...</th>\n",
       "      <th>order_price</th>\n",
       "      <th>order_size</th>\n",
       "      <th>order_volume</th>\n",
       "      <th>profit</th>\n",
       "      <th>fee</th>\n",
       "      <th>total_profit</th>\n",
       "      <th>position_change</th>\n",
       "      <th>message</th>\n",
       "      <th>sum_profit</th>\n",
       "      <th>position</th>\n",
       "    </tr>\n",
       "    <tr>\n",
       "      <th>create_time</th>\n",
       "      <th></th>\n",
       "      <th></th>\n",
       "      <th></th>\n",
       "      <th></th>\n",
       "      <th></th>\n",
       "      <th></th>\n",
       "      <th></th>\n",
       "      <th></th>\n",
       "      <th></th>\n",
       "      <th></th>\n",
       "      <th></th>\n",
       "      <th></th>\n",
       "      <th></th>\n",
       "      <th></th>\n",
       "      <th></th>\n",
       "      <th></th>\n",
       "      <th></th>\n",
       "      <th></th>\n",
       "      <th></th>\n",
       "      <th></th>\n",
       "      <th></th>\n",
       "    </tr>\n",
       "  </thead>\n",
       "  <tbody>\n",
       "    <tr>\n",
       "      <th>2022-12-01 14:00:00+00:00</th>\n",
       "      <td>2022-12-01 14:10:00.127000+00:00</td>\n",
       "      <td>0000-0001</td>\n",
       "      <td>0</td>\n",
       "      <td>Sell</td>\n",
       "      <td>True</td>\n",
       "      <td>Expire</td>\n",
       "      <td>0.00</td>\n",
       "      <td>0.00</td>\n",
       "      <td>0.0000</td>\n",
       "      <td>0.00</td>\n",
       "      <td>...</td>\n",
       "      <td>17103.24</td>\n",
       "      <td>0.01</td>\n",
       "      <td>171.0324</td>\n",
       "      <td>0.0000</td>\n",
       "      <td>0.000000</td>\n",
       "      <td>0.000000</td>\n",
       "      <td>0.00</td>\n",
       "      <td>Open Short</td>\n",
       "      <td>0.000000</td>\n",
       "      <td>0.00</td>\n",
       "    </tr>\n",
       "    <tr>\n",
       "      <th>2022-12-02 14:00:00+00:00</th>\n",
       "      <td>2022-12-02 14:00:00.070000+00:00</td>\n",
       "      <td>0000-0002</td>\n",
       "      <td>0</td>\n",
       "      <td>Buy</td>\n",
       "      <td>True</td>\n",
       "      <td>Open</td>\n",
       "      <td>16997.89</td>\n",
       "      <td>0.01</td>\n",
       "      <td>169.9789</td>\n",
       "      <td>0.00</td>\n",
       "      <td>...</td>\n",
       "      <td>16997.89</td>\n",
       "      <td>0.01</td>\n",
       "      <td>169.9789</td>\n",
       "      <td>0.0000</td>\n",
       "      <td>0.169979</td>\n",
       "      <td>-0.169979</td>\n",
       "      <td>0.01</td>\n",
       "      <td>Open Long</td>\n",
       "      <td>-0.169979</td>\n",
       "      <td>0.01</td>\n",
       "    </tr>\n",
       "    <tr>\n",
       "      <th>2022-12-04 02:00:00+00:00</th>\n",
       "      <td>2022-12-04 02:00:00.601000+00:00</td>\n",
       "      <td>0000-0003</td>\n",
       "      <td>0</td>\n",
       "      <td>Sell</td>\n",
       "      <td>True</td>\n",
       "      <td>Close</td>\n",
       "      <td>16997.89</td>\n",
       "      <td>0.01</td>\n",
       "      <td>169.9789</td>\n",
       "      <td>16888.07</td>\n",
       "      <td>...</td>\n",
       "      <td>16888.07</td>\n",
       "      <td>0.01</td>\n",
       "      <td>168.8807</td>\n",
       "      <td>-1.0982</td>\n",
       "      <td>0.168881</td>\n",
       "      <td>-1.267081</td>\n",
       "      <td>-0.01</td>\n",
       "      <td>Doten Short</td>\n",
       "      <td>-1.437060</td>\n",
       "      <td>0.00</td>\n",
       "    </tr>\n",
       "    <tr>\n",
       "      <th>2022-12-04 02:00:00+00:00</th>\n",
       "      <td>2022-12-04 02:00:00.601000+00:00</td>\n",
       "      <td>0000-0003</td>\n",
       "      <td>1</td>\n",
       "      <td>Sell</td>\n",
       "      <td>True</td>\n",
       "      <td>Open</td>\n",
       "      <td>16888.07</td>\n",
       "      <td>0.01</td>\n",
       "      <td>168.8807</td>\n",
       "      <td>0.00</td>\n",
       "      <td>...</td>\n",
       "      <td>16888.07</td>\n",
       "      <td>0.01</td>\n",
       "      <td>168.8807</td>\n",
       "      <td>0.0000</td>\n",
       "      <td>0.168881</td>\n",
       "      <td>-0.168881</td>\n",
       "      <td>-0.01</td>\n",
       "      <td>Doten Short</td>\n",
       "      <td>-1.605940</td>\n",
       "      <td>-0.01</td>\n",
       "    </tr>\n",
       "    <tr>\n",
       "      <th>2022-12-05 16:00:00+00:00</th>\n",
       "      <td>2022-12-05 16:00:00.034000+00:00</td>\n",
       "      <td>0000-0004</td>\n",
       "      <td>0</td>\n",
       "      <td>Buy</td>\n",
       "      <td>True</td>\n",
       "      <td>Close</td>\n",
       "      <td>16888.07</td>\n",
       "      <td>0.01</td>\n",
       "      <td>168.8807</td>\n",
       "      <td>17234.33</td>\n",
       "      <td>...</td>\n",
       "      <td>17234.33</td>\n",
       "      <td>0.01</td>\n",
       "      <td>172.3433</td>\n",
       "      <td>-3.4626</td>\n",
       "      <td>0.172343</td>\n",
       "      <td>-3.634943</td>\n",
       "      <td>0.01</td>\n",
       "      <td>doten Long</td>\n",
       "      <td>-5.240884</td>\n",
       "      <td>0.00</td>\n",
       "    </tr>\n",
       "    <tr>\n",
       "      <th>2022-12-05 16:00:00+00:00</th>\n",
       "      <td>2022-12-05 16:00:00.034000+00:00</td>\n",
       "      <td>0000-0004</td>\n",
       "      <td>1</td>\n",
       "      <td>Buy</td>\n",
       "      <td>True</td>\n",
       "      <td>Open</td>\n",
       "      <td>17234.33</td>\n",
       "      <td>0.01</td>\n",
       "      <td>172.3433</td>\n",
       "      <td>0.00</td>\n",
       "      <td>...</td>\n",
       "      <td>17234.33</td>\n",
       "      <td>0.01</td>\n",
       "      <td>172.3433</td>\n",
       "      <td>0.0000</td>\n",
       "      <td>0.172343</td>\n",
       "      <td>-0.172343</td>\n",
       "      <td>0.01</td>\n",
       "      <td>doten Long</td>\n",
       "      <td>-5.413227</td>\n",
       "      <td>0.01</td>\n",
       "    </tr>\n",
       "  </tbody>\n",
       "</table>\n",
       "<p>6 rows × 22 columns</p>\n",
       "</div>"
      ],
      "text/plain": [
       "                                               update_time   order_id  sub_id  \\\n",
       "create_time                                                                     \n",
       "2022-12-01 14:00:00+00:00 2022-12-01 14:10:00.127000+00:00  0000-0001       0   \n",
       "2022-12-02 14:00:00+00:00 2022-12-02 14:00:00.070000+00:00  0000-0002       0   \n",
       "2022-12-04 02:00:00+00:00 2022-12-04 02:00:00.601000+00:00  0000-0003       0   \n",
       "2022-12-04 02:00:00+00:00 2022-12-04 02:00:00.601000+00:00  0000-0003       1   \n",
       "2022-12-05 16:00:00+00:00 2022-12-05 16:00:00.034000+00:00  0000-0004       0   \n",
       "2022-12-05 16:00:00+00:00 2022-12-05 16:00:00.034000+00:00  0000-0004       1   \n",
       "\n",
       "                          order_side  post_only  status  open_price  \\\n",
       "create_time                                                           \n",
       "2022-12-01 14:00:00+00:00       Sell       True  Expire        0.00   \n",
       "2022-12-02 14:00:00+00:00        Buy       True    Open    16997.89   \n",
       "2022-12-04 02:00:00+00:00       Sell       True   Close    16997.89   \n",
       "2022-12-04 02:00:00+00:00       Sell       True    Open    16888.07   \n",
       "2022-12-05 16:00:00+00:00        Buy       True   Close    16888.07   \n",
       "2022-12-05 16:00:00+00:00        Buy       True    Open    17234.33   \n",
       "\n",
       "                           open_size  open_volume  close_price  ...  \\\n",
       "create_time                                                     ...   \n",
       "2022-12-01 14:00:00+00:00       0.00       0.0000         0.00  ...   \n",
       "2022-12-02 14:00:00+00:00       0.01     169.9789         0.00  ...   \n",
       "2022-12-04 02:00:00+00:00       0.01     169.9789     16888.07  ...   \n",
       "2022-12-04 02:00:00+00:00       0.01     168.8807         0.00  ...   \n",
       "2022-12-05 16:00:00+00:00       0.01     168.8807     17234.33  ...   \n",
       "2022-12-05 16:00:00+00:00       0.01     172.3433         0.00  ...   \n",
       "\n",
       "                           order_price  order_size  order_volume  profit  \\\n",
       "create_time                                                                \n",
       "2022-12-01 14:00:00+00:00     17103.24        0.01      171.0324  0.0000   \n",
       "2022-12-02 14:00:00+00:00     16997.89        0.01      169.9789  0.0000   \n",
       "2022-12-04 02:00:00+00:00     16888.07        0.01      168.8807 -1.0982   \n",
       "2022-12-04 02:00:00+00:00     16888.07        0.01      168.8807  0.0000   \n",
       "2022-12-05 16:00:00+00:00     17234.33        0.01      172.3433 -3.4626   \n",
       "2022-12-05 16:00:00+00:00     17234.33        0.01      172.3433  0.0000   \n",
       "\n",
       "                                fee  total_profit  position_change  \\\n",
       "create_time                                                          \n",
       "2022-12-01 14:00:00+00:00  0.000000      0.000000             0.00   \n",
       "2022-12-02 14:00:00+00:00  0.169979     -0.169979             0.01   \n",
       "2022-12-04 02:00:00+00:00  0.168881     -1.267081            -0.01   \n",
       "2022-12-04 02:00:00+00:00  0.168881     -0.168881            -0.01   \n",
       "2022-12-05 16:00:00+00:00  0.172343     -3.634943             0.01   \n",
       "2022-12-05 16:00:00+00:00  0.172343     -0.172343             0.01   \n",
       "\n",
       "                               message  sum_profit position  \n",
       "create_time                                                  \n",
       "2022-12-01 14:00:00+00:00   Open Short    0.000000     0.00  \n",
       "2022-12-02 14:00:00+00:00    Open Long   -0.169979     0.01  \n",
       "2022-12-04 02:00:00+00:00  Doten Short   -1.437060     0.00  \n",
       "2022-12-04 02:00:00+00:00  Doten Short   -1.605940    -0.01  \n",
       "2022-12-05 16:00:00+00:00   doten Long   -5.240884     0.00  \n",
       "2022-12-05 16:00:00+00:00   doten Long   -5.413227     0.01  \n",
       "\n",
       "[6 rows x 22 columns]"
      ]
     },
     "execution_count": 10,
     "metadata": {},
     "output_type": "execute_result"
    }
   ],
   "source": [
    "df"
   ]
  },
  {
   "cell_type": "code",
   "execution_count": 11,
   "id": "955cd3b2",
   "metadata": {},
   "outputs": [],
   "source": [
    "market = Market.open(\"BN\", \"BTCBUSD\")\n",
    "ohlcv = market.ohlcv(rbot.NOW()-rbot.DAYS(12), 0, 60*60)\n"
   ]
  },
  {
   "cell_type": "code",
   "execution_count": 12,
   "id": "07d6be45",
   "metadata": {},
   "outputs": [
    {
     "data": {
      "text/html": [
       "<style>\n",
       "        .bk-notebook-logo {\n",
       "            display: block;\n",
       "            width: 20px;\n",
       "            height: 20px;\n",
       "            background-image: url(data:image/png;base64,iVBORw0KGgoAAAANSUhEUgAAABQAAAAUCAYAAACNiR0NAAAABHNCSVQICAgIfAhkiAAAAAlwSFlzAAALEgAACxIB0t1+/AAAABx0RVh0U29mdHdhcmUAQWRvYmUgRmlyZXdvcmtzIENTNui8sowAAAOkSURBVDiNjZRtaJVlGMd/1/08zzln5zjP1LWcU9N0NkN8m2CYjpgQYQXqSs0I84OLIC0hkEKoPtiH3gmKoiJDU7QpLgoLjLIQCpEsNJ1vqUOdO7ppbuec5+V+rj4ctwzd8IIbbi6u+8f1539dt3A78eXC7QizUF7gyV1fD1Yqg4JWz84yffhm0qkFqBogB9rM8tZdtwVsPUhWhGcFJngGeWrPzHm5oaMmkfEg1usvLFyc8jLRqDOMru7AyC8saQr7GG7f5fvDeH7Ej8CM66nIF+8yngt6HWaKh7k49Soy9nXurCi1o3qUbS3zWfrYeQDTB/Qj6kX6Ybhw4B+bOYoLKCC9H3Nu/leUTZ1JdRWkkn2ldcCamzrcf47KKXdAJllSlxAOkRgyHsGC/zRday5Qld9DyoM4/q/rUoy/CXh3jzOu3bHUVZeU+DEn8FInkPBFlu3+nW3Nw0mk6vCDiWg8CeJaxEwuHS3+z5RgY+YBR6V1Z1nxSOfoaPa4LASWxxdNp+VWTk7+4vzaou8v8PN+xo+KY2xsw6une2frhw05CTYOmQvsEhjhWjn0bmXPjpE1+kplmmkP3suftwTubK9Vq22qKmrBhpY4jvd5afdRA3wGjFAgcnTK2s4hY0/GPNIb0nErGMCRxWOOX64Z8RAC4oCXdklmEvcL8o0BfkNK4lUg9HTl+oPlQxdNo3Mg4Nv175e/1LDGzZen30MEjRUtmXSfiTVu1kK8W4txyV6BMKlbgk3lMwYCiusNy9fVfvvwMxv8Ynl6vxoByANLTWplvuj/nF9m2+PDtt1eiHPBr1oIfhCChQMBw6Aw0UulqTKZdfVvfG7VcfIqLG9bcldL/+pdWTLxLUy8Qq38heUIjh4XlzZxzQm19lLFlr8vdQ97rjZVOLf8nclzckbcD4wxXMidpX30sFd37Fv/GtwwhzhxGVAprjbg0gCAEeIgwCZyTV2Z1REEW8O4py0wsjeloKoMr6iCY6dP92H6Vw/oTyICIthibxjm/DfN9lVz8IqtqKYLUXfoKVMVQVVJOElGjrnnUt9T9wbgp8AyYKaGlqingHZU/uG2NTZSVqwHQTWkx9hxjkpWDaCg6Ckj5qebgBVbT3V3NNXMSiWSDdGV3hrtzla7J+duwPOToIg42ChPQOQjspnSlp1V+Gjdged7+8UN5CRAV7a5EdFNwCjEaBR27b3W890TE7g24NAP/mMDXRWrGoFPQI9ls/MWO2dWFAar/xcOIImbbpA3zgAAAABJRU5ErkJggg==);\n",
       "        }\n",
       "    </style>\n",
       "    <div>\n",
       "        <a href=\"https://bokeh.org\" target=\"_blank\" class=\"bk-notebook-logo\"></a>\n",
       "        <span id=\"p1001\">Loading BokehJS ...</span>\n",
       "    </div>\n"
      ]
     },
     "metadata": {},
     "output_type": "display_data"
    },
    {
     "data": {
      "application/javascript": "(function(root) {\n  function now() {\n    return new Date();\n  }\n\n  const force = true;\n\n  if (typeof root._bokeh_onload_callbacks === \"undefined\" || force === true) {\n    root._bokeh_onload_callbacks = [];\n    root._bokeh_is_loading = undefined;\n  }\n\nconst JS_MIME_TYPE = 'application/javascript';\n  const HTML_MIME_TYPE = 'text/html';\n  const EXEC_MIME_TYPE = 'application/vnd.bokehjs_exec.v0+json';\n  const CLASS_NAME = 'output_bokeh rendered_html';\n\n  /**\n   * Render data to the DOM node\n   */\n  function render(props, node) {\n    const script = document.createElement(\"script\");\n    node.appendChild(script);\n  }\n\n  /**\n   * Handle when an output is cleared or removed\n   */\n  function handleClearOutput(event, handle) {\n    const cell = handle.cell;\n\n    const id = cell.output_area._bokeh_element_id;\n    const server_id = cell.output_area._bokeh_server_id;\n    // Clean up Bokeh references\n    if (id != null && id in Bokeh.index) {\n      Bokeh.index[id].model.document.clear();\n      delete Bokeh.index[id];\n    }\n\n    if (server_id !== undefined) {\n      // Clean up Bokeh references\n      const cmd_clean = \"from bokeh.io.state import curstate; print(curstate().uuid_to_server['\" + server_id + \"'].get_sessions()[0].document.roots[0]._id)\";\n      cell.notebook.kernel.execute(cmd_clean, {\n        iopub: {\n          output: function(msg) {\n            const id = msg.content.text.trim();\n            if (id in Bokeh.index) {\n              Bokeh.index[id].model.document.clear();\n              delete Bokeh.index[id];\n            }\n          }\n        }\n      });\n      // Destroy server and session\n      const cmd_destroy = \"import bokeh.io.notebook as ion; ion.destroy_server('\" + server_id + \"')\";\n      cell.notebook.kernel.execute(cmd_destroy);\n    }\n  }\n\n  /**\n   * Handle when a new output is added\n   */\n  function handleAddOutput(event, handle) {\n    const output_area = handle.output_area;\n    const output = handle.output;\n\n    // limit handleAddOutput to display_data with EXEC_MIME_TYPE content only\n    if ((output.output_type != \"display_data\") || (!Object.prototype.hasOwnProperty.call(output.data, EXEC_MIME_TYPE))) {\n      return\n    }\n\n    const toinsert = output_area.element.find(\".\" + CLASS_NAME.split(' ')[0]);\n\n    if (output.metadata[EXEC_MIME_TYPE][\"id\"] !== undefined) {\n      toinsert[toinsert.length - 1].firstChild.textContent = output.data[JS_MIME_TYPE];\n      // store reference to embed id on output_area\n      output_area._bokeh_element_id = output.metadata[EXEC_MIME_TYPE][\"id\"];\n    }\n    if (output.metadata[EXEC_MIME_TYPE][\"server_id\"] !== undefined) {\n      const bk_div = document.createElement(\"div\");\n      bk_div.innerHTML = output.data[HTML_MIME_TYPE];\n      const script_attrs = bk_div.children[0].attributes;\n      for (let i = 0; i < script_attrs.length; i++) {\n        toinsert[toinsert.length - 1].firstChild.setAttribute(script_attrs[i].name, script_attrs[i].value);\n        toinsert[toinsert.length - 1].firstChild.textContent = bk_div.children[0].textContent\n      }\n      // store reference to server id on output_area\n      output_area._bokeh_server_id = output.metadata[EXEC_MIME_TYPE][\"server_id\"];\n    }\n  }\n\n  function register_renderer(events, OutputArea) {\n\n    function append_mime(data, metadata, element) {\n      // create a DOM node to render to\n      const toinsert = this.create_output_subarea(\n        metadata,\n        CLASS_NAME,\n        EXEC_MIME_TYPE\n      );\n      this.keyboard_manager.register_events(toinsert);\n      // Render to node\n      const props = {data: data, metadata: metadata[EXEC_MIME_TYPE]};\n      render(props, toinsert[toinsert.length - 1]);\n      element.append(toinsert);\n      return toinsert\n    }\n\n    /* Handle when an output is cleared or removed */\n    events.on('clear_output.CodeCell', handleClearOutput);\n    events.on('delete.Cell', handleClearOutput);\n\n    /* Handle when a new output is added */\n    events.on('output_added.OutputArea', handleAddOutput);\n\n    /**\n     * Register the mime type and append_mime function with output_area\n     */\n    OutputArea.prototype.register_mime_type(EXEC_MIME_TYPE, append_mime, {\n      /* Is output safe? */\n      safe: true,\n      /* Index of renderer in `output_area.display_order` */\n      index: 0\n    });\n  }\n\n  // register the mime type if in Jupyter Notebook environment and previously unregistered\n  if (root.Jupyter !== undefined) {\n    const events = require('base/js/events');\n    const OutputArea = require('notebook/js/outputarea').OutputArea;\n\n    if (OutputArea.prototype.mime_types().indexOf(EXEC_MIME_TYPE) == -1) {\n      register_renderer(events, OutputArea);\n    }\n  }\n  if (typeof (root._bokeh_timeout) === \"undefined\" || force === true) {\n    root._bokeh_timeout = Date.now() + 5000;\n    root._bokeh_failed_load = false;\n  }\n\n  const NB_LOAD_WARNING = {'data': {'text/html':\n     \"<div style='background-color: #fdd'>\\n\"+\n     \"<p>\\n\"+\n     \"BokehJS does not appear to have successfully loaded. If loading BokehJS from CDN, this \\n\"+\n     \"may be due to a slow or bad network connection. Possible fixes:\\n\"+\n     \"</p>\\n\"+\n     \"<ul>\\n\"+\n     \"<li>re-rerun `output_notebook()` to attempt to load from CDN again, or</li>\\n\"+\n     \"<li>use INLINE resources instead, as so:</li>\\n\"+\n     \"</ul>\\n\"+\n     \"<code>\\n\"+\n     \"from bokeh.resources import INLINE\\n\"+\n     \"output_notebook(resources=INLINE)\\n\"+\n     \"</code>\\n\"+\n     \"</div>\"}};\n\n  function display_loaded() {\n    const el = document.getElementById(\"p1001\");\n    if (el != null) {\n      el.textContent = \"BokehJS is loading...\";\n    }\n    if (root.Bokeh !== undefined) {\n      if (el != null) {\n        el.textContent = \"BokehJS \" + root.Bokeh.version + \" successfully loaded.\";\n      }\n    } else if (Date.now() < root._bokeh_timeout) {\n      setTimeout(display_loaded, 100)\n    }\n  }\n\n  function run_callbacks() {\n    try {\n      root._bokeh_onload_callbacks.forEach(function(callback) {\n        if (callback != null)\n          callback();\n      });\n    } finally {\n      delete root._bokeh_onload_callbacks\n    }\n    console.debug(\"Bokeh: all callbacks have finished\");\n  }\n\n  function load_libs(css_urls, js_urls, callback) {\n    if (css_urls == null) css_urls = [];\n    if (js_urls == null) js_urls = [];\n\n    root._bokeh_onload_callbacks.push(callback);\n    if (root._bokeh_is_loading > 0) {\n      console.debug(\"Bokeh: BokehJS is being loaded, scheduling callback at\", now());\n      return null;\n    }\n    if (js_urls == null || js_urls.length === 0) {\n      run_callbacks();\n      return null;\n    }\n    console.debug(\"Bokeh: BokehJS not loaded, scheduling load and callback at\", now());\n    root._bokeh_is_loading = css_urls.length + js_urls.length;\n\n    function on_load() {\n      root._bokeh_is_loading--;\n      if (root._bokeh_is_loading === 0) {\n        console.debug(\"Bokeh: all BokehJS libraries/stylesheets loaded\");\n        run_callbacks()\n      }\n    }\n\n    function on_error(url) {\n      console.error(\"failed to load \" + url);\n    }\n\n    for (let i = 0; i < css_urls.length; i++) {\n      const url = css_urls[i];\n      const element = document.createElement(\"link\");\n      element.onload = on_load;\n      element.onerror = on_error.bind(null, url);\n      element.rel = \"stylesheet\";\n      element.type = \"text/css\";\n      element.href = url;\n      console.debug(\"Bokeh: injecting link tag for BokehJS stylesheet: \", url);\n      document.body.appendChild(element);\n    }\n\n    for (let i = 0; i < js_urls.length; i++) {\n      const url = js_urls[i];\n      const element = document.createElement('script');\n      element.onload = on_load;\n      element.onerror = on_error.bind(null, url);\n      element.async = false;\n      element.src = url;\n      console.debug(\"Bokeh: injecting script tag for BokehJS library: \", url);\n      document.head.appendChild(element);\n    }\n  };\n\n  function inject_raw_css(css) {\n    const element = document.createElement(\"style\");\n    element.appendChild(document.createTextNode(css));\n    document.body.appendChild(element);\n  }\n\n  const js_urls = [\"https://cdn.bokeh.org/bokeh/release/bokeh-3.0.2.min.js\", \"https://cdn.bokeh.org/bokeh/release/bokeh-gl-3.0.2.min.js\", \"https://cdn.bokeh.org/bokeh/release/bokeh-widgets-3.0.2.min.js\", \"https://cdn.bokeh.org/bokeh/release/bokeh-tables-3.0.2.min.js\", \"https://cdn.bokeh.org/bokeh/release/bokeh-mathjax-3.0.2.min.js\"];\n  const css_urls = [];\n\n  const inline_js = [    function(Bokeh) {\n      Bokeh.set_log_level(\"info\");\n    },\nfunction(Bokeh) {\n    }\n  ];\n\n  function run_inline_js() {\n    if (root.Bokeh !== undefined || force === true) {\n          for (let i = 0; i < inline_js.length; i++) {\n      inline_js[i].call(root, root.Bokeh);\n    }\nif (force === true) {\n        display_loaded();\n      }} else if (Date.now() < root._bokeh_timeout) {\n      setTimeout(run_inline_js, 100);\n    } else if (!root._bokeh_failed_load) {\n      console.log(\"Bokeh: BokehJS failed to load within specified timeout.\");\n      root._bokeh_failed_load = true;\n    } else if (force !== true) {\n      const cell = $(document.getElementById(\"p1001\")).parents('.cell').data().cell;\n      cell.output_area.append_execute_result(NB_LOAD_WARNING)\n    }\n  }\n\n  if (root._bokeh_is_loading === 0) {\n    console.debug(\"Bokeh: BokehJS loaded, going straight to plotting\");\n    run_inline_js();\n  } else {\n    load_libs(css_urls, js_urls, function() {\n      console.debug(\"Bokeh: BokehJS plotting callback run at\", now());\n      run_inline_js();\n    });\n  }\n}(window));",
      "application/vnd.bokehjs_load.v0+json": ""
     },
     "metadata": {},
     "output_type": "display_data"
    },
    {
     "name": "stdout",
     "output_type": "stream",
     "text": [
      "main\n"
     ]
    },
    {
     "data": {
      "text/html": [
       "\n",
       "  <div id=\"6272e27e-86b6-44b6-a8d7-68e957c10096\" data-root-id=\"p1199\" style=\"display: contents;\"></div>\n"
      ]
     },
     "metadata": {},
     "output_type": "display_data"
    },
    {
     "data": {
      "application/javascript": "(function(root) {\n  function embed_document(root) {\n  const docs_json = {\"0734e16c-a620-424d-9938-9c5a08d140fa\":{\"version\":\"3.0.2\",\"title\":\"Bokeh Application\",\"defs\":[],\"roots\":[{\"type\":\"object\",\"name\":\"Column\",\"id\":\"p1199\",\"attributes\":{\"children\":[{\"type\":\"object\",\"name\":\"Figure\",\"id\":\"p1002\",\"attributes\":{\"width\":800,\"height\":400,\"x_range\":{\"type\":\"object\",\"name\":\"Range1d\",\"id\":\"p1012\",\"attributes\":{\"start\":1669824000000.0,\"end\":1670367600000.0}},\"y_range\":{\"type\":\"object\",\"name\":\"DataRange1d\",\"id\":\"p1004\"},\"x_scale\":{\"type\":\"object\",\"name\":\"LinearScale\",\"id\":\"p1016\"},\"y_scale\":{\"type\":\"object\",\"name\":\"LinearScale\",\"id\":\"p1018\"},\"title\":{\"type\":\"object\",\"name\":\"Title\",\"id\":\"p1005\",\"attributes\":{\"text\":\"BTC chart\"}},\"renderers\":[{\"type\":\"object\",\"name\":\"GlyphRenderer\",\"id\":\"p1098\",\"attributes\":{\"data_source\":{\"type\":\"object\",\"name\":\"ColumnDataSource\",\"id\":\"p1083\",\"attributes\":{\"selected\":{\"type\":\"object\",\"name\":\"Selection\",\"id\":\"p1084\",\"attributes\":{\"indices\":[],\"line_indices\":[]}},\"selection_policy\":{\"type\":\"object\",\"name\":\"UnionRenderers\",\"id\":\"p1085\"},\"data\":{\"type\":\"map\",\"entries\":[[\"timestamp\",{\"type\":\"ndarray\",\"array\":{\"type\":\"bytes\",\"data\":\"AAAAQ5RMeEIAAOixl0x4QgAA0CCbTHhCAAC4j55MeEIAAKD+oUx4QgAAiG2lTHhCAABw3KhMeEIAAFhLrEx4QgAAQLqvTHhCAAAoKbNMeEIAABCYtkx4QgAA+Aa6THhCAADgdb1MeEIAAMjkwEx4QgAAsFPETHhCAACYwsdMeEIAAIAxy0x4QgAAaKDOTHhCAABQD9JMeEIAADh+1Ux4QgAAIO3YTHhCAAAIXNxMeEIAAPDK30x4QgAA2DnjTHhCAADAqOZMeEIAAKgX6kx4QgAAkIbtTHhCAAB49fBMeEIAAGBk9Ex4QgAASNP3THhCAAAwQvtMeEIAABix/kx4QgAAACACTXhCAADojgVNeEIAAND9CE14QgAAuGwMTXhCAACg2w9NeEIAAIhKE014QgAAcLkWTXhCAABYKBpNeEIAAECXHU14QgAAKAYhTXhCAAAQdSRNeEIAAPjjJ014QgAA4FIrTXhCAADIwS5NeEIAALAwMk14QgAAmJ81TXhCAACADjlNeEIAAGh9PE14QgAAUOw/TXhCAAA4W0NNeEIAACDKRk14QgAACDlKTXhCAADwp01NeEIAANgWUU14QgAAwIVUTXhCAACo9FdNeEIAAJBjW014QgAAeNJeTXhCAABgQWJNeEIAAEiwZU14QgAAMB9pTXhCAAAYjmxNeEIAAAD9b014QgAA6GtzTXhCAADQ2nZNeEIAALhJek14QgAAoLh9TXhCAACIJ4FNeEIAAHCWhE14QgAAWAWITXhCAABAdItNeEIAACjjjk14QgAAEFKSTXhCAAD4wJVNeEIAAOAvmU14QgAAyJ6cTXhCAACwDaBNeEIAAJh8o014QgAAgOumTXhCAABoWqpNeEIAAFDJrU14QgAAODixTXhCAAAgp7RNeEIAAAgWuE14QgAA8IS7TXhCAADY875NeEIAAMBiwk14QgAAqNHFTXhCAACQQMlNeEIAAHivzE14QgAAYB7QTXhCAABIjdNNeEIAADD81k14QgAAGGvaTXhCAAAA2t1NeEIAAOhI4U14QgAA0LfkTXhCAAC4JuhNeEIAAKCV6014QgAAiATvTXhCAABwc/JNeEIAAFji9U14QgAAQFH5TXhCAAAowPxNeEIAABAvAE54QgAA+J0DTnhCAADgDAdOeEIAAMh7Ck54QgAAsOoNTnhCAACYWRFOeEIAAIDIFE54QgAAaDcYTnhCAABQphtOeEIAADgVH054QgAAIIQiTnhCAAAI8yVOeEIAAPBhKU54QgAA2NAsTnhCAADAPzBOeEIAAKiuM054QgAAkB03TnhCAAB4jDpOeEIAAGD7PU54QgAASGpBTnhCAAAw2UROeEIAABhISE54QgAAALdLTnhCAADoJU9OeEIAANCUUk54QgAAuANWTnhCAACgcllOeEIAAIjhXE54QgAAcFBgTnhCAABYv2NOeEIAAEAuZ054QgAAKJ1qTnhCAAAQDG5OeEIAAPh6cU54QgAA4Ol0TnhCAADIWHhOeEIAALDHe054QgAAmDZ/TnhCAACApYJOeEIAAGgUhk54QgAAUIOJTnhCAAA48oxOeEIAACBhkE54QgAACNCTTnhCAADwPpdOeEIAANitmk54Qg==\"},\"shape\":[152],\"dtype\":\"float64\",\"order\":\"little\"}],[\"open\",{\"type\":\"ndarray\",\"array\":{\"type\":\"bytes\",\"data\":\"cT0K12N40EApXI/CVXfQQLgehetBZdBA16NwPTqG0EAK16NwHanQQK5H4XqkstBA4XoUrme00ECuR+F6RL/QQFyPwvVYw9BAzczMzNzC0EDsUbgeJbfQQPYoXI9CudBAXI/C9SjA0EBcj8L1uL3QQK5H4Xr0tdBAw/UoXD+40EAUrkfheqvQQJqZmZm5tdBAmpmZmem10EAfhetR2LHQQHsUrkexs9BA4XoUrke80EBSuB6Fe7DQQFyPwvVotNBAexSuR6GU0ECuR+F61JXQQAAAAAAwktBA16NwPTqJ0EDD9ShcL47QQDMzMzNzhdBAFK5H4YqH0ED2KFyP8pHQQNejcD2KlNBAuB6F66Gj0EDNzMzMvIfQQK5H4XpEhtBASOF6FO6B0ECkcD0Kd4jQQFyPwvUoitBAXI/C9QiE0EApXI/CVY/QQMP1KFxPkdBA4XoUrmeR0EDsUbgexZLQQMP1KFx/mdBAAAAAADCi0ECamZmZCX/QQFyPwvXYg9BA4XoUrveK0EAAAAAAQIrQQLgehetBitBAw/UoXN+O0EBcj8L1KJfQQK5H4XoEotBAFK5H4Wqd0ECuR+F69KTQQM3MzMxcsdBAFK5H4Vqm0ECuR+F69KbQQDMzMzOzodBAj8L1KKyf0ECF61G4Hp7QQOxRuB6VntBApHA9CmeU0EC4HoXrsZHQQNejcD0ajdBAUrgehSuV0EAAAAAAAJHQQK5H4XpUjNBAAAAAAICR0EBmZmZmto7QQAAAAAAAjdBACtejcJ2Q0EAK16Nw7Y7QQOF6FK4Hk9BAw/UoXI+S0EBmZmZmlo7QQOxRuB6lidBASOF6FB6N0EBcj8L1aIHQQK5H4Xq0fdBAcT0K11ON0EDhehSuB5LQQB+F61HIk9BAmpmZmSmQ0ED2KFyPMpzQQDMzMzMDntBAuB6F6wGa0EDD9ShcT5nQQLgehevhndBAAAAAAKCa0EBI4XoUDpvQQIXrUbjujdBAZmZmZvaP0EDNzMzMLI3QQDMzMzOTnNBAFK5H4eqh0EBxPQrXs57QQGZmZmamp9BAKVyPwvWq0EBmZmZmJrDQQHE9CteTsdBAw/UoXB+20EDsUbgelbTQQM3MzMwctdBArkfhelTQ0EBcj8L1GN7QQPYoXI9S2NBAcT0K1wPM0ECF61G4zvPQQLgeheux79BAKVyPwqXn0EDD9Shc/+jQQPYoXI9y9NBArkfheqTm0ECkcD0KV+XQQOF6FK5H6NBApHA9Clfa0EApXI/CddTQQNejcD36zdBA9ihcj4Kv0EA9Ctej8KTQQOF6FK73p9BAXI/C9fil0EDNzMzMzIfQQM3MzMzsitBAw/UoXL+T0EBxPQrXQ4zQQDMzMzPTkdBA7FG4HhWl0ECuR+F69KHQQK5H4XqUotBAPQrXo+Ca0EBcj8L1WJvQQMP1KFyPlNBAPQrXowCb0ECF61G47prQQI/C9Sg8o9BAuB6F61GU0EAK16NwTZLQQDMzMzPjltBAUrgehUuZ0EDNzMzMrJbQQK5H4XpUk9BA16NwPWqW0ED2KFyP4pbQQHE9CtdDkNBA9ihcjzKT0EAAAAAAwJLQQHE9CtdTl9BAexSuR3GY0EAAAAAAAJTQQA==\"},\"shape\":[152],\"dtype\":\"float64\",\"order\":\"little\"}],[\"high\",{\"type\":\"ndarray\",\"array\":{\"type\":\"bytes\",\"data\":\"exSuR6GD0EDhehSu53rQQI/C9SicldBAAAAAAAC/0EDD9Shc77PQQEjhehRuttBAH4XrUXjX0EB7FK5HEdPQQNejcD0K1dBAuB6F6+HE0EAUrkfh6r3QQBSuR+GKxNBAAAAAAEDE0EDsUbgeNcDQQGZmZma2utBAAAAAAEC50EDXo3A9GrzQQNejcD1qt9BAXI/C9Ui20EAAAAAAsLTQQLgeheuhwdBAAAAAAADq0ECkcD0KB77QQJqZmZkJwdBAXI/C9Uia0ECF61G4PpjQQMP1KFz/k9BAZmZmZqaQ0EAUrkfh+pHQQLgeheshi9BAFK5H4bqW0EBmZmZmRpXQQAAAAACAptBAMzMzMyOm0ECkcD0Kx4vQQArXo3D9iNBAexSuR8GJ0EBxPQrXk4zQQAAAAADAjtBAAAAAAICU0EAfhetRWJPQQAAAAADAl9BA9ihcj+KU0EAAAAAAgKbQQArXo3A9ptBAMzMzM6O00ECPwvUozJfQQEjhehR+ldBAAAAAAECN0ECuR+F6hJPQQHsUrkcBktBA9ihcj5KZ0EA9Ctej0KjQQKRwPQq3ptBAZmZmZrat0EAfhetReLLQQIXrUbjewdBA9ihcj0Ko0EDNzMzMHKnQQOxRuB6FotBAj8L1KFyj0EAAAAAAQKHQQOxRuB4Vn9BACtejcG2W0EAAAAAAgJLQQFK4HoXrltBA7FG4HpWW0EBcj8L1SJHQQFK4HoVrktBAZmZmZsaR0EDsUbge9Y7QQEjhehS+ldBASOF6FE6S0EAAAAAAAJbQQBSuR+H6ldBArkfhekST0EDNzMzM7I/QQOF6FK4XjtBAFK5H4RqO0EAAAAAAwIXQQD0K16MQktBA7FG4HmWm0EAUrkfhKpfQQOF6FK5HldBAexSuR5Gf0ECamZmZ+avQQBSuR+G6pdBAZmZmZkae0EAUrkfhiqbQQAAAAADAotBAPQrXo+Cc0EAAAAAAEJzQQDMzMzMjkdBA4XoUrqeQ0EDXo3A9Op7QQFK4HoVrq9BAAAAAAICz0ECamZmZeanQQClcj8KFw9BAZmZmZra00EDD9Shcb7rQQJqZmZnZuNBAAAAAADC80EBmZmZmJs7QQDMzMzNj3tBA7FG4HmXm0EAAAAAAgPHQQLgehevx39BAH4XrUXgF0UBmZmZmtgDRQD0K16Ng8dBAH4XrUZj10EC4HoXr0frQQHE9Ctdj9dBAH4XrUZjs0EAK16NwfenQQFK4HoU76dBAhetRuO7h0EDsUbgepdbQQFK4HoX7zdBAw/UoXP+00EB7FK5HUbDQQFK4HoXrutBAexSuR0Gp0EAK16NwbY3QQIXrUbiOlNBAKVyPwgWU0EAAAAAAQJfQQAAAAACAptBA4XoUrsez0EBxPQrXs67QQArXo3DdqNBA4XoUrued0ECPwvUobJzQQLgehetxoNBApHA9Clef0EAAAAAAAKXQQArXo3D9o9BA9ihcj+KW0EAfhetReJjQQOF6FK63n9BACtejcH2i0ECF61G43p7QQBSuR+E6oNBAmpmZmSmf0EAAAAAAsJvQQAAAAAAAmtBAZmZmZraW0EBmZmZm5pjQQNejcD2KnNBAZmZmZnaZ0EBxPQrXk7TQQA==\"},\"shape\":[152],\"dtype\":\"float64\",\"order\":\"little\"}],[\"low\",{\"type\":\"ndarray\",\"array\":{\"type\":\"bytes\",\"data\":\"MzMzM5Nv0EC4HoXrIVTQQB+F61FYUdBAzczMzIyF0EC4HoXrkaHQQClcj8LloNBASOF6FD6r0EAAAAAAgLXQQHE9CtdTt9BApHA9Cte00EAfhetROLDQQBSuR+E6uNBA16NwPYq60EAAAAAAQKnQQArXo3Cdr9BAH4XrUXip0ECPwvUozKfQQM3MzMxMr9BAuB6F64Gv0EAAAAAAAKTQQHsUrkcRs9BAzczMzMyT0EAzMzMzc6DQQClcj8L1f9BA7FG4HiWG0ED2KFyPAojQQDMzMzMzgdBAAAAAAACB0EAAAAAAgIPQQKRwPQp3c9BAFK5H4XqG0EB7FK5HkYvQQHE9CtcDjtBAAAAAAIB50EDNzMzMnHbQQOxRuB7FftBAZmZmZoZ80EAAAAAAAIfQQAAAAABAg9BAuB6F6zGD0EDD9Shcj4rQQM3MzMxMj9BAzczMzFyN0EAAAAAAQI/QQOF6FK6nltBAj8L1KDxk0EAfhetRiHbQQD0K16PAf9BAH4XrUciB0ECamZmZOYjQQB+F61F4idBAKVyPwvWI0EDNzMzMzJTQQArXo3DNmNBA4XoUrged0EAzMzMz46TQQM3MzMyso9BAZmZmZmad0ECuR+F6lJ3QQD0K16MAndBA4XoUrpec0EBI4XoUPp3QQAAAAACAjNBAzczMzOyH0ED2KFyPEoXQQLgehesxidBAPQrXo2CO0EDXo3A92n3QQOF6FK73iNBAj8L1KNyL0EAzMzMzw4bQQKRwPQp3i9BAAAAAAICM0EAAAAAAAIvQQAAAAAAgjtBAAAAAAICK0EAAAAAAQITQQAAAAADAetBAuB6F62F30EDNzMzM7HnQQD0K16NAfNBAAAAAAACK0EBSuB6Fm4zQQD0K16OgjdBAMzMzMwOQ0EAAAAAAAJrQQIXrUbjemNBAPQrXo9CX0EAK16NwPZTQQClcj8JlmtBAXI/C9TiY0EAAAAAAEIPQQM3MzMw8iNBApHA9CqeF0EDD9ShcX4nQQNejcD2KnNBAw/UoXH+b0EAfhetRyJPQQClcj8JFo9BA4XoUrnem0EAAAAAAgKvQQDMzMzPDrNBAUrgehaut0ED2KFyPwq7QQAAAAAAArtBA16NwPbrL0ECPwvUoTNXQQFyPwvUIydBAZmZmZnbK0ECuR+F6tObQQFyPwvXo4dBAexSuR9Hj0ECamZmZieXQQOF6FK5H4dBAZmZmZlbh0ECamZmZWeHQQFyPwvWY1NBAXI/C9SjP0ECF61G4vsXQQMP1KFxPn9BAAAAAAICW0EAAAAAAAJrQQOF6FK5no9BAw/UoXE950EBmZmZmRoHQQB+F61EYidBA16NwPWqI0EDhehSuh4XQQHsUrkeBkdBAZmZmZqag0EA9CtejYJzQQM3MzMzcmNBAH4XrUViQ0EAAAAAAQJHQQOxRuB4lj9BAzczMzMyX0EAAAAAAQJPQQDMzMzOjk9BApHA9CheL0EAAAAAAEIPQQFyPwvXYlNBA7FG4HjWU0EDsUbgeFZDQQFK4HoWbiNBAuB6F60GS0ECkcD0Kl4zQQAAAAAAAhNBAhetRuG6H0EDsUbgeFY7QQHsUrkfxk9BAPQrXowCQ0EDXo3A9WpPQQA==\"},\"shape\":[152],\"dtype\":\"float64\",\"order\":\"little\"}],[\"close\",{\"type\":\"ndarray\",\"array\":{\"type\":\"bytes\",\"data\":\"7FG4HjV30EB7FK5HQWXQQBSuR+EKhtBAAAAAAECp0EBcj8L1SLLQQIXrUbhutNBA16NwPUq/0EBSuB6Fq8PQQEjhehTOwtBAj8L1KCy30EBxPQrXQ7nQQDMzMzMzwNBAH4XrUfi90EBxPQrX87XQQHE9CtdTuNBAUrgehWur0EAUrkfhurXQQM3MzMzstdBAH4XrUdix0EDD9Shcz7PQQK5H4XqEvNBAzczMzKyw0EBcj8L1aLTQQOxRuB5llNBAAAAAAKCV0EBI4XoUPpLQQHsUrkdBidBASOF6FF6O0ECPwvUobIXQQEjhehSOh9BAuB6F6/GR0EAK16NwnZTQQHsUrkeho9BA9ihcj6KH0EDD9ShcX4bQQIXrUbjugdBAKVyPwnWI0EBmZmZmNorQQFK4HoUrhNBAKVyPwlWP0EDhehSuV5HQQM3MzMx8kdBACtejcM2S0EBcj8L1eJnQQDMzMzPzodBAUrgehQt/0EAK16NwnYPQQB+F61H4itBAmpmZmTmK0EDD9ShcD4rQQB+F61G4jtBA9ihcjxKX0EB7FK5HEaLQQFK4HoVbndBA9ihcjwKl0EAfhetReLHQQAAAAABAptBArkfhevSm0EBmZmZmlqHQQBSuR+Gqn9BAzczMzBye0ECuR+F6lJ7QQGZmZmZ2lNBApHA9CoeR0EDXo3A9Go3QQAAAAAAwldBAuB6F69GQ0ECuR+F6VIzQQB+F61GIkdBAj8L1KJyO0ECPwvUo/IzQQNejcD26kNBAH4XrUfiO0EDsUbgeBZPQQMP1KFyPktBAZmZmZpaO0EDD9Shcv4nQQArXo3BNjdBA7FG4HmWB0EAK16NwvX3QQLgehetRjdBAFK5H4fqR0ECuR+F6tJPQQBSuR+EqkNBArkfhejSc0EB7FK5HAZ7QQM3MzMzsmdBASOF6FE6Z0EApXI/CtZ3QQHE9CtezmtBAhetRuN6a0EDXo3A96o3QQMP1KFwPkNBAuB6F6xGN0EApXI/CdZzQQOxRuB7lodBAH4XrUbie0EAfhetR2KfQQEjhehSuqtBAH4XrUSiw0ED2KFyPkrHQQM3MzMwcttBASOF6FE600ECkcD0KR7XQQOF6FK5H0NBAcT0K1zPe0EA9CtejYNjQQHE9CtcDzNBAZmZmZjb00EAzMzMzo+/QQNejcD2q59BA16NwPfro0EDXo3A9ivTQQLgeheuh5tBApHA9Clfl0EBxPQrXI+jQQMP1KFw/2tBAcT0K14PU0EBcj8L1uM3QQHE9CteDr9BAH4XrUQil0EBI4XoU7qfQQI/C9SgsptBArkfhevSH0ECPwvUo7IrQQNejcD2ak9BAZmZmZjaM0EBmZmZmlpHQQHsUrkchpdBAKVyPwtWh0EAAAAAAoKLQQLgehevRmtBAKVyPwkWb0EAfhetRiJTQQD0K16MAm9BAXI/C9eia0EApXI/C9aLQQOF6FK43lNBAzczMzGyS0EBcj8L1CJfQQBSuR+F6mdBAFK5H4aqW0EBSuB6Fe5PQQEjhehROltBA9ihcj+KW0EBxPQrXQ5DQQArXo3Atk9BAAAAAAMCS0EBmZmZmZpfQQAAAAABwmNBA9ihcj+KT0EDhehSuR7DQQA==\"},\"shape\":[152],\"dtype\":\"float64\",\"order\":\"little\"}],[\"volume\",{\"type\":\"ndarray\",\"array\":{\"type\":\"bytes\",\"data\":\"Kb+36Sc9v0BKzsKeVkPBQArNdRodXc9A2IaKcSQY0UDY2m0XUs+5QPYk6ZrxZ7tAJIXrUbAPtkBf/+cwEwnCQG/8+4xbIcFA0S5Rva2JtUA/U+i81vCyQK/x0k1SVLJAL1vri0SNsUAu499npHi0QO5ILv+Baq1APHr83o4FsUAd4/xNUIq1QI97LH0Y/bJAHLNeDKVJr0BICTNt1/G0QJCxhSCPerlA26Eo0K2B0EAx0csoaiLGQJLWUdXIkstAm6omiKolvEDkKR2sH4q0QJpDi2zPLrNAjOEjYjqfsUAi14aKoUKvQNPkm22GJbJAXjP5ZltgrECt2QOtkK6vQGgVb2QOlbdATDHrxWCGv0DHCik/aYq4QBpSflI9ZqpAQEAwR+9rq0AT5KCEGTuoQJDgfytZGKxATxWMSlriskBxlWBxuOquQMZHxJSov65A4pLjTlnyq0Be8KKvoNa+QParOUAAX7VAHY8ZqLp90EBb2XdF8KG/QMPxtWfej7lARuIeS7/cskA3T3XITTmyQPjfSnYMFK9AUBToE7k9sUAd+ie4+FGzQOYZNPQP7KxAy/0ORYHspkCslQm/bPmxQOMBZVP+7rtATddMvslNqkBGhlW8MRWsQGH4iJjS4adA345wWhDrqUDaxMn9vrumQLxOIy2d8LVAK9pVSDkNskBWP28qWn+yQCTDKt5I4bFAKStNSvH6p0CXgcr4d4ezQOZhodaUUqdAHyWvznF0qEColq31ZX+vQIG3QIIyfatAiCUeUJa8o0BgIEHxc1qsQDGeQUOPJ6NAVEmdgKb+pEDkjcwjLx6lQD1T6Lxeb7FAfY1dorJQsEAPC7WmCXOlQDU9YYkfc7JAENsWZRastUCjceFAiMemQD+bVZ978qVAuFTejpDvrEC/vaQxktm0QOcZNPSPN6dA5cyv5iC2pkDysfShWxazQJF6iEbHLqhAgrdAghL7qECwNCkFRfK1QP+uCP7XraxAD170FZR1qEDzhm2LQgO0QFIoRMBx2LhAx/9WsnM7tEDZ/znMZwusQJ3OTgb38MFAToCaWkaZskAaz6ChT5anQDM9YYkXmaJA7CEa3cGHoEDfzvdTC265QN+YnrCoZMRAVjJyFtZhvUC6SrA4XOi8QElqEyff2LdAtB6F6yWYwEDkxMn9zg/BQP4x5q7l6rFAYlX2XXEYtEBsMlUwfhrBQAK+TX82r65AUeRJ0vX0pUBU8uoco5WnQJuG4SMSSqpA0QGCOcpgpkDL7236Q+6wQBZ0e0mXhshA/WGE8HBttkDa3TzV2Ue0QH8KgPEMB7RAf+iC+oIswkCgKhiV9GevQMCaAwQzZaRAmbZ/ZQUXo0DOuRRXJdqsQNItrYaM7bNAa0D2egd/tUCGkCxggiuvQIUFacYybqxAttzSaqA7sEAiSx+6AO2pQGavd3+sP6xAFMzR48d5q0Am+YOB5zu2QKil8nbsOLFAjrlrCTFFt0AkzVg07ce4QMzIWdi7+7RAUKshca+ys0DrDwaeLw3AQJ62f2VRYsZAh8aFAyHHvED9WPrQ5dK5QF+PwvWcYMBAUE9Y4qEftkAmiV5Ggbm1QLGBrRIMrq9Ak/YGX3g4oUAjgNQmelLDQA==\"},\"shape\":[152],\"dtype\":\"float64\",\"order\":\"little\"}],[\"count\",{\"type\":\"ndarray\",\"array\":{\"type\":\"bytes\",\"data\":\"AAAAAGBk/0AAAAAAGEgBQQAAAADQug5BAAAAAOw8EUEAAAAAkNr+QAAAAACw5vxAAAAAACDi+EAAAAAAGGoEQQAAAAAIQQVBAAAAAECU/kAAAAAAwLn2QAAAAABwz/ZAAAAAACDn9EAAAAAAsFL4QAAAAAAAjPBAAAAAAPA18UAAAAAAUNH3QAAAAAAQufNAAAAAAMDL8EAAAAAAgKH1QAAAAADAWvxAAAAAAGg9EEEAAAAACPwJQQAAAADwUg5BAAAAACAGAEEAAAAAwOn5QAAAAACQhfZAAAAAALA39UAAAAAAoEHwQAAAAAAgLfVAAAAAAGD77kAAAAAAIPfwQAAAAACA0PpAAAAAAIg3A0EAAAAAyEoAQQAAAADg4vJAAAAAADDx8EAAAAAA4F7qQAAAAAAgQu5AAAAAAEAr80AAAAAAUNHwQAAAAAAgjO9AAAAAAEDM7UAAAAAAcNH9QAAAAADAm/dAAAAAAFyQEUEAAAAA0NgCQQAAAAAw6PxAAAAAAODp9kAAAAAA8J7zQAAAAAAgUu5AAAAAABBl8EAAAAAAcKjzQAAAAABABfBAAAAAAKDo5kAAAAAAwCLyQAAAAAAA+f1AAAAAAHC38UAAAAAAIKXyQAAAAADAq/BAAAAAALBv8EAAAAAAgMjsQAAAAACg2vZAAAAAALCs9UAAAAAAYEz0QAAAAADwOfRAAAAAAICG50AAAAAAMPLzQAAAAACgbelAAAAAAMA+6kAAAAAAgN/tQAAAAAAgGexAAAAAAOCD5UAAAAAAoEHsQAAAAAAACONAAAAAAEBu5EAAAAAAABzkQAAAAABg2PJAAAAAANAL80AAAAAAYCXsQAAAAADwFvVAAAAAAHDF+kAAAAAAEC7xQAAAAADwJ/BAAAAAANAb8EAAAAAA8C72QAAAAAAAZuxAAAAAAADc60AAAAAAYJf0QAAAAADge+pAAAAAACB+7UAAAAAAYJv2QAAAAADgofJAAAAAAEC/8EAAAAAAkKz2QAAAAABQLftAAAAAAGD690AAAAAAMEvyQAAAAAAQcANBAAAAAFCx9EAAAAAAgFftQAAAAACgfuhAAAAAAMCV5UAAAAAAYIX8QAAAAACo4gZBAAAAAMBSA0EAAAAAoCMDQQAAAACIOwFBAAAAALgTBEEAAAAA0GoIQQAAAAAwCfpAAAAAAFAT+0AAAAAAoE0GQQAAAACwzfZAAAAAAKCN8EAAAAAAsJnwQAAAAACgT/JAAAAAAIBq8UAAAAAAoLL3QAAAAACQVgtBAAAAADBW/kAAAAAAYPv8QAAAAACw7vlAAAAAAHBPBUEAAAAAkF7zQAAAAAAghetAAAAAAEBT6EAAAAAAUI7wQAAAAABwh/lAAAAAAMBP/EAAAAAAkAL5QAAAAABADfVAAAAAAIBr90AAAAAAECbzQAAAAACAX/NAAAAAABAW80AAAAAAkA/9QAAAAABA6PdAAAAAAGAu/EAAAAAAsHP9QAAAAADAF/lAAAAAANDn9kAAAAAAiN4AQQAAAAAQtQVBAAAAAMCA+0AAAAAAEJb5QAAAAADAL/xAAAAAALDj9EAAAAAA8FzzQAAAAAAgjOtAAAAAAEBd4UAAAAAAQMgBQQ==\"},\"shape\":[152],\"dtype\":\"float64\",\"order\":\"little\"}]]}}},\"view\":{\"type\":\"object\",\"name\":\"CDSView\",\"id\":\"p1099\",\"attributes\":{\"filter\":{\"type\":\"object\",\"name\":\"AllIndices\",\"id\":\"p1100\"}}},\"glyph\":{\"type\":\"object\",\"name\":\"Segment\",\"id\":\"p1095\",\"attributes\":{\"x0\":{\"type\":\"field\",\"field\":\"timestamp\"},\"y0\":{\"type\":\"field\",\"field\":\"high\"},\"x1\":{\"type\":\"field\",\"field\":\"timestamp\"},\"y1\":{\"type\":\"field\",\"field\":\"low\"},\"line_color\":{\"type\":\"value\",\"value\":\"#eb3c40\"}}},\"nonselection_glyph\":{\"type\":\"object\",\"name\":\"Segment\",\"id\":\"p1096\",\"attributes\":{\"x0\":{\"type\":\"field\",\"field\":\"timestamp\"},\"y0\":{\"type\":\"field\",\"field\":\"high\"},\"x1\":{\"type\":\"field\",\"field\":\"timestamp\"},\"y1\":{\"type\":\"field\",\"field\":\"low\"},\"line_color\":{\"type\":\"value\",\"value\":\"#eb3c40\"},\"line_alpha\":{\"type\":\"value\",\"value\":0.1}}},\"muted_glyph\":{\"type\":\"object\",\"name\":\"Segment\",\"id\":\"p1097\",\"attributes\":{\"x0\":{\"type\":\"field\",\"field\":\"timestamp\"},\"y0\":{\"type\":\"field\",\"field\":\"high\"},\"x1\":{\"type\":\"field\",\"field\":\"timestamp\"},\"y1\":{\"type\":\"field\",\"field\":\"low\"},\"line_color\":{\"type\":\"value\",\"value\":\"#eb3c40\"},\"line_alpha\":{\"type\":\"value\",\"value\":0.2}}}}},{\"type\":\"object\",\"name\":\"GlyphRenderer\",\"id\":\"p1107\",\"attributes\":{\"data_source\":{\"type\":\"object\",\"name\":\"ColumnDataSource\",\"id\":\"p1086\",\"attributes\":{\"selected\":{\"type\":\"object\",\"name\":\"Selection\",\"id\":\"p1087\",\"attributes\":{\"indices\":[],\"line_indices\":[]}},\"selection_policy\":{\"type\":\"object\",\"name\":\"UnionRenderers\",\"id\":\"p1088\"},\"data\":{\"type\":\"map\",\"entries\":[[\"timestamp\",{\"type\":\"ndarray\",\"array\":{\"type\":\"bytes\",\"data\":\"AADQIJtMeEIAALiPnkx4QgAAoP6hTHhCAACIbaVMeEIAAHDcqEx4QgAAWEusTHhCAAAQmLZMeEIAAPgGukx4QgAAsFPETHhCAACAMctMeEIAAGigzkx4QgAAOH7VTHhCAAAg7dhMeEIAAPDK30x4QgAAwKjmTHhCAAB49fBMeEIAAEjT90x4QgAAMEL7THhCAAAYsf5MeEIAAAAgAk14QgAAoNsPTXhCAACIShNNeEIAAFgoGk14QgAAQJcdTXhCAAAoBiFNeEIAABB1JE14QgAA+OMnTXhCAADgUitNeEIAALAwMk14QgAAmJ81TXhCAABQ7D9NeEIAADhbQ014QgAAIMpGTXhCAADwp01NeEIAANgWUU14QgAAqPRXTXhCAABIsGVNeEIAAOhrc014QgAAoLh9TXhCAABYBYhNeEIAACjjjk14QgAAyJ6cTXhCAACA66ZNeEIAAGhaqk14QgAAUMmtTXhCAAAgp7RNeEIAAAgWuE14QgAAwGLCTXhCAACQQMlNeEIAAGAe0E14QgAAMPzWTXhCAAAYa9pNeEIAAOhI4U14QgAA0LfkTXhCAAC4JuhNeEIAAKCV6014QgAAiATvTXhCAABY4vVNeEIAAEBR+U14QgAAKMD8TXhCAADgDAdOeEIAAJhZEU54QgAAgMgUTnhCAAA4FR9OeEIAAKiuM054QgAAYPs9TnhCAABIakFOeEIAABhISE54QgAAALdLTnhCAADQlFJOeEIAAKByWU54QgAAcFBgTnhCAABALmdOeEIAAPh6cU54QgAA4Ol0TnhCAACYNn9OeEIAAIClgk54QgAAUIOJTnhCAAAgYZBOeEIAAAjQk054QgAA2K2aTnhC\"},\"shape\":[81],\"dtype\":\"float64\",\"order\":\"little\"}],[\"open\",{\"type\":\"ndarray\",\"array\":{\"type\":\"bytes\",\"data\":\"uB6F60Fl0EDXo3A9OobQQArXo3AdqdBArkfheqSy0EDhehSuZ7TQQK5H4XpEv9BA7FG4HiW30ED2KFyPQrnQQK5H4Xr0tdBAFK5H4Xqr0ECamZmZubXQQB+F61HYsdBAexSuR7Gz0EBSuB6Fe7DQQHsUrkehlNBA16NwPTqJ0EAzMzMzc4XQQBSuR+GKh9BA9ihcj/KR0EDXo3A9ipTQQEjhehTugdBApHA9CneI0EBcj8L1CITQQClcj8JVj9BAw/UoXE+R0EDhehSuZ5HQQOxRuB7FktBAw/UoXH+Z0ECamZmZCX/QQFyPwvXYg9BAuB6F60GK0EDD9Shc347QQFyPwvUol9BAFK5H4Wqd0ECuR+F69KTQQBSuR+FaptBAhetRuB6e0EDXo3A9Go3QQK5H4XpUjNBAAAAAAACN0EAK16Nw7Y7QQOxRuB6lidBArkfherR90EBxPQrXU43QQOF6FK4HktBAmpmZmSmQ0ED2KFyPMpzQQMP1KFxPmdBAAAAAAKCa0ECF61G47o3QQM3MzMwsjdBAMzMzM5Oc0EBxPQrXs57QQGZmZmamp9BAKVyPwvWq0EBmZmZmJrDQQHE9CteTsdBA7FG4HpW00EDNzMzMHLXQQK5H4XpU0NBAcT0K1wPM0EApXI/CpefQQMP1KFz/6NBApHA9Clfl0EA9Ctej8KTQQM3MzMzMh9BAzczMzOyK0EBxPQrXQ4zQQDMzMzPTkdBArkfhevSh0EA9Ctej4JrQQMP1KFyPlNBAhetRuO6a0EAK16NwTZLQQDMzMzPjltBArkfhelST0EDXo3A9apbQQHE9CtdDkNBAAAAAAMCS0EBxPQrXU5fQQAAAAAAAlNBA\"},\"shape\":[81],\"dtype\":\"float64\",\"order\":\"little\"}],[\"high\",{\"type\":\"ndarray\",\"array\":{\"type\":\"bytes\",\"data\":\"j8L1KJyV0EAAAAAAAL/QQMP1KFzvs9BASOF6FG620EAfhetReNfQQHsUrkcR09BAFK5H4eq90EAUrkfhisTQQGZmZma2utBA16NwPRq80EDXo3A9arfQQAAAAACwtNBAuB6F66HB0ECkcD0KB77QQFyPwvVImtBAZmZmZqaQ0EC4HoXrIYvQQBSuR+G6ltBAZmZmZkaV0EAAAAAAgKbQQHsUrkfBidBAcT0K15OM0EAAAAAAgJTQQB+F61FYk9BAAAAAAMCX0ED2KFyP4pTQQAAAAACAptBACtejcD2m0ECPwvUozJfQQEjhehR+ldBAexSuRwGS0ED2KFyPkpnQQD0K16PQqNBAZmZmZrat0EAfhetReLLQQPYoXI9CqNBAAAAAAECh0EBSuB6F65bQQFK4HoVrktBASOF6FL6V0EAAAAAAAJbQQOF6FK4XjtBAPQrXoxCS0EDsUbgeZabQQBSuR+Eql9BAexSuR5Gf0ECamZmZ+avQQBSuR+GKptBAPQrXo+Cc0EAzMzMzI5HQQNejcD06ntBAUrgehWur0ECamZmZeanQQClcj8KFw9BAZmZmZra00EDD9Shcb7rQQJqZmZnZuNBAZmZmZibO0EAzMzMzY97QQOxRuB5l5tBAH4XrUXgF0UAfhetRmPXQQLgehevR+tBACtejcH3p0EB7FK5HUbDQQArXo3BtjdBAhetRuI6U0EAAAAAAQJfQQAAAAACAptBAcT0K17Ou0EDhehSu553QQLgehetxoNBAAAAAAACl0EAfhetReJjQQOF6FK63n9BAFK5H4Tqg0ECamZmZKZ/QQAAAAAAAmtBAZmZmZuaY0EDXo3A9ipzQQHE9CteTtNBA\"},\"shape\":[81],\"dtype\":\"float64\",\"order\":\"little\"}],[\"low\",{\"type\":\"ndarray\",\"array\":{\"type\":\"bytes\",\"data\":\"H4XrUVhR0EDNzMzMjIXQQLgeheuRodBAKVyPwuWg0EBI4XoUPqvQQAAAAACAtdBAH4XrUTiw0EAUrkfhOrjQQArXo3Cdr9BAj8L1KMyn0EDNzMzMTK/QQAAAAAAApNBAexSuRxGz0EAzMzMzc6DQQOxRuB4lhtBAAAAAAACB0ECkcD0Kd3PQQBSuR+F6htBAexSuR5GL0EBxPQrXA47QQGZmZmaGfNBAAAAAAACH0EC4HoXrMYPQQMP1KFyPitBAzczMzEyP0EDNzMzMXI3QQAAAAABAj9BA4XoUrqeW0EAfhetRiHbQQD0K16PAf9BAH4XrUXiJ0EApXI/C9YjQQM3MzMzMlNBA4XoUrged0EAzMzMz46TQQGZmZmZmndBASOF6FD6d0EC4HoXrMYnQQOF6FK73iNBApHA9CneL0EAAAAAAAIvQQAAAAADAetBAPQrXo0B80EAAAAAAAIrQQFK4HoWbjNBAMzMzMwOQ0EAAAAAAAJrQQArXo3A9lNBAXI/C9TiY0EDNzMzMPIjQQMP1KFxfidBA16NwPYqc0EAfhetRyJPQQClcj8JFo9BA4XoUrnem0EAAAAAAgKvQQDMzMzPDrNBA9ihcj8Ku0EAAAAAAAK7QQNejcD26y9BAZmZmZnbK0EB7FK5H0ePQQJqZmZmJ5dBAmpmZmVnh0EAAAAAAAJrQQGZmZmZGgdBAH4XrURiJ0EDhehSuh4XQQHsUrkeBkdBAPQrXo2Cc0EAfhetRWJDQQOxRuB4lj9BAAAAAAECT0EAAAAAAEIPQQFyPwvXYlNBAUrgehZuI0EC4HoXrQZLQQAAAAAAAhNBA7FG4HhWO0EB7FK5H8ZPQQNejcD1ak9BA\"},\"shape\":[81],\"dtype\":\"float64\",\"order\":\"little\"}],[\"close\",{\"type\":\"ndarray\",\"array\":{\"type\":\"bytes\",\"data\":\"FK5H4QqG0EAAAAAAQKnQQFyPwvVIstBAhetRuG600EDXo3A9Sr/QQFK4HoWrw9BAcT0K10O50EAzMzMzM8DQQHE9CtdTuNBAFK5H4bq10EDNzMzM7LXQQMP1KFzPs9BArkfheoS80EBcj8L1aLTQQAAAAACgldBASOF6FF6O0EBI4XoUjofQQLgehevxkdBACtejcJ2U0EB7FK5HoaPQQClcj8J1iNBAZmZmZjaK0EApXI/CVY/QQOF6FK5XkdBAzczMzHyR0EAK16NwzZLQQFyPwvV4mdBAMzMzM/Oh0EAK16NwnYPQQB+F61H4itBAH4XrUbiO0ED2KFyPEpfQQHsUrkcRotBA9ihcjwKl0EAfhetReLHQQK5H4Xr0ptBArkfhepSe0EAAAAAAMJXQQB+F61GIkdBA16NwPbqQ0EDsUbgeBZPQQArXo3BNjdBAuB6F61GN0EAUrkfh+pHQQK5H4Xq0k9BArkfhejSc0EB7FK5HAZ7QQClcj8K1ndBAhetRuN6a0EDD9ShcD5DQQClcj8J1nNBA7FG4HuWh0EAfhetR2KfQQEjhehSuqtBAH4XrUSiw0ED2KFyPkrHQQM3MzMwcttBApHA9Cke10EDhehSuR9DQQHE9Ctcz3tBAZmZmZjb00EDXo3A9+ujQQNejcD2K9NBAcT0K1yPo0EBI4XoU7qfQQI/C9SjsitBA16NwPZqT0EBmZmZmlpHQQHsUrkchpdBAAAAAAKCi0EApXI/CRZvQQD0K16MAm9BAKVyPwvWi0EBcj8L1CJfQQBSuR+F6mdBASOF6FE6W0ED2KFyP4pbQQArXo3Atk9BAZmZmZmaX0EAAAAAAcJjQQOF6FK5HsNBA\"},\"shape\":[81],\"dtype\":\"float64\",\"order\":\"little\"}],[\"volume\",{\"type\":\"ndarray\",\"array\":{\"type\":\"bytes\",\"data\":\"Cs11Gh1dz0DYhopxJBjRQNjabRdSz7lA9iTpmvFnu0AkhetRsA+2QF//5zATCcJAP1PovNbwskCv8dJNUlSyQO5ILv+Baq1AHeP8TVCKtUCPeyx9GP2yQEgJM23X8bRAkLGFII96uUAx0csoaiLGQJuqJoiqJbxAjOEjYjqfsUDT5JtthiWyQF4z+WZbYKxArdkDrZCur0BoFW9kDpW3QEBAMEfva6tAE+SghBk7qEBPFYxKWuKyQHGVYHG46q5AxkfElKi/rkDikuNOWfKrQF7woq+g1r5A9qs5QABftUBb2XdF8KG/QMPxtWfej7lA+N9KdgwUr0BQFOgTuT2xQB36J7j4UbNAy/0ORYHspkCslQm/bPmxQE3XTL7JTapA2sTJ/b67pkAkwyreSOGxQOZhodaUUqdAgbdAgjJ9q0BgIEHxc1qsQD1T6Lxeb7FANT1hiR9zskAQ2xZlFqy1QKNx4UCIx6ZAuFTejpDvrEC/vaQxktm0QPKx9KFbFrNAgrdAghL7qED/rgj+162sQPOGbYtCA7RAUihEwHHYuEDZ/znMZwusQJ3OTgb38MFAToCaWkaZskAaz6ChT5anQDM9YYkXmaJA3873UwtuuUDfmJ6wqGTEQFYychbWYb1AtB6F6yWYwEBiVfZdcRi0QGwyVTB+GsFAVPLqHKOVp0Da3TzV2Ue0QKAqGJX0Z69AwJoDBDNlpEDOuRRXJdqsQNItrYaM7bNAhpAsYIIrr0C23NJqoDuwQGavd3+sP6xAJvmDgec7tkAkzVg07ce4QMzIWdi7+7RAnrZ/ZVFixkCHxoUDIce8QF+PwvWcYMBAJoleRoG5tUCxga0SDK6vQCOA1CZ6UsNA\"},\"shape\":[81],\"dtype\":\"float64\",\"order\":\"little\"}],[\"count\",{\"type\":\"ndarray\",\"array\":{\"type\":\"bytes\",\"data\":\"AAAAANC6DkEAAAAA7DwRQQAAAACQ2v5AAAAAALDm/EAAAAAAIOL4QAAAAAAYagRBAAAAAMC59kAAAAAAcM/2QAAAAAAAjPBAAAAAAFDR90AAAAAAELnzQAAAAACAofVAAAAAAMBa/EAAAAAACPwJQQAAAAAgBgBBAAAAALA39UAAAAAAIC31QAAAAABg++5AAAAAACD38EAAAAAAgND6QAAAAAAw8fBAAAAAAOBe6kAAAAAAQCvzQAAAAABQ0fBAAAAAACCM70AAAAAAQMztQAAAAABw0f1AAAAAAMCb90AAAAAA0NgCQQAAAAAw6PxAAAAAACBS7kAAAAAAEGXwQAAAAABwqPNAAAAAAKDo5kAAAAAAwCLyQAAAAABwt/FAAAAAAIDI7EAAAAAA8Dn0QAAAAACgbelAAAAAACAZ7EAAAAAAoEHsQAAAAABg2PJAAAAAAPAW9UAAAAAAcMX6QAAAAAAQLvFAAAAAANAb8EAAAAAA8C72QAAAAABgl/RAAAAAACB+7UAAAAAA4KHyQAAAAACQrPZAAAAAAFAt+0AAAAAAMEvyQAAAAAAQcANBAAAAAFCx9EAAAAAAgFftQAAAAACgfuhAAAAAAGCF/EAAAAAAqOIGQQAAAADAUgNBAAAAALgTBEEAAAAAUBP7QAAAAACgTQZBAAAAALCZ8EAAAAAAYPv8QAAAAACQXvNAAAAAACCF60AAAAAAUI7wQAAAAABwh/lAAAAAAJAC+UAAAAAAgGv3QAAAAACAX/NAAAAAAJAP/UAAAAAAsHP9QAAAAADAF/lAAAAAABC1BUEAAAAAwID7QAAAAADAL/xAAAAAAPBc80AAAAAAIIzrQAAAAABAyAFB\"},\"shape\":[81],\"dtype\":\"float64\",\"order\":\"little\"}]]}}},\"view\":{\"type\":\"object\",\"name\":\"CDSView\",\"id\":\"p1108\",\"attributes\":{\"filter\":{\"type\":\"object\",\"name\":\"AllIndices\",\"id\":\"p1109\"}}},\"glyph\":{\"type\":\"object\",\"name\":\"VBar\",\"id\":\"p1104\",\"attributes\":{\"x\":{\"type\":\"field\",\"field\":\"timestamp\"},\"width\":{\"type\":\"value\",\"value\":2880000.0},\"bottom\":{\"type\":\"field\",\"field\":\"close\"},\"top\":{\"type\":\"field\",\"field\":\"open\"},\"line_color\":{\"type\":\"value\",\"value\":\"#49a3a3\"},\"line_width\":{\"type\":\"value\",\"value\":2},\"fill_color\":{\"type\":\"value\",\"value\":\"white\"}}},\"nonselection_glyph\":{\"type\":\"object\",\"name\":\"VBar\",\"id\":\"p1105\",\"attributes\":{\"x\":{\"type\":\"field\",\"field\":\"timestamp\"},\"width\":{\"type\":\"value\",\"value\":2880000.0},\"bottom\":{\"type\":\"field\",\"field\":\"close\"},\"top\":{\"type\":\"field\",\"field\":\"open\"},\"line_color\":{\"type\":\"value\",\"value\":\"#49a3a3\"},\"line_alpha\":{\"type\":\"value\",\"value\":0.1},\"line_width\":{\"type\":\"value\",\"value\":2},\"fill_color\":{\"type\":\"value\",\"value\":\"white\"},\"fill_alpha\":{\"type\":\"value\",\"value\":0.1},\"hatch_alpha\":{\"type\":\"value\",\"value\":0.1}}},\"muted_glyph\":{\"type\":\"object\",\"name\":\"VBar\",\"id\":\"p1106\",\"attributes\":{\"x\":{\"type\":\"field\",\"field\":\"timestamp\"},\"width\":{\"type\":\"value\",\"value\":2880000.0},\"bottom\":{\"type\":\"field\",\"field\":\"close\"},\"top\":{\"type\":\"field\",\"field\":\"open\"},\"line_color\":{\"type\":\"value\",\"value\":\"#49a3a3\"},\"line_alpha\":{\"type\":\"value\",\"value\":0.2},\"line_width\":{\"type\":\"value\",\"value\":2},\"fill_color\":{\"type\":\"value\",\"value\":\"white\"},\"fill_alpha\":{\"type\":\"value\",\"value\":0.2},\"hatch_alpha\":{\"type\":\"value\",\"value\":0.2}}}}},{\"type\":\"object\",\"name\":\"GlyphRenderer\",\"id\":\"p1116\",\"attributes\":{\"data_source\":{\"type\":\"object\",\"name\":\"ColumnDataSource\",\"id\":\"p1089\",\"attributes\":{\"selected\":{\"type\":\"object\",\"name\":\"Selection\",\"id\":\"p1090\",\"attributes\":{\"indices\":[],\"line_indices\":[]}},\"selection_policy\":{\"type\":\"object\",\"name\":\"UnionRenderers\",\"id\":\"p1091\"},\"data\":{\"type\":\"map\",\"entries\":[[\"timestamp\",{\"type\":\"ndarray\",\"array\":{\"type\":\"bytes\",\"data\":\"AAAAQ5RMeEIAAOixl0x4QgAAQLqvTHhCAAAoKbNMeEIAAOB1vUx4QgAAyOTATHhCAACYwsdMeEIAAFAP0kx4QgAACFzcTHhCAADYOeNMeEIAAKgX6kx4QgAAkIbtTHhCAABgZPRMeEIAAOiOBU14QgAA0P0ITXhCAAC4bAxNeEIAAHC5Fk14QgAAyMEuTXhCAACADjlNeEIAAGh9PE14QgAACDlKTXhCAADAhVRNeEIAAJBjW014QgAAeNJeTXhCAABgQWJNeEIAADAfaU14QgAAGI5sTXhCAAAA/W9NeEIAANDadk14QgAAuEl6TXhCAACIJ4FNeEIAAHCWhE14QgAAQHSLTXhCAAAQUpJNeEIAAPjAlU14QgAA4C+ZTXhCAACwDaBNeEIAAJh8o014QgAAODixTXhCAADwhLtNeEIAANjzvk14QgAAqNHFTXhCAAB4r8xNeEIAAEiN0014QgAAANrdTXhCAABwc/JNeEIAABAvAE54QgAA+J0DTnhCAADIewpOeEIAALDqDU54QgAAaDcYTnhCAABQphtOeEIAACCEIk54QgAACPMlTnhCAADwYSlOeEIAANjQLE54QgAAwD8wTnhCAACQHTdOeEIAAHiMOk54QgAAMNlETnhCAADoJU9OeEIAALgDVk54QgAAiOFcTnhCAABYv2NOeEIAACidak54QgAAEAxuTnhCAADIWHhOeEIAALDHe054QgAAaBSGTnhCAAA48oxOeEIAAPA+l054Qg==\"},\"shape\":[71],\"dtype\":\"float64\",\"order\":\"little\"}],[\"open\",{\"type\":\"ndarray\",\"array\":{\"type\":\"bytes\",\"data\":\"cT0K12N40EApXI/CVXfQQFyPwvVYw9BAzczMzNzC0EBcj8L1KMDQQFyPwvW4vdBAw/UoXD+40ECamZmZ6bXQQOF6FK5HvNBAXI/C9Wi00ECuR+F61JXQQAAAAAAwktBAw/UoXC+O0EC4HoXroaPQQM3MzMy8h9BArkfhekSG0EBcj8L1KIrQQAAAAAAwotBA4XoUrveK0EAAAAAAQIrQQK5H4XoEotBAzczMzFyx0ECuR+F69KbQQDMzMzOzodBAj8L1KKyf0EDsUbgelZ7QQKRwPQpnlNBAuB6F67GR0EBSuB6FK5XQQAAAAAAAkdBAAAAAAICR0EBmZmZmto7QQArXo3CdkNBA4XoUrgeT0EDD9Shcj5LQQGZmZmaWjtBASOF6FB6N0EBcj8L1aIHQQB+F61HIk9BAMzMzMwOe0EC4HoXrAZrQQLgehevhndBASOF6FA6b0EBmZmZm9o/QQBSuR+HqodBAw/UoXB+20EBcj8L1GN7QQPYoXI9S2NBAhetRuM7z0EC4HoXrse/QQPYoXI9y9NBArkfheqTm0EDhehSuR+jQQKRwPQpX2tBAKVyPwnXU0EDXo3A9+s3QQPYoXI+Cr9BA4XoUrven0EBcj8L1+KXQQMP1KFy/k9BA7FG4HhWl0ECuR+F6lKLQQFyPwvVYm9BAPQrXowCb0ECPwvUoPKPQQLgehetRlNBAUrgehUuZ0EDNzMzMrJbQQPYoXI/iltBA9ihcjzKT0EB7FK5HcZjQQA==\"},\"shape\":[71],\"dtype\":\"float64\",\"order\":\"little\"}],[\"high\",{\"type\":\"ndarray\",\"array\":{\"type\":\"bytes\",\"data\":\"exSuR6GD0EDhehSu53rQQNejcD0K1dBAuB6F6+HE0EAAAAAAQMTQQOxRuB41wNBAAAAAAEC50EBcj8L1SLbQQAAAAAAA6tBAmpmZmQnB0ECF61G4PpjQQMP1KFz/k9BAFK5H4fqR0EAzMzMzI6bQQKRwPQrHi9BACtejcP2I0EAAAAAAwI7QQDMzMzOjtNBAAAAAAECN0ECuR+F6hJPQQKRwPQq3ptBAhetRuN7B0EDNzMzMHKnQQOxRuB6FotBAj8L1KFyj0EDsUbgeFZ/QQArXo3BtltBAAAAAAICS0EDsUbgelZbQQFyPwvVIkdBAZmZmZsaR0EDsUbge9Y7QQEjhehROktBAFK5H4fqV0ECuR+F6RJPQQM3MzMzsj9BAFK5H4RqO0EAAAAAAwIXQQOF6FK5HldBAFK5H4bql0EBmZmZmRp7QQAAAAADAotBAAAAAABCc0EDhehSup5DQQAAAAACAs9BAAAAAADC80EAAAAAAgPHQQLgehevx39BAZmZmZrYA0UA9CtejYPHQQHE9Ctdj9dBAH4XrUZjs0EBSuB6FO+nQQIXrUbju4dBA7FG4HqXW0EBSuB6F+83QQMP1KFz/tNBAUrgeheu60EB7FK5HQanQQClcj8IFlNBA4XoUrsez0EAK16Nw3ajQQI/C9ShsnNBApHA9Clef0EAK16Nw/aPQQPYoXI/iltBACtejcH2i0ECF61G43p7QQAAAAACwm9BAZmZmZraW0EBmZmZmdpnQQA==\"},\"shape\":[71],\"dtype\":\"float64\",\"order\":\"little\"}],[\"low\",{\"type\":\"ndarray\",\"array\":{\"type\":\"bytes\",\"data\":\"MzMzM5Nv0EC4HoXrIVTQQHE9CtdTt9BApHA9Cte00EDXo3A9irrQQAAAAABAqdBAH4XrUXip0EC4HoXrga/QQM3MzMzMk9BAKVyPwvV/0ED2KFyPAojQQDMzMzMzgdBAAAAAAICD0EAAAAAAgHnQQM3MzMycdtBA7FG4HsV+0EAAAAAAQIPQQI/C9Sg8ZNBAH4XrUciB0ECamZmZOYjQQArXo3DNmNBAzczMzKyj0ECuR+F6lJ3QQD0K16MAndBA4XoUrpec0EAAAAAAgIzQQM3MzMzsh9BA9ihcjxKF0EA9CtejYI7QQNejcD3afdBAj8L1KNyL0EAzMzMzw4bQQAAAAACAjNBAAAAAACCO0EAAAAAAgIrQQAAAAABAhNBAuB6F62F30EDNzMzM7HnQQD0K16OgjdBAhetRuN6Y0EA9Ctej0JfQQClcj8JlmtBAAAAAABCD0ECkcD0Kp4XQQMP1KFx/m9BAUrgehaut0ECPwvUoTNXQQFyPwvUIydBArkfherTm0EBcj8L16OHQQOF6FK5H4dBAZmZmZlbh0EBcj8L1mNTQQFyPwvUoz9BAhetRuL7F0EDD9ShcT5/QQAAAAACAltBA4XoUrmej0EDD9ShcT3nQQNejcD1qiNBAZmZmZqag0EDNzMzM3JjQQAAAAABAkdBAzczMzMyX0EAzMzMzo5PQQKRwPQoXi9BA7FG4HjWU0EDsUbgeFZDQQKRwPQqXjNBAhetRuG6H0EA9CtejAJDQQA==\"},\"shape\":[71],\"dtype\":\"float64\",\"order\":\"little\"}],[\"close\",{\"type\":\"ndarray\",\"array\":{\"type\":\"bytes\",\"data\":\"7FG4HjV30EB7FK5HQWXQQEjhehTOwtBAj8L1KCy30EAfhetR+L3QQHE9CtfztdBAUrgehWur0EAfhetR2LHQQM3MzMyssNBA7FG4HmWU0EBI4XoUPpLQQHsUrkdBidBAj8L1KGyF0ED2KFyPoofQQMP1KFxfhtBAhetRuO6B0EBSuB6FK4TQQFK4HoULf9BAmpmZmTmK0EDD9ShcD4rQQFK4HoVbndBAAAAAAECm0EBmZmZmlqHQQBSuR+Gqn9BAzczMzBye0EBmZmZmdpTQQKRwPQqHkdBA16NwPRqN0EC4HoXr0ZDQQK5H4XpUjNBAj8L1KJyO0ECPwvUo/IzQQB+F61H4jtBAw/UoXI+S0EBmZmZmlo7QQMP1KFy/idBA7FG4HmWB0EAK16NwvX3QQBSuR+EqkNBAzczMzOyZ0EBI4XoUTpnQQHE9CtezmtBA16NwPeqN0EC4HoXrEY3QQB+F61G4ntBASOF6FE600EA9CtejYNjQQHE9CtcDzNBAMzMzM6Pv0EDXo3A9qufQQLgeheuh5tBApHA9Clfl0EDD9ShcP9rQQHE9CteD1NBAXI/C9bjN0EBxPQrXg6/QQB+F61EIpdBAj8L1KCym0ECuR+F69IfQQGZmZmY2jNBAKVyPwtWh0EC4HoXr0ZrQQB+F61GIlNBAXI/C9eia0EDhehSuN5TQQM3MzMxsktBAFK5H4aqW0EBSuB6Fe5PQQHE9CtdDkNBAAAAAAMCS0ED2KFyP4pPQQA==\"},\"shape\":[71],\"dtype\":\"float64\",\"order\":\"little\"}],[\"volume\",{\"type\":\"ndarray\",\"array\":{\"type\":\"bytes\",\"data\":\"Kb+36Sc9v0BKzsKeVkPBQG/8+4xbIcFA0S5Rva2JtUAvW+uLRI2xQC7j32ekeLRAPHr83o4FsUAcs14MpUmvQNuhKNCtgdBAktZR1ciSy0DkKR2sH4q0QJpDi2zPLrNAIteGiqFCr0BMMevFYIa/QMcKKT9pirhAGlJ+Uj1mqkCQ4H8rWRisQB2PGai6fdBARuIeS7/cskA3T3XITTmyQOYZNPQP7KxA4wFlU/7uu0BGhlW8MRWsQGH4iJjS4adA345wWhDrqUC8TiMtnfC1QCvaVUg5DbJAVj9vKlp/skApK01K8fqnQJeByvh3h7NAHyWvznF0qEColq31ZX+vQIglHlCWvKNAMZ5BQ48no0BUSZ2Apv6kQOSNzCMvHqVAfY1dorJQsEAPC7WmCXOlQD+bVZ978qVA5xk09I83p0DlzK/mILamQJF6iEbHLqhAsDQpBUXytUAPXvQVlHWoQMf/VrJzO7RA7CEa3cGHoEC6SrA4XOi8QElqEyff2LdA5MTJ/c4PwUD+Meau5eqxQAK+TX82r65AUeRJ0vX0pUCbhuEjEkqqQNEBgjnKYKZAy+9t+kPusEAWdHtJl4bIQP1hhPBwbbZAfwqA8QwHtEB/6IL6gizCQJm2f2UFF6NAa0D2egd/tUCFBWnGMm6sQCJLH7oA7alAFMzR48d5q0CopfJ27DixQI65awkxRbdAUKshca+ys0DrDwaeLw3AQP1Y+tDl0rlAUE9Y4qEftkCT9gZfeDihQA==\"},\"shape\":[71],\"dtype\":\"float64\",\"order\":\"little\"}],[\"count\",{\"type\":\"ndarray\",\"array\":{\"type\":\"bytes\",\"data\":\"AAAAAGBk/0AAAAAAGEgBQQAAAAAIQQVBAAAAAECU/kAAAAAAIOf0QAAAAACwUvhAAAAAAPA18UAAAAAAwMvwQAAAAABoPRBBAAAAAPBSDkEAAAAAwOn5QAAAAACQhfZAAAAAAKBB8EAAAAAAiDcDQQAAAADISgBBAAAAAODi8kAAAAAAIELuQAAAAABckBFBAAAAAODp9kAAAAAA8J7zQAAAAABABfBAAAAAAAD5/UAAAAAAIKXyQAAAAADAq/BAAAAAALBv8EAAAAAAoNr2QAAAAACwrPVAAAAAAGBM9EAAAAAAgIbnQAAAAAAw8vNAAAAAAMA+6kAAAAAAgN/tQAAAAADgg+VAAAAAAAAI40AAAAAAQG7kQAAAAAAAHORAAAAAANAL80AAAAAAYCXsQAAAAADwJ/BAAAAAAABm7EAAAAAAANzrQAAAAADge+pAAAAAAGCb9kAAAAAAQL/wQAAAAABg+vdAAAAAAMCV5UAAAAAAoCMDQQAAAACIOwFBAAAAANBqCEEAAAAAMAn6QAAAAACwzfZAAAAAAKCN8EAAAAAAoE/yQAAAAACAavFAAAAAAKCy90AAAAAAkFYLQQAAAAAwVv5AAAAAALDu+UAAAAAAcE8FQQAAAABAU+hAAAAAAMBP/EAAAAAAQA31QAAAAAAQJvNAAAAAABAW80AAAAAAQOj3QAAAAABgLvxAAAAAANDn9kAAAAAAiN4AQQAAAAAQlvlAAAAAALDj9EAAAAAAQF3hQA==\"},\"shape\":[71],\"dtype\":\"float64\",\"order\":\"little\"}]]}}},\"view\":{\"type\":\"object\",\"name\":\"CDSView\",\"id\":\"p1117\",\"attributes\":{\"filter\":{\"type\":\"object\",\"name\":\"AllIndices\",\"id\":\"p1118\"}}},\"glyph\":{\"type\":\"object\",\"name\":\"VBar\",\"id\":\"p1113\",\"attributes\":{\"x\":{\"type\":\"field\",\"field\":\"timestamp\"},\"width\":{\"type\":\"value\",\"value\":2880000.0},\"bottom\":{\"type\":\"field\",\"field\":\"open\"},\"top\":{\"type\":\"field\",\"field\":\"close\"},\"line_color\":{\"type\":\"value\",\"value\":\"#1f77b4\"},\"fill_color\":{\"type\":\"value\",\"value\":\"#1f77b4\"}}},\"nonselection_glyph\":{\"type\":\"object\",\"name\":\"VBar\",\"id\":\"p1114\",\"attributes\":{\"x\":{\"type\":\"field\",\"field\":\"timestamp\"},\"width\":{\"type\":\"value\",\"value\":2880000.0},\"bottom\":{\"type\":\"field\",\"field\":\"open\"},\"top\":{\"type\":\"field\",\"field\":\"close\"},\"line_color\":{\"type\":\"value\",\"value\":\"#1f77b4\"},\"line_alpha\":{\"type\":\"value\",\"value\":0.1},\"fill_color\":{\"type\":\"value\",\"value\":\"#1f77b4\"},\"fill_alpha\":{\"type\":\"value\",\"value\":0.1},\"hatch_alpha\":{\"type\":\"value\",\"value\":0.1}}},\"muted_glyph\":{\"type\":\"object\",\"name\":\"VBar\",\"id\":\"p1115\",\"attributes\":{\"x\":{\"type\":\"field\",\"field\":\"timestamp\"},\"width\":{\"type\":\"value\",\"value\":2880000.0},\"bottom\":{\"type\":\"field\",\"field\":\"open\"},\"top\":{\"type\":\"field\",\"field\":\"close\"},\"line_color\":{\"type\":\"value\",\"value\":\"#1f77b4\"},\"line_alpha\":{\"type\":\"value\",\"value\":0.2},\"fill_color\":{\"type\":\"value\",\"value\":\"#1f77b4\"},\"fill_alpha\":{\"type\":\"value\",\"value\":0.2},\"hatch_alpha\":{\"type\":\"value\",\"value\":0.2}}}}}],\"toolbar\":{\"type\":\"object\",\"name\":\"Toolbar\",\"id\":\"p1010\",\"attributes\":{\"tools\":[{\"type\":\"object\",\"name\":\"PanTool\",\"id\":\"p1070\"},{\"type\":\"object\",\"name\":\"WheelZoomTool\",\"id\":\"p1071\"},{\"type\":\"object\",\"name\":\"BoxZoomTool\",\"id\":\"p1072\",\"attributes\":{\"overlay\":{\"type\":\"object\",\"name\":\"BoxAnnotation\",\"id\":\"p1073\",\"attributes\":{\"syncable\":false,\"level\":\"overlay\",\"visible\":false,\"left_units\":\"canvas\",\"right_units\":\"canvas\",\"bottom_units\":\"canvas\",\"top_units\":\"canvas\",\"line_color\":\"black\",\"line_alpha\":1.0,\"line_width\":2,\"line_dash\":[4,4],\"fill_color\":\"lightgrey\",\"fill_alpha\":0.5}}}},{\"type\":\"object\",\"name\":\"ResetTool\",\"id\":\"p1074\"},{\"type\":\"object\",\"name\":\"SaveTool\",\"id\":\"p1075\"},{\"type\":\"object\",\"name\":\"HoverTool\",\"id\":\"p1119\",\"attributes\":{\"renderers\":[{\"id\":\"p1107\"}],\"tooltips\":[[\"timestamp\",\"@timestamp{%F %R.%S}\"],[\"open\",\"@open{0.0}\"],[\"high\",\"@high{0.0}\"],[\"low\",\"@low{0.0}\"],[\"close\",\"@close{0.0}\"]],\"formatters\":{\"type\":\"map\",\"entries\":[[\"@timestamp\",\"datetime\"]]},\"mode\":\"vline\",\"show_arrow\":false}},{\"type\":\"object\",\"name\":\"HoverTool\",\"id\":\"p1120\",\"attributes\":{\"renderers\":[{\"id\":\"p1116\"}],\"tooltips\":[[\"timestamp\",\"@timestamp{%F %R.%S}\"],[\"open\",\"@open{0.0}\"],[\"high\",\"@high{0.0}\"],[\"low\",\"@low{0.0}\"],[\"close\",\"@close{0.0}\"]],\"formatters\":{\"type\":\"map\",\"entries\":[[\"@timestamp\",\"datetime\"]]},\"mode\":\"vline\",\"show_arrow\":false}}]}},\"left\":[{\"type\":\"object\",\"name\":\"LinearAxis\",\"id\":\"p1063\",\"attributes\":{\"ticker\":{\"type\":\"object\",\"name\":\"BasicTicker\",\"id\":\"p1064\",\"attributes\":{\"mantissas\":[1,2,5]}},\"formatter\":{\"type\":\"object\",\"name\":\"BasicTickFormatter\",\"id\":\"p1066\"},\"major_label_policy\":{\"type\":\"object\",\"name\":\"AllLabels\",\"id\":\"p1065\"}}}],\"below\":[{\"type\":\"object\",\"name\":\"DatetimeAxis\",\"id\":\"p1020\",\"attributes\":{\"ticker\":{\"type\":\"object\",\"name\":\"DatetimeTicker\",\"id\":\"p1021\",\"attributes\":{\"num_minor_ticks\":5,\"tickers\":[{\"type\":\"object\",\"name\":\"AdaptiveTicker\",\"id\":\"p1022\",\"attributes\":{\"num_minor_ticks\":0,\"mantissas\":[1,2,5],\"max_interval\":500.0}},{\"type\":\"object\",\"name\":\"AdaptiveTicker\",\"id\":\"p1023\",\"attributes\":{\"num_minor_ticks\":0,\"base\":60,\"mantissas\":[1,2,5,10,15,20,30],\"min_interval\":1000.0,\"max_interval\":1800000.0}},{\"type\":\"object\",\"name\":\"AdaptiveTicker\",\"id\":\"p1024\",\"attributes\":{\"num_minor_ticks\":0,\"base\":24,\"mantissas\":[1,2,4,6,8,12],\"min_interval\":3600000.0,\"max_interval\":43200000.0}},{\"type\":\"object\",\"name\":\"DaysTicker\",\"id\":\"p1025\",\"attributes\":{\"days\":[1,2,3,4,5,6,7,8,9,10,11,12,13,14,15,16,17,18,19,20,21,22,23,24,25,26,27,28,29,30,31]}},{\"type\":\"object\",\"name\":\"DaysTicker\",\"id\":\"p1026\",\"attributes\":{\"days\":[1,4,7,10,13,16,19,22,25,28]}},{\"type\":\"object\",\"name\":\"DaysTicker\",\"id\":\"p1027\",\"attributes\":{\"days\":[1,8,15,22]}},{\"type\":\"object\",\"name\":\"DaysTicker\",\"id\":\"p1028\",\"attributes\":{\"days\":[1,15]}},{\"type\":\"object\",\"name\":\"MonthsTicker\",\"id\":\"p1029\",\"attributes\":{\"months\":[0,1,2,3,4,5,6,7,8,9,10,11]}},{\"type\":\"object\",\"name\":\"MonthsTicker\",\"id\":\"p1030\",\"attributes\":{\"months\":[0,2,4,6,8,10]}},{\"type\":\"object\",\"name\":\"MonthsTicker\",\"id\":\"p1031\",\"attributes\":{\"months\":[0,4,8]}},{\"type\":\"object\",\"name\":\"MonthsTicker\",\"id\":\"p1032\",\"attributes\":{\"months\":[0,6]}},{\"type\":\"object\",\"name\":\"YearsTicker\",\"id\":\"p1033\"}]}},\"formatter\":{\"type\":\"object\",\"name\":\"DatetimeTickFormatter\",\"id\":\"p1035\"},\"major_label_policy\":{\"type\":\"object\",\"name\":\"AllLabels\",\"id\":\"p1034\"}}}],\"center\":[{\"type\":\"object\",\"name\":\"Grid\",\"id\":\"p1062\",\"attributes\":{\"axis\":{\"id\":\"p1020\"}}},{\"type\":\"object\",\"name\":\"Grid\",\"id\":\"p1069\",\"attributes\":{\"dimension\":1,\"axis\":{\"id\":\"p1063\"}}}],\"background_fill_color\":\"#efefef\"}},{\"type\":\"object\",\"name\":\"Figure\",\"id\":\"p1123\",\"attributes\":{\"width\":800,\"height\":100,\"x_range\":{\"type\":\"object\",\"name\":\"DataRange1d\",\"id\":\"p1125\"},\"y_range\":{\"id\":\"p1004\"},\"x_scale\":{\"type\":\"object\",\"name\":\"LinearScale\",\"id\":\"p1136\"},\"y_scale\":{\"type\":\"object\",\"name\":\"LinearScale\",\"id\":\"p1138\"},\"title\":{\"type\":\"object\",\"name\":\"Title\",\"id\":\"p1126\",\"attributes\":{\"text\":\"Drag the middle and edges of the selection box to change the range above\"}},\"renderers\":[{\"type\":\"object\",\"name\":\"GlyphRenderer\",\"id\":\"p1190\",\"attributes\":{\"data_source\":{\"type\":\"object\",\"name\":\"ColumnDataSource\",\"id\":\"p1184\",\"attributes\":{\"selected\":{\"type\":\"object\",\"name\":\"Selection\",\"id\":\"p1185\",\"attributes\":{\"indices\":[],\"line_indices\":[]}},\"selection_policy\":{\"type\":\"object\",\"name\":\"UnionRenderers\",\"id\":\"p1186\"},\"data\":{\"type\":\"map\",\"entries\":[[\"x\",{\"type\":\"ndarray\",\"array\":{\"type\":\"bytes\",\"data\":\"AAAAQ5RMeEIAAOixl0x4QgAA0CCbTHhCAAC4j55MeEIAAKD+oUx4QgAAiG2lTHhCAABw3KhMeEIAAFhLrEx4QgAAQLqvTHhCAAAoKbNMeEIAABCYtkx4QgAA+Aa6THhCAADgdb1MeEIAAMjkwEx4QgAAsFPETHhCAACYwsdMeEIAAIAxy0x4QgAAaKDOTHhCAABQD9JMeEIAADh+1Ux4QgAAIO3YTHhCAAAIXNxMeEIAAPDK30x4QgAA2DnjTHhCAADAqOZMeEIAAKgX6kx4QgAAkIbtTHhCAAB49fBMeEIAAGBk9Ex4QgAASNP3THhCAAAwQvtMeEIAABix/kx4QgAAACACTXhCAADojgVNeEIAAND9CE14QgAAuGwMTXhCAACg2w9NeEIAAIhKE014QgAAcLkWTXhCAABYKBpNeEIAAECXHU14QgAAKAYhTXhCAAAQdSRNeEIAAPjjJ014QgAA4FIrTXhCAADIwS5NeEIAALAwMk14QgAAmJ81TXhCAACADjlNeEIAAGh9PE14QgAAUOw/TXhCAAA4W0NNeEIAACDKRk14QgAACDlKTXhCAADwp01NeEIAANgWUU14QgAAwIVUTXhCAACo9FdNeEIAAJBjW014QgAAeNJeTXhCAABgQWJNeEIAAEiwZU14QgAAMB9pTXhCAAAYjmxNeEIAAAD9b014QgAA6GtzTXhCAADQ2nZNeEIAALhJek14QgAAoLh9TXhCAACIJ4FNeEIAAHCWhE14QgAAWAWITXhCAABAdItNeEIAACjjjk14QgAAEFKSTXhCAAD4wJVNeEIAAOAvmU14QgAAyJ6cTXhCAACwDaBNeEIAAJh8o014QgAAgOumTXhCAABoWqpNeEIAAFDJrU14QgAAODixTXhCAAAgp7RNeEIAAAgWuE14QgAA8IS7TXhCAADY875NeEIAAMBiwk14QgAAqNHFTXhCAACQQMlNeEIAAHivzE14QgAAYB7QTXhCAABIjdNNeEIAADD81k14QgAAGGvaTXhCAAAA2t1NeEIAAOhI4U14QgAA0LfkTXhCAAC4JuhNeEIAAKCV6014QgAAiATvTXhCAABwc/JNeEIAAFji9U14QgAAQFH5TXhCAAAowPxNeEIAABAvAE54QgAA+J0DTnhCAADgDAdOeEIAAMh7Ck54QgAAsOoNTnhCAACYWRFOeEIAAIDIFE54QgAAaDcYTnhCAABQphtOeEIAADgVH054QgAAIIQiTnhCAAAI8yVOeEIAAPBhKU54QgAA2NAsTnhCAADAPzBOeEIAAKiuM054QgAAkB03TnhCAAB4jDpOeEIAAGD7PU54QgAASGpBTnhCAAAw2UROeEIAABhISE54QgAAALdLTnhCAADoJU9OeEIAANCUUk54QgAAuANWTnhCAACgcllOeEIAAIjhXE54QgAAcFBgTnhCAABYv2NOeEIAAEAuZ054QgAAKJ1qTnhCAAAQDG5OeEIAAPh6cU54QgAA4Ol0TnhCAADIWHhOeEIAALDHe054QgAAmDZ/TnhCAACApYJOeEIAAGgUhk54QgAAUIOJTnhCAAA48oxOeEIAACBhkE54QgAACNCTTnhCAADwPpdOeEIAANitmk54Qg==\"},\"shape\":[152],\"dtype\":\"float64\",\"order\":\"little\"}],[\"y\",{\"type\":\"ndarray\",\"array\":{\"type\":\"bytes\",\"data\":\"7FG4HjV30EB7FK5HQWXQQBSuR+EKhtBAAAAAAECp0EBcj8L1SLLQQIXrUbhutNBA16NwPUq/0EBSuB6Fq8PQQEjhehTOwtBAj8L1KCy30EBxPQrXQ7nQQDMzMzMzwNBAH4XrUfi90EBxPQrX87XQQHE9CtdTuNBAUrgehWur0EAUrkfhurXQQM3MzMzstdBAH4XrUdix0EDD9Shcz7PQQK5H4XqEvNBAzczMzKyw0EBcj8L1aLTQQOxRuB5llNBAAAAAAKCV0EBI4XoUPpLQQHsUrkdBidBASOF6FF6O0ECPwvUobIXQQEjhehSOh9BAuB6F6/GR0EAK16NwnZTQQHsUrkeho9BA9ihcj6KH0EDD9ShcX4bQQIXrUbjugdBAKVyPwnWI0EBmZmZmNorQQFK4HoUrhNBAKVyPwlWP0EDhehSuV5HQQM3MzMx8kdBACtejcM2S0EBcj8L1eJnQQDMzMzPzodBAUrgehQt/0EAK16NwnYPQQB+F61H4itBAmpmZmTmK0EDD9ShcD4rQQB+F61G4jtBA9ihcjxKX0EB7FK5HEaLQQFK4HoVbndBA9ihcjwKl0EAfhetReLHQQAAAAABAptBArkfhevSm0EBmZmZmlqHQQBSuR+Gqn9BAzczMzBye0ECuR+F6lJ7QQGZmZmZ2lNBApHA9CoeR0EDXo3A9Go3QQAAAAAAwldBAuB6F69GQ0ECuR+F6VIzQQB+F61GIkdBAj8L1KJyO0ECPwvUo/IzQQNejcD26kNBAH4XrUfiO0EDsUbgeBZPQQMP1KFyPktBAZmZmZpaO0EDD9Shcv4nQQArXo3BNjdBA7FG4HmWB0EAK16NwvX3QQLgehetRjdBAFK5H4fqR0ECuR+F6tJPQQBSuR+EqkNBArkfhejSc0EB7FK5HAZ7QQM3MzMzsmdBASOF6FE6Z0EApXI/CtZ3QQHE9CtezmtBAhetRuN6a0EDXo3A96o3QQMP1KFwPkNBAuB6F6xGN0EApXI/CdZzQQOxRuB7lodBAH4XrUbie0EAfhetR2KfQQEjhehSuqtBAH4XrUSiw0ED2KFyPkrHQQM3MzMwcttBASOF6FE600ECkcD0KR7XQQOF6FK5H0NBAcT0K1zPe0EA9CtejYNjQQHE9CtcDzNBAZmZmZjb00EAzMzMzo+/QQNejcD2q59BA16NwPfro0EDXo3A9ivTQQLgeheuh5tBApHA9Clfl0EBxPQrXI+jQQMP1KFw/2tBAcT0K14PU0EBcj8L1uM3QQHE9CteDr9BAH4XrUQil0EBI4XoU7qfQQI/C9SgsptBArkfhevSH0ECPwvUo7IrQQNejcD2ak9BAZmZmZjaM0EBmZmZmlpHQQHsUrkchpdBAKVyPwtWh0EAAAAAAoKLQQLgehevRmtBAKVyPwkWb0EAfhetRiJTQQD0K16MAm9BAXI/C9eia0EApXI/C9aLQQOF6FK43lNBAzczMzGyS0EBcj8L1CJfQQBSuR+F6mdBAFK5H4aqW0EBSuB6Fe5PQQEjhehROltBA9ihcj+KW0EBxPQrXQ5DQQArXo3Atk9BAAAAAAMCS0EBmZmZmZpfQQAAAAABwmNBA9ihcj+KT0EDhehSuR7DQQA==\"},\"shape\":[152],\"dtype\":\"float64\",\"order\":\"little\"}]]}}},\"view\":{\"type\":\"object\",\"name\":\"CDSView\",\"id\":\"p1191\",\"attributes\":{\"filter\":{\"type\":\"object\",\"name\":\"AllIndices\",\"id\":\"p1192\"}}},\"glyph\":{\"type\":\"object\",\"name\":\"Line\",\"id\":\"p1187\",\"attributes\":{\"x\":{\"type\":\"field\",\"field\":\"x\"},\"y\":{\"type\":\"field\",\"field\":\"y\"},\"line_color\":\"#1f77b4\"}},\"nonselection_glyph\":{\"type\":\"object\",\"name\":\"Line\",\"id\":\"p1188\",\"attributes\":{\"x\":{\"type\":\"field\",\"field\":\"x\"},\"y\":{\"type\":\"field\",\"field\":\"y\"},\"line_color\":\"#1f77b4\",\"line_alpha\":0.1}},\"muted_glyph\":{\"type\":\"object\",\"name\":\"Line\",\"id\":\"p1189\",\"attributes\":{\"x\":{\"type\":\"field\",\"field\":\"x\"},\"y\":{\"type\":\"field\",\"field\":\"y\"},\"line_color\":\"#1f77b4\",\"line_alpha\":0.2}}}}],\"toolbar\":{\"type\":\"object\",\"name\":\"Toolbar\",\"id\":\"p1131\",\"attributes\":{\"tools\":[{\"type\":\"object\",\"name\":\"RangeTool\",\"id\":\"p1193\",\"attributes\":{\"x_range\":{\"id\":\"p1012\"},\"overlay\":{\"type\":\"object\",\"name\":\"BoxAnnotation\",\"id\":\"p1194\",\"attributes\":{\"syncable\":false,\"level\":\"overlay\",\"line_color\":\"black\",\"line_alpha\":1.0,\"line_width\":0.5,\"line_dash\":[2,2],\"fill_color\":\"navy\",\"fill_alpha\":0.2}}}}],\"active_multi\":{\"id\":\"p1193\"}}},\"toolbar_location\":null,\"below\":[{\"type\":\"object\",\"name\":\"DatetimeAxis\",\"id\":\"p1140\",\"attributes\":{\"ticker\":{\"type\":\"object\",\"name\":\"DatetimeTicker\",\"id\":\"p1141\",\"attributes\":{\"num_minor_ticks\":5,\"tickers\":[{\"type\":\"object\",\"name\":\"AdaptiveTicker\",\"id\":\"p1142\",\"attributes\":{\"num_minor_ticks\":0,\"mantissas\":[1,2,5],\"max_interval\":500.0}},{\"type\":\"object\",\"name\":\"AdaptiveTicker\",\"id\":\"p1143\",\"attributes\":{\"num_minor_ticks\":0,\"base\":60,\"mantissas\":[1,2,5,10,15,20,30],\"min_interval\":1000.0,\"max_interval\":1800000.0}},{\"type\":\"object\",\"name\":\"AdaptiveTicker\",\"id\":\"p1144\",\"attributes\":{\"num_minor_ticks\":0,\"base\":24,\"mantissas\":[1,2,4,6,8,12],\"min_interval\":3600000.0,\"max_interval\":43200000.0}},{\"type\":\"object\",\"name\":\"DaysTicker\",\"id\":\"p1145\",\"attributes\":{\"days\":[1,2,3,4,5,6,7,8,9,10,11,12,13,14,15,16,17,18,19,20,21,22,23,24,25,26,27,28,29,30,31]}},{\"type\":\"object\",\"name\":\"DaysTicker\",\"id\":\"p1146\",\"attributes\":{\"days\":[1,4,7,10,13,16,19,22,25,28]}},{\"type\":\"object\",\"name\":\"DaysTicker\",\"id\":\"p1147\",\"attributes\":{\"days\":[1,8,15,22]}},{\"type\":\"object\",\"name\":\"DaysTicker\",\"id\":\"p1148\",\"attributes\":{\"days\":[1,15]}},{\"type\":\"object\",\"name\":\"MonthsTicker\",\"id\":\"p1149\",\"attributes\":{\"months\":[0,1,2,3,4,5,6,7,8,9,10,11]}},{\"type\":\"object\",\"name\":\"MonthsTicker\",\"id\":\"p1150\",\"attributes\":{\"months\":[0,2,4,6,8,10]}},{\"type\":\"object\",\"name\":\"MonthsTicker\",\"id\":\"p1151\",\"attributes\":{\"months\":[0,4,8]}},{\"type\":\"object\",\"name\":\"MonthsTicker\",\"id\":\"p1152\",\"attributes\":{\"months\":[0,6]}},{\"type\":\"object\",\"name\":\"YearsTicker\",\"id\":\"p1153\"}]}},\"formatter\":{\"type\":\"object\",\"name\":\"DatetimeTickFormatter\",\"id\":\"p1155\"},\"major_label_policy\":{\"type\":\"object\",\"name\":\"AllLabels\",\"id\":\"p1154\"}}}],\"center\":[{\"type\":\"object\",\"name\":\"Grid\",\"id\":\"p1182\",\"attributes\":{\"axis\":{\"id\":\"p1140\"}}}],\"background_fill_color\":\"#efefef\"}}]}}]}};\n  const render_items = [{\"docid\":\"0734e16c-a620-424d-9938-9c5a08d140fa\",\"roots\":{\"p1199\":\"6272e27e-86b6-44b6-a8d7-68e957c10096\"},\"root_ids\":[\"p1199\"]}];\n  root.Bokeh.embed.embed_items_notebook(docs_json, render_items);\n  }\n  if (root.Bokeh !== undefined) {\n    embed_document(root);\n  } else {\n    let attempts = 0;\n    const timer = setInterval(function(root) {\n      if (root.Bokeh !== undefined) {\n        clearInterval(timer);\n        embed_document(root);\n      } else {\n        attempts++;\n        if (attempts > 100) {\n          clearInterval(timer);\n          console.log(\"Bokeh: ERROR: Unable to run BokehJS code because BokehJS library is missing\");\n        }\n      }\n    }, 10, root)\n  }\n})(window);",
      "application/vnd.bokehjs_exec.v0+json": ""
     },
     "metadata": {
      "application/vnd.bokehjs_exec.v0+json": {
       "id": "p1199"
      }
     },
     "output_type": "display_data"
    }
   ],
   "source": [
    "chart = Chart(800, 400, ohlcv)\n",
    "chart.show()"
   ]
  },
  {
   "cell_type": "code",
   "execution_count": 10,
   "id": "6a6629d0",
   "metadata": {},
   "outputs": [
    {
     "ename": "NameError",
     "evalue": "name 'result_to_df' is not defined",
     "output_type": "error",
     "traceback": [
      "\u001b[0;31m---------------------------------------------------------------------------\u001b[0m",
      "\u001b[0;31mNameError\u001b[0m                                 Traceback (most recent call last)",
      "Cell \u001b[0;32mIn [10], line 1\u001b[0m\n\u001b[0;32m----> 1\u001b[0m df \u001b[39m=\u001b[39m result_to_df(r)\n\u001b[1;32m      2\u001b[0m df\n",
      "\u001b[0;31mNameError\u001b[0m: name 'result_to_df' is not defined"
     ]
    }
   ],
   "source": [
    "df = result_to_df(r)\n",
    "df"
   ]
  },
  {
   "cell_type": "code",
   "execution_count": null,
   "id": "e5374aae",
   "metadata": {},
   "outputs": [],
   "source": [
    "bn = BinanceMarket(\"BTCBUSD\")\n",
    "#bn.download(15)\n"
   ]
  },
  {
   "cell_type": "code",
   "execution_count": null,
   "id": "983ae4cc",
   "metadata": {},
   "outputs": [],
   "source": [
    "bn"
   ]
  },
  {
   "cell_type": "code",
   "execution_count": null,
   "id": "4efd50c6",
   "metadata": {},
   "outputs": [],
   "source": [
    "rbot.init_debug_log()\n",
    "bn.download(10)"
   ]
  },
  {
   "cell_type": "code",
   "execution_count": null,
   "id": "9ad85974",
   "metadata": {},
   "outputs": [],
   "source": [
    "bn.info()"
   ]
  },
  {
   "cell_type": "code",
   "execution_count": null,
   "id": "455a1014",
   "metadata": {},
   "outputs": [],
   "source": [
    "rbot.init_debug_log()\n",
    "#print(bn.ohlcvv(1669593599839000 - 60*60*50*1000_000, 1669593599839000, 600))\n",
    "#print(bn.ohlcvv(1669593599839000 - 60*60*50*1000_000, 1669593599839000, 601))\n",
    "bn.ohlcvv(0, 1669593599839000, 601)"
   ]
  },
  {
   "cell_type": "code",
   "execution_count": null,
   "id": "41248e2d",
   "metadata": {},
   "outputs": [],
   "source": [
    "bn.ohlcv(0, 0, 600)"
   ]
  },
  {
   "cell_type": "code",
   "execution_count": null,
   "id": "597c5438",
   "metadata": {},
   "outputs": [],
   "source": [
    "result_to_df(r)"
   ]
  },
  {
   "cell_type": "code",
   "execution_count": null,
   "id": "ddd92292",
   "metadata": {},
   "outputs": [],
   "source": [
    "r[0].update_time"
   ]
  },
  {
   "cell_type": "code",
   "execution_count": null,
   "id": "c7dcb390",
   "metadata": {},
   "outputs": [],
   "source": []
  }
 ],
 "metadata": {
  "kernelspec": {
   "display_name": "Python 3 (ipykernel)",
   "language": "python",
   "name": "python3"
  },
  "language_info": {
   "codemirror_mode": {
    "name": "ipython",
    "version": 3
   },
   "file_extension": ".py",
   "mimetype": "text/x-python",
   "name": "python",
   "nbconvert_exporter": "python",
   "pygments_lexer": "ipython3",
   "version": "3.10.6"
  },
  "vscode": {
   "interpreter": {
    "hash": "561348bbb4e85c6f6e71fe5b82b416ad34192af0efebb264d0a2937e8ad0f6d5"
   }
  }
 },
 "nbformat": 4,
 "nbformat_minor": 5
}
