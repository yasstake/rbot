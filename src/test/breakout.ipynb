{
 "cells": [
  {
   "cell_type": "markdown",
   "id": "cb5d057a",
   "metadata": {},
   "source": []
  },
  {
   "cell_type": "code",
   "execution_count": 1,
   "id": "189953f5-3166-4869-a689-c142f8e37a10",
   "metadata": {},
   "outputs": [],
   "source": [
    "import pandas as pd"
   ]
  },
  {
   "cell_type": "code",
   "execution_count": null,
   "id": "e21001b0",
   "metadata": {},
   "outputs": [],
   "source": []
  },
  {
   "cell_type": "code",
   "execution_count": 2,
   "id": "32f9243f-973a-4b62-8e64-3ec35179960a",
   "metadata": {},
   "outputs": [],
   "source": [
    "import rbot\n",
    "from rbot import BaseAgent\n",
    "from rbot import BinanceMarket\n",
    "from rbot import BackTester\n",
    "from rbot import time_string\n",
    "from rbot import Market\n",
    "from rbot import DAYS_BEFORE\n",
    "from rbot.chart import Chart"
   ]
  },
  {
   "cell_type": "code",
   "execution_count": 3,
   "id": "8a1f1723",
   "metadata": {},
   "outputs": [],
   "source": [
    "\n",
    "\n",
    "class Agent(BaseAgent):\n",
    "    def __init__(self, param_K=1.6):\n",
    "            super().__init__()\n",
    "            self.K = param_K  # パラメターKを設定する。\n",
    "            self.indicator = {}\n",
    "\n",
    "    def clock_interval(self):\n",
    "        #//return 60*60*2\n",
    "        interval = 60*60*2\n",
    "        return interval\n",
    "    \n",
    "    #def on_tick(self, time_us, session, price, side, size):\n",
    "    #    print(time_us, price, side, size)\n",
    "\n",
    "    def on_clock(self, time_us, session):\n",
    "        ohlcv_df = session.ohlcv(60*60*2, 6)       # ６本の足を取得。 最新は６番目。\n",
    "\n",
    "        if len(ohlcv_df.index) < 6:                 # データが過去６本分そろっていない場合はなにもせずリターン\n",
    "            return \n",
    "\n",
    "        ohlcv_df[\"range\"] = ohlcv_df[\"high\"] - ohlcv_df[\"low\"]      # レンジを計算\n",
    "\n",
    "        ohlcv_latest = ohlcv_df[-2:-1]     # 最新足１本\n",
    "        ohlcv_last_5 = ohlcv_df[:-2]       # 過去５本足\n",
    "\n",
    "        range_width = ohlcv_last_5[\"range\"].mean() * self.K     #　過去５本足のレンジの平均値 * K\n",
    "\n",
    "        # Long/Short判定\n",
    "        diff_low   =   (ohlcv_latest[\"open\"][0] - ohlcv_latest[\"low\"][0])\n",
    "        diff_high  = - (ohlcv_latest[\"open\"][0] - ohlcv_latest[\"high\"][0])  \n",
    "\n",
    "        detect_short  = range_width < diff_low\n",
    "        detect_long = range_width  < diff_high\n",
    "        \n",
    "        self.log_indicator('diff_low', time_us, diff_low)\n",
    "        self.log_indicator('diff_high', time_us, diff_high)\n",
    "        self.log_indicator('range', time_us, range_width)\n",
    "        \n",
    "        if detect_short and detect_long:\n",
    "            print(\"detect both side\")\n",
    "            if diff_low < diff_high:\n",
    "                detect_long = True\n",
    "                detect_short = False\n",
    "            else:\n",
    "                detect_long = False\n",
    "                detect_short = True\n",
    "\n",
    "        #print(range_width*self.K, diff_low, diff_high, detect_long, detect_short)\n",
    "\n",
    "        #　執行方法（順報告のポジションがあったら保留。逆方向のポジションがのこっていたらドテン）\n",
    "        if detect_long:\n",
    "            #    print(\"position\", session.long_pos_size, session.short_pos_size)            \n",
    "            #        print(\"make long\")\n",
    "            if not session.long_position_size:\n",
    "            #    print(\"makeorder\")                                    \n",
    "                if not session.short_position_size:\n",
    "\n",
    "                    session.place_order(\"Buy\", session.best_buy_price+0.1, 0.01, 600, \"Open Long\")    \n",
    "                else:\n",
    "\n",
    "                    session.place_order(\"Buy\", session.best_buy_price+0.1, 0.02, 600, \"doten Long\")    \n",
    "            else:\n",
    "                pass\n",
    "\n",
    "        if detect_short:\n",
    "            #print(\"make short\")            \n",
    "            if not session.short_position_size:\n",
    "                #print(\"makeorder\")                                                      \n",
    "                if not session.long_position_size:\n",
    "                    session.place_order(\"Sell\", session.best_sell_price-0.1, 0.01, 600, \"Open Short\") \n",
    "                else:\n",
    "                    session.place_order(\"Sell\", session.best_sell_price-0.1, 0.02, 600, \"Doten Short\") \n",
    "            else:\n",
    "                pass\n",
    "\n",
    "    def on_update(self, time, session, result):\n",
    "        #print(result)\n",
    "        pass\n"
   ]
  },
  {
   "cell_type": "code",
   "execution_count": null,
   "id": "5803f281",
   "metadata": {},
   "outputs": [],
   "source": [
    "\n",
    "    "
   ]
  },
  {
   "cell_type": "code",
   "execution_count": 4,
   "id": "620cc5e4",
   "metadata": {},
   "outputs": [
    {
     "data": {
      "text/plain": [
       "0.001"
      ]
     },
     "execution_count": 4,
     "metadata": {},
     "output_type": "execute_result"
    }
   ],
   "source": [
    "back_tester = BackTester(\"BN\", \"BTCBUSD\", False)\n",
    "back_tester.maker_fee_rate = 0.1 * 0.01  # 0.1%\n",
    "back_tester.maker_fee_rate"
   ]
  },
  {
   "cell_type": "code",
   "execution_count": 5,
   "id": "540b1ee0",
   "metadata": {},
   "outputs": [
    {
     "name": "stdout",
     "output_type": "stream",
     "text": [
      "detect both side\n"
     ]
    },
    {
     "data": {
      "text/html": [
       "<div>\n",
       "<style scoped>\n",
       "    .dataframe tbody tr th:only-of-type {\n",
       "        vertical-align: middle;\n",
       "    }\n",
       "\n",
       "    .dataframe tbody tr th {\n",
       "        vertical-align: top;\n",
       "    }\n",
       "\n",
       "    .dataframe thead th {\n",
       "        text-align: right;\n",
       "    }\n",
       "</style>\n",
       "<table border=\"1\" class=\"dataframe\">\n",
       "  <thead>\n",
       "    <tr style=\"text-align: right;\">\n",
       "      <th></th>\n",
       "      <th>update_time</th>\n",
       "      <th>order_id</th>\n",
       "      <th>sub_id</th>\n",
       "      <th>order_side</th>\n",
       "      <th>post_only</th>\n",
       "      <th>status</th>\n",
       "      <th>open_price</th>\n",
       "      <th>open_size</th>\n",
       "      <th>open_volume</th>\n",
       "      <th>close_price</th>\n",
       "      <th>...</th>\n",
       "      <th>order_price</th>\n",
       "      <th>order_size</th>\n",
       "      <th>order_volume</th>\n",
       "      <th>profit</th>\n",
       "      <th>fee</th>\n",
       "      <th>total_profit</th>\n",
       "      <th>position_change</th>\n",
       "      <th>message</th>\n",
       "      <th>sum_profit</th>\n",
       "      <th>position</th>\n",
       "    </tr>\n",
       "    <tr>\n",
       "      <th>create_time</th>\n",
       "      <th></th>\n",
       "      <th></th>\n",
       "      <th></th>\n",
       "      <th></th>\n",
       "      <th></th>\n",
       "      <th></th>\n",
       "      <th></th>\n",
       "      <th></th>\n",
       "      <th></th>\n",
       "      <th></th>\n",
       "      <th></th>\n",
       "      <th></th>\n",
       "      <th></th>\n",
       "      <th></th>\n",
       "      <th></th>\n",
       "      <th></th>\n",
       "      <th></th>\n",
       "      <th></th>\n",
       "      <th></th>\n",
       "      <th></th>\n",
       "      <th></th>\n",
       "    </tr>\n",
       "  </thead>\n",
       "  <tbody>\n",
       "    <tr>\n",
       "      <th>2022-12-02 14:00:00+00:00</th>\n",
       "      <td>2022-12-02 14:10:00.053000+00:00</td>\n",
       "      <td>0000-0001</td>\n",
       "      <td>0</td>\n",
       "      <td>Sell</td>\n",
       "      <td>True</td>\n",
       "      <td>Expire</td>\n",
       "      <td>0.0</td>\n",
       "      <td>0.0</td>\n",
       "      <td>0.0</td>\n",
       "      <td>0.0</td>\n",
       "      <td>...</td>\n",
       "      <td>16997.79</td>\n",
       "      <td>0.01</td>\n",
       "      <td>169.9779</td>\n",
       "      <td>0.0</td>\n",
       "      <td>0.0</td>\n",
       "      <td>0.0</td>\n",
       "      <td>0.0</td>\n",
       "      <td>Open Short</td>\n",
       "      <td>0.0</td>\n",
       "      <td>0.0</td>\n",
       "    </tr>\n",
       "    <tr>\n",
       "      <th>2022-12-04 00:00:00+00:00</th>\n",
       "      <td>2022-12-04 00:10:00.020000+00:00</td>\n",
       "      <td>0000-0002</td>\n",
       "      <td>0</td>\n",
       "      <td>Sell</td>\n",
       "      <td>True</td>\n",
       "      <td>Expire</td>\n",
       "      <td>0.0</td>\n",
       "      <td>0.0</td>\n",
       "      <td>0.0</td>\n",
       "      <td>0.0</td>\n",
       "      <td>...</td>\n",
       "      <td>16949.11</td>\n",
       "      <td>0.01</td>\n",
       "      <td>169.4911</td>\n",
       "      <td>0.0</td>\n",
       "      <td>0.0</td>\n",
       "      <td>0.0</td>\n",
       "      <td>0.0</td>\n",
       "      <td>Open Short</td>\n",
       "      <td>0.0</td>\n",
       "      <td>0.0</td>\n",
       "    </tr>\n",
       "    <tr>\n",
       "      <th>2022-12-04 02:00:00+00:00</th>\n",
       "      <td>2022-12-04 02:10:00.004000+00:00</td>\n",
       "      <td>0000-0003</td>\n",
       "      <td>0</td>\n",
       "      <td>Buy</td>\n",
       "      <td>True</td>\n",
       "      <td>Expire</td>\n",
       "      <td>0.0</td>\n",
       "      <td>0.0</td>\n",
       "      <td>0.0</td>\n",
       "      <td>0.0</td>\n",
       "      <td>...</td>\n",
       "      <td>16888.17</td>\n",
       "      <td>0.01</td>\n",
       "      <td>168.8817</td>\n",
       "      <td>0.0</td>\n",
       "      <td>0.0</td>\n",
       "      <td>0.0</td>\n",
       "      <td>0.0</td>\n",
       "      <td>Open Long</td>\n",
       "      <td>0.0</td>\n",
       "      <td>0.0</td>\n",
       "    </tr>\n",
       "    <tr>\n",
       "      <th>2022-12-05 02:00:00+00:00</th>\n",
       "      <td>2022-12-05 02:10:00.152000+00:00</td>\n",
       "      <td>0000-0004</td>\n",
       "      <td>0</td>\n",
       "      <td>Buy</td>\n",
       "      <td>True</td>\n",
       "      <td>Expire</td>\n",
       "      <td>0.0</td>\n",
       "      <td>0.0</td>\n",
       "      <td>0.0</td>\n",
       "      <td>0.0</td>\n",
       "      <td>...</td>\n",
       "      <td>17109.75</td>\n",
       "      <td>0.01</td>\n",
       "      <td>171.0975</td>\n",
       "      <td>0.0</td>\n",
       "      <td>0.0</td>\n",
       "      <td>0.0</td>\n",
       "      <td>0.0</td>\n",
       "      <td>Open Long</td>\n",
       "      <td>0.0</td>\n",
       "      <td>0.0</td>\n",
       "    </tr>\n",
       "    <tr>\n",
       "      <th>2022-12-05 06:00:00+00:00</th>\n",
       "      <td>2022-12-05 06:10:00.193000+00:00</td>\n",
       "      <td>0000-0005</td>\n",
       "      <td>0</td>\n",
       "      <td>Buy</td>\n",
       "      <td>True</td>\n",
       "      <td>Expire</td>\n",
       "      <td>0.0</td>\n",
       "      <td>0.0</td>\n",
       "      <td>0.0</td>\n",
       "      <td>0.0</td>\n",
       "      <td>...</td>\n",
       "      <td>17200.78</td>\n",
       "      <td>0.01</td>\n",
       "      <td>172.0078</td>\n",
       "      <td>0.0</td>\n",
       "      <td>0.0</td>\n",
       "      <td>0.0</td>\n",
       "      <td>0.0</td>\n",
       "      <td>Open Long</td>\n",
       "      <td>0.0</td>\n",
       "      <td>0.0</td>\n",
       "    </tr>\n",
       "    <tr>\n",
       "      <th>2022-12-05 16:00:00+00:00</th>\n",
       "      <td>2022-12-05 16:10:00.066000+00:00</td>\n",
       "      <td>0000-0006</td>\n",
       "      <td>0</td>\n",
       "      <td>Sell</td>\n",
       "      <td>True</td>\n",
       "      <td>Expire</td>\n",
       "      <td>0.0</td>\n",
       "      <td>0.0</td>\n",
       "      <td>0.0</td>\n",
       "      <td>0.0</td>\n",
       "      <td>...</td>\n",
       "      <td>17234.23</td>\n",
       "      <td>0.01</td>\n",
       "      <td>172.3423</td>\n",
       "      <td>0.0</td>\n",
       "      <td>0.0</td>\n",
       "      <td>0.0</td>\n",
       "      <td>0.0</td>\n",
       "      <td>Open Short</td>\n",
       "      <td>0.0</td>\n",
       "      <td>0.0</td>\n",
       "    </tr>\n",
       "    <tr>\n",
       "      <th>2022-12-07 08:00:00+00:00</th>\n",
       "      <td>2022-12-07 08:10:00.030000+00:00</td>\n",
       "      <td>0000-0007</td>\n",
       "      <td>0</td>\n",
       "      <td>Sell</td>\n",
       "      <td>True</td>\n",
       "      <td>Expire</td>\n",
       "      <td>0.0</td>\n",
       "      <td>0.0</td>\n",
       "      <td>0.0</td>\n",
       "      <td>0.0</td>\n",
       "      <td>...</td>\n",
       "      <td>17005.47</td>\n",
       "      <td>0.01</td>\n",
       "      <td>170.0547</td>\n",
       "      <td>0.0</td>\n",
       "      <td>0.0</td>\n",
       "      <td>0.0</td>\n",
       "      <td>0.0</td>\n",
       "      <td>Open Short</td>\n",
       "      <td>0.0</td>\n",
       "      <td>0.0</td>\n",
       "    </tr>\n",
       "    <tr>\n",
       "      <th>2022-12-08 20:00:00+00:00</th>\n",
       "      <td>2022-12-08 20:10:00.102000+00:00</td>\n",
       "      <td>0000-0008</td>\n",
       "      <td>0</td>\n",
       "      <td>Buy</td>\n",
       "      <td>True</td>\n",
       "      <td>Expire</td>\n",
       "      <td>0.0</td>\n",
       "      <td>0.0</td>\n",
       "      <td>0.0</td>\n",
       "      <td>0.0</td>\n",
       "      <td>...</td>\n",
       "      <td>16968.08</td>\n",
       "      <td>0.01</td>\n",
       "      <td>169.6808</td>\n",
       "      <td>0.0</td>\n",
       "      <td>0.0</td>\n",
       "      <td>0.0</td>\n",
       "      <td>0.0</td>\n",
       "      <td>Open Long</td>\n",
       "      <td>0.0</td>\n",
       "      <td>0.0</td>\n",
       "    </tr>\n",
       "    <tr>\n",
       "      <th>2022-12-09 14:00:00+00:00</th>\n",
       "      <td>2022-12-09 14:10:00.314000+00:00</td>\n",
       "      <td>0000-0009</td>\n",
       "      <td>0</td>\n",
       "      <td>Sell</td>\n",
       "      <td>True</td>\n",
       "      <td>Expire</td>\n",
       "      <td>0.0</td>\n",
       "      <td>0.0</td>\n",
       "      <td>0.0</td>\n",
       "      <td>0.0</td>\n",
       "      <td>...</td>\n",
       "      <td>17242.52</td>\n",
       "      <td>0.01</td>\n",
       "      <td>172.4252</td>\n",
       "      <td>0.0</td>\n",
       "      <td>0.0</td>\n",
       "      <td>0.0</td>\n",
       "      <td>0.0</td>\n",
       "      <td>Open Short</td>\n",
       "      <td>0.0</td>\n",
       "      <td>0.0</td>\n",
       "    </tr>\n",
       "  </tbody>\n",
       "</table>\n",
       "<p>9 rows × 22 columns</p>\n",
       "</div>"
      ],
      "text/plain": [
       "                                               update_time   order_id  sub_id  \\\n",
       "create_time                                                                     \n",
       "2022-12-02 14:00:00+00:00 2022-12-02 14:10:00.053000+00:00  0000-0001       0   \n",
       "2022-12-04 00:00:00+00:00 2022-12-04 00:10:00.020000+00:00  0000-0002       0   \n",
       "2022-12-04 02:00:00+00:00 2022-12-04 02:10:00.004000+00:00  0000-0003       0   \n",
       "2022-12-05 02:00:00+00:00 2022-12-05 02:10:00.152000+00:00  0000-0004       0   \n",
       "2022-12-05 06:00:00+00:00 2022-12-05 06:10:00.193000+00:00  0000-0005       0   \n",
       "2022-12-05 16:00:00+00:00 2022-12-05 16:10:00.066000+00:00  0000-0006       0   \n",
       "2022-12-07 08:00:00+00:00 2022-12-07 08:10:00.030000+00:00  0000-0007       0   \n",
       "2022-12-08 20:00:00+00:00 2022-12-08 20:10:00.102000+00:00  0000-0008       0   \n",
       "2022-12-09 14:00:00+00:00 2022-12-09 14:10:00.314000+00:00  0000-0009       0   \n",
       "\n",
       "                          order_side  post_only  status  open_price  \\\n",
       "create_time                                                           \n",
       "2022-12-02 14:00:00+00:00       Sell       True  Expire         0.0   \n",
       "2022-12-04 00:00:00+00:00       Sell       True  Expire         0.0   \n",
       "2022-12-04 02:00:00+00:00        Buy       True  Expire         0.0   \n",
       "2022-12-05 02:00:00+00:00        Buy       True  Expire         0.0   \n",
       "2022-12-05 06:00:00+00:00        Buy       True  Expire         0.0   \n",
       "2022-12-05 16:00:00+00:00       Sell       True  Expire         0.0   \n",
       "2022-12-07 08:00:00+00:00       Sell       True  Expire         0.0   \n",
       "2022-12-08 20:00:00+00:00        Buy       True  Expire         0.0   \n",
       "2022-12-09 14:00:00+00:00       Sell       True  Expire         0.0   \n",
       "\n",
       "                           open_size  open_volume  close_price  ...  \\\n",
       "create_time                                                     ...   \n",
       "2022-12-02 14:00:00+00:00        0.0          0.0          0.0  ...   \n",
       "2022-12-04 00:00:00+00:00        0.0          0.0          0.0  ...   \n",
       "2022-12-04 02:00:00+00:00        0.0          0.0          0.0  ...   \n",
       "2022-12-05 02:00:00+00:00        0.0          0.0          0.0  ...   \n",
       "2022-12-05 06:00:00+00:00        0.0          0.0          0.0  ...   \n",
       "2022-12-05 16:00:00+00:00        0.0          0.0          0.0  ...   \n",
       "2022-12-07 08:00:00+00:00        0.0          0.0          0.0  ...   \n",
       "2022-12-08 20:00:00+00:00        0.0          0.0          0.0  ...   \n",
       "2022-12-09 14:00:00+00:00        0.0          0.0          0.0  ...   \n",
       "\n",
       "                           order_price  order_size  order_volume  profit  fee  \\\n",
       "create_time                                                                     \n",
       "2022-12-02 14:00:00+00:00     16997.79        0.01      169.9779     0.0  0.0   \n",
       "2022-12-04 00:00:00+00:00     16949.11        0.01      169.4911     0.0  0.0   \n",
       "2022-12-04 02:00:00+00:00     16888.17        0.01      168.8817     0.0  0.0   \n",
       "2022-12-05 02:00:00+00:00     17109.75        0.01      171.0975     0.0  0.0   \n",
       "2022-12-05 06:00:00+00:00     17200.78        0.01      172.0078     0.0  0.0   \n",
       "2022-12-05 16:00:00+00:00     17234.23        0.01      172.3423     0.0  0.0   \n",
       "2022-12-07 08:00:00+00:00     17005.47        0.01      170.0547     0.0  0.0   \n",
       "2022-12-08 20:00:00+00:00     16968.08        0.01      169.6808     0.0  0.0   \n",
       "2022-12-09 14:00:00+00:00     17242.52        0.01      172.4252     0.0  0.0   \n",
       "\n",
       "                           total_profit  position_change     message  \\\n",
       "create_time                                                            \n",
       "2022-12-02 14:00:00+00:00           0.0              0.0  Open Short   \n",
       "2022-12-04 00:00:00+00:00           0.0              0.0  Open Short   \n",
       "2022-12-04 02:00:00+00:00           0.0              0.0   Open Long   \n",
       "2022-12-05 02:00:00+00:00           0.0              0.0   Open Long   \n",
       "2022-12-05 06:00:00+00:00           0.0              0.0   Open Long   \n",
       "2022-12-05 16:00:00+00:00           0.0              0.0  Open Short   \n",
       "2022-12-07 08:00:00+00:00           0.0              0.0  Open Short   \n",
       "2022-12-08 20:00:00+00:00           0.0              0.0   Open Long   \n",
       "2022-12-09 14:00:00+00:00           0.0              0.0  Open Short   \n",
       "\n",
       "                           sum_profit position  \n",
       "create_time                                     \n",
       "2022-12-02 14:00:00+00:00         0.0      0.0  \n",
       "2022-12-04 00:00:00+00:00         0.0      0.0  \n",
       "2022-12-04 02:00:00+00:00         0.0      0.0  \n",
       "2022-12-05 02:00:00+00:00         0.0      0.0  \n",
       "2022-12-05 06:00:00+00:00         0.0      0.0  \n",
       "2022-12-05 16:00:00+00:00         0.0      0.0  \n",
       "2022-12-07 08:00:00+00:00         0.0      0.0  \n",
       "2022-12-08 20:00:00+00:00         0.0      0.0  \n",
       "2022-12-09 14:00:00+00:00         0.0      0.0  \n",
       "\n",
       "[9 rows x 22 columns]"
      ]
     },
     "execution_count": 5,
     "metadata": {},
     "output_type": "execute_result"
    }
   ],
   "source": [
    "agent = Agent()\n",
    "\n",
    "r = back_tester.run(agent, rbot.DAYS_BEFORE(10), 0)\n",
    "\n",
    "r\n",
    "\n"
   ]
  },
  {
   "cell_type": "code",
   "execution_count": 6,
   "id": "955cd3b2",
   "metadata": {},
   "outputs": [],
   "source": [
    "market = Market.open(\"BN\", \"BTCBUSD\")\n",
    "ohlcv = market.ohlcv(rbot.NOW()-rbot.DAYS(20), 0, 60*60)\n"
   ]
  },
  {
   "cell_type": "code",
   "execution_count": 7,
   "id": "9c1373de",
   "metadata": {},
   "outputs": [
    {
     "data": {
      "text/plain": [
       "'<table><caption>Backtest outline</caption><tr><td>Exchange name</td><td>BN</td></tr><tr><td>Market name</td><td>BTCBUSD</td></tr><tr><td>Size in price currency</td><td>False</td></tr><tr><td>maker fee rate</td><td>0.1 [%]</td></tr><tr><td>Agent</td><td>Agent</td></tr><tr><td> enable: on_tick</td><td>False</td></tr><tr><td> enable: on_clock</td><td>True</td></tr><tr><td> enable: on_update</td><td>True</td></tr><tr><td> clock interval:  </td><td>7200 [sec]</td><tr><td>start</td><td>2022-12-02T05:46:21.024000 (1,669,959,981,024,000)</td></tr><tr><td>end</td><td>2022-12-09T23:59:59.990000 (1,670,630,399,990,000)</td></tr><tr><td>duration</td><td>670,419 [sec] / 7.76 [days]</td></tr><tr><td># of records</td><td>17,825,621</td></tr><tr><td>Simulation time</td><td>17 [sec]</td></tr></table>'"
      ]
     },
     "execution_count": 7,
     "metadata": {},
     "output_type": "execute_result"
    }
   ],
   "source": [
    "back_tester._repr_html_()"
   ]
  },
  {
   "cell_type": "code",
   "execution_count": 8,
   "id": "eb39571b",
   "metadata": {},
   "outputs": [
    {
     "data": {
      "text/html": [
       "<table><caption>Backtest outline</caption><tr><td>Exchange name</td><td>BN</td></tr><tr><td>Market name</td><td>BTCBUSD</td></tr><tr><td>Size in price currency</td><td>False</td></tr><tr><td>maker fee rate</td><td>0.1 [%]</td></tr><tr><td>Agent</td><td>Agent</td></tr><tr><td> enable: on_tick</td><td>False</td></tr><tr><td> enable: on_clock</td><td>True</td></tr><tr><td> enable: on_update</td><td>True</td></tr><tr><td> clock interval:  </td><td>7200 [sec]</td><tr><td>start</td><td>2022-12-02T05:46:21.024000 (1,669,959,981,024,000)</td></tr><tr><td>end</td><td>2022-12-09T23:59:59.990000 (1,670,630,399,990,000)</td></tr><tr><td>duration</td><td>670,419 [sec] / 7.76 [days]</td></tr><tr><td># of records</td><td>17,825,621</td></tr><tr><td>Simulation time</td><td>17 [sec]</td></tr></table>"
      ],
      "text/plain": [
       "<rbot.BackTester at 0x11f6df3a0>"
      ]
     },
     "execution_count": 8,
     "metadata": {},
     "output_type": "execute_result"
    }
   ],
   "source": [
    "back_tester"
   ]
  },
  {
   "cell_type": "code",
   "execution_count": 9,
   "id": "46aacf3a",
   "metadata": {},
   "outputs": [],
   "source": [
    "from collections import OrderedDict\n",
    "import numpy as np\n",
    "\n",
    "\n",
    "from bokeh.layouts import column \n",
    "from bokeh.models import ColumnDataSource, RangeTool, HoverTool\n",
    "from bokeh.plotting import figure\n",
    "from bokeh.io import output_notebook, show\n",
    "import datetime\n",
    "\n",
    "\n"
   ]
  },
  {
   "cell_type": "code",
   "execution_count": 10,
   "id": "ef21a517",
   "metadata": {},
   "outputs": [
    {
     "data": {
      "text/html": [
       "<style>\n",
       "        .bk-notebook-logo {\n",
       "            display: block;\n",
       "            width: 20px;\n",
       "            height: 20px;\n",
       "            background-image: url(data:image/png;base64,iVBORw0KGgoAAAANSUhEUgAAABQAAAAUCAYAAACNiR0NAAAABHNCSVQICAgIfAhkiAAAAAlwSFlzAAALEgAACxIB0t1+/AAAABx0RVh0U29mdHdhcmUAQWRvYmUgRmlyZXdvcmtzIENTNui8sowAAAOkSURBVDiNjZRtaJVlGMd/1/08zzln5zjP1LWcU9N0NkN8m2CYjpgQYQXqSs0I84OLIC0hkEKoPtiH3gmKoiJDU7QpLgoLjLIQCpEsNJ1vqUOdO7ppbuec5+V+rj4ctwzd8IIbbi6u+8f1539dt3A78eXC7QizUF7gyV1fD1Yqg4JWz84yffhm0qkFqBogB9rM8tZdtwVsPUhWhGcFJngGeWrPzHm5oaMmkfEg1usvLFyc8jLRqDOMru7AyC8saQr7GG7f5fvDeH7Ej8CM66nIF+8yngt6HWaKh7k49Soy9nXurCi1o3qUbS3zWfrYeQDTB/Qj6kX6Ybhw4B+bOYoLKCC9H3Nu/leUTZ1JdRWkkn2ldcCamzrcf47KKXdAJllSlxAOkRgyHsGC/zRday5Qld9DyoM4/q/rUoy/CXh3jzOu3bHUVZeU+DEn8FInkPBFlu3+nW3Nw0mk6vCDiWg8CeJaxEwuHS3+z5RgY+YBR6V1Z1nxSOfoaPa4LASWxxdNp+VWTk7+4vzaou8v8PN+xo+KY2xsw6une2frhw05CTYOmQvsEhjhWjn0bmXPjpE1+kplmmkP3suftwTubK9Vq22qKmrBhpY4jvd5afdRA3wGjFAgcnTK2s4hY0/GPNIb0nErGMCRxWOOX64Z8RAC4oCXdklmEvcL8o0BfkNK4lUg9HTl+oPlQxdNo3Mg4Nv175e/1LDGzZen30MEjRUtmXSfiTVu1kK8W4txyV6BMKlbgk3lMwYCiusNy9fVfvvwMxv8Ynl6vxoByANLTWplvuj/nF9m2+PDtt1eiHPBr1oIfhCChQMBw6Aw0UulqTKZdfVvfG7VcfIqLG9bcldL/+pdWTLxLUy8Qq38heUIjh4XlzZxzQm19lLFlr8vdQ97rjZVOLf8nclzckbcD4wxXMidpX30sFd37Fv/GtwwhzhxGVAprjbg0gCAEeIgwCZyTV2Z1REEW8O4py0wsjeloKoMr6iCY6dP92H6Vw/oTyICIthibxjm/DfN9lVz8IqtqKYLUXfoKVMVQVVJOElGjrnnUt9T9wbgp8AyYKaGlqingHZU/uG2NTZSVqwHQTWkx9hxjkpWDaCg6Ckj5qebgBVbT3V3NNXMSiWSDdGV3hrtzla7J+duwPOToIg42ChPQOQjspnSlp1V+Gjdged7+8UN5CRAV7a5EdFNwCjEaBR27b3W890TE7g24NAP/mMDXRWrGoFPQI9ls/MWO2dWFAar/xcOIImbbpA3zgAAAABJRU5ErkJggg==);\n",
       "        }\n",
       "    </style>\n",
       "    <div>\n",
       "        <a href=\"https://bokeh.org\" target=\"_blank\" class=\"bk-notebook-logo\"></a>\n",
       "        <span id=\"p1001\">Loading BokehJS ...</span>\n",
       "    </div>\n"
      ]
     },
     "metadata": {},
     "output_type": "display_data"
    },
    {
     "data": {
      "application/javascript": "(function(root) {\n  function now() {\n    return new Date();\n  }\n\n  const force = true;\n\n  if (typeof root._bokeh_onload_callbacks === \"undefined\" || force === true) {\n    root._bokeh_onload_callbacks = [];\n    root._bokeh_is_loading = undefined;\n  }\n\nconst JS_MIME_TYPE = 'application/javascript';\n  const HTML_MIME_TYPE = 'text/html';\n  const EXEC_MIME_TYPE = 'application/vnd.bokehjs_exec.v0+json';\n  const CLASS_NAME = 'output_bokeh rendered_html';\n\n  /**\n   * Render data to the DOM node\n   */\n  function render(props, node) {\n    const script = document.createElement(\"script\");\n    node.appendChild(script);\n  }\n\n  /**\n   * Handle when an output is cleared or removed\n   */\n  function handleClearOutput(event, handle) {\n    const cell = handle.cell;\n\n    const id = cell.output_area._bokeh_element_id;\n    const server_id = cell.output_area._bokeh_server_id;\n    // Clean up Bokeh references\n    if (id != null && id in Bokeh.index) {\n      Bokeh.index[id].model.document.clear();\n      delete Bokeh.index[id];\n    }\n\n    if (server_id !== undefined) {\n      // Clean up Bokeh references\n      const cmd_clean = \"from bokeh.io.state import curstate; print(curstate().uuid_to_server['\" + server_id + \"'].get_sessions()[0].document.roots[0]._id)\";\n      cell.notebook.kernel.execute(cmd_clean, {\n        iopub: {\n          output: function(msg) {\n            const id = msg.content.text.trim();\n            if (id in Bokeh.index) {\n              Bokeh.index[id].model.document.clear();\n              delete Bokeh.index[id];\n            }\n          }\n        }\n      });\n      // Destroy server and session\n      const cmd_destroy = \"import bokeh.io.notebook as ion; ion.destroy_server('\" + server_id + \"')\";\n      cell.notebook.kernel.execute(cmd_destroy);\n    }\n  }\n\n  /**\n   * Handle when a new output is added\n   */\n  function handleAddOutput(event, handle) {\n    const output_area = handle.output_area;\n    const output = handle.output;\n\n    // limit handleAddOutput to display_data with EXEC_MIME_TYPE content only\n    if ((output.output_type != \"display_data\") || (!Object.prototype.hasOwnProperty.call(output.data, EXEC_MIME_TYPE))) {\n      return\n    }\n\n    const toinsert = output_area.element.find(\".\" + CLASS_NAME.split(' ')[0]);\n\n    if (output.metadata[EXEC_MIME_TYPE][\"id\"] !== undefined) {\n      toinsert[toinsert.length - 1].firstChild.textContent = output.data[JS_MIME_TYPE];\n      // store reference to embed id on output_area\n      output_area._bokeh_element_id = output.metadata[EXEC_MIME_TYPE][\"id\"];\n    }\n    if (output.metadata[EXEC_MIME_TYPE][\"server_id\"] !== undefined) {\n      const bk_div = document.createElement(\"div\");\n      bk_div.innerHTML = output.data[HTML_MIME_TYPE];\n      const script_attrs = bk_div.children[0].attributes;\n      for (let i = 0; i < script_attrs.length; i++) {\n        toinsert[toinsert.length - 1].firstChild.setAttribute(script_attrs[i].name, script_attrs[i].value);\n        toinsert[toinsert.length - 1].firstChild.textContent = bk_div.children[0].textContent\n      }\n      // store reference to server id on output_area\n      output_area._bokeh_server_id = output.metadata[EXEC_MIME_TYPE][\"server_id\"];\n    }\n  }\n\n  function register_renderer(events, OutputArea) {\n\n    function append_mime(data, metadata, element) {\n      // create a DOM node to render to\n      const toinsert = this.create_output_subarea(\n        metadata,\n        CLASS_NAME,\n        EXEC_MIME_TYPE\n      );\n      this.keyboard_manager.register_events(toinsert);\n      // Render to node\n      const props = {data: data, metadata: metadata[EXEC_MIME_TYPE]};\n      render(props, toinsert[toinsert.length - 1]);\n      element.append(toinsert);\n      return toinsert\n    }\n\n    /* Handle when an output is cleared or removed */\n    events.on('clear_output.CodeCell', handleClearOutput);\n    events.on('delete.Cell', handleClearOutput);\n\n    /* Handle when a new output is added */\n    events.on('output_added.OutputArea', handleAddOutput);\n\n    /**\n     * Register the mime type and append_mime function with output_area\n     */\n    OutputArea.prototype.register_mime_type(EXEC_MIME_TYPE, append_mime, {\n      /* Is output safe? */\n      safe: true,\n      /* Index of renderer in `output_area.display_order` */\n      index: 0\n    });\n  }\n\n  // register the mime type if in Jupyter Notebook environment and previously unregistered\n  if (root.Jupyter !== undefined) {\n    const events = require('base/js/events');\n    const OutputArea = require('notebook/js/outputarea').OutputArea;\n\n    if (OutputArea.prototype.mime_types().indexOf(EXEC_MIME_TYPE) == -1) {\n      register_renderer(events, OutputArea);\n    }\n  }\n  if (typeof (root._bokeh_timeout) === \"undefined\" || force === true) {\n    root._bokeh_timeout = Date.now() + 5000;\n    root._bokeh_failed_load = false;\n  }\n\n  const NB_LOAD_WARNING = {'data': {'text/html':\n     \"<div style='background-color: #fdd'>\\n\"+\n     \"<p>\\n\"+\n     \"BokehJS does not appear to have successfully loaded. If loading BokehJS from CDN, this \\n\"+\n     \"may be due to a slow or bad network connection. Possible fixes:\\n\"+\n     \"</p>\\n\"+\n     \"<ul>\\n\"+\n     \"<li>re-rerun `output_notebook()` to attempt to load from CDN again, or</li>\\n\"+\n     \"<li>use INLINE resources instead, as so:</li>\\n\"+\n     \"</ul>\\n\"+\n     \"<code>\\n\"+\n     \"from bokeh.resources import INLINE\\n\"+\n     \"output_notebook(resources=INLINE)\\n\"+\n     \"</code>\\n\"+\n     \"</div>\"}};\n\n  function display_loaded() {\n    const el = document.getElementById(\"p1001\");\n    if (el != null) {\n      el.textContent = \"BokehJS is loading...\";\n    }\n    if (root.Bokeh !== undefined) {\n      if (el != null) {\n        el.textContent = \"BokehJS \" + root.Bokeh.version + \" successfully loaded.\";\n      }\n    } else if (Date.now() < root._bokeh_timeout) {\n      setTimeout(display_loaded, 100)\n    }\n  }\n\n  function run_callbacks() {\n    try {\n      root._bokeh_onload_callbacks.forEach(function(callback) {\n        if (callback != null)\n          callback();\n      });\n    } finally {\n      delete root._bokeh_onload_callbacks\n    }\n    console.debug(\"Bokeh: all callbacks have finished\");\n  }\n\n  function load_libs(css_urls, js_urls, callback) {\n    if (css_urls == null) css_urls = [];\n    if (js_urls == null) js_urls = [];\n\n    root._bokeh_onload_callbacks.push(callback);\n    if (root._bokeh_is_loading > 0) {\n      console.debug(\"Bokeh: BokehJS is being loaded, scheduling callback at\", now());\n      return null;\n    }\n    if (js_urls == null || js_urls.length === 0) {\n      run_callbacks();\n      return null;\n    }\n    console.debug(\"Bokeh: BokehJS not loaded, scheduling load and callback at\", now());\n    root._bokeh_is_loading = css_urls.length + js_urls.length;\n\n    function on_load() {\n      root._bokeh_is_loading--;\n      if (root._bokeh_is_loading === 0) {\n        console.debug(\"Bokeh: all BokehJS libraries/stylesheets loaded\");\n        run_callbacks()\n      }\n    }\n\n    function on_error(url) {\n      console.error(\"failed to load \" + url);\n    }\n\n    for (let i = 0; i < css_urls.length; i++) {\n      const url = css_urls[i];\n      const element = document.createElement(\"link\");\n      element.onload = on_load;\n      element.onerror = on_error.bind(null, url);\n      element.rel = \"stylesheet\";\n      element.type = \"text/css\";\n      element.href = url;\n      console.debug(\"Bokeh: injecting link tag for BokehJS stylesheet: \", url);\n      document.body.appendChild(element);\n    }\n\n    for (let i = 0; i < js_urls.length; i++) {\n      const url = js_urls[i];\n      const element = document.createElement('script');\n      element.onload = on_load;\n      element.onerror = on_error.bind(null, url);\n      element.async = false;\n      element.src = url;\n      console.debug(\"Bokeh: injecting script tag for BokehJS library: \", url);\n      document.head.appendChild(element);\n    }\n  };\n\n  function inject_raw_css(css) {\n    const element = document.createElement(\"style\");\n    element.appendChild(document.createTextNode(css));\n    document.body.appendChild(element);\n  }\n\n  const js_urls = [\"https://cdn.bokeh.org/bokeh/release/bokeh-3.0.2.min.js\", \"https://cdn.bokeh.org/bokeh/release/bokeh-gl-3.0.2.min.js\", \"https://cdn.bokeh.org/bokeh/release/bokeh-widgets-3.0.2.min.js\", \"https://cdn.bokeh.org/bokeh/release/bokeh-tables-3.0.2.min.js\", \"https://cdn.bokeh.org/bokeh/release/bokeh-mathjax-3.0.2.min.js\"];\n  const css_urls = [];\n\n  const inline_js = [    function(Bokeh) {\n      Bokeh.set_log_level(\"info\");\n    },\nfunction(Bokeh) {\n    }\n  ];\n\n  function run_inline_js() {\n    if (root.Bokeh !== undefined || force === true) {\n          for (let i = 0; i < inline_js.length; i++) {\n      inline_js[i].call(root, root.Bokeh);\n    }\nif (force === true) {\n        display_loaded();\n      }} else if (Date.now() < root._bokeh_timeout) {\n      setTimeout(run_inline_js, 100);\n    } else if (!root._bokeh_failed_load) {\n      console.log(\"Bokeh: BokehJS failed to load within specified timeout.\");\n      root._bokeh_failed_load = true;\n    } else if (force !== true) {\n      const cell = $(document.getElementById(\"p1001\")).parents('.cell').data().cell;\n      cell.output_area.append_execute_result(NB_LOAD_WARNING)\n    }\n  }\n\n  if (root._bokeh_is_loading === 0) {\n    console.debug(\"Bokeh: BokehJS loaded, going straight to plotting\");\n    run_inline_js();\n  } else {\n    load_libs(css_urls, js_urls, function() {\n      console.debug(\"Bokeh: BokehJS plotting callback run at\", now());\n      run_inline_js();\n    });\n  }\n}(window));",
      "application/vnd.bokehjs_load.v0+json": ""
     },
     "metadata": {},
     "output_type": "display_data"
    },
    {
     "name": "stdout",
     "output_type": "stream",
     "text": [
      "price\n",
      "volume\n",
      "indicator\n"
     ]
    },
    {
     "data": {
      "text/html": [
       "\n",
       "  <div id=\"4f43d469-ac7a-481e-a92b-2e85bc621415\" data-root-id=\"p1571\" style=\"display: contents;\"></div>\n"
      ]
     },
     "metadata": {},
     "output_type": "display_data"
    },
    {
     "data": {
      "application/javascript": "(function(root) {\n  function embed_document(root) {\n  const docs_json = {\"5756fe2a-cc24-489c-8b64-41dcbf22d5ee\":{\"version\":\"3.0.2\",\"title\":\"Bokeh Application\",\"defs\":[],\"roots\":[{\"type\":\"object\",\"name\":\"Column\",\"id\":\"p1571\",\"attributes\":{\"children\":[{\"type\":\"object\",\"name\":\"Figure\",\"id\":\"p1002\",\"attributes\":{\"width\":900,\"height\":400,\"x_range\":{\"type\":\"object\",\"name\":\"Range1d\",\"id\":\"p1012\",\"attributes\":{\"start\":1669917600000.0,\"end\":1670626800000.0}},\"y_range\":{\"type\":\"object\",\"name\":\"DataRange1d\",\"id\":\"p1004\"},\"x_scale\":{\"type\":\"object\",\"name\":\"LinearScale\",\"id\":\"p1016\"},\"y_scale\":{\"type\":\"object\",\"name\":\"LinearScale\",\"id\":\"p1018\"},\"title\":{\"type\":\"object\",\"name\":\"Title\",\"id\":\"p1005\",\"attributes\":{\"text\":\"BTC chart\"}},\"renderers\":[{\"type\":\"object\",\"name\":\"GlyphRenderer\",\"id\":\"p1098\",\"attributes\":{\"data_source\":{\"type\":\"object\",\"name\":\"ColumnDataSource\",\"id\":\"p1083\",\"attributes\":{\"selected\":{\"type\":\"object\",\"name\":\"Selection\",\"id\":\"p1084\",\"attributes\":{\"indices\":[],\"line_indices\":[]}},\"selection_policy\":{\"type\":\"object\",\"name\":\"UnionRenderers\",\"id\":\"p1085\"},\"data\":{\"type\":\"map\",\"entries\":[[\"timestamp\",{\"type\":\"ndarray\",\"array\":{\"type\":\"bytes\",\"data\":\"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\"},\"shape\":[198],\"dtype\":\"float64\",\"order\":\"little\"}],[\"open\",{\"type\":\"ndarray\",\"array\":{\"type\":\"bytes\",\"data\":\"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\"},\"shape\":[198],\"dtype\":\"float64\",\"order\":\"little\"}],[\"high\",{\"type\":\"ndarray\",\"array\":{\"type\":\"bytes\",\"data\":\"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\"},\"shape\":[198],\"dtype\":\"float64\",\"order\":\"little\"}],[\"low\",{\"type\":\"ndarray\",\"array\":{\"type\":\"bytes\",\"data\":\"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\"},\"shape\":[198],\"dtype\":\"float64\",\"order\":\"little\"}],[\"close\",{\"type\":\"ndarray\",\"array\":{\"type\":\"bytes\",\"data\":\"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\"},\"shape\":[198],\"dtype\":\"float64\",\"order\":\"little\"}],[\"volume\",{\"type\":\"ndarray\",\"array\":{\"type\":\"bytes\",\"data\":\"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\"},\"shape\":[198],\"dtype\":\"float64\",\"order\":\"little\"}],[\"count\",{\"type\":\"ndarray\",\"array\":{\"type\":\"bytes\",\"data\":\"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\"},\"shape\":[198],\"dtype\":\"float64\",\"order\":\"little\"}]]}}},\"view\":{\"type\":\"object\",\"name\":\"CDSView\",\"id\":\"p1099\",\"attributes\":{\"filter\":{\"type\":\"object\",\"name\":\"AllIndices\",\"id\":\"p1100\"}}},\"glyph\":{\"type\":\"object\",\"name\":\"Segment\",\"id\":\"p1095\",\"attributes\":{\"x0\":{\"type\":\"field\",\"field\":\"timestamp\"},\"y0\":{\"type\":\"field\",\"field\":\"high\"},\"x1\":{\"type\":\"field\",\"field\":\"timestamp\"},\"y1\":{\"type\":\"field\",\"field\":\"low\"},\"line_color\":{\"type\":\"value\",\"value\":\"#080808\"}}},\"nonselection_glyph\":{\"type\":\"object\",\"name\":\"Segment\",\"id\":\"p1096\",\"attributes\":{\"x0\":{\"type\":\"field\",\"field\":\"timestamp\"},\"y0\":{\"type\":\"field\",\"field\":\"high\"},\"x1\":{\"type\":\"field\",\"field\":\"timestamp\"},\"y1\":{\"type\":\"field\",\"field\":\"low\"},\"line_color\":{\"type\":\"value\",\"value\":\"#080808\"},\"line_alpha\":{\"type\":\"value\",\"value\":0.1}}},\"muted_glyph\":{\"type\":\"object\",\"name\":\"Segment\",\"id\":\"p1097\",\"attributes\":{\"x0\":{\"type\":\"field\",\"field\":\"timestamp\"},\"y0\":{\"type\":\"field\",\"field\":\"high\"},\"x1\":{\"type\":\"field\",\"field\":\"timestamp\"},\"y1\":{\"type\":\"field\",\"field\":\"low\"},\"line_color\":{\"type\":\"value\",\"value\":\"#080808\"},\"line_alpha\":{\"type\":\"value\",\"value\":0.2}}}}},{\"type\":\"object\",\"name\":\"GlyphRenderer\",\"id\":\"p1107\",\"attributes\":{\"data_source\":{\"type\":\"object\",\"name\":\"ColumnDataSource\",\"id\":\"p1089\",\"attributes\":{\"selected\":{\"type\":\"object\",\"name\":\"Selection\",\"id\":\"p1090\",\"attributes\":{\"indices\":[],\"line_indices\":[]}},\"selection_policy\":{\"type\":\"object\",\"name\":\"UnionRenderers\",\"id\":\"p1091\"},\"data\":{\"type\":\"map\",\"entries\":[[\"timestamp\",{\"type\":\"ndarray\",\"array\":{\"type\":\"bytes\",\"data\":\"AACQhu1MeEIAAGBk9Ex4QgAA6I4FTXhCAADQ/QhNeEIAALhsDE14QgAAcLkWTXhCAADIwS5NeEIAAIAOOU14QgAAaH08TXhCAAAIOUpNeEIAAMCFVE14QgAAkGNbTXhCAAB40l5NeEIAAGBBYk14QgAAMB9pTXhCAAAYjmxNeEIAAAD9b014QgAA0Np2TXhCAAC4SXpNeEIAAIgngU14QgAAcJaETXhCAABAdItNeEIAABBSkk14QgAA+MCVTXhCAADgL5lNeEIAALANoE14QgAAmHyjTXhCAAA4OLFNeEIAAPCEu014QgAA2PO+TXhCAACo0cVNeEIAAHivzE14QgAASI3TTXhCAAAA2t1NeEIAAHBz8k14QgAAEC8ATnhCAAD4nQNOeEIAAMh7Ck54QgAAsOoNTnhCAABoNxhOeEIAAFCmG054QgAAIIQiTnhCAAAI8yVOeEIAAPBhKU54QgAA2NAsTnhCAADAPzBOeEIAAJAdN054QgAAeIw6TnhCAAAw2UROeEIAAOglT054QgAAuANWTnhCAACI4VxOeEIAAFi/Y054QgAAKJ1qTnhCAAAQDG5OeEIAAMhYeE54QgAAsMd7TnhCAABoFIZOeEIAADjyjE54QgAA8D6XTnhCAADAHJ5OeEIAAKiLoU54QgAAeGmoTnhCAABIR69OeEIAADC2sk54QgAAGCW2TnhCAADQccBOeEIAALjgw054QgAAcC3OTnhCAABYnNFOeEIAAEAL1U54QgAAKHrYTnhCAAAQ6dtOeEIAAJgT7U54QgAAgILwTnhCAAA4z/pOeEIAACA+/k54QgAA8BsFT3hCAACoaA9PeEIAAGC1GU94QgAAoCw1T3hCAACImzhPeEIAAEDoQk94QgAAEMZJT3hCAAD4NE1PeEIAAMgSVE94QgAAsIFXT3hCAACY8FpPeEIAAIBfXk94QgAAUD1lT3hCAAAIim9PeEIAAMDWeU94QgAAkLSAT3hCAAB4I4RPeEIAAGCSh094QgAAGN+RT3hC\"},\"shape\":[96],\"dtype\":\"float64\",\"order\":\"little\"}],[\"open\",{\"type\":\"ndarray\",\"array\":{\"type\":\"bytes\",\"data\":\"AAAAADCS0EDD9ShcL47QQLgeheuho9BAzczMzLyH0ECuR+F6RIbQQFyPwvUoitBAAAAAADCi0EDhehSu94rQQAAAAABAitBArkfhegSi0EDNzMzMXLHQQK5H4Xr0ptBAMzMzM7Oh0ECPwvUorJ/QQOxRuB6VntBApHA9CmeU0EC4HoXrsZHQQFK4HoUrldBAAAAAAACR0EAAAAAAgJHQQGZmZma2jtBACtejcJ2Q0EDhehSuB5PQQMP1KFyPktBAZmZmZpaO0EBI4XoUHo3QQFyPwvVogdBAH4XrUciT0EAzMzMzA57QQLgehesBmtBAuB6F6+Gd0EBI4XoUDpvQQGZmZmb2j9BAFK5H4eqh0EDD9ShcH7bQQFyPwvUY3tBA9ihcj1LY0ECF61G4zvPQQLgeheux79BA9ihcj3L00ECuR+F6pObQQOF6FK5H6NBApHA9Clfa0EApXI/CddTQQNejcD36zdBA9ihcj4Kv0EDhehSu96fQQFyPwvX4pdBAw/UoXL+T0EDsUbgeFaXQQK5H4XqUotBAXI/C9Vib0EA9CtejAJvQQI/C9Sg8o9BAuB6F61GU0EBSuB6FS5nQQM3MzMysltBA9ihcj+KW0ED2KFyPMpPQQHsUrkdxmNBA7FG4HnWw0ECuR+F6ZKrQQK5H4Xr0p9BArkfhekSk0ECuR+F6ZJvQQEjhehQej9BAMzMzM+Nw0ECPwvUozG7QQDMzMzMjdtBA7FG4HtVx0ECamZmZiXHQQNejcD3qatBAhetRuF5p0EC4HoXrgXLQQLgehetBcdBAexSuRwFz0EDNzMzMfHDQQNejcD0abdBAXI/C9Yhw0ECkcD0KF3XQQFyPwvWI2dBA16NwPZrL0ECkcD0Kh9LQQNejcD3a1NBAcT0K10PQ0ECamZmZOdLQQNejcD260NBAAAAAAIDQ0EAK16NwDc/QQArXo3Cd1dBAKVyPwlXa0EDXo3A9msfQQOF6FK5Xw9BAKVyPwjW/0EDsUbgetb3QQIXrUbh+u9BA\"},\"shape\":[96],\"dtype\":\"float64\",\"order\":\"little\"}],[\"high\",{\"type\":\"ndarray\",\"array\":{\"type\":\"bytes\",\"data\":\"w/UoXP+T0EAUrkfh+pHQQDMzMzMjptBApHA9CseL0EAK16Nw/YjQQAAAAADAjtBAMzMzM6O00EAAAAAAQI3QQK5H4XqEk9BApHA9Crem0ECF61G43sHQQM3MzMwcqdBA7FG4HoWi0ECPwvUoXKPQQOxRuB4Vn9BACtejcG2W0EAAAAAAgJLQQOxRuB6VltBAXI/C9UiR0EBmZmZmxpHQQOxRuB71jtBASOF6FE6S0EAUrkfh+pXQQK5H4XpEk9BAzczMzOyP0EAUrkfhGo7QQAAAAADAhdBA4XoUrkeV0EAUrkfhuqXQQGZmZmZGntBAAAAAAMCi0EAAAAAAEJzQQOF6FK6nkNBAAAAAAICz0EAAAAAAMLzQQAAAAACA8dBAuB6F6/Hf0EBmZmZmtgDRQD0K16Ng8dBAcT0K12P10EAfhetRmOzQQFK4HoU76dBAhetRuO7h0EDsUbgepdbQQFK4HoX7zdBAw/UoXP+00EBSuB6F67rQQHsUrkdBqdBAKVyPwgWU0EDhehSux7PQQArXo3DdqNBAj8L1KGyc0ECkcD0KV5/QQArXo3D9o9BA9ihcj+KW0EAK16NwfaLQQIXrUbjentBAAAAAALCb0EBmZmZmtpbQQGZmZmZ2mdBAAAAAAAC90ECamZmZuazQQM3MzMz8p9BAmpmZmcml0EApXI/CFZzQQHsUrkfxj9BAcT0K1+Nw0EBcj8L1mHDQQDMzMzOjgNBAAAAAAAB30EBcj8L16HTQQFyPwvWYbtBApHA9Chdy0EAAAAAAQHjQQNejcD2KftBAmpmZmWl40EBcj8L1KHTQQNejcD0abdBAXI/C9chz0EAAAAAAAHzQQAAAAAAA5dBAj8L1KPzN0EBmZmZm5trQQHsUrkfB2dBAuB6F6yHU0ECamZmZOdLQQNejcD0a0dBAUrgehRvV0EBcj8L1eNDQQOxRuB6l3dBAhetRuB7f0EAK16NwTcnQQIXrUbhuw9BA16NwPWrD0EDXo3A9asDQQAAAAADAwdBA\"},\"shape\":[96],\"dtype\":\"float64\",\"order\":\"little\"}],[\"low\",{\"type\":\"ndarray\",\"array\":{\"type\":\"bytes\",\"data\":\"MzMzMzOB0EAAAAAAgIPQQAAAAACAedBAzczMzJx20EDsUbgexX7QQAAAAABAg9BAj8L1KDxk0EAfhetRyIHQQJqZmZk5iNBACtejcM2Y0EDNzMzMrKPQQK5H4XqUndBAPQrXowCd0EDhehSul5zQQAAAAACAjNBAzczMzOyH0ED2KFyPEoXQQD0K16NgjtBA16NwPdp90ECPwvUo3IvQQDMzMzPDhtBAAAAAAICM0EAAAAAAII7QQAAAAACAitBAAAAAAECE0EC4HoXrYXfQQM3MzMzsedBAPQrXo6CN0ECF61G43pjQQD0K16PQl9BAKVyPwmWa0EAAAAAAEIPQQKRwPQqnhdBAw/UoXH+b0EBSuB6Fq63QQI/C9ShM1dBAXI/C9QjJ0ECuR+F6tObQQFyPwvXo4dBA4XoUrkfh0EBmZmZmVuHQQFyPwvWY1NBAXI/C9SjP0ECF61G4vsXQQMP1KFxPn9BAAAAAAICW0EDhehSuZ6PQQMP1KFxPedBA16NwPWqI0EBmZmZmpqDQQM3MzMzcmNBAAAAAAECR0EDNzMzMzJfQQDMzMzOjk9BApHA9CheL0EDsUbgeNZTQQOxRuB4VkNBApHA9CpeM0ECF61G4bofQQD0K16MAkNBAZmZmZual0EAzMzMz057QQD0K16NAn9BAmpmZmQmU0EAAAAAAQInQQMP1KFxvVtBAmpmZmdlk0ECamZmZCWPQQClcj8JlbdBAKVyPwiVq0EDXo3A92mLQQAAAAABwZ9BAAAAAAMBj0EA9CtejgG7QQM3MzMxMatBA4XoUrmdu0EDhehSuZ2rQQBSuR+F6ZNBAKVyPwrVm0ECF61G4jm7QQM3MzMxMwdBAUrgehfvE0EC4HoXrQcjQQKRwPQonzdBApHA9ChfK0EAzMzMzQ8zQQLgehesxytBAMzMzM8PO0EDXo3A9aszQQHE9CtcTzdBAPQrXo9Cq0EBmZmZmJsDQQAAAAAAAuNBAPQrXo9C40ECPwvUobLLQQAAAAAAgt9BA\"},\"shape\":[96],\"dtype\":\"float64\",\"order\":\"little\"}],[\"close\",{\"type\":\"ndarray\",\"array\":{\"type\":\"bytes\",\"data\":\"exSuR0GJ0ECPwvUobIXQQPYoXI+ih9BAw/UoXF+G0ECF61G47oHQQFK4HoUrhNBAUrgehQt/0ECamZmZOYrQQMP1KFwPitBAUrgehVud0EAAAAAAQKbQQGZmZmaWodBAFK5H4aqf0EDNzMzMHJ7QQGZmZmZ2lNBApHA9CoeR0EDXo3A9Go3QQLgehevRkNBArkfhelSM0ECPwvUonI7QQI/C9Sj8jNBAH4XrUfiO0EDD9Shcj5LQQGZmZmaWjtBAw/UoXL+J0EDsUbgeZYHQQArXo3C9fdBAFK5H4SqQ0EDNzMzM7JnQQEjhehROmdBAcT0K17Oa0EDXo3A96o3QQLgehesRjdBAH4XrUbie0EBI4XoUTrTQQD0K16Ng2NBAcT0K1wPM0EAzMzMzo+/QQNejcD2q59BAuB6F66Hm0ECkcD0KV+XQQMP1KFw/2tBAcT0K14PU0EBcj8L1uM3QQHE9CteDr9BAH4XrUQil0ECPwvUoLKbQQK5H4Xr0h9BAZmZmZjaM0EApXI/C1aHQQLgehevRmtBAH4XrUYiU0EBcj8L16JrQQOF6FK43lNBAzczMzGyS0EAUrkfhqpbQQFK4HoV7k9BAcT0K10OQ0EAAAAAAwJLQQPYoXI/ik9BAj8L1KHyq0EBcj8L1mKTQQHsUrkdxoNBArkfhemSb0EBcj8L1KI/QQM3MzMwcX9BAj8L1KNxu0EAfhetR6GbQQOxRuB7VcdBAMzMzM8Nx0EBmZmZm5mrQQIXrUbguadBAPQrXo9Bj0EAK16NwTXHQQBSuR+E6a9BAzczMzHxw0EAzMzMzQ2zQQPYoXI9yadBAH4XrUdho0ECF61G4fm/QQAAAAADAy9BApHA9CsfH0EBxPQrXU83QQFK4HoVr0NBAXI/C9cjM0EDXo3A9utDQQArXo3Cd0NBAAAAAAADP0EAK16Nw3c3QQHE9CtdT0NBAUrgeheu/0EBI4XoU/sHQQHE9CtcTv9BAcT0K17O90EBSuB6Fm7PQQPYoXI9SutBA\"},\"shape\":[96],\"dtype\":\"float64\",\"order\":\"little\"}],[\"volume\",{\"type\":\"ndarray\",\"array\":{\"type\":\"bytes\",\"data\":\"mkOLbM8us0Ai14aKoUKvQEwx68Vghr9AyAopP2mKuEAaUn5SPWaqQJDgfytZGKxAHY8ZqLp90EBF4h5Lv9yyQDdPdchNObJA5hk09A/srEDjAWVT/u67QEaGVbwxFaxAYfiImNLhp0DfjnBaEOupQLxOIy2d8LVAK9pVSDkNskBWP28qWn+yQCkrTUrx+qdAl4HK+HeHs0AfJa/OcXSoQKiWrfVlf69AiCUeUJa8o0AxnkFDjyejQFRJnYCm/qRA5I3MIy8epUB9jV2islCwQA8LtaYJc6VAP5tVn3vypUDnGTT0jzenQOXMr+YgtqZAkXqIRscuqECwNCkFRfK1QA9e9BWUdahAx/9WsnM7tEDsIRrdwYegQLpKsDhc6LxASWoTJ9/Yt0DkxMn9zg/BQP4x5q7l6rFAAr5NfzavrkBR5EnS9fSlQJuG4SMSSqpA0QGCOcpgpkDL7236Q+6wQBZ0e0mXhshA/WGE8HBttkB/CoDxDAe0QH/ogvqCLMJAmbZ/ZQUXo0BqQPZ6B3+1QIUFacYybqxAIksfugDtqUAVzNHjx3mrQKil8nbsOLFAjblrCTFFt0BQqyFxr7KzQOsPBp4vDcBA/Vj60OXSuUBQT1jioR+2QJT2Bl94OKFAehVSfmL4u0CztmJ/CQC0QO0X7IY96apAjciwijecsEDH0ocuwIO3QKn3cMmBI8xAqpvEIMAptUDT4/c2NR21QITYmUJLesFAhf4JLmaExED0BwPPpTjBQB7Fckvz+LdAyObj2hBDtUAs6PaSFhivQAyOklePmbRAsDlAMHcnrUC3mNh83KKtQLLc0mp4oqxAQB2PGcgusUCfceFAMOi5QLG/7J7crrtA5rhTOrCvsECdAwRzzBW3QCacFrwY/rJAYJ1jQFbks0A/V1uxj0atQEYldQLqF7NAxLZFma2rsUBS8uoc+96wQPgGX5hEpLlAqi3KbKwgzkD4cMlx//W8QC4cCMla8LhACPUtc+J9t0DtQnOdRnS6QEOBPpEHvqxA\"},\"shape\":[96],\"dtype\":\"float64\",\"order\":\"little\"}],[\"count\",{\"type\":\"ndarray\",\"array\":{\"type\":\"bytes\",\"data\":\"AAAAAJCF9kAAAAAAoEHwQAAAAACINwNBAAAAAMhKAEEAAAAA4OLyQAAAAAAgQu5AAAAAAFyQEUEAAAAA4On2QAAAAADwnvNAAAAAAEAF8EAAAAAAAPn9QAAAAAAgpfJAAAAAAMCr8EAAAAAAsG/wQAAAAACg2vZAAAAAALCs9UAAAAAAYEz0QAAAAACAhudAAAAAADDy80AAAAAAwD7qQAAAAACA3+1AAAAAAOCD5UAAAAAAAAjjQAAAAABAbuRAAAAAAAAc5EAAAAAA0AvzQAAAAABgJexAAAAAAPAn8EAAAAAAAGbsQAAAAAAA3OtAAAAAAOB76kAAAAAAYJv2QAAAAABAv/BAAAAAAGD690AAAAAAwJXlQAAAAACgIwNBAAAAAIg7AUEAAAAA0GoIQQAAAAAwCfpAAAAAALDN9kAAAAAAoI3wQAAAAACgT/JAAAAAAIBq8UAAAAAAoLL3QAAAAACQVgtBAAAAADBW/kAAAAAAsO75QAAAAABwTwVBAAAAAEBT6EAAAAAAwE/8QAAAAABADfVAAAAAABAm80AAAAAAEBbzQAAAAABA6PdAAAAAAGAu/EAAAAAA0Of2QAAAAACI3gBBAAAAABCW+UAAAAAAsOP0QAAAAABAXeFAAAAAAOCh+0AAAAAAwOz3QAAAAABgdvJAAAAAAABk9kAAAAAA0OD8QAAAAABIXw5BAAAAAIC59kAAAAAAQKL2QAAAAACAaAFBAAAAAEh1AkEAAAAA0AT8QAAAAABwIPJAAAAAAKAP8EAAAAAAQDfvQAAAAAAQl/VAAAAAAGB98kAAAAAAUOzyQAAAAACwo/JAAAAAAGCM9UAAAAAA0DT/QAAAAABwRPlAAAAAAOAd7UAAAAAAoIv4QAAAAADwiPZAAAAAAHB390AAAAAA0GvyQAAAAAAAdvRAAAAAAABi8UAAAAAAQO3vQAAAAADwsvlAAAAAACA1DEEAAAAAAAT3QAAAAAAg9vBAAAAAAMB+8UAAAAAAgB7zQAAAAAAgkeZA\"},\"shape\":[96],\"dtype\":\"float64\",\"order\":\"little\"}]]}}},\"view\":{\"type\":\"object\",\"name\":\"CDSView\",\"id\":\"p1108\",\"attributes\":{\"filter\":{\"type\":\"object\",\"name\":\"AllIndices\",\"id\":\"p1109\"}}},\"glyph\":{\"type\":\"object\",\"name\":\"VBar\",\"id\":\"p1104\",\"attributes\":{\"x\":{\"type\":\"field\",\"field\":\"timestamp\"},\"width\":{\"type\":\"value\",\"value\":2880000.0},\"bottom\":{\"type\":\"field\",\"field\":\"open\"},\"top\":{\"type\":\"field\",\"field\":\"close\"},\"line_color\":{\"type\":\"value\",\"value\":\"#ff0000\"},\"fill_color\":{\"type\":\"value\",\"value\":\"#ff0000\"}}},\"nonselection_glyph\":{\"type\":\"object\",\"name\":\"VBar\",\"id\":\"p1105\",\"attributes\":{\"x\":{\"type\":\"field\",\"field\":\"timestamp\"},\"width\":{\"type\":\"value\",\"value\":2880000.0},\"bottom\":{\"type\":\"field\",\"field\":\"open\"},\"top\":{\"type\":\"field\",\"field\":\"close\"},\"line_color\":{\"type\":\"value\",\"value\":\"#ff0000\"},\"line_alpha\":{\"type\":\"value\",\"value\":0.1},\"fill_color\":{\"type\":\"value\",\"value\":\"#ff0000\"},\"fill_alpha\":{\"type\":\"value\",\"value\":0.1},\"hatch_alpha\":{\"type\":\"value\",\"value\":0.1}}},\"muted_glyph\":{\"type\":\"object\",\"name\":\"VBar\",\"id\":\"p1106\",\"attributes\":{\"x\":{\"type\":\"field\",\"field\":\"timestamp\"},\"width\":{\"type\":\"value\",\"value\":2880000.0},\"bottom\":{\"type\":\"field\",\"field\":\"open\"},\"top\":{\"type\":\"field\",\"field\":\"close\"},\"line_color\":{\"type\":\"value\",\"value\":\"#ff0000\"},\"line_alpha\":{\"type\":\"value\",\"value\":0.2},\"fill_color\":{\"type\":\"value\",\"value\":\"#ff0000\"},\"fill_alpha\":{\"type\":\"value\",\"value\":0.2},\"hatch_alpha\":{\"type\":\"value\",\"value\":0.2}}}}},{\"type\":\"object\",\"name\":\"GlyphRenderer\",\"id\":\"p1116\",\"attributes\":{\"data_source\":{\"type\":\"object\",\"name\":\"ColumnDataSource\",\"id\":\"p1086\",\"attributes\":{\"selected\":{\"type\":\"object\",\"name\":\"Selection\",\"id\":\"p1087\",\"attributes\":{\"indices\":[],\"line_indices\":[]}},\"selection_policy\":{\"type\":\"object\",\"name\":\"UnionRenderers\",\"id\":\"p1088\"},\"data\":{\"type\":\"map\",\"entries\":[[\"timestamp\",{\"type\":\"ndarray\",\"array\":{\"type\":\"bytes\",\"data\":\"AAB49fBMeEIAAEjT90x4QgAAMEL7THhCAAAYsf5MeEIAAAAgAk14QgAAoNsPTXhCAACIShNNeEIAAFgoGk14QgAAQJcdTXhCAAAoBiFNeEIAABB1JE14QgAA+OMnTXhCAADgUitNeEIAALAwMk14QgAAmJ81TXhCAABQ7D9NeEIAADhbQ014QgAAIMpGTXhCAADwp01NeEIAANgWUU14QgAAqPRXTXhCAABIsGVNeEIAAOhrc014QgAAoLh9TXhCAABYBYhNeEIAACjjjk14QgAAyJ6cTXhCAACA66ZNeEIAAGhaqk14QgAAUMmtTXhCAAAgp7RNeEIAAAgWuE14QgAAwGLCTXhCAACQQMlNeEIAAGAe0E14QgAAMPzWTXhCAAAYa9pNeEIAAOhI4U14QgAA0LfkTXhCAAC4JuhNeEIAAKCV6014QgAAiATvTXhCAABY4vVNeEIAAEBR+U14QgAAKMD8TXhCAADgDAdOeEIAAJhZEU54QgAAgMgUTnhCAAA4FR9OeEIAAKiuM054QgAAYPs9TnhCAABIakFOeEIAABhISE54QgAAALdLTnhCAADQlFJOeEIAAKByWU54QgAAcFBgTnhCAABALmdOeEIAAPh6cU54QgAA4Ol0TnhCAACYNn9OeEIAAIClgk54QgAAUIOJTnhCAAAgYZBOeEIAAAjQk054QgAA2K2aTnhCAACQ+qROeEIAAGDYq054QgAAAJS5TnhCAADoAr1OeEIAAKBPx054QgAAiL7KTnhCAAD4V99OeEIAAODG4k54QgAAyDXmTnhCAACwpOlOeEIAAGjx8054QgAAUGD3TnhCAAAIrQFPeEIAANiKCE94QgAAwPkLT3hCAACQ1xJPeEIAAHhGFk94QgAASCQdT3hCAAAwkyBPeEIAABgCJE94QgAAAHEnT3hCAADo3ypPeEIAANBOLk94QgAAuL0xT3hCAABwCjxPeEIAAFh5P094QgAAKFdGT3hCAADgo1BPeEIAAGjOYU94QgAAOKxoT3hCAAAgG2xPeEIAAPD4ck94QgAA2Gd2T3hCAACoRX1PeEIAAEgBi094QgAAMHCOT3hC\"},\"shape\":[102],\"dtype\":\"float64\",\"order\":\"little\"}],[\"open\",{\"type\":\"ndarray\",\"array\":{\"type\":\"bytes\",\"data\":\"16NwPTqJ0EAzMzMzc4XQQBSuR+GKh9BA9ihcj/KR0EDXo3A9ipTQQEjhehTugdBApHA9CneI0EBcj8L1CITQQClcj8JVj9BAw/UoXE+R0EDhehSuZ5HQQOxRuB7FktBAw/UoXH+Z0ECamZmZCX/QQFyPwvXYg9BAuB6F60GK0EDD9Shc347QQFyPwvUol9BAFK5H4Wqd0ECuR+F69KTQQBSuR+FaptBAhetRuB6e0EDXo3A9Go3QQK5H4XpUjNBAAAAAAACN0EAK16Nw7Y7QQOxRuB6lidBArkfherR90EBxPQrXU43QQOF6FK4HktBAmpmZmSmQ0ED2KFyPMpzQQMP1KFxPmdBAAAAAAKCa0ECF61G47o3QQM3MzMwsjdBAMzMzM5Oc0EBxPQrXs57QQGZmZmamp9BAKVyPwvWq0EBmZmZmJrDQQHE9CteTsdBA7FG4HpW00EDNzMzMHLXQQK5H4XpU0NBAcT0K1wPM0EApXI/CpefQQMP1KFz/6NBApHA9Clfl0EA9Ctej8KTQQM3MzMzMh9BAzczMzOyK0EBxPQrXQ4zQQDMzMzPTkdBArkfhevSh0EA9Ctej4JrQQMP1KFyPlNBAhetRuO6a0EAK16NwTZLQQDMzMzPjltBArkfhelST0EDXo3A9apbQQHE9CtdDkNBAAAAAAMCS0EBxPQrXU5fQQAAAAAAAlNBAAAAAAICk0EA9CtejkKDQQD0K16MQX9BA4XoUrsdm0ED2KFyP4mbQQOxRuB7FZtBAPQrXo9Bj0EDXo3A9imvQQGZmZmaGbdBACtejcE1v0EAUrkfhOmvQQHE9Ctezb9BAMzMzM0Ns0EC4HoXrcWnQQKRwPQqXbtBA7FG4HtVo0EBxPQrXE27QQIXrUbh+b9BAFK5H4Vp20ECamZmZmYDQQAAAAACghdBAMzMzM3ON0EC4HoXr8ZHQQFK4HoVL2NBAH4XrUejH0EDsUbge9czQQI/C9ShczdBAH4XrUcjM0EDNzMzM3M3QQOF6FK5H0NBA9ihcj7LW0EBSuB6FK8DQQM3MzMwswdBAzczMzBzC0EDhehSud7PQQGZmZmb2tdBA\"},\"shape\":[102],\"dtype\":\"float64\",\"order\":\"little\"}],[\"high\",{\"type\":\"ndarray\",\"array\":{\"type\":\"bytes\",\"data\":\"ZmZmZqaQ0EC4HoXrIYvQQBSuR+G6ltBAZmZmZkaV0EAAAAAAgKbQQHsUrkfBidBAcT0K15OM0EAAAAAAgJTQQB+F61FYk9BAAAAAAMCX0ED2KFyP4pTQQAAAAACAptBACtejcD2m0ECPwvUozJfQQEjhehR+ldBAexSuRwGS0ED2KFyPkpnQQD0K16PQqNBAZmZmZrat0EAfhetReLLQQPYoXI9CqNBAAAAAAECh0EBSuB6F65bQQFK4HoVrktBASOF6FL6V0EAAAAAAAJbQQOF6FK4XjtBAPQrXoxCS0EDsUbgeZabQQBSuR+Eql9BAexSuR5Gf0ECamZmZ+avQQBSuR+GKptBAPQrXo+Cc0EAzMzMzI5HQQNejcD06ntBAUrgehWur0ECamZmZeanQQClcj8KFw9BAZmZmZra00EDD9Shcb7rQQJqZmZnZuNBAZmZmZibO0EAzMzMzY97QQOxRuB5l5tBAH4XrUXgF0UAfhetRmPXQQLgehevR+tBACtejcH3p0EB7FK5HUbDQQArXo3BtjdBAhetRuI6U0EAAAAAAQJfQQAAAAACAptBAcT0K17Ou0EDhehSu553QQLgehetxoNBAAAAAAACl0EAfhetReJjQQOF6FK63n9BAFK5H4Tqg0ECamZmZKZ/QQAAAAAAAmtBAZmZmZuaY0EDXo3A9ipzQQHE9CteTtNBAj8L1KPyq0ECPwvUoPKXQQPYoXI/ibNBA4XoUrmdx0EBcj8L1CGvQQKRwPQrnetBAAAAAAIBv0EBxPQrX83LQQM3MzMyMcNBAuB6F6zF20ECamZmZeXPQQGZmZmbWfNBA9ihcj+Ju0EAAAAAAQHPQQBSuR+H6cdBAAAAAAIBw0EC4HoXrwXfQQM3MzMwsetBAXI/C9fiH0EAAAAAAAJDQQClcj8IFkNBAw/UoXD+V0EAK16Nw7eDQQKRwPQr35NBAw/UoXM/X0ED2KFyPUt3QQNejcD0K5NBApHA9ClfS0ECuR+F6xNrQQOF6FK6H2tBASOF6FI7y0ECPwvUojMXQQIXrUbhezNBAAAAAAEDF0EAUrkfhKrnQQAAAAACAu9BA\"},\"shape\":[102],\"dtype\":\"float64\",\"order\":\"little\"}],[\"low\",{\"type\":\"ndarray\",\"array\":{\"type\":\"bytes\",\"data\":\"AAAAAACB0ECkcD0Kd3PQQBSuR+F6htBAexSuR5GL0EBxPQrXA47QQGZmZmaGfNBAAAAAAACH0EC4HoXrMYPQQMP1KFyPitBAzczMzEyP0EDNzMzMXI3QQAAAAABAj9BA4XoUrqeW0EAfhetRiHbQQD0K16PAf9BAH4XrUXiJ0EApXI/C9YjQQM3MzMzMlNBA4XoUrged0EAzMzMz46TQQGZmZmZmndBASOF6FD6d0EC4HoXrMYnQQOF6FK73iNBApHA9CneL0EAAAAAAAIvQQAAAAADAetBAPQrXo0B80EAAAAAAAIrQQFK4HoWbjNBAMzMzMwOQ0EAAAAAAAJrQQArXo3A9lNBAXI/C9TiY0EDNzMzMPIjQQMP1KFxfidBA16NwPYqc0EAfhetRyJPQQClcj8JFo9BA4XoUrnem0EAAAAAAgKvQQDMzMzPDrNBA9ihcj8Ku0EAAAAAAAK7QQNejcD26y9BAZmZmZnbK0EB7FK5H0ePQQJqZmZmJ5dBAmpmZmVnh0EAAAAAAAJrQQGZmZmZGgdBAH4XrURiJ0EDhehSuh4XQQHsUrkeBkdBAPQrXo2Cc0EAfhetRWJDQQOxRuB4lj9BAAAAAAECT0EAAAAAAEIPQQFyPwvXYlNBAUrgehZuI0EC4HoXrQZLQQAAAAAAAhNBA7FG4HhWO0EB7FK5H8ZPQQNejcD1ak9BAzczMzEyi0EApXI/C1Z3QQNejcD2qRtBAUrgehbtl0ED2KFyPwl/QQI/C9Sg8ZtBAH4XrUYhj0EAK16NwLWjQQK5H4XoEatBAFK5H4Zpm0EB7FK5HkWPQQDMzMzMTatBASOF6FF5o0EA9CtejYGjQQM3MzMzcbNBAMzMzMyNo0ECF61G4LlXQQAAAAADAaNBAAAAAAIBv0EC4HoXrgXzQQOxRuB7Vg9BArkfhesSJ0EApXI/ChZDQQJqZmZn5yNBA16NwPYrG0EC4HoXrMczQQFK4HoWLy9BAj8L1KJzJ0ECkcD0K18zQQLgehevxztBAAAAAAADH0EAUrkfhmq7QQM3MzMy8vNBAMzMzMwPA0EAAAAAAQKrQQEjhehS+tNBA\"},\"shape\":[102],\"dtype\":\"float64\",\"order\":\"little\"}],[\"close\",{\"type\":\"ndarray\",\"array\":{\"type\":\"bytes\",\"data\":\"SOF6FF6O0EBI4XoUjofQQLgehevxkdBACtejcJ2U0EB7FK5HoaPQQClcj8J1iNBAZmZmZjaK0EApXI/CVY/QQOF6FK5XkdBAzczMzHyR0EAK16NwzZLQQFyPwvV4mdBAMzMzM/Oh0EAK16NwnYPQQB+F61H4itBAH4XrUbiO0ED2KFyPEpfQQHsUrkcRotBA9ihcjwKl0EAfhetReLHQQK5H4Xr0ptBArkfhepSe0EAAAAAAMJXQQB+F61GIkdBA16NwPbqQ0EDsUbgeBZPQQArXo3BNjdBAuB6F61GN0EAUrkfh+pHQQK5H4Xq0k9BArkfhejSc0EB7FK5HAZ7QQClcj8K1ndBAhetRuN6a0EDD9ShcD5DQQClcj8J1nNBA7FG4HuWh0EAfhetR2KfQQEjhehSuqtBAH4XrUSiw0ED2KFyPkrHQQM3MzMwcttBApHA9Cke10EDhehSuR9DQQHE9Ctcz3tBAZmZmZjb00EDXo3A9+ujQQNejcD2K9NBAcT0K1yPo0EBI4XoU7qfQQI/C9SjsitBA16NwPZqT0EBmZmZmlpHQQHsUrkchpdBAAAAAAKCi0EApXI/CRZvQQD0K16MAm9BAKVyPwvWi0EBcj8L1CJfQQBSuR+F6mdBASOF6FE6W0ED2KFyP4pbQQArXo3Atk9BAZmZmZmaX0EAAAAAAcJjQQOF6FK5HsNBAZmZmZgao0ECuR+F6RKTQQDMzMzPTZtBAPQrXo+Bw0EBcj8L16GbQQPYoXI9SdtBAPQrXo8Br0EBmZmZmhm3QQI/C9ShMb9BAXI/C9Yhy0EBxPQrXs2/QQNejcD3qctBArkfhevRs0EDhehSux27QQOxRuB6FcNBAH4XrUQhu0EA9Ctej8HTQQHsUrkdRdtBA7FG4HsWA0EAAAAAAsIXQQD0K16NwjdBASOF6FN6R0ECPwvUoTNjQQArXo3B92dBAMzMzM/PM0EAAAAAAwNLQQNejcD3a1NBAZmZmZibS0EBSuB6Fm9XQQOF6FK6n1tBA4XoUrifa0EDNzMzMLMHQQGZmZmZ2x9BAuB6F61HD0EAAAAAA4LXQQArXo3B9u9BA\"},\"shape\":[102],\"dtype\":\"float64\",\"order\":\"little\"}],[\"volume\",{\"type\":\"ndarray\",\"array\":{\"type\":\"bytes\",\"data\":\"jOEjYjqfsUDT5JtthiWyQF8z+WZbYKxArdkDrZCur0BnFW9kDpW3QD9AMEfva6tAE+SghBk7qEBOFYxKWuKyQHKVYHG46q5AxkfElKi/rkDikuNOWfKrQF7woq+g1r5A9qs5QABftUBb2XdF8KG/QMPxtWfej7lA+N9KdgwUr0BRFOgTuT2xQB36J7j4UbNAy/0ORYHspkCslQm/bPmxQE3XTL7JTapA2sTJ/b67pkAkwyreSOGxQOZhodaUUqdAgbdAgjJ9q0BgIEHxc1qsQD1T6Lxeb7FANT1hiR9zskAQ2xZlFqy1QKNx4UCIx6ZAuFTejpDvrEC/vaQxktm0QPKx9KFbFrNAgrdAghL7qED/rgj+162sQPOGbYtCA7RAUihEwHHYuEDZ/znMZwusQJzOTgb38MFATYCaWkaZskAaz6ChT5anQDM9YYkXmaJA3873UwtuuUDfmJ6wqGTEQFYychbWYb1AtB6F6yWYwEBiVfZdcRi0QGwyVTB+GsFAVPLqHKOVp0Da3TzV2Ue0QKAqGJX0Z69Av5oDBDNlpEDOuRRXJdqsQNItrYaM7bNAhpAsYIIrr0C13NJqoDuwQGavd3+sP6xAJvmDgec7tkAkzVg07ce4QMzIWdi7+7RAnrZ/ZVFixkCHxoUDIce8QF+PwvWcYMBAJoleRoG5tUCwga0SDK6vQCOA1CZ6UsNAPVxy3BkYq0A3donq3TWrQKmFIAdFi8FA8GRwlHQ5tkBT3zKnM8i0QG7/ykpXNsBAdP4mFIrgsUDQZtXnAjKyQBJr8Snwe6hAtxoS96gsq0BzlLw6r5W2QALQYb6MrLNAkCPW4sN+rUAQdR+AzBazQKsOuRlOJ6pAufyH9GvXqkBE27+yiqPAQBgwgVtP/7lA6sA5IzKlwEA0zt+E0kHGQGoJ+aAvm7xAqR3+mtQHukALA8+9oQfQQI6hnGhDaMNAfUljtGa9s0DDL/Xzthe7QMiy0qTst71A0goMWY2SskB+ZkmAUkq1QC9IMxaV7rZAzwuwj5bIx0DFM2joBw7JQBDM0eNfEMRArcWnADg8tEAmuFhRk3i7QES28/2EZ6ZA\"},\"shape\":[102],\"dtype\":\"float64\",\"order\":\"little\"}],[\"count\",{\"type\":\"ndarray\",\"array\":{\"type\":\"bytes\",\"data\":\"AAAAALA39UAAAAAAIC31QAAAAABg++5AAAAAACD38EAAAAAAgND6QAAAAAAw8fBAAAAAAOBe6kAAAAAAQCvzQAAAAABQ0fBAAAAAACCM70AAAAAAQMztQAAAAABw0f1AAAAAAMCb90AAAAAA0NgCQQAAAAAw6PxAAAAAACBS7kAAAAAAEGXwQAAAAABwqPNAAAAAAKDo5kAAAAAAwCLyQAAAAABwt/FAAAAAAIDI7EAAAAAA8Dn0QAAAAACgbelAAAAAACAZ7EAAAAAAoEHsQAAAAABg2PJAAAAAAPAW9UAAAAAAcMX6QAAAAAAQLvFAAAAAANAb8EAAAAAA8C72QAAAAABgl/RAAAAAACB+7UAAAAAA4KHyQAAAAACQrPZAAAAAAFAt+0AAAAAAMEvyQAAAAAAQcANBAAAAAFCx9EAAAAAAgFftQAAAAACgfuhAAAAAAGCF/EAAAAAAqOIGQQAAAADAUgNBAAAAALgTBEEAAAAAUBP7QAAAAACgTQZBAAAAALCZ8EAAAAAAYPv8QAAAAACQXvNAAAAAACCF60AAAAAAUI7wQAAAAABwh/lAAAAAAJAC+UAAAAAAgGv3QAAAAACAX/NAAAAAAJAP/UAAAAAAsHP9QAAAAADAF/lAAAAAABC1BUEAAAAAwID7QAAAAADAL/xAAAAAAPBc80AAAAAAIIzrQAAAAABAyAFBAAAAAHDS8kAAAAAAQMTyQAAAAAAg0ANBAAAAAAAE+UAAAAAAkOb2QAAAAAC46QBBAAAAAOBT60AAAAAAYDPsQAAAAAAACeZAAAAAAGDx6EAAAAAAgIX4QAAAAACgrvZAAAAAAABy8UAAAAAAUKn2QAAAAABQh/FAAAAAAFAi8EAAAAAA+AECQQAAAAAA7PtAAAAAAIBFAEEAAAAAGAkEQQAAAAAwQvlAAAAAAEBK+UAAAAAACGYMQQAAAAAgdARBAAAAAJCH8UAAAAAAwLv3QAAAAACAZv9AAAAAAJB59UAAAAAA8NjzQAAAAABwlPRAAAAAAHh1BEEAAAAASKkEQQAAAABgAwJBAAAAAMDl7UAAAAAAMD/0QAAAAAAgpONA\"},\"shape\":[102],\"dtype\":\"float64\",\"order\":\"little\"}]]}}},\"view\":{\"type\":\"object\",\"name\":\"CDSView\",\"id\":\"p1117\",\"attributes\":{\"filter\":{\"type\":\"object\",\"name\":\"AllIndices\",\"id\":\"p1118\"}}},\"glyph\":{\"type\":\"object\",\"name\":\"VBar\",\"id\":\"p1113\",\"attributes\":{\"x\":{\"type\":\"field\",\"field\":\"timestamp\"},\"width\":{\"type\":\"value\",\"value\":2880000.0},\"bottom\":{\"type\":\"field\",\"field\":\"close\"},\"top\":{\"type\":\"field\",\"field\":\"open\"},\"line_color\":{\"type\":\"value\",\"value\":\"#10ff80\"},\"fill_color\":{\"type\":\"value\",\"value\":\"#10ff80\"}}},\"nonselection_glyph\":{\"type\":\"object\",\"name\":\"VBar\",\"id\":\"p1114\",\"attributes\":{\"x\":{\"type\":\"field\",\"field\":\"timestamp\"},\"width\":{\"type\":\"value\",\"value\":2880000.0},\"bottom\":{\"type\":\"field\",\"field\":\"close\"},\"top\":{\"type\":\"field\",\"field\":\"open\"},\"line_color\":{\"type\":\"value\",\"value\":\"#10ff80\"},\"line_alpha\":{\"type\":\"value\",\"value\":0.1},\"fill_color\":{\"type\":\"value\",\"value\":\"#10ff80\"},\"fill_alpha\":{\"type\":\"value\",\"value\":0.1},\"hatch_alpha\":{\"type\":\"value\",\"value\":0.1}}},\"muted_glyph\":{\"type\":\"object\",\"name\":\"VBar\",\"id\":\"p1115\",\"attributes\":{\"x\":{\"type\":\"field\",\"field\":\"timestamp\"},\"width\":{\"type\":\"value\",\"value\":2880000.0},\"bottom\":{\"type\":\"field\",\"field\":\"close\"},\"top\":{\"type\":\"field\",\"field\":\"open\"},\"line_color\":{\"type\":\"value\",\"value\":\"#10ff80\"},\"line_alpha\":{\"type\":\"value\",\"value\":0.2},\"fill_color\":{\"type\":\"value\",\"value\":\"#10ff80\"},\"fill_alpha\":{\"type\":\"value\",\"value\":0.2},\"hatch_alpha\":{\"type\":\"value\",\"value\":0.2}}}}}],\"toolbar\":{\"type\":\"object\",\"name\":\"Toolbar\",\"id\":\"p1010\",\"attributes\":{\"tools\":[{\"type\":\"object\",\"name\":\"PanTool\",\"id\":\"p1070\"},{\"type\":\"object\",\"name\":\"WheelZoomTool\",\"id\":\"p1071\"},{\"type\":\"object\",\"name\":\"BoxZoomTool\",\"id\":\"p1072\",\"attributes\":{\"overlay\":{\"type\":\"object\",\"name\":\"BoxAnnotation\",\"id\":\"p1073\",\"attributes\":{\"syncable\":false,\"level\":\"overlay\",\"visible\":false,\"left_units\":\"canvas\",\"right_units\":\"canvas\",\"bottom_units\":\"canvas\",\"top_units\":\"canvas\",\"line_color\":\"black\",\"line_alpha\":1.0,\"line_width\":2,\"line_dash\":[4,4],\"fill_color\":\"lightgrey\",\"fill_alpha\":0.5}}}},{\"type\":\"object\",\"name\":\"ResetTool\",\"id\":\"p1074\"},{\"type\":\"object\",\"name\":\"SaveTool\",\"id\":\"p1075\"},{\"type\":\"object\",\"name\":\"HoverTool\",\"id\":\"p1119\",\"attributes\":{\"renderers\":[{\"id\":\"p1116\"}],\"tooltips\":[[\"timestamp\",\"@timestamp{%F %R.%S}\"],[\"open\",\"@open{0.0}\"],[\"high\",\"@high{0.0}\"],[\"low\",\"@low{0.0}\"],[\"close\",\"@close{0.0}\"]],\"formatters\":{\"type\":\"map\",\"entries\":[[\"@timestamp\",\"datetime\"]]},\"mode\":\"vline\",\"show_arrow\":false}},{\"type\":\"object\",\"name\":\"HoverTool\",\"id\":\"p1120\",\"attributes\":{\"renderers\":[{\"id\":\"p1107\"}],\"tooltips\":[[\"timestamp\",\"@timestamp{%F %R.%S}\"],[\"open\",\"@open{0.0}\"],[\"high\",\"@high{0.0}\"],[\"low\",\"@low{0.0}\"],[\"close\",\"@close{0.0}\"]],\"formatters\":{\"type\":\"map\",\"entries\":[[\"@timestamp\",\"datetime\"]]},\"mode\":\"vline\",\"show_arrow\":false}}]}},\"left\":[{\"type\":\"object\",\"name\":\"LinearAxis\",\"id\":\"p1063\",\"attributes\":{\"ticker\":{\"type\":\"object\",\"name\":\"BasicTicker\",\"id\":\"p1066\",\"attributes\":{\"mantissas\":[1,2,5]}},\"formatter\":{\"type\":\"object\",\"name\":\"BasicTickFormatter\",\"id\":\"p1064\"},\"major_label_policy\":{\"type\":\"object\",\"name\":\"AllLabels\",\"id\":\"p1065\"}}}],\"below\":[{\"type\":\"object\",\"name\":\"DatetimeAxis\",\"id\":\"p1020\",\"attributes\":{\"ticker\":{\"type\":\"object\",\"name\":\"DatetimeTicker\",\"id\":\"p1023\",\"attributes\":{\"num_minor_ticks\":5,\"tickers\":[{\"type\":\"object\",\"name\":\"AdaptiveTicker\",\"id\":\"p1024\",\"attributes\":{\"num_minor_ticks\":0,\"mantissas\":[1,2,5],\"max_interval\":500.0}},{\"type\":\"object\",\"name\":\"AdaptiveTicker\",\"id\":\"p1025\",\"attributes\":{\"num_minor_ticks\":0,\"base\":60,\"mantissas\":[1,2,5,10,15,20,30],\"min_interval\":1000.0,\"max_interval\":1800000.0}},{\"type\":\"object\",\"name\":\"AdaptiveTicker\",\"id\":\"p1026\",\"attributes\":{\"num_minor_ticks\":0,\"base\":24,\"mantissas\":[1,2,4,6,8,12],\"min_interval\":3600000.0,\"max_interval\":43200000.0}},{\"type\":\"object\",\"name\":\"DaysTicker\",\"id\":\"p1027\",\"attributes\":{\"days\":[1,2,3,4,5,6,7,8,9,10,11,12,13,14,15,16,17,18,19,20,21,22,23,24,25,26,27,28,29,30,31]}},{\"type\":\"object\",\"name\":\"DaysTicker\",\"id\":\"p1028\",\"attributes\":{\"days\":[1,4,7,10,13,16,19,22,25,28]}},{\"type\":\"object\",\"name\":\"DaysTicker\",\"id\":\"p1029\",\"attributes\":{\"days\":[1,8,15,22]}},{\"type\":\"object\",\"name\":\"DaysTicker\",\"id\":\"p1030\",\"attributes\":{\"days\":[1,15]}},{\"type\":\"object\",\"name\":\"MonthsTicker\",\"id\":\"p1031\",\"attributes\":{\"months\":[0,1,2,3,4,5,6,7,8,9,10,11]}},{\"type\":\"object\",\"name\":\"MonthsTicker\",\"id\":\"p1032\",\"attributes\":{\"months\":[0,2,4,6,8,10]}},{\"type\":\"object\",\"name\":\"MonthsTicker\",\"id\":\"p1033\",\"attributes\":{\"months\":[0,4,8]}},{\"type\":\"object\",\"name\":\"MonthsTicker\",\"id\":\"p1034\",\"attributes\":{\"months\":[0,6]}},{\"type\":\"object\",\"name\":\"YearsTicker\",\"id\":\"p1035\"}]}},\"formatter\":{\"type\":\"object\",\"name\":\"DatetimeTickFormatter\",\"id\":\"p1021\"},\"major_label_policy\":{\"type\":\"object\",\"name\":\"AllLabels\",\"id\":\"p1022\"}}}],\"center\":[{\"type\":\"object\",\"name\":\"Grid\",\"id\":\"p1062\",\"attributes\":{\"axis\":{\"id\":\"p1020\"}}},{\"type\":\"object\",\"name\":\"Grid\",\"id\":\"p1069\",\"attributes\":{\"dimension\":1,\"axis\":{\"id\":\"p1063\"}}}],\"background_fill_color\":\"#efefef\"}},{\"type\":\"object\",\"name\":\"Figure\",\"id\":\"p1123\",\"attributes\":{\"width\":900,\"height\":100,\"x_range\":{\"id\":\"p1012\"},\"y_range\":{\"type\":\"object\",\"name\":\"DataRange1d\",\"id\":\"p1125\"},\"x_scale\":{\"type\":\"object\",\"name\":\"LinearScale\",\"id\":\"p1136\"},\"y_scale\":{\"type\":\"object\",\"name\":\"LinearScale\",\"id\":\"p1138\"},\"title\":{\"type\":\"object\",\"name\":\"Title\",\"id\":\"p1126\",\"attributes\":{\"text\":\"volume\"}},\"renderers\":[{\"type\":\"object\",\"name\":\"GlyphRenderer\",\"id\":\"p1197\",\"attributes\":{\"data_source\":{\"type\":\"object\",\"name\":\"ColumnDataSource\",\"id\":\"p1191\",\"attributes\":{\"selected\":{\"type\":\"object\",\"name\":\"Selection\",\"id\":\"p1192\",\"attributes\":{\"indices\":[],\"line_indices\":[]}},\"selection_policy\":{\"type\":\"object\",\"name\":\"UnionRenderers\",\"id\":\"p1193\"},\"data\":{\"type\":\"map\",\"entries\":[[\"x\",{\"type\":\"ndarray\",\"array\":{\"type\":\"bytes\",\"data\":\"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\"},\"shape\":[198],\"dtype\":\"float64\",\"order\":\"little\"}],[\"y\",{\"type\":\"ndarray\",\"array\":{\"type\":\"bytes\",\"data\":\"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\"},\"shape\":[198],\"dtype\":\"float64\",\"order\":\"little\"}]]}}},\"view\":{\"type\":\"object\",\"name\":\"CDSView\",\"id\":\"p1198\",\"attributes\":{\"filter\":{\"type\":\"object\",\"name\":\"AllIndices\",\"id\":\"p1199\"}}},\"glyph\":{\"type\":\"object\",\"name\":\"Line\",\"id\":\"p1194\",\"attributes\":{\"x\":{\"type\":\"field\",\"field\":\"x\"},\"y\":{\"type\":\"field\",\"field\":\"y\"},\"line_color\":\"#00ffff\"}},\"nonselection_glyph\":{\"type\":\"object\",\"name\":\"Line\",\"id\":\"p1195\",\"attributes\":{\"x\":{\"type\":\"field\",\"field\":\"x\"},\"y\":{\"type\":\"field\",\"field\":\"y\"},\"line_color\":\"#00ffff\",\"line_alpha\":0.1}},\"muted_glyph\":{\"type\":\"object\",\"name\":\"Line\",\"id\":\"p1196\",\"attributes\":{\"x\":{\"type\":\"field\",\"field\":\"x\"},\"y\":{\"type\":\"field\",\"field\":\"y\"},\"line_color\":\"#00ffff\",\"line_alpha\":0.2}}}}],\"toolbar\":{\"type\":\"object\",\"name\":\"Toolbar\",\"id\":\"p1131\"},\"toolbar_location\":null,\"left\":[{\"type\":\"object\",\"name\":\"LinearAxis\",\"id\":\"p1183\",\"attributes\":{\"ticker\":{\"type\":\"object\",\"name\":\"BasicTicker\",\"id\":\"p1186\",\"attributes\":{\"mantissas\":[1,2,5]}},\"formatter\":{\"type\":\"object\",\"name\":\"BasicTickFormatter\",\"id\":\"p1184\"},\"major_label_policy\":{\"type\":\"object\",\"name\":\"AllLabels\",\"id\":\"p1185\"}}}],\"below\":[{\"type\":\"object\",\"name\":\"DatetimeAxis\",\"id\":\"p1140\",\"attributes\":{\"ticker\":{\"type\":\"object\",\"name\":\"DatetimeTicker\",\"id\":\"p1143\",\"attributes\":{\"num_minor_ticks\":5,\"tickers\":[{\"type\":\"object\",\"name\":\"AdaptiveTicker\",\"id\":\"p1144\",\"attributes\":{\"num_minor_ticks\":0,\"mantissas\":[1,2,5],\"max_interval\":500.0}},{\"type\":\"object\",\"name\":\"AdaptiveTicker\",\"id\":\"p1145\",\"attributes\":{\"num_minor_ticks\":0,\"base\":60,\"mantissas\":[1,2,5,10,15,20,30],\"min_interval\":1000.0,\"max_interval\":1800000.0}},{\"type\":\"object\",\"name\":\"AdaptiveTicker\",\"id\":\"p1146\",\"attributes\":{\"num_minor_ticks\":0,\"base\":24,\"mantissas\":[1,2,4,6,8,12],\"min_interval\":3600000.0,\"max_interval\":43200000.0}},{\"type\":\"object\",\"name\":\"DaysTicker\",\"id\":\"p1147\",\"attributes\":{\"days\":[1,2,3,4,5,6,7,8,9,10,11,12,13,14,15,16,17,18,19,20,21,22,23,24,25,26,27,28,29,30,31]}},{\"type\":\"object\",\"name\":\"DaysTicker\",\"id\":\"p1148\",\"attributes\":{\"days\":[1,4,7,10,13,16,19,22,25,28]}},{\"type\":\"object\",\"name\":\"DaysTicker\",\"id\":\"p1149\",\"attributes\":{\"days\":[1,8,15,22]}},{\"type\":\"object\",\"name\":\"DaysTicker\",\"id\":\"p1150\",\"attributes\":{\"days\":[1,15]}},{\"type\":\"object\",\"name\":\"MonthsTicker\",\"id\":\"p1151\",\"attributes\":{\"months\":[0,1,2,3,4,5,6,7,8,9,10,11]}},{\"type\":\"object\",\"name\":\"MonthsTicker\",\"id\":\"p1152\",\"attributes\":{\"months\":[0,2,4,6,8,10]}},{\"type\":\"object\",\"name\":\"MonthsTicker\",\"id\":\"p1153\",\"attributes\":{\"months\":[0,4,8]}},{\"type\":\"object\",\"name\":\"MonthsTicker\",\"id\":\"p1154\",\"attributes\":{\"months\":[0,6]}},{\"type\":\"object\",\"name\":\"YearsTicker\",\"id\":\"p1155\"}]}},\"formatter\":{\"type\":\"object\",\"name\":\"DatetimeTickFormatter\",\"id\":\"p1141\"},\"major_label_policy\":{\"type\":\"object\",\"name\":\"AllLabels\",\"id\":\"p1142\"}}}],\"center\":[{\"type\":\"object\",\"name\":\"Grid\",\"id\":\"p1182\",\"attributes\":{\"axis\":{\"id\":\"p1140\"}}},{\"type\":\"object\",\"name\":\"Grid\",\"id\":\"p1189\",\"attributes\":{\"dimension\":1,\"axis\":{\"id\":\"p1183\"}}},{\"type\":\"object\",\"name\":\"Legend\",\"id\":\"p1236\",\"attributes\":{\"items\":[{\"type\":\"object\",\"name\":\"LegendItem\",\"id\":\"p1237\",\"attributes\":{\"label\":{\"type\":\"value\",\"value\":\"volume\"},\"renderers\":[{\"id\":\"p1197\"}]}}]}}],\"background_fill_color\":\"#efefef\"}},{\"type\":\"object\",\"name\":\"Figure\",\"id\":\"p1349\",\"attributes\":{\"width\":900,\"height\":200,\"x_range\":{\"id\":\"p1012\"},\"y_range\":{\"type\":\"object\",\"name\":\"DataRange1d\",\"id\":\"p1351\"},\"x_scale\":{\"type\":\"object\",\"name\":\"LinearScale\",\"id\":\"p1362\"},\"y_scale\":{\"type\":\"object\",\"name\":\"LinearScale\",\"id\":\"p1364\"},\"title\":{\"type\":\"object\",\"name\":\"Title\",\"id\":\"p1352\",\"attributes\":{\"text\":\"indicator\"}},\"renderers\":[{\"type\":\"object\",\"name\":\"GlyphRenderer\",\"id\":\"p1423\",\"attributes\":{\"data_source\":{\"type\":\"object\",\"name\":\"ColumnDataSource\",\"id\":\"p1417\",\"attributes\":{\"selected\":{\"type\":\"object\",\"name\":\"Selection\",\"id\":\"p1418\",\"attributes\":{\"indices\":[],\"line_indices\":[]}},\"selection_policy\":{\"type\":\"object\",\"name\":\"UnionRenderers\",\"id\":\"p1419\"},\"data\":{\"type\":\"map\",\"entries\":[[\"x\",{\"type\":\"ndarray\",\"array\":{\"type\":\"bytes\",\"data\":\"AABwuRZNeEIAAECXHU14QgAAEHUkTXhCAADgUitNeEIAALAwMk14QgAAgA45TXhCAABQ7D9NeEIAACDKRk14QgAA8KdNTXhCAADAhVRNeEIAAJBjW014QgAAYEFiTXhCAAAwH2lNeEIAAAD9b014QgAA0Np2TXhCAACguH1NeEIAAHCWhE14QgAAQHSLTXhCAAAQUpJNeEIAAOAvmU14QgAAsA2gTXhCAACA66ZNeEIAAFDJrU14QgAAIKe0TXhCAADwhLtNeEIAAMBiwk14QgAAkEDJTXhCAABgHtBNeEIAADD81k14QgAAANrdTXhCAADQt+RNeEIAAKCV6014QgAAcHPyTXhCAABAUflNeEIAABAvAE54QgAA4AwHTnhCAACw6g1OeEIAAIDIFE54QgAAUKYbTnhCAAAghCJOeEIAAPBhKU54QgAAwD8wTnhCAACQHTdOeEIAAGD7PU54QgAAMNlETnhCAAAAt0tOeEIAANCUUk54QgAAoHJZTnhCAABwUGBOeEIAAEAuZ054QgAAEAxuTnhCAADg6XROeEIAALDHe054QgAAgKWCTnhCAABQg4lOeEIAACBhkE54QgAA8D6XTnhCAADAHJ5OeEIAAJD6pE54QgAAYNirTnhCAAAwtrJOeEIAAACUuU54QgAA0HHATnhCAACgT8dOeEIAAHAtzk54QgAAQAvVTnhCAAAQ6dtOeEIAAODG4k54QgAAsKTpTnhCAACAgvBOeEIAAFBg9054QgAAID7+TnhCAADwGwVPeEIAAMD5C094QgAAkNcST3hCAABgtRlPeEIAADCTIE94QgAAAHEnT3hCAADQTi5PeEIAAKAsNU94QgAAcAo8T3hCAABA6EJPeEIAABDGSU94QgAA4KNQT3hCAACwgVdPeEIAAIBfXk94QgAAUD1lT3hCAAAgG2xPeEIAAPD4ck94QgAAwNZ5T3hCAACQtIBPeEIAAGCSh094QgAAMHCOT3hCAAAATpVPeEI=\"},\"shape\":[94],\"dtype\":\"float64\",\"order\":\"little\"}],[\"y\",{\"type\":\"ndarray\",\"array\":{\"type\":\"bytes\",\"data\":\"AJDC9SicNUAAkML1KNw7QACkcD0KVzNAAFC4HoUrMEAA16NwPapqQAAoXI/CFUFAAITrUbheQkAAcD0K16MTQAAI16NwPSJAAMDC9Shc8z8AZ2ZmZvZTQADiehSu50NAAJDC9ShcKEAAKVyPwpVWQABwPQrXY0hAAM3MzMwsV0AAKFyPwnUoQAC4HoXrkT9AABSuR+F6NkAA9ihcj6JAQAB6FK5HwVNAAB6F61GoVUAAENejcD0XQABQuB6FKzVAAIA9Ctej4D8AAAAAAMA5QADkehSuRzRAAAAAAACQV0AAuB6F67FAQAB4FK5HYS9AAFK4HoWLTEAAuB6F69EwQAAAAAAAQDNAAOJ6FK7nQEAANDMzM3M8QAAAAAAAEFVAAHBmZmZmHkAApHA9CjdLQACkcD0KFz5AAEjhehTuNEAAKVyPwvVYQADsUbgehWpAAOJ6FK7HWECAmZmZmSFnQABI4XoULjlAABauR+G6S0AAAAAAAADgPwBSuB6FC0JAAHoUrkdBQ0AAXI/C9ag1QADYo3A9yj5AAJqZmZkpUUAAOArXo3AlQAA0MzMzs0tAAJqZmZlZQ0AA4noUrodIQABE4XoU7jJAAHwUrkfhQEAA16NwPapRQAAM16Nw/TRAAEbhehTOSECAcD0K1zdxQADsUbgeJVhAAHoUrkdBSkAA5HoUroc7QACQwvUoHEhAADwK16NQTUAAkML1KNw2QACQwvUo3ChAAKRwPQp3QUAAHoXrUXhLQAD0KFyPAjZAAHoUrkcBQEAApHA9CvdAQADsUbgehT9AADMzMzOTU0AANDMzM3NIQAC4HoXrETtAAEDhehSuHEAAgOtRuB4WQACPwvUoPFhAACCF61G4FEAA2KNwPYpEQABmZmZmhkVAAMj1KFwPKUAA5HoUrkc6QACYmZmZGSVAADIzMzMTQUAAzczMzPRlQAAfhetRmFFAAHwUrkchPkAAwvUoXK9GQADsUbgedVNAAFCPwvUoFkA=\"},\"shape\":[94],\"dtype\":\"float64\",\"order\":\"little\"}]]}}},\"view\":{\"type\":\"object\",\"name\":\"CDSView\",\"id\":\"p1424\",\"attributes\":{\"filter\":{\"type\":\"object\",\"name\":\"AllIndices\",\"id\":\"p1425\"}}},\"glyph\":{\"type\":\"object\",\"name\":\"Line\",\"id\":\"p1420\",\"attributes\":{\"x\":{\"type\":\"field\",\"field\":\"x\"},\"y\":{\"type\":\"field\",\"field\":\"y\"},\"line_color\":\"#ff8080\"}},\"nonselection_glyph\":{\"type\":\"object\",\"name\":\"Line\",\"id\":\"p1421\",\"attributes\":{\"x\":{\"type\":\"field\",\"field\":\"x\"},\"y\":{\"type\":\"field\",\"field\":\"y\"},\"line_color\":\"#ff8080\",\"line_alpha\":0.1}},\"muted_glyph\":{\"type\":\"object\",\"name\":\"Line\",\"id\":\"p1422\",\"attributes\":{\"x\":{\"type\":\"field\",\"field\":\"x\"},\"y\":{\"type\":\"field\",\"field\":\"y\"},\"line_color\":\"#ff8080\",\"line_alpha\":0.2}}}},{\"type\":\"object\",\"name\":\"GlyphRenderer\",\"id\":\"p1470\",\"attributes\":{\"data_source\":{\"type\":\"object\",\"name\":\"ColumnDataSource\",\"id\":\"p1464\",\"attributes\":{\"selected\":{\"type\":\"object\",\"name\":\"Selection\",\"id\":\"p1465\",\"attributes\":{\"indices\":[],\"line_indices\":[]}},\"selection_policy\":{\"type\":\"object\",\"name\":\"UnionRenderers\",\"id\":\"p1466\"},\"data\":{\"type\":\"map\",\"entries\":[[\"x\",{\"type\":\"ndarray\",\"array\":{\"type\":\"bytes\",\"data\":\"AABwuRZNeEIAAECXHU14QgAAEHUkTXhCAADgUitNeEIAALAwMk14QgAAgA45TXhCAABQ7D9NeEIAACDKRk14QgAA8KdNTXhCAADAhVRNeEIAAJBjW014QgAAYEFiTXhCAAAwH2lNeEIAAAD9b014QgAA0Np2TXhCAACguH1NeEIAAHCWhE14QgAAQHSLTXhCAAAQUpJNeEIAAOAvmU14QgAAsA2gTXhCAACA66ZNeEIAAFDJrU14QgAAIKe0TXhCAADwhLtNeEIAAMBiwk14QgAAkEDJTXhCAABgHtBNeEIAADD81k14QgAAANrdTXhCAADQt+RNeEIAAKCV6014QgAAcHPyTXhCAABAUflNeEIAABAvAE54QgAA4AwHTnhCAACw6g1OeEIAAIDIFE54QgAAUKYbTnhCAAAghCJOeEIAAPBhKU54QgAAwD8wTnhCAACQHTdOeEIAAGD7PU54QgAAMNlETnhCAAAAt0tOeEIAANCUUk54QgAAoHJZTnhCAABwUGBOeEIAAEAuZ054QgAAEAxuTnhCAADg6XROeEIAALDHe054QgAAgKWCTnhCAABQg4lOeEIAACBhkE54QgAA8D6XTnhCAADAHJ5OeEIAAJD6pE54QgAAYNirTnhCAAAwtrJOeEIAAACUuU54QgAA0HHATnhCAACgT8dOeEIAAHAtzk54QgAAQAvVTnhCAAAQ6dtOeEIAAODG4k54QgAAsKTpTnhCAACAgvBOeEIAAFBg9054QgAAID7+TnhCAADwGwVPeEIAAMD5C094QgAAkNcST3hCAABgtRlPeEIAADCTIE94QgAAAHEnT3hCAADQTi5PeEIAAKAsNU94QgAAcAo8T3hCAABA6EJPeEIAABDGSU94QgAA4KNQT3hCAACwgVdPeEIAAIBfXk94QgAAUD1lT3hCAAAgG2xPeEIAAPD4ck94QgAAwNZ5T3hCAACQtIBPeEIAAGCSh094QgAAMHCOT3hCAAAATpVPeEI=\"},\"shape\":[94],\"dtype\":\"float64\",\"order\":\"little\"}],[\"y\",{\"type\":\"ndarray\",\"array\":{\"type\":\"bytes\",\"data\":\"AFK4HoVLRUAA4noUrodCQADC9Shcb0BAAJqZmZmZVEAAXY/C9dhaQACuR+F6tFZAAIbrUbieQEAACtejcN1NQABxPQrXQ1FAAD0K16MgVUAAZmZmZuZPQACI61G4HiFAABiuR+H6K0AAAAAAAAAAQABoZmZm5jRAAKCZmZmZFkAAsEfhelQ4QACI61G4HjxAAMT1KFxPNUAA6FG4HoUnQACQ61G4HhNAAGBmZmZmDkAAH4XrUVhkQADMzMzMjDRAAAAAAADQW0AAkML1KBw9QACuR+F69ElAAEAK16NwIEAACNejcL0oQABI4XoUvl1AAEfhehRuUUAAKVyPwsVbQAAK16NwPURAAIXrUbi+V0CA9ShcjxJoQABcj8L1WFNAgHA9Ctc7bEAAnJmZmZk3QAAAAAAAwFFAAOR6FK4HOEAAIK5H4XoOQAAAAAAAgCFAADQzMzPzNUAAcT0K1/NSQADsUbge5UlAAOhRuB4FLEAA16NwPfpgQACQwvUofElAACCF61E4KEAAjsL1KHxHQACkcD0Kt0NAAHA9CtfjMEAAFK5H4XpGQABQuB6FK0NAAFK4HoXLQUAAMjMzM1NCQAAqXI/C1UJAAI/C9SgMXEAAAAAAAMBHQAAAAAAAgDlAAEjhehQuNUAAYI/C9SgGQAD1KFyPQlJAAADAR+F6hD8ArkfhegRUQADWo3A9qkRAANijcD0KK0AAPgrXo3BBQAB8FK5HYT5AAMzMzMyMQUAAAAAAAGBKQABwPQrXQ0pAAJDC9ShcLUAAiOtRuN44QAD0KFyPwjNAAD4K16MQTUAAuB6F6xE8QADXo3A9allAAKRwPQpXTUBA4XoUrqd0QADYo3A9ikZAALgehetRVUAA9ihcjzJRQADgehSuhzNAAHgUrkchNkAArEfhepQwQAAghetRWEdAANijcD2KP0AAKVyPwoVbQAAAAAAAgEVAAGBmZmZmGkAAAAAAAAAAgAAI16NwPSNAAJDC9Sg8R0A=\"},\"shape\":[94],\"dtype\":\"float64\",\"order\":\"little\"}]]}}},\"view\":{\"type\":\"object\",\"name\":\"CDSView\",\"id\":\"p1471\",\"attributes\":{\"filter\":{\"type\":\"object\",\"name\":\"AllIndices\",\"id\":\"p1472\"}}},\"glyph\":{\"type\":\"object\",\"name\":\"Line\",\"id\":\"p1467\",\"attributes\":{\"x\":{\"type\":\"field\",\"field\":\"x\"},\"y\":{\"type\":\"field\",\"field\":\"y\"},\"line_color\":\"#80ff80\"}},\"nonselection_glyph\":{\"type\":\"object\",\"name\":\"Line\",\"id\":\"p1468\",\"attributes\":{\"x\":{\"type\":\"field\",\"field\":\"x\"},\"y\":{\"type\":\"field\",\"field\":\"y\"},\"line_color\":\"#80ff80\",\"line_alpha\":0.1}},\"muted_glyph\":{\"type\":\"object\",\"name\":\"Line\",\"id\":\"p1469\",\"attributes\":{\"x\":{\"type\":\"field\",\"field\":\"x\"},\"y\":{\"type\":\"field\",\"field\":\"y\"},\"line_color\":\"#80ff80\",\"line_alpha\":0.2}}}},{\"type\":\"object\",\"name\":\"GlyphRenderer\",\"id\":\"p1521\",\"attributes\":{\"data_source\":{\"type\":\"object\",\"name\":\"ColumnDataSource\",\"id\":\"p1515\",\"attributes\":{\"selected\":{\"type\":\"object\",\"name\":\"Selection\",\"id\":\"p1516\",\"attributes\":{\"indices\":[],\"line_indices\":[]}},\"selection_policy\":{\"type\":\"object\",\"name\":\"UnionRenderers\",\"id\":\"p1517\"},\"data\":{\"type\":\"map\",\"entries\":[[\"x\",{\"type\":\"ndarray\",\"array\":{\"type\":\"bytes\",\"data\":\"AABwuRZNeEIAAECXHU14QgAAEHUkTXhCAADgUitNeEIAALAwMk14QgAAgA45TXhCAABQ7D9NeEIAACDKRk14QgAA8KdNTXhCAADAhVRNeEIAAJBjW014QgAAYEFiTXhCAAAwH2lNeEIAAAD9b014QgAA0Np2TXhCAACguH1NeEIAAHCWhE14QgAAQHSLTXhCAAAQUpJNeEIAAOAvmU14QgAAsA2gTXhCAACA66ZNeEIAAFDJrU14QgAAIKe0TXhCAADwhLtNeEIAAMBiwk14QgAAkEDJTXhCAABgHtBNeEIAADD81k14QgAAANrdTXhCAADQt+RNeEIAAKCV6014QgAAcHPyTXhCAABAUflNeEIAABAvAE54QgAA4AwHTnhCAACw6g1OeEIAAIDIFE54QgAAUKYbTnhCAAAghCJOeEIAAPBhKU54QgAAwD8wTnhCAACQHTdOeEIAAGD7PU54QgAAMNlETnhCAAAAt0tOeEIAANCUUk54QgAAoHJZTnhCAABwUGBOeEIAAEAuZ054QgAAEAxuTnhCAADg6XROeEIAALDHe054QgAAgKWCTnhCAABQg4lOeEIAACBhkE54QgAA8D6XTnhCAADAHJ5OeEIAAJD6pE54QgAAYNirTnhCAAAwtrJOeEIAAACUuU54QgAA0HHATnhCAACgT8dOeEIAAHAtzk54QgAAQAvVTnhCAAAQ6dtOeEIAAODG4k54QgAAsKTpTnhCAACAgvBOeEIAAFBg9054QgAAID7+TnhCAADwGwVPeEIAAMD5C094QgAAkNcST3hCAABgtRlPeEIAADCTIE94QgAAAHEnT3hCAADQTi5PeEIAAKAsNU94QgAAcAo8T3hCAABA6EJPeEIAABDGSU94QgAA4KNQT3hCAACwgVdPeEIAAIBfXk94QgAAUD1lT3hCAAAgG2xPeEIAAPD4ck94QgAAwNZ5T3hCAACQtIBPeEIAAGCSh094QgAAMHCOT3hCAAAATpVPeEI=\"},\"shape\":[94],\"dtype\":\"float64\",\"order\":\"little\"}],[\"y\",{\"type\":\"ndarray\",\"array\":{\"type\":\"bytes\",\"data\":\"4qBns+rzZEDsmQgbnn5kQNfFbTSAV2JAj2q8dJPYYUC49gZfmExdQJC8dJMYJGhANLn8h/S7akBdfa62Yt9qQIUvTKYKZmtA1xt8YTKVakDNVuwvuydhQAtPr5RlyGFA4prmHafoYECkBMWPMbdeQHAldQKayF9AkI7k8h+SXkCFF7fRAN5aQB8pXI/C9VlApKg1zTuOXECvw9MrZZlYQHExCKwcmlZAXDMzMzNzVUAAnDOitLdZQBWcM6K0N2FAFY51cRstYUCkxCCwcshjQHtGlPYGn2JA18EXJlPlYUBn0t7gC5NeQOJ6FK5H4V5Aj8L1KFxvYECaR+F6FE5jQJrRAN4CiWVAuLq4jQbQY0CQPCzUmiZnQDStad5xqmpASHlYqDUNbEDD/If02ydwQK88LNSahnBAxCO5/If0b0DYJeSDns1oQHG9UpYhbmZAuHqlLEPcZUA0B1+YTJVnQDRvgQTF721AxMt/SL89b0AAxm00gPdtQBWsHFpkm2pAuOpztRU7aUBI4XoUrudgQIV5xyk6kmBAr4FzRpSWYECkVMGopA5dQIXnaiv2l1pACluxv+zeXUAVFmpN805eQFKIY13chl9AcDXNO05RXUDDoUW28z1iQFxJnYAmQmNAZ4hjXdwmYkBxLSEf9IxhQK8nDwu1ZmpA7P////9fa0DYp8ZLN8loQOJsVn2uNmtA4o5TdCT3a0DD14FzRrRjQDQ3iUFgZV5AAAAAAACAXUAKX5hMFYxaQLiWkA969ltAFULPZtUnXEBdCyQofkxbQOI6cM6IklxANDvfT40XW0AAkKD4MWZdQJrh6ZWyjF1ACztwzogSYkCvad5xim5iQJojufyH1G1AkGzn+6kRbkCFp1fKMqRuQJBa07zj1G1AuNhfdk+ebUAf16NwPYphQM34MeauJVtA2Mt/SL99WEBxAU2EDQ9VQFyZKhiVdGNAmtXnaiu2ZkDiQILix3hmQNhdS8gH/WVAfL6fGi/dZkA=\"},\"shape\":[94],\"dtype\":\"float64\",\"order\":\"little\"}]]}}},\"view\":{\"type\":\"object\",\"name\":\"CDSView\",\"id\":\"p1522\",\"attributes\":{\"filter\":{\"type\":\"object\",\"name\":\"AllIndices\",\"id\":\"p1523\"}}},\"glyph\":{\"type\":\"object\",\"name\":\"Line\",\"id\":\"p1518\",\"attributes\":{\"x\":{\"type\":\"field\",\"field\":\"x\"},\"y\":{\"type\":\"field\",\"field\":\"y\"},\"line_color\":\"#8080ff\"}},\"nonselection_glyph\":{\"type\":\"object\",\"name\":\"Line\",\"id\":\"p1519\",\"attributes\":{\"x\":{\"type\":\"field\",\"field\":\"x\"},\"y\":{\"type\":\"field\",\"field\":\"y\"},\"line_color\":\"#8080ff\",\"line_alpha\":0.1}},\"muted_glyph\":{\"type\":\"object\",\"name\":\"Line\",\"id\":\"p1520\",\"attributes\":{\"x\":{\"type\":\"field\",\"field\":\"x\"},\"y\":{\"type\":\"field\",\"field\":\"y\"},\"line_color\":\"#8080ff\",\"line_alpha\":0.2}}}}],\"toolbar\":{\"type\":\"object\",\"name\":\"Toolbar\",\"id\":\"p1357\"},\"toolbar_location\":null,\"left\":[{\"type\":\"object\",\"name\":\"LinearAxis\",\"id\":\"p1409\",\"attributes\":{\"ticker\":{\"type\":\"object\",\"name\":\"BasicTicker\",\"id\":\"p1412\",\"attributes\":{\"mantissas\":[1,2,5]}},\"formatter\":{\"type\":\"object\",\"name\":\"BasicTickFormatter\",\"id\":\"p1410\"},\"major_label_policy\":{\"type\":\"object\",\"name\":\"AllLabels\",\"id\":\"p1411\"}}}],\"below\":[{\"type\":\"object\",\"name\":\"DatetimeAxis\",\"id\":\"p1366\",\"attributes\":{\"ticker\":{\"type\":\"object\",\"name\":\"DatetimeTicker\",\"id\":\"p1369\",\"attributes\":{\"num_minor_ticks\":5,\"tickers\":[{\"type\":\"object\",\"name\":\"AdaptiveTicker\",\"id\":\"p1370\",\"attributes\":{\"num_minor_ticks\":0,\"mantissas\":[1,2,5],\"max_interval\":500.0}},{\"type\":\"object\",\"name\":\"AdaptiveTicker\",\"id\":\"p1371\",\"attributes\":{\"num_minor_ticks\":0,\"base\":60,\"mantissas\":[1,2,5,10,15,20,30],\"min_interval\":1000.0,\"max_interval\":1800000.0}},{\"type\":\"object\",\"name\":\"AdaptiveTicker\",\"id\":\"p1372\",\"attributes\":{\"num_minor_ticks\":0,\"base\":24,\"mantissas\":[1,2,4,6,8,12],\"min_interval\":3600000.0,\"max_interval\":43200000.0}},{\"type\":\"object\",\"name\":\"DaysTicker\",\"id\":\"p1373\",\"attributes\":{\"days\":[1,2,3,4,5,6,7,8,9,10,11,12,13,14,15,16,17,18,19,20,21,22,23,24,25,26,27,28,29,30,31]}},{\"type\":\"object\",\"name\":\"DaysTicker\",\"id\":\"p1374\",\"attributes\":{\"days\":[1,4,7,10,13,16,19,22,25,28]}},{\"type\":\"object\",\"name\":\"DaysTicker\",\"id\":\"p1375\",\"attributes\":{\"days\":[1,8,15,22]}},{\"type\":\"object\",\"name\":\"DaysTicker\",\"id\":\"p1376\",\"attributes\":{\"days\":[1,15]}},{\"type\":\"object\",\"name\":\"MonthsTicker\",\"id\":\"p1377\",\"attributes\":{\"months\":[0,1,2,3,4,5,6,7,8,9,10,11]}},{\"type\":\"object\",\"name\":\"MonthsTicker\",\"id\":\"p1378\",\"attributes\":{\"months\":[0,2,4,6,8,10]}},{\"type\":\"object\",\"name\":\"MonthsTicker\",\"id\":\"p1379\",\"attributes\":{\"months\":[0,4,8]}},{\"type\":\"object\",\"name\":\"MonthsTicker\",\"id\":\"p1380\",\"attributes\":{\"months\":[0,6]}},{\"type\":\"object\",\"name\":\"YearsTicker\",\"id\":\"p1381\"}]}},\"formatter\":{\"type\":\"object\",\"name\":\"DatetimeTickFormatter\",\"id\":\"p1367\"},\"major_label_policy\":{\"type\":\"object\",\"name\":\"AllLabels\",\"id\":\"p1368\"}}}],\"center\":[{\"type\":\"object\",\"name\":\"Grid\",\"id\":\"p1408\",\"attributes\":{\"axis\":{\"id\":\"p1366\"}}},{\"type\":\"object\",\"name\":\"Grid\",\"id\":\"p1415\",\"attributes\":{\"dimension\":1,\"axis\":{\"id\":\"p1409\"}}},{\"type\":\"object\",\"name\":\"Legend\",\"id\":\"p1462\",\"attributes\":{\"items\":[{\"type\":\"object\",\"name\":\"LegendItem\",\"id\":\"p1463\",\"attributes\":{\"label\":{\"type\":\"value\",\"value\":\"diff_low\"},\"renderers\":[{\"id\":\"p1423\"}]}},{\"type\":\"object\",\"name\":\"LegendItem\",\"id\":\"p1514\",\"attributes\":{\"label\":{\"type\":\"value\",\"value\":\"diff_high\"},\"renderers\":[{\"id\":\"p1470\"}]}},{\"type\":\"object\",\"name\":\"LegendItem\",\"id\":\"p1570\",\"attributes\":{\"label\":{\"type\":\"value\",\"value\":\"range\"},\"renderers\":[{\"id\":\"p1521\"}]}}]}}],\"background_fill_color\":\"#efefef\"}},{\"type\":\"object\",\"name\":\"Figure\",\"id\":\"p1238\",\"attributes\":{\"width\":900,\"height\":100,\"x_range\":{\"type\":\"object\",\"name\":\"DataRange1d\",\"id\":\"p1240\"},\"y_range\":{\"id\":\"p1004\"},\"x_scale\":{\"type\":\"object\",\"name\":\"LinearScale\",\"id\":\"p1251\"},\"y_scale\":{\"type\":\"object\",\"name\":\"LinearScale\",\"id\":\"p1253\"},\"title\":{\"type\":\"object\",\"name\":\"Title\",\"id\":\"p1241\",\"attributes\":{\"text\":\"Drag the middle and edges of the selection box to change the range above\"}},\"renderers\":[{\"type\":\"object\",\"name\":\"GlyphRenderer\",\"id\":\"p1305\",\"attributes\":{\"data_source\":{\"type\":\"object\",\"name\":\"ColumnDataSource\",\"id\":\"p1299\",\"attributes\":{\"selected\":{\"type\":\"object\",\"name\":\"Selection\",\"id\":\"p1300\",\"attributes\":{\"indices\":[],\"line_indices\":[]}},\"selection_policy\":{\"type\":\"object\",\"name\":\"UnionRenderers\",\"id\":\"p1301\"},\"data\":{\"type\":\"map\",\"entries\":[[\"x\",{\"type\":\"ndarray\",\"array\":{\"type\":\"bytes\",\"data\":\"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\"},\"shape\":[198],\"dtype\":\"float64\",\"order\":\"little\"}],[\"y\",{\"type\":\"ndarray\",\"array\":{\"type\":\"bytes\",\"data\":\"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\"},\"shape\":[198],\"dtype\":\"float64\",\"order\":\"little\"}]]}}},\"view\":{\"type\":\"object\",\"name\":\"CDSView\",\"id\":\"p1306\",\"attributes\":{\"filter\":{\"type\":\"object\",\"name\":\"AllIndices\",\"id\":\"p1307\"}}},\"glyph\":{\"type\":\"object\",\"name\":\"Line\",\"id\":\"p1302\",\"attributes\":{\"x\":{\"type\":\"field\",\"field\":\"x\"},\"y\":{\"type\":\"field\",\"field\":\"y\"},\"line_color\":\"#1010ff\"}},\"nonselection_glyph\":{\"type\":\"object\",\"name\":\"Line\",\"id\":\"p1303\",\"attributes\":{\"x\":{\"type\":\"field\",\"field\":\"x\"},\"y\":{\"type\":\"field\",\"field\":\"y\"},\"line_color\":\"#1010ff\",\"line_alpha\":0.1}},\"muted_glyph\":{\"type\":\"object\",\"name\":\"Line\",\"id\":\"p1304\",\"attributes\":{\"x\":{\"type\":\"field\",\"field\":\"x\"},\"y\":{\"type\":\"field\",\"field\":\"y\"},\"line_color\":\"#1010ff\",\"line_alpha\":0.2}}}}],\"toolbar\":{\"type\":\"object\",\"name\":\"Toolbar\",\"id\":\"p1246\",\"attributes\":{\"tools\":[{\"type\":\"object\",\"name\":\"RangeTool\",\"id\":\"p1343\",\"attributes\":{\"x_range\":{\"id\":\"p1012\"},\"overlay\":{\"type\":\"object\",\"name\":\"BoxAnnotation\",\"id\":\"p1344\",\"attributes\":{\"syncable\":false,\"level\":\"overlay\",\"line_color\":\"black\",\"line_alpha\":1.0,\"line_width\":0.5,\"line_dash\":[2,2],\"fill_color\":\"navy\",\"fill_alpha\":0.2}}}}],\"active_multi\":{\"id\":\"p1343\"}}},\"toolbar_location\":null,\"below\":[{\"type\":\"object\",\"name\":\"DatetimeAxis\",\"id\":\"p1255\",\"attributes\":{\"ticker\":{\"type\":\"object\",\"name\":\"DatetimeTicker\",\"id\":\"p1258\",\"attributes\":{\"num_minor_ticks\":5,\"tickers\":[{\"type\":\"object\",\"name\":\"AdaptiveTicker\",\"id\":\"p1259\",\"attributes\":{\"num_minor_ticks\":0,\"mantissas\":[1,2,5],\"max_interval\":500.0}},{\"type\":\"object\",\"name\":\"AdaptiveTicker\",\"id\":\"p1260\",\"attributes\":{\"num_minor_ticks\":0,\"base\":60,\"mantissas\":[1,2,5,10,15,20,30],\"min_interval\":1000.0,\"max_interval\":1800000.0}},{\"type\":\"object\",\"name\":\"AdaptiveTicker\",\"id\":\"p1261\",\"attributes\":{\"num_minor_ticks\":0,\"base\":24,\"mantissas\":[1,2,4,6,8,12],\"min_interval\":3600000.0,\"max_interval\":43200000.0}},{\"type\":\"object\",\"name\":\"DaysTicker\",\"id\":\"p1262\",\"attributes\":{\"days\":[1,2,3,4,5,6,7,8,9,10,11,12,13,14,15,16,17,18,19,20,21,22,23,24,25,26,27,28,29,30,31]}},{\"type\":\"object\",\"name\":\"DaysTicker\",\"id\":\"p1263\",\"attributes\":{\"days\":[1,4,7,10,13,16,19,22,25,28]}},{\"type\":\"object\",\"name\":\"DaysTicker\",\"id\":\"p1264\",\"attributes\":{\"days\":[1,8,15,22]}},{\"type\":\"object\",\"name\":\"DaysTicker\",\"id\":\"p1265\",\"attributes\":{\"days\":[1,15]}},{\"type\":\"object\",\"name\":\"MonthsTicker\",\"id\":\"p1266\",\"attributes\":{\"months\":[0,1,2,3,4,5,6,7,8,9,10,11]}},{\"type\":\"object\",\"name\":\"MonthsTicker\",\"id\":\"p1267\",\"attributes\":{\"months\":[0,2,4,6,8,10]}},{\"type\":\"object\",\"name\":\"MonthsTicker\",\"id\":\"p1268\",\"attributes\":{\"months\":[0,4,8]}},{\"type\":\"object\",\"name\":\"MonthsTicker\",\"id\":\"p1269\",\"attributes\":{\"months\":[0,6]}},{\"type\":\"object\",\"name\":\"YearsTicker\",\"id\":\"p1270\"}]}},\"formatter\":{\"type\":\"object\",\"name\":\"DatetimeTickFormatter\",\"id\":\"p1256\"},\"major_label_policy\":{\"type\":\"object\",\"name\":\"AllLabels\",\"id\":\"p1257\"}}}],\"center\":[{\"type\":\"object\",\"name\":\"Grid\",\"id\":\"p1297\",\"attributes\":{\"axis\":{\"id\":\"p1255\"}}},{\"type\":\"object\",\"name\":\"Legend\",\"id\":\"p1341\",\"attributes\":{\"items\":[{\"type\":\"object\",\"name\":\"LegendItem\",\"id\":\"p1342\",\"attributes\":{\"label\":{\"type\":\"value\",\"value\":\"price\"},\"renderers\":[{\"id\":\"p1305\"}]}}]}}],\"background_fill_color\":\"#efefef\"}}]}}]}};\n  const render_items = [{\"docid\":\"5756fe2a-cc24-489c-8b64-41dcbf22d5ee\",\"roots\":{\"p1571\":\"4f43d469-ac7a-481e-a92b-2e85bc621415\"},\"root_ids\":[\"p1571\"]}];\n  root.Bokeh.embed.embed_items_notebook(docs_json, render_items);\n  }\n  if (root.Bokeh !== undefined) {\n    embed_document(root);\n  } else {\n    let attempts = 0;\n    const timer = setInterval(function(root) {\n      if (root.Bokeh !== undefined) {\n        clearInterval(timer);\n        embed_document(root);\n      } else {\n        attempts++;\n        if (attempts > 100) {\n          clearInterval(timer);\n          console.log(\"Bokeh: ERROR: Unable to run BokehJS code because BokehJS library is missing\");\n        }\n      }\n    }, 10, root)\n  }\n})(window);",
      "application/vnd.bokehjs_exec.v0+json": ""
     },
     "metadata": {
      "application/vnd.bokehjs_exec.v0+json": {
       "id": "p1571"
      }
     },
     "output_type": "display_data"
    }
   ],
   "source": [
    "chart = Chart(900, 400, ohlcv)\n",
    "p = chart.new_figure('indicator', 200, 'indicator')\n",
    "\n",
    "indicator = agent.get_indicator('diff_low')\n",
    "chart.line(p, indicator, 'value', 'diff_low', color='#ff8080')\n",
    "\n",
    "indicator = agent.get_indicator('diff_high')\n",
    "chart.line(p, indicator, 'value', 'diff_high', color='#80ff80')\n",
    "\n",
    "indicator = agent.get_indicator('range')\n",
    "chart.line(p, indicator, 'value', 'range', color='#8080ff')\n",
    "\n",
    "chart.show()"
   ]
  },
  {
   "cell_type": "code",
   "execution_count": 11,
   "id": "436d36ea",
   "metadata": {},
   "outputs": [
    {
     "data": {
      "text/plain": [
       "17882387"
      ]
     },
     "execution_count": 11,
     "metadata": {},
     "output_type": "execute_result"
    }
   ],
   "source": [
    "back_tester.last_run_record"
   ]
  },
  {
   "cell_type": "code",
   "execution_count": 12,
   "id": "524c34be",
   "metadata": {},
   "outputs": [
    {
     "data": {
      "text/plain": [
       "1669956189170000"
      ]
     },
     "execution_count": 12,
     "metadata": {},
     "output_type": "execute_result"
    }
   ],
   "source": [
    "back_tester.last_run_start"
   ]
  },
  {
   "cell_type": "code",
   "execution_count": 13,
   "id": "07d6be45",
   "metadata": {},
   "outputs": [
    {
     "data": {
      "text/plain": [
       "1670630399990000"
      ]
     },
     "execution_count": 13,
     "metadata": {},
     "output_type": "execute_result"
    }
   ],
   "source": [
    "back_tester.last_run_end"
   ]
  },
  {
   "cell_type": "code",
   "execution_count": 14,
   "id": "983ae4cc",
   "metadata": {},
   "outputs": [
    {
     "data": {
      "text/html": [
       "<style>\n",
       "        .bk-notebook-logo {\n",
       "            display: block;\n",
       "            width: 20px;\n",
       "            height: 20px;\n",
       "            background-image: url(data:image/png;base64,iVBORw0KGgoAAAANSUhEUgAAABQAAAAUCAYAAACNiR0NAAAABHNCSVQICAgIfAhkiAAAAAlwSFlzAAALEgAACxIB0t1+/AAAABx0RVh0U29mdHdhcmUAQWRvYmUgRmlyZXdvcmtzIENTNui8sowAAAOkSURBVDiNjZRtaJVlGMd/1/08zzln5zjP1LWcU9N0NkN8m2CYjpgQYQXqSs0I84OLIC0hkEKoPtiH3gmKoiJDU7QpLgoLjLIQCpEsNJ1vqUOdO7ppbuec5+V+rj4ctwzd8IIbbi6u+8f1539dt3A78eXC7QizUF7gyV1fD1Yqg4JWz84yffhm0qkFqBogB9rM8tZdtwVsPUhWhGcFJngGeWrPzHm5oaMmkfEg1usvLFyc8jLRqDOMru7AyC8saQr7GG7f5fvDeH7Ej8CM66nIF+8yngt6HWaKh7k49Soy9nXurCi1o3qUbS3zWfrYeQDTB/Qj6kX6Ybhw4B+bOYoLKCC9H3Nu/leUTZ1JdRWkkn2ldcCamzrcf47KKXdAJllSlxAOkRgyHsGC/zRday5Qld9DyoM4/q/rUoy/CXh3jzOu3bHUVZeU+DEn8FInkPBFlu3+nW3Nw0mk6vCDiWg8CeJaxEwuHS3+z5RgY+YBR6V1Z1nxSOfoaPa4LASWxxdNp+VWTk7+4vzaou8v8PN+xo+KY2xsw6une2frhw05CTYOmQvsEhjhWjn0bmXPjpE1+kplmmkP3suftwTubK9Vq22qKmrBhpY4jvd5afdRA3wGjFAgcnTK2s4hY0/GPNIb0nErGMCRxWOOX64Z8RAC4oCXdklmEvcL8o0BfkNK4lUg9HTl+oPlQxdNo3Mg4Nv175e/1LDGzZen30MEjRUtmXSfiTVu1kK8W4txyV6BMKlbgk3lMwYCiusNy9fVfvvwMxv8Ynl6vxoByANLTWplvuj/nF9m2+PDtt1eiHPBr1oIfhCChQMBw6Aw0UulqTKZdfVvfG7VcfIqLG9bcldL/+pdWTLxLUy8Qq38heUIjh4XlzZxzQm19lLFlr8vdQ97rjZVOLf8nclzckbcD4wxXMidpX30sFd37Fv/GtwwhzhxGVAprjbg0gCAEeIgwCZyTV2Z1REEW8O4py0wsjeloKoMr6iCY6dP92H6Vw/oTyICIthibxjm/DfN9lVz8IqtqKYLUXfoKVMVQVVJOElGjrnnUt9T9wbgp8AyYKaGlqingHZU/uG2NTZSVqwHQTWkx9hxjkpWDaCg6Ckj5qebgBVbT3V3NNXMSiWSDdGV3hrtzla7J+duwPOToIg42ChPQOQjspnSlp1V+Gjdged7+8UN5CRAV7a5EdFNwCjEaBR27b3W890TE7g24NAP/mMDXRWrGoFPQI9ls/MWO2dWFAar/xcOIImbbpA3zgAAAABJRU5ErkJggg==);\n",
       "        }\n",
       "    </style>\n",
       "    <div>\n",
       "        <a href=\"https://bokeh.org\" target=\"_blank\" class=\"bk-notebook-logo\"></a>\n",
       "        <span id=\"p2596\">Loading BokehJS ...</span>\n",
       "    </div>\n"
      ]
     },
     "metadata": {},
     "output_type": "display_data"
    },
    {
     "data": {
      "application/javascript": "(function(root) {\n  function now() {\n    return new Date();\n  }\n\n  const force = true;\n\n  if (typeof root._bokeh_onload_callbacks === \"undefined\" || force === true) {\n    root._bokeh_onload_callbacks = [];\n    root._bokeh_is_loading = undefined;\n  }\n\nconst JS_MIME_TYPE = 'application/javascript';\n  const HTML_MIME_TYPE = 'text/html';\n  const EXEC_MIME_TYPE = 'application/vnd.bokehjs_exec.v0+json';\n  const CLASS_NAME = 'output_bokeh rendered_html';\n\n  /**\n   * Render data to the DOM node\n   */\n  function render(props, node) {\n    const script = document.createElement(\"script\");\n    node.appendChild(script);\n  }\n\n  /**\n   * Handle when an output is cleared or removed\n   */\n  function handleClearOutput(event, handle) {\n    const cell = handle.cell;\n\n    const id = cell.output_area._bokeh_element_id;\n    const server_id = cell.output_area._bokeh_server_id;\n    // Clean up Bokeh references\n    if (id != null && id in Bokeh.index) {\n      Bokeh.index[id].model.document.clear();\n      delete Bokeh.index[id];\n    }\n\n    if (server_id !== undefined) {\n      // Clean up Bokeh references\n      const cmd_clean = \"from bokeh.io.state import curstate; print(curstate().uuid_to_server['\" + server_id + \"'].get_sessions()[0].document.roots[0]._id)\";\n      cell.notebook.kernel.execute(cmd_clean, {\n        iopub: {\n          output: function(msg) {\n            const id = msg.content.text.trim();\n            if (id in Bokeh.index) {\n              Bokeh.index[id].model.document.clear();\n              delete Bokeh.index[id];\n            }\n          }\n        }\n      });\n      // Destroy server and session\n      const cmd_destroy = \"import bokeh.io.notebook as ion; ion.destroy_server('\" + server_id + \"')\";\n      cell.notebook.kernel.execute(cmd_destroy);\n    }\n  }\n\n  /**\n   * Handle when a new output is added\n   */\n  function handleAddOutput(event, handle) {\n    const output_area = handle.output_area;\n    const output = handle.output;\n\n    // limit handleAddOutput to display_data with EXEC_MIME_TYPE content only\n    if ((output.output_type != \"display_data\") || (!Object.prototype.hasOwnProperty.call(output.data, EXEC_MIME_TYPE))) {\n      return\n    }\n\n    const toinsert = output_area.element.find(\".\" + CLASS_NAME.split(' ')[0]);\n\n    if (output.metadata[EXEC_MIME_TYPE][\"id\"] !== undefined) {\n      toinsert[toinsert.length - 1].firstChild.textContent = output.data[JS_MIME_TYPE];\n      // store reference to embed id on output_area\n      output_area._bokeh_element_id = output.metadata[EXEC_MIME_TYPE][\"id\"];\n    }\n    if (output.metadata[EXEC_MIME_TYPE][\"server_id\"] !== undefined) {\n      const bk_div = document.createElement(\"div\");\n      bk_div.innerHTML = output.data[HTML_MIME_TYPE];\n      const script_attrs = bk_div.children[0].attributes;\n      for (let i = 0; i < script_attrs.length; i++) {\n        toinsert[toinsert.length - 1].firstChild.setAttribute(script_attrs[i].name, script_attrs[i].value);\n        toinsert[toinsert.length - 1].firstChild.textContent = bk_div.children[0].textContent\n      }\n      // store reference to server id on output_area\n      output_area._bokeh_server_id = output.metadata[EXEC_MIME_TYPE][\"server_id\"];\n    }\n  }\n\n  function register_renderer(events, OutputArea) {\n\n    function append_mime(data, metadata, element) {\n      // create a DOM node to render to\n      const toinsert = this.create_output_subarea(\n        metadata,\n        CLASS_NAME,\n        EXEC_MIME_TYPE\n      );\n      this.keyboard_manager.register_events(toinsert);\n      // Render to node\n      const props = {data: data, metadata: metadata[EXEC_MIME_TYPE]};\n      render(props, toinsert[toinsert.length - 1]);\n      element.append(toinsert);\n      return toinsert\n    }\n\n    /* Handle when an output is cleared or removed */\n    events.on('clear_output.CodeCell', handleClearOutput);\n    events.on('delete.Cell', handleClearOutput);\n\n    /* Handle when a new output is added */\n    events.on('output_added.OutputArea', handleAddOutput);\n\n    /**\n     * Register the mime type and append_mime function with output_area\n     */\n    OutputArea.prototype.register_mime_type(EXEC_MIME_TYPE, append_mime, {\n      /* Is output safe? */\n      safe: true,\n      /* Index of renderer in `output_area.display_order` */\n      index: 0\n    });\n  }\n\n  // register the mime type if in Jupyter Notebook environment and previously unregistered\n  if (root.Jupyter !== undefined) {\n    const events = require('base/js/events');\n    const OutputArea = require('notebook/js/outputarea').OutputArea;\n\n    if (OutputArea.prototype.mime_types().indexOf(EXEC_MIME_TYPE) == -1) {\n      register_renderer(events, OutputArea);\n    }\n  }\n  if (typeof (root._bokeh_timeout) === \"undefined\" || force === true) {\n    root._bokeh_timeout = Date.now() + 5000;\n    root._bokeh_failed_load = false;\n  }\n\n  const NB_LOAD_WARNING = {'data': {'text/html':\n     \"<div style='background-color: #fdd'>\\n\"+\n     \"<p>\\n\"+\n     \"BokehJS does not appear to have successfully loaded. If loading BokehJS from CDN, this \\n\"+\n     \"may be due to a slow or bad network connection. Possible fixes:\\n\"+\n     \"</p>\\n\"+\n     \"<ul>\\n\"+\n     \"<li>re-rerun `output_notebook()` to attempt to load from CDN again, or</li>\\n\"+\n     \"<li>use INLINE resources instead, as so:</li>\\n\"+\n     \"</ul>\\n\"+\n     \"<code>\\n\"+\n     \"from bokeh.resources import INLINE\\n\"+\n     \"output_notebook(resources=INLINE)\\n\"+\n     \"</code>\\n\"+\n     \"</div>\"}};\n\n  function display_loaded() {\n    const el = document.getElementById(\"p2596\");\n    if (el != null) {\n      el.textContent = \"BokehJS is loading...\";\n    }\n    if (root.Bokeh !== undefined) {\n      if (el != null) {\n        el.textContent = \"BokehJS \" + root.Bokeh.version + \" successfully loaded.\";\n      }\n    } else if (Date.now() < root._bokeh_timeout) {\n      setTimeout(display_loaded, 100)\n    }\n  }\n\n  function run_callbacks() {\n    try {\n      root._bokeh_onload_callbacks.forEach(function(callback) {\n        if (callback != null)\n          callback();\n      });\n    } finally {\n      delete root._bokeh_onload_callbacks\n    }\n    console.debug(\"Bokeh: all callbacks have finished\");\n  }\n\n  function load_libs(css_urls, js_urls, callback) {\n    if (css_urls == null) css_urls = [];\n    if (js_urls == null) js_urls = [];\n\n    root._bokeh_onload_callbacks.push(callback);\n    if (root._bokeh_is_loading > 0) {\n      console.debug(\"Bokeh: BokehJS is being loaded, scheduling callback at\", now());\n      return null;\n    }\n    if (js_urls == null || js_urls.length === 0) {\n      run_callbacks();\n      return null;\n    }\n    console.debug(\"Bokeh: BokehJS not loaded, scheduling load and callback at\", now());\n    root._bokeh_is_loading = css_urls.length + js_urls.length;\n\n    function on_load() {\n      root._bokeh_is_loading--;\n      if (root._bokeh_is_loading === 0) {\n        console.debug(\"Bokeh: all BokehJS libraries/stylesheets loaded\");\n        run_callbacks()\n      }\n    }\n\n    function on_error(url) {\n      console.error(\"failed to load \" + url);\n    }\n\n    for (let i = 0; i < css_urls.length; i++) {\n      const url = css_urls[i];\n      const element = document.createElement(\"link\");\n      element.onload = on_load;\n      element.onerror = on_error.bind(null, url);\n      element.rel = \"stylesheet\";\n      element.type = \"text/css\";\n      element.href = url;\n      console.debug(\"Bokeh: injecting link tag for BokehJS stylesheet: \", url);\n      document.body.appendChild(element);\n    }\n\n    for (let i = 0; i < js_urls.length; i++) {\n      const url = js_urls[i];\n      const element = document.createElement('script');\n      element.onload = on_load;\n      element.onerror = on_error.bind(null, url);\n      element.async = false;\n      element.src = url;\n      console.debug(\"Bokeh: injecting script tag for BokehJS library: \", url);\n      document.head.appendChild(element);\n    }\n  };\n\n  function inject_raw_css(css) {\n    const element = document.createElement(\"style\");\n    element.appendChild(document.createTextNode(css));\n    document.body.appendChild(element);\n  }\n\n  const js_urls = [\"https://cdn.bokeh.org/bokeh/release/bokeh-3.0.2.min.js\", \"https://cdn.bokeh.org/bokeh/release/bokeh-gl-3.0.2.min.js\", \"https://cdn.bokeh.org/bokeh/release/bokeh-widgets-3.0.2.min.js\", \"https://cdn.bokeh.org/bokeh/release/bokeh-tables-3.0.2.min.js\", \"https://cdn.bokeh.org/bokeh/release/bokeh-mathjax-3.0.2.min.js\"];\n  const css_urls = [];\n\n  const inline_js = [    function(Bokeh) {\n      Bokeh.set_log_level(\"info\");\n    },\nfunction(Bokeh) {\n    }\n  ];\n\n  function run_inline_js() {\n    if (root.Bokeh !== undefined || force === true) {\n          for (let i = 0; i < inline_js.length; i++) {\n      inline_js[i].call(root, root.Bokeh);\n    }\nif (force === true) {\n        display_loaded();\n      }} else if (Date.now() < root._bokeh_timeout) {\n      setTimeout(run_inline_js, 100);\n    } else if (!root._bokeh_failed_load) {\n      console.log(\"Bokeh: BokehJS failed to load within specified timeout.\");\n      root._bokeh_failed_load = true;\n    } else if (force !== true) {\n      const cell = $(document.getElementById(\"p2596\")).parents('.cell').data().cell;\n      cell.output_area.append_execute_result(NB_LOAD_WARNING)\n    }\n  }\n\n  if (root._bokeh_is_loading === 0) {\n    console.debug(\"Bokeh: BokehJS loaded, going straight to plotting\");\n    run_inline_js();\n  } else {\n    load_libs(css_urls, js_urls, function() {\n      console.debug(\"Bokeh: BokehJS plotting callback run at\", now());\n      run_inline_js();\n    });\n  }\n}(window));",
      "application/vnd.bokehjs_load.v0+json": ""
     },
     "metadata": {},
     "output_type": "display_data"
    },
    {
     "ename": "NameError",
     "evalue": "name 'df' is not defined",
     "output_type": "error",
     "traceback": [
      "\u001b[0;31m---------------------------------------------------------------------------\u001b[0m",
      "\u001b[0;31mNameError\u001b[0m                                 Traceback (most recent call last)",
      "Cell \u001b[0;32mIn [14], line 6\u001b[0m\n\u001b[1;32m      4\u001b[0m chart2 \u001b[39m=\u001b[39m Chart(\u001b[39m800\u001b[39m, \u001b[39m400\u001b[39m, ohlcv)\n\u001b[1;32m      5\u001b[0m p \u001b[39m=\u001b[39m chart2\u001b[39m.\u001b[39mnew_figure(\u001b[39m'\u001b[39m\u001b[39mprofit\u001b[39m\u001b[39m'\u001b[39m, \u001b[39m100\u001b[39m, \u001b[39m'\u001b[39m\u001b[39mprofit\u001b[39m\u001b[39m'\u001b[39m)\n\u001b[0;32m----> 6\u001b[0m p\u001b[39m.\u001b[39mstep(x\u001b[39m=\u001b[39mdf[\u001b[39m'\u001b[39m\u001b[39mupdate_time\u001b[39m\u001b[39m'\u001b[39m], y\u001b[39m=\u001b[39mdf[\u001b[39m'\u001b[39m\u001b[39msum_profit\u001b[39m\u001b[39m'\u001b[39m])\n\u001b[1;32m      8\u001b[0m p \u001b[39m=\u001b[39m chart2\u001b[39m.\u001b[39mget_figure(\u001b[39m'\u001b[39m\u001b[39mmain\u001b[39m\u001b[39m'\u001b[39m)\n\u001b[1;32m      9\u001b[0m buy_df \u001b[39m=\u001b[39m df[df[\u001b[39m'\u001b[39m\u001b[39morder_side\u001b[39m\u001b[39m'\u001b[39m] \u001b[39m==\u001b[39m \u001b[39m\"\u001b[39m\u001b[39mBuy\u001b[39m\u001b[39m\"\u001b[39m]\n",
      "\u001b[0;31mNameError\u001b[0m: name 'df' is not defined"
     ]
    }
   ],
   "source": [
    "from bokeh.models.glyphs import Step\n",
    "from bokeh.models import ColumnDataSource\n",
    "\n",
    "chart2 = Chart(800, 400, ohlcv)\n",
    "p = chart2.new_figure('profit', 100, 'profit')\n",
    "p.step(x=df['update_time'], y=df['sum_profit'])\n",
    "\n",
    "p = chart2.get_figure('main')\n",
    "buy_df = df[df['order_side'] == \"Buy\"]\n",
    "p.scatter(x=buy_df['update_time'], y=buy_df['order_price'], marker='triangle', size=10, color=\"#6699ff\")\n",
    "\n",
    "sell_df = df[df['order_side'] == \"Sell\"]\n",
    "p.scatter(x=sell_df.index, y=sell_df['order_price'], marker='inverted_triangle', size=10, color=\"#ff8080\")\n",
    "\n",
    "\n",
    "p = chart2.new_figure('indicator', 150, 'indicator')\n",
    "\n",
    "indicator = agent.get_indicator('diff_low')\n",
    "p.line(x=indicator.index, y=indicator['value'], color='#ff8080')\n",
    "\n",
    "indicator = agent.get_indicator('diff_high')\n",
    "p.line(x=indicator.index, y=indicator['value'], color='#80ff80')\n",
    "\n",
    "indicator = agent.get_indicator('range')\n",
    "p.line(x=indicator.index, y=indicator['value'], color='#8080ff')\n",
    "\n",
    "\n",
    "chart2.show()"
   ]
  },
  {
   "cell_type": "code",
   "execution_count": null,
   "id": "a3034c8d",
   "metadata": {},
   "outputs": [
    {
     "data": {
      "text/plain": [
       "['diff_low', 'diff_high', 'range']"
      ]
     },
     "execution_count": 11,
     "metadata": {},
     "output_type": "execute_result"
    }
   ],
   "source": [
    "agent.get_indicator_names()"
   ]
  },
  {
   "cell_type": "code",
   "execution_count": null,
   "id": "960cdd7c",
   "metadata": {},
   "outputs": [
    {
     "data": {
      "text/html": [
       "<div>\n",
       "<style scoped>\n",
       "    .dataframe tbody tr th:only-of-type {\n",
       "        vertical-align: middle;\n",
       "    }\n",
       "\n",
       "    .dataframe tbody tr th {\n",
       "        vertical-align: top;\n",
       "    }\n",
       "\n",
       "    .dataframe thead th {\n",
       "        text-align: right;\n",
       "    }\n",
       "</style>\n",
       "<table border=\"1\" class=\"dataframe\">\n",
       "  <thead>\n",
       "    <tr style=\"text-align: right;\">\n",
       "      <th></th>\n",
       "      <th>diff_low</th>\n",
       "    </tr>\n",
       "    <tr>\n",
       "      <th>timestamp</th>\n",
       "      <th></th>\n",
       "    </tr>\n",
       "  </thead>\n",
       "  <tbody>\n",
       "    <tr>\n",
       "      <th>NaT</th>\n",
       "      <td>[1669910400000000, 194.09000000000015]</td>\n",
       "    </tr>\n",
       "    <tr>\n",
       "      <th>NaT</th>\n",
       "      <td>[1669917600000000, 58.11999999999898]</td>\n",
       "    </tr>\n",
       "    <tr>\n",
       "      <th>NaT</th>\n",
       "      <td>[1669924800000000, 68.33000000000175]</td>\n",
       "    </tr>\n",
       "    <tr>\n",
       "      <th>NaT</th>\n",
       "      <td>[1669932000000000, 106.88000000000102]</td>\n",
       "    </tr>\n",
       "    <tr>\n",
       "      <th>NaT</th>\n",
       "      <td>[1669939200000000, 3.2400000000016007]</td>\n",
       "    </tr>\n",
       "    <tr>\n",
       "      <th>...</th>\n",
       "      <td>...</td>\n",
       "    </tr>\n",
       "    <tr>\n",
       "      <th>NaT</th>\n",
       "      <td>[1670601600000000, 70.20000000000073]</td>\n",
       "    </tr>\n",
       "    <tr>\n",
       "      <th>NaT</th>\n",
       "      <td>[1670608800000000, 30.340000000000146]</td>\n",
       "    </tr>\n",
       "    <tr>\n",
       "      <th>NaT</th>\n",
       "      <td>[1670616000000000, 44.919999999998254]</td>\n",
       "    </tr>\n",
       "    <tr>\n",
       "      <th>NaT</th>\n",
       "      <td>[1670623200000000, 77.40000000000146]</td>\n",
       "    </tr>\n",
       "    <tr>\n",
       "      <th>NaT</th>\n",
       "      <td>[1670630400000000, 5.539999999997235]</td>\n",
       "    </tr>\n",
       "  </tbody>\n",
       "</table>\n",
       "<p>101 rows × 1 columns</p>\n",
       "</div>"
      ],
      "text/plain": [
       "                                         diff_low\n",
       "timestamp                                        \n",
       "NaT        [1669910400000000, 194.09000000000015]\n",
       "NaT         [1669917600000000, 58.11999999999898]\n",
       "NaT         [1669924800000000, 68.33000000000175]\n",
       "NaT        [1669932000000000, 106.88000000000102]\n",
       "NaT        [1669939200000000, 3.2400000000016007]\n",
       "...                                           ...\n",
       "NaT         [1670601600000000, 70.20000000000073]\n",
       "NaT        [1670608800000000, 30.340000000000146]\n",
       "NaT        [1670616000000000, 44.919999999998254]\n",
       "NaT         [1670623200000000, 77.40000000000146]\n",
       "NaT         [1670630400000000, 5.539999999997235]\n",
       "\n",
       "[101 rows x 1 columns]"
      ]
     },
     "execution_count": 12,
     "metadata": {},
     "output_type": "execute_result"
    }
   ],
   "source": [
    "indicator"
   ]
  },
  {
   "cell_type": "code",
   "execution_count": 11,
   "id": "57e2e800",
   "metadata": {},
   "outputs": [
    {
     "ename": "ValueError",
     "evalue": "Must pass 2-d input. shape=()",
     "output_type": "error",
     "traceback": [
      "\u001b[0;31m---------------------------------------------------------------------------\u001b[0m",
      "\u001b[0;31mValueError\u001b[0m                                Traceback (most recent call last)",
      "Cell \u001b[0;32mIn [11], line 1\u001b[0m\n\u001b[0;32m----> 1\u001b[0m agent\u001b[39m.\u001b[39;49mget_indicator(\u001b[39m'\u001b[39;49m\u001b[39mdiff_low\u001b[39;49m\u001b[39m'\u001b[39;49m)\n",
      "File \u001b[0;32m~/Projects/rbot/venv/lib/python3.10/site-packages/rbot/__init__.py:142\u001b[0m, in \u001b[0;36mBaseAgent.get_indicator\u001b[0;34m(self, key)\u001b[0m\n\u001b[1;32m    139\u001b[0m \u001b[39mif\u001b[39;00m \u001b[39mnot\u001b[39;00m \u001b[39mself\u001b[39m\u001b[39m.\u001b[39mkey_in_indicators(key):\n\u001b[1;32m    140\u001b[0m     \u001b[39mreturn\u001b[39;00m \u001b[39mNone\u001b[39;00m\n\u001b[0;32m--> 142\u001b[0m df \u001b[39m=\u001b[39m pd\u001b[39m.\u001b[39;49mDataFrame(np\u001b[39m.\u001b[39;49marray(\u001b[39mself\u001b[39;49m\u001b[39m.\u001b[39;49m_indicators), columns\u001b[39m=\u001b[39;49m[\u001b[39m\"\u001b[39;49m\u001b[39mtimestamp\u001b[39;49m\u001b[39m\"\u001b[39;49m, key])\n\u001b[1;32m    143\u001b[0m df[\u001b[39m'\u001b[39m\u001b[39mtimestamp\u001b[39m\u001b[39m'\u001b[39m] \u001b[39m=\u001b[39m pd\u001b[39m.\u001b[39mto_datetime((df[\u001b[39m\"\u001b[39m\u001b[39mtimestamp\u001b[39m\u001b[39m\"\u001b[39m]), utc\u001b[39m=\u001b[39m\u001b[39mTrue\u001b[39;00m, unit\u001b[39m=\u001b[39m\u001b[39m'\u001b[39m\u001b[39mus\u001b[39m\u001b[39m'\u001b[39m)\n\u001b[1;32m    144\u001b[0m df \u001b[39m=\u001b[39m df\u001b[39m.\u001b[39mset_index(\u001b[39m'\u001b[39m\u001b[39mtimestamp\u001b[39m\u001b[39m'\u001b[39m)\n",
      "File \u001b[0;32m~/Projects/rbot/venv/lib/python3.10/site-packages/pandas/core/frame.py:721\u001b[0m, in \u001b[0;36mDataFrame.__init__\u001b[0;34m(self, data, index, columns, dtype, copy)\u001b[0m\n\u001b[1;32m    711\u001b[0m         mgr \u001b[39m=\u001b[39m dict_to_mgr(\n\u001b[1;32m    712\u001b[0m             \u001b[39m# error: Item \"ndarray\" of \"Union[ndarray, Series, Index]\" has no\u001b[39;00m\n\u001b[1;32m    713\u001b[0m             \u001b[39m# attribute \"name\"\u001b[39;00m\n\u001b[0;32m   (...)\u001b[0m\n\u001b[1;32m    718\u001b[0m             typ\u001b[39m=\u001b[39mmanager,\n\u001b[1;32m    719\u001b[0m         )\n\u001b[1;32m    720\u001b[0m     \u001b[39melse\u001b[39;00m:\n\u001b[0;32m--> 721\u001b[0m         mgr \u001b[39m=\u001b[39m ndarray_to_mgr(\n\u001b[1;32m    722\u001b[0m             data,\n\u001b[1;32m    723\u001b[0m             index,\n\u001b[1;32m    724\u001b[0m             columns,\n\u001b[1;32m    725\u001b[0m             dtype\u001b[39m=\u001b[39;49mdtype,\n\u001b[1;32m    726\u001b[0m             copy\u001b[39m=\u001b[39;49mcopy,\n\u001b[1;32m    727\u001b[0m             typ\u001b[39m=\u001b[39;49mmanager,\n\u001b[1;32m    728\u001b[0m         )\n\u001b[1;32m    730\u001b[0m \u001b[39m# For data is list-like, or Iterable (will consume into list)\u001b[39;00m\n\u001b[1;32m    731\u001b[0m \u001b[39melif\u001b[39;00m is_list_like(data):\n",
      "File \u001b[0;32m~/Projects/rbot/venv/lib/python3.10/site-packages/pandas/core/internals/construction.py:329\u001b[0m, in \u001b[0;36mndarray_to_mgr\u001b[0;34m(values, index, columns, dtype, copy, typ)\u001b[0m\n\u001b[1;32m    324\u001b[0m         values \u001b[39m=\u001b[39m values\u001b[39m.\u001b[39mreshape(\u001b[39m-\u001b[39m\u001b[39m1\u001b[39m, \u001b[39m1\u001b[39m)\n\u001b[1;32m    326\u001b[0m \u001b[39melse\u001b[39;00m:\n\u001b[1;32m    327\u001b[0m     \u001b[39m# by definition an array here\u001b[39;00m\n\u001b[1;32m    328\u001b[0m     \u001b[39m# the dtypes will be coerced to a single dtype\u001b[39;00m\n\u001b[0;32m--> 329\u001b[0m     values \u001b[39m=\u001b[39m _prep_ndarraylike(values, copy\u001b[39m=\u001b[39;49mcopy_on_sanitize)\n\u001b[1;32m    331\u001b[0m \u001b[39mif\u001b[39;00m dtype \u001b[39mis\u001b[39;00m \u001b[39mnot\u001b[39;00m \u001b[39mNone\u001b[39;00m \u001b[39mand\u001b[39;00m \u001b[39mnot\u001b[39;00m is_dtype_equal(values\u001b[39m.\u001b[39mdtype, dtype):\n\u001b[1;32m    332\u001b[0m     \u001b[39m# GH#40110 see similar check inside sanitize_array\u001b[39;00m\n\u001b[1;32m    333\u001b[0m     rcf \u001b[39m=\u001b[39m \u001b[39mnot\u001b[39;00m (is_integer_dtype(dtype) \u001b[39mand\u001b[39;00m values\u001b[39m.\u001b[39mdtype\u001b[39m.\u001b[39mkind \u001b[39m==\u001b[39m \u001b[39m\"\u001b[39m\u001b[39mf\u001b[39m\u001b[39m\"\u001b[39m)\n",
      "File \u001b[0;32m~/Projects/rbot/venv/lib/python3.10/site-packages/pandas/core/internals/construction.py:583\u001b[0m, in \u001b[0;36m_prep_ndarraylike\u001b[0;34m(values, copy)\u001b[0m\n\u001b[1;32m    581\u001b[0m     values \u001b[39m=\u001b[39m values\u001b[39m.\u001b[39mreshape((values\u001b[39m.\u001b[39mshape[\u001b[39m0\u001b[39m], \u001b[39m1\u001b[39m))\n\u001b[1;32m    582\u001b[0m \u001b[39melif\u001b[39;00m values\u001b[39m.\u001b[39mndim \u001b[39m!=\u001b[39m \u001b[39m2\u001b[39m:\n\u001b[0;32m--> 583\u001b[0m     \u001b[39mraise\u001b[39;00m \u001b[39mValueError\u001b[39;00m(\u001b[39mf\u001b[39m\u001b[39m\"\u001b[39m\u001b[39mMust pass 2-d input. shape=\u001b[39m\u001b[39m{\u001b[39;00mvalues\u001b[39m.\u001b[39mshape\u001b[39m}\u001b[39;00m\u001b[39m\"\u001b[39m)\n\u001b[1;32m    585\u001b[0m \u001b[39mreturn\u001b[39;00m values\n",
      "\u001b[0;31mValueError\u001b[0m: Must pass 2-d input. shape=()"
     ]
    }
   ],
   "source": [
    "agent.get_indicator('diff_low')"
   ]
  },
  {
   "cell_type": "code",
   "execution_count": 19,
   "id": "5e54fc19",
   "metadata": {},
   "outputs": [
    {
     "data": {
      "text/html": [
       "<div>\n",
       "<style scoped>\n",
       "    .dataframe tbody tr th:only-of-type {\n",
       "        vertical-align: middle;\n",
       "    }\n",
       "\n",
       "    .dataframe tbody tr th {\n",
       "        vertical-align: top;\n",
       "    }\n",
       "\n",
       "    .dataframe thead th {\n",
       "        text-align: right;\n",
       "    }\n",
       "</style>\n",
       "<table border=\"1\" class=\"dataframe\">\n",
       "  <thead>\n",
       "    <tr style=\"text-align: right;\">\n",
       "      <th></th>\n",
       "      <th>update_time</th>\n",
       "      <th>order_id</th>\n",
       "      <th>sub_id</th>\n",
       "      <th>order_side</th>\n",
       "      <th>post_only</th>\n",
       "      <th>status</th>\n",
       "      <th>open_price</th>\n",
       "      <th>open_size</th>\n",
       "      <th>open_volume</th>\n",
       "      <th>close_price</th>\n",
       "      <th>...</th>\n",
       "      <th>order_price</th>\n",
       "      <th>order_size</th>\n",
       "      <th>order_volume</th>\n",
       "      <th>profit</th>\n",
       "      <th>fee</th>\n",
       "      <th>total_profit</th>\n",
       "      <th>position_change</th>\n",
       "      <th>message</th>\n",
       "      <th>sum_profit</th>\n",
       "      <th>position</th>\n",
       "    </tr>\n",
       "    <tr>\n",
       "      <th>create_time</th>\n",
       "      <th></th>\n",
       "      <th></th>\n",
       "      <th></th>\n",
       "      <th></th>\n",
       "      <th></th>\n",
       "      <th></th>\n",
       "      <th></th>\n",
       "      <th></th>\n",
       "      <th></th>\n",
       "      <th></th>\n",
       "      <th></th>\n",
       "      <th></th>\n",
       "      <th></th>\n",
       "      <th></th>\n",
       "      <th></th>\n",
       "      <th></th>\n",
       "      <th></th>\n",
       "      <th></th>\n",
       "      <th></th>\n",
       "      <th></th>\n",
       "      <th></th>\n",
       "    </tr>\n",
       "  </thead>\n",
       "  <tbody>\n",
       "    <tr>\n",
       "      <th>2022-12-04 02:00:00+00:00</th>\n",
       "      <td>2022-12-04 02:10:00.004000+00:00</td>\n",
       "      <td>0000-0003</td>\n",
       "      <td>0</td>\n",
       "      <td>Buy</td>\n",
       "      <td>True</td>\n",
       "      <td>Expire</td>\n",
       "      <td>0.0</td>\n",
       "      <td>0.0</td>\n",
       "      <td>0.0</td>\n",
       "      <td>0.0</td>\n",
       "      <td>...</td>\n",
       "      <td>16888.07</td>\n",
       "      <td>0.01</td>\n",
       "      <td>168.8807</td>\n",
       "      <td>0.0</td>\n",
       "      <td>0.0</td>\n",
       "      <td>0.0</td>\n",
       "      <td>0.0</td>\n",
       "      <td>Open Long</td>\n",
       "      <td>0.0</td>\n",
       "      <td>0.0</td>\n",
       "    </tr>\n",
       "    <tr>\n",
       "      <th>2022-12-05 02:00:00+00:00</th>\n",
       "      <td>2022-12-05 02:10:00.152000+00:00</td>\n",
       "      <td>0000-0004</td>\n",
       "      <td>0</td>\n",
       "      <td>Buy</td>\n",
       "      <td>True</td>\n",
       "      <td>Expire</td>\n",
       "      <td>0.0</td>\n",
       "      <td>0.0</td>\n",
       "      <td>0.0</td>\n",
       "      <td>0.0</td>\n",
       "      <td>...</td>\n",
       "      <td>17109.65</td>\n",
       "      <td>0.01</td>\n",
       "      <td>171.0965</td>\n",
       "      <td>0.0</td>\n",
       "      <td>0.0</td>\n",
       "      <td>0.0</td>\n",
       "      <td>0.0</td>\n",
       "      <td>Open Long</td>\n",
       "      <td>0.0</td>\n",
       "      <td>0.0</td>\n",
       "    </tr>\n",
       "    <tr>\n",
       "      <th>2022-12-05 06:00:00+00:00</th>\n",
       "      <td>2022-12-05 06:10:00.193000+00:00</td>\n",
       "      <td>0000-0005</td>\n",
       "      <td>0</td>\n",
       "      <td>Buy</td>\n",
       "      <td>True</td>\n",
       "      <td>Expire</td>\n",
       "      <td>0.0</td>\n",
       "      <td>0.0</td>\n",
       "      <td>0.0</td>\n",
       "      <td>0.0</td>\n",
       "      <td>...</td>\n",
       "      <td>17200.68</td>\n",
       "      <td>0.01</td>\n",
       "      <td>172.0068</td>\n",
       "      <td>0.0</td>\n",
       "      <td>0.0</td>\n",
       "      <td>0.0</td>\n",
       "      <td>0.0</td>\n",
       "      <td>Open Long</td>\n",
       "      <td>0.0</td>\n",
       "      <td>0.0</td>\n",
       "    </tr>\n",
       "    <tr>\n",
       "      <th>2022-12-08 20:00:00+00:00</th>\n",
       "      <td>2022-12-08 20:10:00.102000+00:00</td>\n",
       "      <td>0000-0008</td>\n",
       "      <td>0</td>\n",
       "      <td>Buy</td>\n",
       "      <td>True</td>\n",
       "      <td>Expire</td>\n",
       "      <td>0.0</td>\n",
       "      <td>0.0</td>\n",
       "      <td>0.0</td>\n",
       "      <td>0.0</td>\n",
       "      <td>...</td>\n",
       "      <td>16967.98</td>\n",
       "      <td>0.01</td>\n",
       "      <td>169.6798</td>\n",
       "      <td>0.0</td>\n",
       "      <td>0.0</td>\n",
       "      <td>0.0</td>\n",
       "      <td>0.0</td>\n",
       "      <td>Open Long</td>\n",
       "      <td>0.0</td>\n",
       "      <td>0.0</td>\n",
       "    </tr>\n",
       "  </tbody>\n",
       "</table>\n",
       "<p>4 rows × 22 columns</p>\n",
       "</div>"
      ],
      "text/plain": [
       "                                               update_time   order_id  sub_id  \\\n",
       "create_time                                                                     \n",
       "2022-12-04 02:00:00+00:00 2022-12-04 02:10:00.004000+00:00  0000-0003       0   \n",
       "2022-12-05 02:00:00+00:00 2022-12-05 02:10:00.152000+00:00  0000-0004       0   \n",
       "2022-12-05 06:00:00+00:00 2022-12-05 06:10:00.193000+00:00  0000-0005       0   \n",
       "2022-12-08 20:00:00+00:00 2022-12-08 20:10:00.102000+00:00  0000-0008       0   \n",
       "\n",
       "                          order_side  post_only  status  open_price  \\\n",
       "create_time                                                           \n",
       "2022-12-04 02:00:00+00:00        Buy       True  Expire         0.0   \n",
       "2022-12-05 02:00:00+00:00        Buy       True  Expire         0.0   \n",
       "2022-12-05 06:00:00+00:00        Buy       True  Expire         0.0   \n",
       "2022-12-08 20:00:00+00:00        Buy       True  Expire         0.0   \n",
       "\n",
       "                           open_size  open_volume  close_price  ...  \\\n",
       "create_time                                                     ...   \n",
       "2022-12-04 02:00:00+00:00        0.0          0.0          0.0  ...   \n",
       "2022-12-05 02:00:00+00:00        0.0          0.0          0.0  ...   \n",
       "2022-12-05 06:00:00+00:00        0.0          0.0          0.0  ...   \n",
       "2022-12-08 20:00:00+00:00        0.0          0.0          0.0  ...   \n",
       "\n",
       "                           order_price  order_size  order_volume  profit  fee  \\\n",
       "create_time                                                                     \n",
       "2022-12-04 02:00:00+00:00     16888.07        0.01      168.8807     0.0  0.0   \n",
       "2022-12-05 02:00:00+00:00     17109.65        0.01      171.0965     0.0  0.0   \n",
       "2022-12-05 06:00:00+00:00     17200.68        0.01      172.0068     0.0  0.0   \n",
       "2022-12-08 20:00:00+00:00     16967.98        0.01      169.6798     0.0  0.0   \n",
       "\n",
       "                           total_profit  position_change    message  \\\n",
       "create_time                                                           \n",
       "2022-12-04 02:00:00+00:00           0.0              0.0  Open Long   \n",
       "2022-12-05 02:00:00+00:00           0.0              0.0  Open Long   \n",
       "2022-12-05 06:00:00+00:00           0.0              0.0  Open Long   \n",
       "2022-12-08 20:00:00+00:00           0.0              0.0  Open Long   \n",
       "\n",
       "                           sum_profit position  \n",
       "create_time                                     \n",
       "2022-12-04 02:00:00+00:00         0.0      0.0  \n",
       "2022-12-05 02:00:00+00:00         0.0      0.0  \n",
       "2022-12-05 06:00:00+00:00         0.0      0.0  \n",
       "2022-12-08 20:00:00+00:00         0.0      0.0  \n",
       "\n",
       "[4 rows x 22 columns]"
      ]
     },
     "execution_count": 19,
     "metadata": {},
     "output_type": "execute_result"
    }
   ],
   "source": [
    "buy_df"
   ]
  },
  {
   "cell_type": "code",
   "execution_count": 20,
   "id": "4f604945",
   "metadata": {},
   "outputs": [
    {
     "data": {
      "text/html": [
       "<div>\n",
       "<style scoped>\n",
       "    .dataframe tbody tr th:only-of-type {\n",
       "        vertical-align: middle;\n",
       "    }\n",
       "\n",
       "    .dataframe tbody tr th {\n",
       "        vertical-align: top;\n",
       "    }\n",
       "\n",
       "    .dataframe thead th {\n",
       "        text-align: right;\n",
       "    }\n",
       "</style>\n",
       "<table border=\"1\" class=\"dataframe\">\n",
       "  <thead>\n",
       "    <tr style=\"text-align: right;\">\n",
       "      <th></th>\n",
       "      <th>update_time</th>\n",
       "      <th>order_id</th>\n",
       "      <th>sub_id</th>\n",
       "      <th>order_side</th>\n",
       "      <th>post_only</th>\n",
       "      <th>status</th>\n",
       "      <th>open_price</th>\n",
       "      <th>open_size</th>\n",
       "      <th>open_volume</th>\n",
       "      <th>close_price</th>\n",
       "      <th>...</th>\n",
       "      <th>order_price</th>\n",
       "      <th>order_size</th>\n",
       "      <th>order_volume</th>\n",
       "      <th>profit</th>\n",
       "      <th>fee</th>\n",
       "      <th>total_profit</th>\n",
       "      <th>position_change</th>\n",
       "      <th>message</th>\n",
       "      <th>sum_profit</th>\n",
       "      <th>position</th>\n",
       "    </tr>\n",
       "    <tr>\n",
       "      <th>create_time</th>\n",
       "      <th></th>\n",
       "      <th></th>\n",
       "      <th></th>\n",
       "      <th></th>\n",
       "      <th></th>\n",
       "      <th></th>\n",
       "      <th></th>\n",
       "      <th></th>\n",
       "      <th></th>\n",
       "      <th></th>\n",
       "      <th></th>\n",
       "      <th></th>\n",
       "      <th></th>\n",
       "      <th></th>\n",
       "      <th></th>\n",
       "      <th></th>\n",
       "      <th></th>\n",
       "      <th></th>\n",
       "      <th></th>\n",
       "      <th></th>\n",
       "      <th></th>\n",
       "    </tr>\n",
       "  </thead>\n",
       "  <tbody>\n",
       "    <tr>\n",
       "      <th>2022-12-02 14:00:00+00:00</th>\n",
       "      <td>2022-12-02 14:10:00.053000+00:00</td>\n",
       "      <td>0000-0001</td>\n",
       "      <td>0</td>\n",
       "      <td>Sell</td>\n",
       "      <td>True</td>\n",
       "      <td>Expire</td>\n",
       "      <td>0.0</td>\n",
       "      <td>0.0</td>\n",
       "      <td>0.0</td>\n",
       "      <td>0.0</td>\n",
       "      <td>...</td>\n",
       "      <td>16997.89</td>\n",
       "      <td>0.01</td>\n",
       "      <td>169.9789</td>\n",
       "      <td>0.0</td>\n",
       "      <td>0.0</td>\n",
       "      <td>0.0</td>\n",
       "      <td>0.0</td>\n",
       "      <td>Open Short</td>\n",
       "      <td>0.0</td>\n",
       "      <td>0.0</td>\n",
       "    </tr>\n",
       "    <tr>\n",
       "      <th>2022-12-04 00:00:00+00:00</th>\n",
       "      <td>2022-12-04 00:10:00.020000+00:00</td>\n",
       "      <td>0000-0002</td>\n",
       "      <td>0</td>\n",
       "      <td>Sell</td>\n",
       "      <td>True</td>\n",
       "      <td>Expire</td>\n",
       "      <td>0.0</td>\n",
       "      <td>0.0</td>\n",
       "      <td>0.0</td>\n",
       "      <td>0.0</td>\n",
       "      <td>...</td>\n",
       "      <td>16949.21</td>\n",
       "      <td>0.01</td>\n",
       "      <td>169.4921</td>\n",
       "      <td>0.0</td>\n",
       "      <td>0.0</td>\n",
       "      <td>0.0</td>\n",
       "      <td>0.0</td>\n",
       "      <td>Open Short</td>\n",
       "      <td>0.0</td>\n",
       "      <td>0.0</td>\n",
       "    </tr>\n",
       "    <tr>\n",
       "      <th>2022-12-05 16:00:00+00:00</th>\n",
       "      <td>2022-12-05 16:10:00.066000+00:00</td>\n",
       "      <td>0000-0006</td>\n",
       "      <td>0</td>\n",
       "      <td>Sell</td>\n",
       "      <td>True</td>\n",
       "      <td>Expire</td>\n",
       "      <td>0.0</td>\n",
       "      <td>0.0</td>\n",
       "      <td>0.0</td>\n",
       "      <td>0.0</td>\n",
       "      <td>...</td>\n",
       "      <td>17234.33</td>\n",
       "      <td>0.01</td>\n",
       "      <td>172.3433</td>\n",
       "      <td>0.0</td>\n",
       "      <td>0.0</td>\n",
       "      <td>0.0</td>\n",
       "      <td>0.0</td>\n",
       "      <td>Open Short</td>\n",
       "      <td>0.0</td>\n",
       "      <td>0.0</td>\n",
       "    </tr>\n",
       "    <tr>\n",
       "      <th>2022-12-07 08:00:00+00:00</th>\n",
       "      <td>2022-12-07 08:10:00.030000+00:00</td>\n",
       "      <td>0000-0007</td>\n",
       "      <td>0</td>\n",
       "      <td>Sell</td>\n",
       "      <td>True</td>\n",
       "      <td>Expire</td>\n",
       "      <td>0.0</td>\n",
       "      <td>0.0</td>\n",
       "      <td>0.0</td>\n",
       "      <td>0.0</td>\n",
       "      <td>...</td>\n",
       "      <td>17005.57</td>\n",
       "      <td>0.01</td>\n",
       "      <td>170.0557</td>\n",
       "      <td>0.0</td>\n",
       "      <td>0.0</td>\n",
       "      <td>0.0</td>\n",
       "      <td>0.0</td>\n",
       "      <td>Open Short</td>\n",
       "      <td>0.0</td>\n",
       "      <td>0.0</td>\n",
       "    </tr>\n",
       "    <tr>\n",
       "      <th>2022-12-09 14:00:00+00:00</th>\n",
       "      <td>2022-12-09 14:10:00.314000+00:00</td>\n",
       "      <td>0000-0009</td>\n",
       "      <td>0</td>\n",
       "      <td>Sell</td>\n",
       "      <td>True</td>\n",
       "      <td>Expire</td>\n",
       "      <td>0.0</td>\n",
       "      <td>0.0</td>\n",
       "      <td>0.0</td>\n",
       "      <td>0.0</td>\n",
       "      <td>...</td>\n",
       "      <td>17242.62</td>\n",
       "      <td>0.01</td>\n",
       "      <td>172.4262</td>\n",
       "      <td>0.0</td>\n",
       "      <td>0.0</td>\n",
       "      <td>0.0</td>\n",
       "      <td>0.0</td>\n",
       "      <td>Open Short</td>\n",
       "      <td>0.0</td>\n",
       "      <td>0.0</td>\n",
       "    </tr>\n",
       "  </tbody>\n",
       "</table>\n",
       "<p>5 rows × 22 columns</p>\n",
       "</div>"
      ],
      "text/plain": [
       "                                               update_time   order_id  sub_id  \\\n",
       "create_time                                                                     \n",
       "2022-12-02 14:00:00+00:00 2022-12-02 14:10:00.053000+00:00  0000-0001       0   \n",
       "2022-12-04 00:00:00+00:00 2022-12-04 00:10:00.020000+00:00  0000-0002       0   \n",
       "2022-12-05 16:00:00+00:00 2022-12-05 16:10:00.066000+00:00  0000-0006       0   \n",
       "2022-12-07 08:00:00+00:00 2022-12-07 08:10:00.030000+00:00  0000-0007       0   \n",
       "2022-12-09 14:00:00+00:00 2022-12-09 14:10:00.314000+00:00  0000-0009       0   \n",
       "\n",
       "                          order_side  post_only  status  open_price  \\\n",
       "create_time                                                           \n",
       "2022-12-02 14:00:00+00:00       Sell       True  Expire         0.0   \n",
       "2022-12-04 00:00:00+00:00       Sell       True  Expire         0.0   \n",
       "2022-12-05 16:00:00+00:00       Sell       True  Expire         0.0   \n",
       "2022-12-07 08:00:00+00:00       Sell       True  Expire         0.0   \n",
       "2022-12-09 14:00:00+00:00       Sell       True  Expire         0.0   \n",
       "\n",
       "                           open_size  open_volume  close_price  ...  \\\n",
       "create_time                                                     ...   \n",
       "2022-12-02 14:00:00+00:00        0.0          0.0          0.0  ...   \n",
       "2022-12-04 00:00:00+00:00        0.0          0.0          0.0  ...   \n",
       "2022-12-05 16:00:00+00:00        0.0          0.0          0.0  ...   \n",
       "2022-12-07 08:00:00+00:00        0.0          0.0          0.0  ...   \n",
       "2022-12-09 14:00:00+00:00        0.0          0.0          0.0  ...   \n",
       "\n",
       "                           order_price  order_size  order_volume  profit  fee  \\\n",
       "create_time                                                                     \n",
       "2022-12-02 14:00:00+00:00     16997.89        0.01      169.9789     0.0  0.0   \n",
       "2022-12-04 00:00:00+00:00     16949.21        0.01      169.4921     0.0  0.0   \n",
       "2022-12-05 16:00:00+00:00     17234.33        0.01      172.3433     0.0  0.0   \n",
       "2022-12-07 08:00:00+00:00     17005.57        0.01      170.0557     0.0  0.0   \n",
       "2022-12-09 14:00:00+00:00     17242.62        0.01      172.4262     0.0  0.0   \n",
       "\n",
       "                           total_profit  position_change     message  \\\n",
       "create_time                                                            \n",
       "2022-12-02 14:00:00+00:00           0.0              0.0  Open Short   \n",
       "2022-12-04 00:00:00+00:00           0.0              0.0  Open Short   \n",
       "2022-12-05 16:00:00+00:00           0.0              0.0  Open Short   \n",
       "2022-12-07 08:00:00+00:00           0.0              0.0  Open Short   \n",
       "2022-12-09 14:00:00+00:00           0.0              0.0  Open Short   \n",
       "\n",
       "                           sum_profit position  \n",
       "create_time                                     \n",
       "2022-12-02 14:00:00+00:00         0.0      0.0  \n",
       "2022-12-04 00:00:00+00:00         0.0      0.0  \n",
       "2022-12-05 16:00:00+00:00         0.0      0.0  \n",
       "2022-12-07 08:00:00+00:00         0.0      0.0  \n",
       "2022-12-09 14:00:00+00:00         0.0      0.0  \n",
       "\n",
       "[5 rows x 22 columns]"
      ]
     },
     "execution_count": 20,
     "metadata": {},
     "output_type": "execute_result"
    }
   ],
   "source": [
    "sell_df"
   ]
  },
  {
   "cell_type": "code",
   "execution_count": 21,
   "id": "4efd50c6",
   "metadata": {},
   "outputs": [
    {
     "ename": "NameError",
     "evalue": "name 'bn' is not defined",
     "output_type": "error",
     "traceback": [
      "\u001b[0;31m---------------------------------------------------------------------------\u001b[0m",
      "\u001b[0;31mNameError\u001b[0m                                 Traceback (most recent call last)",
      "Cell \u001b[0;32mIn [21], line 2\u001b[0m\n\u001b[1;32m      1\u001b[0m rbot\u001b[39m.\u001b[39minit_debug_log()\n\u001b[0;32m----> 2\u001b[0m bn\u001b[39m.\u001b[39mdownload(\u001b[39m10\u001b[39m)\n",
      "\u001b[0;31mNameError\u001b[0m: name 'bn' is not defined"
     ]
    }
   ],
   "source": [
    "rbot.init_debug_log()\n",
    "bn.download(10)"
   ]
  },
  {
   "cell_type": "code",
   "execution_count": null,
   "id": "9ad85974",
   "metadata": {},
   "outputs": [],
   "source": [
    "bn.info()"
   ]
  },
  {
   "cell_type": "code",
   "execution_count": null,
   "id": "455a1014",
   "metadata": {},
   "outputs": [],
   "source": [
    "rbot.init_debug_log()\n",
    "#print(bn.ohlcvv(1669593599839000 - 60*60*50*1000_000, 1669593599839000, 600))\n",
    "#print(bn.ohlcvv(1669593599839000 - 60*60*50*1000_000, 1669593599839000, 601))\n",
    "bn.ohlcvv(0, 1669593599839000, 601)"
   ]
  },
  {
   "cell_type": "code",
   "execution_count": null,
   "id": "41248e2d",
   "metadata": {},
   "outputs": [],
   "source": [
    "bn.ohlcv(0, 0, 600)"
   ]
  },
  {
   "cell_type": "code",
   "execution_count": null,
   "id": "597c5438",
   "metadata": {},
   "outputs": [],
   "source": [
    "result_to_df(r)"
   ]
  },
  {
   "cell_type": "code",
   "execution_count": null,
   "id": "ddd92292",
   "metadata": {},
   "outputs": [],
   "source": [
    "r[0].update_time"
   ]
  },
  {
   "cell_type": "code",
   "execution_count": null,
   "id": "c7dcb390",
   "metadata": {},
   "outputs": [
    {
     "data": {
      "text/plain": [
       "create_time\n",
       "2022-12-01 14:00:00+00:00    False\n",
       "2022-12-02 14:00:00+00:00     True\n",
       "2022-12-04 02:00:00+00:00    False\n",
       "2022-12-04 02:00:00+00:00    False\n",
       "2022-12-05 16:00:00+00:00     True\n",
       "2022-12-05 16:00:00+00:00     True\n",
       "Name: order_side, dtype: bool"
      ]
     },
     "execution_count": 81,
     "metadata": {},
     "output_type": "execute_result"
    }
   ],
   "source": [
    "df['order_side'] == rbot.OrderSide.Buy"
   ]
  },
  {
   "cell_type": "code",
   "execution_count": 68,
   "id": "2053fd74",
   "metadata": {},
   "outputs": [],
   "source": [
    "indicators = {}\n",
    "\n",
    "indicators['a'] = []\n",
    "\n",
    "indicators['a'].append((1, 1.0))\n",
    "indicators['a'].append((2, 2.0))\n",
    "    "
   ]
  },
  {
   "cell_type": "code",
   "execution_count": 69,
   "id": "0aeb7251",
   "metadata": {},
   "outputs": [
    {
     "data": {
      "text/plain": [
       "[(1, 1.0), (2, 2.0)]"
      ]
     },
     "execution_count": 69,
     "metadata": {},
     "output_type": "execute_result"
    }
   ],
   "source": [
    "indicators['a']"
   ]
  },
  {
   "cell_type": "code",
   "execution_count": 22,
   "id": "89a9e899",
   "metadata": {},
   "outputs": [],
   "source": [
    "class A:\n",
    "    def __init__(self):\n",
    "        self._indicators = {}\n",
    "\n",
    "    def key_in_indicators(self, key):\n",
    "        if key in self._indicators:\n",
    "            return True\n",
    "        else:\n",
    "            return False\n",
    "\n",
    "    def get_indicator(self, key):\n",
    "        if not self.key_in_indicators(key):\n",
    "            return None\n",
    "\n",
    "        return self._indicators[key]\n",
    "        \n",
    "\n",
    "    def set_indicator(self, key, time, val):\n",
    "        if not self.key_in_indicators(key):\n",
    "            self._indicators[key] = []\n",
    "        \n",
    "        self._indicators[key].append([time, val])\n",
    "        \n",
    "    def get_indicator_names(self):\n",
    "        names = []\n",
    "        for k in self._indicators:\n",
    "            names.append(k)\n",
    "        \n",
    "        return names\n",
    "       "
   ]
  },
  {
   "cell_type": "code",
   "execution_count": 23,
   "id": "351c6ade",
   "metadata": {},
   "outputs": [],
   "source": [
    "a = A()"
   ]
  },
  {
   "cell_type": "code",
   "execution_count": 24,
   "id": "63fbe422",
   "metadata": {},
   "outputs": [],
   "source": [
    "a.get_indicator('a')"
   ]
  },
  {
   "cell_type": "code",
   "execution_count": 26,
   "id": "e7556ffc",
   "metadata": {},
   "outputs": [],
   "source": [
    "a.set_indicator(\"b\", 5, 4)"
   ]
  },
  {
   "cell_type": "code",
   "execution_count": 27,
   "id": "61636d1b",
   "metadata": {},
   "outputs": [],
   "source": [
    "n = a.get_indicator_names()"
   ]
  },
  {
   "cell_type": "code",
   "execution_count": 29,
   "id": "2570a423",
   "metadata": {},
   "outputs": [],
   "source": [
    "ind = a.get_indicator('b')\n"
   ]
  },
  {
   "cell_type": "code",
   "execution_count": 32,
   "id": "ca25815b",
   "metadata": {},
   "outputs": [],
   "source": [
    "import numpy as np\n",
    "ind_n = np.array(ind)"
   ]
  },
  {
   "cell_type": "code",
   "execution_count": 33,
   "id": "34449cc2",
   "metadata": {},
   "outputs": [
    {
     "data": {
      "text/plain": [
       "array([[4, 3],\n",
       "       [5, 4]])"
      ]
     },
     "execution_count": 33,
     "metadata": {},
     "output_type": "execute_result"
    }
   ],
   "source": [
    "ind_n"
   ]
  },
  {
   "cell_type": "code",
   "execution_count": 34,
   "id": "f89b93f0",
   "metadata": {},
   "outputs": [],
   "source": [
    "import pandas as pd"
   ]
  },
  {
   "cell_type": "code",
   "execution_count": 37,
   "id": "9c146797",
   "metadata": {},
   "outputs": [],
   "source": [
    "aa = pd.DataFrame(ind_n, columns=['timestamp', 'v'])"
   ]
  },
  {
   "cell_type": "code",
   "execution_count": 38,
   "id": "811f7f91",
   "metadata": {},
   "outputs": [],
   "source": [
    "        aa['timestamp'] = pd.to_datetime((aa[\"timestamp\"]), utc=True, unit='us')\n",
    "        aa = aa.set_index('timestamp')"
   ]
  },
  {
   "cell_type": "code",
   "execution_count": 39,
   "id": "0e2a5f47",
   "metadata": {},
   "outputs": [
    {
     "data": {
      "text/html": [
       "<div>\n",
       "<style scoped>\n",
       "    .dataframe tbody tr th:only-of-type {\n",
       "        vertical-align: middle;\n",
       "    }\n",
       "\n",
       "    .dataframe tbody tr th {\n",
       "        vertical-align: top;\n",
       "    }\n",
       "\n",
       "    .dataframe thead th {\n",
       "        text-align: right;\n",
       "    }\n",
       "</style>\n",
       "<table border=\"1\" class=\"dataframe\">\n",
       "  <thead>\n",
       "    <tr style=\"text-align: right;\">\n",
       "      <th></th>\n",
       "      <th>v</th>\n",
       "    </tr>\n",
       "    <tr>\n",
       "      <th>timestamp</th>\n",
       "      <th></th>\n",
       "    </tr>\n",
       "  </thead>\n",
       "  <tbody>\n",
       "    <tr>\n",
       "      <th>1970-01-01 00:00:00.000004+00:00</th>\n",
       "      <td>3</td>\n",
       "    </tr>\n",
       "    <tr>\n",
       "      <th>1970-01-01 00:00:00.000005+00:00</th>\n",
       "      <td>4</td>\n",
       "    </tr>\n",
       "  </tbody>\n",
       "</table>\n",
       "</div>"
      ],
      "text/plain": [
       "                                  v\n",
       "timestamp                          \n",
       "1970-01-01 00:00:00.000004+00:00  3\n",
       "1970-01-01 00:00:00.000005+00:00  4"
      ]
     },
     "execution_count": 39,
     "metadata": {},
     "output_type": "execute_result"
    }
   ],
   "source": [
    "aa"
   ]
  },
  {
   "cell_type": "code",
   "execution_count": null,
   "id": "655cd706",
   "metadata": {},
   "outputs": [],
   "source": []
  }
 ],
 "metadata": {
  "kernelspec": {
   "display_name": "Python 3 (ipykernel)",
   "language": "python",
   "name": "python3"
  },
  "language_info": {
   "codemirror_mode": {
    "name": "ipython",
    "version": 3
   },
   "file_extension": ".py",
   "mimetype": "text/x-python",
   "name": "python",
   "nbconvert_exporter": "python",
   "pygments_lexer": "ipython3",
   "version": "3.10.6"
  },
  "vscode": {
   "interpreter": {
    "hash": "561348bbb4e85c6f6e71fe5b82b416ad34192af0efebb264d0a2937e8ad0f6d5"
   }
  }
 },
 "nbformat": 4,
 "nbformat_minor": 5
}
