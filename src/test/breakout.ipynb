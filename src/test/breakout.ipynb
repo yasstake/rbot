{
 "cells": [
  {
   "cell_type": "code",
   "execution_count": null,
   "id": "189953f5-3166-4869-a689-c142f8e37a10",
   "metadata": {},
   "outputs": [],
   "source": [
    "import pandas as pd"
   ]
  },
  {
   "cell_type": "code",
   "execution_count": null,
   "id": "e21001b0",
   "metadata": {},
   "outputs": [],
   "source": []
  },
  {
   "cell_type": "code",
   "execution_count": null,
   "id": "32f9243f-973a-4b62-8e64-3ec35179960a",
   "metadata": {},
   "outputs": [],
   "source": [
    "import rbot\n",
    "from rbot import BaseAgent\n",
    "from rbot import BinanceMarket\n",
    "from rbot import BackTester\n",
    "from rbot import time_string"
   ]
  },
  {
   "cell_type": "code",
   "execution_count": null,
   "id": "8a1f1723",
   "metadata": {},
   "outputs": [],
   "source": [
    "class Agent(BaseAgent):\n",
    "    def __init__(self, param_K=1.6):\n",
    "            self.K = param_K                           # パラメターKを設定する。\n",
    "\n",
    "    def clock_interval(self):\n",
    "        #//return 60*60*2\n",
    "        interval = 60*60*2\n",
    "        return interval\n",
    "    \n",
    "    #def on_tick(self, time_us, session, price, side, size):\n",
    "    #    print(time_us, price, side, size)\n",
    "\n",
    "    def on_clock(self, time_us, session):\n",
    "        ohlcv_df = session.ohlcv(60*60*2, 6)       # ６本の足を取得。 最新は６番目。\n",
    "\n",
    "        if len(ohlcv_df.index) < 6:                 # データが過去６本分そろっていない場合はなにもせずリターン\n",
    "            return \n",
    "\n",
    "        ohlcv_df[\"range\"] = ohlcv_df[\"high\"] - ohlcv_df[\"low\"]      # レンジを計算\n",
    "\n",
    "        ohlcv_latest = ohlcv_df[-2:-1]     # 最新足１本\n",
    "        ohlcv_last_5 = ohlcv_df[:-2]       # 過去５本足\n",
    "\n",
    "        range_width = ohlcv_last_5[\"range\"].mean()      #　過去５本足のレンジの平均値\n",
    "\n",
    "        # Long/Short判定\n",
    "        detect_short = range_width * self.K < ohlcv_latest[\"high\"][0] - ohlcv_latest[\"open\"][0]\n",
    "        detect_long  = range_width * self.K < ohlcv_latest[\"open\"][0] - ohlcv_latest[\"low\"][0]\n",
    "\n",
    "        #　執行方法（順報告のポジションがあったら保留。逆方向のポジションがのこっていたらドテン）\n",
    "        if detect_long:\n",
    "            #    print(\"position\", session.long_pos_size, session.short_pos_size)            \n",
    "            #        print(\"make long\")\n",
    "            if not session.long_position_size:\n",
    "            #    print(\"makeorder\")                                    \n",
    "                if not session.short_position_size:\n",
    "\n",
    "                    session.make_order(\"Buy\", session.buy_board_edge_price, 0.01, 600, \"Open Long\")    \n",
    "                else:\n",
    "\n",
    "                    session.make_order(\"Buy\", session.buy_board_edge_price, 0.02, 600, \"doten Long\")    \n",
    "            else:\n",
    "                pass\n",
    "\n",
    "        if detect_short:\n",
    "            #print(\"make short\")            \n",
    "            if not session.short_position_size:\n",
    "                #print(\"makeorder\")                                                      \n",
    "                if not session.long_position_size:\n",
    "                    session.make_order(\"Sell\", session.sell_board_edge_price, 0.01, 600, \"Open Short\") \n",
    "                else:\n",
    "                    session.make_order(\"Sell\", session.sell_board_edge_price, 0.02, 600, \"Doten Short\") \n",
    "            else:\n",
    "                pass\n",
    "\n",
    "    def on_update(self, time, session, result):\n",
    "        #print(result)\n",
    "        pass\n"
   ]
  },
  {
   "cell_type": "code",
   "execution_count": null,
   "id": "540b1ee0",
   "metadata": {},
   "outputs": [],
   "source": [
    "bn = BinanceMarket(\"BTCBUSD\")\n",
    "bn.download(10)\n",
    "\n",
    "rbot.init_debug_log()\n",
    "\n",
    "back_tester = BackTester(\"BN\", \"BTCBUSD\", False)\n",
    "\n",
    "print(\"start\")\n",
    "r = back_tester.run(Agent())\n",
    "print(\"end\")\n",
    "\n",
    "print(r)\n",
    "\n"
   ]
  },
  {
   "cell_type": "code",
   "execution_count": null,
   "id": "1e9938c8",
   "metadata": {},
   "outputs": [],
   "source": [
    "import rbot\n",
    "df = rbot.result_to_df(r)"
   ]
  },
  {
   "cell_type": "code",
   "execution_count": null,
   "id": "0fc767c9",
   "metadata": {},
   "outputs": [],
   "source": [
    "df"
   ]
  },
  {
   "cell_type": "code",
   "execution_count": null,
   "id": "ed87dbce",
   "metadata": {},
   "outputs": [],
   "source": [
    "df['total_profit'].sum()"
   ]
  },
  {
   "cell_type": "code",
   "execution_count": null,
   "id": "955cd3b2",
   "metadata": {},
   "outputs": [],
   "source": []
  },
  {
   "cell_type": "code",
   "execution_count": null,
   "id": "0430aae8",
   "metadata": {},
   "outputs": [],
   "source": [
    "def result_to_df(result_list):\n",
    "    update_time = []\n",
    "    order_id = []\n",
    "    order_sub_id = []\n",
    "    order_side = []\n",
    "    post_only = []\n",
    "    create_time = []\n",
    "    status = []\n",
    "    open_price = []\n",
    "    open_home_size = []\n",
    "    open_foreign_size = []\n",
    "    close_price = []\n",
    "    close_home_size = []\n",
    "    close_foreign_size = []\n",
    "    order_price = []\n",
    "    order_home_size = []\n",
    "    order_foreign_size = []\n",
    "    profit = []\n",
    "    fee = []\n",
    "    total_profit = []\n",
    "    message = []\n",
    "\n",
    "    for item in result_list:\n",
    "        update_time.append(item.update_time)\n",
    "        order_id.append(item.order_id)\n",
    "        order_sub_id.append(item.order_sub_id)\n",
    "        order_side.append(item.order_side)\n",
    "        post_only.append(item.post_only)\n",
    "        create_time.append(item.create_time)\n",
    "        status.append(item.status)\n",
    "        open_price.append(item.open_price)\n",
    "        open_home_size.append(item.open_home_size)\n",
    "        open_foreign_size.append(item.open_foreign_size)\n",
    "        close_price.append(item.close_price)\n",
    "        close_home_size.append(item.close_home_size)\n",
    "        close_foreign_size.append(item.close_foreign_size)\n",
    "        order_price.append(item.order_price)\n",
    "        order_home_size.append(item.order_home_size)\n",
    "        order_foreign_size.append(item.order_foreign_size)\n",
    "        profit.append(item.profit)\n",
    "        fee.append(item.fee)\n",
    "        total_profit.append(item.total_profit)\n",
    "        message.append(item.message)\n",
    "\n",
    "    df = pd.DataFrame(\n",
    "    data={\"update_time\": update_time, \"order_id\": order_id, \"sub_id\": order_sub_id,\n",
    "          \"order_side\": order_side, \"post_only\": post_only, \"create_time\": create_time,\n",
    "          \"status\":  status, \n",
    "          \"open_price\": open_price, \"open_home_size\": open_home_size, \"open_foreign_size\": open_foreign_size, \n",
    "          \"close_price\": close_price, \"close_home_size\": close_home_size, \"close_foreign_size\": close_foreign_size,\n",
    "          \"order_price\": order_price, \"order_home_size\": order_home_size, \"order_foreign_size\": order_foreign_size,\n",
    "          \"profit\": profit, \"fee\": fee,\n",
    "          \"total_profit\": total_profit, \"message\": message},\n",
    "    columns=[\"update_time\", \"order_id\", \"sub_id\", \"order_side\", \"post_only\",\n",
    "             \"create_time\", \"status\", \"open_price\", \"open_home_size\", \"open_foreign_size\", \n",
    "             \"close_price\", \"close_home_size\", \"close_foreign_size\",             \n",
    "             \"order_price\", \"order_home_size\", \"order_foreign_size\",\n",
    "             \"profit\", \"fee\", \"total_profit\", \"message\"])\n",
    "    df[\"update_time\"] = pd.to_datetime((df[\"update_time\"]), utc=True, unit=\"us\")\n",
    "    df[\"create_time\"] = pd.to_datetime((df[\"create_time\"]), utc=True, unit=\"us\")\n",
    "    df[\"sum_profit\"] = df[\"total_profit\"].cumsum()\n",
    "    # df[\"sum_pos\"] = df[\"pos_change\"].cumsum()\n",
    "    df = df.set_index(\"create_time\", drop=True)\n",
    "    \n",
    "    return df"
   ]
  },
  {
   "cell_type": "code",
   "execution_count": null,
   "id": "07d6be45",
   "metadata": {},
   "outputs": [],
   "source": []
  },
  {
   "cell_type": "code",
   "execution_count": null,
   "id": "6a6629d0",
   "metadata": {},
   "outputs": [],
   "source": [
    "df = result_to_df(r)\n",
    "df"
   ]
  },
  {
   "cell_type": "code",
   "execution_count": null,
   "id": "e5374aae",
   "metadata": {},
   "outputs": [],
   "source": [
    "bn = BinanceMarket(\"BTCBUSD\")\n",
    "#bn.download(15)\n"
   ]
  },
  {
   "cell_type": "code",
   "execution_count": null,
   "id": "983ae4cc",
   "metadata": {},
   "outputs": [],
   "source": [
    "bn"
   ]
  },
  {
   "cell_type": "code",
   "execution_count": null,
   "id": "4efd50c6",
   "metadata": {},
   "outputs": [],
   "source": [
    "rbot.init_debug_log()\n",
    "bn.download(10)"
   ]
  },
  {
   "cell_type": "code",
   "execution_count": null,
   "id": "9ad85974",
   "metadata": {},
   "outputs": [],
   "source": [
    "bn.info()"
   ]
  },
  {
   "cell_type": "code",
   "execution_count": null,
   "id": "455a1014",
   "metadata": {},
   "outputs": [],
   "source": [
    "rbot.init_debug_log()\n",
    "#print(bn.ohlcvv(1669593599839000 - 60*60*50*1000_000, 1669593599839000, 600))\n",
    "#print(bn.ohlcvv(1669593599839000 - 60*60*50*1000_000, 1669593599839000, 601))\n",
    "bn.ohlcvv(0, 1669593599839000, 601)"
   ]
  },
  {
   "cell_type": "code",
   "execution_count": null,
   "id": "41248e2d",
   "metadata": {},
   "outputs": [],
   "source": [
    "bn.ohlcv(0, 0, 600)"
   ]
  },
  {
   "cell_type": "code",
   "execution_count": null,
   "id": "60aba8b2",
   "metadata": {},
   "outputs": [],
   "source": [
    "def result_to_df(result_list):\n",
    "    update_time = []\n",
    "    order_id = []\n",
    "    order_sub_id = []\n",
    "    order_side = []\n",
    "    post_only = []\n",
    "    create_time = []\n",
    "    status = []\n",
    "    open_price = []\n",
    "    open_home_size = []\n",
    "    open_foreign_size = []\n",
    "    close_price = []\n",
    "    close_home_size = []\n",
    "    close_foreign_size = []\n",
    "    order_price = []\n",
    "    order_home_size = []\n",
    "    order_foreign_size = []\n",
    "    profit = []\n",
    "    fee = []\n",
    "    total_profit = []\n",
    "    message = []\n",
    "\n",
    "    for item in result_list:\n",
    "        update_time.append(item.update_time)\n",
    "        order_id.append(item.order_id)\n",
    "        order_sub_id.append(item.order_sub_id)\n",
    "        order_side.append(item.order_side)\n",
    "        post_only.append(item.post_only)\n",
    "        create_time.append(item.create_time)\n",
    "        status.append(item.status)\n",
    "        open_price.append(item.open_price)\n",
    "        open_home_size.append(item.open_home_size)\n",
    "        open_foreign_size.append(item.open_foreign_size)\n",
    "        close_price.append(item.close_price)\n",
    "        close_home_size.append(item.close_home_size)\n",
    "        close_foreign_size.append(item.close_foreign_size)\n",
    "        order_price.append(item.order_price)\n",
    "        order_home_size.append(item.home_size)\n",
    "        order_foreign_size.append(item.order_foreign_size)\n",
    "        profit.append(item.profit)\n",
    "        fee.append(item.fee)\n",
    "        total_profit.append(item.total_profit)\n",
    "        message.append(item.message)\n",
    "\n",
    "    df = pd.DataFrame(\n",
    "    data={\"update_time\": update_time, \"order_id\": order_id, \"sub_id\": order_sub_id,\n",
    "          \"order_side\": order_side, \"post_only\": post_only, \"create_time\": create_time,\n",
    "          \"status\":  status, \"open_price\": open_price, \"open_home_size\": open_home_size, \n",
    "          \"open_foreign_size\": open_foreign_size, \"close_price\": close_price,\n",
    "          \"price\": price, \"size\": size, \"volume\": volume, \"profit\": profit, \"fee\": fee,\n",
    "          \"total_profit\": total_profit, \"pos_change\": position_change, \"message\": message},\n",
    "    columns=[\"update_time\", \"order_id\", \"sub_id\", \"order_type\", \"post_only\",\n",
    "             \"create_time\", \"status\", \"open_price\", \"close_price\", \"price\", \"size\", \"volume\",\n",
    "             \"profit\", \"fee\", \"total_profit\", \"pos_change\", \"message\"])\n",
    "    df[\"update_time\"] = pd.to_datetime((df[\"update_time\"]), utc=True, unit=\"ms\")\n",
    "    df[\"create_time\"] = pd.to_datetime((df[\"create_time\"]), utc=True, unit=\"ms\")\n",
    "    df[\"sum_profit\"] = df[\"total_profit\"].cumsum()\n",
    "    df[\"sum_pos\"] = df[\"pos_change\"].cumsum()\n",
    "    df = df.set_index(\"create_time\", drop=True)"
   ]
  },
  {
   "cell_type": "code",
   "execution_count": null,
   "id": "597c5438",
   "metadata": {},
   "outputs": [],
   "source": [
    "result_to_df(r)"
   ]
  },
  {
   "cell_type": "code",
   "execution_count": null,
   "id": "ddd92292",
   "metadata": {},
   "outputs": [],
   "source": [
    "r[0].update_time"
   ]
  },
  {
   "cell_type": "code",
   "execution_count": null,
   "id": "c7dcb390",
   "metadata": {},
   "outputs": [],
   "source": []
  }
 ],
 "metadata": {
  "kernelspec": {
   "display_name": "Python 3.10.6 ('venv': venv)",
   "language": "python",
   "name": "python3"
  },
  "language_info": {
   "codemirror_mode": {
    "name": "ipython",
    "version": 3
   },
   "file_extension": ".py",
   "mimetype": "text/x-python",
   "name": "python",
   "nbconvert_exporter": "python",
   "pygments_lexer": "ipython3",
   "version": "3.10.6"
  },
  "vscode": {
   "interpreter": {
    "hash": "561348bbb4e85c6f6e71fe5b82b416ad34192af0efebb264d0a2937e8ad0f6d5"
   }
  }
 },
 "nbformat": 4,
 "nbformat_minor": 5
}
