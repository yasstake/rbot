{
 "cells": [
  {
   "cell_type": "code",
   "execution_count": null,
   "metadata": {},
   "outputs": [],
   "source": [
    "\n",
    "from rbot import Session\n",
    "from rbot import Runner\n",
    "from rbot import BinanceConfig\n",
    "from rbot import BinanceMarket\n",
    "from rbot import init_debug_log\n",
    "from rbot import init_log\n",
    "from rbot import OrderSide\n",
    "from rbot import time_string\n",
    "from rbot import OrderStatus\n",
    "from rbot import SEC\n"
   ]
  },
  {
   "cell_type": "code",
   "execution_count": null,
   "metadata": {},
   "outputs": [],
   "source": [
    "MARGIN = 0.05\n",
    "\n",
    "class MyAgent:\n",
    "    def __init__(self):\n",
    "        self.last_update = 0\n",
    "        self.order_size = 0.001\n",
    "\n",
    "    def on_clock(self, session, clock):\n",
    "        if 0 < len(session.buy_orders):\n",
    "            if session.current_time + SEC(60) < session.buy_orders[0].create_time:\n",
    "                session.cancel_order(session.buy_orders[0].order_id)\n",
    "                print(\"cancel buy order\")\n",
    "        \n",
    "        if 0 < len(session.sell_orders):\n",
    "            if session.current_time + SEC(60) < session.sell_orders[0].create_time:\n",
    "                session.cancel_order(session.sell_orders[0].order_id)\n",
    "                print(\"cancel sell order\")\n",
    "\n",
    "    def on_tick(self, session, side, price, size):\n",
    "        if session.buy_order_amount == 0 and ((- self.order_size * session.buy_edge) < session.home_change):\n",
    "            session.limit_order(OrderSide.Buy, session.buy_edge - MARGIN, self.order_size)\n",
    "            #print(\"try make buy order\", session.home_change, session.foreign_change)\n",
    "            \n",
    "        if session.sell_order_amount == 0 and ((- self.order_size) < session.foreign_change):\n",
    "            session.limit_order(OrderSide.Sell, session.sell_edge + MARGIN, self.order_size)\n",
    "            #print(\"try make sell order\", session.home_change, session.foreign_change)\n",
    "    \n",
    "#    def on_update(self, session, updated_order):\n",
    "#        print(\"on_update\", updated_order)\n",
    "        \n",
    "    def on_account_update(self, session, account):\n",
    "        print(\"account update: \", session.current_time, account)\n",
    "\n",
    "    \n",
    "\n",
    "\n"
   ]
  },
  {
   "cell_type": "code",
   "execution_count": null,
   "metadata": {},
   "outputs": [],
   "source": [
    "market = BinanceMarket(BinanceConfig.BTCUSDT)\n",
    "\n",
    "agent = MyAgent()\n",
    "runner = Runner()\n",
    "\n",
    "session = runner.back_test(market, agent, 60, 0, 0)\n",
    "\n",
    "session"
   ]
  },
  {
   "cell_type": "code",
   "execution_count": null,
   "metadata": {},
   "outputs": [],
   "source": [
    "session.log_df[session.log_df[\"status\"] == \"Canceled\"]"
   ]
  },
  {
   "cell_type": "code",
   "execution_count": null,
   "metadata": {},
   "outputs": [],
   "source": [
    "df = session.log_df.to_pandas(use_pyarrow_extension_array=True)\n",
    "df\n"
   ]
  },
  {
   "cell_type": "code",
   "execution_count": null,
   "metadata": {},
   "outputs": [],
   "source": [
    "df.to_csv(\"backtest.csv\")"
   ]
  },
  {
   "cell_type": "code",
   "execution_count": null,
   "metadata": {},
   "outputs": [],
   "source": [
    "df['status'].value_counts()"
   ]
  },
  {
   "cell_type": "code",
   "execution_count": null,
   "metadata": {},
   "outputs": [],
   "source": [
    "df['foreign_change'].cumsum()"
   ]
  },
  {
   "cell_type": "code",
   "execution_count": null,
   "metadata": {},
   "outputs": [],
   "source": [
    "session.log_df.sum()"
   ]
  },
  {
   "cell_type": "code",
   "execution_count": null,
   "metadata": {},
   "outputs": [],
   "source": [
    "session.home_change + session.foreign_change * session.buy_edge"
   ]
  },
  {
   "cell_type": "code",
   "execution_count": null,
   "metadata": {},
   "outputs": [],
   "source": [
    "len(session.log_df)"
   ]
  },
  {
   "cell_type": "code",
   "execution_count": null,
   "metadata": {},
   "outputs": [],
   "source": []
  },
  {
   "cell_type": "code",
   "execution_count": null,
   "metadata": {},
   "outputs": [],
   "source": []
  }
 ],
 "metadata": {
  "kernelspec": {
   "display_name": "Python 3",
   "language": "python",
   "name": "python3"
  },
  "language_info": {
   "codemirror_mode": {
    "name": "ipython",
    "version": 3
   },
   "file_extension": ".py",
   "mimetype": "text/x-python",
   "name": "python",
   "nbconvert_exporter": "python",
   "pygments_lexer": "ipython3",
   "version": "3.11.6"
  }
 },
 "nbformat": 4,
 "nbformat_minor": 2
}
