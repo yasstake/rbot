{
 "cells": [
  {
   "cell_type": "code",
   "execution_count": null,
   "metadata": {},
   "outputs": [],
   "source": [
    "import rbot\n",
    "\n",
    "from rbot import Session\n",
    "from rbot import Runner\n",
    "from rbot import Binance\n",
    "from rbot import BinanceConfig\n",
    "from rbot import init_debug_log\n",
    "from rbot import init_log\n",
    "from rbot import OrderSide\n",
    "from rbot import time_string\n",
    "from rbot import OrderStatus\n",
    "from rbot import SEC\n"
   ]
  },
  {
   "cell_type": "code",
   "execution_count": null,
   "metadata": {},
   "outputs": [],
   "source": [
    "MARGIN = 0.05\n",
    "\n",
    "class MyAgent:\n",
    "    def __init__(self):\n",
    "        self.last_update = 0\n",
    "        self.order_size = 0.001\n",
    "    \n",
    "    def on_init(self, session):\n",
    "        session.clock_interval_sec = 10\n",
    "\n",
    "    def on_clock(self, session, clock):\n",
    "        ohlcv = session.ohlcv(60, 5)\n",
    "        pass\n",
    "\n",
    "\n",
    "    def on_tick(self, session, side, price, size):\n",
    "        pass\n",
    "    \n",
    "    def on_update(self, session, updated_order):\n",
    "        print(\"on_update\", updated_order)\n",
    "    \n",
    "#    def on_update(self, session, updated_order):\n",
    "#        print(\"on_update\", updated_order)\n",
    "    def on_account_update(self, session, account):\n",
    "        print(\"account update: \", session.current_time, account)\n",
    "\n",
    "    \n",
    "\n",
    "\n"
   ]
  },
  {
   "cell_type": "code",
   "execution_count": null,
   "metadata": {},
   "outputs": [],
   "source": [
    "binance = Binance(True)\n",
    "\n",
    "market = binance.open_market(BinanceConfig.BTCUSDT)\n",
    "\n",
    "market\n",
    "\n",
    "\n"
   ]
  },
  {
   "cell_type": "code",
   "execution_count": null,
   "metadata": {},
   "outputs": [],
   "source": [
    "print(binance.production)\n",
    "print(rbot.__version__)\n",
    "print(rbot.get_db_root())\n",
    "print(rbot.set_db_root(\"/tmp/rbot\"))\n",
    "print(rbot.get_db_root())"
   ]
  },
  {
   "cell_type": "code",
   "execution_count": null,
   "metadata": {},
   "outputs": [],
   "source": [
    "\n",
    "agent = MyAgent()\n",
    "runner = Runner()\n",
    "\n",
    "session = runner.back_test(exchange=binance, market=market, agent=agent, start_time=0, end_time=0, verbose=True)\n",
    "\n",
    "session"
   ]
  },
  {
   "cell_type": "code",
   "execution_count": null,
   "metadata": {},
   "outputs": [],
   "source": [
    "session.log_df[session.log_df[\"status\"] == \"Canceled\"]"
   ]
  },
  {
   "cell_type": "code",
   "execution_count": null,
   "metadata": {},
   "outputs": [],
   "source": [
    "market.ohlcv(0, 0, 600)"
   ]
  },
  {
   "cell_type": "code",
   "execution_count": null,
   "metadata": {},
   "outputs": [],
   "source": [
    "df = session.log_df.to_pandas(use_pyarrow_extension_array=True)\n",
    "df\n"
   ]
  },
  {
   "cell_type": "code",
   "execution_count": null,
   "metadata": {},
   "outputs": [],
   "source": [
    "df.to_csv(\"backtest.csv\")"
   ]
  },
  {
   "cell_type": "code",
   "execution_count": null,
   "metadata": {},
   "outputs": [],
   "source": [
    "df['status'].value_counts()"
   ]
  },
  {
   "cell_type": "code",
   "execution_count": null,
   "metadata": {},
   "outputs": [],
   "source": [
    "df['foreign_change'].cumsum()"
   ]
  },
  {
   "cell_type": "code",
   "execution_count": null,
   "metadata": {},
   "outputs": [],
   "source": [
    "session.log_df.sum()"
   ]
  },
  {
   "cell_type": "code",
   "execution_count": null,
   "metadata": {},
   "outputs": [],
   "source": [
    "session.home_change + session.foreign_change * session.buy_edge"
   ]
  },
  {
   "cell_type": "code",
   "execution_count": null,
   "metadata": {},
   "outputs": [],
   "source": [
    "len(session.log_df)"
   ]
  },
  {
   "cell_type": "code",
   "execution_count": null,
   "metadata": {},
   "outputs": [],
   "source": []
  },
  {
   "cell_type": "code",
   "execution_count": null,
   "metadata": {},
   "outputs": [],
   "source": []
  }
 ],
 "metadata": {
  "kernelspec": {
   "display_name": "Python 3",
   "language": "python",
   "name": "python3"
  },
  "language_info": {
   "codemirror_mode": {
    "name": "ipython",
    "version": 3
   },
   "file_extension": ".py",
   "mimetype": "text/x-python",
   "name": "python",
   "nbconvert_exporter": "python",
   "pygments_lexer": "ipython3",
   "version": "3.11.6"
  }
 },
 "nbformat": 4,
 "nbformat_minor": 2
}
