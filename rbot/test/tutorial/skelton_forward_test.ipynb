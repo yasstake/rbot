{
 "cells": [
  {
   "cell_type": "markdown",
   "metadata": {},
   "source": [
    "# RustyBot(rbot)のフレームワークスケルトン(ForwardTest)\n",
    "\n",
    "フレームワークで動かすためのBotの構造サンプルを提供します。\n",
    "\n",
    "BackTestと比べてリアル時間なので、on_tickを１０秒毎に、on_tickを100イベント毎に出力します。\n",
    "\n",
    "`on_init`, `on_tick`, `on_clock`, `on_update`を必要に応じて実装します。\n",
    "\n",
    "参考：\n",
    "* [back test](./skelton_back_test.ipynb)\n",
    "* [real run](./skelton_real_run_testnet.ipynb)"
   ]
  },
  {
   "cell_type": "code",
   "execution_count": null,
   "metadata": {},
   "outputs": [],
   "source": [
    "from rbot import time_string        # μsの時間を文字列に変換するユーティリティ関数です。\n",
    "\n",
    "class SkeltonAgent:      # クラス名は任意です\n",
    "    def __init__(self):\n",
    "        \"\"\"Botの初期化処理です。パラメータなどを設定するといいでしょう。利用しなくても構いません。\n",
    "        \"\"\"\n",
    "        self.tick_count = 0         # on_tickが呼び出された回数をカウントします。\n",
    "    \n",
    "    def on_init(self, session):\n",
    "        \"\"\"Botの初期化処理。Botの初期化時に一度だけ呼ばれます。\n",
    "        通常はsession.clock_interval_secを指定しon_clockの呼び出し間隔を設定します。\n",
    "        Args:\n",
    "            session: セッション情報（Botの初期化時用に渡されます）\n",
    "        \"\"\"\n",
    "        session.clock_interval_sec = 10        # 10秒ごとにon_clockを呼び出します。\n",
    "\n",
    "    \n",
    "    def on_tick(self, session, side, price, size):\n",
    "        \"\"\"取引所からの全ての約定イベント毎に呼び出される処理です（高頻度で呼び出されます）\n",
    "        Args:\n",
    "            session: セッション情報（市況情報の取得や注文するために利用します)\n",
    "            side: 売買区分です。\"Buy\"または\"Sell\"が設定されます。\n",
    "            price: 約定価格です。\n",
    "            size: 約定数量です。\n",
    "        \"\"\"\n",
    "        \n",
    "        # on_tickは高頻度によびだされるので、100回に1回だけ内容をプリントします。\n",
    "        if self.tick_count % 100 == 0:\n",
    "            print(\"on_tick: \", side, price, size)\n",
    "\n",
    "        self.tick_count += 1\n",
    "    \n",
    "    def on_clock(self, session, clock):\n",
    "        \"\"\"定期的にフレームワークから呼び出される処理です。\n",
    "        session.clock_interval_secで指定した間隔で呼び出されます。\n",
    "\n",
    "        Args:\n",
    "            session: セッション情報（市況情報の取得や注文するために利用します)        \n",
    "            clock: 現在時刻です。エポック時間からのマイクロ秒で表されます。\n",
    "        \"\"\"\n",
    "        # 現在の時刻をプリントします。\n",
    "        print(\"on_clock: \", clock, \": \", time_string(clock))\n",
    "    \n",
    "    def on_update(self, session, updated_order):\n",
    "        \"\"\"自分の注文状態が変化した場合に呼び出される処理です。\n",
    "        Args:\n",
    "            session: セッション情報（市況情報の取得や注文するために利用します)                \n",
    "            session: セッション情報（市況情報の取得や注文するために利用します)        \n",
    "            updated_order: 注文状態が変化した注文情報です。\n",
    "        \"\"\"\n",
    "        # 注文状態が変化した注文情報をプリントします。オーダーを発行しない限り呼び出されません。\n",
    "        print(\"on_update\", updated_order)    \n",
    "\n",
    "    "
   ]
  },
  {
   "cell_type": "markdown",
   "metadata": {},
   "source": [
    "## バックテストの準備"
   ]
  },
  {
   "cell_type": "code",
   "execution_count": null,
   "metadata": {},
   "outputs": [],
   "source": [
    "# rbotをインストールします。\n",
    "! pip install --upgrade pip\n",
    "! pip install rbot"
   ]
  },
  {
   "cell_type": "code",
   "execution_count": null,
   "metadata": {},
   "outputs": [],
   "source": [
    "# Binanceマーケットを指定します。\n",
    "\n",
    "from rbot import BinanceMarket\n",
    "from rbot import BinanceConfig\n",
    "\n",
    "market = BinanceMarket(BinanceConfig.BTCUSDT)"
   ]
  },
  {
   "cell_type": "code",
   "execution_count": null,
   "metadata": {},
   "outputs": [],
   "source": [
    "# 過去ログを１日分ダウンロードします。\n",
    "\n",
    "market.download(ndays=1, verbose=True)\n",
    "\n",
    "# 更新系のオペレーションは１つのプロセスしかできません。他にプロセスがある場合はデッドロックする場合があります。\n",
    "# また大量のファイルをダウンロードするため、ディスク容量に注意してください。\n"
   ]
  },
  {
   "cell_type": "code",
   "execution_count": null,
   "metadata": {},
   "outputs": [],
   "source": [
    "# DBの場所は以下の場所にあります。古いバージョンのrbotと非互換が発生した場合などDBファイルを一旦削除してください。\n",
    "market.file_name"
   ]
  },
  {
   "cell_type": "code",
   "execution_count": null,
   "metadata": {},
   "outputs": [],
   "source": [
    "from rbot import Runner\n",
    "from rbot import NOW, DAYS\n",
    "\n",
    "agent = SkeltonAgent()\n",
    "runner = Runner()\n",
    "\n",
    "session = runner.dry_run(\n",
    "                market=market,\n",
    "                agent=agent, \n",
    "                execute_time = 180,\n",
    "                verbose=True\n",
    "            )\n",
    "\n",
    "session"
   ]
  },
  {
   "cell_type": "code",
   "execution_count": null,
   "metadata": {},
   "outputs": [],
   "source": [
    "log = session.log"
   ]
  },
  {
   "cell_type": "code",
   "execution_count": null,
   "metadata": {},
   "outputs": [],
   "source": [
    "log.orders"
   ]
  },
  {
   "cell_type": "code",
   "execution_count": null,
   "metadata": {},
   "outputs": [],
   "source": [
    "log['indicators']"
   ]
  },
  {
   "cell_type": "code",
   "execution_count": null,
   "metadata": {},
   "outputs": [],
   "source": []
  }
 ],
 "metadata": {
  "kernelspec": {
   "display_name": ".venv",
   "language": "python",
   "name": "python3"
  },
  "language_info": {
   "codemirror_mode": {
    "name": "ipython",
    "version": 3
   },
   "file_extension": ".py",
   "mimetype": "text/x-python",
   "name": "python",
   "nbconvert_exporter": "python",
   "pygments_lexer": "ipython3",
   "version": "3.9.6"
  }
 },
 "nbformat": 4,
 "nbformat_minor": 2
}
