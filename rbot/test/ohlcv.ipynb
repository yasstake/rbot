{
 "cells": [
  {
   "cell_type": "code",
   "execution_count": null,
   "metadata": {},
   "outputs": [],
   "source": [
    "import rbot\n",
    "\n",
    "from rbot import init_log\n",
    "from rbot import init_debug_log\n",
    "from rbot import Market\n",
    "from rbot import DAYS_BEFORE\n",
    "from rbot import ByBitMarket\n",
    "\n",
    "#m  = ByBitMarket('BTCUSD', True)\n",
    "\n",
    "init_debug_log()\n",
    "\n",
    "bb = Market.open('BB', 'BTCUSDT')\n",
    "bb.download(5, True)\n",
    "\n",
    "\n"
   ]
  },
  {
   "cell_type": "code",
   "execution_count": null,
   "metadata": {},
   "outputs": [],
   "source": [
    "bb.ohlcv(60, 100)\n"
   ]
  },
  {
   "cell_type": "code",
   "execution_count": null,
   "metadata": {},
   "outputs": [],
   "source": [
    "def rust_ohlcv():\n",
    "    #ohlcv2 = binance.ohlcv(int(start_time.value/1000), int(end_time.value/1000), 60) \n",
    "    ohlcv2 = bb.ohlcv(0, 0, 60)     \n",
    "\n",
    "%timeit rust_ohlcv()"
   ]
  },
  {
   "cell_type": "code",
   "execution_count": null,
   "metadata": {},
   "outputs": [],
   "source": [
    "def rust_ohlcva():\n",
    "    #ohlcv2 = binance.ohlcv(int(start_time.value/1000), int(end_time.value/1000), 60) \n",
    "    ohlcv2 = binance.ohlcv_a(0, 0, 60)     \n",
    "\n",
    "%timeit rust_ohlcva()"
   ]
  },
  {
   "cell_type": "code",
   "execution_count": null,
   "metadata": {},
   "outputs": [],
   "source": [
    "bb.ohlcv(0, 0, 60000)"
   ]
  },
  {
   "cell_type": "code",
   "execution_count": null,
   "metadata": {},
   "outputs": [],
   "source": []
  }
 ],
 "metadata": {
  "kernelspec": {
   "display_name": "Python 3",
   "language": "python",
   "name": "python3"
  },
  "language_info": {
   "codemirror_mode": {
    "name": "ipython",
    "version": 3
   },
   "file_extension": ".py",
   "mimetype": "text/x-python",
   "name": "python",
   "nbconvert_exporter": "python",
   "pygments_lexer": "ipython3",
   "version": "3.11.4"
  }
 },
 "nbformat": 4,
 "nbformat_minor": 2
}
