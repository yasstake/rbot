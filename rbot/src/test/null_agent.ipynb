{
 "cells": [
  {
   "cell_type": "code",
   "execution_count": null,
   "metadata": {},
   "outputs": [],
   "source": [
    "from rbot import Session\n",
    "from rbot import Runner\n",
    "from rbot import BinanceConfig\n",
    "from rbot import BinanceMarket\n",
    "\n",
    "from json2html import *\n",
    "from IPython.display import HTML, display\n",
    "\n",
    "\n"
   ]
  },
  {
   "cell_type": "code",
   "execution_count": null,
   "metadata": {},
   "outputs": [],
   "source": [
    "class MyAgent:\n",
    "    def __init__(self):\n",
    "        pass\n",
    "    \n",
    "    def on_tick(self, session, side, price, size):\n",
    "        #print(\"tick: \", session.current_timestamp, side, price, size)\n",
    "        pass\n",
    "\n",
    "    def on_clock(self, session, current_time_us):\n",
    "        print(\"clock: \", current_time)\n",
    "        #session.market_order(\"Buy\", 0.001)\n",
    "        pass\n",
    "    \n",
    "    def on_update(self, session, updated_order):\n",
    "        pass\n",
    "    "
   ]
  },
  {
   "cell_type": "code",
   "execution_count": null,
   "metadata": {},
   "outputs": [],
   "source": [
    "config = BinanceConfig.TEST_BTCUSDT\n",
    "market = BinanceMarket(config)\n",
    "HTML(json2html.convert(json = config.__str__()))"
   ]
  },
  {
   "cell_type": "code",
   "execution_count": null,
   "metadata": {},
   "outputs": [],
   "source": [
    "agent = MyAgent()"
   ]
  },
  {
   "cell_type": "code",
   "execution_count": null,
   "metadata": {},
   "outputs": [],
   "source": [
    "runner = Runner()"
   ]
  },
  {
   "cell_type": "code",
   "execution_count": null,
   "metadata": {},
   "outputs": [],
   "source": [
    "runner.back_test(market, agent, 60, 0, 0, 100, True)"
   ]
  },
  {
   "cell_type": "code",
   "execution_count": null,
   "metadata": {},
   "outputs": [],
   "source": []
  }
 ],
 "metadata": {
  "kernelspec": {
   "display_name": "Python 3",
   "language": "python",
   "name": "python3"
  },
  "language_info": {
   "codemirror_mode": {
    "name": "ipython",
    "version": 3
   },
   "file_extension": ".py",
   "mimetype": "text/x-python",
   "name": "python",
   "nbconvert_exporter": "python",
   "pygments_lexer": "ipython3",
   "version": "3.11.6"
  }
 },
 "nbformat": 4,
 "nbformat_minor": 2
}
