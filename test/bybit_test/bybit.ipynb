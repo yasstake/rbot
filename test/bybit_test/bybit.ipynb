{
 "cells": [
  {
   "cell_type": "code",
   "execution_count": 1,
   "metadata": {},
   "outputs": [
    {
     "name": "stdout",
     "output_type": "stream",
     "text": [
      "rbot version:  0.1.8\n",
      "!!! ABSOLUTELY NO WARRANTY. USE AT YOUR OWN RISK !!!\n",
      "For some exchange, an affliate or referer link may be included.\n",
      "Distributed under LGPL license. https://www.gnu.org/licenses/lgpl-3.0.txt\n",
      "See the document at https://github.com/yasstake/rusty-bot\n",
      "All rights reserved. (c) 2022-2024 rbot(rusty-bot) developers / yasstake\n"
     ]
    }
   ],
   "source": [
    "from json2html import *\n",
    "from IPython.display import HTML\n",
    "from rbot import init_debug_log\n",
    "\n",
    "init_debug_log()\n",
    "\n",
    "from rbot import Bybit\n",
    "bybit = Bybit(False)\n"
   ]
  },
  {
   "cell_type": "code",
   "execution_count": 2,
   "metadata": {},
   "outputs": [
    {
     "name": "stderr",
     "output_type": "stream",
     "text": [
      "\u001b[90m[\u001b[0m2024-08-07T16:43:54Z \u001b[34mDEBUG\u001b[0m reqwest::connect\u001b[90m]\u001b[0m starting new connection: https://api-testnet.bybit.com/\n",
      "\u001b[90m[\u001b[0m2024-08-07T16:43:54Z \u001b[34mDEBUG\u001b[0m hyper_util::client::legacy::connect::dns\u001b[90m]\u001b[0m resolving host=\"api-testnet.bybit.com\"\n",
      "\u001b[90m[\u001b[0m2024-08-07T16:43:55Z \u001b[34mDEBUG\u001b[0m hyper_util::client::legacy::connect::http\u001b[90m]\u001b[0m connecting to 13.227.62.107:443\n",
      "\u001b[90m[\u001b[0m2024-08-07T16:43:55Z \u001b[34mDEBUG\u001b[0m hyper_util::client::legacy::connect::http\u001b[90m]\u001b[0m connected to 13.227.62.107:443\n",
      "\u001b[90m[\u001b[0m2024-08-07T16:43:55Z \u001b[34mDEBUG\u001b[0m hyper_util::client::legacy::pool\u001b[90m]\u001b[0m pooling idle connection for (\"https\", api-testnet.bybit.com)\n",
      "\u001b[90m[\u001b[0m2024-08-07T16:43:55Z \u001b[34mDEBUG\u001b[0m bybit::rest\u001b[90m]\u001b[0m result.body=Object {\"category\": String(\"linear\"), \"list\": Array [], \"nextPageCursor\": String(\"\")}\n"
     ]
    }
   ],
   "source": [
    "from rbot import BybitConfig\n",
    "\n",
    "config = BybitConfig.BTCUSDT\n",
    "\n",
    "orders = bybit.get_open_orders(config)"
   ]
  },
  {
   "cell_type": "code",
   "execution_count": 4,
   "metadata": {},
   "outputs": [
    {
     "name": "stderr",
     "output_type": "stream",
     "text": [
      "\u001b[90m[\u001b[0m2024-08-07T16:40:19Z \u001b[34mDEBUG\u001b[0m bybit::market\u001b[90m]\u001b[0m open market BybitMarket::new\n",
      "\u001b[90m[\u001b[0m2024-08-07T16:40:19Z \u001b[34mDEBUG\u001b[0m rbot_lib::db::tradedf\u001b[90m]\u001b[0m db open success\n",
      "\u001b[90m[\u001b[0m2024-08-07T16:40:19Z \u001b[34mDEBUG\u001b[0m rbot_lib::db::archive\u001b[90m]\u001b[0m entry= \"BTCUSDT-20240805.parquet\"\n",
      "\u001b[90m[\u001b[0m2024-08-07T16:40:19Z \u001b[34mDEBUG\u001b[0m rbot_lib::common::time\u001b[90m]\u001b[0m 20240805 -> 2024 8 5\n",
      "\u001b[90m[\u001b[0m2024-08-07T16:40:19Z \u001b[34mDEBUG\u001b[0m rbot_lib::db::archive\u001b[90m]\u001b[0m analyze dates = [1722816000000000]\n",
      "\u001b[90m[\u001b[0m2024-08-07T16:40:19Z \u001b[34mDEBUG\u001b[0m rbot_lib::db::archive\u001b[90m]\u001b[0m \"20240805\"(1722816000000000)\n",
      "\u001b[90m[\u001b[0m2024-08-07T16:40:19Z \u001b[34mDEBUG\u001b[0m rbot_lib::db::archive\u001b[90m]\u001b[0m setup first\n",
      "\u001b[90m[\u001b[0m2024-08-07T16:40:19Z \u001b[34mDEBUG\u001b[0m rbot_lib::db::archive\u001b[90m]\u001b[0m S: 1722816000000000 (\"2024-08-05T00:00:00.000000\")\n",
      "\u001b[90m[\u001b[0m2024-08-07T16:40:19Z \u001b[34mDEBUG\u001b[0m rbot_lib::db::archive\u001b[90m]\u001b[0m E: 1722902400000000 (\"2024-08-06T00:00:00.000000\")\n"
     ]
    }
   ],
   "source": [
    "from rbot import init_debug_log\n",
    "\n",
    "\n",
    "market = bybit.open_market(BybitConfig.BTCUSDT)"
   ]
  },
  {
   "cell_type": "code",
   "execution_count": 5,
   "metadata": {},
   "outputs": [
    {
     "name": "stderr",
     "output_type": "stream",
     "text": [
      "\u001b[90m[\u001b[0m2024-08-07T16:40:38Z \u001b[34mDEBUG\u001b[0m rbot_lib::db::sqlite\u001b[90m]\u001b[0m start_thread\n",
      "\u001b[90m[\u001b[0m2024-08-07T16:40:38Z \u001b[34mDEBUG\u001b[0m bybit::ws\u001b[90m]\u001b[0m add_params: [] / [\"publicTrade.BTCUSDT\", \"orderbook.200.BTCUSDT\"]\n",
      "\u001b[90m[\u001b[0m2024-08-07T16:40:38Z \u001b[34mDEBUG\u001b[0m reqwest::connect\u001b[90m]\u001b[0m starting new connection: https://api-testnet.bybit.com/\n",
      "\u001b[90m[\u001b[0m2024-08-07T16:40:38Z \u001b[34mDEBUG\u001b[0m hyper_util::client::legacy::connect::dns\u001b[90m]\u001b[0m resolving host=\"api-testnet.bybit.com\"\n",
      "\u001b[90m[\u001b[0m2024-08-07T16:40:38Z \u001b[34mDEBUG\u001b[0m hyper_util::client::legacy::connect::http\u001b[90m]\u001b[0m connecting to 13.227.62.107:443\n",
      "\u001b[90m[\u001b[0m2024-08-07T16:40:38Z \u001b[34mDEBUG\u001b[0m hyper_util::client::legacy::connect::http\u001b[90m]\u001b[0m connected to 13.227.62.107:443\n",
      "\u001b[90m[\u001b[0m2024-08-07T16:40:38Z \u001b[34mDEBUG\u001b[0m hyper_util::client::legacy::pool\u001b[90m]\u001b[0m pooling idle connection for (\"https\", api-testnet.bybit.com)\n",
      "\u001b[90m[\u001b[0m2024-08-07T16:40:38Z \u001b[34mDEBUG\u001b[0m rbot_lib::net::ws\u001b[90m]\u001b[0m connect: wss://stream-testnet.bybit.com/v5/public/linear\n",
      "\u001b[90m[\u001b[0m2024-08-07T16:40:38Z \u001b[34mDEBUG\u001b[0m rbot_lib::net::ws\u001b[90m]\u001b[0m new SimpleWebsocket\n"
     ]
    },
    {
     "name": "stderr",
     "output_type": "stream",
     "text": [
      "\u001b[90m[\u001b[0m2024-08-07T16:40:38Z \u001b[34mDEBUG\u001b[0m tungstenite::handshake::client\u001b[90m]\u001b[0m Client handshake done.\n",
      "\u001b[90m[\u001b[0m2024-08-07T16:40:38Z \u001b[34mDEBUG\u001b[0m rbot_lib::net::ws\u001b[90m]\u001b[0m Connected to the server\n",
      "\u001b[90m[\u001b[0m2024-08-07T16:40:38Z \u001b[34mDEBUG\u001b[0m rbot_lib::net::ws\u001b[90m]\u001b[0m Connected to the server\n",
      "\u001b[90m[\u001b[0m2024-08-07T16:40:38Z \u001b[34mDEBUG\u001b[0m rbot_lib::net::ws\u001b[90m]\u001b[0m Response HTTP code: 101 Switching Protocols\n",
      "\u001b[90m[\u001b[0m2024-08-07T16:40:38Z \u001b[34mDEBUG\u001b[0m rbot_lib::net::ws\u001b[90m]\u001b[0m Response contains the following headers:\n",
      "\u001b[90m[\u001b[0m2024-08-07T16:40:38Z \u001b[34mDEBUG\u001b[0m rbot_lib::net::ws\u001b[90m]\u001b[0m * connection\n",
      "\u001b[90m[\u001b[0m2024-08-07T16:40:38Z \u001b[34mDEBUG\u001b[0m rbot_lib::net::ws\u001b[90m]\u001b[0m * date\n",
      "\u001b[90m[\u001b[0m2024-08-07T16:40:38Z \u001b[34mDEBUG\u001b[0m rbot_lib::net::ws\u001b[90m]\u001b[0m * upgrade\n",
      "\u001b[90m[\u001b[0m2024-08-07T16:40:38Z \u001b[34mDEBUG\u001b[0m rbot_lib::net::ws\u001b[90m]\u001b[0m * sec-websocket-accept\n",
      "\u001b[90m[\u001b[0m2024-08-07T16:40:38Z \u001b[34mDEBUG\u001b[0m rbot_lib::net::ws\u001b[90m]\u001b[0m * x-cache\n",
      "\u001b[90m[\u001b[0m2024-08-07T16:40:38Z \u001b[34mDEBUG\u001b[0m rbot_lib::net::ws\u001b[90m]\u001b[0m * via\n",
      "\u001b[90m[\u001b[0m2024-08-07T16:40:38Z \u001b[34mDEBUG\u001b[0m rbot_lib::net::ws\u001b[90m]\u001b[0m * x-amz-cf-pop\n",
      "\u001b[90m[\u001b[0m2024-08-07T16:40:38Z \u001b[34mDEBUG\u001b[0m rbot_lib::net::ws\u001b[90m]\u001b[0m * x-amz-cf-id\n",
      "\u001b[90m[\u001b[0m2024-08-07T16:40:38Z \u001b[34mDEBUG\u001b[0m rbot_lib::net::ws\u001b[90m]\u001b[0m setup split stream\n",
      "\u001b[90m[\u001b[0m2024-08-07T16:40:38Z \u001b[34mDEBUG\u001b[0m rbot_lib::net::ws\u001b[90m]\u001b[0m Sent message Text(\"{\\\"op\\\":\\\"subscribe\\\",\\\"args\\\":[\\\"publicTrade.BTCUSDT\\\",\\\"orderbook.200.BTCUSDT\\\"],\\\"id\\\":269}\")\n",
      "\u001b[90m[\u001b[0m2024-08-07T16:40:38Z \u001b[34mDEBUG\u001b[0m rbot_lib::net::ws\u001b[90m]\u001b[0m start ping: interval: 30\n",
      "\u001b[90m[\u001b[0m2024-08-07T16:40:38Z \u001b[32mINFO \u001b[0m rbot_lib::common::orderbook\u001b[90m]\u001b[0m board depth over. remove items.\n",
      "\u001b[90m[\u001b[0m2024-08-07T16:40:41Z \u001b[34mDEBUG\u001b[0m bybit::market\u001b[90m]\u001b[0m Trade: [Trade { time: 1723048845430000, order_side: Buy, price: 56455.40, size: 0.002, status: UnFix, id: \"f76084c7-fc1d-59a4-818f-ff5d7e6bd03f\" }]\n",
      "\u001b[90m[\u001b[0m2024-08-07T16:40:41Z \u001b[34mDEBUG\u001b[0m rbot_lib::db::sqlite\u001b[90m]\u001b[0m insert_records UnFixStart 2024-08-07T16:40:44.430000 2024-08-07T16:40:45.430000 1\n",
      "\u001b[90m[\u001b[0m2024-08-07T16:40:41Z \u001b[34mDEBUG\u001b[0m rbot_lib::db::sqlite\u001b[90m]\u001b[0m recv trades: 1\n",
      "\u001b[90m[\u001b[0m2024-08-07T16:40:43Z \u001b[34mDEBUG\u001b[0m bybit::market\u001b[90m]\u001b[0m Trade: [Trade { time: 1723048847783000, order_side: Sell, price: 56444.00, size: 0.089, status: UnFix, id: \"4a3a7dd1-772b-5c8f-9834-14b8e80305aa\" }, Trade { time: 1723048847783000, order_side: Sell, price: 56444.00, size: 0.089, status: UnFix, id: \"e2d2bfec-e9aa-51f8-9bbb-df996e42fd2a\" }]\n",
      "\u001b[90m[\u001b[0m2024-08-07T16:40:43Z \u001b[34mDEBUG\u001b[0m bybit::market\u001b[90m]\u001b[0m Trade: [Trade { time: 1723048847784000, order_side: Sell, price: 56444.00, size: 0.089, status: UnFix, id: \"7898c879-ca99-5f8e-81a8-09fb1b243403\" }]\n",
      "\u001b[90m[\u001b[0m2024-08-07T16:40:43Z \u001b[34mDEBUG\u001b[0m rbot_lib::db::sqlite\u001b[90m]\u001b[0m insert_records UnFix 2024-08-07T16:40:46.783000 2024-08-07T16:40:47.783000 2\n",
      "\u001b[90m[\u001b[0m2024-08-07T16:40:43Z \u001b[34mDEBUG\u001b[0m bybit::market\u001b[90m]\u001b[0m Trade: [Trade { time: 1723048847784000, order_side: Sell, price: 56444.00, size: 0.089, status: UnFix, id: \"ec728fd6-05a2-564f-8e15-eba9505851b5\" }, Trade { time: 1723048847784000, order_side: Sell, price: 56444.00, size: 0.089, status: UnFix, id: \"a734a2e9-8439-5e73-96f2-bc1ded69fa9c\" }]\n",
      "\u001b[90m[\u001b[0m2024-08-07T16:40:43Z \u001b[34mDEBUG\u001b[0m bybit::market\u001b[90m]\u001b[0m Trade: [Trade { time: 1723048847784000, order_side: Sell, price: 56444.00, size: 0.089, status: UnFix, id: \"5317aaba-a783-5093-9d50-05dd1f44b9a3\" }]\n",
      "\u001b[90m[\u001b[0m2024-08-07T16:40:43Z \u001b[34mDEBUG\u001b[0m bybit::market\u001b[90m]\u001b[0m Trade: [Trade { time: 1723048847785000, order_side: Sell, price: 56444.00, size: 0.089, status: UnFix, id: \"1679b923-7ea1-5e0f-8dc7-1091d3ef5bb1\" }, Trade { time: 1723048847785000, order_side: Sell, price: 56444.00, size: 0.089, status: UnFix, id: \"d91e9302-0dc7-5df2-a145-c3602b058f10\" }]\n",
      "\u001b[90m[\u001b[0m2024-08-07T16:40:43Z \u001b[34mDEBUG\u001b[0m rbot_lib::db::sqlite\u001b[90m]\u001b[0m recv trades: 2\n",
      "\u001b[90m[\u001b[0m2024-08-07T16:40:43Z \u001b[34mDEBUG\u001b[0m rbot_lib::db::sqlite\u001b[90m]\u001b[0m insert_records UnFix 2024-08-07T16:40:46.784000 2024-08-07T16:40:47.784000 1\n",
      "\u001b[90m[\u001b[0m2024-08-07T16:40:43Z \u001b[34mDEBUG\u001b[0m rbot_lib::db::sqlite\u001b[90m]\u001b[0m recv trades: 1\n",
      "\u001b[90m[\u001b[0m2024-08-07T16:40:43Z \u001b[34mDEBUG\u001b[0m rbot_lib::db::sqlite\u001b[90m]\u001b[0m insert_records UnFix 2024-08-07T16:40:46.784000 2024-08-07T16:40:47.784000 2\n",
      "\u001b[90m[\u001b[0m2024-08-07T16:40:43Z \u001b[34mDEBUG\u001b[0m rbot_lib::db::sqlite\u001b[90m]\u001b[0m recv trades: 2\n",
      "\u001b[90m[\u001b[0m2024-08-07T16:40:43Z \u001b[34mDEBUG\u001b[0m rbot_lib::db::sqlite\u001b[90m]\u001b[0m insert_records UnFix 2024-08-07T16:40:46.784000 2024-08-07T16:40:47.784000 1\n",
      "\u001b[90m[\u001b[0m2024-08-07T16:40:43Z \u001b[34mDEBUG\u001b[0m rbot_lib::db::sqlite\u001b[90m]\u001b[0m recv trades: 1\n",
      "\u001b[90m[\u001b[0m2024-08-07T16:40:43Z \u001b[34mDEBUG\u001b[0m rbot_lib::db::sqlite\u001b[90m]\u001b[0m insert_records UnFix 2024-08-07T16:40:46.785000 2024-08-07T16:40:47.785000 2\n",
      "\u001b[90m[\u001b[0m2024-08-07T16:40:43Z \u001b[34mDEBUG\u001b[0m rbot_lib::db::sqlite\u001b[90m]\u001b[0m recv trades: 2\n",
      "\u001b[90m[\u001b[0m2024-08-07T16:40:46Z \u001b[34mDEBUG\u001b[0m bybit::market\u001b[90m]\u001b[0m Trade: [Trade { time: 1723048850843000, order_side: Buy, price: 56455.40, size: 0.002, status: UnFix, id: \"c27ae004-10f2-5229-a030-64c45525e50c\" }, Trade { time: 1723048850843000, order_side: Buy, price: 56466.70, size: 0.002, status: UnFix, id: \"dc788df3-7574-5068-aaf7-39d5df537a4d\" }, Trade { time: 1723048850843000, order_side: Buy, price: 56478.00, size: 0.002, status: UnFix, id: \"81f256ec-b55a-521c-acf6-27fc791af876\" }, Trade { time: 1723048850843000, order_side: Buy, price: 56603.80, size: 0.001, status: UnFix, id: \"b8115efd-5082-5a55-8547-777180bb02de\" }]\n",
      "\u001b[90m[\u001b[0m2024-08-07T16:40:46Z \u001b[34mDEBUG\u001b[0m bybit::market\u001b[90m]\u001b[0m Trade: [Trade { time: 1723048850844000, order_side: Sell, price: 56444.00, size: 0.259, status: UnFix, id: \"8744d2c0-cc7d-5926-bece-dd5fc9495cad\" }]\n",
      "\u001b[90m[\u001b[0m2024-08-07T16:40:46Z \u001b[34mDEBUG\u001b[0m rbot_lib::db::sqlite\u001b[90m]\u001b[0m insert_records UnFix 2024-08-07T16:40:49.843000 2024-08-07T16:40:50.843000 4\n",
      "\u001b[90m[\u001b[0m2024-08-07T16:40:46Z \u001b[34mDEBUG\u001b[0m rbot_lib::db::sqlite\u001b[90m]\u001b[0m recv trades: 4\n",
      "\u001b[90m[\u001b[0m2024-08-07T16:40:46Z \u001b[34mDEBUG\u001b[0m rbot_lib::db::sqlite\u001b[90m]\u001b[0m insert_records UnFix 2024-08-07T16:40:49.844000 2024-08-07T16:40:50.844000 1\n",
      "\u001b[90m[\u001b[0m2024-08-07T16:40:46Z \u001b[34mDEBUG\u001b[0m rbot_lib::db::sqlite\u001b[90m]\u001b[0m recv trades: 1\n"
     ]
    }
   ],
   "source": [
    "market.open_market_stream()"
   ]
  },
  {
   "cell_type": "code",
   "execution_count": 13,
   "metadata": {},
   "outputs": [
    {
     "name": "stderr",
     "output_type": "stream",
     "text": [
      "/tmp/ipykernel_1773717/2820032860.py:1: DeprecationWarning: `Series._import_from_c` is deprecated. use _import_arrow_from_c; if you are using an extension, please compile it with latest 'pyo3-polars'\n",
      "  market.board\n"
     ]
    },
    {
     "data": {
      "text/plain": [
       "(shape: (200, 3)\n",
       " ┌─────────┬──────────┬──────────┐\n",
       " │ price   ┆ size     ┆ sum      │\n",
       " │ ---     ┆ ---      ┆ ---      │\n",
       " │ f64     ┆ f64      ┆ f64      │\n",
       " ╞═════════╪══════════╪══════════╡\n",
       " │ 56450.0 ┆ 2.001    ┆ 2.001    │\n",
       " │ 56444.0 ┆ 1856.002 ┆ 1858.003 │\n",
       " │ 56439.0 ┆ 0.004    ┆ 1858.007 │\n",
       " │ 56427.7 ┆ 0.059    ┆ 1858.066 │\n",
       " │ 56406.2 ┆ 0.215    ┆ 1858.281 │\n",
       " │ …       ┆ …        ┆ …        │\n",
       " │ 52410.3 ┆ 0.001    ┆ 2855.861 │\n",
       " │ 52400.0 ┆ 0.006    ┆ 2855.867 │\n",
       " │ 52380.0 ┆ 0.013    ┆ 2855.88  │\n",
       " │ 52362.9 ┆ 0.004    ┆ 2855.884 │\n",
       " │ 52360.8 ┆ 0.001    ┆ 2855.885 │\n",
       " └─────────┴──────────┴──────────┘,\n",
       " shape: (200, 3)\n",
       " ┌─────────┬───────┬────────┐\n",
       " │ price   ┆ size  ┆ sum    │\n",
       " │ ---     ┆ ---   ┆ ---    │\n",
       " │ f64     ┆ f64   ┆ f64    │\n",
       " ╞═════════╪═══════╪════════╡\n",
       " │ 56455.4 ┆ 0.002 ┆ 0.002  │\n",
       " │ 56466.7 ┆ 0.002 ┆ 0.004  │\n",
       " │ 56478.0 ┆ 0.002 ┆ 0.006  │\n",
       " │ 56603.8 ┆ 0.179 ┆ 0.185  │\n",
       " │ 56718.7 ┆ 0.153 ┆ 0.338  │\n",
       " │ …       ┆ …     ┆ …      │\n",
       " │ 60199.9 ┆ 0.001 ┆ 14.243 │\n",
       " │ 60200.0 ┆ 0.003 ┆ 14.246 │\n",
       " │ 60214.2 ┆ 0.001 ┆ 14.247 │\n",
       " │ 60218.9 ┆ 0.001 ┆ 14.248 │\n",
       " │ 60225.0 ┆ 0.003 ┆ 14.251 │\n",
       " └─────────┴───────┴────────┘)"
      ]
     },
     "execution_count": 13,
     "metadata": {},
     "output_type": "execute_result"
    },
    {
     "name": "stderr",
     "output_type": "stream",
     "text": [
      "\u001b[90m[\u001b[0m2024-08-07T16:41:33Z \u001b[34mDEBUG\u001b[0m rbot_lib::net::ws\u001b[90m]\u001b[0m Sent message Ping([49, 55, 50, 51, 48, 52, 56, 56, 57, 51, 53, 53, 55, 53, 51, 54])\n",
      "\u001b[90m[\u001b[0m2024-08-07T16:41:33Z \u001b[34mDEBUG\u001b[0m rbot_lib::net::ws\u001b[90m]\u001b[0m <PONG<: [49, 55, 50, 51, 48, 52, 56, 56, 57, 51, 53, 53, 55, 53, 51, 54]\n",
      "\u001b[90m[\u001b[0m2024-08-07T16:41:35Z \u001b[34mDEBUG\u001b[0m rbot_lib::net::ws\u001b[90m]\u001b[0m Sent message Text(\"{\\\"op\\\": \\\"ping\\\"}\")\n",
      "\u001b[90m[\u001b[0m2024-08-07T16:41:41Z \u001b[34mDEBUG\u001b[0m bybit::market\u001b[90m]\u001b[0m Trade: [Trade { time: 1723048906306000, order_side: Buy, price: 56455.40, size: 0.002, status: UnFix, id: \"bb798ecc-12ef-5de5-aae7-1081b3930675\" }, Trade { time: 1723048906306000, order_side: Buy, price: 56466.70, size: 0.002, status: UnFix, id: \"7c21ab01-7d05-5350-adff-242045f18ce1\" }, Trade { time: 1723048906306000, order_side: Buy, price: 56478.00, size: 0.002, status: UnFix, id: \"c5c548aa-8799-56e8-8f92-53cf528421df\" }, Trade { time: 1723048906306000, order_side: Buy, price: 56603.80, size: 0.002, status: UnFix, id: \"83436999-bb8d-55a3-8d54-2aa2b6cfd6e6\" }]\n",
      "\u001b[90m[\u001b[0m2024-08-07T16:41:41Z \u001b[34mDEBUG\u001b[0m rbot_lib::db::sqlite\u001b[90m]\u001b[0m insert_records UnFix 2024-08-07T16:41:45.306000 2024-08-07T16:41:46.306000 4\n",
      "\u001b[90m[\u001b[0m2024-08-07T16:41:41Z \u001b[34mDEBUG\u001b[0m rbot_lib::db::sqlite\u001b[90m]\u001b[0m recv trades: 4\n",
      "\u001b[90m[\u001b[0m2024-08-07T16:41:43Z \u001b[34mDEBUG\u001b[0m bybit::market\u001b[90m]\u001b[0m Trade: [Trade { time: 1723048907657000, order_side: Sell, price: 56450.00, size: 0.088, status: UnFix, id: \"e9f78438-baab-5ccb-b8d7-287682d0d6be\" }]\n",
      "\u001b[90m[\u001b[0m2024-08-07T16:41:43Z \u001b[34mDEBUG\u001b[0m bybit::market\u001b[90m]\u001b[0m Trade: [Trade { time: 1723048907658000, order_side: Sell, price: 56450.00, size: 0.088, status: UnFix, id: \"b9a53252-56d1-5b16-9e83-87f29f2c5af8\" }, Trade { time: 1723048907658000, order_side: Sell, price: 56450.00, size: 0.088, status: UnFix, id: \"c4c37729-fdaa-52f1-a863-820d806f23d0\" }]\n",
      "\u001b[90m[\u001b[0m2024-08-07T16:41:43Z \u001b[34mDEBUG\u001b[0m rbot_lib::db::sqlite\u001b[90m]\u001b[0m insert_records UnFix 2024-08-07T16:41:46.657000 2024-08-07T16:41:47.657000 1\n",
      "\u001b[90m[\u001b[0m2024-08-07T16:41:43Z \u001b[34mDEBUG\u001b[0m bybit::market\u001b[90m]\u001b[0m Trade: [Trade { time: 1723048907658000, order_side: Sell, price: 56450.00, size: 0.088, status: UnFix, id: \"1e7e467c-a073-55d6-b446-88ce38f6a3de\" }]\n",
      "\u001b[90m[\u001b[0m2024-08-07T16:41:43Z \u001b[34mDEBUG\u001b[0m bybit::market\u001b[90m]\u001b[0m Trade: [Trade { time: 1723048907658000, order_side: Sell, price: 56450.00, size: 0.088, status: UnFix, id: \"83c5dbfb-a445-53c9-a510-fa2ad02a35a8\" }]\n",
      "\u001b[90m[\u001b[0m2024-08-07T16:41:43Z \u001b[34mDEBUG\u001b[0m bybit::market\u001b[90m]\u001b[0m Trade: [Trade { time: 1723048907659000, order_side: Sell, price: 56450.00, size: 0.088, status: UnFix, id: \"78742fcf-083f-55b9-b612-9169704f1aa3\" }]\n",
      "\u001b[90m[\u001b[0m2024-08-07T16:41:43Z \u001b[34mDEBUG\u001b[0m bybit::market\u001b[90m]\u001b[0m Trade: [Trade { time: 1723048907659000, order_side: Sell, price: 56450.00, size: 0.088, status: UnFix, id: \"ed2b1151-238a-5b86-bf7f-161b6c335e5b\" }, Trade { time: 1723048907659000, order_side: Sell, price: 56450.00, size: 0.088, status: UnFix, id: \"5eb7182c-fd33-5ad7-a469-928097898395\" }]\n",
      "\u001b[90m[\u001b[0m2024-08-07T16:41:43Z \u001b[34mDEBUG\u001b[0m rbot_lib::db::sqlite\u001b[90m]\u001b[0m recv trades: 1\n",
      "\u001b[90m[\u001b[0m2024-08-07T16:41:43Z \u001b[34mDEBUG\u001b[0m rbot_lib::db::sqlite\u001b[90m]\u001b[0m insert_records UnFix 2024-08-07T16:41:46.658000 2024-08-07T16:41:47.658000 2\n",
      "\u001b[90m[\u001b[0m2024-08-07T16:41:43Z \u001b[34mDEBUG\u001b[0m rbot_lib::db::sqlite\u001b[90m]\u001b[0m recv trades: 2\n",
      "\u001b[90m[\u001b[0m2024-08-07T16:41:43Z \u001b[34mDEBUG\u001b[0m rbot_lib::db::sqlite\u001b[90m]\u001b[0m insert_records UnFix 2024-08-07T16:41:46.658000 2024-08-07T16:41:47.658000 1\n",
      "\u001b[90m[\u001b[0m2024-08-07T16:41:43Z \u001b[34mDEBUG\u001b[0m rbot_lib::db::sqlite\u001b[90m]\u001b[0m recv trades: 1\n",
      "\u001b[90m[\u001b[0m2024-08-07T16:41:43Z \u001b[34mDEBUG\u001b[0m rbot_lib::db::sqlite\u001b[90m]\u001b[0m insert_records UnFix 2024-08-07T16:41:46.658000 2024-08-07T16:41:47.658000 1\n",
      "\u001b[90m[\u001b[0m2024-08-07T16:41:43Z \u001b[34mDEBUG\u001b[0m rbot_lib::db::sqlite\u001b[90m]\u001b[0m recv trades: 1\n",
      "\u001b[90m[\u001b[0m2024-08-07T16:41:43Z \u001b[34mDEBUG\u001b[0m rbot_lib::db::sqlite\u001b[90m]\u001b[0m insert_records UnFix 2024-08-07T16:41:46.659000 2024-08-07T16:41:47.659000 1\n",
      "\u001b[90m[\u001b[0m2024-08-07T16:41:43Z \u001b[34mDEBUG\u001b[0m rbot_lib::db::sqlite\u001b[90m]\u001b[0m recv trades: 1\n",
      "\u001b[90m[\u001b[0m2024-08-07T16:41:43Z \u001b[34mDEBUG\u001b[0m rbot_lib::db::sqlite\u001b[90m]\u001b[0m insert_records UnFix 2024-08-07T16:41:46.659000 2024-08-07T16:41:47.659000 2\n",
      "\u001b[90m[\u001b[0m2024-08-07T16:41:43Z \u001b[34mDEBUG\u001b[0m rbot_lib::db::sqlite\u001b[90m]\u001b[0m recv trades: 2\n",
      "\u001b[90m[\u001b[0m2024-08-07T16:41:47Z \u001b[34mDEBUG\u001b[0m bybit::market\u001b[90m]\u001b[0m Trade: [Trade { time: 1723048911429000, order_side: Buy, price: 56450.10, size: 0.002, status: UnFix, id: \"82b5bb5e-c436-5535-95c0-bb5103bef8e2\" }]\n",
      "\u001b[90m[\u001b[0m2024-08-07T16:41:47Z \u001b[34mDEBUG\u001b[0m rbot_lib::db::sqlite\u001b[90m]\u001b[0m insert_records UnFix 2024-08-07T16:41:50.429000 2024-08-07T16:41:51.429000 1\n",
      "\u001b[90m[\u001b[0m2024-08-07T16:41:47Z \u001b[34mDEBUG\u001b[0m rbot_lib::db::sqlite\u001b[90m]\u001b[0m recv trades: 1\n",
      "\u001b[90m[\u001b[0m2024-08-07T16:42:00Z \u001b[34mDEBUG\u001b[0m rbot_lib::net::ws\u001b[90m]\u001b[0m Sent message Ping([49, 55, 50, 51, 48, 52, 56, 57, 50, 48, 52, 53, 50, 48, 56, 50])\n",
      "\u001b[90m[\u001b[0m2024-08-07T16:42:00Z \u001b[34mDEBUG\u001b[0m rbot_lib::net::ws\u001b[90m]\u001b[0m <PONG<: [49, 55, 50, 51, 48, 52, 56, 57, 50, 48, 52, 53, 50, 48, 56, 50]\n",
      "\u001b[90m[\u001b[0m2024-08-07T16:42:01Z \u001b[34mDEBUG\u001b[0m rbot_lib::net::ws\u001b[90m]\u001b[0m Sent message Text(\"{\\\"op\\\": \\\"ping\\\"}\")\n",
      "\u001b[90m[\u001b[0m2024-08-07T16:42:06Z \u001b[34mDEBUG\u001b[0m bybit::market\u001b[90m]\u001b[0m Trade: [Trade { time: 1723048930843000, order_side: Buy, price: 56461.40, size: 0.001, status: UnFix, id: \"c38a561c-cf92-5723-8916-7e9f0e417078\" }]\n",
      "\u001b[90m[\u001b[0m2024-08-07T16:42:06Z \u001b[34mDEBUG\u001b[0m rbot_lib::db::sqlite\u001b[90m]\u001b[0m insert_records UnFix 2024-08-07T16:42:09.843000 2024-08-07T16:42:10.843000 1\n",
      "\u001b[90m[\u001b[0m2024-08-07T16:42:06Z \u001b[34mDEBUG\u001b[0m rbot_lib::db::sqlite\u001b[90m]\u001b[0m recv trades: 1\n",
      "\u001b[90m[\u001b[0m2024-08-07T16:42:07Z \u001b[34mDEBUG\u001b[0m bybit::market\u001b[90m]\u001b[0m Trade: [Trade { time: 1723048931539000, order_side: Sell, price: 56450.00, size: 0.089, status: UnFix, id: \"b97e274f-b04f-5ac2-8de5-32c59292d75e\" }, Trade { time: 1723048931539000, order_side: Sell, price: 56450.00, size: 0.089, status: UnFix, id: \"1387303c-fa86-54b0-b353-b39dfe364500\" }]\n",
      "\u001b[90m[\u001b[0m2024-08-07T16:42:07Z \u001b[34mDEBUG\u001b[0m bybit::market\u001b[90m]\u001b[0m Trade: [Trade { time: 1723048931539000, order_side: Sell, price: 56450.00, size: 0.089, status: UnFix, id: \"3c56aa0a-434e-53d2-9978-e0db442f6429\" }]\n",
      "\u001b[90m[\u001b[0m2024-08-07T16:42:07Z \u001b[34mDEBUG\u001b[0m rbot_lib::db::sqlite\u001b[90m]\u001b[0m insert_records UnFix 2024-08-07T16:42:10.539000 2024-08-07T16:42:11.539000 2\n",
      "\u001b[90m[\u001b[0m2024-08-07T16:42:07Z \u001b[34mDEBUG\u001b[0m rbot_lib::db::sqlite\u001b[90m]\u001b[0m recv trades: 2\n",
      "\u001b[90m[\u001b[0m2024-08-07T16:42:07Z \u001b[34mDEBUG\u001b[0m rbot_lib::db::sqlite\u001b[90m]\u001b[0m insert_records UnFix 2024-08-07T16:42:10.539000 2024-08-07T16:42:11.539000 1\n",
      "\u001b[90m[\u001b[0m2024-08-07T16:42:07Z \u001b[34mDEBUG\u001b[0m rbot_lib::db::sqlite\u001b[90m]\u001b[0m recv trades: 1\n",
      "\u001b[90m[\u001b[0m2024-08-07T16:42:07Z \u001b[34mDEBUG\u001b[0m bybit::market\u001b[90m]\u001b[0m Trade: [Trade { time: 1723048931554000, order_side: Sell, price: 56450.00, size: 0.089, status: UnFix, id: \"073ed020-bafd-5a0b-a640-6b81f2339ef3\" }]\n",
      "\u001b[90m[\u001b[0m2024-08-07T16:42:07Z \u001b[34mDEBUG\u001b[0m rbot_lib::db::sqlite\u001b[90m]\u001b[0m insert_records UnFix 2024-08-07T16:42:10.554000 2024-08-07T16:42:11.554000 1\n",
      "\u001b[90m[\u001b[0m2024-08-07T16:42:07Z \u001b[34mDEBUG\u001b[0m bybit::market\u001b[90m]\u001b[0m Trade: [Trade { time: 1723048931554000, order_side: Sell, price: 56450.00, size: 0.089, status: UnFix, id: \"46353924-0116-5df4-85fb-f31db4fbfc41\" }]\n",
      "\u001b[90m[\u001b[0m2024-08-07T16:42:07Z \u001b[34mDEBUG\u001b[0m bybit::market\u001b[90m]\u001b[0m Trade: [Trade { time: 1723048931555000, order_side: Sell, price: 56450.00, size: 0.089, status: UnFix, id: \"ae334e90-54c4-5b22-bd87-940eec013b1d\" }]\n",
      "\u001b[90m[\u001b[0m2024-08-07T16:42:07Z \u001b[34mDEBUG\u001b[0m bybit::market\u001b[90m]\u001b[0m Trade: [Trade { time: 1723048931555000, order_side: Sell, price: 56450.00, size: 0.089, status: UnFix, id: \"04adf2ab-2a56-5deb-a623-7618acaab4a7\" }]\n",
      "\u001b[90m[\u001b[0m2024-08-07T16:42:07Z \u001b[34mDEBUG\u001b[0m rbot_lib::db::sqlite\u001b[90m]\u001b[0m recv trades: 1\n",
      "\u001b[90m[\u001b[0m2024-08-07T16:42:07Z \u001b[34mDEBUG\u001b[0m rbot_lib::db::sqlite\u001b[90m]\u001b[0m insert_records UnFix 2024-08-07T16:42:10.554000 2024-08-07T16:42:11.554000 1\n",
      "\u001b[90m[\u001b[0m2024-08-07T16:42:07Z \u001b[34mDEBUG\u001b[0m rbot_lib::db::sqlite\u001b[90m]\u001b[0m recv trades: 1\n",
      "\u001b[90m[\u001b[0m2024-08-07T16:42:07Z \u001b[34mDEBUG\u001b[0m rbot_lib::db::sqlite\u001b[90m]\u001b[0m insert_records UnFix 2024-08-07T16:42:10.555000 2024-08-07T16:42:11.555000 1\n",
      "\u001b[90m[\u001b[0m2024-08-07T16:42:07Z \u001b[34mDEBUG\u001b[0m rbot_lib::db::sqlite\u001b[90m]\u001b[0m recv trades: 1\n",
      "\u001b[90m[\u001b[0m2024-08-07T16:42:07Z \u001b[34mDEBUG\u001b[0m rbot_lib::db::sqlite\u001b[90m]\u001b[0m insert_records UnFix 2024-08-07T16:42:10.555000 2024-08-07T16:42:11.555000 1\n",
      "\u001b[90m[\u001b[0m2024-08-07T16:42:07Z \u001b[34mDEBUG\u001b[0m rbot_lib::db::sqlite\u001b[90m]\u001b[0m recv trades: 1\n",
      "\u001b[90m[\u001b[0m2024-08-07T16:42:07Z \u001b[34mDEBUG\u001b[0m bybit::market\u001b[90m]\u001b[0m Trade: [Trade { time: 1723048931566000, order_side: Sell, price: 56450.00, size: 0.089, status: UnFix, id: \"a1d40c51-982d-5f94-a7b7-3e73d97d588c\" }]\n",
      "\u001b[90m[\u001b[0m2024-08-07T16:42:07Z \u001b[34mDEBUG\u001b[0m rbot_lib::db::sqlite\u001b[90m]\u001b[0m insert_records UnFix 2024-08-07T16:42:10.566000 2024-08-07T16:42:11.566000 1\n",
      "\u001b[90m[\u001b[0m2024-08-07T16:42:07Z \u001b[34mDEBUG\u001b[0m rbot_lib::db::sqlite\u001b[90m]\u001b[0m recv trades: 1\n",
      "\u001b[90m[\u001b[0m2024-08-07T16:42:14Z \u001b[34mDEBUG\u001b[0m bybit::market\u001b[90m]\u001b[0m Trade: [Trade { time: 1723048938914000, order_side: Buy, price: 56461.40, size: 0.001, status: UnFix, id: \"5b817823-843d-5a3e-a07e-b24452c5eeae\" }]\n",
      "\u001b[90m[\u001b[0m2024-08-07T16:42:14Z \u001b[34mDEBUG\u001b[0m rbot_lib::db::sqlite\u001b[90m]\u001b[0m insert_records UnFix 2024-08-07T16:42:17.914000 2024-08-07T16:42:18.914000 1\n",
      "\u001b[90m[\u001b[0m2024-08-07T16:42:14Z \u001b[34mDEBUG\u001b[0m rbot_lib::db::sqlite\u001b[90m]\u001b[0m recv trades: 1\n",
      "\u001b[90m[\u001b[0m2024-08-07T16:42:15Z \u001b[34mDEBUG\u001b[0m bybit::market\u001b[90m]\u001b[0m Trade: [Trade { time: 1723048939912000, order_side: Sell, price: 56450.00, size: 0.001, status: UnFix, id: \"e5dc4584-8bf6-5dec-895b-9197a23c65b7\" }]\n",
      "\u001b[90m[\u001b[0m2024-08-07T16:42:15Z \u001b[34mDEBUG\u001b[0m rbot_lib::db::sqlite\u001b[90m]\u001b[0m insert_records UnFix 2024-08-07T16:42:18.912000 2024-08-07T16:42:19.912000 1\n",
      "\u001b[90m[\u001b[0m2024-08-07T16:42:15Z \u001b[34mDEBUG\u001b[0m rbot_lib::db::sqlite\u001b[90m]\u001b[0m recv trades: 1\n",
      "\u001b[90m[\u001b[0m2024-08-07T16:42:16Z \u001b[34mDEBUG\u001b[0m bybit::market\u001b[90m]\u001b[0m Trade: [Trade { time: 1723048940797000, order_side: Sell, price: 56450.00, size: 0.001, status: UnFix, id: \"e3b56206-f260-5a9c-92ff-3aff4d1ee47c\" }, Trade { time: 1723048940798000, order_side: Sell, price: 56450.00, size: 0.001, status: UnFix, id: \"8205a004-619a-5072-8ee2-e64931a59b9b\" }]\n",
      "\u001b[90m[\u001b[0m2024-08-07T16:42:16Z \u001b[34mDEBUG\u001b[0m rbot_lib::db::sqlite\u001b[90m]\u001b[0m insert_records UnFix 2024-08-07T16:42:19.797000 2024-08-07T16:42:20.798000 2\n",
      "\u001b[90m[\u001b[0m2024-08-07T16:42:16Z \u001b[34mDEBUG\u001b[0m rbot_lib::db::sqlite\u001b[90m]\u001b[0m recv trades: 2\n",
      "\u001b[90m[\u001b[0m2024-08-07T16:42:17Z \u001b[34mDEBUG\u001b[0m bybit::market\u001b[90m]\u001b[0m Trade: [Trade { time: 1723048942281000, order_side: Buy, price: 56461.40, size: 0.001, status: UnFix, id: \"ad388394-224a-512c-93a0-ea2342e23874\" }]\n",
      "\u001b[90m[\u001b[0m2024-08-07T16:42:17Z \u001b[34mDEBUG\u001b[0m rbot_lib::db::sqlite\u001b[90m]\u001b[0m insert_records UnFix 2024-08-07T16:42:21.281000 2024-08-07T16:42:22.281000 1\n",
      "\u001b[90m[\u001b[0m2024-08-07T16:42:17Z \u001b[34mDEBUG\u001b[0m rbot_lib::db::sqlite\u001b[90m]\u001b[0m recv trades: 1\n",
      "\u001b[90m[\u001b[0m2024-08-07T16:42:18Z \u001b[34mDEBUG\u001b[0m bybit::market\u001b[90m]\u001b[0m Trade: [Trade { time: 1723048942506000, order_side: Sell, price: 56450.00, size: 0.089, status: UnFix, id: \"39215b5d-7f5c-52c1-a626-68d33c43433c\" }]\n",
      "\u001b[90m[\u001b[0m2024-08-07T16:42:18Z \u001b[34mDEBUG\u001b[0m rbot_lib::db::sqlite\u001b[90m]\u001b[0m insert_records UnFix 2024-08-07T16:42:21.506000 2024-08-07T16:42:22.506000 1\n",
      "\u001b[90m[\u001b[0m2024-08-07T16:42:18Z \u001b[34mDEBUG\u001b[0m bybit::market\u001b[90m]\u001b[0m Trade: [Trade { time: 1723048942507000, order_side: Sell, price: 56450.00, size: 0.089, status: UnFix, id: \"feecc1c0-4920-5d21-a547-bedbaaebf8be\" }]\n",
      "\u001b[90m[\u001b[0m2024-08-07T16:42:18Z \u001b[34mDEBUG\u001b[0m bybit::market\u001b[90m]\u001b[0m Trade: [Trade { time: 1723048942507000, order_side: Sell, price: 56450.00, size: 0.089, status: UnFix, id: \"19c66516-85d4-524a-993d-04e32af5163c\" }, Trade { time: 1723048942507000, order_side: Sell, price: 56450.00, size: 0.089, status: UnFix, id: \"cd8685af-9f19-5e6d-b084-abea77bf7fa3\" }]\n",
      "\u001b[90m[\u001b[0m2024-08-07T16:42:18Z \u001b[34mDEBUG\u001b[0m bybit::market\u001b[90m]\u001b[0m Trade: [Trade { time: 1723048942509000, order_side: Sell, price: 56450.00, size: 0.089, status: UnFix, id: \"336213fd-ff0f-5116-a10d-68d6136c257e\" }]\n",
      "\u001b[90m[\u001b[0m2024-08-07T16:42:18Z \u001b[34mDEBUG\u001b[0m rbot_lib::db::sqlite\u001b[90m]\u001b[0m recv trades: 1\n",
      "\u001b[90m[\u001b[0m2024-08-07T16:42:18Z \u001b[34mDEBUG\u001b[0m rbot_lib::db::sqlite\u001b[90m]\u001b[0m insert_records UnFix 2024-08-07T16:42:21.507000 2024-08-07T16:42:22.507000 1\n",
      "\u001b[90m[\u001b[0m2024-08-07T16:42:18Z \u001b[34mDEBUG\u001b[0m rbot_lib::db::sqlite\u001b[90m]\u001b[0m recv trades: 1\n",
      "\u001b[90m[\u001b[0m2024-08-07T16:42:18Z \u001b[34mDEBUG\u001b[0m rbot_lib::db::sqlite\u001b[90m]\u001b[0m insert_records UnFix 2024-08-07T16:42:21.507000 2024-08-07T16:42:22.507000 2\n",
      "\u001b[90m[\u001b[0m2024-08-07T16:42:18Z \u001b[34mDEBUG\u001b[0m rbot_lib::db::sqlite\u001b[90m]\u001b[0m recv trades: 2\n",
      "\u001b[90m[\u001b[0m2024-08-07T16:42:18Z \u001b[34mDEBUG\u001b[0m rbot_lib::db::sqlite\u001b[90m]\u001b[0m insert_records UnFix 2024-08-07T16:42:21.509000 2024-08-07T16:42:22.509000 1\n",
      "\u001b[90m[\u001b[0m2024-08-07T16:42:18Z \u001b[34mDEBUG\u001b[0m rbot_lib::db::sqlite\u001b[90m]\u001b[0m recv trades: 1\n",
      "\u001b[90m[\u001b[0m2024-08-07T16:42:18Z \u001b[34mDEBUG\u001b[0m bybit::market\u001b[90m]\u001b[0m Trade: [Trade { time: 1723048942510000, order_side: Sell, price: 56450.00, size: 0.089, status: UnFix, id: \"85bb46f4-d44c-55bb-b92d-7595cae4b76e\" }]\n",
      "\u001b[90m[\u001b[0m2024-08-07T16:42:18Z \u001b[34mDEBUG\u001b[0m bybit::market\u001b[90m]\u001b[0m Trade: [Trade { time: 1723048942510000, order_side: Sell, price: 56450.00, size: 0.048, status: UnFix, id: \"01be23b2-19db-58b9-a71b-87da9eef7aec\" }, Trade { time: 1723048942510000, order_side: Sell, price: 56450.00, size: 0.016, status: UnFix, id: \"ecd4c15c-7ec7-5dae-9616-ceb05075fb1b\" }, Trade { time: 1723048942510000, order_side: Sell, price: 56444.00, size: 0.025, status: UnFix, id: \"c0e3273e-1e91-5b58-bb6f-835876ea76fd\" }]\n",
      "\u001b[90m[\u001b[0m2024-08-07T16:42:18Z \u001b[34mDEBUG\u001b[0m rbot_lib::db::sqlite\u001b[90m]\u001b[0m insert_records UnFix 2024-08-07T16:42:21.510000 2024-08-07T16:42:22.510000 1\n",
      "\u001b[90m[\u001b[0m2024-08-07T16:42:18Z \u001b[34mDEBUG\u001b[0m bybit::market\u001b[90m]\u001b[0m Trade: [Trade { time: 1723048942525000, order_side: Buy, price: 56461.40, size: 0.001, status: UnFix, id: \"34fae321-a95b-5611-acd9-beae82daa2ae\" }]\n",
      "\u001b[90m[\u001b[0m2024-08-07T16:42:18Z \u001b[34mDEBUG\u001b[0m bybit::market\u001b[90m]\u001b[0m Trade: [Trade { time: 1723048942530000, order_side: Sell, price: 56444.00, size: 0.089, status: UnFix, id: \"0f80046c-4954-5616-8976-7663f4a1280b\" }]\n",
      "\u001b[90m[\u001b[0m2024-08-07T16:42:18Z \u001b[34mDEBUG\u001b[0m rbot_lib::db::sqlite\u001b[90m]\u001b[0m recv trades: 1\n",
      "\u001b[90m[\u001b[0m2024-08-07T16:42:18Z \u001b[34mDEBUG\u001b[0m rbot_lib::db::sqlite\u001b[90m]\u001b[0m insert_records UnFix 2024-08-07T16:42:21.510000 2024-08-07T16:42:22.510000 3\n",
      "\u001b[90m[\u001b[0m2024-08-07T16:42:18Z \u001b[34mDEBUG\u001b[0m rbot_lib::db::sqlite\u001b[90m]\u001b[0m recv trades: 3\n",
      "\u001b[90m[\u001b[0m2024-08-07T16:42:18Z \u001b[34mDEBUG\u001b[0m rbot_lib::db::sqlite\u001b[90m]\u001b[0m insert_records UnFix 2024-08-07T16:42:21.525000 2024-08-07T16:42:22.525000 1\n",
      "\u001b[90m[\u001b[0m2024-08-07T16:42:18Z \u001b[34mDEBUG\u001b[0m rbot_lib::db::sqlite\u001b[90m]\u001b[0m recv trades: 1\n",
      "\u001b[90m[\u001b[0m2024-08-07T16:42:18Z \u001b[34mDEBUG\u001b[0m rbot_lib::db::sqlite\u001b[90m]\u001b[0m insert_records UnFix 2024-08-07T16:42:21.530000 2024-08-07T16:42:22.530000 1\n",
      "\u001b[90m[\u001b[0m2024-08-07T16:42:18Z \u001b[34mDEBUG\u001b[0m rbot_lib::db::sqlite\u001b[90m]\u001b[0m recv trades: 1\n",
      "\u001b[90m[\u001b[0m2024-08-07T16:42:22Z \u001b[34mDEBUG\u001b[0m bybit::market\u001b[90m]\u001b[0m Trade: [Trade { time: 1723048946829000, order_side: Buy, price: 56450.10, size: 0.002, status: UnFix, id: \"51279180-c59e-50a0-8692-065ad4e9ef31\" }]\n",
      "\u001b[90m[\u001b[0m2024-08-07T16:42:22Z \u001b[34mDEBUG\u001b[0m rbot_lib::db::sqlite\u001b[90m]\u001b[0m insert_records UnFix 2024-08-07T16:42:25.829000 2024-08-07T16:42:26.829000 1\n",
      "\u001b[90m[\u001b[0m2024-08-07T16:42:22Z \u001b[34mDEBUG\u001b[0m rbot_lib::db::sqlite\u001b[90m]\u001b[0m recv trades: 1\n",
      "\u001b[90m[\u001b[0m2024-08-07T16:42:26Z \u001b[34mDEBUG\u001b[0m bybit::market\u001b[90m]\u001b[0m Trade: [Trade { time: 1723048950430000, order_side: Buy, price: 56450.10, size: 0.002, status: UnFix, id: \"fbc4fdbd-289d-5664-abbe-04381763b659\" }]\n",
      "\u001b[90m[\u001b[0m2024-08-07T16:42:26Z \u001b[34mDEBUG\u001b[0m rbot_lib::db::sqlite\u001b[90m]\u001b[0m insert_records UnFix 2024-08-07T16:42:29.430000 2024-08-07T16:42:30.430000 1\n",
      "\u001b[90m[\u001b[0m2024-08-07T16:42:26Z \u001b[34mDEBUG\u001b[0m rbot_lib::net::ws\u001b[90m]\u001b[0m Sent message Ping([49, 55, 50, 51, 48, 52, 56, 57, 52, 54, 48, 57, 54, 51, 56, 48])\n",
      "\u001b[90m[\u001b[0m2024-08-07T16:42:26Z \u001b[34mDEBUG\u001b[0m rbot_lib::db::sqlite\u001b[90m]\u001b[0m recv trades: 1\n",
      "\u001b[90m[\u001b[0m2024-08-07T16:42:26Z \u001b[34mDEBUG\u001b[0m rbot_lib::net::ws\u001b[90m]\u001b[0m <PONG<: [49, 55, 50, 51, 48, 52, 56, 57, 52, 54, 48, 57, 54, 51, 56, 48]\n",
      "\u001b[90m[\u001b[0m2024-08-07T16:42:26Z \u001b[34mDEBUG\u001b[0m rbot_lib::net::ws\u001b[90m]\u001b[0m Sent message Text(\"{\\\"op\\\": \\\"ping\\\"}\")\n",
      "\u001b[90m[\u001b[0m2024-08-07T16:42:29Z \u001b[34mDEBUG\u001b[0m bybit::market\u001b[90m]\u001b[0m Trade: [Trade { time: 1723048954130000, order_side: Buy, price: 56450.10, size: 0.002, status: UnFix, id: \"37268f88-c244-50ec-96c0-7321dda1e99e\" }]\n",
      "\u001b[90m[\u001b[0m2024-08-07T16:42:29Z \u001b[34mDEBUG\u001b[0m rbot_lib::db::sqlite\u001b[90m]\u001b[0m insert_records UnFix 2024-08-07T16:42:33.130000 2024-08-07T16:42:34.130000 1\n",
      "\u001b[90m[\u001b[0m2024-08-07T16:42:29Z \u001b[34mDEBUG\u001b[0m rbot_lib::db::sqlite\u001b[90m]\u001b[0m recv trades: 1\n",
      "\u001b[90m[\u001b[0m2024-08-07T16:42:32Z \u001b[34mDEBUG\u001b[0m bybit::market\u001b[90m]\u001b[0m Trade: [Trade { time: 1723048957330000, order_side: Buy, price: 56450.10, size: 0.002, status: UnFix, id: \"7f6d5e97-ca9f-50e1-a254-a51e0e78ab23\" }]\n",
      "\u001b[90m[\u001b[0m2024-08-07T16:42:32Z \u001b[34mDEBUG\u001b[0m rbot_lib::db::sqlite\u001b[90m]\u001b[0m insert_records UnFix 2024-08-07T16:42:36.330000 2024-08-07T16:42:37.330000 1\n",
      "\u001b[90m[\u001b[0m2024-08-07T16:42:33Z \u001b[34mDEBUG\u001b[0m rbot_lib::db::sqlite\u001b[90m]\u001b[0m recv trades: 1\n"
     ]
    }
   ],
   "source": [
    "market.board"
   ]
  },
  {
   "cell_type": "code",
   "execution_count": 12,
   "metadata": {},
   "outputs": [
    {
     "data": {
      "text/html": [],
      "text/plain": [
       "<IPython.core.display.HTML object>"
      ]
     },
     "execution_count": 12,
     "metadata": {},
     "output_type": "execute_result"
    }
   ],
   "source": [
    "HTML(json2html.convert(json = orders.__str__()))\n"
   ]
  },
  {
   "cell_type": "code",
   "execution_count": null,
   "metadata": {},
   "outputs": [],
   "source": [
    "bybit.enable_order_with_my_own_risk\n",
    "\n"
   ]
  },
  {
   "cell_type": "code",
   "execution_count": null,
   "metadata": {},
   "outputs": [],
   "source": [
    "bybit.enable_order_with_my_own_risk = True"
   ]
  },
  {
   "cell_type": "code",
   "execution_count": null,
   "metadata": {},
   "outputs": [],
   "source": [
    "order = bybit.limit_order(config, side='Buy', price=40000, size=0.001)"
   ]
  },
  {
   "cell_type": "code",
   "execution_count": null,
   "metadata": {},
   "outputs": [],
   "source": [
    "order"
   ]
  },
  {
   "cell_type": "code",
   "execution_count": null,
   "metadata": {},
   "outputs": [],
   "source": [
    "r = bybit.cancel_order(config, order_id=order[0].order_id)"
   ]
  },
  {
   "cell_type": "code",
   "execution_count": null,
   "metadata": {},
   "outputs": [],
   "source": []
  },
  {
   "cell_type": "code",
   "execution_count": 3,
   "metadata": {},
   "outputs": [
    {
     "name": "stderr",
     "output_type": "stream",
     "text": [
      "\u001b[90m[\u001b[0m2024-08-07T16:44:05Z \u001b[34mDEBUG\u001b[0m bybit::market\u001b[90m]\u001b[0m open market BybitMarket::new\n",
      "\u001b[90m[\u001b[0m2024-08-07T16:44:05Z \u001b[34mDEBUG\u001b[0m rbot_lib::db::tradedf\u001b[90m]\u001b[0m db open success\n",
      "\u001b[90m[\u001b[0m2024-08-07T16:44:05Z \u001b[34mDEBUG\u001b[0m rbot_lib::db::archive\u001b[90m]\u001b[0m entry= \"BTCUSDT-20240805.parquet\"\n",
      "\u001b[90m[\u001b[0m2024-08-07T16:44:05Z \u001b[34mDEBUG\u001b[0m rbot_lib::common::time\u001b[90m]\u001b[0m 20240805 -> 2024 8 5\n",
      "\u001b[90m[\u001b[0m2024-08-07T16:44:05Z \u001b[34mDEBUG\u001b[0m rbot_lib::db::archive\u001b[90m]\u001b[0m analyze dates = [1722816000000000]\n",
      "\u001b[90m[\u001b[0m2024-08-07T16:44:05Z \u001b[34mDEBUG\u001b[0m rbot_lib::db::archive\u001b[90m]\u001b[0m \"20240805\"(1722816000000000)\n",
      "\u001b[90m[\u001b[0m2024-08-07T16:44:05Z \u001b[34mDEBUG\u001b[0m rbot_lib::db::archive\u001b[90m]\u001b[0m setup first\n",
      "\u001b[90m[\u001b[0m2024-08-07T16:44:05Z \u001b[34mDEBUG\u001b[0m rbot_lib::db::archive\u001b[90m]\u001b[0m S: 1722816000000000 (\"2024-08-05T00:00:00.000000\")\n",
      "\u001b[90m[\u001b[0m2024-08-07T16:44:05Z \u001b[34mDEBUG\u001b[0m rbot_lib::db::archive\u001b[90m]\u001b[0m E: 1722902400000000 (\"2024-08-06T00:00:00.000000\")\n"
     ]
    },
    {
     "data": {
      "text/html": [
       "\n",
       "            <table>\n",
       "            <caption>Trade Database info table</caption>\n",
       "            <tr><th>start</th><th>end</th></tr>\n",
       "            <tr><td>1722816000000000</td><td>1723048969729000</td></tr>\n",
       "            <tr><td>\"2024-08-05T00:00:00.000000\"</td><td>\"2024-08-07T16:42:49.729000\"</td></tr>\n",
       "            <tr><td><b>days=</b></td><td>2</td></tr>                \n",
       "            </table>                \n",
       "            <table>\n",
       "            <caption>Archive Data</caption>\n",
       "            <tr><th>start</th><th>end</th></tr>\n",
       "            <tr><td>1722816000000000</td><td>1722902400000000</td></tr>\n",
       "            <tr><td>\"2024-08-05T00:00:00.000000\"</td><td>\"2024-08-06T00:00:00.000000\"</td></tr>\n",
       "            <tr><td><b>days=</b></td><td>1</td></tr>                \n",
       "            </table>                \n",
       "            <table>\n",
       "            <caption>DataBase Data</caption>\n",
       "            <tr><th>start</th><th>end</th></tr>\n",
       "            <tr><td>1722902415000000</td><td>1723048969729000</td></tr>\n",
       "            <tr><td>\"2024-08-06T00:00:15.000000\"</td><td>\"2024-08-07T16:42:49.729000\"</td></tr>\n",
       "            <tr><td><b>days=</b></td><td>1</td></tr>                \n",
       "            </table>                \n",
       "\n",
       "\n",
       "            "
      ],
      "text/plain": [
       "<BybitMarket at 0x556e56a263d0>"
      ]
     },
     "execution_count": 3,
     "metadata": {},
     "output_type": "execute_result"
    }
   ],
   "source": [
    "from rbot import init_debug_log\n",
    "\n",
    "\n",
    "\n",
    "market = bybit.open_market(config)\n",
    "\n",
    "market"
   ]
  },
  {
   "cell_type": "code",
   "execution_count": null,
   "metadata": {},
   "outputs": [],
   "source": [
    "init_debug_log()"
   ]
  },
  {
   "cell_type": "code",
   "execution_count": null,
   "metadata": {},
   "outputs": [],
   "source": [
    "market.download_latest(verbose=True)"
   ]
  },
  {
   "cell_type": "code",
   "execution_count": null,
   "metadata": {},
   "outputs": [],
   "source": [
    "market.get_board()"
   ]
  },
  {
   "cell_type": "code",
   "execution_count": null,
   "metadata": {},
   "outputs": [],
   "source": [
    "market.download_archive(ndays=4, force=False, verbose=True, low_priority=False)"
   ]
  },
  {
   "cell_type": "code",
   "execution_count": null,
   "metadata": {},
   "outputs": [],
   "source": [
    "market"
   ]
  },
  {
   "cell_type": "code",
   "execution_count": null,
   "metadata": {},
   "outputs": [],
   "source": [
    "market.download_gap(verbose=True)"
   ]
  },
  {
   "cell_type": "code",
   "execution_count": null,
   "metadata": {},
   "outputs": [],
   "source": [
    "market.ohlcv(0, 0, 600)"
   ]
  },
  {
   "cell_type": "code",
   "execution_count": null,
   "metadata": {},
   "outputs": [],
   "source": []
  },
  {
   "cell_type": "code",
   "execution_count": null,
   "metadata": {},
   "outputs": [],
   "source": []
  },
  {
   "cell_type": "code",
   "execution_count": null,
   "metadata": {},
   "outputs": [],
   "source": []
  }
 ],
 "metadata": {
  "kernelspec": {
   "display_name": ".venv",
   "language": "python",
   "name": "python3"
  },
  "language_info": {
   "codemirror_mode": {
    "name": "ipython",
    "version": 3
   },
   "file_extension": ".py",
   "mimetype": "text/x-python",
   "name": "python",
   "nbconvert_exporter": "python",
   "pygments_lexer": "ipython3",
   "version": "3.10.12"
  }
 },
 "nbformat": 4,
 "nbformat_minor": 2
}
