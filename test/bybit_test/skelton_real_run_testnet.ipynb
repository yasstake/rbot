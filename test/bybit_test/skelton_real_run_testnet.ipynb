{
 "cells": [
  {
   "cell_type": "markdown",
   "metadata": {},
   "source": [
    "# RustyBot(rbot)のフレームワークスケルトン(real_run (testnet))\n",
    "\n",
    "フレームワークで動かすためのBotの構造サンプルを提供します。\n",
    "\n",
    "BackTestと比べてリアル時間なので、on_tickを１０秒毎に、on_tickを100イベント毎に出力します。\n",
    "\n",
    "`on_init`, `on_tick`, `on_clock`, `on_update`を必要に応じて実装します。\n",
    "\n",
    "参考：\n",
    "* [backtest skelton](./skelton_back_test.ipynb)\n",
    "* [forward skelton](./skelton_forward_test.ipynb)"
   ]
  },
  {
   "cell_type": "code",
   "execution_count": null,
   "metadata": {},
   "outputs": [],
   "source": []
  },
  {
   "cell_type": "markdown",
   "metadata": {},
   "source": [
    "## RealRunの準備"
   ]
  },
  {
   "cell_type": "code",
   "execution_count": null,
   "metadata": {},
   "outputs": [],
   "source": [
    "# rbotをインストールします。\n",
    "! pip install --upgrade pip\n",
    "! pip install rbot"
   ]
  },
  {
   "cell_type": "code",
   "execution_count": null,
   "metadata": {},
   "outputs": [],
   "source": [
    "# Binanceマーケットを指定します。\n",
    "# ここではテストネットのBTCUSDTを指定しています。\n",
    "# また環境変数にAPIキーを設定しておく必要があります。\n",
    "# BINANCE_API_KEY: APIキー\n",
    "# BINANCE_API_SECRET: APIシークレット\n",
    "\n",
    "from rbot import Bybit, BybitConfig\n",
    "\n",
    "bybit  = Bybit(True)\n",
    "\n",
    "market = bybit.open_market(BybitConfig.BTCUSDT)\n",
    "\n"
   ]
  },
  {
   "cell_type": "code",
   "execution_count": null,
   "metadata": {},
   "outputs": [],
   "source": [
    "from rbot import Runner\n",
    "from rbot import NOW, DAYS\n",
    "from rbot import init_debug_log\n",
    "\n",
    "init_debug_log()\n",
    "\n",
    "agent = SkeltonAgent()\n",
    "runner = Runner()\n",
    "\n",
    "session = runner.real_run(\n",
    "                market=market,\n",
    "                agent=agent, \n",
    "#                execute_time = 200,\n",
    "                verbose=True,\n",
    "                log_file=\"skelton_bot.log\",\n",
    "                client= True\n",
    "            )\n",
    "\n",
    "session"
   ]
  },
  {
   "cell_type": "markdown",
   "metadata": {},
   "source": [
    "# ここからは別プロセスで行う\n",
    "\n",
    "本番は終了することが通常ない。\n",
    "そのため、ログファイルを別途読み込んで分析する。\n",
    "以下読み込み方のサンプル"
   ]
  },
  {
   "cell_type": "code",
   "execution_count": null,
   "metadata": {},
   "outputs": [],
   "source": [
    "from rbot import Logger\n",
    "\n",
    "log = Logger()\n",
    "log.restore(\"skelton_bot.log\")\n"
   ]
  },
  {
   "cell_type": "code",
   "execution_count": null,
   "metadata": {},
   "outputs": [],
   "source": [
    "# ファイルから読み込んだあとは通常どおり。\n",
    "\n",
    "log.orders"
   ]
  },
  {
   "cell_type": "code",
   "execution_count": null,
   "metadata": {},
   "outputs": [],
   "source": [
    "log['indicators']"
   ]
  },
  {
   "cell_type": "code",
   "execution_count": null,
   "metadata": {},
   "outputs": [],
   "source": []
  }
 ],
 "metadata": {
  "kernelspec": {
   "display_name": ".venv",
   "language": "python",
   "name": "python3"
  },
  "language_info": {
   "codemirror_mode": {
    "name": "ipython",
    "version": 3
   },
   "file_extension": ".py",
   "mimetype": "text/x-python",
   "name": "python",
   "nbconvert_exporter": "python",
   "pygments_lexer": "ipython3",
   "version": "3.11.6"
  }
 },
 "nbformat": 4,
 "nbformat_minor": 2
}
