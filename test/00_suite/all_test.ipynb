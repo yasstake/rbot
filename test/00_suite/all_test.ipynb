{
 "cells": [
  {
   "cell_type": "code",
   "execution_count": 1,
   "metadata": {},
   "outputs": [
    {
     "name": "stdout",
     "output_type": "stream",
     "text": [
      "rbot version:  0.1.8\n",
      "!!! ABSOLUTELY NO WARRANTY. USE AT YOUR OWN RISK !!!\n",
      "For some exchange, an affliate or referer link may be included.\n",
      "Distributed under LGPL license. https://www.gnu.org/licenses/lgpl-3.0.txt\n",
      "See the document at https://github.com/yasstake/rusty-bot\n",
      "All rights reserved. (c) 2022-2024 rbot(rusty-bot) developers / yasstake\n"
     ]
    }
   ],
   "source": [
    "from rbot import Bybit, BybitConfig, Runner"
   ]
  },
  {
   "cell_type": "code",
   "execution_count": 2,
   "metadata": {},
   "outputs": [],
   "source": [
    "import rbot"
   ]
  },
  {
   "cell_type": "code",
   "execution_count": 3,
   "metadata": {},
   "outputs": [
    {
     "data": {
      "text/plain": [
       "'/home/yass/.local/share/rbot/RUSTYBOT_DATA'"
      ]
     },
     "execution_count": 3,
     "metadata": {},
     "output_type": "execute_result"
    }
   ],
   "source": [
    "rbot.get_data_root()"
   ]
  },
  {
   "cell_type": "code",
   "execution_count": 4,
   "metadata": {},
   "outputs": [],
   "source": [
    "# rbot.__delete_data_root()"
   ]
  },
  {
   "cell_type": "code",
   "execution_count": 5,
   "metadata": {},
   "outputs": [
    {
     "name": "stdout",
     "output_type": "stream",
     "text": [
      "API KEY environment variable [BYBIT_API_KEY] is not set\n",
      "API SECRET environment variable [BYBIT_API_SECRET] is not set\n",
      "async_download_lastest\n",
      "from rec: \"{timestamp:2024-08-05T07:15:32.415000(1722842132415000), order_side:Buy, price:55312.6, size:0.002, id:\\\"10c38f3d-ac8d-5f8b-845f-ab3142f6c554\\\", status:UnFixStart}\"\n",
      "to   rec: \"{timestamp:2024-08-05T07:25:45.330000(1722842745330000), order_side:Buy, price:55010.1, size:0.002, id:\\\"9441e6d0-71d3-5899-b7b9-49cc37fec63a\\\", status:UnFix}\"\n",
      "rec: 1000\n",
      "download_range_virtual from=0(1970-01-01T00:00:00.000000) to=1722842132415000(2024-08-05T07:15:32.415000)\n",
      "kline start_time \"2024-08-03T07:25:00.000000\" / end_time \"2024-08-05T07:15:00.000000\"\n",
      "download_range (loop) 2024-08-03T07:25:45.555580(1722669945555580) 2024-08-05T07:15:00.000000(1722842100000000) 1000[rec]\n",
      "kline start_time \"2024-08-03T07:25:00.000000\" / end_time \"2024-08-05T07:15:00.000000\"\n",
      "download_range (loop) 2024-08-03T07:25:45.555580(1722669945555580) 2024-08-05T07:15:00.000000(1722842100000000) 1000[rec]\n",
      "kline start_time \"2024-08-03T07:25:00.000000\" / end_time \"2024-08-05T07:15:00.000000\"\n",
      "download_range (loop) 2024-08-03T07:25:45.555580(1722669945555580) 2024-08-05T07:15:00.000000(1722842100000000) 871[rec]\n"
     ]
    },
    {
     "data": {
      "application/vnd.jupyter.widget-view+json": {
       "model_id": "568edf7eb3ce43b58fdca332290f54b6",
       "version_major": 2,
       "version_minor": 0
      },
      "text/plain": [
       "[00:00] (  0%) |          | [ETA:?]"
      ]
     },
     "metadata": {},
     "output_type": "display_data"
    },
    {
     "data": {
      "application/vnd.jupyter.widget-view+json": {
       "model_id": "8bd5612d1ce7485dbc1bfc7ba732d8cc",
       "version_major": 2,
       "version_minor": 0
      },
      "text/plain": [
       " (  0%) |          |     0.00/0.00 ?B/s"
      ]
     },
     "metadata": {},
     "output_type": "display_data"
    },
    {
     "name": "stdout",
     "output_type": "stream",
     "text": [
      "https://public.bybit.com/trading/BTCUSDT/BTCUSDT2024-08-05.csv.gz\n",
      "Archived data: from:[1970-01-01T00:00:00.000000] to:[1970-01-01T00:00:00.000000]\n"
     ]
    }
   ],
   "source": [
    "\n",
    "exchange = Bybit(production=False)\n",
    "config = BybitConfig.BTCUSDT\n",
    "market = exchange.open_market(config)\n",
    "\n",
    "#from rbot import init_debug_log\n",
    "#init_debug_log()\n",
    "\n",
    "market.download(\n",
    "    ndays=1,        # specify from past days\n",
    "    force=True,    # if false, the cache data will be used.\n",
    "    verbose=True    # verbose to print download progress.\n",
    ")\n"
   ]
  },
  {
   "cell_type": "code",
   "execution_count": 6,
   "metadata": {},
   "outputs": [
    {
     "data": {
      "text/html": [
       "\n",
       "            <table>\n",
       "            <caption>Trade Database info table</caption>\n",
       "            <tr><th>start</th><th>end</th></tr>\n",
       "            <tr><td>1722669960000000</td><td>1722842745330000</td></tr>\n",
       "            <tr><td>\"2024-08-03T07:26:00.000000\"</td><td>\"2024-08-05T07:25:45.330000\"</td></tr>\n",
       "            <tr><td><b>days=</b></td><td>1</td></tr>                \n",
       "            </table>                \n",
       "            <table>\n",
       "            <caption>Archive Data</caption>\n",
       "            <tr><th>start</th><th>end</th></tr>\n",
       "            <tr><td>0</td><td>0</td></tr>\n",
       "            <tr><td>\"1970-01-01T00:00:00.000000\"</td><td>\"1970-01-01T00:00:00.000000\"</td></tr>\n",
       "            <tr><td><b>days=</b></td><td>0</td></tr>                \n",
       "            </table>                \n",
       "            <table>\n",
       "            <caption>DataBase Data</caption>\n",
       "            <tr><th>start</th><th>end</th></tr>\n",
       "            <tr><td>1722667800000000</td><td>1722842745330000</td></tr>\n",
       "            <tr><td>\"2024-08-03T06:50:00.000000\"</td><td>\"2024-08-05T07:25:45.330000\"</td></tr>\n",
       "            <tr><td><b>days=</b></td><td>2</td></tr>                \n",
       "            </table>                \n",
       "\n",
       "\n",
       "            "
      ],
      "text/plain": [
       "<BybitMarket at 0x5597863771c0>"
      ]
     },
     "execution_count": 6,
     "metadata": {},
     "output_type": "execute_result"
    }
   ],
   "source": [
    "market"
   ]
  },
  {
   "cell_type": "code",
   "execution_count": 7,
   "metadata": {},
   "outputs": [
    {
     "name": "stderr",
     "output_type": "stream",
     "text": [
      "/tmp/ipykernel_406329/3473935423.py:1: DeprecationWarning: `Series._import_from_c` is deprecated. use _import_arrow_from_c; if you are using an extension, please compile it with latest 'pyo3-polars'\n",
      "  total_df = market.select_trades(0, 0)\n"
     ]
    },
    {
     "data": {
      "text/html": [
       "<div><style>\n",
       ".dataframe > thead > tr,\n",
       ".dataframe > tbody > tr {\n",
       "  text-align: right;\n",
       "  white-space: pre-wrap;\n",
       "}\n",
       "</style>\n",
       "<small>shape: (12_615, 4)</small><table border=\"1\" class=\"dataframe\"><thead><tr><th>timestamp</th><th>order_side</th><th>price</th><th>size</th></tr><tr><td>datetime[μs]</td><td>bool</td><td>f64</td><td>f64</td></tr></thead><tbody><tr><td>2024-08-03 06:50:00</td><td>true</td><td>61562.5</td><td>0.24</td></tr><tr><td>2024-08-03 06:50:15</td><td>true</td><td>61756.0</td><td>0.24</td></tr><tr><td>2024-08-03 06:50:30</td><td>false</td><td>61562.5</td><td>0.24</td></tr><tr><td>2024-08-03 06:50:45</td><td>false</td><td>61694.7</td><td>0.224</td></tr><tr><td>2024-08-03 06:51:00</td><td>true</td><td>61694.7</td><td>0.0</td></tr><tr><td>&hellip;</td><td>&hellip;</td><td>&hellip;</td><td>&hellip;</td></tr><tr><td>2024-08-05 07:25:42.062</td><td>true</td><td>55022.3</td><td>0.002</td></tr><tr><td>2024-08-05 07:25:42.062</td><td>true</td><td>55011.2</td><td>0.002</td></tr><tr><td>2024-08-05 07:25:44.389</td><td>false</td><td>55000.0</td><td>0.087</td></tr><tr><td>2024-08-05 07:25:44.389</td><td>false</td><td>55010.0</td><td>0.001</td></tr><tr><td>2024-08-05 07:25:45.330</td><td>true</td><td>55010.1</td><td>0.002</td></tr></tbody></table></div>"
      ],
      "text/plain": [
       "shape: (12_615, 4)\n",
       "┌─────────────────────────┬────────────┬─────────┬───────┐\n",
       "│ timestamp               ┆ order_side ┆ price   ┆ size  │\n",
       "│ ---                     ┆ ---        ┆ ---     ┆ ---   │\n",
       "│ datetime[μs]            ┆ bool       ┆ f64     ┆ f64   │\n",
       "╞═════════════════════════╪════════════╪═════════╪═══════╡\n",
       "│ 2024-08-03 06:50:00     ┆ true       ┆ 61562.5 ┆ 0.24  │\n",
       "│ 2024-08-03 06:50:15     ┆ true       ┆ 61756.0 ┆ 0.24  │\n",
       "│ 2024-08-03 06:50:30     ┆ false      ┆ 61562.5 ┆ 0.24  │\n",
       "│ 2024-08-03 06:50:45     ┆ false      ┆ 61694.7 ┆ 0.224 │\n",
       "│ 2024-08-03 06:51:00     ┆ true       ┆ 61694.7 ┆ 0.0   │\n",
       "│ …                       ┆ …          ┆ …       ┆ …     │\n",
       "│ 2024-08-05 07:25:42.062 ┆ true       ┆ 55022.3 ┆ 0.002 │\n",
       "│ 2024-08-05 07:25:42.062 ┆ true       ┆ 55011.2 ┆ 0.002 │\n",
       "│ 2024-08-05 07:25:44.389 ┆ false      ┆ 55000.0 ┆ 0.087 │\n",
       "│ 2024-08-05 07:25:44.389 ┆ false      ┆ 55010.0 ┆ 0.001 │\n",
       "│ 2024-08-05 07:25:45.330 ┆ true       ┆ 55010.1 ┆ 0.002 │\n",
       "└─────────────────────────┴────────────┴─────────┴───────┘"
      ]
     },
     "execution_count": 7,
     "metadata": {},
     "output_type": "execute_result"
    }
   ],
   "source": [
    "total_df = market.select_trades(0, 0)\n",
    "total_df"
   ]
  },
  {
   "cell_type": "code",
   "execution_count": 12,
   "metadata": {},
   "outputs": [
    {
     "name": "stderr",
     "output_type": "stream",
     "text": [
      "/tmp/ipykernel_406329/3538104582.py:1: DeprecationWarning: `Series._import_from_c` is deprecated. use _import_arrow_from_c; if you are using an extension, please compile it with latest 'pyo3-polars'\n",
      "  market._select_cache_df(0, 0)['size'].sum()\n"
     ]
    },
    {
     "data": {
      "text/plain": [
       "87080.53899999998"
      ]
     },
     "execution_count": 12,
     "metadata": {},
     "output_type": "execute_result"
    }
   ],
   "source": [
    "market._select_cache_df(0, 0)['size'].sum()\n"
   ]
  },
  {
   "cell_type": "code",
   "execution_count": 8,
   "metadata": {},
   "outputs": [
    {
     "name": "stdout",
     "output_type": "stream",
     "text": [
      "12412 2024-08-03 06:50:00 2024-08-05 06:50:00.121000\n"
     ]
    }
   ],
   "source": [
    "min_time = total_df[\"timestamp\"].min()\n",
    "end_time = total_df['timestamp'].max()\n",
    "count = total_df.shape[0]\n",
    "\n",
    "print(count, min_time, end_time)"
   ]
  },
  {
   "cell_type": "code",
   "execution_count": 11,
   "metadata": {},
   "outputs": [
    {
     "name": "stderr",
     "output_type": "stream",
     "text": [
      "/tmp/ipykernel_398161/2041476033.py:1: DeprecationWarning: `Series._import_from_c` is deprecated. use _import_arrow_from_c; if you are using an extension, please compile it with latest 'pyo3-polars'\n",
      "  db_df = market._select_db_trades(0, 0)\n"
     ]
    },
    {
     "data": {
      "text/html": [
       "<div><style>\n",
       ".dataframe > thead > tr,\n",
       ".dataframe > tbody > tr {\n",
       "  text-align: right;\n",
       "  white-space: pre-wrap;\n",
       "}\n",
       "</style>\n",
       "<small>shape: (12_412, 4)</small><table border=\"1\" class=\"dataframe\"><thead><tr><th>timestamp</th><th>order_side</th><th>price</th><th>size</th></tr><tr><td>datetime[μs]</td><td>bool</td><td>f64</td><td>f64</td></tr></thead><tbody><tr><td>2024-08-03 06:50:00</td><td>true</td><td>61562.5</td><td>0.24</td></tr><tr><td>2024-08-03 06:50:15</td><td>true</td><td>61756.0</td><td>0.24</td></tr><tr><td>2024-08-03 06:50:30</td><td>false</td><td>61562.5</td><td>0.24</td></tr><tr><td>2024-08-03 06:50:45</td><td>false</td><td>61694.7</td><td>0.224</td></tr><tr><td>2024-08-03 06:51:00</td><td>true</td><td>61694.7</td><td>0.0</td></tr><tr><td>&hellip;</td><td>&hellip;</td><td>&hellip;</td><td>&hellip;</td></tr><tr><td>2024-08-05 06:49:57.819</td><td>true</td><td>55011.2</td><td>0.002</td></tr><tr><td>2024-08-05 06:49:58.424</td><td>false</td><td>55000.0</td><td>0.001</td></tr><tr><td>2024-08-05 06:49:59.230</td><td>true</td><td>55000.1</td><td>0.002</td></tr><tr><td>2024-08-05 06:50:00.090</td><td>false</td><td>55000.0</td><td>0.003</td></tr><tr><td>2024-08-05 06:50:00.121</td><td>false</td><td>55000.0</td><td>0.224</td></tr></tbody></table></div>"
      ],
      "text/plain": [
       "shape: (12_412, 4)\n",
       "┌─────────────────────────┬────────────┬─────────┬───────┐\n",
       "│ timestamp               ┆ order_side ┆ price   ┆ size  │\n",
       "│ ---                     ┆ ---        ┆ ---     ┆ ---   │\n",
       "│ datetime[μs]            ┆ bool       ┆ f64     ┆ f64   │\n",
       "╞═════════════════════════╪════════════╪═════════╪═══════╡\n",
       "│ 2024-08-03 06:50:00     ┆ true       ┆ 61562.5 ┆ 0.24  │\n",
       "│ 2024-08-03 06:50:15     ┆ true       ┆ 61756.0 ┆ 0.24  │\n",
       "│ 2024-08-03 06:50:30     ┆ false      ┆ 61562.5 ┆ 0.24  │\n",
       "│ 2024-08-03 06:50:45     ┆ false      ┆ 61694.7 ┆ 0.224 │\n",
       "│ 2024-08-03 06:51:00     ┆ true       ┆ 61694.7 ┆ 0.0   │\n",
       "│ …                       ┆ …          ┆ …       ┆ …     │\n",
       "│ 2024-08-05 06:49:57.819 ┆ true       ┆ 55011.2 ┆ 0.002 │\n",
       "│ 2024-08-05 06:49:58.424 ┆ false      ┆ 55000.0 ┆ 0.001 │\n",
       "│ 2024-08-05 06:49:59.230 ┆ true       ┆ 55000.1 ┆ 0.002 │\n",
       "│ 2024-08-05 06:50:00.090 ┆ false      ┆ 55000.0 ┆ 0.003 │\n",
       "│ 2024-08-05 06:50:00.121 ┆ false      ┆ 55000.0 ┆ 0.224 │\n",
       "└─────────────────────────┴────────────┴─────────┴───────┘"
      ]
     },
     "execution_count": 11,
     "metadata": {},
     "output_type": "execute_result"
    }
   ],
   "source": [
    "db_df = market._select_db_trades(0, 0) \n",
    "db_df"
   ]
  },
  {
   "cell_type": "code",
   "execution_count": 7,
   "metadata": {},
   "outputs": [
    {
     "name": "stdout",
     "output_type": "stream",
     "text": [
      "8131 2024-08-04 00:00:15 2024-08-05 06:35:05.089000\n"
     ]
    }
   ],
   "source": [
    "db_start = db_df['timestamp'].min()\n",
    "db_end = db_df['timestamp'].max()\n",
    "db_count = db_df.shape[0]\n",
    "\n",
    "print(db_count, db_start, db_end)"
   ]
  },
  {
   "cell_type": "code",
   "execution_count": 14,
   "metadata": {},
   "outputs": [
    {
     "data": {
      "text/plain": [
       "80682.00000000001"
      ]
     },
     "execution_count": 14,
     "metadata": {},
     "output_type": "execute_result"
    }
   ],
   "source": [
    "db_df['size'].sum()"
   ]
  },
  {
   "cell_type": "code",
   "execution_count": 9,
   "metadata": {},
   "outputs": [
    {
     "name": "stderr",
     "output_type": "stream",
     "text": [
      "/tmp/ipykernel_406329/1018787624.py:1: DeprecationWarning: `Series._import_from_c` is deprecated. use _import_arrow_from_c; if you are using an extension, please compile it with latest 'pyo3-polars'\n",
      "  market.ohlcv(0, 0, 60)\n"
     ]
    },
    {
     "data": {
      "text/html": [
       "<div><style>\n",
       ".dataframe > thead > tr,\n",
       ".dataframe > tbody > tr {\n",
       "  text-align: right;\n",
       "  white-space: pre-wrap;\n",
       "}\n",
       "</style>\n",
       "<small>shape: (2_916, 7)</small><table border=\"1\" class=\"dataframe\"><thead><tr><th>timestamp</th><th>open</th><th>high</th><th>low</th><th>close</th><th>volume</th><th>count</th></tr><tr><td>datetime[μs]</td><td>f64</td><td>f64</td><td>f64</td><td>f64</td><td>f64</td><td>u32</td></tr></thead><tbody><tr><td>2024-08-03 06:50:00</td><td>61562.5</td><td>61756.0</td><td>61562.5</td><td>61694.7</td><td>0.944</td><td>4</td></tr><tr><td>2024-08-03 06:51:00</td><td>61694.7</td><td>61694.7</td><td>61694.7</td><td>61694.7</td><td>0.0</td><td>4</td></tr><tr><td>2024-08-03 06:52:00</td><td>61694.7</td><td>61913.8</td><td>61575.9</td><td>61744.8</td><td>2.084</td><td>4</td></tr><tr><td>2024-08-03 06:53:00</td><td>61744.8</td><td>61762.9</td><td>61744.8</td><td>61750.5</td><td>0.069</td><td>4</td></tr><tr><td>2024-08-03 06:54:00</td><td>61750.5</td><td>61913.8</td><td>61744.8</td><td>61744.8</td><td>0.154</td><td>4</td></tr><tr><td>&hellip;</td><td>&hellip;</td><td>&hellip;</td><td>&hellip;</td><td>&hellip;</td><td>&hellip;</td><td>&hellip;</td></tr><tr><td>2024-08-05 07:21:00</td><td>55018.0</td><td>55210.6</td><td>55000.0</td><td>55000.0</td><td>10.414</td><td>88</td></tr><tr><td>2024-08-05 07:22:00</td><td>55018.0</td><td>55312.5</td><td>55000.0</td><td>55000.0</td><td>9.177</td><td>111</td></tr><tr><td>2024-08-05 07:23:00</td><td>55018.0</td><td>56250.0</td><td>55000.0</td><td>55010.1</td><td>14.842</td><td>187</td></tr><tr><td>2024-08-05 07:24:00</td><td>55036.0</td><td>55228.6</td><td>55000.0</td><td>55000.0</td><td>4.828</td><td>117</td></tr><tr><td>2024-08-05 07:25:00</td><td>55000.1</td><td>55036.0</td><td>55000.0</td><td>55010.0</td><td>3.355</td><td>89</td></tr></tbody></table></div>"
      ],
      "text/plain": [
       "shape: (2_916, 7)\n",
       "┌─────────────────────┬─────────┬─────────┬─────────┬─────────┬────────┬───────┐\n",
       "│ timestamp           ┆ open    ┆ high    ┆ low     ┆ close   ┆ volume ┆ count │\n",
       "│ ---                 ┆ ---     ┆ ---     ┆ ---     ┆ ---     ┆ ---    ┆ ---   │\n",
       "│ datetime[μs]        ┆ f64     ┆ f64     ┆ f64     ┆ f64     ┆ f64    ┆ u32   │\n",
       "╞═════════════════════╪═════════╪═════════╪═════════╪═════════╪════════╪═══════╡\n",
       "│ 2024-08-03 06:50:00 ┆ 61562.5 ┆ 61756.0 ┆ 61562.5 ┆ 61694.7 ┆ 0.944  ┆ 4     │\n",
       "│ 2024-08-03 06:51:00 ┆ 61694.7 ┆ 61694.7 ┆ 61694.7 ┆ 61694.7 ┆ 0.0    ┆ 4     │\n",
       "│ 2024-08-03 06:52:00 ┆ 61694.7 ┆ 61913.8 ┆ 61575.9 ┆ 61744.8 ┆ 2.084  ┆ 4     │\n",
       "│ 2024-08-03 06:53:00 ┆ 61744.8 ┆ 61762.9 ┆ 61744.8 ┆ 61750.5 ┆ 0.069  ┆ 4     │\n",
       "│ 2024-08-03 06:54:00 ┆ 61750.5 ┆ 61913.8 ┆ 61744.8 ┆ 61744.8 ┆ 0.154  ┆ 4     │\n",
       "│ …                   ┆ …       ┆ …       ┆ …       ┆ …       ┆ …      ┆ …     │\n",
       "│ 2024-08-05 07:21:00 ┆ 55018.0 ┆ 55210.6 ┆ 55000.0 ┆ 55000.0 ┆ 10.414 ┆ 88    │\n",
       "│ 2024-08-05 07:22:00 ┆ 55018.0 ┆ 55312.5 ┆ 55000.0 ┆ 55000.0 ┆ 9.177  ┆ 111   │\n",
       "│ 2024-08-05 07:23:00 ┆ 55018.0 ┆ 56250.0 ┆ 55000.0 ┆ 55010.1 ┆ 14.842 ┆ 187   │\n",
       "│ 2024-08-05 07:24:00 ┆ 55036.0 ┆ 55228.6 ┆ 55000.0 ┆ 55000.0 ┆ 4.828  ┆ 117   │\n",
       "│ 2024-08-05 07:25:00 ┆ 55000.1 ┆ 55036.0 ┆ 55000.0 ┆ 55010.0 ┆ 3.355  ┆ 89    │\n",
       "└─────────────────────┴─────────┴─────────┴─────────┴─────────┴────────┴───────┘"
      ]
     },
     "execution_count": 9,
     "metadata": {},
     "output_type": "execute_result"
    }
   ],
   "source": [
    "market.ohlcv(0, 0, 60)"
   ]
  },
  {
   "cell_type": "code",
   "execution_count": 10,
   "metadata": {},
   "outputs": [
    {
     "name": "stderr",
     "output_type": "stream",
     "text": [
      "/tmp/ipykernel_406329/602141635.py:1: DeprecationWarning: `Series._import_from_c` is deprecated. use _import_arrow_from_c; if you are using an extension, please compile it with latest 'pyo3-polars'\n",
      "  market.ohlcv(0, 0, 60)['volume'].sum()\n"
     ]
    },
    {
     "data": {
      "text/plain": [
       "87077.182"
      ]
     },
     "execution_count": 10,
     "metadata": {},
     "output_type": "execute_result"
    }
   ],
   "source": [
    "market.ohlcv(0, 0, 60)['volume'].sum()"
   ]
  },
  {
   "cell_type": "code",
   "execution_count": 9,
   "metadata": {},
   "outputs": [
    {
     "ename": "RuntimeError",
     "evalue": "no data in archive from 19700101 -> to 19700101",
     "output_type": "error",
     "traceback": [
      "\u001b[0;31m---------------------------------------------------------------------------\u001b[0m",
      "\u001b[0;31mRuntimeError\u001b[0m                              Traceback (most recent call last)",
      "Cell \u001b[0;32mIn[9], line 1\u001b[0m\n\u001b[0;32m----> 1\u001b[0m ac_df \u001b[38;5;241m=\u001b[39m \u001b[43mmarket\u001b[49m\u001b[38;5;241;43m.\u001b[39;49m\u001b[43m_select_archive_trades\u001b[49m\u001b[43m(\u001b[49m\u001b[38;5;241;43m0\u001b[39;49m\u001b[43m,\u001b[49m\u001b[43m \u001b[49m\u001b[38;5;241;43m0\u001b[39;49m\u001b[43m)\u001b[49m\n\u001b[1;32m      3\u001b[0m ac_start \u001b[38;5;241m=\u001b[39m ac_df[\u001b[38;5;124m'\u001b[39m\u001b[38;5;124mtimestamp\u001b[39m\u001b[38;5;124m'\u001b[39m]\u001b[38;5;241m.\u001b[39mmin()\n\u001b[1;32m      4\u001b[0m ac_end \u001b[38;5;241m=\u001b[39m ac_df[\u001b[38;5;124m'\u001b[39m\u001b[38;5;124mtimestamp\u001b[39m\u001b[38;5;124m'\u001b[39m]\u001b[38;5;241m.\u001b[39mmax()\n",
      "\u001b[0;31mRuntimeError\u001b[0m: no data in archive from 19700101 -> to 19700101"
     ]
    }
   ],
   "source": [
    "ac_df = market._select_archive_trades(0, 0)\n",
    "\n",
    "ac_start = ac_df['timestamp'].min()\n",
    "ac_end = ac_df['timestamp'].max()\n",
    "ac_count = ac_df.shape[0]\n",
    "\n",
    "print(ac_count, ac_start, ac_end)"
   ]
  },
  {
   "cell_type": "code",
   "execution_count": 12,
   "metadata": {},
   "outputs": [
    {
     "name": "stderr",
     "output_type": "stream",
     "text": [
      "/tmp/ipykernel_398161/3485302553.py:7: DeprecationWarning: `Series._import_from_c` is deprecated. use _import_arrow_from_c; if you are using an extension, please compile it with latest 'pyo3-polars'\n",
      "  ohlcv = market.ohlcvv(start, end, 1)\n"
     ]
    },
    {
     "data": {
      "text/html": [
       "<div><style>\n",
       ".dataframe > thead > tr,\n",
       ".dataframe > tbody > tr {\n",
       "  text-align: right;\n",
       "  white-space: pre-wrap;\n",
       "}\n",
       "</style>\n",
       "<small>shape: (166, 10)</small><table border=\"1\" class=\"dataframe\"><thead><tr><th>order_side</th><th>timestamp</th><th>open</th><th>high</th><th>low</th><th>close</th><th>volume</th><th>count</th><th>start_time</th><th>end_time</th></tr><tr><td>bool</td><td>datetime[μs]</td><td>f64</td><td>f64</td><td>f64</td><td>f64</td><td>f64</td><td>u32</td><td>i64</td><td>i64</td></tr></thead><tbody><tr><td>true</td><td>2024-08-05 06:47:02</td><td>55010.0</td><td>55010.0</td><td>55010.0</td><td>55010.0</td><td>0.002</td><td>1</td><td>1722840422441000</td><td>1722840422441000</td></tr><tr><td>false</td><td>2024-08-05 06:47:02</td><td>55000.0</td><td>55000.0</td><td>55000.0</td><td>55000.0</td><td>0.001</td><td>1</td><td>1722840422858000</td><td>1722840422858000</td></tr><tr><td>false</td><td>2024-08-05 06:47:05</td><td>55000.0</td><td>55000.0</td><td>55000.0</td><td>55000.0</td><td>0.001</td><td>1</td><td>1722840425423000</td><td>1722840425423000</td></tr><tr><td>false</td><td>2024-08-05 06:47:06</td><td>55000.0</td><td>55000.0</td><td>55000.0</td><td>55000.0</td><td>0.002</td><td>1</td><td>1722840426602000</td><td>1722840426602000</td></tr><tr><td>true</td><td>2024-08-05 06:47:07</td><td>55001.2</td><td>55001.2</td><td>55001.2</td><td>55001.2</td><td>0.001</td><td>1</td><td>1722840427630000</td><td>1722840427630000</td></tr><tr><td>&hellip;</td><td>&hellip;</td><td>&hellip;</td><td>&hellip;</td><td>&hellip;</td><td>&hellip;</td><td>&hellip;</td><td>&hellip;</td><td>&hellip;</td><td>&hellip;</td></tr><tr><td>false</td><td>2024-08-05 06:49:56</td><td>55000.0</td><td>55000.0</td><td>55000.0</td><td>55000.0</td><td>0.001</td><td>1</td><td>1722840596230000</td><td>1722840596230000</td></tr><tr><td>true</td><td>2024-08-05 06:49:57</td><td>55045.9</td><td>55045.9</td><td>55011.2</td><td>55011.2</td><td>0.224</td><td>3</td><td>1722840597819000</td><td>1722840597819000</td></tr><tr><td>false</td><td>2024-08-05 06:49:58</td><td>55000.0</td><td>55000.0</td><td>55000.0</td><td>55000.0</td><td>0.001</td><td>1</td><td>1722840598424000</td><td>1722840598424000</td></tr><tr><td>true</td><td>2024-08-05 06:49:59</td><td>55000.1</td><td>55000.1</td><td>55000.1</td><td>55000.1</td><td>0.002</td><td>1</td><td>1722840599230000</td><td>1722840599230000</td></tr><tr><td>false</td><td>2024-08-05 06:50:00</td><td>55000.0</td><td>55000.0</td><td>55000.0</td><td>55000.0</td><td>0.227</td><td>2</td><td>1722840600090000</td><td>1722840600121000</td></tr></tbody></table></div>"
      ],
      "text/plain": [
       "shape: (166, 10)\n",
       "┌────────────┬──────────────┬─────────┬─────────┬───┬────────┬───────┬──────────────┬──────────────┐\n",
       "│ order_side ┆ timestamp    ┆ open    ┆ high    ┆ … ┆ volume ┆ count ┆ start_time   ┆ end_time     │\n",
       "│ ---        ┆ ---          ┆ ---     ┆ ---     ┆   ┆ ---    ┆ ---   ┆ ---          ┆ ---          │\n",
       "│ bool       ┆ datetime[μs] ┆ f64     ┆ f64     ┆   ┆ f64    ┆ u32   ┆ i64          ┆ i64          │\n",
       "╞════════════╪══════════════╪═════════╪═════════╪═══╪════════╪═══════╪══════════════╪══════════════╡\n",
       "│ true       ┆ 2024-08-05   ┆ 55010.0 ┆ 55010.0 ┆ … ┆ 0.002  ┆ 1     ┆ 172284042244 ┆ 172284042244 │\n",
       "│            ┆ 06:47:02     ┆         ┆         ┆   ┆        ┆       ┆ 1000         ┆ 1000         │\n",
       "│ false      ┆ 2024-08-05   ┆ 55000.0 ┆ 55000.0 ┆ … ┆ 0.001  ┆ 1     ┆ 172284042285 ┆ 172284042285 │\n",
       "│            ┆ 06:47:02     ┆         ┆         ┆   ┆        ┆       ┆ 8000         ┆ 8000         │\n",
       "│ false      ┆ 2024-08-05   ┆ 55000.0 ┆ 55000.0 ┆ … ┆ 0.001  ┆ 1     ┆ 172284042542 ┆ 172284042542 │\n",
       "│            ┆ 06:47:05     ┆         ┆         ┆   ┆        ┆       ┆ 3000         ┆ 3000         │\n",
       "│ false      ┆ 2024-08-05   ┆ 55000.0 ┆ 55000.0 ┆ … ┆ 0.002  ┆ 1     ┆ 172284042660 ┆ 172284042660 │\n",
       "│            ┆ 06:47:06     ┆         ┆         ┆   ┆        ┆       ┆ 2000         ┆ 2000         │\n",
       "│ true       ┆ 2024-08-05   ┆ 55001.2 ┆ 55001.2 ┆ … ┆ 0.001  ┆ 1     ┆ 172284042763 ┆ 172284042763 │\n",
       "│            ┆ 06:47:07     ┆         ┆         ┆   ┆        ┆       ┆ 0000         ┆ 0000         │\n",
       "│ …          ┆ …            ┆ …       ┆ …       ┆ … ┆ …      ┆ …     ┆ …            ┆ …            │\n",
       "│ false      ┆ 2024-08-05   ┆ 55000.0 ┆ 55000.0 ┆ … ┆ 0.001  ┆ 1     ┆ 172284059623 ┆ 172284059623 │\n",
       "│            ┆ 06:49:56     ┆         ┆         ┆   ┆        ┆       ┆ 0000         ┆ 0000         │\n",
       "│ true       ┆ 2024-08-05   ┆ 55045.9 ┆ 55045.9 ┆ … ┆ 0.224  ┆ 3     ┆ 172284059781 ┆ 172284059781 │\n",
       "│            ┆ 06:49:57     ┆         ┆         ┆   ┆        ┆       ┆ 9000         ┆ 9000         │\n",
       "│ false      ┆ 2024-08-05   ┆ 55000.0 ┆ 55000.0 ┆ … ┆ 0.001  ┆ 1     ┆ 172284059842 ┆ 172284059842 │\n",
       "│            ┆ 06:49:58     ┆         ┆         ┆   ┆        ┆       ┆ 4000         ┆ 4000         │\n",
       "│ true       ┆ 2024-08-05   ┆ 55000.1 ┆ 55000.1 ┆ … ┆ 0.002  ┆ 1     ┆ 172284059923 ┆ 172284059923 │\n",
       "│            ┆ 06:49:59     ┆         ┆         ┆   ┆        ┆       ┆ 0000         ┆ 0000         │\n",
       "│ false      ┆ 2024-08-05   ┆ 55000.0 ┆ 55000.0 ┆ … ┆ 0.227  ┆ 2     ┆ 172284060009 ┆ 172284060012 │\n",
       "│            ┆ 06:50:00     ┆         ┆         ┆   ┆        ┆       ┆ 0000         ┆ 1000         │\n",
       "└────────────┴──────────────┴─────────┴─────────┴───┴────────┴───────┴──────────────┴──────────────┘"
      ]
     },
     "execution_count": 12,
     "metadata": {},
     "output_type": "execute_result"
    }
   ],
   "source": [
    "from rbot import NOW, HHMM\n",
    "\n",
    "now = NOW()\n",
    "start = now- HHMM(0, 10)\n",
    "end = now - HHMM(0, 1)\n",
    "\n",
    "ohlcv = market.ohlcvv(start, end, 1) \n",
    "ohlcv"
   ]
  },
  {
   "cell_type": "code",
   "execution_count": 13,
   "metadata": {},
   "outputs": [
    {
     "data": {
      "text/plain": [
       "10491.097000000002"
      ]
     },
     "execution_count": 13,
     "metadata": {},
     "output_type": "execute_result"
    }
   ],
   "source": [
    "ohlcv['volume'].sum()"
   ]
  },
  {
   "cell_type": "code",
   "execution_count": 10,
   "metadata": {},
   "outputs": [
    {
     "name": "stderr",
     "output_type": "stream",
     "text": [
      "/tmp/ipykernel_392061/1760720729.py:1: DeprecationWarning: `Series._import_from_c` is deprecated. use _import_arrow_from_c; if you are using an extension, please compile it with latest 'pyo3-polars'\n",
      "  market.select_trades(1722786222605000, 1722786223530000+1),\n"
     ]
    },
    {
     "data": {
      "text/plain": [
       "(shape: (0, 4)\n",
       " ┌──────────────┬────────────┬───────┬──────┐\n",
       " │ timestamp    ┆ order_side ┆ price ┆ size │\n",
       " │ ---          ┆ ---        ┆ ---   ┆ ---  │\n",
       " │ datetime[μs] ┆ bool       ┆ f64   ┆ f64  │\n",
       " ╞══════════════╪════════════╪═══════╪══════╡\n",
       " └──────────────┴────────────┴───────┴──────┘,)"
      ]
     },
     "execution_count": 10,
     "metadata": {},
     "output_type": "execute_result"
    }
   ],
   "source": [
    "market.select_trades(1722786222605000, 1722786223530000+1), "
   ]
  },
  {
   "cell_type": "code",
   "execution_count": 17,
   "metadata": {},
   "outputs": [
    {
     "name": "stdout",
     "output_type": "stream",
     "text": [
      "1722838225143000 1722839806002000\n"
     ]
    }
   ],
   "source": [
    " d_start, d_end  = market._download_latest()\n",
    " \n",
    " print(d_start, d_end)"
   ]
  },
  {
   "cell_type": "code",
   "execution_count": 18,
   "metadata": {},
   "outputs": [
    {
     "name": "stderr",
     "output_type": "stream",
     "text": [
      "/tmp/ipykernel_392061/2837528972.py:1: DeprecationWarning: `Series._import_from_c` is deprecated. use _import_arrow_from_c; if you are using an extension, please compile it with latest 'pyo3-polars'\n",
      "  market.select_trades(d_start, d_end)\n"
     ]
    },
    {
     "data": {
      "text/html": [
       "<div><style>\n",
       ".dataframe > thead > tr,\n",
       ".dataframe > tbody > tr {\n",
       "  text-align: right;\n",
       "  white-space: pre-wrap;\n",
       "}\n",
       "</style>\n",
       "<small>shape: (1_015, 4)</small><table border=\"1\" class=\"dataframe\"><thead><tr><th>timestamp</th><th>order_side</th><th>price</th><th>size</th></tr><tr><td>datetime[μs]</td><td>bool</td><td>f64</td><td>f64</td></tr></thead><tbody><tr><td>2024-08-05 06:10:25.143</td><td>false</td><td>55680.0</td><td>0.114</td></tr><tr><td>2024-08-05 06:10:25.143</td><td>false</td><td>55753.5</td><td>0.001</td></tr><tr><td>2024-08-05 06:10:25.143</td><td>false</td><td>55767.0</td><td>0.003</td></tr><tr><td>2024-08-05 06:10:25.143</td><td>false</td><td>55781.2</td><td>0.214</td></tr><tr><td>2024-08-05 06:10:25.143</td><td>false</td><td>55788.7</td><td>0.004</td></tr><tr><td>&hellip;</td><td>&hellip;</td><td>&hellip;</td><td>&hellip;</td></tr><tr><td>2024-08-05 06:36:26.578</td><td>false</td><td>55000.0</td><td>0.002</td></tr><tr><td>2024-08-05 06:36:38.791</td><td>true</td><td>55022.3</td><td>0.001</td></tr><tr><td>2024-08-05 06:36:38.791</td><td>true</td><td>55011.2</td><td>0.001</td></tr><tr><td>2024-08-05 06:36:44.997</td><td>false</td><td>55000.0</td><td>0.001</td></tr><tr><td>2024-08-05 06:36:44.997</td><td>false</td><td>55010.0</td><td>0.001</td></tr></tbody></table></div>"
      ],
      "text/plain": [
       "shape: (1_015, 4)\n",
       "┌─────────────────────────┬────────────┬─────────┬───────┐\n",
       "│ timestamp               ┆ order_side ┆ price   ┆ size  │\n",
       "│ ---                     ┆ ---        ┆ ---     ┆ ---   │\n",
       "│ datetime[μs]            ┆ bool       ┆ f64     ┆ f64   │\n",
       "╞═════════════════════════╪════════════╪═════════╪═══════╡\n",
       "│ 2024-08-05 06:10:25.143 ┆ false      ┆ 55680.0 ┆ 0.114 │\n",
       "│ 2024-08-05 06:10:25.143 ┆ false      ┆ 55753.5 ┆ 0.001 │\n",
       "│ 2024-08-05 06:10:25.143 ┆ false      ┆ 55767.0 ┆ 0.003 │\n",
       "│ 2024-08-05 06:10:25.143 ┆ false      ┆ 55781.2 ┆ 0.214 │\n",
       "│ 2024-08-05 06:10:25.143 ┆ false      ┆ 55788.7 ┆ 0.004 │\n",
       "│ …                       ┆ …          ┆ …       ┆ …     │\n",
       "│ 2024-08-05 06:36:26.578 ┆ false      ┆ 55000.0 ┆ 0.002 │\n",
       "│ 2024-08-05 06:36:38.791 ┆ true       ┆ 55022.3 ┆ 0.001 │\n",
       "│ 2024-08-05 06:36:38.791 ┆ true       ┆ 55011.2 ┆ 0.001 │\n",
       "│ 2024-08-05 06:36:44.997 ┆ false      ┆ 55000.0 ┆ 0.001 │\n",
       "│ 2024-08-05 06:36:44.997 ┆ false      ┆ 55010.0 ┆ 0.001 │\n",
       "└─────────────────────────┴────────────┴─────────┴───────┘"
      ]
     },
     "execution_count": 18,
     "metadata": {},
     "output_type": "execute_result"
    }
   ],
   "source": [
    "market.select_trades(d_start, d_end)"
   ]
  },
  {
   "cell_type": "code",
   "execution_count": 19,
   "metadata": {},
   "outputs": [
    {
     "name": "stderr",
     "output_type": "stream",
     "text": [
      "/tmp/ipykernel_392061/3325164895.py:1: DeprecationWarning: `Series._import_from_c` is deprecated. use _import_arrow_from_c; if you are using an extension, please compile it with latest 'pyo3-polars'\n",
      "  raw_df = market.select_trades(d_start, d_end)\n"
     ]
    },
    {
     "data": {
      "text/plain": [
       "2849.016000000004"
      ]
     },
     "execution_count": 19,
     "metadata": {},
     "output_type": "execute_result"
    }
   ],
   "source": [
    "raw_df = market.select_trades(d_start, d_end)\n",
    "raw_df\n",
    "\n",
    "raw_df['size'].sum()"
   ]
  },
  {
   "cell_type": "code",
   "execution_count": 20,
   "metadata": {},
   "outputs": [
    {
     "name": "stderr",
     "output_type": "stream",
     "text": [
      "/tmp/ipykernel_392061/2919186080.py:1: DeprecationWarning: `Series._import_from_c` is deprecated. use _import_arrow_from_c; if you are using an extension, please compile it with latest 'pyo3-polars'\n",
      "  latest_df = market.ohlcv(d_start, d_end, 1)\n"
     ]
    },
    {
     "data": {
      "text/html": [
       "<div><style>\n",
       ".dataframe > thead > tr,\n",
       ".dataframe > tbody > tr {\n",
       "  text-align: right;\n",
       "  white-space: pre-wrap;\n",
       "}\n",
       "</style>\n",
       "<small>shape: (504, 7)</small><table border=\"1\" class=\"dataframe\"><thead><tr><th>timestamp</th><th>open</th><th>high</th><th>low</th><th>close</th><th>volume</th><th>count</th></tr><tr><td>datetime[μs]</td><td>f64</td><td>f64</td><td>f64</td><td>f64</td><td>f64</td><td>u32</td></tr></thead><tbody><tr><td>2024-08-05 06:10:00</td><td>56677.5</td><td>56677.5</td><td>56677.5</td><td>56677.5</td><td>1602.85</td><td>1</td></tr><tr><td>2024-08-05 06:10:15</td><td>56712.7</td><td>56712.7</td><td>56712.7</td><td>56712.7</td><td>1602.85</td><td>1</td></tr><tr><td>2024-08-05 06:10:25</td><td>56712.7</td><td>56712.7</td><td>55000.0</td><td>55000.0</td><td>833.625</td><td>68</td></tr><tr><td>2024-08-05 06:10:26</td><td>55000.0</td><td>55000.0</td><td>55000.0</td><td>55000.0</td><td>595.162</td><td>6</td></tr><tr><td>2024-08-05 06:10:28</td><td>55000.1</td><td>55000.1</td><td>55000.0</td><td>55000.0</td><td>568.165</td><td>7</td></tr><tr><td>&hellip;</td><td>&hellip;</td><td>&hellip;</td><td>&hellip;</td><td>&hellip;</td><td>&hellip;</td><td>&hellip;</td></tr><tr><td>2024-08-05 06:36:16</td><td>55011.2</td><td>55011.2</td><td>55011.2</td><td>55011.2</td><td>0.002</td><td>1</td></tr><tr><td>2024-08-05 06:36:19</td><td>55000.0</td><td>55010.0</td><td>55000.0</td><td>55010.0</td><td>0.002</td><td>2</td></tr><tr><td>2024-08-05 06:36:26</td><td>55011.2</td><td>55011.2</td><td>55000.0</td><td>55000.0</td><td>0.004</td><td>3</td></tr><tr><td>2024-08-05 06:36:38</td><td>55022.3</td><td>55022.3</td><td>55011.2</td><td>55011.2</td><td>0.002</td><td>2</td></tr><tr><td>2024-08-05 06:36:44</td><td>55000.0</td><td>55010.0</td><td>55000.0</td><td>55010.0</td><td>0.002</td><td>2</td></tr></tbody></table></div>"
      ],
      "text/plain": [
       "shape: (504, 7)\n",
       "┌─────────────────────┬─────────┬─────────┬─────────┬─────────┬─────────┬───────┐\n",
       "│ timestamp           ┆ open    ┆ high    ┆ low     ┆ close   ┆ volume  ┆ count │\n",
       "│ ---                 ┆ ---     ┆ ---     ┆ ---     ┆ ---     ┆ ---     ┆ ---   │\n",
       "│ datetime[μs]        ┆ f64     ┆ f64     ┆ f64     ┆ f64     ┆ f64     ┆ u32   │\n",
       "╞═════════════════════╪═════════╪═════════╪═════════╪═════════╪═════════╪═══════╡\n",
       "│ 2024-08-05 06:10:00 ┆ 56677.5 ┆ 56677.5 ┆ 56677.5 ┆ 56677.5 ┆ 1602.85 ┆ 1     │\n",
       "│ 2024-08-05 06:10:15 ┆ 56712.7 ┆ 56712.7 ┆ 56712.7 ┆ 56712.7 ┆ 1602.85 ┆ 1     │\n",
       "│ 2024-08-05 06:10:25 ┆ 56712.7 ┆ 56712.7 ┆ 55000.0 ┆ 55000.0 ┆ 833.625 ┆ 68    │\n",
       "│ 2024-08-05 06:10:26 ┆ 55000.0 ┆ 55000.0 ┆ 55000.0 ┆ 55000.0 ┆ 595.162 ┆ 6     │\n",
       "│ 2024-08-05 06:10:28 ┆ 55000.1 ┆ 55000.1 ┆ 55000.0 ┆ 55000.0 ┆ 568.165 ┆ 7     │\n",
       "│ …                   ┆ …       ┆ …       ┆ …       ┆ …       ┆ …       ┆ …     │\n",
       "│ 2024-08-05 06:36:16 ┆ 55011.2 ┆ 55011.2 ┆ 55011.2 ┆ 55011.2 ┆ 0.002   ┆ 1     │\n",
       "│ 2024-08-05 06:36:19 ┆ 55000.0 ┆ 55010.0 ┆ 55000.0 ┆ 55010.0 ┆ 0.002   ┆ 2     │\n",
       "│ 2024-08-05 06:36:26 ┆ 55011.2 ┆ 55011.2 ┆ 55000.0 ┆ 55000.0 ┆ 0.004   ┆ 3     │\n",
       "│ 2024-08-05 06:36:38 ┆ 55022.3 ┆ 55022.3 ┆ 55011.2 ┆ 55011.2 ┆ 0.002   ┆ 2     │\n",
       "│ 2024-08-05 06:36:44 ┆ 55000.0 ┆ 55010.0 ┆ 55000.0 ┆ 55010.0 ┆ 0.002   ┆ 2     │\n",
       "└─────────────────────┴─────────┴─────────┴─────────┴─────────┴─────────┴───────┘"
      ]
     },
     "execution_count": 20,
     "metadata": {},
     "output_type": "execute_result"
    }
   ],
   "source": [
    "latest_df = market.ohlcv(d_start, d_end, 1)\n",
    "latest_df"
   ]
  },
  {
   "cell_type": "code",
   "execution_count": 21,
   "metadata": {},
   "outputs": [
    {
     "data": {
      "text/plain": [
       "1018"
      ]
     },
     "execution_count": 21,
     "metadata": {},
     "output_type": "execute_result"
    }
   ],
   "source": [
    "latest_df['count'].sum()"
   ]
  },
  {
   "cell_type": "code",
   "execution_count": 22,
   "metadata": {},
   "outputs": [
    {
     "data": {
      "text/plain": [
       "6055.163000000023"
      ]
     },
     "execution_count": 22,
     "metadata": {},
     "output_type": "execute_result"
    }
   ],
   "source": [
    "latest_df['volume'].sum()"
   ]
  },
  {
   "cell_type": "code",
   "execution_count": null,
   "metadata": {},
   "outputs": [],
   "source": [
    "from rbot import time_string\n",
    "\n",
    "market._download_latest(verbose=True)\n"
   ]
  },
  {
   "cell_type": "code",
   "execution_count": null,
   "metadata": {},
   "outputs": [],
   "source": [
    "market.select_db_trades(0, 0)"
   ]
  },
  {
   "cell_type": "code",
   "execution_count": null,
   "metadata": {},
   "outputs": [],
   "source": [
    "market._download_range(0, 1722705721849000, True)"
   ]
  },
  {
   "cell_type": "code",
   "execution_count": null,
   "metadata": {},
   "outputs": [],
   "source": [
    "from rbot import NOW, DAYS, HHMM, time_string\n",
    "\n",
    "from rbot import init_debug_log\n",
    "\n",
    "init_debug_log()\n",
    "\n",
    "\n",
    "\n",
    "latest_trade = market.latest_db_rec(0)\n",
    "last_bootup = market.last_db_sequence_start_rec()\n",
    "\n",
    "gap_th = HHMM(0, 1)\n",
    "\n",
    "\n",
    "if latest_trade == None: \n",
    "    print(\"nodata lets download all\")\n",
    "\n",
    "print(\"latest trade=\", time_string(latest_trade.time))\n",
    "\n",
    "    \n",
    "if latest_trade.time < NOW() - gap_th:\n",
    "    print(\"too old data, lets download all from=\", time_string(latest_trade.time), \"  to\", NOW())\n",
    "\n",
    "if last_bootup:\n",
    "    last_trade = market.latest_db_rec(last_bootup.time)\n",
    "    \n",
    "    print(last_trade)\n",
    "  \n",
    "    print(\"last_bootup=\", time_string(last_bootup.time))\n",
    "    \n",
    "    if last_trade.time  < last_bootup.time - gap_th:\n",
    "        print(\"Big gap, repave from last_boottime from=\", time_string(last_trade.time), \" to=\", time_string(last_bootup.time))\n",
    "    \n",
    "    \n"
   ]
  },
  {
   "cell_type": "code",
   "execution_count": null,
   "metadata": {},
   "outputs": [],
   "source": [
    "market.download_range(0, last_bootup.time, True)"
   ]
  },
  {
   "cell_type": "code",
   "execution_count": null,
   "metadata": {},
   "outputs": [],
   "source": [
    "# check last terminatd time\n",
    "\n",
    "from rbot import HHMM\n",
    "\n",
    "if latest_trade[0].time - HHMM(0, 1) < NOW():\n",
    "    print(\"hae gap\")\n"
   ]
  },
  {
   "cell_type": "code",
   "execution_count": null,
   "metadata": {},
   "outputs": [],
   "source": []
  },
  {
   "cell_type": "code",
   "execution_count": null,
   "metadata": {},
   "outputs": [],
   "source": [
    "market.db_start_up_rec().__str__()"
   ]
  },
  {
   "cell_type": "markdown",
   "metadata": {},
   "source": []
  },
  {
   "cell_type": "code",
   "execution_count": null,
   "metadata": {},
   "outputs": [],
   "source": [
    "market.download_realtime(False, True)\n"
   ]
  },
  {
   "cell_type": "code",
   "execution_count": null,
   "metadata": {},
   "outputs": [],
   "source": [
    "market.download_range(0, 0, True)"
   ]
  },
  {
   "cell_type": "code",
   "execution_count": null,
   "metadata": {},
   "outputs": [],
   "source": [
    "market.start_market_stream()"
   ]
  },
  {
   "cell_type": "code",
   "execution_count": null,
   "metadata": {},
   "outputs": [],
   "source": [
    "\n",
    "market.ohlcv(NOW() - DAYS(1), 0, 60)"
   ]
  },
  {
   "cell_type": "code",
   "execution_count": null,
   "metadata": {},
   "outputs": [],
   "source": []
  }
 ],
 "metadata": {
  "kernelspec": {
   "display_name": ".venv",
   "language": "python",
   "name": "python3"
  },
  "language_info": {
   "codemirror_mode": {
    "name": "ipython",
    "version": 3
   },
   "file_extension": ".py",
   "mimetype": "text/x-python",
   "name": "python",
   "nbconvert_exporter": "python",
   "pygments_lexer": "ipython3",
   "version": "3.10.12"
  }
 },
 "nbformat": 4,
 "nbformat_minor": 2
}
